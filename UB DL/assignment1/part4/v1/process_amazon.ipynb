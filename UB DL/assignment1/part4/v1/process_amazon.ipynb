{
 "cells": [
  {
   "cell_type": "code",
   "execution_count": 1,
   "metadata": {},
   "outputs": [
    {
     "name": "stderr",
     "output_type": "stream",
     "text": [
      "[nltk_data] Downloading package stopwords to\n",
      "[nltk_data]     C:\\Users\\nguye\\AppData\\Roaming\\nltk_data...\n",
      "[nltk_data]   Package stopwords is already up-to-date!\n"
     ]
    },
    {
     "name": "stdout",
     "output_type": "stream",
     "text": [
      "stopwords =  {\"should've\", 'just', 'from', 'where', 'these', 'and', 'before', \"wasn't\", 'by', 'same', 'not', \"couldn't\", \"hasn't\", 'whom', 'been', 'against', 'up', 'again', 'himself', 'or', 'any', 'having', 'wouldn', \"needn't\", 'what', 'i', 'once', 'be', \"you've\", \"aren't\", 'me', 'through', 'my', 'needn', 'because', 'an', 'did', \"don't\", 'shan', 'of', 't', 'haven', 'then', \"wouldn't\", 'own', \"doesn't\", 'weren', 'hers', 'down', 'to', \"you'd\", 'is', \"that'll\", 'nor', 'those', 'if', 'ourselves', 'at', 'y', 'can', 'doesn', 'her', 'until', 'so', 'aren', 'have', 'a', 'no', \"shan't\", 'ain', 'our', \"she's\", 'into', 'm', 'hasn', 'didn', 'for', \"hadn't\", 'more', 'isn', 'too', 'here', 'now', 'yourselves', 'itself', 'out', \"mustn't\", 'yourself', 'do', 'other', 'during', 'both', 'has', 'themselves', 'while', \"isn't\", \"won't\", 'how', 'such', 'mustn', 'all', 'but', 's', 'him', 'don', 'was', 'under', 'shouldn', 'herself', 'won', 'your', 'mightn', 'ours', 'had', 'theirs', 'than', \"mightn't\", 'with', 'some', 'were', 'about', 'few', 'his', 'each', 'wasn', 'in', 'it', 'does', 'off', 've', 'between', 'above', \"you'll\", 'll', 'doing', 'myself', 'why', 'when', 'most', 'this', 'over', 'am', 'only', 'ma', 'its', 'he', 'being', \"you're\", 'hadn', 'below', \"shouldn't\", 'o', 'should', 'couldn', 'very', 'will', \"weren't\", 'on', 'which', 'you', \"it's\", 'yours', \"haven't\", 'they', 'that', \"didn't\", 'are', 'the', 'we', 'them', 'after', 'there', 're', 'further', 'd', 'she', 'their', 'as', 'who'}\n"
     ]
    }
   ],
   "source": [
    "import pandas as pd\n",
    "import os\n",
    "import shutil\n",
    "from wordcloud import WordCloud\n",
    "import nltk\n",
    "from tqdm import tqdm\n",
    "import nltk\n",
    "from nltk.corpus import stopwords\n",
    "nltk.download('stopwords')\n",
    "\n",
    "STOPWORDS = set(stopwords.words(\"english\"))\n",
    "print('stopwords = ', STOPWORDS)\n",
    "\n",
    "import matplotlib.pyplot as plt\n",
    "import re"
   ]
  },
  {
   "cell_type": "code",
   "execution_count": 2,
   "metadata": {},
   "outputs": [],
   "source": [
    "root = os.getcwd()\n",
    "data_path = os.path.join(root, 'dataset', 'amazon_review_full_csv', 'train.csv')\n",
    "assert os.path.exists(data_path), f'data path does not exist {data_path}'"
   ]
  },
  {
   "cell_type": "code",
   "execution_count": 3,
   "metadata": {},
   "outputs": [
    {
     "name": "stdout",
     "output_type": "stream",
     "text": [
      "(3000000, 3)\n"
     ]
    },
    {
     "data": {
      "text/html": [
       "<div>\n",
       "<style scoped>\n",
       "    .dataframe tbody tr th:only-of-type {\n",
       "        vertical-align: middle;\n",
       "    }\n",
       "\n",
       "    .dataframe tbody tr th {\n",
       "        vertical-align: top;\n",
       "    }\n",
       "\n",
       "    .dataframe thead th {\n",
       "        text-align: right;\n",
       "    }\n",
       "</style>\n",
       "<table border=\"1\" class=\"dataframe\">\n",
       "  <thead>\n",
       "    <tr style=\"text-align: right;\">\n",
       "      <th></th>\n",
       "      <th>review</th>\n",
       "      <th>title</th>\n",
       "      <th>body</th>\n",
       "    </tr>\n",
       "  </thead>\n",
       "  <tbody>\n",
       "    <tr>\n",
       "      <th>0</th>\n",
       "      <td>3</td>\n",
       "      <td>more like funchuck</td>\n",
       "      <td>Gave this to my dad for a gag gift after direc...</td>\n",
       "    </tr>\n",
       "    <tr>\n",
       "      <th>1</th>\n",
       "      <td>5</td>\n",
       "      <td>Inspiring</td>\n",
       "      <td>I hope a lot of people hear this cd. We need m...</td>\n",
       "    </tr>\n",
       "    <tr>\n",
       "      <th>2</th>\n",
       "      <td>5</td>\n",
       "      <td>The best soundtrack ever to anything.</td>\n",
       "      <td>I'm reading a lot of reviews saying that this ...</td>\n",
       "    </tr>\n",
       "    <tr>\n",
       "      <th>3</th>\n",
       "      <td>4</td>\n",
       "      <td>Chrono Cross OST</td>\n",
       "      <td>The music of Yasunori Misuda is without questi...</td>\n",
       "    </tr>\n",
       "    <tr>\n",
       "      <th>4</th>\n",
       "      <td>5</td>\n",
       "      <td>Too good to be true</td>\n",
       "      <td>Probably the greatest soundtrack in history! U...</td>\n",
       "    </tr>\n",
       "  </tbody>\n",
       "</table>\n",
       "</div>"
      ],
      "text/plain": [
       "   review                                  title  \\\n",
       "0       3                     more like funchuck   \n",
       "1       5                              Inspiring   \n",
       "2       5  The best soundtrack ever to anything.   \n",
       "3       4                       Chrono Cross OST   \n",
       "4       5                    Too good to be true   \n",
       "\n",
       "                                                body  \n",
       "0  Gave this to my dad for a gag gift after direc...  \n",
       "1  I hope a lot of people hear this cd. We need m...  \n",
       "2  I'm reading a lot of reviews saying that this ...  \n",
       "3  The music of Yasunori Misuda is without questi...  \n",
       "4  Probably the greatest soundtrack in history! U...  "
      ]
     },
     "execution_count": 3,
     "metadata": {},
     "output_type": "execute_result"
    }
   ],
   "source": [
    "df = pd.read_csv(data_path, names = ['review', 'title', 'body'])\n",
    "print(df.shape)\n",
    "df.head()"
   ]
  },
  {
   "cell_type": "markdown",
   "metadata": {},
   "source": [
    "### Cleaning the dataset"
   ]
  },
  {
   "cell_type": "code",
   "execution_count": 4,
   "metadata": {},
   "outputs": [],
   "source": [
    "#Combining the title and body into 1 big text\n",
    "df['text'] = df['title'] + \" \" + df['body']"
   ]
  },
  {
   "cell_type": "code",
   "execution_count": 5,
   "metadata": {},
   "outputs": [],
   "source": [
    "df.drop(['title', 'body'], axis = 1, inplace = True)"
   ]
  },
  {
   "cell_type": "code",
   "execution_count": 6,
   "metadata": {},
   "outputs": [
    {
     "data": {
      "text/html": [
       "<div>\n",
       "<style scoped>\n",
       "    .dataframe tbody tr th:only-of-type {\n",
       "        vertical-align: middle;\n",
       "    }\n",
       "\n",
       "    .dataframe tbody tr th {\n",
       "        vertical-align: top;\n",
       "    }\n",
       "\n",
       "    .dataframe thead th {\n",
       "        text-align: right;\n",
       "    }\n",
       "</style>\n",
       "<table border=\"1\" class=\"dataframe\">\n",
       "  <thead>\n",
       "    <tr style=\"text-align: right;\">\n",
       "      <th></th>\n",
       "      <th>review</th>\n",
       "      <th>text</th>\n",
       "    </tr>\n",
       "  </thead>\n",
       "  <tbody>\n",
       "    <tr>\n",
       "      <th>0</th>\n",
       "      <td>3</td>\n",
       "      <td>more like funchuck Gave this to my dad for a g...</td>\n",
       "    </tr>\n",
       "    <tr>\n",
       "      <th>1</th>\n",
       "      <td>5</td>\n",
       "      <td>Inspiring I hope a lot of people hear this cd....</td>\n",
       "    </tr>\n",
       "    <tr>\n",
       "      <th>2</th>\n",
       "      <td>5</td>\n",
       "      <td>The best soundtrack ever to anything. I'm read...</td>\n",
       "    </tr>\n",
       "    <tr>\n",
       "      <th>3</th>\n",
       "      <td>4</td>\n",
       "      <td>Chrono Cross OST The music of Yasunori Misuda ...</td>\n",
       "    </tr>\n",
       "    <tr>\n",
       "      <th>4</th>\n",
       "      <td>5</td>\n",
       "      <td>Too good to be true Probably the greatest soun...</td>\n",
       "    </tr>\n",
       "  </tbody>\n",
       "</table>\n",
       "</div>"
      ],
      "text/plain": [
       "   review                                               text\n",
       "0       3  more like funchuck Gave this to my dad for a g...\n",
       "1       5  Inspiring I hope a lot of people hear this cd....\n",
       "2       5  The best soundtrack ever to anything. I'm read...\n",
       "3       4  Chrono Cross OST The music of Yasunori Misuda ...\n",
       "4       5  Too good to be true Probably the greatest soun..."
      ]
     },
     "execution_count": 6,
     "metadata": {},
     "output_type": "execute_result"
    }
   ],
   "source": [
    "df.head()"
   ]
  },
  {
   "cell_type": "code",
   "execution_count": 7,
   "metadata": {},
   "outputs": [
    {
     "name": "stdout",
     "output_type": "stream",
     "text": [
      "Dropped NA\n"
     ]
    },
    {
     "data": {
      "text/plain": [
       "review    0\n",
       "text      0\n",
       "dtype: int64"
      ]
     },
     "execution_count": 7,
     "metadata": {},
     "output_type": "execute_result"
    }
   ],
   "source": [
    "df.isna().sum()\n",
    "df.dropna(inplace= True)\n",
    "print(\"Dropped NA\")\n",
    "df.isna().sum()"
   ]
  },
  {
   "cell_type": "code",
   "execution_count": 8,
   "metadata": {},
   "outputs": [
    {
     "name": "stdout",
     "output_type": "stream",
     "text": [
      " here\n",
      "I need to remove punctation  1  2\n"
     ]
    }
   ],
   "source": [
    "def remove_urls(text):\n",
    "    if 'www.' in text or 'http:' in text \\\n",
    "        or 'https:' in text or '.com' in text: \n",
    "        text = re.sub(r\"([^ ]+(?<=\\.[a-z]{3}))\", \"\", text)\n",
    "    return text\n",
    "\n",
    "def remove_punct(text):\n",
    "    return re.sub(r'[^\\w\\s]', '', text)\n",
    "\n",
    "print(remove_urls('www.kaggle.com here'))\n",
    "print(remove_punct('I need, to remove? punctation ? 1 ! 2'))"
   ]
  },
  {
   "cell_type": "code",
   "execution_count": null,
   "metadata": {},
   "outputs": [],
   "source": []
  },
  {
   "cell_type": "code",
   "execution_count": 24,
   "metadata": {},
   "outputs": [
    {
     "name": "stdout",
     "output_type": "stream",
     "text": [
      "['more like funchuck Gave this to my dad for a gag gift after directing \"Nunsense,\" he got a reall kick out of it!'\n",
      " 'Inspiring I hope a lot of people hear this cd. We need more strong and positive vibes like this. Great vocals, fresh tunes, cross-cultural happiness. Her blues is from the gut. The pop sounds are catchy and mature.'\n",
      " \"The best soundtrack ever to anything. I'm reading a lot of reviews saying that this is the best 'game soundtrack' and I figured that I'd write a review to disagree a bit. This in my opinino is Yasunori Mitsuda's ultimate masterpiece. The music is timeless and I'm been listening to it for years now and its beauty simply refuses to fade.The price tag on this is pretty staggering I must say, but if you are going to buy any cd for this much money, this is the only one that I feel would be worth every penny.\"\n",
      " 'Chrono Cross OST The music of Yasunori Misuda is without question my close second below the great Nobuo Uematsu.Chrono Cross OST is a wonderful creation filled with rich orchestra and synthesized sounds. While ambiance is one of the music\\'s major factors, yet at times it\\'s very uplifting and vigorous. Some of my favourite tracks include; \"Scars Left by Time, The Girl who Stole the Stars, and Another World\".'\n",
      " \"Too good to be true Probably the greatest soundtrack in history! Usually it's better to have played the game first but this is so enjoyable anyway! I worked so hard getting this soundtrack and after spending [money] to get it it was really worth every penny!! Get this OST! it's amazing! The first few tracks will have you dancing around with delight (especially Scars Left by Time)!! BUY IT NOW!!\"]\n",
      "\n"
     ]
    },
    {
     "name": "stderr",
     "output_type": "stream",
     "text": [
      "100%|██████████| 2999812/2999812 [09:29<00:00, 5269.56it/s]\n"
     ]
    }
   ],
   "source": [
    "alltext = df['text'].values.copy()\n",
    "print(alltext[:5])\n",
    "print()\n",
    "error_count = 0\n",
    "sentence_list = []\n",
    "possible_words = set()\n",
    "i = 0\n",
    "\n",
    "def process_text(text):\n",
    "    #lower the text\n",
    "    text = text.lower()\n",
    "    #remove words url from text\n",
    "    text = remove_urls(text)\n",
    "    text = remove_punct(text)\n",
    "    #remove stopwords\n",
    "    text = ' '.join([ t for t in text.split() if t not in STOPWORDS])\n",
    "    tokens = ' '.join(nltk.word_tokenize(text))\n",
    "    return tokens\n",
    "\n",
    "tqdm.pandas()\n",
    "df['tokens'] = df['text'].progress_apply(process_text)"
   ]
  },
  {
   "cell_type": "code",
   "execution_count": 25,
   "metadata": {},
   "outputs": [
    {
     "data": {
      "text/html": [
       "<div>\n",
       "<style scoped>\n",
       "    .dataframe tbody tr th:only-of-type {\n",
       "        vertical-align: middle;\n",
       "    }\n",
       "\n",
       "    .dataframe tbody tr th {\n",
       "        vertical-align: top;\n",
       "    }\n",
       "\n",
       "    .dataframe thead th {\n",
       "        text-align: right;\n",
       "    }\n",
       "</style>\n",
       "<table border=\"1\" class=\"dataframe\">\n",
       "  <thead>\n",
       "    <tr style=\"text-align: right;\">\n",
       "      <th></th>\n",
       "      <th>review</th>\n",
       "      <th>text</th>\n",
       "      <th>tokens</th>\n",
       "    </tr>\n",
       "  </thead>\n",
       "  <tbody>\n",
       "    <tr>\n",
       "      <th>0</th>\n",
       "      <td>3</td>\n",
       "      <td>more like funchuck Gave this to my dad for a g...</td>\n",
       "      <td>like,funchuck,gave,dad,gag,gift,directing,nuns...</td>\n",
       "    </tr>\n",
       "    <tr>\n",
       "      <th>1</th>\n",
       "      <td>5</td>\n",
       "      <td>Inspiring I hope a lot of people hear this cd....</td>\n",
       "      <td>inspiring,hope,lot,people,hear,cd,need,strong,...</td>\n",
       "    </tr>\n",
       "    <tr>\n",
       "      <th>2</th>\n",
       "      <td>5</td>\n",
       "      <td>The best soundtrack ever to anything. I'm read...</td>\n",
       "      <td>best,soundtrack,ever,anything,im,reading,lot,r...</td>\n",
       "    </tr>\n",
       "    <tr>\n",
       "      <th>3</th>\n",
       "      <td>4</td>\n",
       "      <td>Chrono Cross OST The music of Yasunori Misuda ...</td>\n",
       "      <td>chrono,cross,ost,music,yasunori,misuda,without...</td>\n",
       "    </tr>\n",
       "    <tr>\n",
       "      <th>4</th>\n",
       "      <td>5</td>\n",
       "      <td>Too good to be true Probably the greatest soun...</td>\n",
       "      <td>good,true,probably,greatest,soundtrack,history...</td>\n",
       "    </tr>\n",
       "  </tbody>\n",
       "</table>\n",
       "</div>"
      ],
      "text/plain": [
       "   review                                               text  \\\n",
       "0       3  more like funchuck Gave this to my dad for a g...   \n",
       "1       5  Inspiring I hope a lot of people hear this cd....   \n",
       "2       5  The best soundtrack ever to anything. I'm read...   \n",
       "3       4  Chrono Cross OST The music of Yasunori Misuda ...   \n",
       "4       5  Too good to be true Probably the greatest soun...   \n",
       "\n",
       "                                              tokens  \n",
       "0  like,funchuck,gave,dad,gag,gift,directing,nuns...  \n",
       "1  inspiring,hope,lot,people,hear,cd,need,strong,...  \n",
       "2  best,soundtrack,ever,anything,im,reading,lot,r...  \n",
       "3  chrono,cross,ost,music,yasunori,misuda,without...  \n",
       "4  good,true,probably,greatest,soundtrack,history...  "
      ]
     },
     "execution_count": 25,
     "metadata": {},
     "output_type": "execute_result"
    }
   ],
   "source": [
    "df.head()"
   ]
  },
  {
   "cell_type": "code",
   "execution_count": 26,
   "metadata": {},
   "outputs": [],
   "source": [
    "path_to_dataset = os.path.join(root, 'dataset', 'processed_amazon_reviews.csv')\n",
    "assert os.path.exists(path_to_dataset), 'path to dataset not found'\n",
    "df.to_csv(path_to_dataset, index = False)"
   ]
  },
  {
   "cell_type": "code",
   "execution_count": null,
   "metadata": {},
   "outputs": [],
   "source": []
  }
 ],
 "metadata": {
  "kernelspec": {
   "display_name": "Python 3.11.1 64-bit",
   "language": "python",
   "name": "python3"
  },
  "language_info": {
   "codemirror_mode": {
    "name": "ipython",
    "version": 3
   },
   "file_extension": ".py",
   "mimetype": "text/x-python",
   "name": "python",
   "nbconvert_exporter": "python",
   "pygments_lexer": "ipython3",
   "version": "3.11.1"
  },
  "vscode": {
   "interpreter": {
    "hash": "054c096e4d4b57417bb781656d4f5218b0e3c2d49c7047d1ff7347fb636be8e8"
   }
  }
 },
 "nbformat": 4,
 "nbformat_minor": 2
}
