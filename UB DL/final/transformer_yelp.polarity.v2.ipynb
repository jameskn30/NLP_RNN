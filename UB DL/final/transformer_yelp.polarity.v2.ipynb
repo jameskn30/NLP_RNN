{
 "cells": [
  {
   "cell_type": "markdown",
   "metadata": {},
   "source": [
    "# Import"
   ]
  },
  {
   "cell_type": "code",
   "execution_count": 1,
   "metadata": {},
   "outputs": [
    {
     "name": "stderr",
     "output_type": "stream",
     "text": [
      "[nltk_data] Downloading package stopwords to\n",
      "[nltk_data]     C:\\Users\\nguye\\AppData\\Roaming\\nltk_data...\n",
      "[nltk_data]   Package stopwords is already up-to-date!\n"
     ]
    },
    {
     "name": "stdout",
     "output_type": "stream",
     "text": [
      "device =  cuda\n"
     ]
    }
   ],
   "source": [
    "import pandas as pd\n",
    "import warnings\n",
    "warnings.simplefilter(action='ignore', category=FutureWarning)\n",
    "import re\n",
    "import contractions\n",
    "import os\n",
    "import seaborn as sns\n",
    "import matplotlib.pyplot as plt\n",
    "import numpy as np\n",
    "import collections\n",
    "import math\n",
    "import pickle\n",
    "\n",
    "\n",
    "import nltk\n",
    "from nltk.corpus import stopwords\n",
    "nltk.download('stopwords')\n",
    "STOPWORDS = set(stopwords.words(\"english\"))\n",
    "\n",
    "import torchtext\n",
    "from torchtext.vocab import build_vocab_from_iterator\n",
    "from torch.nn.utils.rnn import pad_sequence\n",
    "from torch.utils.data import Dataset, DataLoader, random_split \n",
    "from torch import nn\n",
    "import torch \n",
    "\n",
    "from tqdm import tqdm\n",
    "\n",
    "DEVICE = \"cuda\" if torch.cuda.is_available() else \"cpu\"\n",
    "print('device = ', DEVICE)"
   ]
  },
  {
   "cell_type": "markdown",
   "metadata": {},
   "source": [
    "# Hyperparams"
   ]
  },
  {
   "cell_type": "code",
   "execution_count": 2,
   "metadata": {},
   "outputs": [],
   "source": [
    "root = os.getcwd()\n",
    "dataset =  os.path.join(root, 'dataset', 'yelp_review_polarity_csv')\n",
    "#yelp polarity has 2 labels, \n",
    "#yelp dataset has 5 labels, they have the same text content\n",
    "train_datapath = os.path.join(dataset, 'train.csv') \n",
    "test_datapath = os.path.join(dataset, 'test.csv') \n",
    "\n",
    "processed_train_dataset = os.path.join(dataset, 'processed_train_datset.pickle')\n",
    "processed_test_dataset = os.path.join(dataset, 'processed_test_dataset.pickle')\n",
    "vocab_save_path = os.path.join(dataset, 'vocab.pickle')\n",
    "\n",
    "model_save_root = os.path.join(root, 'output', 'transformer')\n",
    "\n",
    "if os.path.exists(model_save_root) == False:\n",
    "    os.makedirs(model_save_root)\n",
    "\n",
    "assert os.path.exists(train_datapath),  f\"train dataset path {train_datapath} not found\"\n",
    "assert os.path.exists(test_datapath),   f\"test dataset path {test_datapath} not found\"\n",
    "\n",
    "BATCH_SIZE = 64\n",
    "\n",
    "sample_size = 0.2"
   ]
  },
  {
   "cell_type": "markdown",
   "metadata": {},
   "source": [
    "# Loading dataset"
   ]
  },
  {
   "cell_type": "code",
   "execution_count": 3,
   "metadata": {},
   "outputs": [
    {
     "name": "stdout",
     "output_type": "stream",
     "text": [
      "(112000, 2)\n",
      "[0 1]\n",
      "review\n",
      "1    56018\n",
      "0    55982\n",
      "Name: count, dtype: int64\n"
     ]
    },
    {
     "data": {
      "text/html": [
       "<div>\n",
       "<style scoped>\n",
       "    .dataframe tbody tr th:only-of-type {\n",
       "        vertical-align: middle;\n",
       "    }\n",
       "\n",
       "    .dataframe tbody tr th {\n",
       "        vertical-align: top;\n",
       "    }\n",
       "\n",
       "    .dataframe thead th {\n",
       "        text-align: right;\n",
       "    }\n",
       "</style>\n",
       "<table border=\"1\" class=\"dataframe\">\n",
       "  <thead>\n",
       "    <tr style=\"text-align: right;\">\n",
       "      <th></th>\n",
       "      <th>review</th>\n",
       "      <th>text</th>\n",
       "    </tr>\n",
       "  </thead>\n",
       "  <tbody>\n",
       "    <tr>\n",
       "      <th>0</th>\n",
       "      <td>0</td>\n",
       "      <td>I found this place on Google for Chinese Food ...</td>\n",
       "    </tr>\n",
       "    <tr>\n",
       "      <th>1</th>\n",
       "      <td>1</td>\n",
       "      <td>There is no surprise this hotel is #1. The pro...</td>\n",
       "    </tr>\n",
       "    <tr>\n",
       "      <th>2</th>\n",
       "      <td>1</td>\n",
       "      <td>Its the closest grocery to my home, but I love...</td>\n",
       "    </tr>\n",
       "    <tr>\n",
       "      <th>3</th>\n",
       "      <td>1</td>\n",
       "      <td>Really great, speedy service. My pineapple fri...</td>\n",
       "    </tr>\n",
       "    <tr>\n",
       "      <th>4</th>\n",
       "      <td>0</td>\n",
       "      <td>Talk about annoying - the wait staff, especial...</td>\n",
       "    </tr>\n",
       "  </tbody>\n",
       "</table>\n",
       "</div>"
      ],
      "text/plain": [
       "   review                                               text\n",
       "0       0  I found this place on Google for Chinese Food ...\n",
       "1       1  There is no surprise this hotel is #1. The pro...\n",
       "2       1  Its the closest grocery to my home, but I love...\n",
       "3       1  Really great, speedy service. My pineapple fri...\n",
       "4       0  Talk about annoying - the wait staff, especial..."
      ]
     },
     "execution_count": 3,
     "metadata": {},
     "output_type": "execute_result"
    }
   ],
   "source": [
    "train_df = pd.read_csv(train_datapath, names = [\"review\",\"text\"])\n",
    "train_df = train_df.sample(frac = sample_size)\n",
    "print(train_df.shape)\n",
    "label_map = {\n",
    "    1: 0,\n",
    "    2: 1,\n",
    "}\n",
    "train_df['review'] = train_df['review'].map(label_map)\n",
    "train_df.reset_index(inplace=True, drop = True)\n",
    "print(train_df['review'].unique())\n",
    "print(train_df['review'].value_counts())\n",
    "train_df.head()"
   ]
  },
  {
   "cell_type": "code",
   "execution_count": 4,
   "metadata": {},
   "outputs": [
    {
     "name": "stdout",
     "output_type": "stream",
     "text": [
      "(38000, 2)\n",
      "review\n",
      "1    19000\n",
      "0    19000\n",
      "Name: count, dtype: int64\n"
     ]
    },
    {
     "data": {
      "text/html": [
       "<div>\n",
       "<style scoped>\n",
       "    .dataframe tbody tr th:only-of-type {\n",
       "        vertical-align: middle;\n",
       "    }\n",
       "\n",
       "    .dataframe tbody tr th {\n",
       "        vertical-align: top;\n",
       "    }\n",
       "\n",
       "    .dataframe thead th {\n",
       "        text-align: right;\n",
       "    }\n",
       "</style>\n",
       "<table border=\"1\" class=\"dataframe\">\n",
       "  <thead>\n",
       "    <tr style=\"text-align: right;\">\n",
       "      <th></th>\n",
       "      <th>review</th>\n",
       "      <th>text</th>\n",
       "    </tr>\n",
       "  </thead>\n",
       "  <tbody>\n",
       "    <tr>\n",
       "      <th>0</th>\n",
       "      <td>1</td>\n",
       "      <td>Contrary to other reviews, I have zero complai...</td>\n",
       "    </tr>\n",
       "    <tr>\n",
       "      <th>1</th>\n",
       "      <td>0</td>\n",
       "      <td>Last summer I had an appointment to get new ti...</td>\n",
       "    </tr>\n",
       "    <tr>\n",
       "      <th>2</th>\n",
       "      <td>1</td>\n",
       "      <td>Friendly staff, same starbucks fair you get an...</td>\n",
       "    </tr>\n",
       "    <tr>\n",
       "      <th>3</th>\n",
       "      <td>0</td>\n",
       "      <td>The food is good. Unfortunately the service is...</td>\n",
       "    </tr>\n",
       "    <tr>\n",
       "      <th>4</th>\n",
       "      <td>1</td>\n",
       "      <td>Even when we didn't have a car Filene's Baseme...</td>\n",
       "    </tr>\n",
       "  </tbody>\n",
       "</table>\n",
       "</div>"
      ],
      "text/plain": [
       "   review                                               text\n",
       "0       1  Contrary to other reviews, I have zero complai...\n",
       "1       0  Last summer I had an appointment to get new ti...\n",
       "2       1  Friendly staff, same starbucks fair you get an...\n",
       "3       0  The food is good. Unfortunately the service is...\n",
       "4       1  Even when we didn't have a car Filene's Baseme..."
      ]
     },
     "execution_count": 4,
     "metadata": {},
     "output_type": "execute_result"
    }
   ],
   "source": [
    "test_df = pd.read_csv(test_datapath, names = [\"review\",\"text\"])\n",
    "label_map = {\n",
    "    1: 0,\n",
    "    2: 1,\n",
    "    3: 2,\n",
    "    4: 3,\n",
    "    5: 4,\n",
    "}\n",
    "test_df['review'] = test_df['review'].map(label_map)\n",
    "print(test_df.shape)\n",
    "test_df.reset_index(inplace=True, drop = True)\n",
    "print(test_df['review'].value_counts())\n",
    "test_df.head()"
   ]
  },
  {
   "cell_type": "markdown",
   "metadata": {},
   "source": [
    "# Cleaning"
   ]
  },
  {
   "cell_type": "code",
   "execution_count": 5,
   "metadata": {},
   "outputs": [
    {
     "data": {
      "text/plain": [
       "'test string special characters punctuations _'"
      ]
     },
     "execution_count": 5,
     "metadata": {},
     "output_type": "execute_result"
    }
   ],
   "source": [
    "# Cleaning Text\n",
    "\n",
    "def remove_urls(text):\n",
    "    #if there's link in text, like www.something.com, https://www.something.com,\n",
    "    # replace it with the <url> token\n",
    "    pattern = re.compile(r'https?://\\S+|www\\.\\S+')\n",
    "    text = pattern.sub(' ', text)\n",
    "    return text\n",
    "\n",
    "def remove_digits(text):\n",
    "    return re.sub(\"\\d\", ' ', text)\n",
    "\n",
    "def remove_punctation(text):\n",
    "    return re.sub(r'[^\\w\\s]',' ',text)\n",
    "\n",
    "def expand_contraction(text):\n",
    "    return contractions.fix(text)\n",
    "\n",
    "def remove_stopwords(text):\n",
    "    return ' '.join([word for word in text.split(' ') if word not in STOPWORDS])\n",
    "\n",
    "def clean_text(text):\n",
    "    '''\n",
    "    extract feature and label from line and process the text\n",
    "    @params:\n",
    "        text: string, format: __label__2 some text.\n",
    "    @return:\n",
    "        feature: string\n",
    "        label: int, 0: bad review, 1 good review\n",
    "    '''\n",
    "    #Each line has format: __label__2 some text.\n",
    "    #The first part is label, the rest is text feature\n",
    "    #lower case the features\n",
    "    text = text.lower()\n",
    "    #start cleaning\n",
    "\n",
    "    #remove urls in text\n",
    "    text = remove_urls(text)\n",
    "    #remove digits\n",
    "    text = remove_digits(text)\n",
    "    # # #expand contractions\n",
    "    text = expand_contraction(text)\n",
    "    # # #remove punctuations\n",
    "    text = remove_punctation(text)\n",
    "    # # #remove stop words\n",
    "    text = remove_stopwords(text)\n",
    "\n",
    "    #after cleaning, there's a letter n that occur most frequently\n",
    "    #this don't make sense so remove a standalone letter n\n",
    "    text = ' '.join(t for t in text.split() if t != '' and t != 'n')\n",
    "    return text.strip()\n",
    "\n",
    "test_string = '''This is a test string. Here are some special characters: &,#,$. How about some punctuations? !@#$%^&*()_+=-`~{[]}|:;'<,>.?/\"|https://www.example.com'''\n",
    "\n",
    "clean_text(test_string)\n"
   ]
  },
  {
   "cell_type": "code",
   "execution_count": 6,
   "metadata": {},
   "outputs": [
    {
     "name": "stdout",
     "output_type": "stream",
     "text": [
      "3729\n"
     ]
    },
    {
     "data": {
      "text/html": [
       "<div>\n",
       "<style scoped>\n",
       "    .dataframe tbody tr th:only-of-type {\n",
       "        vertical-align: middle;\n",
       "    }\n",
       "\n",
       "    .dataframe tbody tr th {\n",
       "        vertical-align: top;\n",
       "    }\n",
       "\n",
       "    .dataframe thead th {\n",
       "        text-align: right;\n",
       "    }\n",
       "</style>\n",
       "<table border=\"1\" class=\"dataframe\">\n",
       "  <thead>\n",
       "    <tr style=\"text-align: right;\">\n",
       "      <th></th>\n",
       "      <th>review</th>\n",
       "      <th>text</th>\n",
       "      <th>lengths</th>\n",
       "    </tr>\n",
       "  </thead>\n",
       "  <tbody>\n",
       "    <tr>\n",
       "      <th>0</th>\n",
       "      <td>0</td>\n",
       "      <td>found place google chinese food delivery miles...</td>\n",
       "      <td>544</td>\n",
       "    </tr>\n",
       "    <tr>\n",
       "      <th>1</th>\n",
       "      <td>1</td>\n",
       "      <td>surprise hotel property amazing location perfe...</td>\n",
       "      <td>206</td>\n",
       "    </tr>\n",
       "    <tr>\n",
       "      <th>2</th>\n",
       "      <td>1</td>\n",
       "      <td>closest grocery home love many reasons tully i...</td>\n",
       "      <td>200</td>\n",
       "    </tr>\n",
       "    <tr>\n",
       "      <th>3</th>\n",
       "      <td>1</td>\n",
       "      <td>really great speedy service pineapple fried ri...</td>\n",
       "      <td>116</td>\n",
       "    </tr>\n",
       "    <tr>\n",
       "      <th>4</th>\n",
       "      <td>0</td>\n",
       "      <td>talk annoying wait staff especially service gi...</td>\n",
       "      <td>964</td>\n",
       "    </tr>\n",
       "  </tbody>\n",
       "</table>\n",
       "</div>"
      ],
      "text/plain": [
       "   review                                               text  lengths\n",
       "0       0  found place google chinese food delivery miles...      544\n",
       "1       1  surprise hotel property amazing location perfe...      206\n",
       "2       1  closest grocery home love many reasons tully i...      200\n",
       "3       1  really great speedy service pineapple fried ri...      116\n",
       "4       0  talk annoying wait staff especially service gi...      964"
      ]
     },
     "execution_count": 6,
     "metadata": {},
     "output_type": "execute_result"
    }
   ],
   "source": [
    "eda_df = train_df.copy()\n",
    "eda_df['text'] = eda_df['text'].apply(lambda s: clean_text(s))\n",
    "eda_df['lengths'] = eda_df['text'].apply(lambda s: len(s))\n",
    "MAX_LENGTH = eda_df['lengths'].max()\n",
    "print(MAX_LENGTH)\n",
    "eda_df.head()"
   ]
  },
  {
   "cell_type": "code",
   "execution_count": 7,
   "metadata": {},
   "outputs": [
    {
     "data": {
      "text/html": [
       "<div>\n",
       "<style scoped>\n",
       "    .dataframe tbody tr th:only-of-type {\n",
       "        vertical-align: middle;\n",
       "    }\n",
       "\n",
       "    .dataframe tbody tr th {\n",
       "        vertical-align: top;\n",
       "    }\n",
       "\n",
       "    .dataframe thead th {\n",
       "        text-align: right;\n",
       "    }\n",
       "</style>\n",
       "<table border=\"1\" class=\"dataframe\">\n",
       "  <thead>\n",
       "    <tr style=\"text-align: right;\">\n",
       "      <th></th>\n",
       "      <th>review</th>\n",
       "      <th>lengths</th>\n",
       "    </tr>\n",
       "  </thead>\n",
       "  <tbody>\n",
       "    <tr>\n",
       "      <th>count</th>\n",
       "      <td>112000.000000</td>\n",
       "      <td>112000.000000</td>\n",
       "    </tr>\n",
       "    <tr>\n",
       "      <th>mean</th>\n",
       "      <td>0.500161</td>\n",
       "      <td>437.379768</td>\n",
       "    </tr>\n",
       "    <tr>\n",
       "      <th>std</th>\n",
       "      <td>0.500002</td>\n",
       "      <td>399.384216</td>\n",
       "    </tr>\n",
       "    <tr>\n",
       "      <th>min</th>\n",
       "      <td>0.000000</td>\n",
       "      <td>0.000000</td>\n",
       "    </tr>\n",
       "    <tr>\n",
       "      <th>25%</th>\n",
       "      <td>0.000000</td>\n",
       "      <td>171.000000</td>\n",
       "    </tr>\n",
       "    <tr>\n",
       "      <th>50%</th>\n",
       "      <td>1.000000</td>\n",
       "      <td>319.000000</td>\n",
       "    </tr>\n",
       "    <tr>\n",
       "      <th>75%</th>\n",
       "      <td>1.000000</td>\n",
       "      <td>569.000000</td>\n",
       "    </tr>\n",
       "    <tr>\n",
       "      <th>max</th>\n",
       "      <td>1.000000</td>\n",
       "      <td>3729.000000</td>\n",
       "    </tr>\n",
       "  </tbody>\n",
       "</table>\n",
       "</div>"
      ],
      "text/plain": [
       "              review        lengths\n",
       "count  112000.000000  112000.000000\n",
       "mean        0.500161     437.379768\n",
       "std         0.500002     399.384216\n",
       "min         0.000000       0.000000\n",
       "25%         0.000000     171.000000\n",
       "50%         1.000000     319.000000\n",
       "75%         1.000000     569.000000\n",
       "max         1.000000    3729.000000"
      ]
     },
     "execution_count": 7,
     "metadata": {},
     "output_type": "execute_result"
    }
   ],
   "source": [
    "# Stats\n",
    "eda_df.describe()\n"
   ]
  },
  {
   "cell_type": "code",
   "execution_count": 8,
   "metadata": {},
   "outputs": [
    {
     "data": {
      "image/png": "[encoded data removed]",
      "text/plain": [
       "<Figure size 1300x500 with 2 Axes>"
      ]
     },
     "metadata": {},
     "output_type": "display_data"
    }
   ],
   "source": [
    "fig, (ax1, ax2) = plt.subplots(1,2,figsize=(13,5))\n",
    "sns.histplot(eda_df, x = 'lengths', ax = ax1)\n",
    "ax1.set_title('histogram of lengths')\n",
    "sns.boxplot(eda_df, x = 'lengths', ax = ax2)\n",
    "ax2.set_title('box plot of lengths')\n",
    "plt.show()"
   ]
  },
  {
   "cell_type": "markdown",
   "metadata": {},
   "source": [
    "# A little EDA"
   ]
  },
  {
   "cell_type": "code",
   "execution_count": 9,
   "metadata": {},
   "outputs": [],
   "source": [
    "# # wordcloud of common words\n",
    "# freq = collections.Counter()\n",
    "\n",
    "# for row in eda_df.iterrows():\n",
    "#     label, text = row[1]\n",
    "#     freq.update(text.split())\n",
    "\n",
    "# print('most frequent words')\n",
    "# print(freq.most_common(10))\n"
   ]
  },
  {
   "cell_type": "code",
   "execution_count": 10,
   "metadata": {},
   "outputs": [
    {
     "data": {
      "image/png": "[encoded data removed]",
      "text/plain": [
       "<Figure size 1300x500 with 2 Axes>"
      ]
     },
     "metadata": {},
     "output_type": "display_data"
    }
   ],
   "source": [
    "# bad_reviews = eda_df.loc[eda_df['review'] == 1]['text'].apply(lambda s: len(s)).values\n",
    "# good_reviews = eda_df.loc[eda_df['review'] == 2]['text'].apply(lambda s: len(s)).values\n",
    "fig, (ax1, ax2) = plt.subplots(1,2,figsize=(13,5))\n",
    "sns.countplot(train_df, x = 'review', ax = ax1)\n",
    "ax1.set_title('train df')\n",
    "sns.countplot(test_df, x = 'review', ax = ax2)\n",
    "ax2.set_title('test df')\n",
    "plt.show()"
   ]
  },
  {
   "cell_type": "markdown",
   "metadata": {},
   "source": [
    "# Prepare data"
   ]
  },
  {
   "cell_type": "code",
   "execution_count": 11,
   "metadata": {},
   "outputs": [],
   "source": [
    "tokenizer = torchtext.data.utils.get_tokenizer(\"basic_english\")\n",
    "\n",
    "def build_array(X, maxlength = 2000):\n",
    "    X_tokens = []\n",
    "    X_lengths = []\n",
    "    for text in tqdm(X):\n",
    "        tokens = tokenizer(text)[:maxlength]\n",
    "        X_tokens.append(tokens)\n",
    "        X_lengths.append(len(tokens))\n",
    "\n",
    "    return X_tokens, X_lengths\n",
    "\n",
    "\n",
    "def get_ids(tokens, vocab):\n",
    "    ids = vocab.lookup_indices(tokens)\n",
    "    return torch.tensor(ids)\n",
    "\n",
    "def build_train_test_data(feature_train, label_train, min_vocab_freq = 2, **kwargs):\n",
    "    train_tokens, train_lengths = build_array(feature_train)\n",
    "\n",
    "    unk_token = '<unk>'\n",
    "    pad_token = '<pad>'\n",
    "    special_tokens = [unk_token, pad_token]\n",
    "\n",
    "    vocab = torchtext.vocab.build_vocab_from_iterator(\n",
    "        train_tokens,\n",
    "        min_freq=min_vocab_freq,\n",
    "        specials=special_tokens,\n",
    "    )\n",
    "\n",
    "    unk_id = vocab[unk_token]\n",
    "    pad_id = vocab[unk_token]\n",
    "\n",
    "    vocab.set_default_index(unk_id)\n",
    "\n",
    "    print('vocab len = ', len(vocab))\n",
    "\n",
    "    def convert_to_ids_labels_lengths(token_list, labels, lengths):\n",
    "        id_list = []\n",
    "\n",
    "        for tokens in tqdm(token_list):\n",
    "            ids = get_ids(tokens, vocab)\n",
    "            id_list.append(ids)\n",
    "\n",
    "        #convert y to tensor\n",
    "        labels = torch.tensor(labels)\n",
    "        #convert X lengths to tensor\n",
    "        lengths = torch.tensor(lengths)\n",
    "\n",
    "        return id_list, labels, lengths\n",
    "\n",
    "    train_ids, train_y, train_lengths = convert_to_ids_labels_lengths(train_tokens, label_train, train_lengths)\n",
    "\n",
    "    return (train_tokens, train_ids, train_y, train_lengths), vocab, pad_id\n",
    "\n",
    "\n",
    "def build_train_test_data_v2(feature_train, label_train, feature_test, label_test, min_vocab_freq = 2, **kwargs):\n",
    "    train_tokens, train_lengths = build_array(feature_train)\n",
    "    test_tokens, test_lengths = build_array(feature_test)\n",
    "\n",
    "    unk_token = '<unk>'\n",
    "    pad_token = '<pad>'\n",
    "    special_tokens = [unk_token, pad_token]\n",
    "\n",
    "    vocab = torchtext.vocab.build_vocab_from_iterator(\n",
    "        train_tokens + test_tokens,\n",
    "        min_freq=min_vocab_freq,\n",
    "        specials=special_tokens,\n",
    "    )\n",
    "\n",
    "    unk_id = vocab[unk_token]\n",
    "    pad_id = vocab[unk_token]\n",
    "\n",
    "    vocab.set_default_index(unk_id)\n",
    "\n",
    "    print('vocab len = ', len(vocab))\n",
    "\n",
    "    def convert_to_ids_labels_lengths(token_list, labels, lengths):\n",
    "        id_list = []\n",
    "\n",
    "        for tokens in tqdm(token_list):\n",
    "            ids = get_ids(tokens, vocab)\n",
    "            id_list.append(ids)\n",
    "\n",
    "        #convert y to tensor\n",
    "        labels = torch.tensor(labels)\n",
    "        #convert X lengths to tensor\n",
    "        lengths = torch.tensor(lengths)\n",
    "\n",
    "        return id_list, labels, lengths\n",
    "\n",
    "    train_ids, train_y, train_lengths = convert_to_ids_labels_lengths(train_tokens, label_train, train_lengths)\n",
    "    test_ids, test_y, test_lengths = convert_to_ids_labels_lengths(test_tokens, label_test, test_lengths)\n",
    "\n",
    "    return (train_tokens, train_ids, train_y, train_lengths), \\\n",
    "            (test_tokens, test_ids, test_y, test_lengths),\\\n",
    "            vocab, pad_id"
   ]
  },
  {
   "cell_type": "code",
   "execution_count": 12,
   "metadata": {},
   "outputs": [
    {
     "name": "stderr",
     "output_type": "stream",
     "text": [
      "100%|██████████| 150000/150000 [00:05<00:00, 29221.06it/s]\n"
     ]
    },
    {
     "name": "stdout",
     "output_type": "stream",
     "text": [
      "vocab len =  60999\n"
     ]
    },
    {
     "name": "stderr",
     "output_type": "stream",
     "text": [
      "100%|██████████| 150000/150000 [00:03<00:00, 38193.45it/s]\n"
     ]
    },
    {
     "name": "stdout",
     "output_type": "stream",
     "text": [
      "ids shape =  torch.Size([150000, 587])\n",
      "y values =  {0, 1}\n",
      "y shape =  torch.Size([150000])\n",
      "lengths shape =  torch.Size([150000])\n"
     ]
    }
   ],
   "source": [
    "all_df = pd.concat([train_df, test_df])\n",
    "\n",
    "X_array = all_df['text'].apply(lambda s: clean_text(s)).values\n",
    "y_array = all_df['review'].values\n",
    "\n",
    "# X_array_test = test_df['text'].apply(lambda s: clean_text(s)).values\n",
    "# y_array_test = test_df['review'].values\n",
    "\n",
    "(train_tokens, train_ids, train_y, train_lengths) ,vocab, pad_id = build_train_test_data(X_array, y_array)\n",
    "\n",
    "train_ids = pad_sequence(train_ids, batch_first=True, padding_value=pad_id)\n",
    "# test_ids = pad_sequence(test_ids, batch_first=True, padding_value=pad_id)\n",
    "\n",
    "print('ids shape = ', train_ids.shape )\n",
    "print('y values = ', set(train_y.tolist()) )\n",
    "print('y shape = ', train_y.shape )\n",
    "print('lengths shape = ', train_lengths.shape)\n",
    "\n",
    "# print('test')\n",
    "# print('ids shape = ', test_ids.shape )\n",
    "# print('y values = ', set(test_y.tolist()) )\n",
    "# print('y shape = ', test_y.shape )\n",
    "# print('lengths shape = ', test_lengths.shape)"
   ]
  },
  {
   "cell_type": "code",
   "execution_count": 13,
   "metadata": {},
   "outputs": [
    {
     "name": "stdout",
     "output_type": "stream",
     "text": [
      "label=0\n",
      "tokens=['found', 'place', 'google', 'chinese', 'food', 'delivery', 'miles', 'road', 'called', 'ordered', 'three', 'things', 'two', 'lunch', 'specials', 'bbq', 'spare', 'ribs', 'appetizer', 'told', 'would', 'admit', 'thirty', 'minutes', 'hour', 'goes', 'call', 'ask', 'food', 'lady', 'assured', 'driver', 'delivering', 'almost', 'two', 'hours', 'later', 'called', 'one', 'shown', 'argue', 'woman', 'cancel', 'order', 'refund', 'money', 'wanted', 'give', 'free', 'food', 'next', 'order', 'like', 'would', 'order', 'finally', 'agreed', 'refund', 'money', 'literally', 'thirty', 'seconds', 'hung', 'driver', 'arrived', 'told', 'cancelled', 'two', 'hours', 'late', 'leave', 'assured', 'food', 'hot', 'yeah', 'right', 'closed', 'door', 'heard', 'screaming', 'outside', 'house', 'phone', 'never', 'order', 'delivery']\n",
      "length=86\n",
      "ids=tensor([ 171,    3, 4198,  501,    2,  721, 1310, 1223,  137,   24,  263,  139,\n",
      "          41,  103,  726,  447, 3437,  778,  504,   58,    5, 1492, 4445,   48,\n",
      "         122,  671,  186,  159,    2,  455, 2282, 1296, 5249,  211,   41,  242,\n",
      "         222,  137,    7, 3692, 3131,  731, 2111,   27, 1157,  141,   98,   77,\n",
      "         153,    2,   82,   27,    6,    5,   27,  198, 1452, 1157,  141,  570,\n",
      "        4445, 1844, 1991, 1296,  305,   58, 2949,   41,  242,  379,  317, 2282,\n",
      "           2,  129,  800,   61,  585,  276,  468, 2584,  244,  245,  319,   22,\n",
      "          27,  721,    0,    0,    0,    0,    0,    0,    0,    0,    0,    0,\n",
      "           0,    0,    0,    0,    0,    0,    0,    0,    0,    0,    0,    0,\n",
      "           0,    0,    0,    0,    0,    0,    0,    0,    0,    0,    0,    0,\n",
      "           0,    0,    0,    0,    0,    0,    0,    0,    0,    0,    0,    0,\n",
      "           0,    0,    0,    0,    0,    0,    0,    0,    0,    0,    0,    0,\n",
      "           0,    0,    0,    0,    0,    0,    0,    0,    0,    0,    0,    0,\n",
      "           0,    0,    0,    0,    0,    0,    0,    0,    0,    0,    0,    0,\n",
      "           0,    0,    0,    0,    0,    0,    0,    0,    0,    0,    0,    0,\n",
      "           0,    0,    0,    0,    0,    0,    0,    0,    0,    0,    0,    0,\n",
      "           0,    0,    0,    0,    0,    0,    0,    0,    0,    0,    0,    0,\n",
      "           0,    0,    0,    0,    0,    0,    0,    0,    0,    0,    0,    0,\n",
      "           0,    0,    0,    0,    0,    0,    0,    0,    0,    0,    0,    0,\n",
      "           0,    0,    0,    0,    0,    0,    0,    0,    0,    0,    0,    0,\n",
      "           0,    0,    0,    0,    0,    0,    0,    0,    0,    0,    0,    0,\n",
      "           0,    0,    0,    0,    0,    0,    0,    0,    0,    0,    0,    0,\n",
      "           0,    0,    0,    0,    0,    0,    0,    0,    0,    0,    0,    0,\n",
      "           0,    0,    0,    0,    0,    0,    0,    0,    0,    0,    0,    0,\n",
      "           0,    0,    0,    0,    0,    0,    0,    0,    0,    0,    0,    0,\n",
      "           0,    0,    0,    0,    0,    0,    0,    0,    0,    0,    0,    0,\n",
      "           0,    0,    0,    0,    0,    0,    0,    0,    0,    0,    0,    0,\n",
      "           0,    0,    0,    0,    0,    0,    0,    0,    0,    0,    0,    0,\n",
      "           0,    0,    0,    0,    0,    0,    0,    0,    0,    0,    0,    0,\n",
      "           0,    0,    0,    0,    0,    0,    0,    0,    0,    0,    0,    0,\n",
      "           0,    0,    0,    0,    0,    0,    0,    0,    0,    0,    0,    0,\n",
      "           0,    0,    0,    0,    0,    0,    0,    0,    0,    0,    0,    0,\n",
      "           0,    0,    0,    0,    0,    0,    0,    0,    0,    0,    0,    0,\n",
      "           0,    0,    0,    0,    0,    0,    0,    0,    0,    0,    0,    0,\n",
      "           0,    0,    0,    0,    0,    0,    0,    0,    0,    0,    0,    0,\n",
      "           0,    0,    0,    0,    0,    0,    0,    0,    0,    0,    0,    0,\n",
      "           0,    0,    0,    0,    0,    0,    0,    0,    0,    0,    0,    0,\n",
      "           0,    0,    0,    0,    0,    0,    0,    0,    0,    0,    0,    0,\n",
      "           0,    0,    0,    0,    0,    0,    0,    0,    0,    0,    0,    0,\n",
      "           0,    0,    0,    0,    0,    0,    0,    0,    0,    0,    0,    0,\n",
      "           0,    0,    0,    0,    0,    0,    0,    0,    0,    0,    0,    0,\n",
      "           0,    0,    0,    0,    0,    0,    0,    0,    0,    0,    0,    0,\n",
      "           0,    0,    0,    0,    0,    0,    0,    0,    0,    0,    0,    0,\n",
      "           0,    0,    0,    0,    0,    0,    0,    0,    0,    0,    0,    0,\n",
      "           0,    0,    0,    0,    0,    0,    0,    0,    0,    0,    0,    0,\n",
      "           0,    0,    0,    0,    0,    0,    0,    0,    0,    0,    0,    0,\n",
      "           0,    0,    0,    0,    0,    0,    0,    0,    0,    0,    0,    0,\n",
      "           0,    0,    0,    0,    0,    0,    0,    0,    0,    0,    0,    0,\n",
      "           0,    0,    0,    0,    0,    0,    0,    0,    0,    0,    0])\n",
      "vocab len =  60999\n"
     ]
    }
   ],
   "source": [
    "for label, token, id, length in zip(train_y[:1], train_tokens[:1], train_ids[:1], train_lengths[:1]):\n",
    "    print(f'label={label}\\ntokens={token}\\nlength={length}\\nids={id}')\n",
    "\n",
    "print('vocab len = ', len(vocab))"
   ]
  },
  {
   "cell_type": "markdown",
   "metadata": {},
   "source": [
    "# Model"
   ]
  },
  {
   "cell_type": "code",
   "execution_count": 14,
   "metadata": {},
   "outputs": [],
   "source": [
    "class PositionalEncoding(nn.Module):\n",
    "\n",
    "    def __init__(self, num_hiddens: int, dropout:float = 0, max_len: int = 5000):\n",
    "        super().__init__()\n",
    "        assert num_hiddens % 2 == 0, f'num hiddens ({num_hiddens}),has to be even'\n",
    "\n",
    "        self.dropout = nn.Dropout(dropout)\n",
    "\n",
    "        self.P = torch.zeros((1, max_len, num_hiddens))\n",
    "        x = torch.arange(max_len).float().unsqueeze(1)\n",
    "        #N = 10000 as defined in the Attention is All You Need paper\n",
    "        denom = torch.pow(10000, torch.arange(0, num_hiddens,2).float()/num_hiddens)\n",
    "        x = x/denom\n",
    "        self.P[:,:,0::2] = torch.sin(x)\n",
    "        self.P[:,:,1::2] = torch.cos(x)\n",
    "\n",
    "        # self.P = self.P.to(device)\n",
    "\n",
    "    def forward(self, x: torch.Tensor) -> torch.Tensor:\n",
    "        # assert x.device == self.P.device, 'in positional encoding, X should have the same device with P'\n",
    "        batch_size, length, num_hiddens = x.shape\n",
    "        x = x + self.P[:,:length,:].to(x.device)\n",
    "        return self.dropout(x)\n",
    "\n",
    "class TransformerClassifier(nn.Module):\n",
    "    def __init__(self, input_size, num_class, \n",
    "    num_heads, dim_fc, num_tokens, \n",
    "    dropout = 0.2, num_encoder_layers = 2, batch_first = True):\n",
    "\n",
    "        '''\n",
    "        @params:\n",
    "            input_size: input features or embedding size\n",
    "            num_heads: number of multi attentino heads \n",
    "            dim_fc:  dimension of feedforward layer\n",
    "            dropout: drop out rate\n",
    "            num_tokens: number of tokens in vocabulary (some call vocab_size)\n",
    "        '''\n",
    "        super().__init__()\n",
    "\n",
    "        self.model_type = 'Transformer'\n",
    "        self.pos_encoder = PositionalEncoding(input_size, dropout)\n",
    "        self.encoder_layers = nn.TransformerEncoderLayer(\n",
    "            d_model = input_size,\n",
    "            nhead = num_heads,\n",
    "            dim_feedforward= dim_fc,\n",
    "            dropout = dropout,\n",
    "            batch_first=batch_first,\n",
    "        )\n",
    "\n",
    "        self.encoder = nn.TransformerEncoder(encoder_layer=self.encoder_layers, num_layers = num_encoder_layers)\n",
    "        self.embedding = nn.Embedding(num_tokens, input_size)\n",
    "        self.input_size = input_size \n",
    "\n",
    "        self.fc = nn.Linear(input_size, num_class) \n",
    "\n",
    "        self._init_weights()\n",
    "    \n",
    "    def _init_weights(self):\n",
    "        initrange = 0.1\n",
    "        self.embedding.weight.data.uniform_(-initrange, initrange)\n",
    "        self.fc.bias.data.zero_()\n",
    "        self.fc.weight.data.uniform_(-initrange, initrange)\n",
    "    \n",
    "    def count_parameters(self):\n",
    "        return sum(p.numel() for p in self.parameters() if p.requires_grad)\n",
    "    \n",
    "    def forward(self, src, mask = None):\n",
    "        batch_size, input_len = src.shape\n",
    "        \n",
    "        src = self.embedding(src)\n",
    "        src = src * math.sqrt(self.input_size)\n",
    "        src = self.pos_encoder(src)\n",
    "\n",
    "        if mask == None:\n",
    "            mask = nn.Transformer.generate_square_subsequent_mask(input_len).to(src.device)\n",
    "\n",
    "        transformer_output = self.encoder(src, mask)\n",
    "\n",
    "        # print('transformer output shape = ', transformer_output.shape)\n",
    "        output = self.fc(transformer_output[:,-1]) \n",
    "        # print('fc output shape = ', output.shape)\n",
    "        return output"
   ]
  },
  {
   "cell_type": "code",
   "execution_count": 15,
   "metadata": {},
   "outputs": [],
   "source": [
    "input_size = 100 \n",
    "num_class = 2\n",
    "num_heads = 5\n",
    "fc_hidden_size = 5\n",
    "num_tokens = 1000\n",
    "    \n",
    "clf = TransformerClassifier(input_size, num_class, num_heads, fc_hidden_size, num_tokens)\n",
    "clf.to(DEVICE)\n",
    "# clf.convert_to_device(DEVICE)\n",
    "X = torch.randint(0,1000,(10,5)).to(DEVICE)\n",
    "\n",
    "y = clf(X, None)"
   ]
  },
  {
   "cell_type": "markdown",
   "metadata": {},
   "source": [
    "# Dataset"
   ]
  },
  {
   "cell_type": "code",
   "execution_count": 16,
   "metadata": {},
   "outputs": [],
   "source": [
    "class YelpReview(Dataset):\n",
    "\n",
    "    def __init__(self, ids, labels, lengths):\n",
    "        self.ids = ids\n",
    "        self.labels = labels\n",
    "        self.lengths = lengths\n",
    "\n",
    "    def __len__(self):\n",
    "        return len(self.ids)\n",
    "\n",
    "    def __getitem__(self, idx):\n",
    "        return self.ids[idx], self.labels[idx], self.lengths[idx]\n"
   ]
  },
  {
   "cell_type": "code",
   "execution_count": 17,
   "metadata": {},
   "outputs": [
    {
     "name": "stdout",
     "output_type": "stream",
     "text": [
      "<__main__.YelpReview object at 0x000001B94D501B20>\n"
     ]
    }
   ],
   "source": [
    "train_dataset = YelpReview(train_ids, train_y, train_lengths)\n",
    "# test_dataset = YelpReview(test_ids, train_y, train_lengths)\n",
    "\n",
    "print(train_dataset)\n",
    "\n",
    "# Save the YelpDataset\n",
    "\n",
    "with open(processed_train_dataset, 'wb') as file:\n",
    "    pickle.dump(train_dataset, file)\n",
    "\n",
    "# with open(processed_test_dataset, 'wb') as file:\n",
    "#     pickle.dump(test_dataset, file)\n",
    "\n",
    "with open(vocab_save_path, 'wb') as file:\n",
    "    pickle.dump(vocab, file)\n"
   ]
  },
  {
   "cell_type": "code",
   "execution_count": 18,
   "metadata": {},
   "outputs": [
    {
     "name": "stdout",
     "output_type": "stream",
     "text": [
      "<__main__.YelpReview object at 0x000001B954E140A0>\n",
      "Vocab()\n",
      "60999\n",
      "num classes =  2\n"
     ]
    }
   ],
   "source": [
    "# Load dataset\n",
    "with open(processed_train_dataset, 'rb') as file:\n",
    "    train_dataset = pickle.load(file)\n",
    "\n",
    "# with open(processed_test_dataset, 'rb') as file:\n",
    "#     test_dataset = pickle.load(file)\n",
    "\n",
    "with open(vocab_save_path, 'rb') as file:\n",
    "    vocab = pickle.load(file)\n",
    "\n",
    "print(train_dataset)\n",
    "print(vocab)\n",
    "print(len(vocab))\n",
    "\n",
    "NUM_CLASSES = len(set(train_dataset.labels.tolist()))\n",
    "print('num classes = ', NUM_CLASSES)"
   ]
  },
  {
   "cell_type": "code",
   "execution_count": 19,
   "metadata": {},
   "outputs": [
    {
     "name": "stdout",
     "output_type": "stream",
     "text": [
      "num class =  2\n",
      "train dataset len =  120000\n",
      "train dataloader len =  1875\n",
      "val dataset len =  15000\n",
      "val dataloader len =  235\n",
      "test dataset len =  15000\n",
      "test dataloader len =  235\n",
      "id shape =  torch.Size([64, 587])\n",
      "label shape =  torch.Size([64])\n",
      "lengths shape =  torch.Size([64])\n"
     ]
    }
   ],
   "source": [
    "# test model running on dataloader\n",
    "\n",
    "train_ratio = 0.8\n",
    "train_len = int(train_ratio * len(train_dataset))\n",
    "test_val_len = (len(train_dataset) - train_len)//2\n",
    "train_dataset, val_dataset, test_dataset = random_split(train_dataset,[train_len, test_val_len, test_val_len])\n",
    "\n",
    "train_dataloader = DataLoader(train_dataset, batch_size=BATCH_SIZE, shuffle = True)\n",
    "val_dataloader = DataLoader(val_dataset, batch_size=BATCH_SIZE, shuffle = True)\n",
    "test_dataloader = DataLoader(test_dataset, batch_size=BATCH_SIZE, shuffle = True)\n",
    "\n",
    "print('num class = ', NUM_CLASSES)\n",
    "print('train dataset len = ', len(train_dataset))\n",
    "print('train dataloader len = ', len(train_dataloader))\n",
    "print('val dataset len = ', len(val_dataset))\n",
    "print('val dataloader len = ', len(val_dataloader))\n",
    "print('test dataset len = ', len(test_dataset))\n",
    "print('test dataloader len = ', len(test_dataloader))\n",
    "\n",
    "(sample_ids, sample_y, sample_lengths) = next(iter(train_dataloader)) \n",
    "print('id shape = ', sample_ids.shape)\n",
    "print('label shape = ', sample_y.shape)\n",
    "print('lengths shape = ', sample_lengths.shape)\n"
   ]
  },
  {
   "cell_type": "markdown",
   "metadata": {},
   "source": [
    "# Tune function"
   ]
  },
  {
   "cell_type": "code",
   "execution_count": 20,
   "metadata": {},
   "outputs": [],
   "source": [
    "def get_accuracy(prediction, label):\n",
    "    batch_size, _ = prediction.shape\n",
    "    predicted_classes = prediction.argmax(dim=-1)\n",
    "    correct_predictions = predicted_classes.eq(label).sum()\n",
    "    accuracy = correct_predictions / batch_size\n",
    "    return accuracy\n",
    "\n",
    "def train(dataloader, model, criterion, optimizer, device):\n",
    "    model.to(device)\n",
    "    model.train()\n",
    "    epoch_losses = []\n",
    "    epoch_accs = []\n",
    "\n",
    "    for ids, label, length in tqdm(dataloader, desc=\"training...\"):\n",
    "        ids = ids.to(device)\n",
    "        label = label.to(device)\n",
    "        length = length\n",
    "        # prediction = model(ids, length)\n",
    "        prediction = model(ids)\n",
    "\n",
    "        loss = criterion(prediction, label)\n",
    "        accuracy = get_accuracy(prediction, label)\n",
    "        optimizer.zero_grad()\n",
    "        loss.backward()\n",
    "        optimizer.step()\n",
    "        epoch_losses.append(loss.item())\n",
    "        epoch_accs.append(accuracy.item())\n",
    "    return np.mean(epoch_losses), np.mean(epoch_accs)\n",
    "\n",
    "def pickle_dump(obj, path):\n",
    "    with open(path, 'wb') as file:\n",
    "        pickle.dump(obj, file)\n",
    "        \n",
    "def pickle_load(path):\n",
    "    with open(path, 'wb') as file:\n",
    "        obj = pickle.load(file)\n",
    "    return obj\n",
    "\n",
    "def evaluate(dataloader, model, criterion, device):\n",
    "    model.eval()\n",
    "    epoch_losses = []\n",
    "    epoch_accs = []\n",
    "    \n",
    "    for ids, label, length in tqdm(dataloader, desc=\"evaluating...\"):\n",
    "        ids = ids.to(device)\n",
    "        length = length\n",
    "        label = label.to(device)\n",
    "        # prediction = model(ids, length)\n",
    "        prediction = model(ids)\n",
    "        loss = criterion(prediction, label)\n",
    "        accuracy = get_accuracy(prediction, label)\n",
    "        epoch_losses.append(loss.item())\n",
    "        epoch_accs.append(accuracy.item())\n",
    "            \n",
    "    return np.mean(epoch_losses), np.mean(epoch_accs)\n",
    "\n",
    "def tune(model,train_dataloader, val_dataloader, test_dataloader,  \n",
    "         optimizer, criterion, device, epochs = 10, label = 'baseline', history = None):\n",
    "    print(f\"The model has {model.count_parameters()} trainable parameters\")\n",
    "\n",
    "    criterion = criterion.to(device)\n",
    "    best_score = -float(\"inf\")\n",
    "\n",
    "    save_path = os.path.join(model_save_root, label)\n",
    "    if os.path.exists(save_path) == False:\n",
    "        os.makedirs(save_path)\n",
    "\n",
    "    if history == None:\n",
    "        history = collections.defaultdict(list)\n",
    "\n",
    "    for epoch in range(epochs):\n",
    "        train_loss, train_acc = train(train_dataloader, model, criterion, optimizer, device)\n",
    "        val_loss, val_acc = evaluate(val_dataloader, model, criterion, device)\n",
    "        test_loss, test_acc = evaluate(test_dataloader, model, criterion, device)\n",
    "        history[\"train_losses\"].append(train_loss)\n",
    "        history[\"train_accs\"].append(train_acc)\n",
    "        history[\"valid_losses\"].append(val_loss)\n",
    "        history[\"valid_accs\"].append(val_acc)\n",
    "        history[\"test_losses\"].append(test_loss)\n",
    "        history[\"test_accs\"].append(test_acc)\n",
    "\n",
    "        print(f\"epoch: {epoch}\")\n",
    "        print(f\"train_loss: {train_loss:.3f}, train_acc: {train_acc:.3f}\")\n",
    "        print(f\"val_loss: {val_loss:.3f}, valid_acc: {val_acc:.3f}\")\n",
    "        print(f\"test_loss: {test_loss:.3f}, test_acc: {test_acc:.3f}\")\n",
    "        pickle_dump(history, os.path.join(save_path, 'history.pickle'))\n",
    "        torch.save(model, os.path.join(save_path, f\"yelp.transformers.checkpoint.pt\"))\n",
    "\n",
    "        plot(history, save_path = os.path.join(save_path, 'plot.png'))\n",
    "\n",
    "    if test_acc < best_score:\n",
    "        best_score = test_loss\n",
    "        torch.save(model, os.path.join(model_save_root, f\"yelp.transformers.best.pt\"))\n",
    "    \n",
    "    plot(history, save_path = os.path.join(save_path, 'plot.png'), show = True)\n",
    "    return history\n",
    "\n",
    "def plot(history, save_path = None, show = False):\n",
    "    fig, (ax1, ax2) = plt.subplots(1,2, figsize = (10,5))\n",
    "    epochs = list(range(len(history['train_accs'])))\n",
    "    sns.lineplot(y = history[\"train_accs\"],   label ='train accuracy',  x = epochs, ax = ax1)\n",
    "    sns.lineplot(y = history[\"valid_accs\"],   label ='val accuracy',    x = epochs, ax = ax1)\n",
    "    sns.lineplot(y = history[\"test_accs\"],   label ='test accuracy',    x = epochs, ax = ax1)\n",
    "    ax1.set_title(\"Accuracy\")\n",
    "\n",
    "    sns.lineplot(y = history[\"train_losses\"], label ='train loss', x = epochs, ax = ax2)\n",
    "    sns.lineplot(y = history[\"valid_losses\"],   label ='val loss', x = epochs, ax = ax2)\n",
    "    sns.lineplot(y = history[\"test_losses\"],   label ='test loss', x = epochs, ax = ax2)\n",
    "    ax2.set_title(\"Loss\")\n",
    "\n",
    "    if save_path:\n",
    "        plt.savefig(save_path)\n",
    "    if show:\n",
    "        plt.show()\n",
    "    plt.clf()"
   ]
  },
  {
   "cell_type": "markdown",
   "metadata": {},
   "source": [
    "# Pretrained embedding"
   ]
  },
  {
   "cell_type": "code",
   "execution_count": 21,
   "metadata": {},
   "outputs": [],
   "source": [
    "vectors = torchtext.vocab.GloVe()\n",
    "pretrained_embedding = vectors.get_vecs_by_tokens(vocab.get_itos())"
   ]
  },
  {
   "cell_type": "markdown",
   "metadata": {},
   "source": [
    "# Run transformers"
   ]
  },
  {
   "cell_type": "markdown",
   "metadata": {},
   "source": [
    "### Dropout Rate"
   ]
  },
  {
   "cell_type": "code",
   "execution_count": 23,
   "metadata": {},
   "outputs": [
    {
     "name": "stdout",
     "output_type": "stream",
     "text": [
      "output dim =  2\n",
      "The model has 19619186 trainable parameters\n"
     ]
    },
    {
     "name": "stderr",
     "output_type": "stream",
     "text": [
      "training...: 100%|██████████| 1875/1875 [04:57<00:00,  6.30it/s]\n",
      "evaluating...: 100%|██████████| 235/235 [00:11<00:00, 19.94it/s]\n",
      "evaluating...: 100%|██████████| 235/235 [00:11<00:00, 19.97it/s]\n"
     ]
    },
    {
     "name": "stdout",
     "output_type": "stream",
     "text": [
      "epoch: 0\n",
      "train_loss: 0.290, train_acc: 0.878\n",
      "val_loss: 0.374, valid_acc: 0.890\n",
      "test_loss: 0.386, test_acc: 0.889\n"
     ]
    },
    {
     "name": "stderr",
     "output_type": "stream",
     "text": [
      "training...: 100%|██████████| 1875/1875 [04:57<00:00,  6.30it/s]\n",
      "evaluating...: 100%|██████████| 235/235 [00:11<00:00, 19.92it/s]\n",
      "evaluating...: 100%|██████████| 235/235 [00:11<00:00, 19.95it/s]\n"
     ]
    },
    {
     "name": "stdout",
     "output_type": "stream",
     "text": [
      "epoch: 1\n",
      "train_loss: 0.222, train_acc: 0.910\n",
      "val_loss: 0.329, valid_acc: 0.904\n",
      "test_loss: 0.312, test_acc: 0.907\n"
     ]
    },
    {
     "name": "stderr",
     "output_type": "stream",
     "text": [
      "training...: 100%|██████████| 1875/1875 [04:57<00:00,  6.30it/s]\n",
      "evaluating...: 100%|██████████| 235/235 [00:11<00:00, 19.82it/s]\n",
      "evaluating...: 100%|██████████| 235/235 [00:11<00:00, 19.96it/s]\n"
     ]
    },
    {
     "name": "stdout",
     "output_type": "stream",
     "text": [
      "epoch: 2\n",
      "train_loss: 0.199, train_acc: 0.921\n",
      "val_loss: 0.314, valid_acc: 0.911\n",
      "test_loss: 0.302, test_acc: 0.913\n"
     ]
    },
    {
     "name": "stderr",
     "output_type": "stream",
     "text": [
      "training...: 100%|██████████| 1875/1875 [04:57<00:00,  6.31it/s]\n",
      "evaluating...: 100%|██████████| 235/235 [00:11<00:00, 19.90it/s]\n",
      "evaluating...: 100%|██████████| 235/235 [00:11<00:00, 19.95it/s]\n"
     ]
    },
    {
     "name": "stdout",
     "output_type": "stream",
     "text": [
      "epoch: 3\n",
      "train_loss: 0.183, train_acc: 0.928\n",
      "val_loss: 0.360, valid_acc: 0.911\n",
      "test_loss: 0.353, test_acc: 0.911\n"
     ]
    },
    {
     "name": "stderr",
     "output_type": "stream",
     "text": [
      "training...: 100%|██████████| 1875/1875 [04:57<00:00,  6.31it/s]\n",
      "evaluating...: 100%|██████████| 235/235 [00:11<00:00, 19.84it/s]\n",
      "evaluating...: 100%|██████████| 235/235 [00:11<00:00, 19.97it/s]\n"
     ]
    },
    {
     "name": "stdout",
     "output_type": "stream",
     "text": [
      "epoch: 4\n",
      "train_loss: 0.170, train_acc: 0.933\n",
      "val_loss: 0.387, valid_acc: 0.911\n",
      "test_loss: 0.395, test_acc: 0.909\n"
     ]
    },
    {
     "name": "stderr",
     "output_type": "stream",
     "text": [
      "training...: 100%|██████████| 1875/1875 [04:56<00:00,  6.31it/s]\n",
      "evaluating...: 100%|██████████| 235/235 [00:11<00:00, 19.90it/s]\n",
      "evaluating...: 100%|██████████| 235/235 [00:11<00:00, 19.94it/s]\n"
     ]
    },
    {
     "name": "stdout",
     "output_type": "stream",
     "text": [
      "epoch: 5\n",
      "train_loss: 0.159, train_acc: 0.938\n",
      "val_loss: 0.349, valid_acc: 0.912\n",
      "test_loss: 0.350, test_acc: 0.912\n"
     ]
    },
    {
     "name": "stderr",
     "output_type": "stream",
     "text": [
      "training...: 100%|██████████| 1875/1875 [04:56<00:00,  6.31it/s]\n",
      "evaluating...: 100%|██████████| 235/235 [00:11<00:00, 19.91it/s]\n",
      "evaluating...: 100%|██████████| 235/235 [00:11<00:00, 19.85it/s]\n"
     ]
    },
    {
     "name": "stdout",
     "output_type": "stream",
     "text": [
      "epoch: 6\n",
      "train_loss: 0.153, train_acc: 0.941\n",
      "val_loss: 0.445, valid_acc: 0.914\n",
      "test_loss: 0.445, test_acc: 0.916\n"
     ]
    },
    {
     "name": "stderr",
     "output_type": "stream",
     "text": [
      "training...: 100%|██████████| 1875/1875 [04:57<00:00,  6.30it/s]\n",
      "evaluating...: 100%|██████████| 235/235 [00:11<00:00, 20.03it/s]\n",
      "evaluating...: 100%|██████████| 235/235 [00:11<00:00, 19.92it/s]\n"
     ]
    },
    {
     "name": "stdout",
     "output_type": "stream",
     "text": [
      "epoch: 7\n",
      "train_loss: 0.144, train_acc: 0.945\n",
      "val_loss: 0.373, valid_acc: 0.914\n",
      "test_loss: 0.366, test_acc: 0.915\n"
     ]
    },
    {
     "name": "stderr",
     "output_type": "stream",
     "text": [
      "training...: 100%|██████████| 1875/1875 [04:57<00:00,  6.30it/s]\n",
      "evaluating...: 100%|██████████| 235/235 [00:11<00:00, 19.97it/s]\n",
      "evaluating...: 100%|██████████| 235/235 [00:11<00:00, 19.97it/s]\n"
     ]
    },
    {
     "name": "stdout",
     "output_type": "stream",
     "text": [
      "epoch: 8\n",
      "train_loss: 0.140, train_acc: 0.947\n",
      "val_loss: 0.404, valid_acc: 0.911\n",
      "test_loss: 0.410, test_acc: 0.911\n"
     ]
    },
    {
     "name": "stderr",
     "output_type": "stream",
     "text": [
      "training...: 100%|██████████| 1875/1875 [04:57<00:00,  6.30it/s]\n",
      "evaluating...: 100%|██████████| 235/235 [00:11<00:00, 19.99it/s]\n",
      "evaluating...: 100%|██████████| 235/235 [00:11<00:00, 19.98it/s]\n"
     ]
    },
    {
     "name": "stdout",
     "output_type": "stream",
     "text": [
      "epoch: 9\n",
      "train_loss: 0.134, train_acc: 0.949\n",
      "val_loss: 0.462, valid_acc: 0.908\n",
      "test_loss: 0.476, test_acc: 0.907\n"
     ]
    },
    {
     "data": {
      "text/plain": [
       "<Figure size 1000x500 with 0 Axes>"
      ]
     },
     "metadata": {},
     "output_type": "display_data"
    },
    {
     "data": {
      "text/plain": [
       "<Figure size 1000x500 with 0 Axes>"
      ]
     },
     "metadata": {},
     "output_type": "display_data"
    },
    {
     "data": {
      "text/plain": [
       "<Figure size 1000x500 with 0 Axes>"
      ]
     },
     "metadata": {},
     "output_type": "display_data"
    },
    {
     "data": {
      "text/plain": [
       "<Figure size 1000x500 with 0 Axes>"
      ]
     },
     "metadata": {},
     "output_type": "display_data"
    },
    {
     "data": {
      "text/plain": [
       "<Figure size 1000x500 with 0 Axes>"
      ]
     },
     "metadata": {},
     "output_type": "display_data"
    },
    {
     "data": {
      "text/plain": [
       "<Figure size 1000x500 with 0 Axes>"
      ]
     },
     "metadata": {},
     "output_type": "display_data"
    },
    {
     "data": {
      "text/plain": [
       "<Figure size 1000x500 with 0 Axes>"
      ]
     },
     "metadata": {},
     "output_type": "display_data"
    },
    {
     "data": {
      "text/plain": [
       "<Figure size 1000x500 with 0 Axes>"
      ]
     },
     "metadata": {},
     "output_type": "display_data"
    },
    {
     "data": {
      "text/plain": [
       "<Figure size 1000x500 with 0 Axes>"
      ]
     },
     "metadata": {},
     "output_type": "display_data"
    },
    {
     "data": {
      "text/plain": [
       "<Figure size 1000x500 with 0 Axes>"
      ]
     },
     "metadata": {},
     "output_type": "display_data"
    },
    {
     "data": {
      "image/png": "[encoded data removed]",
      "text/plain": [
       "<Figure size 1000x500 with 2 Axes>"
      ]
     },
     "metadata": {},
     "output_type": "display_data"
    },
    {
     "data": {
      "text/plain": [
       "<Figure size 640x480 with 0 Axes>"
      ]
     },
     "metadata": {},
     "output_type": "display_data"
    },
    {
     "data": {
      "text/plain": [
       "<Figure size 1000x500 with 0 Axes>"
      ]
     },
     "metadata": {},
     "output_type": "display_data"
    }
   ],
   "source": [
    "lr = 5e-4\n",
    "vocab_size = len(vocab)\n",
    "embedding_dim = 300\n",
    "hidden_dim = 300\n",
    "output_dim = NUM_CLASSES\n",
    "print('output dim = ', output_dim)\n",
    "n_layers = 2\n",
    "bidirectional = True\n",
    "dropout_rate = 0.5\n",
    "\n",
    "model = TransformerClassifier(\n",
    "    input_size = embedding_dim,\n",
    "    num_class=  NUM_CLASSES,\n",
    "    num_heads = 5,\n",
    "    dim_fc = 128,\n",
    "    num_tokens = vocab_size,\n",
    "    dropout = dropout_rate\n",
    ")\n",
    "\n",
    "model.embedding.weight.data = pretrained_embedding\n",
    "\n",
    "optimizer = torch.optim.Adam(model.parameters(), lr=lr)\n",
    "criterion = nn.CrossEntropyLoss()\n",
    "\n",
    "history = tune(model,  train_dataloader, val_dataloader, test_dataloader, \n",
    "               optimizer, criterion, epochs = 10, device = DEVICE)\n",
    "\n",
    "plot(history)"
   ]
  },
  {
   "cell_type": "code",
   "execution_count": null,
   "metadata": {},
   "outputs": [],
   "source": [
    "# #resume\n",
    "# history = tune(model,  train_dataloader, val_dataloader, test_dataloader, \n",
    "#                optimizer, criterion, epochs = 5, device = DEVICE, history = history)"
   ]
  },
  {
   "cell_type": "markdown",
   "metadata": {},
   "source": [
    "# Notes\n",
    "\n",
    "test accuracy not improving. Perhaps the train vocab and test vocab is too different. Try merging train and test tokens. See what happens."
   ]
  },
  {
   "cell_type": "code",
   "execution_count": null,
   "metadata": {},
   "outputs": [],
   "source": []
  }
 ],
 "metadata": {
  "kernelspec": {
   "display_name": "Python 3.9.18 ('torch')",
   "language": "python",
   "name": "python3"
  },
  "language_info": {
   "codemirror_mode": {
    "name": "ipython",
    "version": 3
   },
   "file_extension": ".py",
   "mimetype": "text/x-python",
   "name": "python",
   "nbconvert_exporter": "python",
   "pygments_lexer": "ipython3",
   "version": "3.9.18"
  },
  "orig_nbformat": 4,
  "vscode": {
   "interpreter": {
    "hash": "af18273774455bc90f5456b9f4898eab7ba4de506fde0c1d0784da333c7e8bbc"
   }
  }
 },
 "nbformat": 4,
 "nbformat_minor": 2
}
