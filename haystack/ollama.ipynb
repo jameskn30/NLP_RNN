{
 "cells": [
  {
   "cell_type": "markdown",
   "metadata": {},
   "source": [
    "https://haystack.deepset.ai/integrations/ollama\n",
    "\n",
    "NOTE That ollama has its own embedding \n",
    "\n",
    "from haystack_integrations.components.embedders.ollama.document_embedder import OllamaDocumentEmbedder\n",
    "\n",
    "from haystack_integrations.components.embedders.ollama.text_embedder import OllamaTextEmbedder\n",
    "\n",
    "\n"
   ]
  },
  {
   "cell_type": "code",
   "execution_count": 2,
   "metadata": {},
   "outputs": [],
   "source": [
    "from haystack import Document, Pipeline\n",
    "from haystack.components.builders.prompt_builder import PromptBuilder\n",
    "from haystack.components.retrievers.in_memory import InMemoryBM25Retriever\n",
    "from haystack.document_stores.in_memory import InMemoryDocumentStore\n",
    "from haystack_integrations.components.generators.ollama import OllamaGenerator\n"
   ]
  },
  {
   "cell_type": "code",
   "execution_count": 3,
   "metadata": {},
   "outputs": [
    {
     "name": "stdout",
     "output_type": "stream",
     "text": [
      "['Based on the provided information, I can only answer that Super Mario is a character from a video game series.']\n"
     ]
    }
   ],
   "source": [
    "document_store = InMemoryDocumentStore()\n",
    "document_store.write_documents(\n",
    "    [\n",
    "        Document(content=\"Super Mario was an important politician\"),\n",
    "        Document(content=\"Mario owns several castles and uses them to conduct important political business\"),\n",
    "        Document(\n",
    "            content=\"Super Mario was a successful military leader who fought off several invasion attempts by \"\n",
    "            \"his arch rival - Bowser\"\n",
    "        ),\n",
    "    ]\n",
    ")\n",
    "\n",
    "template = \"\"\"\n",
    "Given only the following information, answer the question.\n",
    "Ignore your own knowledge.\n",
    "\n",
    "Context:\n",
    "{% for document in documents %}\n",
    "    {{ document.content }}\n",
    "{% endfor %}\n",
    "\n",
    "Question: {{ query }}?\n",
    "\"\"\"\n",
    "\n",
    "LLM = 'llama3.2:1b'\n",
    "\n",
    "pipe = Pipeline()\n",
    "\n",
    "pipe.add_component(\"retriever\", InMemoryBM25Retriever(document_store=document_store))\n",
    "pipe.add_component(\"prompt_builder\", PromptBuilder(template=template))\n",
    "pipe.add_component(\"llm\", OllamaGenerator(model=LLM, url=\"http://localhost:11434\"))\n",
    "pipe.connect(\"retriever\", \"prompt_builder.documents\")\n",
    "pipe.connect(\"prompt_builder\", \"llm\")\n",
    "\n",
    "query = \"Who is Super Mario?\"\n",
    "\n",
    "response = pipe.run({\"prompt_builder\": {\"query\": query}, \"retriever\": {\"query\": query}})\n",
    "\n",
    "print(response[\"llm\"][\"replies\"])\n"
   ]
  },
  {
   "cell_type": "code",
   "execution_count": 5,
   "metadata": {},
   "outputs": [
    {
     "name": "stdout",
     "output_type": "stream",
     "text": [
      "Getting started with Natural Language Processing (NLP) can be an exciting and rewarding experience. Here's a step-by-step guide to help you get started:\n",
      "\n",
      "1. **Learn the basics**:\n",
      "Start by understanding the fundamentals of NLP, including text processing, tokenization, stemming or lemmatization, sentiment analysis, and topic modeling.\n",
      "2. **Choose a programming language**:\n",
      "NLP is typically implemented in languages like Python, R, or Java. Choose a language that you're comfortable with and has good libraries for NLP tasks.\n",
      "3. **Get familiar with libraries and tools**:\n",
      "Some popular libraries for NLP include:\n",
      "\t* NLTK (Natural Language Toolkit)\n",
      "\t* spaCy\n",
      "\t* scikit-learn\n",
      "\t* TensorFlow or PyTorch for machine learning\n",
      "4. **Learn about data structures and algorithms**:\n",
      "Understand the basics of data structures like arrays, lists, and dictionaries, as well as algorithms like string matching, tokenization, and pattern recognition.\n",
      "5. **Practice with datasets**:\n",
      "Use publicly available datasets like IMDB, Yelp, or Twitter to practice your NLP skills. You can also use libraries like Pandas for data manipulation and scikit-learn for machine learning.\n",
      "6. **Learn about deep learning**:\n",
      "Deep learning is a key area of NLP that involves using neural networks to analyze text data. Learn about convolutional neural networks (CNNs), recurrent neural networks (RNNs), and long short-term memory (LSTM) networks.\n",
      "7. **Join online communities**:\n",
      "Participate in online forums like Kaggle, Reddit's r/NLP, or Stack Overflow to connect with other NLP enthusiasts, ask questions, and learn from their experiences.\n",
      "8. **Take online courses or tutorials**:\n",
      "There are many online resources available, including Coursera, edX, and Udemy courses that cover NLP basics and advanced topics.\n",
      "9. **Read research papers**:\n",
      "Stay up-to-date with the latest developments in NLP by reading research papers on arXiv, ResearchGate, or Academia.edu.\n",
      "10. **Build projects**:\n",
      "Apply your knowledge to real-world problems by building small projects, such as text classification, sentiment analysis, or named entity recognition.\n",
      "\n",
      "Some recommended resources for beginners:\n",
      "\n",
      "* \"Natural Language Processing (almost) from Scratch\" by Collobert et al. (book)\n",
      "* \"Introduction to Natural Language Processing with Python\" by Frank Harrell (book)\n",
      "* \"NLP Crash Course\" on Coursera\n",
      "* \"Python for NLP\" on edX\n",
      "\n",
      "Remember, learning NLP is a continuous process that requires practice and patience. Start with the basics, build small projects, and gradually move on to more advanced topics. Good luck!\n"
     ]
    }
   ],
   "source": [
    "from haystack.dataclasses import ChatMessage\n",
    "\n",
    "from haystack_integrations.components.generators.ollama import OllamaChatGenerator\n",
    "\n",
    "messages = [\n",
    "    ChatMessage.from_user(\"What's Natural Language Processing?\"),\n",
    "    ChatMessage.from_system(\n",
    "        \"Natural Language Processing (NLP) is a field of computer science and artificial \"\n",
    "        \"intelligence concerned with the interaction between computers and human language\"\n",
    "    ),\n",
    "    ChatMessage.from_user(\"How do I get started?\"),\n",
    "]\n",
    "client = OllamaChatGenerator(model=LLM, timeout=45, url=\"http://localhost:11434\")\n",
    "\n",
    "response = client.run(messages, generation_kwargs={\"temperature\": 0.2})\n",
    "\n",
    "print(response[\"replies\"][0].text)\n"
   ]
  },
  {
   "cell_type": "code",
   "execution_count": null,
   "metadata": {},
   "outputs": [],
   "source": []
  },
  {
   "cell_type": "code",
   "execution_count": null,
   "metadata": {},
   "outputs": [],
   "source": []
  },
  {
   "cell_type": "code",
   "execution_count": null,
   "metadata": {},
   "outputs": [],
   "source": []
  }
 ],
 "metadata": {
  "kernelspec": {
   "display_name": "torch",
   "language": "python",
   "name": "python3"
  },
  "language_info": {
   "codemirror_mode": {
    "name": "ipython",
    "version": 3
   },
   "file_extension": ".py",
   "mimetype": "text/x-python",
   "name": "python",
   "nbconvert_exporter": "python",
   "pygments_lexer": "ipython3",
   "version": "3.12.2"
  }
 },
 "nbformat": 4,
 "nbformat_minor": 2
}
