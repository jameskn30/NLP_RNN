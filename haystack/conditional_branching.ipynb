{
 "cells": [
  {
   "cell_type": "markdown",
   "metadata": {},
   "source": [
    "https://haystack.deepset.ai/tutorials/36_building_fallbacks_with_conditional_routing\n",
    "\n",
    "if database have no relevant information -> use the web as a fallback data source for your RAG application"
   ]
  },
  {
   "cell_type": "code",
   "execution_count": 8,
   "metadata": {},
   "outputs": [],
   "source": [
    "import os\n",
    "openai_key = False\n",
    "hf_token = False \n",
    "serper_key = False\n",
    "with open(\"secrets\") as file:\n",
    "    for line in file.readlines():\n",
    "        key,value = line.strip().split(\"=\")\n",
    "        if key == 'OPENAI_API_KEY':\n",
    "            openai_key = True\n",
    "            os.environ[key]=value\n",
    "        elif key == 'HF_TOKEN':\n",
    "            hf_token = True\n",
    "            os.environ[key]=value\n",
    "        elif key == 'SERPERDEV_API_KEY':\n",
    "            serper_key = True\n",
    "            os.environ[key]=value\n",
    "\n",
    "assert openai_key, 'OPENAI_API_KEY not found'\n",
    "assert hf_token, 'HF_TOKEN not found'\n",
    "assert serper_key, 'SERPER_API_KEY not found'\n"
   ]
  },
  {
   "cell_type": "code",
   "execution_count": 4,
   "metadata": {},
   "outputs": [],
   "source": [
    "from haystack.dataclasses import Document"
   ]
  },
  {
   "cell_type": "code",
   "execution_count": 5,
   "metadata": {},
   "outputs": [],
   "source": [
    "data = [\n",
    "    '''Munich, the vibrant capital of Bavaria in southern Germany, exudes a perfect blend of rich cultural\n",
    "    heritage and modern urban sophistication. Nestled along the banks of the Isar River, Munich is renowned\n",
    "    for its splendid architecture, including the iconic Neues Rathaus (New Town Hall) at Marienplatz and\n",
    "    the grandeur of Nymphenburg Palace. The city is a haven for art enthusiasts, with world-class museums like the\n",
    "    Alte Pinakothek housing masterpieces by renowned artists. Munich is also famous for its lively beer gardens, where\n",
    "    locals and tourists gather to enjoy the city's famed beers and traditional Bavarian cuisine. The city's annual\n",
    "    Oktoberfest celebration, the world's largest beer festival, attracts millions of visitors from around the globe.\n",
    "    Beyond its cultural and culinary delights, Munich offers picturesque parks like the English Garden, providing a\n",
    "    serene escape within the heart of the bustling metropolis. Visitors are charmed by Munich's warm hospitality,\n",
    "    making it a must-visit destination for travelers seeking a taste of both old-world charm and contemporary allure.'''\n",
    "]\n",
    "documents = [Document(text) for text in data]\n"
   ]
  },
  {
   "cell_type": "code",
   "execution_count": 2,
   "metadata": {},
   "outputs": [
    {
     "name": "stderr",
     "output_type": "stream",
     "text": [
      "2025-01-31 13:03:35.415028: I tensorflow/core/util/port.cc:153] oneDNN custom operations are on. You may see slightly different numerical results due to floating-point round-off errors from different computation orders. To turn them off, set the environment variable `TF_ENABLE_ONEDNN_OPTS=0`.\n",
      "2025-01-31 13:03:35.422182: E external/local_xla/xla/stream_executor/cuda/cuda_fft.cc:485] Unable to register cuFFT factory: Attempting to register factory for plugin cuFFT when one has already been registered\n",
      "2025-01-31 13:03:35.430629: E external/local_xla/xla/stream_executor/cuda/cuda_dnn.cc:8454] Unable to register cuDNN factory: Attempting to register factory for plugin cuDNN when one has already been registered\n",
      "2025-01-31 13:03:35.433162: E external/local_xla/xla/stream_executor/cuda/cuda_blas.cc:1452] Unable to register cuBLAS factory: Attempting to register factory for plugin cuBLAS when one has already been registered\n",
      "2025-01-31 13:03:35.439738: I tensorflow/core/platform/cpu_feature_guard.cc:210] This TensorFlow binary is optimized to use available CPU instructions in performance-critical operations.\n",
      "To enable the following instructions: AVX2 AVX_VNNI FMA, in other operations, rebuild TensorFlow with the appropriate compiler flags.\n",
      "2025-01-31 13:03:35.889111: W tensorflow/compiler/tf2tensorrt/utils/py_utils.cc:38] TF-TRT Warning: Could not find TensorRT\n"
     ]
    }
   ],
   "source": [
    "from haystack.components.builders import ChatPromptBuilder\n",
    "from haystack.dataclasses import ChatMessage\n",
    "from haystack.components.generators.chat import OpenAIChatGenerator\n"
   ]
  },
  {
   "cell_type": "code",
   "execution_count": 20,
   "metadata": {},
   "outputs": [],
   "source": []
  },
  {
   "cell_type": "code",
   "execution_count": 21,
   "metadata": {},
   "outputs": [],
   "source": [
    "#Serper web search\n",
    "from haystack.components.websearch.serper_dev import SerperDevWebSearch\n",
    "\n",
    "prompt_websearch = [\n",
    "    ChatMessage.from_user(\n",
    "        '''\n",
    "            Answer the following query given the documents retrieved from the web.\n",
    "            Your answer shoud indicate that your answer was generated from websearch.\n",
    "\n",
    "            Query: {{query}}\n",
    "            Documents:\n",
    "            {% for document in documents %}\n",
    "            {{document.content}}\n",
    "            {% endfor %}\n",
    "        '''\n",
    "    )\n",
    "]\n",
    "\n",
    "websearch = SerperDevWebSearch() \n",
    "prompt_builder_websearch = ChatPromptBuilder(template = prompt_websearch)\n",
    "llm_for_websearch = OpenAIChatGenerator(model='gpt-4o-mini')"
   ]
  },
  {
   "cell_type": "markdown",
   "metadata": {},
   "source": [
    "### Conditional router\n",
    "component that handles data routing on specific conditions.\n",
    "\n",
    "for each route, define:\n",
    "- a condition,\n",
    "- an output,\n",
    "- an output_name\n",
    "- an output_type"
   ]
  },
  {
   "cell_type": "code",
   "execution_count": 14,
   "metadata": {},
   "outputs": [],
   "source": [
    "from haystack.components.routers import ConditionalRouter"
   ]
  },
  {
   "cell_type": "code",
   "execution_count": 15,
   "metadata": {},
   "outputs": [],
   "source": [
    "routes = [\n",
    "    {\n",
    "        \"condition\":\"{{'no_answer' in replies[0].text}}\",\n",
    "        \"output\":\"{{query}}\",\n",
    "        \"output_name\": \"go_to_websearch\",\n",
    "        \"output_type\": str,\n",
    "    },\n",
    "    {\n",
    "        \"condition\":\"{{'no_answer' not in replies[0].text}}\",\n",
    "        \"output\":\"{{replies[0].text}}\",\n",
    "        \"output_name\": \"answer\",\n",
    "        \"output_type\": str,\n",
    "    }\n",
    "]\n",
    "\n",
    "router = ConditionalRouter(routes)"
   ]
  },
  {
   "cell_type": "code",
   "execution_count": null,
   "metadata": {},
   "outputs": [],
   "source": [
    "#Building pipeline\n",
    "from haystack import Pipeline\n",
    "\n",
    "pipeline = Pipeline()\n",
    "\n",
    "# Prompt\n",
    "prompt_template = [\n",
    "    ChatMessage.from_user(\n",
    "        \"\"\"\n",
    "                Answer the following query given the documents.\n",
    "        If the answer is not contained within the documents reply with 'no_answer'\n",
    "        Query: {{query}}\n",
    "        Documents:\n",
    "        {% for document in documents %}\n",
    "        {{document.content}}\n",
    "        {% endfor %}\n",
    "        \"\"\"\n",
    "    )\n",
    "]\n",
    "\n",
    "prompt_builder = ChatPromptBuilder(template = prompt_template) \n",
    "llm = OpenAIChatGenerator(model = 'gpt-4o-mini')\n",
    "\n",
    "# Prompt websearch\n",
    "prompt_websearch = [\n",
    "    ChatMessage.from_user(\n",
    "        '''\n",
    "            Answer the following query given the documents retrieved from the web.\n",
    "            Your answer shoud indicate that your answer was generated from websearch.\n",
    "\n",
    "            Query: {{query}}\n",
    "            Documents:\n",
    "            {% for document in documents %}\n",
    "            {{document.content}}\n",
    "            {% endfor %}\n",
    "        '''\n",
    "    )\n",
    "]\n",
    "\n",
    "#router\n",
    "routes = [\n",
    "    {\n",
    "        \"condition\":\"{{'no_answer' in replies[0].text}}\",\n",
    "        \"output\":\"{{query}}\",\n",
    "        \"output_name\": \"go_to_websearch\",\n",
    "        \"output_type\": str,\n",
    "    },\n",
    "    {\n",
    "        \"condition\":\"{{'no_answer' not in replies[0].text}}\",\n",
    "        \"output\":\"{{replies[0].text}}\",\n",
    "        \"output_name\": \"answer\",\n",
    "        \"output_type\": str,\n",
    "    }\n",
    "]\n",
    "\n",
    "router = ConditionalRouter(routes)\n",
    "\n",
    "websearch = SerperDevWebSearch() \n",
    "prompt_builder_websearch = ChatPromptBuilder(template = prompt_websearch)\n",
    "llm_for_websearch = OpenAIChatGenerator(model='gpt-4o-mini')\n",
    "\n",
    "\n",
    "pipeline.add_component('prompt_builder', prompt_builder)\n",
    "pipeline.add_component('llm', llm)\n",
    "pipeline.add_component('llm_for_websearch', llm_for_websearch)\n",
    "pipeline.add_component('websearch', websearch)\n",
    "pipeline.add_component('prompt_websearch', prompt_builder_websearch)\n",
    "pipeline.add_component('router', router)\n",
    "\n",
    "\n",
    "pipeline.connect('prompt_builder.prompt', 'llm.messages')\n",
    "pipeline.connect('llm.replies', 'router.replies')\n",
    "#router\n",
    "\n",
    "#if no answer found, go_to_websearch output\n",
    "\n",
    "# prompt_websearch is result from serper api\n",
    "pipeline.connect('router.go_to_websearch', 'websearch.query')\n",
    "pipeline.connect('router.go_to_websearch', 'prompt_websearch.query')\n",
    "\n",
    "#connect websearch to prompt_websearch\n",
    "pipeline.connect('websearch.documents', 'prompt_websearch.documents')\n",
    "#if answer found\n",
    "pipeline.connect('prompt_websearch', 'llm_for_websearch')\n",
    "\n",
    "pipeline.draw('conditional_routing.png')\n",
    "\n",
    "\n"
   ]
  },
  {
   "cell_type": "code",
   "execution_count": null,
   "metadata": {},
   "outputs": [],
   "source": []
  },
  {
   "cell_type": "code",
   "execution_count": null,
   "metadata": {},
   "outputs": [],
   "source": []
  }
 ],
 "metadata": {
  "kernelspec": {
   "display_name": "torch",
   "language": "python",
   "name": "python3"
  },
  "language_info": {
   "codemirror_mode": {
    "name": "ipython",
    "version": 3
   },
   "file_extension": ".py",
   "mimetype": "text/x-python",
   "name": "python",
   "nbconvert_exporter": "python",
   "pygments_lexer": "ipython3",
   "version": "3.12.2"
  }
 },
 "nbformat": 4,
 "nbformat_minor": 2
}
