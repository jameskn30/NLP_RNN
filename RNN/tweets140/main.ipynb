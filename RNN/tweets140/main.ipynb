{
 "cells": [
  {
   "cell_type": "code",
   "execution_count": null,
   "metadata": {},
   "outputs": [
    {
     "name": "stderr",
     "output_type": "stream",
     "text": [
      "[nltk_data] Downloading package stopwords to\n",
      "[nltk_data]     /Users/jamesnguyen/nltk_data...\n",
      "[nltk_data]   Package stopwords is already up-to-date!\n"
     ]
    }
   ],
   "source": [
    "import pandas as pd\n",
    "import os\n",
    "ROOT = os.getcwd()\n",
    "import seaborn as sns\n",
    "import nltk\n",
    "nltk.download('stopwords')\n",
    "from matplotlib import pyplot as plt\n",
    "from wordcloud import WordCloud\n",
    "import warnings\n",
    "warnings.simplefilter(action='ignore', category=FutureWarning)\n",
    "\n",
    "from collections import Counter\n",
    "import contractions\n",
    "import numpy as np\n",
    "\n",
    "import torchtext\n",
    "import textblob\n",
    "\n",
    "import re\n",
    "\n",
    "from tqdm import tqdm\n",
    "\n",
    "import torch\n",
    "from torch import nn\n",
    "from torch.nn.utils.rnn import pad_sequence, pack_padded_sequence\n",
    "\n",
    "import pickle\n",
    "\n",
    "import random\n"
   ]
  },
  {
   "cell_type": "code",
   "execution_count": 2,
   "metadata": {},
   "outputs": [],
   "source": [
    "TWEET140_PATH = os.path.join(ROOT, 'dataset', 'tweet140.csv')\n",
    "assert os.path.exists(TWEET140_PATH), 'path to dataset not found'"
   ]
  },
  {
   "cell_type": "code",
   "execution_count": 3,
   "metadata": {},
   "outputs": [
    {
     "name": "stdout",
     "output_type": "stream",
     "text": [
      "(1600000, 6)\n"
     ]
    },
    {
     "data": {
      "text/html": [
       "<div>\n",
       "<style scoped>\n",
       "    .dataframe tbody tr th:only-of-type {\n",
       "        vertical-align: middle;\n",
       "    }\n",
       "\n",
       "    .dataframe tbody tr th {\n",
       "        vertical-align: top;\n",
       "    }\n",
       "\n",
       "    .dataframe thead th {\n",
       "        text-align: right;\n",
       "    }\n",
       "</style>\n",
       "<table border=\"1\" class=\"dataframe\">\n",
       "  <thead>\n",
       "    <tr style=\"text-align: right;\">\n",
       "      <th></th>\n",
       "      <th>target</th>\n",
       "      <th>text</th>\n",
       "    </tr>\n",
       "  </thead>\n",
       "  <tbody>\n",
       "    <tr>\n",
       "      <th>0</th>\n",
       "      <td>0</td>\n",
       "      <td>@switchfoot http://twitpic.com/2y1zl - Awww, t...</td>\n",
       "    </tr>\n",
       "    <tr>\n",
       "      <th>1</th>\n",
       "      <td>0</td>\n",
       "      <td>is upset that he can't update his Facebook by ...</td>\n",
       "    </tr>\n",
       "    <tr>\n",
       "      <th>2</th>\n",
       "      <td>0</td>\n",
       "      <td>@Kenichan I dived many times for the ball. Man...</td>\n",
       "    </tr>\n",
       "    <tr>\n",
       "      <th>3</th>\n",
       "      <td>0</td>\n",
       "      <td>my whole body feels itchy and like its on fire</td>\n",
       "    </tr>\n",
       "    <tr>\n",
       "      <th>4</th>\n",
       "      <td>0</td>\n",
       "      <td>@nationwideclass no, it's not behaving at all....</td>\n",
       "    </tr>\n",
       "  </tbody>\n",
       "</table>\n",
       "</div>"
      ],
      "text/plain": [
       "   target                                               text\n",
       "0       0  @switchfoot http://twitpic.com/2y1zl - Awww, t...\n",
       "1       0  is upset that he can't update his Facebook by ...\n",
       "2       0  @Kenichan I dived many times for the ball. Man...\n",
       "3       0    my whole body feels itchy and like its on fire \n",
       "4       0  @nationwideclass no, it's not behaving at all...."
      ]
     },
     "execution_count": 3,
     "metadata": {},
     "output_type": "execute_result"
    }
   ],
   "source": [
    "#link: https://www.kaggle.com/code/abdoashraf90/twitter-sentiment-analysis\n",
    "df = pd.read_csv(TWEET140_PATH, encoding=\"ISO-8859-1\", names= [\"target\", \"id\", \"date\", \"flag\", \"user\", \"text\"])\n",
    "print(df.shape)\n",
    "\n",
    "df.drop(['id', 'date', 'flag', 'user'], axis = 1, inplace=True)\n",
    "df.head()"
   ]
  },
  {
   "cell_type": "code",
   "execution_count": 4,
   "metadata": {},
   "outputs": [
    {
     "name": "stderr",
     "output_type": "stream",
     "text": [
      "/var/folders/_s/m9kt_szd4qq9brspl9hd44mc0000gn/T/ipykernel_58897/3054085162.py:4: SettingWithCopyWarning: \n",
      "A value is trying to be set on a copy of a slice from a DataFrame\n",
      "\n",
      "See the caveats in the documentation: https://pandas.pydata.org/pandas-docs/stable/user_guide/indexing.html#returning-a-view-versus-a-copy\n",
      "  df['target'][df['target'] == 4] = 1\n"
     ]
    }
   ],
   "source": [
    "# Target has 2 values: 0 - negative, 4 - positive, o\n",
    "# we want to convert 4 to 1 to make it conventional\n",
    "\n",
    "df['target'][df['target'] == 4] = 1"
   ]
  },
  {
   "cell_type": "markdown",
   "metadata": {},
   "source": [
    "# EDA"
   ]
  },
  {
   "cell_type": "code",
   "execution_count": 5,
   "metadata": {},
   "outputs": [
    {
     "name": "stdout",
     "output_type": "stream",
     "text": [
      "target\n",
      "0    800000\n",
      "1    800000\n",
      "Name: count, dtype: int64\n"
     ]
    },
    {
     "data": {
      "text/plain": [
       "<Axes: ylabel='count'>"
      ]
     },
     "execution_count": 5,
     "metadata": {},
     "output_type": "execute_result"
    },
    {
     "data": {
      "image/png": "[encoded data removed]",
      "text/plain": [
       "<Figure size 640x480 with 1 Axes>"
      ]
     },
     "metadata": {},
     "output_type": "display_data"
    }
   ],
   "source": [
    "print(df['target'].value_counts())\n",
    "sns.countplot(x = df['target'].values)"
   ]
  },
  {
   "cell_type": "code",
   "execution_count": 6,
   "metadata": {},
   "outputs": [
    {
     "name": "stdout",
     "output_type": "stream",
     "text": [
      "120144177\n",
      "@switchfoo\n"
     ]
    }
   ],
   "source": [
    "alltext = ' '.join(df['text'].values)\n",
    "print(len(alltext))\n",
    "print(alltext[:10])"
   ]
  },
  {
   "cell_type": "code",
   "execution_count": 7,
   "metadata": {},
   "outputs": [],
   "source": [
    "# wc = WordCloud(width=1600, height = 800)\n",
    "# wc.generate(alltext)\n",
    "# plt.imshow(wc)\n",
    "# plt.show()\n"
   ]
  },
  {
   "cell_type": "markdown",
   "metadata": {},
   "source": [
    "# Detect non-english words or rubbish"
   ]
  },
  {
   "cell_type": "code",
   "execution_count": 8,
   "metadata": {},
   "outputs": [],
   "source": [
    "# words = alltext.split()\n",
    "\n",
    "# lang = textblob.TextBlob()\n",
    "\n",
    "# print(lang('something'))\n",
    "# counter= Counter(words)\n",
    "\n",
    "# with open('tweets140_words.txt', 'w') as file:\n",
    "#     for k,v in counter.most_common():\n",
    "#         file.write(f'{k}\\n')\n"
   ]
  },
  {
   "cell_type": "markdown",
   "metadata": {},
   "source": [
    "# Length and target correlation"
   ]
  },
  {
   "cell_type": "code",
   "execution_count": 9,
   "metadata": {},
   "outputs": [],
   "source": [
    "df['length'] = df['text'].apply(lambda x: len(x))"
   ]
  },
  {
   "cell_type": "code",
   "execution_count": 10,
   "metadata": {},
   "outputs": [
    {
     "data": {
      "text/html": [
       "<div>\n",
       "<style scoped>\n",
       "    .dataframe tbody tr th:only-of-type {\n",
       "        vertical-align: middle;\n",
       "    }\n",
       "\n",
       "    .dataframe tbody tr th {\n",
       "        vertical-align: top;\n",
       "    }\n",
       "\n",
       "    .dataframe thead th {\n",
       "        text-align: right;\n",
       "    }\n",
       "</style>\n",
       "<table border=\"1\" class=\"dataframe\">\n",
       "  <thead>\n",
       "    <tr style=\"text-align: right;\">\n",
       "      <th></th>\n",
       "      <th>target</th>\n",
       "      <th>text</th>\n",
       "      <th>length</th>\n",
       "    </tr>\n",
       "  </thead>\n",
       "  <tbody>\n",
       "    <tr>\n",
       "      <th>0</th>\n",
       "      <td>0</td>\n",
       "      <td>@switchfoot http://twitpic.com/2y1zl - Awww, t...</td>\n",
       "      <td>115</td>\n",
       "    </tr>\n",
       "    <tr>\n",
       "      <th>1</th>\n",
       "      <td>0</td>\n",
       "      <td>is upset that he can't update his Facebook by ...</td>\n",
       "      <td>111</td>\n",
       "    </tr>\n",
       "    <tr>\n",
       "      <th>2</th>\n",
       "      <td>0</td>\n",
       "      <td>@Kenichan I dived many times for the ball. Man...</td>\n",
       "      <td>89</td>\n",
       "    </tr>\n",
       "    <tr>\n",
       "      <th>3</th>\n",
       "      <td>0</td>\n",
       "      <td>my whole body feels itchy and like its on fire</td>\n",
       "      <td>47</td>\n",
       "    </tr>\n",
       "    <tr>\n",
       "      <th>4</th>\n",
       "      <td>0</td>\n",
       "      <td>@nationwideclass no, it's not behaving at all....</td>\n",
       "      <td>111</td>\n",
       "    </tr>\n",
       "  </tbody>\n",
       "</table>\n",
       "</div>"
      ],
      "text/plain": [
       "   target                                               text  length\n",
       "0       0  @switchfoot http://twitpic.com/2y1zl - Awww, t...     115\n",
       "1       0  is upset that he can't update his Facebook by ...     111\n",
       "2       0  @Kenichan I dived many times for the ball. Man...      89\n",
       "3       0    my whole body feels itchy and like its on fire       47\n",
       "4       0  @nationwideclass no, it's not behaving at all....     111"
      ]
     },
     "execution_count": 10,
     "metadata": {},
     "output_type": "execute_result"
    }
   ],
   "source": [
    "df.head()"
   ]
  },
  {
   "cell_type": "code",
   "execution_count": 11,
   "metadata": {},
   "outputs": [
    {
     "name": "stdout",
     "output_type": "stream",
     "text": [
      "[0 1]\n"
     ]
    }
   ],
   "source": [
    "print(df['target'].unique())"
   ]
  },
  {
   "cell_type": "code",
   "execution_count": 12,
   "metadata": {},
   "outputs": [
    {
     "data": {
      "image/png": "[encoded data removed]",
      "text/plain": [
       "<Figure size 1200x500 with 2 Axes>"
      ]
     },
     "metadata": {},
     "output_type": "display_data"
    }
   ],
   "source": [
    "fig, (ax1, ax2) = plt.subplots(1,2, figsize=(12,5))\n",
    "sns.histplot(data = df[df['target'] == 0], x = 'length', color = 'green', kde=True, ax = ax1)\n",
    "ax1.set_title('text length in target = 0')\n",
    "sns.histplot(data = df[df['target'] == 1], x = 'length', color = 'green', kde=True, ax = ax2)\n",
    "ax2.set_title('text length in target = 1')\n",
    "plt.show()"
   ]
  },
  {
   "cell_type": "markdown",
   "metadata": {},
   "source": [
    "# clean text\n",
    "- @something, starts with @\n",
    "- https, web link wwww\n",
    "- #hastag\n",
    "- email\n",
    "- non-latin symbols"
   ]
  },
  {
   "cell_type": "code",
   "execution_count": 13,
   "metadata": {},
   "outputs": [
    {
     "name": "stdout",
     "output_type": "stream",
     "text": [
      "link   and web   hashtag #something and mention @wooho\n",
      "link https://www.example.com and web http://subdomain.example.org. hashtag   and mention @wooho\n",
      "link https://www.example.com and web http://subdomain.example.org. hashtag #something and mention  \n",
      "link and web hashtag and mention \n",
      " you are a onderful men \n"
     ]
    }
   ],
   "source": [
    "def remove_urls(text):\n",
    "    pattern =r\"(http?\\://|https?\\://|www)\\S+\"\n",
    "    return re.sub(pattern, ' ', text)\n",
    "\n",
    "def remove_hashtags(text):\n",
    "    pattern = r\"#\\S+\"\n",
    "    return re.sub(pattern, ' ', text)\n",
    "\n",
    "def remove_mentions(text):\n",
    "    pattern =r\"(?:\\@)\\S+\"\n",
    "    return re.sub(pattern, ' ', text)\n",
    "\n",
    "def expand_contractions(text):\n",
    "    return contractions.fix(text)\n",
    "\n",
    "def remove_special_characters(text):\n",
    "    return re.sub('[^A-Za-z]+', ' ', text)\n",
    "\n",
    "\n",
    "def clean_text(text):\n",
    "    text = text.lower()\n",
    "    text = remove_urls(text)\n",
    "    text = remove_hashtags(text)\n",
    "    text = remove_mentions(text)\n",
    "    text = expand_contractions(text)\n",
    "    text = remove_special_characters(text)\n",
    "    return text\n",
    "\n",
    "\n",
    "text = \"link https://www.example.com and web http://subdomain.example.org. hashtag #something and mention @wooho\"\n",
    "print(remove_urls(text))\n",
    "print(remove_hashtags(text))\n",
    "print(remove_mentions(text))\n",
    "print(clean_text(text))\n",
    "\n",
    "text = \"??you're a123., onderful men!!!\"\n",
    "print(clean_text(text))\n"
   ]
  },
  {
   "cell_type": "code",
   "execution_count": 14,
   "metadata": {},
   "outputs": [],
   "source": [
    "df['text'] = df['text'].apply(clean_text)\n",
    "df['length'] = df['text'].apply(lambda x: len(x))\n"
   ]
  },
  {
   "cell_type": "code",
   "execution_count": 15,
   "metadata": {},
   "outputs": [
    {
     "data": {
      "text/html": [
       "<div>\n",
       "<style scoped>\n",
       "    .dataframe tbody tr th:only-of-type {\n",
       "        vertical-align: middle;\n",
       "    }\n",
       "\n",
       "    .dataframe tbody tr th {\n",
       "        vertical-align: top;\n",
       "    }\n",
       "\n",
       "    .dataframe thead th {\n",
       "        text-align: right;\n",
       "    }\n",
       "</style>\n",
       "<table border=\"1\" class=\"dataframe\">\n",
       "  <thead>\n",
       "    <tr style=\"text-align: right;\">\n",
       "      <th></th>\n",
       "      <th>target</th>\n",
       "      <th>text</th>\n",
       "      <th>length</th>\n",
       "    </tr>\n",
       "  </thead>\n",
       "  <tbody>\n",
       "    <tr>\n",
       "      <th>0</th>\n",
       "      <td>0</td>\n",
       "      <td>a that is a bummer you shoulda got david carr...</td>\n",
       "      <td>70</td>\n",
       "    </tr>\n",
       "    <tr>\n",
       "      <th>1</th>\n",
       "      <td>0</td>\n",
       "      <td>is upset that he cannot update his facebook by...</td>\n",
       "      <td>107</td>\n",
       "    </tr>\n",
       "    <tr>\n",
       "      <th>2</th>\n",
       "      <td>0</td>\n",
       "      <td>i dived many times for the ball managed to sa...</td>\n",
       "      <td>74</td>\n",
       "    </tr>\n",
       "    <tr>\n",
       "      <th>3</th>\n",
       "      <td>0</td>\n",
       "      <td>my whole body feels itchy and like its on fire</td>\n",
       "      <td>47</td>\n",
       "    </tr>\n",
       "    <tr>\n",
       "      <th>4</th>\n",
       "      <td>0</td>\n",
       "      <td>no it is not behaving at all i am mad why am ...</td>\n",
       "      <td>93</td>\n",
       "    </tr>\n",
       "  </tbody>\n",
       "</table>\n",
       "</div>"
      ],
      "text/plain": [
       "   target                                               text  length\n",
       "0       0   a that is a bummer you shoulda got david carr...      70\n",
       "1       0  is upset that he cannot update his facebook by...     107\n",
       "2       0   i dived many times for the ball managed to sa...      74\n",
       "3       0    my whole body feels itchy and like its on fire       47\n",
       "4       0   no it is not behaving at all i am mad why am ...      93"
      ]
     },
     "execution_count": 15,
     "metadata": {},
     "output_type": "execute_result"
    }
   ],
   "source": [
    "df.head()"
   ]
  },
  {
   "cell_type": "code",
   "execution_count": 16,
   "metadata": {},
   "outputs": [
    {
     "name": "stdout",
     "output_type": "stream",
     "text": [
      "['-', 'a', 'that', 'is', 'a', 'bummer', '.', 'you', 'shoulda', 'got', 'david', 'carr', 'of', 'third', 'day', 'to', 'do', 'it', '.', 'd']\n"
     ]
    }
   ],
   "source": [
    "tokenizer = torchtext.data.utils.get_tokenizer('basic_english')\n",
    "\n",
    "def tokenize(text, tokenizer):\n",
    "    return tokenizer(text)\n",
    "\n",
    "tokens = tokenize('    - a  that is a bummer.  you shoulda got david carr of third day to do it. ;d', tokenizer)\n",
    "print(tokens)\n",
    "\n"
   ]
  },
  {
   "cell_type": "code",
   "execution_count": 17,
   "metadata": {},
   "outputs": [
    {
     "name": "stderr",
     "output_type": "stream",
     "text": [
      "100%|██████████| 1600000/1600000 [00:12<00:00, 132929.28it/s]"
     ]
    },
    {
     "name": "stdout",
     "output_type": "stream",
     "text": [
      "[['a', 'that', 'is', 'a', 'bummer', 'you', 'shoulda', 'got', 'david', 'carr', 'of', 'third', 'day', 'to', 'do', 'it', 'd'], ['is', 'upset', 'that', 'he', 'cannot', 'update', 'his', 'facebook', 'by', 'texting', 'it', 'and', 'might', 'cry', 'as', 'a', 'result', 'school', 'today', 'also', 'blah'], ['i', 'dived', 'many', 'times', 'for', 'the', 'ball', 'managed', 'to', 'save', 'the', 'rest', 'go', 'out', 'of', 'bounds'], ['my', 'whole', 'body', 'feels', 'itchy', 'and', 'like', 'its', 'on', 'fire'], ['no', 'it', 'is', 'not', 'behaving', 'at', 'all', 'i', 'am', 'mad', 'why', 'am', 'i', 'here', 'because', 'i', 'cannot', 'see', 'you', 'all', 'over', 'there'], ['not', 'the', 'whole', 'crew'], ['need', 'a', 'hug'], ['hey', 'long', 'time', 'no', 'see', 'yes', 'rains', 'a', 'bit', 'only', 'a', 'bit', 'lol', 'i', 'am', 'fine', 'thanks', 'how', 'is', 'you'], ['nope', 'they', 'did', 'not', 'have', 'it'], ['que', 'me', 'muera']]\n",
      "1600000\n",
      "[0 0 0 0 0 0 0 0 0 0]\n",
      "1600000\n"
     ]
    },
    {
     "name": "stderr",
     "output_type": "stream",
     "text": [
      "\n"
     ]
    }
   ],
   "source": [
    "text_data = df['text'].values\n",
    "tokens = []\n",
    "labels = df['target'].values\n",
    "\n",
    "for text in tqdm(text_data):\n",
    "    tokens.append(tokenize(text, tokenizer))\n",
    "\n",
    "print(tokens[:10])\n",
    "print(len(tokens))\n",
    "print(labels[:10])\n",
    "print(len(labels))\n",
    "\n",
    "\n",
    "\n"
   ]
  },
  {
   "cell_type": "markdown",
   "metadata": {},
   "source": [
    "# Building vocab"
   ]
  },
  {
   "cell_type": "code",
   "execution_count": 18,
   "metadata": {},
   "outputs": [],
   "source": [
    "vocab = torchtext.vocab.build_vocab_from_iterator(tokens, min_freq = 5, specials = ['<unk>', '<pad>'])"
   ]
  },
  {
   "cell_type": "code",
   "execution_count": 19,
   "metadata": {},
   "outputs": [
    {
     "name": "stdout",
     "output_type": "stream",
     "text": [
      "['<unk>', '<pad>', 'i', 'to', 'the', 'a', 'is', 'you', 'my', 'it']\n"
     ]
    }
   ],
   "source": [
    "print(vocab.get_itos()[:10])"
   ]
  },
  {
   "cell_type": "code",
   "execution_count": 20,
   "metadata": {},
   "outputs": [
    {
     "name": "stdout",
     "output_type": "stream",
     "text": [
      "unk index =  0\n",
      "pad index =  1\n",
      "[190, 6, 11, 325, 0]\n"
     ]
    }
   ],
   "source": [
    "unk_index = vocab['<unk>']\n",
    "print('unk index = ', unk_index)\n",
    "pad_index = vocab['<pad>']\n",
    "print('pad index = ', pad_index)\n",
    "#set default index\n",
    "vocab.set_default_index(unk_index)\n",
    "print(vocab.lookup_indices(['something','is', 'not', 'okay', 'this should not be found']))\n",
    "\n",
    "with open('vocab.txt', 'w') as file:\n",
    "    for item in vocab.get_itos():\n",
    "        file.write(item + '\\n')"
   ]
  },
  {
   "cell_type": "code",
   "execution_count": 21,
   "metadata": {},
   "outputs": [
    {
     "name": "stdout",
     "output_type": "stream",
     "text": [
      "(1600000, 3)\n"
     ]
    },
    {
     "data": {
      "text/html": [
       "<div>\n",
       "<style scoped>\n",
       "    .dataframe tbody tr th:only-of-type {\n",
       "        vertical-align: middle;\n",
       "    }\n",
       "\n",
       "    .dataframe tbody tr th {\n",
       "        vertical-align: top;\n",
       "    }\n",
       "\n",
       "    .dataframe thead th {\n",
       "        text-align: right;\n",
       "    }\n",
       "</style>\n",
       "<table border=\"1\" class=\"dataframe\">\n",
       "  <thead>\n",
       "    <tr style=\"text-align: right;\">\n",
       "      <th></th>\n",
       "      <th>target</th>\n",
       "      <th>text</th>\n",
       "      <th>length</th>\n",
       "    </tr>\n",
       "  </thead>\n",
       "  <tbody>\n",
       "    <tr>\n",
       "      <th>0</th>\n",
       "      <td>0</td>\n",
       "      <td>a that is a bummer you shoulda got david carr...</td>\n",
       "      <td>70</td>\n",
       "    </tr>\n",
       "    <tr>\n",
       "      <th>1</th>\n",
       "      <td>0</td>\n",
       "      <td>is upset that he cannot update his facebook by...</td>\n",
       "      <td>107</td>\n",
       "    </tr>\n",
       "    <tr>\n",
       "      <th>2</th>\n",
       "      <td>0</td>\n",
       "      <td>i dived many times for the ball managed to sa...</td>\n",
       "      <td>74</td>\n",
       "    </tr>\n",
       "    <tr>\n",
       "      <th>3</th>\n",
       "      <td>0</td>\n",
       "      <td>my whole body feels itchy and like its on fire</td>\n",
       "      <td>47</td>\n",
       "    </tr>\n",
       "    <tr>\n",
       "      <th>4</th>\n",
       "      <td>0</td>\n",
       "      <td>no it is not behaving at all i am mad why am ...</td>\n",
       "      <td>93</td>\n",
       "    </tr>\n",
       "  </tbody>\n",
       "</table>\n",
       "</div>"
      ],
      "text/plain": [
       "   target                                               text  length\n",
       "0       0   a that is a bummer you shoulda got david carr...      70\n",
       "1       0  is upset that he cannot update his facebook by...     107\n",
       "2       0   i dived many times for the ball managed to sa...      74\n",
       "3       0    my whole body feels itchy and like its on fire       47\n",
       "4       0   no it is not behaving at all i am mad why am ...      93"
      ]
     },
     "execution_count": 21,
     "metadata": {},
     "output_type": "execute_result"
    }
   ],
   "source": [
    "train_df = df.copy()\n",
    "print(train_df.shape)\n",
    "train_df.head()"
   ]
  },
  {
   "cell_type": "code",
   "execution_count": 22,
   "metadata": {},
   "outputs": [
    {
     "name": "stdout",
     "output_type": "stream",
     "text": [
      "['a', 'that', 'is', 'a', 'bummer', 'you', 'shoulda', 'got', 'david', 'carr', 'of', 'third', 'day', 'to', 'do', 'it', 'd']\n",
      "[5, 17, 6, 5, 1132, 7, 3368, 43, 802, 9264, 15, 1806, 35, 3, 21, 9, 261]\n"
     ]
    }
   ],
   "source": [
    "print(tokens[0])\n",
    "print(vocab(tokens[0]))"
   ]
  },
  {
   "cell_type": "code",
   "execution_count": 23,
   "metadata": {},
   "outputs": [
    {
     "name": "stdout",
     "output_type": "stream",
     "text": [
      "53\n"
     ]
    }
   ],
   "source": [
    "max_len = 0\n",
    "for token in tokens:\n",
    "    max_len = max(len(token), max_len)\n",
    "\n",
    "print(max_len)\n"
   ]
  },
  {
   "cell_type": "code",
   "execution_count": 24,
   "metadata": {},
   "outputs": [
    {
     "name": "stderr",
     "output_type": "stream",
     "text": [
      "100%|██████████| 1600000/1600000 [01:19<00:00, 20155.25it/s]\n"
     ]
    },
    {
     "ename": "AttributeError",
     "evalue": "'list' object has no attribute 'shape'",
     "output_type": "error",
     "traceback": [
      "\u001b[0;31m---------------------------------------------------------------------------\u001b[0m",
      "\u001b[0;31mAttributeError\u001b[0m                            Traceback (most recent call last)",
      "Cell \u001b[0;32mIn[24], line 17\u001b[0m\n\u001b[1;32m     13\u001b[0m     \u001b[38;5;28;01mreturn\u001b[39;00m X,y,valid_lens\n\u001b[1;32m     15\u001b[0m X,y,valid_lens \u001b[38;5;241m=\u001b[39m convert_to_tensor(tokens, labels, vocab)\n\u001b[0;32m---> 17\u001b[0m \u001b[38;5;28mprint\u001b[39m(\u001b[38;5;124m'\u001b[39m\u001b[38;5;124mX shape = \u001b[39m\u001b[38;5;124m'\u001b[39m, X\u001b[38;5;241m.\u001b[39mshape)\n\u001b[1;32m     18\u001b[0m \u001b[38;5;28mprint\u001b[39m(\u001b[38;5;124m'\u001b[39m\u001b[38;5;124my shape = \u001b[39m\u001b[38;5;124m'\u001b[39m, y\u001b[38;5;241m.\u001b[39mshape)\n\u001b[1;32m     19\u001b[0m \u001b[38;5;28mprint\u001b[39m(\u001b[38;5;124m'\u001b[39m\u001b[38;5;124mvalid_lens shape = \u001b[39m\u001b[38;5;124m'\u001b[39m, valid_lens\u001b[38;5;241m.\u001b[39mshape)\n",
      "\u001b[0;31mAttributeError\u001b[0m: 'list' object has no attribute 'shape'"
     ]
    }
   ],
   "source": [
    "def get_data(features, labels, vocab):\n",
    "    X = []\n",
    "    y = []\n",
    "    valid_lens = []\n",
    "    for i, feature in enumerate(tqdm((features))):\n",
    "        X.append(torch.tensor(vocab(feature)))\n",
    "        y.append(torch.tensor(labels[i]))\n",
    "        valid_lens.append(torch.tensor(len(feature)))\n",
    "\n",
    "    return X,y,valid_lens\n",
    "\n",
    "X,y,valid_lens = get_data(tokens, labels, vocab)\n"
   ]
  },
  {
   "cell_type": "code",
   "execution_count": 26,
   "metadata": {},
   "outputs": [],
   "source": [
    "X = pad_sequence(X, batch_first=True, padding_value = pad_index)\n",
    "y = torch.tensor(y)\n",
    "valid_lens = torch.tensor(valid_lens)"
   ]
  },
  {
   "cell_type": "code",
   "execution_count": 29,
   "metadata": {},
   "outputs": [
    {
     "name": "stdout",
     "output_type": "stream",
     "text": [
      "X shape =  torch.Size([1600000, 53])\n",
      "y shape =  torch.Size([1600000])\n",
      "valid_lens shape =  torch.Size([1600000])\n"
     ]
    }
   ],
   "source": [
    "print('X shape = ', X.shape)\n",
    "print('y shape = ', y.shape)\n",
    "print('valid_lens shape = ', valid_lens.shape)"
   ]
  },
  {
   "cell_type": "markdown",
   "metadata": {},
   "source": [
    "# Save tensor to save time from processing from scratch"
   ]
  },
  {
   "cell_type": "code",
   "execution_count": 37,
   "metadata": {},
   "outputs": [],
   "source": [
    "TENSOR_DATA_PATH = os.path.join(ROOT, 'output')\n",
    "if os.path.exists(TENSOR_DATA_PATH) == False: \n",
    "    os.makedirs(TENSOR_DATA_PATH)\n",
    "\n",
    "torch.save(X, os.path.join(TENSOR_DATA_PATH, 'X.torch'))\n",
    "torch.save(y, os.path.join(TENSOR_DATA_PATH, 'y.torch'))\n",
    "torch.save(valid_lens, os.path.join(TENSOR_DATA_PATH, 'valid_lens.torch'))"
   ]
  },
  {
   "cell_type": "markdown",
   "metadata": {},
   "source": [
    "# Why we need valid lens and pack_padded_sequence\n",
    "\n",
    "pack_padded_sequence prevents useless computations because of the padded sequence\n",
    "\n",
    "https://stackoverflow.com/questions/51030782/why-do-we-pack-the-sequences-in-pytorch"
   ]
  },
  {
   "cell_type": "code",
   "execution_count": null,
   "metadata": {},
   "outputs": [],
   "source": [
    "test = [torch.random(random.randint(1,10)) for _ in range(10)] \n",
    "valid_lens = [len(x) for x in test] \n",
    "print(test)\n",
    "\n",
    "test = pad_sequence(test)\n",
    "print(test.shape)\n",
    "\n",
    "pack_test = pack_padded_sequence(test, valid_lens, batch_first=True, enforce_sorted=False)\n",
    "print(pack_test)"
   ]
  },
  {
   "cell_type": "markdown",
   "metadata": {},
   "source": [
    "# Load GloVe Embedding"
   ]
  },
  {
   "cell_type": "code",
   "execution_count": 41,
   "metadata": {},
   "outputs": [
    {
     "name": "stderr",
     "output_type": "stream",
     "text": [
      ".vector_cache/glove.6B.zip: 862MB [15:04, 953kB/s]                                \n"
     ]
    }
   ],
   "source": [
    "glove_vectors = torchtext.vocab.GloVe(name='6B')"
   ]
  },
  {
   "cell_type": "markdown",
   "metadata": {},
   "source": [
    "# LSTM model"
   ]
  },
  {
   "cell_type": "code",
   "execution_count": null,
   "metadata": {},
   "outputs": [],
   "source": [
    "class LSTMClassifier(nn.Module):\n",
    "    def __init__(\n",
    "        self,\n",
    "        vocab_size, \n",
    "        embedding_size,\n",
    "        hidden_size,\n",
    "        num_layers,\n",
    "        bidirectional,\n",
    "        output_size, \n",
    "        n_layers,\n",
    "        pad_index,\n",
    "        dropout = 0.5,\n",
    "    ):\n",
    "        super().__init__()\n",
    "        self.embedding = nn.Embedding(vocab_size, embedding_size, padding_idx=pad_index)\n",
    "        self.lstm = nn.LSTM(\n",
    "            embedding_size,\n",
    "            hidden_size=hidden_size,\n",
    "            num_layers=num_layers,\n",
    "            bidirectional=bidirectional,\n",
    "            dropout = dropout,\n",
    "            batch_first=True\n",
    "        )\n",
    "        self.fc = nn.LazyLinear(output_size)\n",
    "    \n",
    "    def forward(self, X, valid_lens):\n",
    "        embedded = self.embedding(X)\n",
    "        #using pack_padded_sequence to optimize computations in large datasets\n",
    "\n",
    "        packed_embedded = nn.utils.rnn.pack_padded_sequence(\n",
    "            embedded, valid_lens, batch_first=True, enforce_sorted=False\n",
    "        )\n",
    "\n",
    "        packed_output, (hidden, cell) = self.lstm(packed_embedded)\n",
    "\n",
    "        return None\n",
    "\n",
    "cls = LSTMClassifier()        \n",
    "\n",
    "sample_X = torch.randint(0,1000, (5, 10))\n",
    "sample_valid_lens = [random.randint(3,10) for _ in range(5)]\n",
    "cls(X)\n",
    "\n",
    "\n",
    "\n"
   ]
  },
  {
   "cell_type": "code",
   "execution_count": null,
   "metadata": {},
   "outputs": [],
   "source": []
  }
 ],
 "metadata": {
  "kernelspec": {
   "display_name": "Python 3.11.6 ('torch')",
   "language": "python",
   "name": "python3"
  },
  "language_info": {
   "codemirror_mode": {
    "name": "ipython",
    "version": 3
   },
   "file_extension": ".py",
   "mimetype": "text/x-python",
   "name": "python",
   "nbconvert_exporter": "python",
   "pygments_lexer": "ipython3",
   "version": "3.11.6"
  },
  "orig_nbformat": 4,
  "vscode": {
   "interpreter": {
    "hash": "af18273774455bc90f5456b9f4898eab7ba4de506fde0c1d0784da333c7e8bbc"
   }
  }
 },
 "nbformat": 4,
 "nbformat_minor": 2
}
