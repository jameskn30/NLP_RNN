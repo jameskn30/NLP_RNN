{
 "cells": [
  {
   "cell_type": "code",
   "execution_count": 54,
   "metadata": {},
   "outputs": [
    {
     "name": "stderr",
     "output_type": "stream",
     "text": [
      "[nltk_data] Downloading package stopwords to\n",
      "[nltk_data]     C:\\Users\\nguye\\AppData\\Roaming\\nltk_data...\n",
      "[nltk_data]   Package stopwords is already up-to-date!\n"
     ]
    }
   ],
   "source": [
    "import pandas as pd\n",
    "import os\n",
    "ROOT = os.getcwd()\n",
    "import seaborn as sns\n",
    "import nltk\n",
    "nltk.download('stopwords')\n",
    "from matplotlib import pyplot as plt\n",
    "from wordcloud import WordCloud\n",
    "import warnings\n",
    "warnings.simplefilter(action='ignore', category=FutureWarning)\n",
    "\n",
    "from collections import defaultdict\n",
    "import contractions\n",
    "import numpy as np\n",
    "\n",
    "import torchtext\n",
    "import textblob\n",
    "\n",
    "import re\n",
    "\n",
    "from tqdm import tqdm\n",
    "\n",
    "import torch\n",
    "from torch import nn\n",
    "from torch.nn.utils.rnn import pad_sequence, pack_padded_sequence\n",
    "from torch.utils.data import Dataset, DataLoader, random_split\n",
    "\n",
    "from sklearn.metrics import accuracy_score\n",
    "\n",
    "import pickle\n",
    "\n",
    "import random\n"
   ]
  },
  {
   "cell_type": "code",
   "execution_count": 2,
   "metadata": {},
   "outputs": [],
   "source": [
    "TWEET140_PATH = os.path.join(ROOT, 'dataset', 'tweet140.csv')\n",
    "assert os.path.exists(TWEET140_PATH), 'path to dataset not found'"
   ]
  },
  {
   "cell_type": "code",
   "execution_count": 3,
   "metadata": {},
   "outputs": [
    {
     "name": "stdout",
     "output_type": "stream",
     "text": [
      "(1600000, 6)\n"
     ]
    },
    {
     "data": {
      "text/html": [
       "<div>\n",
       "<style scoped>\n",
       "    .dataframe tbody tr th:only-of-type {\n",
       "        vertical-align: middle;\n",
       "    }\n",
       "\n",
       "    .dataframe tbody tr th {\n",
       "        vertical-align: top;\n",
       "    }\n",
       "\n",
       "    .dataframe thead th {\n",
       "        text-align: right;\n",
       "    }\n",
       "</style>\n",
       "<table border=\"1\" class=\"dataframe\">\n",
       "  <thead>\n",
       "    <tr style=\"text-align: right;\">\n",
       "      <th></th>\n",
       "      <th>target</th>\n",
       "      <th>text</th>\n",
       "    </tr>\n",
       "  </thead>\n",
       "  <tbody>\n",
       "    <tr>\n",
       "      <th>0</th>\n",
       "      <td>0</td>\n",
       "      <td>@switchfoot http://twitpic.com/2y1zl - Awww, t...</td>\n",
       "    </tr>\n",
       "    <tr>\n",
       "      <th>1</th>\n",
       "      <td>0</td>\n",
       "      <td>is upset that he can't update his Facebook by ...</td>\n",
       "    </tr>\n",
       "    <tr>\n",
       "      <th>2</th>\n",
       "      <td>0</td>\n",
       "      <td>@Kenichan I dived many times for the ball. Man...</td>\n",
       "    </tr>\n",
       "    <tr>\n",
       "      <th>3</th>\n",
       "      <td>0</td>\n",
       "      <td>my whole body feels itchy and like its on fire</td>\n",
       "    </tr>\n",
       "    <tr>\n",
       "      <th>4</th>\n",
       "      <td>0</td>\n",
       "      <td>@nationwideclass no, it's not behaving at all....</td>\n",
       "    </tr>\n",
       "  </tbody>\n",
       "</table>\n",
       "</div>"
      ],
      "text/plain": [
       "   target                                               text\n",
       "0       0  @switchfoot http://twitpic.com/2y1zl - Awww, t...\n",
       "1       0  is upset that he can't update his Facebook by ...\n",
       "2       0  @Kenichan I dived many times for the ball. Man...\n",
       "3       0    my whole body feels itchy and like its on fire \n",
       "4       0  @nationwideclass no, it's not behaving at all...."
      ]
     },
     "execution_count": 3,
     "metadata": {},
     "output_type": "execute_result"
    }
   ],
   "source": [
    "#link: https://www.kaggle.com/code/abdoashraf90/twitter-sentiment-analysis\n",
    "df = pd.read_csv(TWEET140_PATH, encoding=\"ISO-8859-1\", names= [\"target\", \"id\", \"date\", \"flag\", \"user\", \"text\"])\n",
    "print(df.shape)\n",
    "\n",
    "df.drop(['id', 'date', 'flag', 'user'], axis = 1, inplace=True)\n",
    "df.head()"
   ]
  },
  {
   "cell_type": "code",
   "execution_count": 4,
   "metadata": {},
   "outputs": [
    {
     "name": "stderr",
     "output_type": "stream",
     "text": [
      "C:\\Users\\nguye\\AppData\\Local\\Temp\\ipykernel_18640\\3054085162.py:4: SettingWithCopyWarning: \n",
      "A value is trying to be set on a copy of a slice from a DataFrame\n",
      "\n",
      "See the caveats in the documentation: https://pandas.pydata.org/pandas-docs/stable/user_guide/indexing.html#returning-a-view-versus-a-copy\n",
      "  df['target'][df['target'] == 4] = 1\n"
     ]
    }
   ],
   "source": [
    "# Target has 2 values: 0 - negative, 4 - positive, o\n",
    "# we want to convert 4 to 1 to make it conventional\n",
    "\n",
    "df['target'][df['target'] == 4] = 1"
   ]
  },
  {
   "cell_type": "markdown",
   "metadata": {},
   "source": [
    "# EDA"
   ]
  },
  {
   "cell_type": "code",
   "execution_count": 5,
   "metadata": {},
   "outputs": [
    {
     "name": "stdout",
     "output_type": "stream",
     "text": [
      "target\n",
      "0    800000\n",
      "1    800000\n",
      "Name: count, dtype: int64\n"
     ]
    },
    {
     "data": {
      "text/plain": [
       "<Axes: ylabel='count'>"
      ]
     },
     "execution_count": 5,
     "metadata": {},
     "output_type": "execute_result"
    },
    {
     "data": {
      "image/png": "[encoded data removed]",
      "text/plain": [
       "<Figure size 640x480 with 1 Axes>"
      ]
     },
     "metadata": {},
     "output_type": "display_data"
    }
   ],
   "source": [
    "print(df['target'].value_counts())\n",
    "sns.countplot(x = df['target'].values)"
   ]
  },
  {
   "cell_type": "code",
   "execution_count": 6,
   "metadata": {},
   "outputs": [
    {
     "name": "stdout",
     "output_type": "stream",
     "text": [
      "120144177\n",
      "@switchfoo\n"
     ]
    }
   ],
   "source": [
    "alltext = ' '.join(df['text'].values)\n",
    "print(len(alltext))\n",
    "print(alltext[:10])"
   ]
  },
  {
   "cell_type": "markdown",
   "metadata": {},
   "source": [
    "# Detect non-english words or rubbish"
   ]
  },
  {
   "cell_type": "code",
   "execution_count": 7,
   "metadata": {},
   "outputs": [],
   "source": [
    "# words = alltext.split()\n",
    "\n",
    "# lang = textblob.TextBlob()\n",
    "\n",
    "# print(lang('something'))\n",
    "# counter= Counter(words)\n",
    "\n",
    "# with open('tweets140_words.txt', 'w') as file:\n",
    "#     for k,v in counter.most_common():\n",
    "#         file.write(f'{k}\\n')\n"
   ]
  },
  {
   "cell_type": "markdown",
   "metadata": {},
   "source": [
    "# Length and target correlation"
   ]
  },
  {
   "cell_type": "code",
   "execution_count": 8,
   "metadata": {},
   "outputs": [],
   "source": [
    "df['length'] = df['text'].apply(lambda x: len(x))"
   ]
  },
  {
   "cell_type": "code",
   "execution_count": 9,
   "metadata": {},
   "outputs": [
    {
     "data": {
      "text/html": [
       "<div>\n",
       "<style scoped>\n",
       "    .dataframe tbody tr th:only-of-type {\n",
       "        vertical-align: middle;\n",
       "    }\n",
       "\n",
       "    .dataframe tbody tr th {\n",
       "        vertical-align: top;\n",
       "    }\n",
       "\n",
       "    .dataframe thead th {\n",
       "        text-align: right;\n",
       "    }\n",
       "</style>\n",
       "<table border=\"1\" class=\"dataframe\">\n",
       "  <thead>\n",
       "    <tr style=\"text-align: right;\">\n",
       "      <th></th>\n",
       "      <th>target</th>\n",
       "      <th>text</th>\n",
       "      <th>length</th>\n",
       "    </tr>\n",
       "  </thead>\n",
       "  <tbody>\n",
       "    <tr>\n",
       "      <th>0</th>\n",
       "      <td>0</td>\n",
       "      <td>@switchfoot http://twitpic.com/2y1zl - Awww, t...</td>\n",
       "      <td>115</td>\n",
       "    </tr>\n",
       "    <tr>\n",
       "      <th>1</th>\n",
       "      <td>0</td>\n",
       "      <td>is upset that he can't update his Facebook by ...</td>\n",
       "      <td>111</td>\n",
       "    </tr>\n",
       "    <tr>\n",
       "      <th>2</th>\n",
       "      <td>0</td>\n",
       "      <td>@Kenichan I dived many times for the ball. Man...</td>\n",
       "      <td>89</td>\n",
       "    </tr>\n",
       "    <tr>\n",
       "      <th>3</th>\n",
       "      <td>0</td>\n",
       "      <td>my whole body feels itchy and like its on fire</td>\n",
       "      <td>47</td>\n",
       "    </tr>\n",
       "    <tr>\n",
       "      <th>4</th>\n",
       "      <td>0</td>\n",
       "      <td>@nationwideclass no, it's not behaving at all....</td>\n",
       "      <td>111</td>\n",
       "    </tr>\n",
       "  </tbody>\n",
       "</table>\n",
       "</div>"
      ],
      "text/plain": [
       "   target                                               text  length\n",
       "0       0  @switchfoot http://twitpic.com/2y1zl - Awww, t...     115\n",
       "1       0  is upset that he can't update his Facebook by ...     111\n",
       "2       0  @Kenichan I dived many times for the ball. Man...      89\n",
       "3       0    my whole body feels itchy and like its on fire       47\n",
       "4       0  @nationwideclass no, it's not behaving at all....     111"
      ]
     },
     "execution_count": 9,
     "metadata": {},
     "output_type": "execute_result"
    }
   ],
   "source": [
    "df.head()"
   ]
  },
  {
   "cell_type": "code",
   "execution_count": 10,
   "metadata": {},
   "outputs": [
    {
     "name": "stdout",
     "output_type": "stream",
     "text": [
      "[0 1]\n"
     ]
    }
   ],
   "source": [
    "print(df['target'].unique())"
   ]
  },
  {
   "cell_type": "code",
   "execution_count": 11,
   "metadata": {},
   "outputs": [
    {
     "data": {
      "image/png": "[encoded data removed]",
      "text/plain": [
       "<Figure size 1200x500 with 2 Axes>"
      ]
     },
     "metadata": {},
     "output_type": "display_data"
    }
   ],
   "source": [
    "fig, (ax1, ax2) = plt.subplots(1,2, figsize=(12,5))\n",
    "sns.histplot(data = df[df['target'] == 0], x = 'length', color = 'green', kde=True, ax = ax1)\n",
    "ax1.set_title('text length in target = 0')\n",
    "sns.histplot(data = df[df['target'] == 1], x = 'length', color = 'green', kde=True, ax = ax2)\n",
    "ax2.set_title('text length in target = 1')\n",
    "plt.show()"
   ]
  },
  {
   "cell_type": "markdown",
   "metadata": {},
   "source": [
    "# clean text\n",
    "- @something, starts with @\n",
    "- https, web link wwww\n",
    "- #hastag\n",
    "- email\n",
    "- non-latin symbols"
   ]
  },
  {
   "cell_type": "code",
   "execution_count": 20,
   "metadata": {},
   "outputs": [],
   "source": [
    "def remove_urls(text):\n",
    "    pattern =r\"(http?\\://|https?\\://|www)\\S+\"\n",
    "    return re.sub(pattern, ' ', text)\n",
    "\n",
    "def remove_hashtags(text):\n",
    "    pattern = r\"#\\S+\"\n",
    "    return re.sub(pattern, ' ', text)\n",
    "\n",
    "def remove_mentions(text):\n",
    "    pattern =r\"(?:\\@)\\S+\"\n",
    "    return re.sub(pattern, ' ', text)\n",
    "\n",
    "def expand_contractions(text):\n",
    "    return contractions.fix(text)\n",
    "\n",
    "def remove_special_characters(text):\n",
    "    return re.sub('[^A-Za-z]+', ' ', text)\n",
    "\n",
    "\n",
    "def clean_text(text):\n",
    "    text = text.lower()\n",
    "    text = remove_urls(text)\n",
    "    text = remove_hashtags(text)\n",
    "    text = remove_mentions(text)\n",
    "    text = expand_contractions(text)\n",
    "    text = remove_special_characters(text)\n",
    "    return text\n",
    "\n",
    "def tokenize(text, tokenizer):\n",
    "    return tokenizer(text)\n",
    "\n"
   ]
  },
  {
   "cell_type": "code",
   "execution_count": null,
   "metadata": {},
   "outputs": [],
   "source": [
    "text = \"link https://www.example.com and web http://subdomain.example.org. hashtag #something and mention @wooho\"\n",
    "print(remove_urls(text))\n",
    "print(remove_hashtags(text))\n",
    "print(remove_mentions(text))\n",
    "print(clean_text(text))\n",
    "\n",
    "text = \"??you're a123., onderful men!!!\"\n",
    "print(clean_text(text))\n"
   ]
  },
  {
   "cell_type": "code",
   "execution_count": 82,
   "metadata": {},
   "outputs": [
    {
     "ename": "KeyboardInterrupt",
     "evalue": "",
     "output_type": "error",
     "traceback": [
      "\u001b[1;31m---------------------------------------------------------------------------\u001b[0m",
      "\u001b[1;31mKeyboardInterrupt\u001b[0m                         Traceback (most recent call last)",
      "Cell \u001b[1;32mIn[82], line 3\u001b[0m\n\u001b[0;32m      1\u001b[0m tokenizer \u001b[38;5;241m=\u001b[39m torchtext\u001b[38;5;241m.\u001b[39mdata\u001b[38;5;241m.\u001b[39mutils\u001b[38;5;241m.\u001b[39mget_tokenizer(\u001b[38;5;124m'\u001b[39m\u001b[38;5;124mbasic_english\u001b[39m\u001b[38;5;124m'\u001b[39m)\n\u001b[1;32m----> 3\u001b[0m df[\u001b[38;5;124m'\u001b[39m\u001b[38;5;124mtext\u001b[39m\u001b[38;5;124m'\u001b[39m] \u001b[38;5;241m=\u001b[39m \u001b[43mdf\u001b[49m\u001b[43m[\u001b[49m\u001b[38;5;124;43m'\u001b[39;49m\u001b[38;5;124;43mtext\u001b[39;49m\u001b[38;5;124;43m'\u001b[39;49m\u001b[43m]\u001b[49m\u001b[38;5;241;43m.\u001b[39;49m\u001b[43mapply\u001b[49m\u001b[43m(\u001b[49m\u001b[43mclean_text\u001b[49m\u001b[43m)\u001b[49m\n\u001b[0;32m      5\u001b[0m df[\u001b[38;5;124m'\u001b[39m\u001b[38;5;124mtokens\u001b[39m\u001b[38;5;124m'\u001b[39m] \u001b[38;5;241m=\u001b[39m df[\u001b[38;5;124m'\u001b[39m\u001b[38;5;124mtext\u001b[39m\u001b[38;5;124m'\u001b[39m]\u001b[38;5;241m.\u001b[39mapply(\u001b[38;5;28;01mlambda\u001b[39;00m x: tokenize(x, tokenizer)) \n\u001b[0;32m      7\u001b[0m df[\u001b[38;5;124m'\u001b[39m\u001b[38;5;124mlength\u001b[39m\u001b[38;5;124m'\u001b[39m] \u001b[38;5;241m=\u001b[39m df[\u001b[38;5;124m'\u001b[39m\u001b[38;5;124mtokens\u001b[39m\u001b[38;5;124m'\u001b[39m]\u001b[38;5;241m.\u001b[39mapply(\u001b[38;5;28;01mlambda\u001b[39;00m x: \u001b[38;5;28mlen\u001b[39m(x))\n",
      "File \u001b[1;32mc:\\Users\\nguye\\anaconda3\\envs\\torch\\lib\\site-packages\\pandas\\core\\series.py:4757\u001b[0m, in \u001b[0;36mSeries.apply\u001b[1;34m(self, func, convert_dtype, args, by_row, **kwargs)\u001b[0m\n\u001b[0;32m   4629\u001b[0m \u001b[38;5;28;01mdef\u001b[39;00m \u001b[38;5;21mapply\u001b[39m(\n\u001b[0;32m   4630\u001b[0m     \u001b[38;5;28mself\u001b[39m,\n\u001b[0;32m   4631\u001b[0m     func: AggFuncType,\n\u001b[1;32m   (...)\u001b[0m\n\u001b[0;32m   4636\u001b[0m     \u001b[38;5;241m*\u001b[39m\u001b[38;5;241m*\u001b[39mkwargs,\n\u001b[0;32m   4637\u001b[0m ) \u001b[38;5;241m-\u001b[39m\u001b[38;5;241m>\u001b[39m DataFrame \u001b[38;5;241m|\u001b[39m Series:\n\u001b[0;32m   4638\u001b[0m \u001b[38;5;250m    \u001b[39m\u001b[38;5;124;03m\"\"\"\u001b[39;00m\n\u001b[0;32m   4639\u001b[0m \u001b[38;5;124;03m    Invoke function on values of Series.\u001b[39;00m\n\u001b[0;32m   4640\u001b[0m \n\u001b[1;32m   (...)\u001b[0m\n\u001b[0;32m   4755\u001b[0m \u001b[38;5;124;03m    dtype: float64\u001b[39;00m\n\u001b[0;32m   4756\u001b[0m \u001b[38;5;124;03m    \"\"\"\u001b[39;00m\n\u001b[1;32m-> 4757\u001b[0m     \u001b[38;5;28;01mreturn\u001b[39;00m \u001b[43mSeriesApply\u001b[49m\u001b[43m(\u001b[49m\n\u001b[0;32m   4758\u001b[0m \u001b[43m        \u001b[49m\u001b[38;5;28;43mself\u001b[39;49m\u001b[43m,\u001b[49m\n\u001b[0;32m   4759\u001b[0m \u001b[43m        \u001b[49m\u001b[43mfunc\u001b[49m\u001b[43m,\u001b[49m\n\u001b[0;32m   4760\u001b[0m \u001b[43m        \u001b[49m\u001b[43mconvert_dtype\u001b[49m\u001b[38;5;241;43m=\u001b[39;49m\u001b[43mconvert_dtype\u001b[49m\u001b[43m,\u001b[49m\n\u001b[0;32m   4761\u001b[0m \u001b[43m        \u001b[49m\u001b[43mby_row\u001b[49m\u001b[38;5;241;43m=\u001b[39;49m\u001b[43mby_row\u001b[49m\u001b[43m,\u001b[49m\n\u001b[0;32m   4762\u001b[0m \u001b[43m        \u001b[49m\u001b[43margs\u001b[49m\u001b[38;5;241;43m=\u001b[39;49m\u001b[43margs\u001b[49m\u001b[43m,\u001b[49m\n\u001b[0;32m   4763\u001b[0m \u001b[43m        \u001b[49m\u001b[43mkwargs\u001b[49m\u001b[38;5;241;43m=\u001b[39;49m\u001b[43mkwargs\u001b[49m\u001b[43m,\u001b[49m\n\u001b[0;32m   4764\u001b[0m \u001b[43m    \u001b[49m\u001b[43m)\u001b[49m\u001b[38;5;241;43m.\u001b[39;49m\u001b[43mapply\u001b[49m\u001b[43m(\u001b[49m\u001b[43m)\u001b[49m\n",
      "File \u001b[1;32mc:\\Users\\nguye\\anaconda3\\envs\\torch\\lib\\site-packages\\pandas\\core\\apply.py:1209\u001b[0m, in \u001b[0;36mSeriesApply.apply\u001b[1;34m(self)\u001b[0m\n\u001b[0;32m   1206\u001b[0m     \u001b[38;5;28;01mreturn\u001b[39;00m \u001b[38;5;28mself\u001b[39m\u001b[38;5;241m.\u001b[39mapply_compat()\n\u001b[0;32m   1208\u001b[0m \u001b[38;5;66;03m# self.func is Callable\u001b[39;00m\n\u001b[1;32m-> 1209\u001b[0m \u001b[38;5;28;01mreturn\u001b[39;00m \u001b[38;5;28;43mself\u001b[39;49m\u001b[38;5;241;43m.\u001b[39;49m\u001b[43mapply_standard\u001b[49m\u001b[43m(\u001b[49m\u001b[43m)\u001b[49m\n",
      "File \u001b[1;32mc:\\Users\\nguye\\anaconda3\\envs\\torch\\lib\\site-packages\\pandas\\core\\apply.py:1289\u001b[0m, in \u001b[0;36mSeriesApply.apply_standard\u001b[1;34m(self)\u001b[0m\n\u001b[0;32m   1283\u001b[0m \u001b[38;5;66;03m# row-wise access\u001b[39;00m\n\u001b[0;32m   1284\u001b[0m \u001b[38;5;66;03m# apply doesn't have a `na_action` keyword and for backward compat reasons\u001b[39;00m\n\u001b[0;32m   1285\u001b[0m \u001b[38;5;66;03m# we need to give `na_action=\"ignore\"` for categorical data.\u001b[39;00m\n\u001b[0;32m   1286\u001b[0m \u001b[38;5;66;03m# TODO: remove the `na_action=\"ignore\"` when that default has been changed in\u001b[39;00m\n\u001b[0;32m   1287\u001b[0m \u001b[38;5;66;03m#  Categorical (GH51645).\u001b[39;00m\n\u001b[0;32m   1288\u001b[0m action \u001b[38;5;241m=\u001b[39m \u001b[38;5;124m\"\u001b[39m\u001b[38;5;124mignore\u001b[39m\u001b[38;5;124m\"\u001b[39m \u001b[38;5;28;01mif\u001b[39;00m \u001b[38;5;28misinstance\u001b[39m(obj\u001b[38;5;241m.\u001b[39mdtype, CategoricalDtype) \u001b[38;5;28;01melse\u001b[39;00m \u001b[38;5;28;01mNone\u001b[39;00m\n\u001b[1;32m-> 1289\u001b[0m mapped \u001b[38;5;241m=\u001b[39m \u001b[43mobj\u001b[49m\u001b[38;5;241;43m.\u001b[39;49m\u001b[43m_map_values\u001b[49m\u001b[43m(\u001b[49m\n\u001b[0;32m   1290\u001b[0m \u001b[43m    \u001b[49m\u001b[43mmapper\u001b[49m\u001b[38;5;241;43m=\u001b[39;49m\u001b[43mcurried\u001b[49m\u001b[43m,\u001b[49m\u001b[43m \u001b[49m\u001b[43mna_action\u001b[49m\u001b[38;5;241;43m=\u001b[39;49m\u001b[43maction\u001b[49m\u001b[43m,\u001b[49m\u001b[43m \u001b[49m\u001b[43mconvert\u001b[49m\u001b[38;5;241;43m=\u001b[39;49m\u001b[38;5;28;43mself\u001b[39;49m\u001b[38;5;241;43m.\u001b[39;49m\u001b[43mconvert_dtype\u001b[49m\n\u001b[0;32m   1291\u001b[0m \u001b[43m\u001b[49m\u001b[43m)\u001b[49m\n\u001b[0;32m   1293\u001b[0m \u001b[38;5;28;01mif\u001b[39;00m \u001b[38;5;28mlen\u001b[39m(mapped) \u001b[38;5;129;01mand\u001b[39;00m \u001b[38;5;28misinstance\u001b[39m(mapped[\u001b[38;5;241m0\u001b[39m], ABCSeries):\n\u001b[0;32m   1294\u001b[0m     \u001b[38;5;66;03m# GH#43986 Need to do list(mapped) in order to get treated as nested\u001b[39;00m\n\u001b[0;32m   1295\u001b[0m     \u001b[38;5;66;03m#  See also GH#25959 regarding EA support\u001b[39;00m\n\u001b[0;32m   1296\u001b[0m     \u001b[38;5;28;01mreturn\u001b[39;00m obj\u001b[38;5;241m.\u001b[39m_constructor_expanddim(\u001b[38;5;28mlist\u001b[39m(mapped), index\u001b[38;5;241m=\u001b[39mobj\u001b[38;5;241m.\u001b[39mindex)\n",
      "File \u001b[1;32mc:\\Users\\nguye\\anaconda3\\envs\\torch\\lib\\site-packages\\pandas\\core\\base.py:921\u001b[0m, in \u001b[0;36mIndexOpsMixin._map_values\u001b[1;34m(self, mapper, na_action, convert)\u001b[0m\n\u001b[0;32m    918\u001b[0m \u001b[38;5;28;01mif\u001b[39;00m \u001b[38;5;28misinstance\u001b[39m(arr, ExtensionArray):\n\u001b[0;32m    919\u001b[0m     \u001b[38;5;28;01mreturn\u001b[39;00m arr\u001b[38;5;241m.\u001b[39mmap(mapper, na_action\u001b[38;5;241m=\u001b[39mna_action)\n\u001b[1;32m--> 921\u001b[0m \u001b[38;5;28;01mreturn\u001b[39;00m \u001b[43malgorithms\u001b[49m\u001b[38;5;241;43m.\u001b[39;49m\u001b[43mmap_array\u001b[49m\u001b[43m(\u001b[49m\u001b[43marr\u001b[49m\u001b[43m,\u001b[49m\u001b[43m \u001b[49m\u001b[43mmapper\u001b[49m\u001b[43m,\u001b[49m\u001b[43m \u001b[49m\u001b[43mna_action\u001b[49m\u001b[38;5;241;43m=\u001b[39;49m\u001b[43mna_action\u001b[49m\u001b[43m,\u001b[49m\u001b[43m \u001b[49m\u001b[43mconvert\u001b[49m\u001b[38;5;241;43m=\u001b[39;49m\u001b[43mconvert\u001b[49m\u001b[43m)\u001b[49m\n",
      "File \u001b[1;32mc:\\Users\\nguye\\anaconda3\\envs\\torch\\lib\\site-packages\\pandas\\core\\algorithms.py:1814\u001b[0m, in \u001b[0;36mmap_array\u001b[1;34m(arr, mapper, na_action, convert)\u001b[0m\n\u001b[0;32m   1812\u001b[0m values \u001b[38;5;241m=\u001b[39m arr\u001b[38;5;241m.\u001b[39mastype(\u001b[38;5;28mobject\u001b[39m, copy\u001b[38;5;241m=\u001b[39m\u001b[38;5;28;01mFalse\u001b[39;00m)\n\u001b[0;32m   1813\u001b[0m \u001b[38;5;28;01mif\u001b[39;00m na_action \u001b[38;5;129;01mis\u001b[39;00m \u001b[38;5;28;01mNone\u001b[39;00m:\n\u001b[1;32m-> 1814\u001b[0m     \u001b[38;5;28;01mreturn\u001b[39;00m \u001b[43mlib\u001b[49m\u001b[38;5;241;43m.\u001b[39;49m\u001b[43mmap_infer\u001b[49m\u001b[43m(\u001b[49m\u001b[43mvalues\u001b[49m\u001b[43m,\u001b[49m\u001b[43m \u001b[49m\u001b[43mmapper\u001b[49m\u001b[43m,\u001b[49m\u001b[43m \u001b[49m\u001b[43mconvert\u001b[49m\u001b[38;5;241;43m=\u001b[39;49m\u001b[43mconvert\u001b[49m\u001b[43m)\u001b[49m\n\u001b[0;32m   1815\u001b[0m \u001b[38;5;28;01melse\u001b[39;00m:\n\u001b[0;32m   1816\u001b[0m     \u001b[38;5;28;01mreturn\u001b[39;00m lib\u001b[38;5;241m.\u001b[39mmap_infer_mask(\n\u001b[0;32m   1817\u001b[0m         values, mapper, mask\u001b[38;5;241m=\u001b[39misna(values)\u001b[38;5;241m.\u001b[39mview(np\u001b[38;5;241m.\u001b[39muint8), convert\u001b[38;5;241m=\u001b[39mconvert\n\u001b[0;32m   1818\u001b[0m     )\n",
      "File \u001b[1;32mlib.pyx:2926\u001b[0m, in \u001b[0;36mpandas._libs.lib.map_infer\u001b[1;34m()\u001b[0m\n",
      "Cell \u001b[1;32mIn[20], line 25\u001b[0m, in \u001b[0;36mclean_text\u001b[1;34m(text)\u001b[0m\n\u001b[0;32m     23\u001b[0m text \u001b[38;5;241m=\u001b[39m remove_hashtags(text)\n\u001b[0;32m     24\u001b[0m text \u001b[38;5;241m=\u001b[39m remove_mentions(text)\n\u001b[1;32m---> 25\u001b[0m text \u001b[38;5;241m=\u001b[39m \u001b[43mexpand_contractions\u001b[49m\u001b[43m(\u001b[49m\u001b[43mtext\u001b[49m\u001b[43m)\u001b[49m\n\u001b[0;32m     26\u001b[0m text \u001b[38;5;241m=\u001b[39m remove_special_characters(text)\n\u001b[0;32m     27\u001b[0m \u001b[38;5;28;01mreturn\u001b[39;00m text\n",
      "Cell \u001b[1;32mIn[20], line 14\u001b[0m, in \u001b[0;36mexpand_contractions\u001b[1;34m(text)\u001b[0m\n\u001b[0;32m     13\u001b[0m \u001b[38;5;28;01mdef\u001b[39;00m \u001b[38;5;21mexpand_contractions\u001b[39m(text):\n\u001b[1;32m---> 14\u001b[0m     \u001b[38;5;28;01mreturn\u001b[39;00m \u001b[43mcontractions\u001b[49m\u001b[38;5;241;43m.\u001b[39;49m\u001b[43mfix\u001b[49m\u001b[43m(\u001b[49m\u001b[43mtext\u001b[49m\u001b[43m)\u001b[49m\n",
      "File \u001b[1;32mc:\\Users\\nguye\\anaconda3\\envs\\torch\\lib\\site-packages\\contractions\\__init__.py:102\u001b[0m, in \u001b[0;36mfix\u001b[1;34m(s, leftovers, slang)\u001b[0m\n\u001b[0;32m    100\u001b[0m \u001b[38;5;28;01mdef\u001b[39;00m \u001b[38;5;21mfix\u001b[39m(s, leftovers\u001b[38;5;241m=\u001b[39m\u001b[38;5;28;01mTrue\u001b[39;00m, slang\u001b[38;5;241m=\u001b[39m\u001b[38;5;28;01mTrue\u001b[39;00m):\n\u001b[0;32m    101\u001b[0m     ts \u001b[38;5;241m=\u001b[39m replacers[(leftovers, slang)]\n\u001b[1;32m--> 102\u001b[0m     \u001b[38;5;28;01mreturn\u001b[39;00m \u001b[43mts\u001b[49m\u001b[38;5;241;43m.\u001b[39;49m\u001b[43mreplace\u001b[49m\u001b[43m(\u001b[49m\u001b[43ms\u001b[49m\u001b[43m)\u001b[49m\n",
      "File \u001b[1;32mc:\\Users\\nguye\\anaconda3\\envs\\torch\\lib\\site-packages\\textsearch\\__init__.py:551\u001b[0m, in \u001b[0;36mTextSearch.replace\u001b[1;34m(self, text, return_entities)\u001b[0m\n\u001b[0;32m    549\u001b[0m \u001b[38;5;28;01mif\u001b[39;00m \u001b[38;5;28mself\u001b[39m\u001b[38;5;241m.\u001b[39mreturns \u001b[38;5;241m!=\u001b[39m \u001b[38;5;124m\"\u001b[39m\u001b[38;5;124mnorm\u001b[39m\u001b[38;5;124m\"\u001b[39m \u001b[38;5;129;01mand\u001b[39;00m \u001b[38;5;129;01mnot\u001b[39;00m \u001b[38;5;28mcallable\u001b[39m(\u001b[38;5;28mself\u001b[39m\u001b[38;5;241m.\u001b[39mreturns):\n\u001b[0;32m    550\u001b[0m     \u001b[38;5;28;01mraise\u001b[39;00m \u001b[38;5;167;01mValueError\u001b[39;00m(\u001b[38;5;124m\"\u001b[39m\u001b[38;5;124mno idea how i would do that\u001b[39m\u001b[38;5;124m\"\u001b[39m)\n\u001b[1;32m--> 551\u001b[0m \u001b[38;5;28;43mself\u001b[39;49m\u001b[38;5;241;43m.\u001b[39;49m\u001b[43mbuild_automaton\u001b[49m\u001b[43m(\u001b[49m\u001b[43m)\u001b[49m\n\u001b[0;32m    552\u001b[0m \u001b[38;5;28;01mif\u001b[39;00m \u001b[38;5;28mself\u001b[39m\u001b[38;5;241m.\u001b[39mreplace_foreign_chars:\n\u001b[0;32m    553\u001b[0m     text \u001b[38;5;241m=\u001b[39m anyascii(text)\n",
      "\u001b[1;31mKeyboardInterrupt\u001b[0m: "
     ]
    }
   ],
   "source": [
    "tokenizer = torchtext.data.utils.get_tokenizer('basic_english')\n",
    "\n",
    "df['text'] = df['text'].apply(clean_text)\n",
    "\n",
    "df['tokens'] = df['text'].apply(lambda x: tokenize(x, tokenizer)) \n",
    "\n",
    "df['length'] = df['tokens'].apply(lambda x: len(x))\n",
    "print('df after process ', df.shape)\n",
    "\n",
    "# Drop text with len = 0\n",
    "df = df.drop(df[df.length == 0].index)\n",
    "print('df after dropping text with 0 len ', df.shape)\n",
    "\n",
    "df = df.sample(frac = 1)"
   ]
  },
  {
   "cell_type": "code",
   "execution_count": 22,
   "metadata": {},
   "outputs": [
    {
     "data": {
      "text/html": [
       "<div>\n",
       "<style scoped>\n",
       "    .dataframe tbody tr th:only-of-type {\n",
       "        vertical-align: middle;\n",
       "    }\n",
       "\n",
       "    .dataframe tbody tr th {\n",
       "        vertical-align: top;\n",
       "    }\n",
       "\n",
       "    .dataframe thead th {\n",
       "        text-align: right;\n",
       "    }\n",
       "</style>\n",
       "<table border=\"1\" class=\"dataframe\">\n",
       "  <thead>\n",
       "    <tr style=\"text-align: right;\">\n",
       "      <th></th>\n",
       "      <th>target</th>\n",
       "      <th>text</th>\n",
       "      <th>length</th>\n",
       "      <th>tokens</th>\n",
       "    </tr>\n",
       "  </thead>\n",
       "  <tbody>\n",
       "    <tr>\n",
       "      <th>0</th>\n",
       "      <td>0</td>\n",
       "      <td>a that is a bummer you shoulda got david carr...</td>\n",
       "      <td>17</td>\n",
       "      <td>[a, that, is, a, bummer, you, shoulda, got, da...</td>\n",
       "    </tr>\n",
       "    <tr>\n",
       "      <th>1</th>\n",
       "      <td>0</td>\n",
       "      <td>is upset that he cannot update his facebook by...</td>\n",
       "      <td>21</td>\n",
       "      <td>[is, upset, that, he, cannot, update, his, fac...</td>\n",
       "    </tr>\n",
       "    <tr>\n",
       "      <th>2</th>\n",
       "      <td>0</td>\n",
       "      <td>i dived many times for the ball managed to sa...</td>\n",
       "      <td>16</td>\n",
       "      <td>[i, dived, many, times, for, the, ball, manage...</td>\n",
       "    </tr>\n",
       "    <tr>\n",
       "      <th>3</th>\n",
       "      <td>0</td>\n",
       "      <td>my whole body feels itchy and like its on fire</td>\n",
       "      <td>10</td>\n",
       "      <td>[my, whole, body, feels, itchy, and, like, its...</td>\n",
       "    </tr>\n",
       "    <tr>\n",
       "      <th>4</th>\n",
       "      <td>0</td>\n",
       "      <td>no it is not behaving at all i am mad why am ...</td>\n",
       "      <td>22</td>\n",
       "      <td>[no, it, is, not, behaving, at, all, i, am, ma...</td>\n",
       "    </tr>\n",
       "  </tbody>\n",
       "</table>\n",
       "</div>"
      ],
      "text/plain": [
       "   target                                               text  length  \\\n",
       "0       0   a that is a bummer you shoulda got david carr...      17   \n",
       "1       0  is upset that he cannot update his facebook by...      21   \n",
       "2       0   i dived many times for the ball managed to sa...      16   \n",
       "3       0    my whole body feels itchy and like its on fire       10   \n",
       "4       0   no it is not behaving at all i am mad why am ...      22   \n",
       "\n",
       "                                              tokens  \n",
       "0  [a, that, is, a, bummer, you, shoulda, got, da...  \n",
       "1  [is, upset, that, he, cannot, update, his, fac...  \n",
       "2  [i, dived, many, times, for, the, ball, manage...  \n",
       "3  [my, whole, body, feels, itchy, and, like, its...  \n",
       "4  [no, it, is, not, behaving, at, all, i, am, ma...  "
      ]
     },
     "execution_count": 22,
     "metadata": {},
     "output_type": "execute_result"
    }
   ],
   "source": [
    "df.head()"
   ]
  },
  {
   "cell_type": "code",
   "execution_count": 29,
   "metadata": {},
   "outputs": [
    {
     "name": "stdout",
     "output_type": "stream",
     "text": [
      "['a', 'that', 'is', 'a', 'bummer', 'you', 'shoulda', 'got', 'david', 'carr', 'of', 'third', 'day', 'to', 'do', 'it', 'd']\n",
      "<class 'list'>\n"
     ]
    }
   ],
   "source": [
    "print(tokens[0])\n",
    "print(type(tokens[0]))"
   ]
  },
  {
   "cell_type": "code",
   "execution_count": 33,
   "metadata": {},
   "outputs": [
    {
     "name": "stdout",
     "output_type": "stream",
     "text": [
      "[list(['a', 'that', 'is', 'a', 'bummer', 'you', 'shoulda', 'got', 'david', 'carr', 'of', 'third', 'day', 'to', 'do', 'it', 'd'])\n",
      " list(['is', 'upset', 'that', 'he', 'cannot', 'update', 'his', 'facebook', 'by', 'texting', 'it', 'and', 'might', 'cry', 'as', 'a', 'result', 'school', 'today', 'also', 'blah'])\n",
      " list(['i', 'dived', 'many', 'times', 'for', 'the', 'ball', 'managed', 'to', 'save', 'the', 'rest', 'go', 'out', 'of', 'bounds'])\n",
      " list(['my', 'whole', 'body', 'feels', 'itchy', 'and', 'like', 'its', 'on', 'fire'])\n",
      " list(['no', 'it', 'is', 'not', 'behaving', 'at', 'all', 'i', 'am', 'mad', 'why', 'am', 'i', 'here', 'because', 'i', 'cannot', 'see', 'you', 'all', 'over', 'there'])\n",
      " list(['not', 'the', 'whole', 'crew']) list(['need', 'a', 'hug'])\n",
      " list(['hey', 'long', 'time', 'no', 'see', 'yes', 'rains', 'a', 'bit', 'only', 'a', 'bit', 'lol', 'i', 'am', 'fine', 'thanks', 'how', 'is', 'you'])\n",
      " list(['nope', 'they', 'did', 'not', 'have', 'it'])\n",
      " list(['que', 'me', 'muera'])]\n",
      "1595958\n",
      "[0 0 0 0 0 0 0 0 0 0]\n",
      "1595958\n"
     ]
    }
   ],
   "source": [
    "tokens = df['tokens'].values\n",
    "labels = df['target'].values\n",
    "\n",
    "print(tokens[:10])\n",
    "print(len(tokens))\n",
    "print(labels[:10])\n",
    "print(len(labels))\n",
    "\n",
    "\n"
   ]
  },
  {
   "cell_type": "markdown",
   "metadata": {},
   "source": [
    "# Building vocab"
   ]
  },
  {
   "cell_type": "code",
   "execution_count": 34,
   "metadata": {},
   "outputs": [],
   "source": [
    "vocab = torchtext.vocab.build_vocab_from_iterator(tokens, min_freq = 5, specials = ['<unk>', '<pad>'])"
   ]
  },
  {
   "cell_type": "code",
   "execution_count": 35,
   "metadata": {},
   "outputs": [
    {
     "name": "stdout",
     "output_type": "stream",
     "text": [
      "['<unk>', '<pad>', 'i', 'to', 'the', 'a', 'is', 'you', 'my', 'it']\n"
     ]
    }
   ],
   "source": [
    "print(vocab.get_itos()[:10])"
   ]
  },
  {
   "cell_type": "code",
   "execution_count": 36,
   "metadata": {},
   "outputs": [
    {
     "name": "stdout",
     "output_type": "stream",
     "text": [
      "unk index =  0\n",
      "pad index =  1\n",
      "[190, 6, 11, 325, 0]\n"
     ]
    }
   ],
   "source": [
    "unk_index = vocab['<unk>']\n",
    "print('unk index = ', unk_index)\n",
    "pad_index = vocab['<pad>']\n",
    "print('pad index = ', pad_index)\n",
    "#set default index\n",
    "vocab.set_default_index(unk_index)\n",
    "print(vocab.lookup_indices(['something','is', 'not', 'okay', 'this should not be found']))\n",
    "\n",
    "with open('vocab.txt', 'w') as file:\n",
    "    for item in vocab.get_itos():\n",
    "        file.write(item + '\\n')"
   ]
  },
  {
   "cell_type": "code",
   "execution_count": 38,
   "metadata": {},
   "outputs": [
    {
     "name": "stdout",
     "output_type": "stream",
     "text": [
      "['a', 'that', 'is', 'a', 'bummer', 'you', 'shoulda', 'got', 'david', 'carr', 'of', 'third', 'day', 'to', 'do', 'it', 'd']\n",
      "[5, 17, 6, 5, 1132, 7, 3367, 43, 802, 9263, 15, 1806, 35, 3, 21, 9, 261]\n"
     ]
    }
   ],
   "source": [
    "print(tokens[0])\n",
    "print(vocab(tokens[0]))"
   ]
  },
  {
   "cell_type": "code",
   "execution_count": 39,
   "metadata": {},
   "outputs": [
    {
     "name": "stderr",
     "output_type": "stream",
     "text": [
      "100%|██████████| 1595958/1595958 [00:44<00:00, 36031.49it/s]\n"
     ]
    }
   ],
   "source": [
    "def get_data(features, labels, vocab):\n",
    "    X = []\n",
    "    y = []\n",
    "    valid_lens = []\n",
    "    for i, feature in enumerate(tqdm((features))):\n",
    "        valid_len = len(feature)\n",
    "        if valid_len <= 0: \n",
    "            print('valid len = 0')\n",
    "            continue\n",
    "        X.append(torch.tensor(vocab(feature)))\n",
    "        y.append(torch.tensor(labels[i]))\n",
    "        valid_lens.append(torch.tensor(valid_len))\n",
    "\n",
    "    return X,y,valid_lens\n",
    "\n",
    "X,y,valid_lens = get_data(tokens, labels, vocab)\n"
   ]
  },
  {
   "cell_type": "code",
   "execution_count": 40,
   "metadata": {},
   "outputs": [],
   "source": [
    "X = pad_sequence(X, batch_first=True, padding_value = pad_index)\n",
    "y = torch.tensor(y)\n",
    "valid_lens = torch.tensor(valid_lens)"
   ]
  },
  {
   "cell_type": "code",
   "execution_count": 41,
   "metadata": {},
   "outputs": [
    {
     "name": "stdout",
     "output_type": "stream",
     "text": [
      "X shape =  torch.Size([1595958, 53])\n",
      "y shape =  torch.Size([1595958])\n",
      "valid_lens shape =  torch.Size([1595958])\n"
     ]
    }
   ],
   "source": [
    "print('X shape = ', X.shape)\n",
    "print('y shape = ', y.shape)\n",
    "print('valid_lens shape = ', valid_lens.shape)"
   ]
  },
  {
   "cell_type": "code",
   "execution_count": 42,
   "metadata": {},
   "outputs": [
    {
     "name": "stdout",
     "output_type": "stream",
     "text": [
      "tensor([17, 21, 16,  ..., 11, 12,  1])\n"
     ]
    }
   ],
   "source": [
    "print(valid_lens)"
   ]
  },
  {
   "cell_type": "markdown",
   "metadata": {},
   "source": [
    "# Prep Dataset"
   ]
  },
  {
   "cell_type": "code",
   "execution_count": 43,
   "metadata": {},
   "outputs": [],
   "source": [
    "class TweetDataset(Dataset):\n",
    "\n",
    "    def __init__(self, X, y, valid_lens):\n",
    "        assert torch.is_tensor(X) == True, 'X, y, and valid_lens must be torch.tensor'\n",
    "        assert torch.is_tensor(y) == True, 'X, y, and valid_lens must be torch.tensor'\n",
    "        assert torch.is_tensor(valid_lens) == True, 'X, y, and valid_lens must be torch.tensor'\n",
    "        batch_size, seq_len = X.shape\n",
    "        assert batch_size == y.shape[0] == len(valid_lens), 'X, y, and valid lens do not have the same 0 dim'\n",
    "\n",
    "        self.X = X\n",
    "        self.y = y \n",
    "        self.valid_lens = valid_lens\n",
    "    \n",
    "    def __getitem__(self, index) -> tuple:\n",
    "        return self.X[index], self.y[index], self.valid_lens[index]\n",
    "    \n",
    "    def __len__(self):\n",
    "        return len(self.X)"
   ]
  },
  {
   "cell_type": "code",
   "execution_count": 44,
   "metadata": {},
   "outputs": [
    {
     "name": "stdout",
     "output_type": "stream",
     "text": [
      "1595958\n"
     ]
    }
   ],
   "source": [
    "    \n",
    "dataset = TweetDataset(X, y, valid_lens) \n",
    "print(len(dataset))"
   ]
  },
  {
   "cell_type": "markdown",
   "metadata": {},
   "source": [
    "# Save/Load dataset\n",
    "to save time from processing from scratch"
   ]
  },
  {
   "cell_type": "code",
   "execution_count": 45,
   "metadata": {},
   "outputs": [],
   "source": [
    "TENSOR_DATA_PATH = os.path.join(ROOT, 'output')\n",
    "if os.path.exists(TENSOR_DATA_PATH) == False: \n",
    "    os.makedirs(TENSOR_DATA_PATH)\n",
    "\n",
    "#===== SAVE\n",
    "# torch.save(dataset, os.path.join(TENSOR_DATA_PATH, 'tweet140.dataset.torch'))\n",
    "# torch.save(vocab, os.path.join(TENSOR_DATA_PATH,'vocab.obj'))\n",
    "\n",
    "#===== LOAD\n",
    "dataset = torch.load(os.path.join(TENSOR_DATA_PATH, 'tweet140.dataset.torch'))\n",
    "print('dataset len = ', len(dataset))\n",
    "vocab = torch.load(os.path.join(TENSOR_DATA_PATH,'vocab.obj'))\n",
    "print('vocab len = ', len(vocab))\n"
   ]
  },
  {
   "cell_type": "code",
   "execution_count": 46,
   "metadata": {},
   "outputs": [
    {
     "name": "stdout",
     "output_type": "stream",
     "text": [
      "train dataset len =  1276766\n",
      "val dataset len =  159596\n",
      "test datasel len =  159596\n"
     ]
    }
   ],
   "source": [
    "# Split train valid test\n",
    "train_ratio = 0.8\n",
    "train_len = int(train_ratio * len(dataset))\n",
    "val_len = test_len = (len(dataset) - train_len)//2\n",
    "train_dataset, val_dataset, test_dataset = random_split(dataset,[train_len, val_len, test_len])\n",
    "\n",
    "\n",
    "print('train dataset len = ', len(train_dataset))\n",
    "print('val dataset len = ', len(val_dataset))\n",
    "print('test datasel len = ', len(test_dataset))\n"
   ]
  },
  {
   "cell_type": "markdown",
   "metadata": {},
   "source": [
    "# Why we need valid lens and pack_padded_sequence\n",
    "\n",
    "pack_padded_sequence prevents useless computations because of the padded sequence\n",
    "\n",
    "https://stackoverflow.com/questions/51030782/why-do-we-pack-the-sequences-in-pytorch"
   ]
  },
  {
   "cell_type": "code",
   "execution_count": null,
   "metadata": {},
   "outputs": [],
   "source": [
    "# sampleX, sampleY, \n",
    "# test = [torch.rand(random.randint(3,10)) for _ in range(10)] \n",
    "# valid_lens = [len(x) for x in test] \n",
    "# print(test)\n",
    "# print(valid_lens)\n",
    "\n",
    "# test = pad_sequence(test)\n",
    "# print(test.shape)\n",
    "\n",
    "# pack_test = pack_padded_sequence(test, valid_lens, batch_first=True, enforce_sorted=False)\n",
    "# print(pack_test)"
   ]
  },
  {
   "cell_type": "markdown",
   "metadata": {},
   "source": [
    "# LSTM model"
   ]
  },
  {
   "cell_type": "code",
   "execution_count": 48,
   "metadata": {},
   "outputs": [
    {
     "name": "stdout",
     "output_type": "stream",
     "text": [
      "sample X  tensor([[ 26, 623, 774, 182, 866, 795, 919, 540, 460,  71],\n",
      "        [662, 562, 238, 154, 642, 621, 703, 328, 941, 188],\n",
      "        [877, 866,  57, 384, 882, 839, 445, 138, 808, 632],\n",
      "        [828, 824, 376, 501,  57, 937, 834, 902, 580, 721],\n",
      "        [711, 829, 984, 153, 737,  77,  64, 510, 293, 675]])\n",
      "sample valid lens  [8, 5, 3, 6, 9]\n",
      "tensor([[ 0.0523,  0.0037],\n",
      "        [-0.0954,  0.0253],\n",
      "        [ 0.0024,  0.0398],\n",
      "        [ 0.0505,  0.0006],\n",
      "        [ 0.0519,  0.0097]], grad_fn=<AddmmBackward0>)\n"
     ]
    }
   ],
   "source": [
    "class LSTMClassifier(nn.Module):\n",
    "    def __init__(\n",
    "        self,\n",
    "        vocab_size, \n",
    "        embedding_size,\n",
    "        hidden_size,\n",
    "        num_layers,\n",
    "        # bidirectional,\n",
    "        output_size, \n",
    "        pad_index,\n",
    "        dropout = 0.5,\n",
    "    ):\n",
    "        super().__init__()\n",
    "        self.embedding = nn.Embedding(vocab_size, embedding_size, padding_idx=pad_index)\n",
    "        self.lstm = nn.LSTM(\n",
    "            embedding_size,\n",
    "            hidden_size=hidden_size,\n",
    "            num_layers=num_layers,\n",
    "            # bidirectional=bidirectional,\n",
    "            dropout = dropout,\n",
    "            batch_first=True\n",
    "        )\n",
    "        self.fc = nn.Linear(hidden_size, output_size)\n",
    "        self.dropout = nn.Dropout(dropout)\n",
    "    \n",
    "    def count_params(self) -> int:\n",
    "        return sum(p.numel() for p in self.parameters() if p.requires_grad)\n",
    "    \n",
    "    def load_pretrained_embedding(self, pretrained) -> None:\n",
    "        #Loading glove\n",
    "        self.embedding.weight.data = pretrained\n",
    "    \n",
    "    def forward(self, X, valid_lens, debug = False) -> torch.tensor:\n",
    "        embedded = self.embedding(X)\n",
    "        #using pack_padded_sequence to optimize computations in large datasets\n",
    "        packed_embedded = nn.utils.rnn.pack_padded_sequence(\n",
    "            embedded, valid_lens, batch_first=True, enforce_sorted=False\n",
    "        )\n",
    "\n",
    "        # print('pack embedded shape = ', packed_embedded)\n",
    "\n",
    "        packed_output, (hidden, cell) = self.lstm(packed_embedded)\n",
    "\n",
    "        #because packed output will have different lengths\n",
    "        # output, output_length = pack_padded_sequence(packed_output, valid_lens)\n",
    "        #only use the last hidden layer for dense\n",
    "        hidden = self.dropout(hidden[-1])\n",
    "\n",
    "        y_pred = self.fc(hidden)\n",
    "        if debug:\n",
    "            print('original X shape = ', X.shape)\n",
    "            print('valid lens shape = ', len(valid_lens))\n",
    "            print('hidden shape = ', hidden.shape)\n",
    "            print('last hidden shape = ', hidden.shape)\n",
    "            print('output shape = ', y_pred.shape)\n",
    "        return y_pred\n",
    "    \n",
    "def init_weights(m):\n",
    "    if isinstance(m, nn.Linear):\n",
    "        nn.init.xavier_normal_(m.weight)\n",
    "        nn.init.zeros_(m.bias)\n",
    "    elif isinstance(m, nn.LSTM):\n",
    "        for name, param in m.named_parameters():\n",
    "            if 'bias' in name:\n",
    "                nn.init.zeros_(param)\n",
    "            elif 'weight' in name:\n",
    "                nn.init.orthogonal_(param)\n",
    "\n",
    "cls = LSTMClassifier(1000, 30, 16, 2, 2, 3)        \n",
    "cls.apply(init_weights)\n",
    "\n",
    "sample_X = torch.randint(0,1000, (5, 10))\n",
    "sample_valid_lens = [random.randint(3,10) for _ in range(5)]\n",
    "print('sample X ', sample_X)\n",
    "print('sample valid lens ', sample_valid_lens)\n",
    "\n",
    "y_pred = cls(sample_X, sample_valid_lens)\n",
    "print(y_pred)"
   ]
  },
  {
   "cell_type": "markdown",
   "metadata": {},
   "source": [
    "# Hyperparms"
   ]
  },
  {
   "cell_type": "code",
   "execution_count": 49,
   "metadata": {},
   "outputs": [
    {
     "name": "stdout",
     "output_type": "stream",
     "text": [
      "vocab size =  50809\n",
      "device =  cuda\n"
     ]
    }
   ],
   "source": [
    "vocab_size = len(vocab)\n",
    "print('vocab size = ', vocab_size)\n",
    "#getting glove vectors\n",
    "glove_vectors = torchtext.vocab.GloVe(name='6B')\n",
    "pretrained_embedding = glove_vectors.get_vecs_by_tokens(vocab.get_itos())\n",
    "\n",
    "#this muut match the GloVe pretrained dimension\n",
    "embedding_size = 300\n",
    "hidden_size = 300\n",
    "\n",
    "#here we'll use CrossEntropyLoss instead of BCE\n",
    "output_size = 2\n",
    "\n",
    "batch_size = 100\n",
    "\n",
    "num_layers = 2\n",
    "\n",
    "dropout = 0.5\n",
    "\n",
    "lr = 5e-4\n",
    "batch_size = 128\n",
    "\n",
    "device = 'cuda' if torch.cuda.is_available() else 'cpu'\n",
    "print('device = ', device)"
   ]
  },
  {
   "cell_type": "markdown",
   "metadata": {},
   "source": [
    "# Training loop"
   ]
  },
  {
   "cell_type": "code",
   "execution_count": 80,
   "metadata": {},
   "outputs": [],
   "source": [
    "def get_accuracy(y_pred, y):\n",
    "    batch_size = y_pred.shape[0]\n",
    "    pred_classes = y_pred.argmax(-1)\n",
    "    correct = torch.sum(pred_classes == y)\n",
    "    return (correct/batch_size).item()\n",
    "\n",
    "\n",
    "def train(model, dataloader, optimizer, criterion, device, epoch):\n",
    "\n",
    "    model.train()\n",
    "    scores = []\n",
    "    losses = []\n",
    "\n",
    "    loop = tqdm(dataloader)\n",
    "\n",
    "    for X,y,valid_lens in loop:\n",
    "        X = X.to(device)\n",
    "        y = y.to(device)\n",
    "\n",
    "        y_pred = model(X, valid_lens)\n",
    "        loss = criterion(y_pred, y)\n",
    "        optimizer.zero_grad()\n",
    "        loss.backward()\n",
    "        optimizer.step()\n",
    "        #get accuracy\n",
    "        score = get_accuracy(y_pred, y)\n",
    "\n",
    "\n",
    "        scores.append(score)\n",
    "        losses.append(loss.item())\n",
    "\n",
    "        loop.set_description(f'ep = {epoch}, scores = {np.mean(scores):.2f}, loss = {np.mean(losses):.2f}')\n",
    "\n",
    "    return np.mean(scores), np.mean(losses)\n",
    "\n",
    "def evaluate(model, dataloader, criterion, device, epoch):\n",
    "    model.eval()\n",
    "\n",
    "    scores = []\n",
    "    losses = []\n",
    "\n",
    "    loop = tqdm(dataloader)\n",
    "\n",
    "    with torch.no_grad():\n",
    "\n",
    "        for X,y,valid_lens in tqdm(dataloader):\n",
    "            X = X.to(device)\n",
    "            y = y.to(device)\n",
    "            y_pred = model(X, valid_lens)\n",
    "            loss = criterion(y_pred, y)\n",
    "            #get accuracy\n",
    "            score = get_accuracy(y_pred, y)\n",
    "\n",
    "            scores.append(score)\n",
    "            losses.append(loss.item())\n",
    "\n",
    "            loop.set_description(f'ep = {epoch}, scores = {np.mean(scores)}, loss = {np.mean(losses)}')\n",
    "    \n",
    "    return np.mean(scores), np.mean(losses)\n",
    "\n"
   ]
  },
  {
   "cell_type": "code",
   "execution_count": 81,
   "metadata": {},
   "outputs": [
    {
     "name": "stdout",
     "output_type": "stream",
     "text": [
      "train dataloader len =  9975\n",
      "val dataloader len =  1247\n",
      "test dataloader len =  1247\n",
      "params =  16688102\n"
     ]
    },
    {
     "name": "stderr",
     "output_type": "stream",
     "text": [
      "ep = 0, scores = 0.80, loss = 0.44:  38%|███▊      | 3827/9975 [01:15<02:01, 50.44it/s]\n"
     ]
    },
    {
     "ename": "KeyboardInterrupt",
     "evalue": "",
     "output_type": "error",
     "traceback": [
      "\u001b[1;31m---------------------------------------------------------------------------\u001b[0m",
      "\u001b[1;31mKeyboardInterrupt\u001b[0m                         Traceback (most recent call last)",
      "Cell \u001b[1;32mIn[81], line 33\u001b[0m\n\u001b[0;32m     28\u001b[0m best_loss \u001b[38;5;241m=\u001b[39m \u001b[38;5;241m0\u001b[39m\n\u001b[0;32m     31\u001b[0m \u001b[38;5;28;01mfor\u001b[39;00m epoch \u001b[38;5;129;01min\u001b[39;00m \u001b[38;5;28mrange\u001b[39m(\u001b[38;5;241m10\u001b[39m):\n\u001b[1;32m---> 33\u001b[0m     train_score, train_loss \u001b[38;5;241m=\u001b[39m \u001b[43mtrain\u001b[49m\u001b[43m(\u001b[49m\u001b[43mmodel\u001b[49m\u001b[43m,\u001b[49m\u001b[43m \u001b[49m\u001b[43mtrain_dataloader\u001b[49m\u001b[43m,\u001b[49m\u001b[43m \u001b[49m\u001b[43moptimizer\u001b[49m\u001b[43m,\u001b[49m\u001b[43m \u001b[49m\u001b[43mcriterion\u001b[49m\u001b[43m,\u001b[49m\u001b[43m \u001b[49m\u001b[43mdevice\u001b[49m\u001b[43m,\u001b[49m\u001b[43m \u001b[49m\u001b[43mepoch\u001b[49m\u001b[43m)\u001b[49m\n\u001b[0;32m     34\u001b[0m     val_score, val_loss \u001b[38;5;241m=\u001b[39m evaluate(model, val_dataloader, criterion, device, epoch)\n\u001b[0;32m     35\u001b[0m     test_score, test_loss \u001b[38;5;241m=\u001b[39m evaluate(model, test_dataloader, criterion, device, epoch)\n",
      "Cell \u001b[1;32mIn[80], line 23\u001b[0m, in \u001b[0;36mtrain\u001b[1;34m(model, dataloader, optimizer, criterion, device, epoch)\u001b[0m\n\u001b[0;32m     21\u001b[0m loss \u001b[38;5;241m=\u001b[39m criterion(y_pred, y)\n\u001b[0;32m     22\u001b[0m optimizer\u001b[38;5;241m.\u001b[39mzero_grad()\n\u001b[1;32m---> 23\u001b[0m \u001b[43mloss\u001b[49m\u001b[38;5;241;43m.\u001b[39;49m\u001b[43mbackward\u001b[49m\u001b[43m(\u001b[49m\u001b[43m)\u001b[49m\n\u001b[0;32m     24\u001b[0m optimizer\u001b[38;5;241m.\u001b[39mstep()\n\u001b[0;32m     25\u001b[0m \u001b[38;5;66;03m#get accuracy\u001b[39;00m\n",
      "File \u001b[1;32mc:\\Users\\nguye\\anaconda3\\envs\\torch\\lib\\site-packages\\torch\\_tensor.py:487\u001b[0m, in \u001b[0;36mTensor.backward\u001b[1;34m(self, gradient, retain_graph, create_graph, inputs)\u001b[0m\n\u001b[0;32m    477\u001b[0m \u001b[38;5;28;01mif\u001b[39;00m has_torch_function_unary(\u001b[38;5;28mself\u001b[39m):\n\u001b[0;32m    478\u001b[0m     \u001b[38;5;28;01mreturn\u001b[39;00m handle_torch_function(\n\u001b[0;32m    479\u001b[0m         Tensor\u001b[38;5;241m.\u001b[39mbackward,\n\u001b[0;32m    480\u001b[0m         (\u001b[38;5;28mself\u001b[39m,),\n\u001b[1;32m   (...)\u001b[0m\n\u001b[0;32m    485\u001b[0m         inputs\u001b[38;5;241m=\u001b[39minputs,\n\u001b[0;32m    486\u001b[0m     )\n\u001b[1;32m--> 487\u001b[0m \u001b[43mtorch\u001b[49m\u001b[38;5;241;43m.\u001b[39;49m\u001b[43mautograd\u001b[49m\u001b[38;5;241;43m.\u001b[39;49m\u001b[43mbackward\u001b[49m\u001b[43m(\u001b[49m\n\u001b[0;32m    488\u001b[0m \u001b[43m    \u001b[49m\u001b[38;5;28;43mself\u001b[39;49m\u001b[43m,\u001b[49m\u001b[43m \u001b[49m\u001b[43mgradient\u001b[49m\u001b[43m,\u001b[49m\u001b[43m \u001b[49m\u001b[43mretain_graph\u001b[49m\u001b[43m,\u001b[49m\u001b[43m \u001b[49m\u001b[43mcreate_graph\u001b[49m\u001b[43m,\u001b[49m\u001b[43m \u001b[49m\u001b[43minputs\u001b[49m\u001b[38;5;241;43m=\u001b[39;49m\u001b[43minputs\u001b[49m\n\u001b[0;32m    489\u001b[0m \u001b[43m\u001b[49m\u001b[43m)\u001b[49m\n",
      "File \u001b[1;32mc:\\Users\\nguye\\anaconda3\\envs\\torch\\lib\\site-packages\\torch\\autograd\\__init__.py:200\u001b[0m, in \u001b[0;36mbackward\u001b[1;34m(tensors, grad_tensors, retain_graph, create_graph, grad_variables, inputs)\u001b[0m\n\u001b[0;32m    195\u001b[0m     retain_graph \u001b[38;5;241m=\u001b[39m create_graph\n\u001b[0;32m    197\u001b[0m \u001b[38;5;66;03m# The reason we repeat same the comment below is that\u001b[39;00m\n\u001b[0;32m    198\u001b[0m \u001b[38;5;66;03m# some Python versions print out the first line of a multi-line function\u001b[39;00m\n\u001b[0;32m    199\u001b[0m \u001b[38;5;66;03m# calls in the traceback and some print out the last line\u001b[39;00m\n\u001b[1;32m--> 200\u001b[0m \u001b[43mVariable\u001b[49m\u001b[38;5;241;43m.\u001b[39;49m\u001b[43m_execution_engine\u001b[49m\u001b[38;5;241;43m.\u001b[39;49m\u001b[43mrun_backward\u001b[49m\u001b[43m(\u001b[49m\u001b[43m  \u001b[49m\u001b[38;5;66;43;03m# Calls into the C++ engine to run the backward pass\u001b[39;49;00m\n\u001b[0;32m    201\u001b[0m \u001b[43m    \u001b[49m\u001b[43mtensors\u001b[49m\u001b[43m,\u001b[49m\u001b[43m \u001b[49m\u001b[43mgrad_tensors_\u001b[49m\u001b[43m,\u001b[49m\u001b[43m \u001b[49m\u001b[43mretain_graph\u001b[49m\u001b[43m,\u001b[49m\u001b[43m \u001b[49m\u001b[43mcreate_graph\u001b[49m\u001b[43m,\u001b[49m\u001b[43m \u001b[49m\u001b[43minputs\u001b[49m\u001b[43m,\u001b[49m\n\u001b[0;32m    202\u001b[0m \u001b[43m    \u001b[49m\u001b[43mallow_unreachable\u001b[49m\u001b[38;5;241;43m=\u001b[39;49m\u001b[38;5;28;43;01mTrue\u001b[39;49;00m\u001b[43m,\u001b[49m\u001b[43m \u001b[49m\u001b[43maccumulate_grad\u001b[49m\u001b[38;5;241;43m=\u001b[39;49m\u001b[38;5;28;43;01mTrue\u001b[39;49;00m\u001b[43m)\u001b[49m\n",
      "\u001b[1;31mKeyboardInterrupt\u001b[0m: "
     ]
    }
   ],
   "source": [
    "train_dataloader = DataLoader(train_dataset, batch_size = batch_size, shuffle=True)\n",
    "val_dataloader = DataLoader(val_dataset, batch_size = batch_size, shuffle=True)\n",
    "test_dataloader = DataLoader(test_dataset, batch_size = batch_size, shuffle=True)\n",
    "print('train dataloader len = ', len(train_dataloader))\n",
    "print('val dataloader len = ', len(val_dataloader))\n",
    "print('test dataloader len = ', len(test_dataloader))\n",
    "\n",
    "model = LSTMClassifier(\n",
    "    vocab_size,\n",
    "    embedding_size,\n",
    "    hidden_size, \n",
    "    num_layers,\n",
    "    output_size,\n",
    "    pad_index\n",
    ")\n",
    "\n",
    "model.apply(init_weights)\n",
    "model.load_pretrained_embedding(pretrained_embedding)\n",
    "\n",
    "model.to(device)\n",
    "optimizer = torch.optim.Adam(model.parameters(), lr = lr)\n",
    "criterion = nn.CrossEntropyLoss()\n",
    "criterion.to(device)\n",
    "\n",
    "print('params = ', model.count_params())\n",
    "history = defaultdict(list)\n",
    "\n",
    "best_loss = 0\n",
    "\n",
    "\n",
    "for epoch in range(10):\n",
    "\n",
    "    train_score, train_loss = train(model, train_dataloader, optimizer, criterion, device, epoch)\n",
    "    val_score, val_loss = evaluate(model, val_dataloader, criterion, device, epoch)\n",
    "    test_score, test_loss = evaluate(model, test_dataloader, criterion, device, epoch)\n",
    "\n",
    "    history['train_score'].append(train_score)\n",
    "    history['train_loss'].append(train_loss)\n",
    "    history['val_score'].append(val_score)\n",
    "    history['val_loss'].append(val_loss)\n",
    "    history['test_score'].append(test_score)\n",
    "    history['test_loss'].append(test_loss)\n",
    "\n",
    "    if best_loss > val_loss:\n",
    "        best_loss = val_loss\n",
    "        torch.save(model, os.path.join(ROOT, 'output', 'lstm.checkpoint.torch'))\n",
    "        print('saved checkpoint')\n",
    "    \n",
    "    print(f'train: score={train_score}, loss={train_loss}')\n",
    "    print(f'val: score={val_score}, loss={val_loss}')\n",
    "    print(f'test: score={test_score}, loss={test_loss}')\n",
    "        \n",
    "fig, (ax1, ax2) = plt.subplots(2,1)\n",
    "indices = list(range(len(history['train_score'])))\n",
    "sns.lineplot(y = history['train_score'], x = indices, ax = ax1, label = 'train')\n",
    "sns.lineplot(y = history['val_score'], x = indices, ax = ax1, color = 'green', label = 'valid')\n",
    "sns.lineplot(y = history['test_score'], x = indices, ax = ax1, color = 'red', label = 'test')\n",
    "ax1.set_title('Accuracy')\n",
    "\n",
    "sns.lineplot(y = history['train_loss'], x = indices, ax = ax2, label = 'train')\n",
    "sns.lineplot(y = history['val_loss'], x = indices, ax = ax2, color = 'green', label = 'valid')\n",
    "sns.lineplot(y = history['test_loss'], x = indices, ax = ax2, color = 'red', label = 'test')\n",
    "ax2.set_title('Loss')\n",
    "plt.show()\n",
    "\n",
    "\n",
    "\n",
    "\n",
    "\n",
    "\n"
   ]
  },
  {
   "cell_type": "code",
   "execution_count": 72,
   "metadata": {},
   "outputs": [
    {
     "data": {
      "image/png": "[encoded data removed]",
      "text/plain": [
       "<Figure size 640x480 with 2 Axes>"
      ]
     },
     "metadata": {},
     "output_type": "display_data"
    }
   ],
   "source": [
    "# fig, (ax1, ax2) = plt.subplots(2,1)\n",
    "# indices = list(range(len(history['train_score'])))\n",
    "# sns.lineplot(y = history['train_score'], x = indices, ax = ax1, label = 'train')\n",
    "# sns.lineplot(y = history['val_score'], x = indices, ax = ax1, color = 'green', label = 'valid')\n",
    "# sns.lineplot(y = history['test_score'], x = indices, ax = ax1, color = 'red', label = 'test')\n",
    "# ax1.set_title('Accuracy')\n",
    "\n",
    "# sns.lineplot(y = history['train_loss'], x = indices, ax = ax2, label = 'train')\n",
    "# sns.lineplot(y = history['val_loss'], x = indices, ax = ax2, color = 'green', label = 'valid')\n",
    "# sns.lineplot(y = history['test_loss'], x = indices, ax = ax2, color = 'red', label = 'test')\n",
    "# ax2.set_title('Loss')\n",
    "# plt.show()"
   ]
  },
  {
   "cell_type": "code",
   "execution_count": null,
   "metadata": {},
   "outputs": [],
   "source": []
  }
 ],
 "metadata": {
  "kernelspec": {
   "display_name": "Python 3.11.6 ('torch')",
   "language": "python",
   "name": "python3"
  },
  "language_info": {
   "codemirror_mode": {
    "name": "ipython",
    "version": 3
   },
   "file_extension": ".py",
   "mimetype": "text/x-python",
   "name": "python",
   "nbconvert_exporter": "python",
   "pygments_lexer": "ipython3",
   "version": "3.9.18"
  },
  "orig_nbformat": 4,
  "vscode": {
   "interpreter": {
    "hash": "af18273774455bc90f5456b9f4898eab7ba4de506fde0c1d0784da333c7e8bbc"
   }
  }
 },
 "nbformat": 4,
 "nbformat_minor": 2
}
