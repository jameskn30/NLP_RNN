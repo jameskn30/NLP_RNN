{
 "cells": [
  {
   "cell_type": "code",
   "execution_count": 1,
   "metadata": {},
   "outputs": [],
   "source": [
    "import os\n",
    "from torchtext.vocab import build_vocab_from_iterator\n",
    "from nltk.tokenize import word_tokenize\n",
    "import re"
   ]
  },
  {
   "cell_type": "code",
   "execution_count": 2,
   "metadata": {},
   "outputs": [
    {
     "name": "stdout",
     "output_type": "stream",
     "text": [
      "I HAD always thought Jack Gisburn rather a cheap genius--though a good fellow enough--so it was no g\n",
      "20479\n"
     ]
    }
   ],
   "source": [
    "pwd = os.getcwd()\n",
    "path = os.path.join(pwd, 'verdict.txt')\n",
    "\n",
    "with open(path, 'r') as file:\n",
    "    content = file.read()\n",
    "\n",
    "print(content[:100])\n",
    "print(len(content))\n"
   ]
  },
  {
   "cell_type": "code",
   "execution_count": 3,
   "metadata": {},
   "outputs": [
    {
     "name": "stdout",
     "output_type": "stream",
     "text": [
      "tokens len = 4544\n",
      "tokens ['I', 'HAD', 'always', 'thought', 'Jack', 'Gisburn', 'rather', 'a', 'cheap', 'genius', '--', 'though', 'a', 'good', 'fellow', 'enough', '--', 'so', 'it', 'was', 'no', 'great', 'surprise', 'to', 'me', 'to', 'hear', 'that', ',', 'in', 'the', 'height', 'of', 'his', 'glory', ',', 'he', 'had', 'dropped', 'his', 'painting', ',', 'married', 'a', 'rich', 'widow', ',', 'and', 'established', 'himself', 'in', 'a', 'villa', 'on', 'the', 'Riviera', '.', '(', 'Though', 'I', 'rather', 'thought', 'it', 'would', 'have', 'been', 'Rome', 'or', 'Florence', '.', ')', '``', 'The', 'height', 'of', 'his', 'glory', \"''\", '--', 'that', 'was', 'what', 'the', 'women', 'called', 'it', '.', 'I', 'can', 'hear', 'Mrs.', 'Gideon', 'Thwing', '--', 'his', 'last', 'Chicago', 'sitter', '--', 'deploring']\n"
     ]
    }
   ],
   "source": [
    "# tokens = tokenize(content)\n",
    "tokens = word_tokenize(content)\n",
    "\n",
    "print(f\"tokens len = {len(tokens)}\")\n",
    "print(f\"tokens {tokens[:100]}\")"
   ]
  },
  {
   "cell_type": "code",
   "execution_count": 4,
   "metadata": {},
   "outputs": [
    {
     "name": "stdout",
     "output_type": "stream",
     "text": [
      "len vocab =  1141\n",
      "['<|unk|>', '<|endoftext|>', '<|pad|>', ',', '.', 'the', 'I', 'of', '--', 'to']\n"
     ]
    }
   ],
   "source": [
    "vocab = build_vocab_from_iterator([tokens], specials=[\"<|unk|>\", \"<|endoftext|>\", \"<|pad|>\"])\n",
    "vocab.set_default_index(vocab['<|unk|>'])\n",
    "print('len vocab = ', len(vocab))\n",
    "print(vocab.get_itos()[:10])\n"
   ]
  },
  {
   "cell_type": "code",
   "execution_count": 5,
   "metadata": {},
   "outputs": [
    {
     "name": "stdout",
     "output_type": "stream",
     "text": [
      "<|unk|>  id =  0\n"
     ]
    }
   ],
   "source": [
    "for id, word in enumerate(vocab.get_itos()):\n",
    "    print(word, ' id = ', id)\n",
    "    break"
   ]
  },
  {
   "cell_type": "code",
   "execution_count": 6,
   "metadata": {},
   "outputs": [],
   "source": [
    "class SimpleTokenizerV2:\n",
    "\n",
    "    def __init__(self, vocab) -> None:\n",
    "        self.str_to_int = vocab\n",
    "        self.int_to_str = { id: word for id, word in enumerate(vocab.get_itos())}\n",
    "    \n",
    "    def encode(self, content):\n",
    "        tokens = word_tokenize(content)\n",
    "        res = [self.str_to_int[token] for token in tokens]\n",
    "        return res\n",
    "    \n",
    "    def decode(self, ids):\n",
    "        res = ' '.join([self.int_to_str[id] for id in ids])\n",
    "        return res"
   ]
  },
  {
   "cell_type": "code",
   "execution_count": 7,
   "metadata": {},
   "outputs": [
    {
     "name": "stdout",
     "output_type": "stream",
     "text": [
      "encode =  [1007, 74, 1110, 344]\n",
      "decode =  something is very good\n"
     ]
    }
   ],
   "source": [
    "simpletokenizer = SimpleTokenizerV2(vocab)\n",
    "\n",
    "res = simpletokenizer.encode(\"something is very good\")\n",
    "print('encode = ', res)\n",
    "\n",
    "res = simpletokenizer.decode(res)\n",
    "print('decode = ', res)"
   ]
  },
  {
   "cell_type": "markdown",
   "metadata": {},
   "source": [
    "# Section for BPE with tiktoken library"
   ]
  },
  {
   "cell_type": "code",
   "execution_count": 8,
   "metadata": {},
   "outputs": [],
   "source": [
    "import tiktoken"
   ]
  },
  {
   "cell_type": "code",
   "execution_count": 9,
   "metadata": {},
   "outputs": [],
   "source": [
    "tokenizer = tiktoken.get_encoding('gpt2')"
   ]
  },
  {
   "cell_type": "code",
   "execution_count": 10,
   "metadata": {},
   "outputs": [
    {
     "name": "stdout",
     "output_type": "stream",
     "text": [
      "[15496, 11, 466, 345, 588, 8887, 30, 220, 50256, 554, 262, 4252, 18250, 8812, 2114, 1659, 617, 34680, 27271, 13]\n",
      "Hello, do you like tea? <|endoftext|> In the sunlit terracesof someunknownPlace.\n"
     ]
    }
   ],
   "source": [
    "text = (\n",
    "    \"Hello, do you like tea? <|endoftext|> In the sunlit terraces\"\n",
    "     \"of someunknownPlace.\"\n",
    ")\n",
    "\n",
    "ids = tokenizer.encode(text, allowed_special={\"<|endoftext|>\"})\n",
    "print(ids)\n",
    "print(tokenizer.decode(ids))"
   ]
  },
  {
   "cell_type": "markdown",
   "metadata": {},
   "source": [
    "# Training data with sliding window sampling"
   ]
  },
  {
   "cell_type": "code",
   "execution_count": 11,
   "metadata": {},
   "outputs": [
    {
     "name": "stdout",
     "output_type": "stream",
     "text": [
      "I HAD always thought Jack Gisburn rather a cheap genius--though a good fellow enough--so it was no g\n"
     ]
    }
   ],
   "source": [
    "print(content[:100])\n",
    "tokenizer = tiktoken.get_encoding('gpt2')"
   ]
  },
  {
   "cell_type": "code",
   "execution_count": 12,
   "metadata": {},
   "outputs": [
    {
     "name": "stdout",
     "output_type": "stream",
     "text": [
      "total len =  5145\n",
      "ids =  [40, 367, 2885, 1464, 1807, 3619, 402, 271, 10899, 2138]\n"
     ]
    }
   ],
   "source": [
    "ids = tokenizer.encode(content)\n",
    "print('total len = ', len(ids))\n",
    "print('ids = ', ids[:10])"
   ]
  },
  {
   "cell_type": "code",
   "execution_count": 13,
   "metadata": {},
   "outputs": [],
   "source": [
    "import torch\n",
    "from torch.utils.data import Dataset, DataLoader\n",
    "\n",
    "class GPTDatasetV1(Dataset):\n",
    "    def __init__(self, content, tokenizer, max_len, stride = 1):\n",
    "        self.input_ids = []\n",
    "        self.target_ids = []\n",
    "\n",
    "        token_ids = tokenizer.encode(content)\n",
    "\n",
    "        for i in range(0, len(token_ids) - max_len, stride):\n",
    "            input_chunk = token_ids[i: i + max_len]\n",
    "            target_chunk = token_ids[i + 1: i + max_len + 1]\n",
    "            self.input_ids.append(torch.tensor(input_chunk))\n",
    "            self.target_ids.append(torch.tensor(target_chunk))\n",
    "        \n",
    "    def __len__(self) -> int: \n",
    "        return len(self.input_ids)\n",
    "\n",
    "    def __getitem__(self, index) -> torch.Tensor:\n",
    "        return self.input_ids[index], self.target_ids[index]\n",
    "\n",
    "\n",
    "sample_ds = GPTDatasetV1(content, tokenizer, 100)"
   ]
  },
  {
   "cell_type": "code",
   "execution_count": 14,
   "metadata": {},
   "outputs": [
    {
     "name": "stdout",
     "output_type": "stream",
     "text": [
      "input ids =  [tensor([   40,   367,  2885,  1464,  1807,  3619,   402,   271, 10899,  2138,\n",
      "          257,  7026, 15632,   438,  2016,   257,   922,  5891,  1576,   438,\n",
      "          568,   340,   373,   645,  1049,  5975,   284,   502,   284,  3285,\n",
      "          326,    11,   287,   262,  6001,   286,   465, 13476,    11,   339,\n",
      "          550,  5710,   465, 12036,    11,  6405,   257,  5527, 27075,    11,\n",
      "          290,  4920,  2241,   287,   257,  4489,    64,   319,   262, 34686,\n",
      "        41976,    13,   357, 10915,   314,  2138,  1807,   340,   561,   423,\n",
      "          587, 10598,   393, 28537,  2014,   198,   198,     1,   464,  6001,\n",
      "          286,   465, 13476,     1,   438,  5562,   373,   644,   262,  1466,\n",
      "         1444,   340,    13,   314,   460,  3285,  9074,    13, 46606,   536])]\n",
      "target ids =  [tensor([  367,  2885,  1464,  1807,  3619,   402,   271, 10899,  2138,   257,\n",
      "         7026, 15632,   438,  2016,   257,   922,  5891,  1576,   438,   568,\n",
      "          340,   373,   645,  1049,  5975,   284,   502,   284,  3285,   326,\n",
      "           11,   287,   262,  6001,   286,   465, 13476,    11,   339,   550,\n",
      "         5710,   465, 12036,    11,  6405,   257,  5527, 27075,    11,   290,\n",
      "         4920,  2241,   287,   257,  4489,    64,   319,   262, 34686, 41976,\n",
      "           13,   357, 10915,   314,  2138,  1807,   340,   561,   423,   587,\n",
      "        10598,   393, 28537,  2014,   198,   198,     1,   464,  6001,   286,\n",
      "          465, 13476,     1,   438,  5562,   373,   644,   262,  1466,  1444,\n",
      "          340,    13,   314,   460,  3285,  9074,    13, 46606,   536,  5469])]\n"
     ]
    }
   ],
   "source": [
    "print('input ids = ', sample_ds.input_ids[:1])\n",
    "print('target ids = ', sample_ds.target_ids[:1])"
   ]
  },
  {
   "cell_type": "markdown",
   "metadata": {},
   "source": [
    "### Create dataloader"
   ]
  },
  {
   "cell_type": "code",
   "execution_count": 15,
   "metadata": {},
   "outputs": [],
   "source": [
    "def create_dataloader(txt, batch_size = 8, max_len = 256, stride = 128, shuffle = True, drop_last = True, num_workers = 0):\n",
    "    assert 1 <= stride <= max_len, \"Stride must be between 1 and max_len\"\n",
    "\n",
    "    tokenizer = tiktoken.get_encoding(\"gpt2\")\n",
    "    dataset = GPTDatasetV1(txt, tokenizer, max_len, stride)\n",
    "\n",
    "    dataloader = DataLoader(\n",
    "        dataset, \n",
    "        batch_size=batch_size, \n",
    "        shuffle = shuffle, \n",
    "        drop_last=drop_last,\n",
    "        num_workers=num_workers\n",
    "    )\n",
    "    return dataloader, tokenizer, dataset"
   ]
  },
  {
   "cell_type": "code",
   "execution_count": 16,
   "metadata": {},
   "outputs": [
    {
     "name": "stdout",
     "output_type": "stream",
     "text": [
      "features = \n",
      "tensor([[  40,  367, 2885, 1464],\n",
      "        [ 367, 2885, 1464, 1807]])\n",
      "I HAD always\n",
      " HAD always thought\n",
      "labels = \n",
      "tensor([[ 367, 2885, 1464, 1807],\n",
      "        [2885, 1464, 1807, 3619]])\n",
      " HAD always thought\n",
      "AD always thought Jack\n"
     ]
    }
   ],
   "source": [
    "dataloader, tokenizer, dataset = create_dataloader(content, batch_size = 2, max_len = 4, stride = 1, shuffle = False)\n",
    "\n",
    "x, y = next(iter(dataloader))\n",
    "\n",
    "print('features = ')\n",
    "print(x)\n",
    "for row in x.tolist():\n",
    "    print(tokenizer.decode(row))\n",
    "\n",
    "print('labels = ')\n",
    "print(y)\n",
    "for row in y.tolist():\n",
    "    print(tokenizer.decode(row))"
   ]
  },
  {
   "cell_type": "markdown",
   "metadata": {},
   "source": [
    "# Embedding"
   ]
  },
  {
   "cell_type": "code",
   "execution_count": 33,
   "metadata": {},
   "outputs": [
    {
     "name": "stdout",
     "output_type": "stream",
     "text": [
      "x =  torch.Size([8, 100])\n",
      "embedded x =  torch.Size([8, 100, 16])\n",
      "torch.Size([100, 16])\n",
      "b shape =  torch.Size([8, 100, 16])\n"
     ]
    }
   ],
   "source": [
    "context_len = 100\n",
    "x = torch.randint(0,1000,(8,context_len)).long()\n",
    "print('x = ', x.shape)\n",
    "sample_vocab_size = 1000\n",
    "embedding_size = 16\n",
    "embedding_layer = torch.nn.Embedding(sample_vocab_size, embedding_size)\n",
    "\n",
    "emb_x = embedding_layer(x)\n",
    "print('embedded x = ', emb_x.shape)\n",
    "\n",
    "pos_embedding_layer = torch.nn.Embedding(context_len, embedding_size)\n",
    "pos_embeddings = pos_embedding_layer(torch.arange(context_len))\n",
    "print(pos_embeddings.shape)\n",
    "\n",
    "# print('pos embedding shape =', pos_embeddings.shape)\n",
    "\n",
    "b = emb_x + pos_embeddings \n",
    "print('b shape = ', b.shape)\n",
    "\n",
    "# print('input embedding shape = ', input_embedding.shape)"
   ]
  },
  {
   "cell_type": "code",
   "execution_count": null,
   "metadata": {},
   "outputs": [],
   "source": []
  },
  {
   "cell_type": "code",
   "execution_count": null,
   "metadata": {},
   "outputs": [],
   "source": []
  },
  {
   "cell_type": "markdown",
   "metadata": {},
   "source": []
  }
 ],
 "metadata": {
  "kernelspec": {
   "display_name": "Python 3.9.18 ('torch')",
   "language": "python",
   "name": "python3"
  },
  "language_info": {
   "codemirror_mode": {
    "name": "ipython",
    "version": 3
   },
   "file_extension": ".py",
   "mimetype": "text/x-python",
   "name": "python",
   "nbconvert_exporter": "python",
   "pygments_lexer": "ipython3",
   "version": "3.9.18"
  },
  "orig_nbformat": 4,
  "vscode": {
   "interpreter": {
    "hash": "af18273774455bc90f5456b9f4898eab7ba4de506fde0c1d0784da333c7e8bbc"
   }
  }
 },
 "nbformat": 4,
 "nbformat_minor": 2
}
