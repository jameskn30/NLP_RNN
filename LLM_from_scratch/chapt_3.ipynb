{
 "cells": [
  {
   "cell_type": "code",
   "execution_count": 24,
   "metadata": {},
   "outputs": [],
   "source": [
    "import os\n",
    "from torchtext.vocab import build_vocab_from_iterator\n",
    "from nltk.tokenize import word_tokenize\n",
    "import torch\n",
    "import re\n",
    "from torch import nn"
   ]
  },
  {
   "cell_type": "code",
   "execution_count": 2,
   "metadata": {},
   "outputs": [
    {
     "name": "stdout",
     "output_type": "stream",
     "text": [
      "torch.Size([6])\n",
      "tensor([0.9544, 1.4950, 1.4754, 0.8434, 0.7070, 1.0865])\n"
     ]
    }
   ],
   "source": [
    "#there are 6 input tokens \n",
    "inputs = torch.tensor([\n",
    "    [0.43, 0.15, 0.89],\n",
    "    [0.55, 0.87, 0.66], # compute relative to x2 (start from 1)\n",
    "    [0.57, 0.85, 0.64],\n",
    "    [0.22, 0.58, 0.33],\n",
    "    [0.77, 0.25, 0.10],\n",
    "    [0.05, 0.80, 0.55]\n",
    "])\n",
    "\n",
    "query = inputs[1] #x2\n",
    "attn_score2 = torch.empty(inputs.shape[0])\n",
    "print(attn_score2.shape)\n",
    "\n",
    "for i, xi in enumerate(inputs):\n",
    "    attn_score2[i] = torch.dot(xi, query)\n",
    "\n",
    "def atten_score(query, inputs):\n",
    "    for i, xi in enumerate(inputs):\n",
    "        attn_score2[i] = torch.dot(xi, query)\n",
    "\n",
    "print(attn_score2) #attention score for x2 using each input tokens, shape = (6)"
   ]
  },
  {
   "cell_type": "code",
   "execution_count": 3,
   "metadata": {},
   "outputs": [
    {
     "name": "stdout",
     "output_type": "stream",
     "text": [
      "tensor([0.1385, 0.2379, 0.2333, 0.1240, 0.1082, 0.1581])\n",
      "input shape =  torch.Size([6, 3])\n",
      "attn weights =  torch.Size([6])\n",
      "z(2) =  torch.Size([3])\n",
      "tensor([0.4419, 0.6515, 0.5683])\n"
     ]
    }
   ],
   "source": [
    "# Normalize attention score to get weights alpha\n",
    "\n",
    "attn_weights = torch.softmax(attn_score2, dim = 0)\n",
    "print(attn_weights)\n",
    "\n",
    "# compute context vector z(2)\n",
    "query = inputs[1]\n",
    "context_vec_2 = torch.zeros(query.shape)\n",
    "\n",
    "print('input shape = ', inputs.shape)\n",
    "print('attn weights = ', attn_weights.shape)\n",
    "print('z(2) = ', context_vec_2.shape)\n",
    "\n",
    "for i, xi in enumerate(inputs):\n",
    "    context_vec_2 += attn_weights[i] * xi\n",
    "\n",
    "print(context_vec_2)\n",
    "\n"
   ]
  },
  {
   "cell_type": "code",
   "execution_count": 4,
   "metadata": {},
   "outputs": [
    {
     "name": "stdout",
     "output_type": "stream",
     "text": [
      "for loop mat = \n",
      " tensor([[0.9995, 0.9544, 0.9422, 0.4753, 0.4576, 0.6310],\n",
      "        [0.9544, 1.4950, 1.4754, 0.8434, 0.7070, 1.0865],\n",
      "        [0.9422, 1.4754, 1.4570, 0.8296, 0.7154, 1.0605],\n",
      "        [0.4753, 0.8434, 0.8296, 0.4937, 0.3474, 0.6565],\n",
      "        [0.4576, 0.7070, 0.7154, 0.3474, 0.6654, 0.2935],\n",
      "        [0.6310, 1.0865, 1.0605, 0.6565, 0.2935, 0.9450]])\n",
      "matrix mat = \n",
      " tensor([[0.9995, 0.9544, 0.9422, 0.4753, 0.4576, 0.6310],\n",
      "        [0.9544, 1.4950, 1.4754, 0.8434, 0.7070, 1.0865],\n",
      "        [0.9422, 1.4754, 1.4570, 0.8296, 0.7154, 1.0605],\n",
      "        [0.4753, 0.8434, 0.8296, 0.4937, 0.3474, 0.6565],\n",
      "        [0.4576, 0.7070, 0.7154, 0.3474, 0.6654, 0.2935],\n",
      "        [0.6310, 1.0865, 1.0605, 0.6565, 0.2935, 0.9450]])\n",
      "attn weights \n",
      " tensor([[0.2098, 0.2006, 0.1981, 0.1242, 0.1220, 0.1452],\n",
      "        [0.1385, 0.2379, 0.2333, 0.1240, 0.1082, 0.1581],\n",
      "        [0.1390, 0.2369, 0.2326, 0.1242, 0.1108, 0.1565],\n",
      "        [0.1435, 0.2074, 0.2046, 0.1462, 0.1263, 0.1720],\n",
      "        [0.1526, 0.1958, 0.1975, 0.1367, 0.1879, 0.1295],\n",
      "        [0.1385, 0.2184, 0.2128, 0.1420, 0.0988, 0.1896]])\n",
      "context vec = \n",
      " tensor([[0.4421, 0.5931, 0.5790],\n",
      "        [0.4419, 0.6515, 0.5683],\n",
      "        [0.4431, 0.6496, 0.5671],\n",
      "        [0.4304, 0.6298, 0.5510],\n",
      "        [0.4671, 0.5910, 0.5266],\n",
      "        [0.4177, 0.6503, 0.5645]])\n"
     ]
    }
   ],
   "source": [
    "# Now compute attention scores for each input token (matrix of size 6x6)\n",
    "\n",
    "attn_score = torch.empty(inputs.shape[0], inputs.shape[0])\n",
    "for i, xi in enumerate(inputs):\n",
    "    for j, xj in enumerate(inputs):\n",
    "        attn_score[i,j] = torch.dot(xi, xj)\n",
    "    \n",
    "print('for loop mat = \\n', attn_score)\n",
    "\n",
    "#Achive the same with matrix multiplication\n",
    "attn_score = inputs @ inputs.T #matmul of (6,3) @ (3,6) = (6,6)\n",
    "print('matrix mat = \\n', attn_score)\n",
    "\n",
    "attn_weights = torch.softmax(attn_score, dim = -1)\n",
    "\n",
    "print('attn weights \\n', attn_weights)\n",
    "\n",
    "#Compute the context variable \n",
    "# matmul atten weights and inputs, (6,6) @ (6,3) = (6,3)\n",
    "\n",
    "context_vec = attn_weights @ inputs\n",
    "\n",
    "print('context vec = \\n', context_vec)\n"
   ]
  },
  {
   "cell_type": "markdown",
   "metadata": {},
   "source": [
    "# Attention with weights"
   ]
  },
  {
   "cell_type": "code",
   "execution_count": 5,
   "metadata": {},
   "outputs": [
    {
     "name": "stdout",
     "output_type": "stream",
     "text": [
      "d_in =  3  d_out =  2\n"
     ]
    }
   ],
   "source": [
    "#for illustration\n",
    "x2 = inputs[1]\n",
    "d_in = inputs.shape[1]\n",
    "d_out =  2\n",
    "print(\"d_in = \", d_in, \" d_out = \", d_out)\n",
    "\n",
    "W_query =   torch.nn.Parameter(torch.rand(d_in, d_out), requires_grad=False) # set False for illustration, set True to train later\n",
    "W_key =     torch.nn.Parameter(torch.rand(d_in, d_out), requires_grad=False)\n",
    "W_value =   torch.nn.Parameter(torch.rand(d_in, d_out), requires_grad=False)"
   ]
  },
  {
   "cell_type": "code",
   "execution_count": 8,
   "metadata": {},
   "outputs": [
    {
     "name": "stdout",
     "output_type": "stream",
     "text": [
      "x2 =  tensor([0.5500, 0.8700, 0.6600])\n",
      "tensor([1.5738, 0.7099])\n",
      "tensor([1.6218, 1.1505])\n",
      "tensor([1.1344, 0.9998])\n"
     ]
    }
   ],
   "source": [
    "query2 = x2 @ W_query # if, x2 = (1,3), query2 = (3,2) -> (1,3) @ (3,2) = (1,2)\n",
    "key2 = x2 @ W_key # if, x2 = (1,3), key2 = (3,2) -> (1,3) @ (3,2) = (1,2)\n",
    "value2 = x2 @ W_value# if, x2 = (1,3), value2 = (3,2) -> (1,3) @ (3,2) = (1,2)\n",
    "\n",
    "print('x2 = ', x2)\n",
    "print(query2)\n",
    "print(key2)\n",
    "print(value2)"
   ]
  },
  {
   "cell_type": "code",
   "execution_count": 9,
   "metadata": {},
   "outputs": [
    {
     "name": "stdout",
     "output_type": "stream",
     "text": [
      "keys shape =  torch.Size([6, 2])\n",
      "values shape =  torch.Size([6, 2])\n"
     ]
    }
   ],
   "source": [
    "keys = inputs @ W_key\n",
    "values = inputs @ W_value\n",
    "\n",
    "print(\"keys shape = \" , keys.shape)\n",
    "print(\"values shape = \" , values.shape)"
   ]
  },
  {
   "cell_type": "code",
   "execution_count": 18,
   "metadata": {},
   "outputs": [
    {
     "name": "stdout",
     "output_type": "stream",
     "text": [
      "keys 2 =  torch.Size([2])\n",
      "query 2 =  torch.Size([2])\n",
      "attn_score_keys2 =  tensor(3.3689)\n",
      "attn_scores2 =  torch.Size([6])\n"
     ]
    }
   ],
   "source": [
    "# Compute attention score with query, key, value weights for keys2\n",
    "keys2 = keys[1]\n",
    "print('keys 2 = ', keys2.shape)\n",
    "print('query 2 = ', query2.shape)\n",
    "attn_score_keys2 = query2.dot(keys2) #query shape = (2) @ keys2 = (2), product element-wise, produce 1 scalar\n",
    "print('attn_score_keys2 = ', attn_score_keys2)\n",
    "\n",
    "attn_scores2 = query2 @ keys.T # query shape = (2) @ (2, 6) = (1,6)\n",
    "print(\"attn_scores2 = \", attn_scores2.shape)\n",
    "# now generalize with all input tokens"
   ]
  },
  {
   "cell_type": "code",
   "execution_count": 20,
   "metadata": {},
   "outputs": [
    {
     "name": "stdout",
     "output_type": "stream",
     "text": [
      "attn score 2 shape =  torch.Size([6])\n",
      "attn_weights2 =  torch.Size([6])\n"
     ]
    }
   ],
   "source": [
    "# Now scale the attension score to get attention weights alpha \n",
    "d_k = keys.shape[-1]\n",
    "print('attn score 2 shape = ', attn_score2.shape)\n",
    "# The difference from earlier is that we now scale the attention scores \n",
    "# by dividing them by the square root of the embedding dimension of the keys\n",
    "# this prevent small gradient updates, find out more about the math if interested\n",
    "attn_weights2 = torch.softmax(attn_scores2 / d_k ** 0.5, dim = -1 ) #scale last dim\n",
    "print(\"attn_weights2 = \", attn_weights2.shape)"
   ]
  },
  {
   "cell_type": "code",
   "execution_count": 23,
   "metadata": {},
   "outputs": [
    {
     "name": "stdout",
     "output_type": "stream",
     "text": [
      "context_vec2.shape = torch.Size([2])\n",
      "tensor([0.9103, 0.8168])\n"
     ]
    }
   ],
   "source": [
    "context_vec2 = attn_weights2 @ values #(1, 6) @ (6,2) = (1,2)\n",
    "print('context_vec2.shape =', context_vec2.shape)\n",
    "print(context_vec2)\n"
   ]
  },
  {
   "cell_type": "markdown",
   "metadata": {},
   "source": [
    "# Illustration of Casual or Masked attention"
   ]
  },
  {
   "cell_type": "code",
   "execution_count": 47,
   "metadata": {},
   "outputs": [
    {
     "name": "stdout",
     "output_type": "stream",
     "text": [
      "tensor([[1.0000, 0.0000, 0.0000, 0.0000, 0.0000],\n",
      "        [0.6748, 0.3252, 0.0000, 0.0000, 0.0000],\n",
      "        [0.4921, 0.4694, 0.0385, 0.0000, 0.0000],\n",
      "        [0.1040, 0.0967, 0.4190, 0.3803, 0.0000],\n",
      "        [0.3708, 0.0487, 0.2435, 0.1567, 0.1802],\n",
      "        [0.0731, 0.1301, 0.3603, 0.3073, 0.1293],\n",
      "        [0.0308, 0.3394, 0.0509, 0.2695, 0.3093],\n",
      "        [0.2580, 0.1070, 0.1628, 0.2173, 0.2549],\n",
      "        [0.3150, 0.3167, 0.0844, 0.1255, 0.1584],\n",
      "        [0.3131, 0.0236, 0.0093, 0.3060, 0.3480]])\n"
     ]
    }
   ],
   "source": [
    "# Mask with torch.tril\n",
    "\n",
    "a = torch.rand(10,5)\n",
    "a = torch.tril(a)\n",
    "\n",
    "row_sums = a.sum(dim = 1, keepdim = True) # we need to normalize with sum\n",
    "a = a / row_sums\n",
    "print(a)"
   ]
  },
  {
   "cell_type": "code",
   "execution_count": 48,
   "metadata": {},
   "outputs": [
    {
     "name": "stdout",
     "output_type": "stream",
     "text": [
      "tensor([[0.8058, 0.8493, 0.2060, 0.1110, 0.1066],\n",
      "        [0.3080, 0.5040, 0.6367, 0.7604, 0.7225],\n",
      "        [0.5267, 0.9733, 0.2127, 0.8008, 0.4209],\n",
      "        [0.8832, 0.3727, 0.4386, 0.3557, 0.1285],\n",
      "        [0.5635, 0.9688, 0.6450, 0.5883, 0.5512]])\n",
      "tensor([[0.8058,   -inf,   -inf,   -inf,   -inf],\n",
      "        [0.3080, 0.5040,   -inf,   -inf,   -inf],\n",
      "        [0.5267, 0.9733, 0.2127,   -inf,   -inf],\n",
      "        [0.8832, 0.3727, 0.4386, 0.3557,   -inf],\n",
      "        [0.5635, 0.9688, 0.6450, 0.5883, 0.5512]])\n",
      "tensor([[1.0000, 0.0000, 0.0000, 0.0000, 0.0000],\n",
      "        [0.4654, 0.5346, 0.0000, 0.0000, 0.0000],\n",
      "        [0.3152, 0.4323, 0.2525, 0.0000, 0.0000],\n",
      "        [0.3209, 0.2237, 0.2344, 0.2210, 0.0000],\n",
      "        [0.1852, 0.2466, 0.1962, 0.1884, 0.1836]])\n"
     ]
    }
   ],
   "source": [
    "# Applying -inf into upper triangular matrix, this will skip the sum normailzation part previous step\n",
    "d = 5\n",
    "a = torch.rand(d,d)\n",
    "print(a)\n",
    "mask = torch.triu(torch.ones(d,d), diagonal=1)\n",
    "\n",
    "masked = a.masked_fill(mask.bool(), -torch.inf)\n",
    "print(masked)\n",
    "\n",
    "#apply softmax with dim norm\n",
    "masked = torch.softmax(masked / keys.shape[1] ** 0.5, dim = 1)\n",
    "\n",
    "print(masked)"
   ]
  },
  {
   "cell_type": "markdown",
   "metadata": {},
   "source": [
    "# Using dropout in attention"
   ]
  },
  {
   "cell_type": "code",
   "execution_count": 50,
   "metadata": {},
   "outputs": [
    {
     "name": "stdout",
     "output_type": "stream",
     "text": [
      "tensor([[1., 1., 1., 1., 1.],\n",
      "        [1., 1., 1., 1., 1.],\n",
      "        [1., 1., 1., 1., 1.],\n",
      "        [1., 1., 1., 1., 1.],\n",
      "        [1., 1., 1., 1., 1.]])\n",
      "tensor([[2., 2., 0., 0., 2.],\n",
      "        [2., 0., 0., 2., 0.],\n",
      "        [2., 2., 0., 0., 2.],\n",
      "        [0., 0., 0., 2., 2.],\n",
      "        [2., 2., 0., 2., 2.]])\n"
     ]
    }
   ],
   "source": [
    "# half of the elements in the matrix are randomly set to zero. \n",
    "# To compensate for the reduction in active elements, \n",
    "# the values of the remaining elements in the matrix are scaled up by a factor of 1/0.5 = 2\n",
    "dropout = nn.Dropout(0.5)\n",
    "a = torch.ones(5,5)\n",
    "print(a)\n",
    "\n",
    "print(dropout(a))"
   ]
  },
  {
   "cell_type": "markdown",
   "metadata": {},
   "source": [
    "# Combine all that to final Python class"
   ]
  },
  {
   "cell_type": "code",
   "execution_count": 77,
   "metadata": {},
   "outputs": [
    {
     "name": "stdout",
     "output_type": "stream",
     "text": [
      "compressed vec =  torch.Size([4, 5, 3])\n"
     ]
    }
   ],
   "source": [
    "class CasualAttention(nn.Module):\n",
    "    def __init__(self, d_in, d_out, context_length, dropout = 0.5, qkv_bias = False):\n",
    "        super().__init__()\n",
    "        #add linear weights\n",
    "        self.W_query = nn.Linear(d_in, d_out, bias = qkv_bias)\n",
    "        self.W_key = nn.Linear(d_in, d_out, bias = qkv_bias)\n",
    "        self.W_value = nn.Linear(d_in, d_out, bias = qkv_bias)\n",
    "\n",
    "        #add dropout\n",
    "        self.dropout = nn.Dropout(dropout)\n",
    "\n",
    "        #register to upper mask to buffer\n",
    "        self.register_buffer(\n",
    "            \"mask\",\n",
    "            torch.triu(torch.ones(context_length, context_length), diagonal=1)\n",
    "        )\n",
    "\n",
    "    def forward(self, x):\n",
    "        batch, num_tokens, d_in = x.shape\n",
    "\n",
    "        keys = self.W_key(x) #shape = (batch, num_tokens, d_out)\n",
    "        values = self.W_value(x) #shape = (batch, num_tokens, d_out)\n",
    "        queries = self.W_query(x) #shape = (batch, num_tokens, d_out)\n",
    "\n",
    "        #get attention scores\n",
    "        attn_scores: torch.Tensor = queries @ keys.transpose(1,2) #attn score shape = (batch, num_tokens, num_tokens)\n",
    "\n",
    "        attn_scores.masked_fill_(\n",
    "            self.mask.bool()[:num_tokens, :num_tokens], \n",
    "            -torch.inf\n",
    "        )\n",
    "\n",
    "        #get attention weights, shape = (batch, num_tokens, num_tokens)\n",
    "        attn_weights = self.dropout( #apply dropout to weights\n",
    "            torch.softmax(attn_scores / attn_scores.shape[-1] ** 0.5, dim = -1) #apply softmax to wieights\n",
    "        )\n",
    "\n",
    "        context_vec = attn_weights @ values # (b, n, n) @ (b, n, d_out) = (b, n, d_out)\n",
    "        return context_vec\n",
    "\n",
    "x = torch.rand(4, 5,10) \n",
    "\n",
    "attention = CasualAttention(10, 3, 5, 0.5)\n",
    "\n",
    "compressed_vec = attention(x)\n",
    "\n",
    "print('compressed vec = ', compressed_vec.shape)\n"
   ]
  },
  {
   "cell_type": "code",
   "execution_count": 68,
   "metadata": {},
   "outputs": [
    {
     "name": "stdout",
     "output_type": "stream",
     "text": [
      "tensor([[0., 1., 1., 1., 1.],\n",
      "        [0., 0., 1., 1., 1.],\n",
      "        [0., 0., 0., 1., 1.],\n",
      "        [0., 0., 0., 0., 1.],\n",
      "        [0., 0., 0., 0., 0.]])\n",
      "tensor([[0.8112,   -inf,   -inf,   -inf,   -inf],\n",
      "        [0.1152, 0.1078,   -inf,   -inf,   -inf],\n",
      "        [0.4351, 0.4052, 0.0896,   -inf,   -inf],\n",
      "        [0.7336, 0.7008, 0.0291, 0.4123,   -inf],\n",
      "        [0.2637, 0.2708, 0.9994, 0.3198, 0.9544]])\n"
     ]
    }
   ],
   "source": [
    "mask = torch.triu(torch.ones(5,5), diagonal=1)\n",
    "print(mask)\n",
    "\n",
    "a = torch.rand(5,5)\n",
    "a.masked_fill_(mask.bool(), -torch.inf)\n",
    "\n",
    "print(a)"
   ]
  },
  {
   "cell_type": "code",
   "execution_count": 54,
   "metadata": {},
   "outputs": [
    {
     "name": "stdout",
     "output_type": "stream",
     "text": [
      "torch.Size([5, 3, 2])\n"
     ]
    }
   ],
   "source": [
    "a = torch.rand(5,2,3)\n",
    "print(a.transpose(1,2).shape)"
   ]
  },
  {
   "cell_type": "markdown",
   "metadata": {},
   "source": [
    "# Multihead attention\n",
    "“multi-head” refers to dividing the attention mechanism into multiple “heads,” each operating independently.\n",
    "\n",
    "#### Sections\n",
    "1. simple multi head by stacking up Casual Attention (reference this in the book)\n",
    "2. multi head attention with weight split. More complex multi head but more efficient (code this part)"
   ]
  },
  {
   "cell_type": "code",
   "execution_count": 119,
   "metadata": {},
   "outputs": [],
   "source": [
    "class MultiHeadAttention(nn.Module):\n",
    "\n",
    "    def __init__(self, d_in, d_out, context_length, num_heads, dropout = 0.5, qkv_bias = False) -> None:\n",
    "        super().__init__()\n",
    "        assert d_out % num_heads == 0, \"d out must be divisible by num_heads\"\n",
    "\n",
    "        self.W_query = nn.Linear(d_in, d_out, bias = qkv_bias)\n",
    "        self.W_key = nn.Linear(d_in, d_out, bias = qkv_bias)\n",
    "        self.W_value = nn.Linear(d_in, d_out, bias = qkv_bias)\n",
    "\n",
    "        self.d_in = d_in\n",
    "        self.d_out = d_out\n",
    "        self.head_dim = d_out // num_heads\n",
    "        self.num_heads = num_heads\n",
    "\n",
    "        self.out_proj = nn.Linear(d_out, d_out)\n",
    "\n",
    "        nn.dropout = nn.Dropout(dropout)\n",
    "\n",
    "        self.register_buffer(\"mask\", torch.triu(torch.ones(context_length, context_length), diagonal=1))\n",
    "    \n",
    "    def forward(self, x):\n",
    "\n",
    "        batch, num_tokens, d_in = x.shape\n",
    "\n",
    "        keys = self.W_key(x)\n",
    "        queries = self.W_query(x)\n",
    "        values = self.W_value(x)\n",
    "\n",
    "        #split heads\n",
    "        keys = keys.view(batch, num_tokens, self.num_heads, self.head_dim)\n",
    "        queries = queries.view(batch, num_tokens, self.num_heads, self.head_dim)\n",
    "        values = values.view(batch, num_tokens, self.num_heads, self.head_dim)\n",
    "\n",
    "        #transpose\n",
    "        keys = keys.transpose(1,2) #shape = (batch, num_heads, num_tokens , head_dim)\n",
    "        queries = queries.transpose(1,2) #shape = (batch, num_heads, num_tokens , head_dim)\n",
    "        values = values.transpose(1,2) #shape = (batch, num_heads, num_tokens , head_dim)\n",
    "\n",
    "        #do batch matmul\n",
    "        #NOTE: can we improve this with torch.bmm ? \n",
    "        attn_scores:torch.Tensor = queries @ keys.transpose(2,3) # shape = (batch, num_heads , num_tokens, num_tokens)\n",
    "        mask_bool = self.mask.bool()[:num_tokens, :num_tokens]\n",
    "        attn_scores.masked_fill_(mask_bool, -torch.inf)\n",
    "\n",
    "        attn_weights = torch.softmax(attn_scores / keys.shape[-1] ** 0.5, dim = -1) # shape = (batch, num_heads, num_tokens, num_tokens)\n",
    "\n",
    "        context_vec = (attn_weights @ values) #shape = (batch, num_heads, num_tokens, head_dim)\n",
    "        context_vec = context_vec.transpose(1,2) #shape = (batch, num_tokens, num_heads, head_dim)\n",
    "\n",
    "        context_vec = context_vec.contiguous().view(batch, num_tokens, self.d_out) \n",
    "\n",
    "        context_vec = self.out_proj(context_vec)\n",
    "\n",
    "        return context_vec\n",
    "\n",
    "\n"
   ]
  },
  {
   "cell_type": "code",
   "execution_count": 120,
   "metadata": {},
   "outputs": [
    {
     "name": "stdout",
     "output_type": "stream",
     "text": [
      "context =  torch.Size([4, 8, 6])\n"
     ]
    }
   ],
   "source": [
    "batch = 4\n",
    "num_tokens = 8\n",
    "d_in = 3\n",
    "d_out = 6\n",
    "context_length = 10\n",
    "num_heads = 2\n",
    "\n",
    "x = torch.rand(batch, num_tokens, d_in)\n",
    "\n",
    "attn = MultiHeadAttention(d_in, d_out, context_length, num_heads)\n",
    "\n",
    "context = attn(x)\n",
    "\n",
    "print('context = ' , context.shape)"
   ]
  },
  {
   "cell_type": "code",
   "execution_count": null,
   "metadata": {},
   "outputs": [],
   "source": []
  }
 ],
 "metadata": {
  "kernelspec": {
   "display_name": "Python 3.9.18 ('torch')",
   "language": "python",
   "name": "python3"
  },
  "language_info": {
   "codemirror_mode": {
    "name": "ipython",
    "version": 3
   },
   "file_extension": ".py",
   "mimetype": "text/x-python",
   "name": "python",
   "nbconvert_exporter": "python",
   "pygments_lexer": "ipython3",
   "version": "3.9.18"
  },
  "orig_nbformat": 4,
  "vscode": {
   "interpreter": {
    "hash": "af18273774455bc90f5456b9f4898eab7ba4de506fde0c1d0784da333c7e8bbc"
   }
  }
 },
 "nbformat": 4,
 "nbformat_minor": 2
}
