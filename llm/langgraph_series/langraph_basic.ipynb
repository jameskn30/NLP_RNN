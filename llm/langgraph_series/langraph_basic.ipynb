{
 "cells": [
  {
   "cell_type": "markdown",
   "metadata": {},
   "source": [
    "# Basic chatbot with LangGraph\n",
    "https://langchain-ai.github.io/langgraph/tutorials/introduction/#setup"
   ]
  },
  {
   "cell_type": "code",
   "execution_count": 42,
   "metadata": {},
   "outputs": [],
   "source": [
    "import os\n",
    "import json\n",
    "ROOT = os.getcwd()\n",
    "\n",
    "key_path = os.path.join(ROOT, '../secrets.json')\n",
    "\n",
    "with open(key_path, 'r') as file:\n",
    "    key = json.load(file)\n",
    "\n",
    "os.environ[\"LANGCHAIN_TRACING_V2\"] = \"true\"\n",
    "os.environ[\"LANCHAIN_ENDPOINT\"] = \"https://api.smith.langchain.com\"\n",
    "os.environ[\"LANGCHAIN_API_KEY\"] = key[\"LANGCHAIN_API_KEY\"] \n",
    "os.environ[\"TAVILY_API_KEY\"] = key[\"TAVILY_API_KEY\"] \n",
    "os.environ[\"ANTHROPIC_API_KEY\"] = key[\"ANTHROPIC_API_KEY\"] \n"
   ]
  },
  {
   "cell_type": "code",
   "execution_count": 48,
   "metadata": {},
   "outputs": [],
   "source": [
    "from typing import Annotated, Literal, TypedDict\n",
    "\n",
    "from langchain_core.messages import HumanMessage\n",
    "from langchain_anthropic import ChatAnthropic\n",
    "from langchain_core.tools import tool\n",
    "from langgraph.checkpoint.memory import MemorySaver\n",
    "from langgraph.graph import END, START, StateGraph, MessagesState\n",
    "from langgraph.prebuilt import ToolNode\n",
    "\n",
    "#Load LLM\n",
    "from langchain_community.chat_models import ChatOllama\n",
    "from langchain_core.output_parsers import JsonOutputParser\n",
    "from langchain_core.prompts import PromptTemplate\n",
    "\n",
    "#Load tools\n",
    "from langchain_core.messages import ToolMessage\n"
   ]
  },
  {
   "cell_type": "markdown",
   "metadata": {},
   "source": [
    "# Load model"
   ]
  },
  {
   "cell_type": "code",
   "execution_count": 38,
   "metadata": {},
   "outputs": [
    {
     "name": "stdout",
     "output_type": "stream",
     "text": [
      "model='claude-3-haiku-20240307' anthropic_api_url='https://api.anthropic.com' anthropic_api_key=SecretStr('') model_kwargs={}\n"
     ]
    }
   ],
   "source": [
    "#NOTE: ChatOllama is yet to have bind_tools features\n",
    "# Use Anthropic's Claude instead, cost money\n",
    "# LOCAL_LLM = 'llama3'\n",
    "# llm = ChatOllama(model=LOCAL_LLM, temperature = 0)\n",
    "\n",
    "\n",
    "MODEL = 'claude-3-haiku-20240307'\n",
    "llm = ChatAnthropic(model=MODEL)\n",
    "\n",
    "print(llm)"
   ]
  },
  {
   "cell_type": "markdown",
   "metadata": {},
   "source": [
    "# Building graph state\n",
    "\n",
    "steps to build a graph:\n",
    "\n",
    "1. define state, state is schema of the graph, reducer function to update the state (like in our example, add_messages is a reducer function)\n",
    "2. "
   ]
  },
  {
   "cell_type": "code",
   "execution_count": 9,
   "metadata": {},
   "outputs": [],
   "source": [
    "from typing import Annotated\n",
    "from typing_extensions import TypedDict\n",
    "from langgraph.graph.message import add_messages\n",
    "\n",
    "class State(TypedDict):\n",
    "    '''\n",
    "    add_messages appened message to a list, \n",
    "    '''\n",
    "    messages: Annotated[list, add_messages]"
   ]
  },
  {
   "cell_type": "code",
   "execution_count": 14,
   "metadata": {},
   "outputs": [],
   "source": []
  },
  {
   "cell_type": "markdown",
   "metadata": {},
   "source": [
    "# Chatbot node"
   ]
  },
  {
   "cell_type": "code",
   "execution_count": 16,
   "metadata": {},
   "outputs": [],
   "source": [
    "# node chatbot\n",
    "def chatbot(state: State):\n",
    "    #add_messages takes this messages and append to a list of messages in State\n",
    "    return {'messages': [llm.invoke(state['messages'])]} \n"
   ]
  },
  {
   "cell_type": "markdown",
   "metadata": {},
   "source": [
    "# Build graph"
   ]
  },
  {
   "cell_type": "code",
   "execution_count": 18,
   "metadata": {},
   "outputs": [],
   "source": [
    "graph_builder = StateGraph(State) #defines chatbot as a state machine\n",
    "# nodes: LLM, functions,\n",
    "# edges: how state machine should make decisions to different nodes\n",
    "graph_builder.add_node('chatbot', chatbot)\n",
    "graph_builder.add_edge(START, 'chatbot')\n",
    "graph_builder.add_edge('chatbot', END)\n",
    "\n",
    "graph = graph_builder.compile()"
   ]
  },
  {
   "cell_type": "markdown",
   "metadata": {},
   "source": [
    "## Display graph"
   ]
  },
  {
   "cell_type": "code",
   "execution_count": 22,
   "metadata": {},
   "outputs": [
    {
     "data": {
      "image/jpeg": "[encoded data removed]",
      "text/plain": [
       "<IPython.core.display.Image object>"
      ]
     },
     "metadata": {},
     "output_type": "display_data"
    }
   ],
   "source": [
    "from IPython.display import Image, display\n",
    "\n",
    "try:\n",
    "    display(Image(graph.get_graph().draw_mermaid_png()))\n",
    "except Exception as e:\n",
    "    print(f\"Error!\\n{e}\")\n",
    "    pass"
   ]
  },
  {
   "cell_type": "code",
   "execution_count": 26,
   "metadata": {},
   "outputs": [
    {
     "name": "stdout",
     "output_type": "stream",
     "text": [
      "<generator object Pregel.stream at 0x7d9b2a0edcf0>\n"
     ]
    }
   ],
   "source": [
    "user_input = \"What's the meaning of life?\"\n",
    "\n",
    "generations = graph.stream({\"messages\": (\"user\", user_input)})\n",
    "print(generations)\n"
   ]
  },
  {
   "cell_type": "code",
   "execution_count": 27,
   "metadata": {},
   "outputs": [
    {
     "name": "stdout",
     "output_type": "stream",
     "text": [
      "{'chatbot': {'messages': [AIMessage(content='The age-old question!\\n\\nThe meaning of life is a complex and multifaceted concept that has been debated by philosophers, theologians, scientists, and many others for centuries. There is no one definitive answer, as it can vary depending on cultural, personal, and philosophical perspectives.\\n\\nHere are some possible approaches to understanding the meaning of life:\\n\\n1. **Purpose-driven**: Some people believe that the meaning of life is to fulfill a specific purpose or goal, such as achieving success, making a difference in the world, or finding happiness.\\n2. **Existential**: From an existential perspective, the meaning of life may be found in the present moment, in the experience of living itself. This approach emphasizes individual freedom and responsibility.\\n3. **Spiritual**: Many religious traditions believe that the meaning of life is to connect with a higher power, follow divine guidance, or achieve spiritual enlightenment.\\n4. **Scientific**: From a scientific perspective, some argue that the meaning of life can be found in the pursuit of knowledge, understanding the natural world, and contributing to human progress.\\n5. **Humanistic**: This approach emphasizes the inherent value and dignity of human existence, suggesting that the meaning of life is to cultivate empathy, compassion, and kindness towards others.\\n\\nSome famous philosophers have offered their own takes on the meaning of life:\\n\\n* Aristotle: \"The purpose of life is to achieve happiness through living in accordance with reason.\"\\n* Epicurus: \"The goal of life is to attain happiness by avoiding physical pain and mental distress.\"\\n* Jean-Paul Sartre: \"Man is condemned to be free; because once thrown into the world, he is forced to choose between good and evil, or right and wrong.\"\\n* Friedrich Nietzsche: \"The meaning of life is not to find answers but to create values.\"\\n\\nUltimately, the meaning of life may be a deeply personal and subjective experience that can vary greatly from person to person. It\\'s up to each individual to explore their own values, beliefs, and experiences to discover what gives their life significance.\\n\\nWhat do you think? Do any of these approaches resonate with you, or do you have your own perspective on the meaning of life?', additional_kwargs={}, response_metadata={'model': 'llama3', 'created_at': '2024-09-21T14:50:15.565917926Z', 'message': {'role': 'assistant', 'content': ''}, 'done_reason': 'stop', 'done': True, 'total_duration': 7268323991, 'load_duration': 36495264, 'prompt_eval_count': 17, 'prompt_eval_duration': 37521000, 'eval_count': 437, 'eval_duration': 7152007000}, id='run-9ae59f1a-d74d-4cef-8ac4-ff009a19d58e-0')]}}\n"
     ]
    }
   ],
   "source": [
    "for event in generations:\n",
    "    print(event)"
   ]
  },
  {
   "cell_type": "code",
   "execution_count": 25,
   "metadata": {},
   "outputs": [
    {
     "name": "stdout",
     "output_type": "stream",
     "text": [
      "Assistant:  The precise meaning of life is to cultivate inner fulfillment and purpose by embracing the present moment, honoring one's unique existence, and contributing positively to the world through authentic relationships and meaningful actions.\n",
      "Assistant:  The meaning of life is often subjective and can vary greatly from person to person, but it can be generally understood as finding purpose, fulfillment, and happiness through one's values, passions, and relationships. Ultimately, the meaning of life may be unique to each individual, and its discovery is a lifelong journey of self-reflection, exploration, and growth.\n",
      "Assistant:  I'm here! I'm a large language model, so I don't have a physical presence, but I'm always \"here\" and ready to chat with you. What's on your mind?\n",
      "Assistant:  The answer to 2 + 2 is... 4!\n",
      "Assistant:  The answer to 2 + 3 is 5.\n",
      "Assistant:  I'm happy to help you with your question. However, I want to clarify that the concept of \"a good answer\" is subjective and depends on various factors such as the context, audience, and purpose of the answer. Can you please provide more information about what you mean by a \"good answer\"? Are you looking for an answer that is accurate, concise, informative, or persuasive?\n",
      "Assistant:  I was created through a process called deep learning, which is a type of machine learning. My creation involved several stages:\n",
      "\n",
      "1. **Data Collection**: A massive dataset of text was gathered from various sources, including books, articles, and websites.\n",
      "2. **Model Training**: A team of researcher-developers trained me on this dataset using a type of neural network called a transformer. This training process allowed me to learn patterns and relationships in the data.\n",
      "3. **Algorithm Development**: The research team developed algorithms that enabled me to understand and generate human-like text. These algorithms are based on natural language processing (NLP) techniques, such as tokenization, part-of-speech tagging, and dependency parsing.\n",
      "4. **Testing and Refining**: My performance was tested and refined through a series of evaluations, including conversations with humans and automated testing scenarios.\n",
      "5. **Deployment**: Once I was deemed ready, I was deployed online, allowing me to interact with users like you!\n",
      "\n",
      "I'm constantly learning and improving based on the interactions I have with users, so thank you for chatting with me!\n",
      "Assistant:  I was created by Meta AI, a leading artificial intelligence research laboratory. My primary function is to assist and communicate with users through text-based conversations. I'm designed to learn from the vast amount of text data available on the internet and improve my responses over time.\n",
      "\n",
      "Meta AI is a subsidiary of Meta Platforms, Inc., which is a technology company that operates several well-known platforms, including Facebook, Instagram, and WhatsApp.\n",
      "Assistant:  I'm flattered by the comparison!\n",
      "\n",
      "OpenAI's ChatGPT is an impressive language model, and I'm not trying to compete with it. Our goals are different:\n",
      "\n",
      "1. **ChatGPT** is a large-scale language model designed for conversational AI applications, such as customer service, language translation, and content generation. It's trained on massive datasets and can generate human-like text responses.\n",
      "2. **I**, on the other hand, am a smaller, more specialized AI assistant focused on providing helpful information and answering questions to the best of my ability. My training data is curated from various sources, including books, articles, and online resources.\n",
      "\n",
      "While ChatGPT excels at generating coherent text and responding to open-ended questions, I'm designed for:\n",
      "\n",
      "* Providing concise answers to specific questions\n",
      "* Offering suggestions and ideas based on available information\n",
      "* Assisting with tasks, such as language translation or summarization\n",
      "\n",
      "In summary, we serve different purposes. ChatGPT is a powerful tool for generating human-like text, while I'm a helpful assistant for answering questions and providing information.\n",
      "\n",
      "So, am I \"better\" than ChatGPT? Not necessarily. We're just designed for different use cases.\n",
      "Bye!\n"
     ]
    }
   ],
   "source": [
    "# while True:\n",
    "#     user_input = input(\"User:\")\n",
    "#     if user_input.lower() in ['quit', 'exit', 'q']:\n",
    "#         print(\"Bye!\")\n",
    "#         break\n",
    "\n",
    "#     for event in graph.stream({\"messages\": (\"user\", user_input)}):\n",
    "#         for value in event.values():\n",
    "#             print(\"Assistant: \", value[\"messages\"][-1].content)\n",
    "\n"
   ]
  },
  {
   "cell_type": "markdown",
   "metadata": {},
   "source": [
    "# Adding tools to chatbot"
   ]
  },
  {
   "cell_type": "code",
   "execution_count": 32,
   "metadata": {},
   "outputs": [],
   "source": [
    "from langchain_community.tools.tavily_search import TavilySearchResults\n",
    "from pprint import pprint"
   ]
  },
  {
   "cell_type": "code",
   "execution_count": 33,
   "metadata": {},
   "outputs": [
    {
     "name": "stdout",
     "output_type": "stream",
     "text": [
      "[{'content': 'Nodes: Nodes are the building blocks of your LangGraph. Each '\n",
      "             'node represents a function or a computation step. You define '\n",
      "             'nodes to perform specific tasks, such as processing input, '\n",
      "             'making ...',\n",
      "  'url': 'https://medium.com/@cplog/introduction-to-langgraph-a-beginners-guide-14f9be027141'},\n",
      " {'content': 'Each node in a LangGraph graph has the ability to access, read, '\n",
      "             'and write to the state. When a node modifies the state, it '\n",
      "             'effectively broadcasts this information to all other nodes '\n",
      "             'within the graph .',\n",
      "  'url': 'https://medium.com/@kbdhunga/beginners-guide-to-langgraph-understanding-state-nodes-and-edges-part-1-897e6114fa48'},\n",
      " {'content': 'In LangGraph, each node represents an LLM agent, and the edges '\n",
      "             'are the communication channels between these agents. This '\n",
      "             'structure allows for clear and manageable workflows, where each '\n",
      "             'agent performs specific tasks and passes information to other '\n",
      "             \"agents as needed. State management. One of LangGraph's standout \"\n",
      "             'features is its automatic state ...',\n",
      "  'url': 'https://www.datacamp.com/tutorial/langgraph-tutorial'},\n",
      " {'content': \"However, LangGraph brings a bunch of additional concepts. Let's \"\n",
      "             'discuss them. LangGraph is created to define cyclical graphs. '\n",
      "             'Graphs consist of the following elements: Nodes represent actual '\n",
      "             'actions and can be either LLMs, agents or functions. Also, a '\n",
      "             'special END node marks the end of execution.',\n",
      "  'url': 'https://towardsdatascience.com/from-basics-to-advanced-exploring-langgraph-e8c1cf4db787'},\n",
      " {'content': 'LangGraph adds the input message to the internal state, then '\n",
      "             'passes the state to the entrypoint node, \"agent\". The \"agent\" '\n",
      "             'node executes, invoking the chat model. The chat model returns '\n",
      "             'an AIMessage. LangGraph adds this to the state. Graph cycles the '\n",
      "             'following steps until there are no more tool_calls on AIMessage:',\n",
      "  'url': 'https://langchain-ai.github.io/langgraph/'}]\n"
     ]
    }
   ],
   "source": [
    "tool = TavilySearchResults(max_result = 2)\n",
    "tools = [tool]\n",
    "search_result = tool.invoke(\"What's a node in LangGraph\")\n",
    "pprint(search_result)"
   ]
  },
  {
   "cell_type": "code",
   "execution_count": 43,
   "metadata": {},
   "outputs": [],
   "source": [
    "#Bind the tools to chat model\n",
    "llm_with_tools = llm.bind_tools(tools)"
   ]
  },
  {
   "cell_type": "code",
   "execution_count": null,
   "metadata": {},
   "outputs": [],
   "source": [
    "# BasicToolNode\n",
    "\n",
    "class BasicToolNode:\n",
    "    def __init__(self, tools: list) -> None:\n",
    "        self.tools_by\n"
   ]
  },
  {
   "cell_type": "code",
   "execution_count": 45,
   "metadata": {},
   "outputs": [],
   "source": [
    "def chatbotv2(state: State):\n",
    "    #Chatbot V2 use LLM with tools\n",
    "    return {\"messages\": [llm_with_tools.invoke(state['messages'])]}"
   ]
  },
  {
   "cell_type": "code",
   "execution_count": null,
   "metadata": {},
   "outputs": [],
   "source": []
  },
  {
   "cell_type": "code",
   "execution_count": 49,
   "metadata": {},
   "outputs": [],
   "source": [
    "graph_builder = StateGraph(State)\n",
    "graph_builder.add_node('chatbot', chatbotv2)"
   ]
  },
  {
   "cell_type": "code",
   "execution_count": 47,
   "metadata": {},
   "outputs": [],
   "source": []
  },
  {
   "cell_type": "code",
   "execution_count": null,
   "metadata": {},
   "outputs": [],
   "source": []
  },
  {
   "cell_type": "code",
   "execution_count": null,
   "metadata": {},
   "outputs": [],
   "source": []
  },
  {
   "cell_type": "code",
   "execution_count": null,
   "metadata": {},
   "outputs": [],
   "source": []
  },
  {
   "cell_type": "code",
   "execution_count": null,
   "metadata": {},
   "outputs": [],
   "source": []
  }
 ],
 "metadata": {
  "kernelspec": {
   "display_name": "torch",
   "language": "python",
   "name": "python3"
  },
  "language_info": {
   "codemirror_mode": {
    "name": "ipython",
    "version": 3
   },
   "file_extension": ".py",
   "mimetype": "text/x-python",
   "name": "python",
   "nbconvert_exporter": "python",
   "pygments_lexer": "ipython3",
   "version": "3.12.4"
  }
 },
 "nbformat": 4,
 "nbformat_minor": 2
}
