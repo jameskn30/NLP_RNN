{
 "cells": [
  {
   "cell_type": "markdown",
   "metadata": {},
   "source": [
    "# Customer support app with LangGraph\n",
    "https://langchain-ai.github.io/langgraph/tutorials/customer-support/customer-support/#flights"
   ]
  },
  {
   "cell_type": "code",
   "execution_count": 2,
   "metadata": {},
   "outputs": [],
   "source": [
    "import os\n",
    "import json\n",
    "import getpass\n",
    "ROOT = os.getcwd()\n",
    "\n",
    "key_path = os.path.join(ROOT, '../secrets.json')\n",
    "\n",
    "with open(key_path, 'r') as file:\n",
    "    key = json.load(file)\n",
    "\n",
    "os.environ[\"LANGCHAIN_TRACING_V2\"] = \"true\"\n",
    "os.environ[\"LANCHAIN_ENDPOINT\"] = \"https://api.smith.langchain.com\"\n",
    "os.environ[\"LANGCHAIN_API_KEY\"] = key[\"LANGCHAIN_API_KEY\"] \n",
    "os.environ[\"TAVILY_API_KEY\"] = key[\"TAVILY_API_KEY\"] \n",
    "os.environ[\"ANTHROPIC_API_KEY\"] = key[\"ANTHROPIC_API_KEY\"] \n",
    "os.environ[\"OPENAI_API_KEY\"] = key[\"OPENAI_API_KEY\"] \n"
   ]
  },
  {
   "cell_type": "code",
   "execution_count": 3,
   "metadata": {},
   "outputs": [],
   "source": [
    "from typing import Annotated, Literal, TypedDict, Union\n",
    "\n",
    "from langchain_core.messages import HumanMessage\n",
    "from langchain_core.tools import tool\n",
    "from langgraph.checkpoint.memory import MemorySaver\n",
    "from langgraph.graph import END, START, StateGraph, MessagesState\n",
    "from langgraph.prebuilt import ToolNode\n",
    "\n",
    "#Load LLM\n",
    "from langchain_community.chat_models import ChatOllama\n",
    "from langchain_anthropic import ChatAnthropic\n",
    "\n",
    "from langchain_openai import ChatOpenAI\n",
    "\n",
    "from langchain_core.output_parsers import JsonOutputParser\n",
    "from langchain_core.prompts import PromptTemplate"
   ]
  },
  {
   "cell_type": "markdown",
   "metadata": {},
   "source": [
    "# Load model"
   ]
  },
  {
   "cell_type": "code",
   "execution_count": 4,
   "metadata": {},
   "outputs": [
    {
     "name": "stdout",
     "output_type": "stream",
     "text": [
      "client=<openai.resources.chat.completions.Completions object at 0x7fe3b8bb5880> async_client=<openai.resources.chat.completions.AsyncCompletions object at 0x7fe3b8bb7500> root_client=<openai.OpenAI object at 0x7fe3b944d280> root_async_client=<openai.AsyncOpenAI object at 0x7fe3b8bb58e0> model_name='llama3.1' model_kwargs={} openai_api_key=SecretStr('**********') openai_api_base='http://localhost:11434/v1'\n"
     ]
    },
    {
     "name": "stderr",
     "output_type": "stream",
     "text": [
      "/tmp/ipykernel_6348/11344700.py:19: LangChainDeprecationWarning: The method `BaseChatModel.__call__` was deprecated in langchain-core 0.1.7 and will be removed in 1.0. Use :meth:`~invoke` instead.\n",
      "  res = llm(\"Tell me a joke about something\")\n"
     ]
    },
    {
     "name": "stdout",
     "output_type": "stream",
     "text": [
      "content='A man walked into a library and asked the librarian, \"Do you have any books on Pavlov\\'s dogs and Schrödinger\\'s cat?\" The librarian replied, \"It rings a bell, but I\\'m not sure if it\\'s here or not.\"' additional_kwargs={'refusal': None} response_metadata={'token_usage': {'completion_tokens': 54, 'prompt_tokens': 16, 'total_tokens': 70, 'completion_tokens_details': None}, 'model_name': 'llama3.1', 'system_fingerprint': 'fp_ollama', 'finish_reason': 'stop', 'logprobs': None} id='run-5b8b8e6a-834b-4929-848f-7ffa30e95bd4-0' usage_metadata={'input_tokens': 16, 'output_tokens': 54, 'total_tokens': 70}\n"
     ]
    }
   ],
   "source": [
    "LOCAL_LLM = 'llama3.1'\n",
    "# llm = ChatOllama(model=LOCAL_LLM, temperature = 0)\n",
    "\n",
    "# ChatOllama doesn't have bind_tools yet\n",
    "# Use claude3 instead\n",
    "# MODEL = 'claude-3-haiku-20240307'\n",
    "# llm = ChatAnthropic(model=MODEL)\n",
    "\n",
    "#Load Ollama into ChatGpt\n",
    "llm = ChatOpenAI(\n",
    "    api_key=\"ollama\",\n",
    "    model=LOCAL_LLM,\n",
    "    base_url=\"http://localhost:11434/v1\"\n",
    ")\n",
    "\n",
    "print(llm)\n",
    "\n",
    "#Test if succesfully load the mode\n",
    "res = llm(\"Tell me a joke about something\")\n",
    "print(res)\n"
   ]
  },
  {
   "cell_type": "code",
   "execution_count": 5,
   "metadata": {},
   "outputs": [
    {
     "name": "stdout",
     "output_type": "stream",
     "text": [
      "content='Here is the converted conversational text:\\n\\n\"Hey, it\\'s currently 30 degrees Fahrenheit in Rochester, New York.\" \\n\\nLet me know if you would like to convert something else for you!' additional_kwargs={'refusal': None} response_metadata={'token_usage': {'completion_tokens': 40, 'prompt_tokens': 39, 'total_tokens': 79, 'completion_tokens_details': None}, 'model_name': 'llama3.1', 'system_fingerprint': 'fp_ollama', 'finish_reason': 'stop', 'logprobs': None} id='run-401f55a3-f8a1-4561-ac08-0b923672ff0b-0' usage_metadata={'input_tokens': 39, 'output_tokens': 40, 'total_tokens': 79}\n"
     ]
    }
   ],
   "source": [
    "res = llm(\"Convert json file into conversational text: {'weather': {'temperature': '30F', 'location' : 'Rochester, NY'}}\")\n",
    "print(res)"
   ]
  },
  {
   "cell_type": "markdown",
   "metadata": {},
   "source": [
    "# Load data prepared for this tutorial"
   ]
  },
  {
   "cell_type": "code",
   "execution_count": 6,
   "metadata": {},
   "outputs": [],
   "source": [
    "import shutil\n",
    "import sqlite3\n",
    "import pandas as pd \n",
    "import requests"
   ]
  },
  {
   "cell_type": "code",
   "execution_count": 7,
   "metadata": {},
   "outputs": [],
   "source": [
    "db_url = \"https://storage.googleapis.com/benchmarks-artifacts/travel-db/travel2.sqlite\"\n",
    "OUTPUT = os.path.join(ROOT, \"output\")\n",
    "if not os.path.exists(OUTPUT):\n",
    "    os.makedirs(OUTPUT)\n",
    "local_file = os.path.join(OUTPUT, 'travel2.sqlite')\n",
    "backup_file = os.path.join(OUTPUT, 'travel2_backup.sqlite')\n",
    "overwrite = False"
   ]
  },
  {
   "cell_type": "code",
   "execution_count": 8,
   "metadata": {},
   "outputs": [],
   "source": [
    "def revert_backup(file_path, backup_path):\n",
    "    os.remove(file_path)\n",
    "    shutil.copy(backup_path, file_path)"
   ]
  },
  {
   "cell_type": "code",
   "execution_count": 9,
   "metadata": {},
   "outputs": [],
   "source": [
    "revert_backup(local_file, backup_file)"
   ]
  },
  {
   "cell_type": "code",
   "execution_count": 10,
   "metadata": {},
   "outputs": [],
   "source": [
    "if overwrite or not os.path.exists(local_file):\n",
    "    response = requests.get(db_url)\n",
    "    response.raise_for_status() #ensure request is 200\n",
    "    with open(local_file, 'wb') as file:\n",
    "        file.write(response.content)\n",
    "    shutil.copy(local_file, backup_file)\n",
    "\n"
   ]
  },
  {
   "cell_type": "code",
   "execution_count": 11,
   "metadata": {},
   "outputs": [],
   "source": [
    "def update_dates(file):\n",
    "    shutil.copy(backup_file, file)\n",
    "    conn = sqlite3.connect(file)\n",
    "    cursor = conn.cursor()\n",
    "\n",
    "    tables = pd.read_sql(\n",
    "        \"SELECT name FROM sqlite_master WHERE type='table';\", conn\n",
    "    ).name.tolist()\n",
    "    tdf = {}\n",
    "    for t in tables:\n",
    "        tdf[t] = pd.read_sql(f\"SELECT * from {t}\", conn)\n",
    "\n",
    "    example_time = pd.to_datetime(\n",
    "        tdf[\"flights\"][\"actual_departure\"].replace(\"\\\\N\", pd.NaT)\n",
    "    ).max()\n",
    "    current_time = pd.to_datetime(\"now\").tz_localize(example_time.tz)\n",
    "    time_diff = current_time - example_time\n",
    "\n",
    "    tdf[\"bookings\"][\"book_date\"] = (\n",
    "        pd.to_datetime(tdf[\"bookings\"][\"book_date\"].replace(\"\\\\N\", pd.NaT), utc=True)\n",
    "        + time_diff\n",
    "    )\n",
    "\n",
    "    datetime_columns = [\n",
    "        \"scheduled_departure\",\n",
    "        \"scheduled_arrival\",\n",
    "        \"actual_departure\",\n",
    "        \"actual_arrival\",\n",
    "    ]\n",
    "    for column in datetime_columns:\n",
    "        tdf[\"flights\"][column] = (\n",
    "            pd.to_datetime(tdf[\"flights\"][column].replace(\"\\\\N\", pd.NaT)) + time_diff\n",
    "        )\n",
    "\n",
    "    for table_name, df in tdf.items():\n",
    "        df.to_sql(table_name, conn, if_exists=\"replace\", index=False)\n",
    "    del df\n",
    "    del tdf\n",
    "    conn.commit()\n",
    "    conn.close()\n",
    "\n",
    "    return file\n",
    "\n",
    "db = update_dates(local_file)\n"
   ]
  },
  {
   "cell_type": "markdown",
   "metadata": {},
   "source": [
    "# Define assistant tools\n",
    "\n",
    "- search airlines' policy\n",
    "- manage reservation for flights, hotels, car rentals, ..\n",
    "- \n",
    "\n",
    "The following code is a VectorStore retriever from scratch"
   ]
  },
  {
   "cell_type": "code",
   "execution_count": 12,
   "metadata": {},
   "outputs": [],
   "source": [
    "import re\n",
    "import openai\n",
    "from langchain_core.tools import tool\n",
    "import numpy as np"
   ]
  },
  {
   "cell_type": "code",
   "execution_count": 13,
   "metadata": {},
   "outputs": [
    {
     "name": "stdout",
     "output_type": "stream",
     "text": [
      "## Invoice Questions\n",
      "\n",
      "1. Can I receive an invoice for my booked flight?\n",
      "\n",
      "Yes, we can send you a new booking confirmation free of charge for up to 100 days after the ticket/document has been completely used. A fee of CHF 30.00 per transaction (maximum of five E-ticket confirmations) will be charged after these 100 days. The E-ticket can be used for invoicing purposes.\n",
      "\n",
      "2. Do I need to reconfirm my flight?\n",
      "\n",
      "No, reconfirmation of SWISS flights is not required.\n",
      "\n",
      "3. Can I check for availability and f\n"
     ]
    }
   ],
   "source": [
    "response = requests.get(\"https://storage.googleapis.com/benchmarks-artifacts/travel-db/swiss_faq.md\")\n",
    "response.raise_for_status()\n",
    "faq_text = response.text\n",
    "\n",
    "print(faq_text[:500])"
   ]
  },
  {
   "cell_type": "code",
   "execution_count": 14,
   "metadata": {},
   "outputs": [],
   "source": [
    "class VectorStoreRetriever:\n",
    "    def __init__(self, docs: list, vectors: list, oai_client):\n",
    "        self._arr = np.array(vectors)\n",
    "        self._docs = docs\n",
    "        self._client = oai_client\n",
    "\n",
    "    @classmethod\n",
    "    def from_docs(cls, docs, oai_client):\n",
    "        embeddings = oai_client.embeddings.create(\n",
    "            model=\"text-embedding-3-small\", input=[doc[\"page_content\"] for doc in docs]\n",
    "        )\n",
    "        vectors = [emb.embedding for emb in embeddings.data]\n",
    "        return cls(docs, vectors, oai_client)\n",
    "\n",
    "    def query(self, query: str, k: int = 5) -> list[dict]:\n",
    "        embed = self._client.embeddings.create(\n",
    "            model=\"text-embedding-3-small\", input=[query]\n",
    "        )\n",
    "        # \"@\" is just a matrix multiplication in python\n",
    "        scores = np.array(embed.data[0].embedding) @ self._arr.T\n",
    "        top_k_idx = np.argpartition(scores, -k)[-k:]\n",
    "        top_k_idx_sorted = top_k_idx[np.argsort(-scores[top_k_idx])]\n",
    "        return [\n",
    "            {**self._docs[idx], \"similarity\": scores[idx]} for idx in top_k_idx_sorted\n",
    "        ]\n",
    "\n",
    "\n",
    "docs = [{\"page_content\": txt} for txt in re.split(r\"(?=\\n##)\", faq_text)]\n",
    "retriever = VectorStoreRetriever.from_docs(docs, openai.Client())"
   ]
  },
  {
   "cell_type": "code",
   "execution_count": 15,
   "metadata": {},
   "outputs": [],
   "source": [
    "@tool\n",
    "def lookup_policy(query: str) -> str:\n",
    "    '''\n",
    "    Consult company policies to check if option is permitted.\n",
    "    Use this before making any flight changes performing other 'write' events\n",
    "    '''\n",
    "    docs = retriever.query(query, k = 2)\n",
    "    return '\\n\\n'.join([doc['page_content'] for doc in docs])"
   ]
  },
  {
   "cell_type": "code",
   "execution_count": 16,
   "metadata": {},
   "outputs": [
    {
     "name": "stdout",
     "output_type": "stream",
     "text": [
      "\n",
      "## Booking and Cancellation\n",
      "\n",
      "1. How can I change my booking?\n",
      "\t* The ticket number must start with 724 (SWISS ticket no./plate).\n",
      "\t* The ticket was not paid for by barter or voucher (there are exceptio\n"
     ]
    },
    {
     "name": "stderr",
     "output_type": "stream",
     "text": [
      "/tmp/ipykernel_6348/3488668299.py:1: LangChainDeprecationWarning: The method `BaseTool.__call__` was deprecated in langchain-core 0.1.47 and will be removed in 1.0. Use :meth:`~invoke` instead.\n",
      "  res = lookup_policy(\"Changing flights\")\n"
     ]
    }
   ],
   "source": [
    "\n",
    "res = lookup_policy(\"Changing flights\")\n",
    "print(res[:200])"
   ]
  },
  {
   "cell_type": "markdown",
   "metadata": {},
   "source": [
    "# Custom Tools\n",
    "- see current users' flight info\n",
    "- search flight info and manage passenger's booking stored in SQL db\n",
    "\n",
    "NOTE: When you invoke your tool, LangChain will inspect your tool's signature, look for a parameter typed as RunnableConfig,\n",
    "reference: https://python.langchain.com/docs/how_to/tool_configure/\n",
    "\n",
    "Note: The actual name of the config parameter doesn't matter, only the typing.\n",
    "\n",
    " use RunnableConfig to access passenger_id of the user accessing current app --> User only has access to information related to them only"
   ]
  },
  {
   "cell_type": "code",
   "execution_count": 17,
   "metadata": {},
   "outputs": [],
   "source": [
    "from datetime import date, datetime\n",
    "from typing import Optional\n",
    "import pytz\n",
    "from langchain_core.runnables import RunnableConfig"
   ]
  },
  {
   "cell_type": "markdown",
   "metadata": {},
   "source": [
    "## Fetch user flight info"
   ]
  },
  {
   "cell_type": "code",
   "execution_count": 18,
   "metadata": {},
   "outputs": [],
   "source": [
    "#NOTE: can I skip the input argument?\n",
    "@tool\n",
    "def fetch_user_flight_info(config: RunnableConfig) -> list[dict]:\n",
    "    '''\n",
    "    NOTE: The reason why there's input is BaseTool needs to have input argument\n",
    "    Fetch all tickets for user along with corresponding flight info\n",
    "\n",
    "    Args:\n",
    "        confg: RunnableConfig : Contains user data config\n",
    "\n",
    "    Returns:\n",
    "        res: list of dict contains ticket details, associated flight details, seat arrangement for each ticket to that user\n",
    "    '''\n",
    "\n",
    "    configuration = config.get(\"configurable\", {})\n",
    "    passenger_id = configuration.get(\"passenger_id\", None)\n",
    "\n",
    "    if not passenger_id:\n",
    "        raise ValueError(\"No passenger ID configured\")\n",
    "    \n",
    "    conn = sqlite3.connect(db)\n",
    "    cursor = conn.cursor()\n",
    "\n",
    "    query = '''\n",
    "    SELECT\n",
    "        t.ticket_no, t.book_ref, \n",
    "        f.flight_id, f.flight_no, \n",
    "        f.departure_airport, f.arrival_airport, f.scheduled_departure, f.scheduled_arrival,\n",
    "        bp.seat_no, tf.fare_conditions\n",
    "    FROM\n",
    "        tickets t \n",
    "        JOIN ticket_flights tf ON t.ticket_no = tf.ticket_no\n",
    "        JOIN flights f ON tf.flight_id = f.flight_id\n",
    "        JOIN boarding_passes bp ON bp.ticket_no = t.ticket_no AND bp.flight_id = f.flight_id\n",
    "    WHERE\n",
    "        t.passenger_id = ?\n",
    "    '''\n",
    "\n",
    "    cursor.execute(query, (passenger_id,))\n",
    "\n",
    "    rows = cursor.fetchall()\n",
    "    column_names = [column[0] for column in cursor.description]\n",
    "    results = [dict(zip(column_names, row)) for row in rows]\n",
    "\n",
    "    cursor.close()\n",
    "    conn.close()\n",
    "\n",
    "    return results"
   ]
  },
  {
   "cell_type": "code",
   "execution_count": 19,
   "metadata": {},
   "outputs": [
    {
     "name": "stdout",
     "output_type": "stream",
     "text": [
      "len =  1\n",
      "[{'ticket_no': '9880005432000987', 'book_ref': '06B046', 'flight_id': 28935, 'flight_no': 'OZ0059', 'departure_airport': 'BRU', 'arrival_airport': 'OSL', 'scheduled_departure': '2024-08-27 05:09:04.879525-04:00', 'scheduled_arrival': '2024-08-27 05:59:04.879525-04:00', 'seat_no': '7A', 'fare_conditions': 'Economy'}]\n"
     ]
    }
   ],
   "source": [
    "# Test fetch_user_flight_info tool\n",
    "config_obj = {'configurable':{'passenger_id' : '8149 604011'}} #passenger id taken from tickets table\n",
    "result = fetch_user_flight_info.invoke({}, config = config_obj)\n",
    "\n",
    "print('len = ', len(result))\n",
    "print(result)\n",
    "\n"
   ]
  },
  {
   "cell_type": "markdown",
   "metadata": {},
   "source": [
    "## Search flight tool"
   ]
  },
  {
   "cell_type": "code",
   "execution_count": 20,
   "metadata": {},
   "outputs": [],
   "source": [
    "@tool\n",
    "def search_flights(\n",
    "    departure_airport: Optional[str] = None,\n",
    "    arrival_airport: Optional[str] = None, \n",
    "    start_time: Optional[date | datetime] = None, \n",
    "    end_time: Optional[date | datetime] = None,\n",
    "    limit: int = 20\n",
    "    ) -> list[dict]:\n",
    "\n",
    "    '''Search for flights based on arguments'''\n",
    "\n",
    "    conn = sqlite3.connect(db)\n",
    "    cursor = conn.cursor()\n",
    "\n",
    "    query = \"SELECT * FROM flights WHERE 1 = 1\" #1 =1 is always True, just in case if there's no argument passed --> returns all flights\n",
    "    params = []\n",
    "\n",
    "    if departure_airport:\n",
    "        query += \" AND departure_airport = ?\" \n",
    "        params.append(departure_airport)\n",
    "    if arrival_airport:\n",
    "        query += \" AND arrival_airport = ?\" \n",
    "        params.append(arrival_airport)\n",
    "    if start_time:\n",
    "        query += \" AND scheduled_departure >= ?\" \n",
    "        params.append(start_time)\n",
    "    if end_time:\n",
    "        query += \" AND scheduled_departure <= ?\" \n",
    "        params.append(end_time)\n",
    "    \n",
    "    query += \" LIMIT ?\"\n",
    "    params.append(limit)\n",
    "\n",
    "    cursor.execute(query ,params)\n",
    "    rows = cursor.fetchall()\n",
    "\n",
    "    column_names = [column[0] for column in cursor.description]\n",
    "    results = [dict(zip(column_names, row)) for row in rows]\n",
    "\n",
    "    cursor.close()\n",
    "    conn.close()\n",
    "\n",
    "    return results"
   ]
  },
  {
   "cell_type": "code",
   "execution_count": 21,
   "metadata": {},
   "outputs": [
    {
     "name": "stdout",
     "output_type": "stream",
     "text": [
      "search_flights\n",
      "Search for flights based on arguments\n",
      "{'departure_airport': {'anyOf': [{'type': 'string'}, {'type': 'null'}], 'default': None, 'title': 'Departure Airport'}, 'arrival_airport': {'anyOf': [{'type': 'string'}, {'type': 'null'}], 'default': None, 'title': 'Arrival Airport'}, 'start_time': {'anyOf': [{'format': 'date', 'type': 'string'}, {'format': 'date-time', 'type': 'string'}, {'type': 'null'}], 'default': None, 'title': 'Start Time'}, 'end_time': {'anyOf': [{'format': 'date', 'type': 'string'}, {'format': 'date-time', 'type': 'string'}, {'type': 'null'}], 'default': None, 'title': 'End Time'}, 'limit': {'default': 20, 'title': 'Limit', 'type': 'integer'}}\n",
      "result count = 20\n",
      "\n",
      "### SAMPLE ###\n",
      "flight_id:21811\n",
      "flight_no:DL0064\n",
      "scheduled_departure:2024-09-11 23:04:04.879525-04:00\n",
      "scheduled_arrival:2024-09-12 07:19:04.879525-04:00\n",
      "departure_airport:CAN\n",
      "arrival_airport:BSL\n",
      "status:Arrived\n",
      "aircraft_code:319\n",
      "actual_departure:2024-09-11 23:07:04.879525-04:00\n",
      "actual_arrival:2024-09-12 07:23:04.879525-04:00\n"
     ]
    }
   ],
   "source": [
    "# test search_flight  \n",
    "print(search_flights.name)\n",
    "print(search_flights.description)\n",
    "print(search_flights.args)\n",
    "\n",
    "args = {\n",
    "    \"departure_airport\": \"CAN\"\n",
    "}\n",
    "\n",
    "result = search_flights.run(tool_input=args)\n",
    "print('result count =', len(result))\n",
    "print()\n",
    "print('### SAMPLE ###')\n",
    "for k,v in result[0].items():\n",
    "    print(f'{k}:{v}')"
   ]
  },
  {
   "cell_type": "markdown",
   "metadata": {},
   "source": [
    "## Update ticket to new flight"
   ]
  },
  {
   "cell_type": "code",
   "execution_count": 22,
   "metadata": {},
   "outputs": [],
   "source": [
    "@tool\n",
    "def update_ticket_to_new_flight(ticket_no: str, new_flight_id: int, *, config: RunnableConfig) -> str:\n",
    "    '''Update users ticket to new valid flight'''\n",
    "\n",
    "    configuration = config.get(\"configurable\", {})\n",
    "    passenger_id = configuration.get('passenger_id', None)\n",
    "\n",
    "    if not passenger_id:\n",
    "        raise ValueError(\"No passenger id configured\")\n",
    "    \n",
    "    conn = sqlite3.connect(db)\n",
    "    cursor = conn.cursor()\n",
    "\n",
    "    query = '''\n",
    "    SELECT departure_airport, arrival_airport, scheduled_departure\n",
    "    FROM flights WHERE flight_id = ?\n",
    "    '''\n",
    "\n",
    "    cursor.execute(query, [new_flight_id,])\n",
    "\n",
    "    new_flight = cursor.fetchone() \n",
    "\n",
    "    if not new_flight:\n",
    "\n",
    "        cursor.close()\n",
    "        conn.close()\n",
    "        return \"Invalid flight ID provided\"\n",
    "    \n",
    "    column_names = [column[0] for column in cursor.description]\n",
    "\n",
    "    new_flight_dict = dict(zip(column_names, new_flight)) #map column to values\n",
    "\n",
    "    timezone = pytz.timezone(\"Etc/GMT-3\") #define timezone\n",
    "    current_time = datetime.now(tz = timezone) #current time in this timezone\n",
    "\n",
    "    #convert dept time to a timezone\n",
    "    departure_time = datetime.strptime(\n",
    "        new_flight_dict['scheduled_departure'], \"%Y-%m-%d %H:%M:%S.%f%z\") \n",
    "\n",
    "    time_until = (departure_time - current_time).total_seconds()\n",
    "\n",
    "    if time_until < (3 * 3600):\n",
    "        return f'No changes to flight is permitted within 3 hours before departure {departure_time}'\n",
    "    \n",
    "    # Check if any flights found with current ticket number\n",
    "    cursor.execute(\"SELECT flight_id FROM ticket_flights WHERE ticket_no = ?\", (ticket_no,))\n",
    "\n",
    "    current_flight = cursor.fetchone()\n",
    "\n",
    "    if not current_flight:\n",
    "        cursor.close()\n",
    "        conn.close()\n",
    "        return f\"No flight found with given ticket number = {ticket_no}\"\n",
    "    \n",
    "    # Check if current login user using ticket number\n",
    "    cursor.execute(\"SELECT * FROM tickets WHERE ticket_no = ? AND passenger_id = ?\", (ticket_no, passenger_id))\n",
    "\n",
    "    current_ticket = cursor.fetchone()\n",
    "\n",
    "    if not current_ticket:\n",
    "        cursor.close()\n",
    "        conn.close()\n",
    "        return f\"Current sign-in passenger with ID = {passenger_id} not owner of this ticket number = {ticket_no}\"\n",
    "    \n",
    "    #You may enfore more business-logic in real app\n",
    "    #LLM will get things wrong if you use type-hinting policies like asking it question\n",
    "    # make sure to have API enforce valid behavior\n",
    "\n",
    "    #Now if everything checks out, update the ticket\n",
    "    cursor.execute(\n",
    "        \"Update ticket_flights SET flight_id = ? WHERE ticket_no = ?\",\n",
    "        (new_flight_id, ticket_no)\n",
    "    )\n",
    "\n",
    "    conn.commit()\n",
    "    cursor.close()\n",
    "    conn.close()\n",
    "\n",
    "    return \"Ticket updated succesffuly\"\n",
    "\n"
   ]
  },
  {
   "cell_type": "code",
   "execution_count": 23,
   "metadata": {},
   "outputs": [
    {
     "name": "stdout",
     "output_type": "stream",
     "text": [
      "update_ticket_to_new_flight\n",
      "Update users ticket to new valid flight\n",
      "{'ticket_no': {'title': 'Ticket No', 'type': 'string'}, 'new_flight_id': {'title': 'New Flight Id', 'type': 'integer'}}\n",
      "test: Invalid flight number\n",
      "test: ticket number associated with that flight number\n",
      "test: not permitted to change within 3 hours\n",
      "test: passenger_id not associated with current ticket number\n",
      "test: successfully change flight\n"
     ]
    }
   ],
   "source": [
    "#Unit test the update function\n",
    "# Call update function\n",
    "print(update_ticket_to_new_flight.name)\n",
    "print(update_ticket_to_new_flight.description)\n",
    "print(update_ticket_to_new_flight.args)\n",
    "\n",
    "print(\"test: Invalid flight number\")\n",
    "args = {\n",
    "    \"ticket_no\": \"123\",\n",
    "    \"new_flight_id\": \"0\",\n",
    "}\n",
    "\n",
    "mock_config = {\n",
    "    'configurable': {\n",
    "        'passenger_id' : '1234'\n",
    "    } \n",
    "}\n",
    "\n",
    "update_ticket_to_new_flight.invoke(args, config = mock_config)\n",
    "\n",
    "print(\"test: ticket number associated with that flight number\")\n",
    "#Add test\n",
    "print(\"test: not permitted to change within 3 hours\")\n",
    "#Add test\n",
    "print(\"test: passenger_id not associated with current ticket number\")\n",
    "#Add test\n",
    "print(\"test: successfully change flight\")\n",
    "#Add test\n",
    "\n"
   ]
  },
  {
   "cell_type": "markdown",
   "metadata": {},
   "source": [
    "## Cancel ticket tool"
   ]
  },
  {
   "cell_type": "code",
   "execution_count": 24,
   "metadata": {},
   "outputs": [],
   "source": [
    "@tool\n",
    "def cancel_ticket(ticket_no: str, *, config: RunnableConfig) -> list[dict]:\n",
    "    '''Cancel ticket tool'''\n",
    "\n",
    "    configuration = config.get(\"configurable\", {})\n",
    "    passenger_id = configuration.get(\"passenger_id\", None)\n",
    "\n",
    "    if not passenger_id:\n",
    "        raise ValueError(\"No passenger id configured\")\n",
    "    \n",
    "    conn = sqlite3.connect(db)\n",
    "    cursor = conn.cursor()\n",
    "\n",
    "    cursor.execute(\n",
    "        \"SELECT flight_id FROM ticket_flights WHERE ticket_no = ?\", (ticket_no, )\n",
    "    )\n",
    "\n",
    "    existing_ticket = cursor.fetchone()\n",
    "\n",
    "    #No ticket found\n",
    "    if not existing_ticket:\n",
    "        cursor.close()\n",
    "        conn.close()\n",
    "        return f\"No existing ticket found for given ticket number {ticket_no}\"\n",
    "    \n",
    "    cursor.execute(\n",
    "        \"SELECT book_ref FROM tickets WHERE ticket_no = ? AND passenger_id = ?\", (ticket_no, passenger_id)\n",
    "    )\n",
    "\n",
    "    current_ticket = cursor.fetchone()\n",
    "\n",
    "    # passenger_id doesn't match with ticket_no\n",
    "    if not current_ticket: \n",
    "        cursor.close()\n",
    "        conn.close()\n",
    "        return f\"This passenger ID ({passenger_id}) doesn't associate with ticket number ({ticket_no})\"\n",
    "    \n",
    "    # If everything checks out, delete ticket_flight from table\n",
    "    cursor.execute(\"DELETE FROM ticket_flights WHERE ticket_no = ?\", (ticket_no, ))\n",
    "    conn.commit()\n",
    "\n",
    "    cursor.close()\n",
    "    conn.close()\n",
    "\n",
    "    return f\"Ticket {ticket_no} canceled successfully\"\n"
   ]
  },
  {
   "cell_type": "code",
   "execution_count": 25,
   "metadata": {},
   "outputs": [
    {
     "name": "stdout",
     "output_type": "stream",
     "text": [
      "cancel_ticket\n",
      "Cancel ticket tool\n",
      "test: invalid passenger id\n",
      "No passenger id configured\n",
      "test: invalid ticket number\n",
      "No existing ticket found for given ticket number 0\n",
      "\n",
      "\n",
      "test: valid ticket doens't associated with valid passenger id\n",
      "This passenger ID (8499 420203) doesn't associate with ticket number (9880005432000987)\n",
      "\n",
      "\n",
      "test: flight can be called\n",
      "Ticket 9880005432000987 canceled successfully\n"
     ]
    }
   ],
   "source": [
    "# Unit test\n",
    "print(cancel_ticket.name)\n",
    "print(cancel_ticket.description)\n",
    "\n",
    "print(\"test: invalid passenger id\")\n",
    "args = {\n",
    "'ticket_no': \"1234\" \n",
    "}\n",
    "config = {\n",
    "    \"configurable\" : {\n",
    "        \"passenger_id\": None\n",
    "    }\n",
    "}\n",
    "try:\n",
    "    cancel_ticket.run(args, config = config)\n",
    "except Exception as e:\n",
    "    print(e)\n",
    "\n",
    "print(\"test: invalid ticket number\")\n",
    "args = {\n",
    "'ticket_no': \"0\" \n",
    "}\n",
    "config = {\n",
    "    \"configurable\" : {\n",
    "        \"passenger_id\":\"8149 604011\"\n",
    "    }\n",
    "}\n",
    "\n",
    "res = cancel_ticket.run(args, config = config)\n",
    "print(res)\n",
    "\n",
    "print(\"\\n\\ntest: valid ticket doens't associated with valid passenger id\")\n",
    "args = {\n",
    "'ticket_no': \"9880005432000987\" \n",
    "}\n",
    "config = {\n",
    "    \"configurable\" : {\n",
    "        \"passenger_id\":\"8499 420203\"\n",
    "    }\n",
    "}\n",
    "res = cancel_ticket.run(args, config = config)\n",
    "print(res)\n",
    "\n",
    "print(\"\\n\\ntest: flight can be called\")\n",
    "\n",
    "args = {\n",
    "'ticket_no': \"9880005432000987\" \n",
    "}\n",
    "config = {\n",
    "    \"configurable\" : {\n",
    "        \"passenger_id\":\"8149 604011\"\n",
    "    }\n",
    "}\n",
    "\n",
    "res = cancel_ticket.run(args, config = config)\n",
    "print(res)\n",
    "\n",
    "#revert the original sqlite file\n",
    "revert_backup(local_file, backup_file)\n"
   ]
  },
  {
   "cell_type": "markdown",
   "metadata": {},
   "source": [
    "## Car Rental Tool"
   ]
  },
  {
   "cell_type": "code",
   "execution_count": 26,
   "metadata": {},
   "outputs": [],
   "source": [
    "def connect_db(db):\n",
    "    conn = sqlite3.connect(db)\n",
    "    cursor = conn.cursor()\n",
    "    return conn, cursor\n"
   ]
  },
  {
   "cell_type": "code",
   "execution_count": 27,
   "metadata": {},
   "outputs": [],
   "source": [
    "@tool \n",
    "def search_car_rentals(\n",
    "    location: Optional[str] = None,\n",
    "    name: Optional[str] = None,\n",
    "    price_tier: Optional[str] = None,\n",
    "    start_date: Optional[Union[datetime, date]] = None,\n",
    "    end_date: Optional[Union[datetime, date]] = None,\n",
    "    ) -> list[dict]:\n",
    "    '''\n",
    "    Search for car rentals based on location, name, price_tier, start_date, and end date\n",
    "    '''\n",
    "\n",
    "    conn, cursor = connect_db(db) #processed db\n",
    "\n",
    "    query = 'SELECT * FROM car_rentals WHERE 1=1'\n",
    "    params = []\n",
    "\n",
    "    if location:\n",
    "        query += \" AND location LIKE ?\"\n",
    "        params.append(f\"%{location}%\") # the % operator is wildcard in SQL to match 0+ any characters\n",
    "    \n",
    "    if name:\n",
    "        query += \" AND name LIKE ?\"\n",
    "        params.append(f\"%{name}%\")\n",
    "    \n",
    "    cursor.execute(query, params)\n",
    "    results = cursor.fetchall() \n",
    "\n",
    "    conn.close()\n",
    "\n",
    "    return [\n",
    "        dict(zip([column[0] for column in cursor.description], row)) for row in results #mapping column to each row \n",
    "    ]\n"
   ]
  },
  {
   "cell_type": "code",
   "execution_count": 28,
   "metadata": {},
   "outputs": [
    {
     "data": {
      "text/plain": [
       "[{'id': 1,\n",
       "  'name': 'Europcar',\n",
       "  'location': 'Basel',\n",
       "  'price_tier': 'Economy',\n",
       "  'start_date': '2024-04-14',\n",
       "  'end_date': '2024-04-11',\n",
       "  'booked': 0}]"
      ]
     },
     "execution_count": 28,
     "metadata": {},
     "output_type": "execute_result"
    }
   ],
   "source": [
    "# Unit test\n",
    "args = {\n",
    "    'location': \"Basel\",\n",
    "    \"price_tier\": \"Economy\",\n",
    "    \"name\": \"Europcar\"\n",
    "}\n",
    "\n",
    "search_car_rentals.invoke(args)"
   ]
  },
  {
   "cell_type": "code",
   "execution_count": 29,
   "metadata": {},
   "outputs": [],
   "source": [
    "@tool\n",
    "def book_car_rental(rental_id : int) -> str:\n",
    "    '''\n",
    "    Book car rental by ID\n",
    "\n",
    "    Args:\n",
    "        rental_id: int\n",
    "    Returns:\n",
    "        str: A message indicates if booking is success or failure\n",
    "    '''\n",
    "\n",
    "    conn, cursor = connect_db(db)\n",
    "\n",
    "    query = \"UPDATE car_rentals SET booked = 1 WHERE id = ?\"\n",
    "\n",
    "    cursor.execute(query, (rental_id,))\n",
    "\n",
    "    conn.commit()\n",
    "\n",
    "    if cursor.rowcount > 0:\n",
    "        conn.close()\n",
    "        return f\"Booking {rental_id} is successful\"\n",
    "    else:\n",
    "        conn.close()\n",
    "        return f\"The booking ID = {rental_id} is not found\"\n",
    "\n",
    "\n",
    "\n"
   ]
  },
  {
   "cell_type": "code",
   "execution_count": 30,
   "metadata": {},
   "outputs": [
    {
     "data": {
      "text/plain": [
       "'Booking 1 is successful'"
      ]
     },
     "execution_count": 30,
     "metadata": {},
     "output_type": "execute_result"
    }
   ],
   "source": [
    "args = {\n",
    "    \"rental_id\" : 1\n",
    "}\n",
    "\n",
    "book_car_rental.invoke(args)\n"
   ]
  },
  {
   "cell_type": "markdown",
   "metadata": {},
   "source": [
    "## Hotel tools"
   ]
  },
  {
   "cell_type": "code",
   "execution_count": null,
   "metadata": {},
   "outputs": [],
   "source": []
  },
  {
   "cell_type": "markdown",
   "metadata": {},
   "source": [
    "## Excursion tools"
   ]
  },
  {
   "cell_type": "code",
   "execution_count": null,
   "metadata": {},
   "outputs": [],
   "source": []
  },
  {
   "cell_type": "markdown",
   "metadata": {},
   "source": [
    "# Utilities"
   ]
  },
  {
   "cell_type": "code",
   "execution_count": 31,
   "metadata": {},
   "outputs": [],
   "source": [
    "#NOTE: there are some types of message depends on role\n",
    "# HumanMessage, AIMessage, SystemMessage (tell model how to behave), \n",
    "# FunctionMesasge: has role, name, content parameter\n",
    "# ToolMessage: role, content, tool_id param\n",
    "from langchain_core.messages import ToolMessage\n",
    "from langchain_core.runnables import RunnableLambda\n",
    "#NOTE: ToolNode is langchain runnable that takes graph state as input\n",
    "# and outputs updated state with results of tool call\n",
    "from langgraph.prebuilt import ToolNode"
   ]
  },
  {
   "cell_type": "code",
   "execution_count": 32,
   "metadata": {},
   "outputs": [],
   "source": [
    "def handle_tool_error(state) -> dict:\n",
    "    error = state.get(\"error\") \n",
    "    tool_calls = state['message'][-1].tool_calls\n",
    "\n",
    "    return { \n",
    "        'message': [\n",
    "            ToolMessage(\n",
    "            content=f\"Error: {repr(error)}\\nPlease fix mistake\",\n",
    "            tool_call_id=tc['id']\n",
    "        ) for tc in tool_calls]\n",
    "    }\n"
   ]
  },
  {
   "cell_type": "code",
   "execution_count": 33,
   "metadata": {},
   "outputs": [],
   "source": [
    "def create_tool_node_with_fallback(tools: list) -> dict:\n",
    "    #NOTE: ToolNode.with_fallback provides \n",
    "    # a mechanism to deal with errors\n",
    "    return ToolNode(tools).with_fallbacks([\n",
    "        RunnableLambda(handle_tool_error)], exception_key=\"error\"\n",
    "    )\n"
   ]
  },
  {
   "cell_type": "code",
   "execution_count": 34,
   "metadata": {},
   "outputs": [],
   "source": [
    "#What's this for?\n",
    "def _print_event(event: dict, _printed: set, max_length = 1500):\n",
    "    current_state = event.get(\"dialog_state\")\n",
    "    if current_state:\n",
    "        print(\"Currently in \", current_state[-1])\n",
    "    \n",
    "    message = event.get('messages')\n",
    "\n",
    "    if message:\n",
    "        if isinstance(message, list):\n",
    "            message = message[-1]\n",
    "        if message.id not in _printed:\n",
    "            msg_repr = message.pretty_repr(html = True)\n",
    "            if len(msg_repr) > max_length:\n",
    "                msg_repr = msg_repr[:max_length] + \"...(truncated)\"\n",
    "            print(msg_repr)\n",
    "            _printed.add(message.id) "
   ]
  },
  {
   "cell_type": "markdown",
   "metadata": {},
   "source": [
    "# Part 1: Zero-shot agent\n",
    "\n",
    "Always prefer simple, scalable solutions to complicated ones"
   ]
  },
  {
   "cell_type": "markdown",
   "metadata": {},
   "source": [
    "## Imports"
   ]
  },
  {
   "cell_type": "code",
   "execution_count": 35,
   "metadata": {},
   "outputs": [],
   "source": [
    "from typing import Annotated\n",
    "from typing_extensions import TypedDict\n",
    "from langgraph.graph.message import AnyMessage, add_messages \n",
    "from langchain_anthropic import ChatAnthropic\n",
    "\n",
    "from langchain_community.tools.tavily_search import TavilySearchResults\n",
    "from langchain_core.prompts import ChatPromptTemplate\n",
    "\n",
    "#NOTE: Runnable is abstract class, you need to implement run()\n",
    "from langchain_core.runnables import Runnable, RunnableConfig\n",
    "\n",
    "#NOTE: langgraph\n",
    "from langgraph.checkpoint.memory import MemorySaver\n",
    "from langgraph.graph import START, END, StateGraph\n",
    "from langgraph.prebuilt import tools_condition"
   ]
  },
  {
   "cell_type": "markdown",
   "metadata": {},
   "source": [
    "## State"
   ]
  },
  {
   "cell_type": "code",
   "execution_count": 36,
   "metadata": {},
   "outputs": [],
   "source": [
    "# State\n",
    "\n",
    "class State(TypedDict):\n",
    "\n",
    "    #NOTE: add_mesasge append a new message to list of messages\n",
    "    # add_message is also called a \n",
    "    # reducer function (decide how to apply changes to state)\n",
    "    messages: Annotated[list[AnyMessage], add_messages]"
   ]
  },
  {
   "cell_type": "markdown",
   "metadata": {},
   "source": [
    "## Assistant"
   ]
  },
  {
   "cell_type": "code",
   "execution_count": 37,
   "metadata": {},
   "outputs": [],
   "source": [
    "class Assistant:\n",
    "    def __init__(self, runnable: Runnable):\n",
    "        self.runnable = runnable \n",
    "    \n",
    "    def __call__(self, state: State, config: RunnableConfig):\n",
    "        configuration = config.get(\"configurable\", {})\n",
    "        passenger_id = configuration.get(\"passenger_id\", None)\n",
    "\n",
    "        while True:\n",
    "\n",
    "            #NOTE: do we need to raise Error if passenger id = None? \n",
    "            state = {**state, 'user_info': passenger_id}\n",
    "\n",
    "            result = self.runnable.invoke(state)\n",
    "\n",
    "            #If LLM outputs an empty response --> prompt it with real response\n",
    "            if not result.tool_calls \\\n",
    "                and ( not result.content or isinstance(result.content, list) and not result.content[0].get('text')):\n",
    "                messages = state['messages'] + [('user', \"respond with a real output\")]\n",
    "                state = {**state, \"messages\": messages}\n",
    "            else:\n",
    "                break\n",
    "        \n",
    "        return {\"messages\": result}"
   ]
  },
  {
   "cell_type": "code",
   "execution_count": 50,
   "metadata": {},
   "outputs": [],
   "source": [
    "#NOTE: ChatPromptTemplate has a role parameter: assistant, system, user\n",
    "primary_assistant_prompt = ChatPromptTemplate.from_messages(\n",
    "    [\n",
    "        ('system', \n",
    "        \"You are a helpful support assistant for Swiss Airlines.\\\n",
    "        Use the provided tools to search for flights, company policies, and other information to assist user's request\\\n",
    "        When serching, be persistent, expand your search before giving up.\\n\\nCurrent user:\\n<User>\\n{user_info}\\n</User>\\\n",
    "        Current time: {time}\\n\\n\"),\n",
    "        (\"placeholder\", \"{messages}\")\n",
    "    ]\n",
    ").partial(time = datetime.now()) \n"
   ]
  },
  {
   "cell_type": "code",
   "execution_count": 39,
   "metadata": {},
   "outputs": [],
   "source": [
    "part1_tools = [\n",
    "    TavilySearchResults(max_results=1),\n",
    "    fetch_user_flight_info,\n",
    "    search_flights,\n",
    "    lookup_policy,\n",
    "    update_ticket_to_new_flight,\n",
    "    cancel_ticket,\n",
    "    search_car_rentals,\n",
    "    book_car_rental,\n",
    "]"
   ]
  },
  {
   "cell_type": "code",
   "execution_count": 40,
   "metadata": {},
   "outputs": [],
   "source": [
    "part1_assistant_runnable = primary_assistant_prompt | llm.bind_tools(part1_tools)"
   ]
  },
  {
   "cell_type": "markdown",
   "metadata": {},
   "source": [
    "## Build Graph\n",
    "Reference: https://langchain-ai.github.io/langgraph/how-tos/tool-calling/#react-agent"
   ]
  },
  {
   "cell_type": "code",
   "execution_count": 41,
   "metadata": {},
   "outputs": [],
   "source": [
    "builder = StateGraph(State)\n",
    "\n",
    "#defne nodes\n",
    "builder.add_node('assistant', Assistant(part1_assistant_runnable)) # Assistant has self.runnable\n",
    "builder.add_node(\"tools\", create_tool_node_with_fallback(part1_tools))\n",
    "#define edges: determine how control flow moves\n",
    "builder.add_edge(START, \"assistant\")\n",
    "builder.add_conditional_edges(\n",
    "    'assistant',\n",
    "    tools_condition #direct to tools if any is used , else direct to END\n",
    ")\n",
    "\n",
    "builder.add_edge('tools', 'assistant')\n",
    "\n",
    "#Checkpoint persist graph State\n",
    "memory = MemorySaver()\n",
    "\n",
    "part1_graph = builder.compile(checkpointer=memory)"
   ]
  },
  {
   "cell_type": "code",
   "execution_count": 42,
   "metadata": {},
   "outputs": [
    {
     "data": {
      "image/jpeg": "[encoded data removed]",
      "text/plain": [
       "<IPython.core.display.Image object>"
      ]
     },
     "metadata": {},
     "output_type": "display_data"
    }
   ],
   "source": [
    "# Visualize the graph\n",
    "from IPython.display import Image, display\n",
    "\n",
    "try:\n",
    "    display(Image(part1_graph.get_graph(xray=True).draw_mermaid_png()))\n",
    "except Exception as e:\n",
    "    print(e)"
   ]
  },
  {
   "cell_type": "code",
   "execution_count": 43,
   "metadata": {},
   "outputs": [
    {
     "name": "stdout",
     "output_type": "stream",
     "text": [
      "thread id =  27d64da9-3531-4ffc-8875-7dc3672baf1d\n"
     ]
    }
   ],
   "source": [
    "#example\n",
    "import uuid\n",
    "\n",
    "tutorial_questions = [\n",
    "    \"Hi there, what time is my flight?\",\n",
    "    \"Am i allowed to update my flight to something sooner? I want to leave later today.\",\n",
    "    \"Update my flight to sometime next week then\",\n",
    "    \"The next available option is great\",\n",
    "    \"what about lodging and transportation?\",\n",
    "    \"Yeah i think i'd like an affordable hotel for my week-long stay (7 days). And I'll want to rent a car.\",\n",
    "    \"OK could you place a reservation for your recommended hotel? It sounds nice.\",\n",
    "    \"yes go ahead and book anything that's moderate expense and has availability.\",\n",
    "    \"Now for a car, what are my options?\",\n",
    "    \"Awesome let's just get the cheapest option. Go ahead and book for 7 days\",\n",
    "    \"Cool so now what recommendations do you have on excursions?\",\n",
    "    \"Are they available while I'm there?\",\n",
    "    \"interesting - i like the museums, what options are there? \",\n",
    "    \"OK great pick one and book it for my second day there.\",\n",
    "]\n",
    "\n",
    "db = update_dates(db)\n",
    "thread_id = str(uuid.uuid4())\n",
    "print('thread id = ', thread_id)\n",
    "\n",
    "config = {\n",
    "    \"configurable\": {\n",
    "        \"passenger_id\": \"3442 587242\",\n",
    "        \"thread_id\":thread_id\n",
    "    }\n",
    "}\n",
    "\n"
   ]
  },
  {
   "cell_type": "code",
   "execution_count": 44,
   "metadata": {},
   "outputs": [
    {
     "name": "stdout",
     "output_type": "stream",
     "text": [
      "================================\u001b[1m Human Message \u001b[0m=================================\n",
      "\n",
      "Hi there, what time is my flight?\n",
      "==================================\u001b[1m Ai Message \u001b[0m==================================\n",
      "Tool Calls:\n",
      "  fetch_user_flight_info (call_m5ho317g)\n",
      " Call ID: call_m5ho317g\n",
      "  Args:\n",
      "=================================\u001b[1m Tool Message \u001b[0m=================================\n",
      "Name: fetch_user_flight_info\n",
      "\n",
      "[{\"ticket_no\": \"7240005432906569\", \"book_ref\": \"C46E9F\", \"flight_id\": 19250, \"flight_no\": \"LX0112\", \"departure_airport\": \"CDG\", \"arrival_airport\": \"BSL\", \"scheduled_departure\": \"2024-09-26 11:04:11.292177-04:00\", \"scheduled_arrival\": \"2024-09-26 12:34:11.292177-04:00\", \"seat_no\": \"18E\", \"fare_conditions\": \"Economy\"}]\n",
      "==================================\u001b[1m Ai Message \u001b[0m==================================\n",
      "\n",
      "Your flight, LX0112, from CDG to BSL is scheduled to depart at 11:04 AM on September 26th, 2024. The expected arrival time is 12:34 PM on the same day.\n"
     ]
    }
   ],
   "source": [
    "_printed = set ()\n",
    "for i, question in enumerate(tutorial_questions):\n",
    "    events = part1_graph.stream(input = {\"messages\": ('user', question)}, config = config, stream_mode=\"values\")\n",
    "    for event in events:\n",
    "        _print_event(event, _printed)\n",
    "    \n",
    "    break\n",
    "    # if i == 2: break\n",
    "\n"
   ]
  },
  {
   "cell_type": "markdown",
   "metadata": {},
   "source": [
    "# Part 2: Add confirmation\n",
    "\n",
    "Human in the loop approach\n",
    "\n",
    "User has to confirm before agent commit any actions"
   ]
  },
  {
   "cell_type": "code",
   "execution_count": 45,
   "metadata": {},
   "outputs": [],
   "source": [
    "#New State\n",
    "class State(TypedDict):\n",
    "    messages: Annotated[list[AnyMessage], add_messages] \n",
    "    user_info: str #NOTE: will be populated by graph"
   ]
  },
  {
   "cell_type": "code",
   "execution_count": 46,
   "metadata": {},
   "outputs": [],
   "source": [
    "class Agent:\n",
    "    def __init__(self, runnable: Runnable):\n",
    "        self.runnable = runnable\n",
    "    \n",
    "    def __run__(self, state: State, config: RunnableConfig):\n",
    "        while True:\n",
    "            result = self.runnable.invoke(state)\n",
    "\n",
    "            #no tool is called\n",
    "            # and content is empty\n",
    "            # or content is list and first content has no text attr\n",
    "            if not result.tool_calls \\\n",
    "                and not result.content \\\n",
    "                or ( isinstance(result.content, list) and not result.content[0].get('text')):\n",
    "                messages = state['messages'] + [('user', 'Respond with a real output')]\n",
    "                state = {**state, \"messages\": messages}\n",
    "            else: break\n",
    "        return {'messages': result}\n"
   ]
  },
  {
   "cell_type": "code",
   "execution_count": 47,
   "metadata": {},
   "outputs": [],
   "source": [
    "part2_assistant_runnable = primary_assistant_prompt | llm.bind_tools(part1_tools)"
   ]
  },
  {
   "cell_type": "code",
   "execution_count": 48,
   "metadata": {},
   "outputs": [
    {
     "data": {
      "image/jpeg": "[encoded data removed]",
      "text/plain": [
       "<IPython.core.display.Image object>"
      ]
     },
     "metadata": {},
     "output_type": "display_data"
    }
   ],
   "source": [
    "builder = StateGraph(State)\n",
    "\n",
    "def user_info(state: State):\n",
    "    return {'user_info': fetch_user_flight_info.invoke({})}\n",
    "\n",
    "builder.add_node('fetch_user_info', user_info)\n",
    "builder.add_node('assistant', Assistant(part2_assistant_runnable))\n",
    "builder.add_node('tools', create_tool_node_with_fallback(part1_tools))\n",
    "\n",
    "builder.add_edge(START, \"fetch_user_info\")\n",
    "builder.add_edge(\"fetch_user_info\", \"assistant\")\n",
    "builder.add_conditional_edges(\n",
    "    \"assistant\",\n",
    "    tools_condition\n",
    ")\n",
    "\n",
    "builder.add_edge('tools', 'assistant')\n",
    "\n",
    "# provide memory to llm\n",
    "memory = MemorySaver()\n",
    "\n",
    "part2_graph = builder.compile(\n",
    "    checkpointer = memory,\n",
    "    #NOTE: halt graph execution before 'tools' node.\n",
    "    # user can approve/rejct before assistant continues \n",
    "    interrupt_before=['tools'] #user interrupt before using any tools\n",
    ")\n",
    "\n",
    "\n",
    "try:\n",
    "    display(Image(part2_graph.get_graph(xray=True).draw_mermaid_png()))\n",
    "except Exception:\n",
    "    # This requires some extra dependencies and is optional\n",
    "    pass"
   ]
  },
  {
   "cell_type": "code",
   "execution_count": 49,
   "metadata": {},
   "outputs": [
    {
     "name": "stdout",
     "output_type": "stream",
     "text": [
      "================================\u001b[1m Human Message \u001b[0m=================================\n",
      "\n",
      "Hi there, what time is my flight?\n",
      "==================================\u001b[1m Ai Message \u001b[0m==================================\n",
      "Tool Calls:\n",
      "  fetch_user_flight_info (call_4tvkd1c6)\n",
      " Call ID: call_4tvkd1c6\n",
      "  Args:\n"
     ]
    }
   ],
   "source": [
    "db = update_dates(db)\n",
    "thread_id = str(uuid.uuid4())\n",
    "\n",
    "config = {\n",
    "    \"configurable\": { \n",
    "        \"passenger_id\" : '3442 587242',\n",
    "        'thread_id' : thread_id\n",
    "    }\n",
    "}\n",
    "\n",
    "_printed = set()\n",
    "\n",
    "for question in tutorial_questions:\n",
    "\n",
    "    events = part2_graph.stream({'messages': ('user', question)}, config, stream_mode = 'values')\n",
    "\n",
    "    for event in events:\n",
    "        _print_event(event, _printed)\n",
    "    \n",
    "    snapshot = part2_graph.get_state(config)\n",
    "\n",
    "    while snapshot.next:\n",
    "        #NOTE: we have an interrupt\n",
    "        user_input = input(\n",
    "            \"Do you approve of the above actions? type 'y' to continue;\"\n",
    "            \" otherwise, explain it\"\n",
    "        )\n",
    "\n",
    "        if user_input.strip() == 'y': \n",
    "            #user said yes\n",
    "            result = part2_graph.invoke(None, config) # continue graph execution\n",
    "        else:\n",
    "            #User provided some explaination why they said no\n",
    "            result = part2_graph.invoke(\n",
    "                {\"messages\": \n",
    "                 [ToolMessage(\n",
    "                    tool_call_id=event['messages'][-1].tool_calls[0]['id'], \n",
    "                    content=f\"User denied action, reason: {user_input}. Continue asissting, remember uer's input\"\n",
    "                    )]\n",
    "                },config\n",
    "            )\n",
    "        \n",
    "        snapshot = part2_graph.get_state(config)\n",
    "\n",
    "    break"
   ]
  },
  {
   "cell_type": "markdown",
   "metadata": {},
   "source": [
    "# Part 3 Conditional interrupt\n",
    "\n",
    "- for read-only tools, llm can query without asking\n",
    "\n",
    "- for write tools, llm has to ask users to confirm actions\n",
    "\n",
    "- have route node connecting to assistant, this route node returns if a certain tool is safe (Read more  in tutorial)"
   ]
  },
  {
   "cell_type": "markdown",
   "metadata": {},
   "source": [
    "# Part 4\n",
    "\n",
    "A master LLM use sub-graph to direct user's request to a more specialized agent that handle some specific domains"
   ]
  },
  {
   "cell_type": "code",
   "execution_count": null,
   "metadata": {},
   "outputs": [],
   "source": []
  },
  {
   "cell_type": "code",
   "execution_count": null,
   "metadata": {},
   "outputs": [],
   "source": []
  },
  {
   "cell_type": "code",
   "execution_count": null,
   "metadata": {},
   "outputs": [],
   "source": []
  }
 ],
 "metadata": {
  "kernelspec": {
   "display_name": "torch",
   "language": "python",
   "name": "python3"
  },
  "language_info": {
   "codemirror_mode": {
    "name": "ipython",
    "version": 3
   },
   "file_extension": ".py",
   "mimetype": "text/x-python",
   "name": "python",
   "nbconvert_exporter": "python",
   "pygments_lexer": "ipython3",
   "version": "undefined.undefined.undefined"
  }
 },
 "nbformat": 4,
 "nbformat_minor": 2
}
