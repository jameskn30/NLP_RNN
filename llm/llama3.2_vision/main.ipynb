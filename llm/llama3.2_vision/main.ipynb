{
 "cells": [
  {
   "cell_type": "code",
   "execution_count": 2,
   "metadata": {},
   "outputs": [],
   "source": [
    "import ollama\n",
    "import matplotlib.pyplot as plt\n",
    "import torch"
   ]
  },
  {
   "cell_type": "code",
   "execution_count": 3,
   "metadata": {},
   "outputs": [
    {
     "name": "stdout",
     "output_type": "stream",
     "text": [
      "**Nutritional Information**\n",
      "\n",
      "* Calories: 350\n",
      "* Protein: 26 grams\n",
      "* Fat: 19 grams\n",
      "* Carbohydrates: 0 grams\n",
      "\n",
      "The image shows a plate with:\n",
      "* A piece of steak\n",
      "* Some broccoli and carrots on the side\n",
      "\n",
      "This meal is high in protein and fat, making it suitable for individuals who require a significant amount of these nutrients.\n",
      "{\"name\": \"Egg\", \"calorie\": 70}\n",
      "\"Spaghetti with Tomato Sauce\"\n",
      "\n",
      "The dish contains Spaghetti, tomato sauce, basil leaves, and ground nuts.\n",
      "\n",
      "**Approximate Calorie Count:**\n",
      "\n",
      "* Spaghetti (1 cup): 200-250 calories\n",
      "* Tomato Sauce (1/2 cup): 50-75 calories\n",
      "* Basil Leaves (a few sprigs): negligible calories\n",
      "* Ground Nuts (1 tablespoon): approximately 100 calories\n",
      "\n",
      "Total Estimated Calories: 350-425\n"
     ]
    }
   ],
   "source": [
    "import ollama\n",
    "\n",
    "pics = ['./beefsteak.jpeg', 'egg.jpg', 'spaghetti.jpg']\n",
    "\n",
    "for path in pics:\n",
    "\n",
    "    response = ollama.chat(\n",
    "        model='llama3.2-vision',\n",
    "        messages=[{\n",
    "            'role': 'user',\n",
    "            'content': 'Look at the picture, tell me what is the food and how much calorie. Keep answer in format {\"name\": <name>, \"calorie\": <calorie>}',\n",
    "            'images': [path]\n",
    "        }]\n",
    "    )\n",
    "\n",
    "    print(response['message']['content'])"
   ]
  },
  {
   "cell_type": "code",
   "execution_count": 18,
   "metadata": {},
   "outputs": [
    {
     "name": "stdout",
     "output_type": "stream",
     "text": [
      "The nutrition facts are as follows:\n",
      "\n",
      "*   Serving size: 1 Tbsp. (21g)\n",
      "*   Total fat: 0%\n",
      "*   Cholesterol: 0%\n",
      "*   Total sugars: 6%\n",
      "*   Sodium: 0mg\n",
      "*   Protein: 0%\n",
      "\n",
      "Answer: {\"serving_size\": \"1 Tbsp. (21g)\", \"total_fat\": \"0%\", \"cholesterol\": \"0%\", \"total_sugars\": \"6%\", \"sodium\": \"0mg\", \"protein\": \"0%\"}\n"
     ]
    }
   ],
   "source": [
    "info = [\n",
    "    \"serving_size\",\n",
    "    \"total_fat\",\n",
    "    \"cholesterol\",\n",
    "    \"total_sugars\",\n",
    "    \"sodium\",\n",
    "    \"protein\",\n",
    "]\n",
    "\n",
    "json_format = []\n",
    "\n",
    "for attr in info:\n",
    "    json_format.append(f'\"{attr}\":<{attr}>')\n",
    "\n",
    "json_format = '{' + ','.join(json_format) + '}'\n",
    "\n",
    "prompt_message = f\"Look at the picture of this nutrition facts, extract the information, if not known, set value to N/A, and must answer exactly in the following JSON format: {json_format}.\"\n",
    "\n",
    "\n",
    "response = ollama.chat(\n",
    "    model='llama3.2-vision',\n",
    "    messages=[{\n",
    "        'role': 'user',\n",
    "        'content': prompt_message,\n",
    "        'images': ['./nutrition_facts.png']\n",
    "    }]\n",
    ")\n",
    "\n",
    "print(response['message']['content'])"
   ]
  },
  {
   "cell_type": "code",
   "execution_count": null,
   "metadata": {},
   "outputs": [],
   "source": []
  }
 ],
 "metadata": {
  "kernelspec": {
   "display_name": "torch",
   "language": "python",
   "name": "python3"
  },
  "language_info": {
   "codemirror_mode": {
    "name": "ipython",
    "version": 3
   },
   "file_extension": ".py",
   "mimetype": "text/x-python",
   "name": "python",
   "nbconvert_exporter": "python",
   "pygments_lexer": "ipython3",
   "version": "3.12.4"
  }
 },
 "nbformat": 4,
 "nbformat_minor": 2
}
