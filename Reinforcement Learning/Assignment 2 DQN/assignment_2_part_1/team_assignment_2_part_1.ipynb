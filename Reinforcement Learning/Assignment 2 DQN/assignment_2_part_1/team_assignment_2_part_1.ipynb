{
  "cells": [
    {
      "cell_type": "markdown",
      "id": "9c0d943c",
      "metadata": {
        "id": "9c0d943c"
      },
      "source": [
        "## <center>CSE 546: Reinforcement Learning</center>\n",
        "### <center>Prof. Alina Vereshchaka</center>\n",
        "<!-- ### <center>Fall 2022</center> -->\n",
        "\n",
        "Welcome to the Assignment 2, Part 1: Introduction to Deep Reinforcement Learning and Neural Networks! The goal of this assignment is to make you comfortable with the application of different Neural Network structures depending on how the Reinforcement Learning environment is set up."
      ]
    },
    {
      "cell_type": "code",
      "execution_count": 1,
      "id": "R-lT05FxI8Tf",
      "metadata": {
        "colab": {
          "base_uri": "https://localhost:8080/"
        },
        "id": "R-lT05FxI8Tf",
        "outputId": "7651f59e-787e-4061-bf25-78129b2a9f7b"
      },
      "outputs": [],
      "source": [
        "# from google.colab import drive\n",
        "# drive.mount('/content/drive')\n",
        "# !cp 'drive/My Drive/environment.py' .\n",
        "# !ls\n",
        "# pip install gymnasium"
      ]
    },
    {
      "cell_type": "code",
      "execution_count": 2,
      "id": "c0fc19e1",
      "metadata": {
        "id": "c0fc19e1"
      },
      "outputs": [],
      "source": [
        "# Imports\n",
        "from environment import WumpusWorldEnvironment"
      ]
    },
    {
      "cell_type": "markdown",
      "id": "87890afd",
      "metadata": {
        "id": "87890afd"
      },
      "source": [
        "# Environment"
      ]
    },
    {
      "cell_type": "markdown",
      "id": "b9dc8362",
      "metadata": {
        "id": "b9dc8362"
      },
      "source": [
        "We will be working with an implementation of the Wumpus World environment. The environment comes from the book \"Artificial Intelligence: A Modern Approach\" by Stuart J. Russell and Peter Norvig.\n",
        "\n",
        "### ENVIRONMENT DETAILS:\n",
        "\n",
        "The environment is a 6 x 6 grid world containing a total of 36 grid blocks.\n",
        "\n",
        "#### ENVIRONMENT OBJECTS:\n",
        "The environment consists of the following objects:\n",
        "\n",
        "1. **Agent** - The agent starts in the grid block at the bottom left corner whose co-ordinates are [0, 0]. The goal of our agent is to collect the Gold while avoiding the Wumpus and the pits.\n",
        "\n",
        "2. **Wumpus** - The monster which would eat the agent if they are in the same grid block.\n",
        "\n",
        "3. **Pit** - The agent must avoid falling into the pits.\n",
        "\n",
        "4. **Gold** - The agent must collect the Gold.\n",
        "\n",
        "5. **Breeze** - Breeze surrounds the Pits and warn the agent of a Pit in an adjacent grid block.\n",
        "\n",
        "6. **Stench** - Stench surrounds the Wumpus and warns the agent of the Wumpus in an adjacent grid block.\n",
        "\n",
        "#### ENVIRONMENT OBSERVATIONS:\n",
        "\n",
        "Our implementation of the environment provides you with four different types of observations:\n",
        "\n",
        "1. **Integer** - Integer in the range [0 - 35]. This represents the grid block the agent is in. E.g., if the agent is in the bottom left grid block (starting position) the observation would be 0, if the agent is in the grid block containing the Gold the observation would be 34, if the agent is in the top right grid block the observation would be 35.\n",
        "\n",
        "2. **Vector** -\n",
        "\n",
        "    **2.1.** A vector of length 2 representing the agent co-ordinates. The first entry represents the x co-ordinate and the second entry represets the y co-ordinate. E.g., if the agent is in the bottom left grid block (starting position) the observation would be [0, 0], if the agent is in the grid block containing the Gold the observation would be [4, 5], if the agent is in the top right grid block the observation would be [5, 5].\n",
        "    \n",
        "    **2.2.** A vector of length 36 representing the one-hot encoding of the integer observation (refer type 1 above). E.g., if the agent is in the bottom left grid block (starting position) the observation would be [1, 0, ..., 0, 0], if the agent is in the grid block containing the Gold the observation would be [0, 0, ..., 1, 0], if the agent is in the top right grid block the observation would be [0, 0, ..., 0, 1].\n",
        "\n",
        "\n",
        "3. **Image** - Image render of the environment returned as an NumPy array. The image size is 84 * 84 (same size used in the DQN paper). E.g., if the agent is in the bottom right grid block the observation is:\n",
        "\n",
        "    Observation: (84 * 84)\n",
        "\n",
        "     [[255 255 255 ... 255 255 255]\n",
        "\n",
        "     [255 255 255 ... 255 255 255]\n",
        "\n",
        "     [255 255 255 ... 255 255 255]\n",
        "\n",
        "     ...\n",
        "\n",
        "     [255 255 255 ... 255 255 255]\n",
        "\n",
        "     [255 255 255 ... 255 255 255]\n",
        "\n",
        "     [255 255 255 ... 255 255 255]]\n",
        "\n",
        "    Observation type: <class 'numpy.ndarray'>\n",
        "\n",
        "    Observation Shape: (84, 84)\n",
        "\n",
        "    Visually, it looks like:\n",
        "    <img src=\"./images/environment_render.png\" width=\"500\" height=\"500\">\n",
        "    \n",
        "\n",
        "4. **Float** - Float in the range [0 - $\\infty$] representing the time elapsed in seconds.\n",
        "\n",
        "#### ENVIRONMENT ACTIONS:\n",
        "\n",
        "Our implementation of the environment provides you with three different types of actions:\n",
        "\n",
        "1. **Discrete** - Integer in the range [0 - 3] representing the four actions possible in the environment as follows: 0 - Right 1 - Left 2 - Up 3 - Down.\n",
        "\n",
        "2. **Multi-Discrete** - Array of length four where each element takes binary values 0 or 1. Array elements represent if we take a particular action. Array element with index 0 corresponds to the right action, index 1 corresponds to the left action, index 2 corresponds to the up action, and index 3 corresponds to the down action. E.g.,\n",
        "   action = [1, 0, 0, 0] would result in the agent moving right.\n",
        "   action = [1, 0, 1, 0] would result in the agent moving right and up.\n",
        "   action = [0, 1, 0, 1] would result in the agent moving left and down.\n",
        "\n",
        "3. **Continuous** - Float in the range [-1, 1] determining whether the agent will go left, right, up, or down as follows:\n",
        "\n",
        "    if -1 <= action <= -0.5:\n",
        "        Go Right.\n",
        "    elif -0.5 < action <= 0:\n",
        "        Go Left.\n",
        "    elif 0 < action <= 0.5:\n",
        "        Go Up.\n",
        "    elif 0.5 < action <= 1:\n",
        "        Go Down.\n",
        "        \n",
        "### YOUR TASK IS TO USE A NEURAL NETWORK TO WORK WITH ALL FOUR TYPES OF OBSERVATIONS AND ALL THREE TYPES OF  ACTIONS.\n",
        "### Note: You don't have to train your agent/neural network. You just have to build the neural network structure that takes the observation as input and produces the desired output with the initial weights.\n",
        "\n",
        "#### You can use libraries such as PyTorch/TensorFlow/Keras to build your neural networks.\n",
        "\n",
        "#### <span style=\"color:red\">You cannot use RL libraries that already provide the neural network to you such as Stable-baselines3, Keras-RL, TF agents, Ray RLLib etc.</span>"
      ]
    },
    {
      "cell_type": "markdown",
      "id": "a6deebbb",
      "metadata": {
        "id": "a6deebbb"
      },
      "source": [
        "<img src=\"./images/wumpus_world_environment.jpg\" width=\"600\" height=\"600\">"
      ]
    },
    {
      "cell_type": "markdown",
      "id": "f2f11e24",
      "metadata": {
        "id": "f2f11e24"
      },
      "source": [
        "# START COMPLETING YOUR ASSIGNMENT HERE"
      ]
    },
    {
      "cell_type": "markdown",
      "id": "729a8768",
      "metadata": {
        "id": "729a8768"
      },
      "source": [
        "## Observation Type - Integer, Action Type - Discrete\n",
        "\n",
        "The part of the assignment requires you to create a sequential dense neural network with 1 hidden layer having 64 neurons and the output layer having 4 neurons. The input to the neural network is an integer (refer to environment observations type 1). The output of the neural network is an array represeting the Q-values from which you will choose an action (refer to environment actions type 1)."
      ]
    },
    {
      "cell_type": "markdown",
      "id": "c596cb95",
      "metadata": {
        "id": "c596cb95"
      },
      "source": [
        "The following figure shows the network structure you will have to use:\n",
        "\n",
        "<img src=\"./images/neural_network_structures/neural_network_1_64_4.png\">"
      ]
    },
    {
      "cell_type": "code",
      "execution_count": 3,
      "id": "7b1f4da4",
      "metadata": {
        "colab": {
          "base_uri": "https://localhost:8080/"
        },
        "id": "7b1f4da4",
        "outputId": "657e8468-dcbb-405e-d03c-7bcb3561f84e"
      },
      "outputs": [
        {
          "name": "stdout",
          "output_type": "stream",
          "text": [
            "Observation: 0, Q-values: 2\n"
          ]
        }
      ],
      "source": [
        "\"\"\"TO DO: Create a neural network, pass it the observation from the environment\n",
        "and get the predicted Q-values for the four actions. Print the observation and the Q-values.\"\"\"\n",
        "\n",
        "environment = WumpusWorldEnvironment(observation_type='integer', action_type='discrete')\n",
        "observation, info = environment.reset()\n",
        "\n",
        "# BEGIN_YOUR_CODE\n",
        "import torch\n",
        "import torch.nn as nn\n",
        "\n",
        "class IntegerObservationNet(nn.Module):\n",
        "    def __init__(self):\n",
        "        super(IntegerObservationNet, self).__init__()\n",
        "        self.fc1 = nn.Linear(1, 64)\n",
        "        self.fc2 = nn.Linear(64, 4)\n",
        "\n",
        "    def forward(self, x):\n",
        "        x = torch.relu(self.fc1(x))\n",
        "        x = self.fc2(x)\n",
        "        return x\n",
        "\n",
        "\n",
        "network = IntegerObservationNet()\n",
        "observation_tensor = torch.tensor([[observation]], dtype=torch.float)\n",
        "q_values = network(observation_tensor)\n",
        "print(f'Observation: {observation}, Q-values: {q_values.argmax()}')\n",
        "\n",
        "\n",
        "\n",
        "# END_YOUR_CODE"
      ]
    },
    {
      "cell_type": "markdown",
      "id": "b2b233bb",
      "metadata": {
        "id": "b2b233bb"
      },
      "source": [
        "## Observation Type - Vector (2.1), Action Type - Discrete\n",
        "\n",
        "The part of the assignment requires you to create a sequential dense neural network with 1 hidden layer having 64 neurons and the output layer having 4 neurons. The input to the neural network is a vector of length 2 (refer to environment observations type 2.1). The output of the neural network is an array represeting the Q-values from which you will choose an action (refer to environment actions type 1)."
      ]
    },
    {
      "cell_type": "markdown",
      "id": "0e9c4873",
      "metadata": {
        "id": "0e9c4873"
      },
      "source": [
        "The following figure shows the network structure you will have to use:\n",
        "\n",
        "<img src=\"./images/neural_network_structures/neural_network_2_64_4.png\">"
      ]
    },
    {
      "cell_type": "code",
      "execution_count": 4,
      "id": "10d985b5",
      "metadata": {
        "colab": {
          "base_uri": "https://localhost:8080/"
        },
        "id": "10d985b5",
        "outputId": "ee611e41-709b-4845-f49f-0d66de10c55e"
      },
      "outputs": [
        {
          "name": "stdout",
          "output_type": "stream",
          "text": [
            "Observation: [0 0], Q-values: 2\n"
          ]
        },
        {
          "name": "stderr",
          "output_type": "stream",
          "text": [
            "/var/folders/_s/m9kt_szd4qq9brspl9hd44mc0000gn/T/ipykernel_3099/445136036.py:19: UserWarning: Creating a tensor from a list of numpy.ndarrays is extremely slow. Please consider converting the list to a single numpy.ndarray with numpy.array() before converting to a tensor. (Triggered internally at /Users/runner/work/_temp/anaconda/conda-bld/pytorch_1682343668887/work/torch/csrc/utils/tensor_new.cpp:248.)\n",
            "  observation_tensor = torch.tensor([observation], dtype=torch.float)\n"
          ]
        }
      ],
      "source": [
        "\"\"\"TO DO: Create a neural network, pass it the observation from the environment\n",
        "and get the predicted Q-values for the four actions. Print the observation and the Q-values.\"\"\"\n",
        "\n",
        "environment = WumpusWorldEnvironment(observation_type='vector', action_type='discrete')\n",
        "observation, info = environment.reset()\n",
        "\n",
        "# BEGIN_YOUR_CODE\n",
        "class VectorObservationNet(nn.Module):\n",
        "    def __init__(self):\n",
        "        super(VectorObservationNet, self).__init__()\n",
        "        self.fc1 = nn.Linear(2, 64)\n",
        "        self.fc2 = nn.Linear(64, 4)\n",
        "    def forward(self, x):\n",
        "        x = torch.relu(self.fc1(x))\n",
        "        x = self.fc2(x)\n",
        "        return x\n",
        "\n",
        "network = VectorObservationNet()\n",
        "observation_tensor = torch.tensor([observation], dtype=torch.float)\n",
        "q_values = network(observation_tensor)\n",
        "print(f'Observation: {observation}, Q-values: {q_values.argmax()}')\n",
        "\n",
        "# END_YOUR_CODE"
      ]
    },
    {
      "cell_type": "markdown",
      "id": "a8957b9f",
      "metadata": {
        "id": "a8957b9f"
      },
      "source": [
        "## Observation Type - Vector (2.2), Action Type - Discrete\n",
        "\n",
        "The part of the assignment requires you to create a sequential dense neural network with 1 hidden layer having 64 neurons and the output layer having 4 neurons. The input to the neural network is a vector of length 36 (refer to environment observations type 2.2). The output of the neural network is an array represeting the Q-values from which you will choose an action (refer to environment actions type 1).\n",
        "\n",
        "**HINT:** Use the integer observation and convert it to a one-hot encoded vector."
      ]
    },
    {
      "cell_type": "markdown",
      "id": "470cf5f8",
      "metadata": {
        "id": "470cf5f8"
      },
      "source": [
        "The following figure shows the network structure you will have to use:\n",
        "\n",
        "<img src=\"./images/neural_network_structures/neural_network_36_64_4.png\">"
      ]
    },
    {
      "cell_type": "code",
      "execution_count": 5,
      "id": "ae05b09e",
      "metadata": {
        "colab": {
          "base_uri": "https://localhost:8080/"
        },
        "id": "ae05b09e",
        "outputId": "7c15a642-a613-427f-8787-751213822c05"
      },
      "outputs": [
        {
          "name": "stdout",
          "output_type": "stream",
          "text": [
            "Observation: 0, Q-values: 3\n"
          ]
        }
      ],
      "source": [
        "\"\"\"TO DO: Create a neural network, pass it the observation from the environment\n",
        "and get the predicted Q-values for the four actions. Print the observation and the Q-values.\"\"\"\n",
        "\n",
        "environment = WumpusWorldEnvironment(observation_type='integer', action_type='discrete')\n",
        "observation, info = environment.reset()\n",
        "\n",
        "# BEGIN_YOUR_CODE\n",
        "\n",
        "class OneHotVectorObservationNet(nn.Module):\n",
        "    def __init__(self):\n",
        "        super(OneHotVectorObservationNet, self).__init__()\n",
        "        self.fc1 = nn.Linear(36, 64)\n",
        "        self.fc2 = nn.Linear(64, 4)\n",
        "\n",
        "    def forward(self, x):\n",
        "        x = torch.relu(self.fc1(x))\n",
        "        x = self.fc2(x)\n",
        "        return x\n",
        "\n",
        "one_hot_observation = torch.zeros(36, dtype=torch.float)\n",
        "one_hot_observation[observation] = 1\n",
        "\n",
        "network = OneHotVectorObservationNet()\n",
        "q_values = network(one_hot_observation.unsqueeze(0))\n",
        "print(f'Observation: {observation}, Q-values: {q_values.argmax()}')\n",
        "\n",
        "\n",
        "# END_YOUR_CODE"
      ]
    },
    {
      "cell_type": "markdown",
      "id": "ce19c97b",
      "metadata": {
        "id": "ce19c97b"
      },
      "source": [
        "## Observation Type - Image, Action Type - Discrete\n",
        "\n",
        "The part of the assignment requires you to create a convolutional neural network with one convolutional layer having 128 filters of size 3 x 3, one hidden layer having 64 neurons, and the output layer having 4 neurons. The input to the neural network is an image of size 84 * 84 (refer to environment observations type 3). The output of the neural network is an array represeting the Q-values from which you will choose an action (refer to environment actions type 1)."
      ]
    },
    {
      "cell_type": "markdown",
      "id": "df3d739c",
      "metadata": {
        "id": "df3d739c"
      },
      "source": [
        "The following figure shows the network structure you will have to use:\n",
        "\n",
        "<img src=\"./images/neural_network_structures/convolutional_neural_network_84x84_128_64_4.png\">"
      ]
    },
    {
      "cell_type": "code",
      "execution_count": 6,
      "id": "2044da09",
      "metadata": {
        "colab": {
          "base_uri": "https://localhost:8080/",
          "height": 1000
        },
        "id": "2044da09",
        "outputId": "28dc9112-b44e-4559-8200-9246dfb981de"
      },
      "outputs": [
        {
          "name": "stderr",
          "output_type": "stream",
          "text": [
            "/Users/jamesnguyen/anaconda3/envs/torch/lib/python3.11/site-packages/torch/nn/modules/lazy.py:180: UserWarning: Lazy modules are a new feature under heavy development so changes to the API or functionality can happen at any moment.\n",
            "  warnings.warn('Lazy modules are a new feature under heavy development '\n"
          ]
        },
        {
          "name": "stdout",
          "output_type": "stream",
          "text": [
            "Observation: \n",
            "[[255 255 255 ... 255 255 255]\n",
            " [255 255 255 ... 255 255 255]\n",
            " [255 255 255 ... 255 255 255]\n",
            " ...\n",
            " [255 255 255 ... 255 255 255]\n",
            " [255 255 255 ... 255 255 255]\n",
            " [255 255 255 ... 255 255 255]]\n",
            "Q-values: \n",
            "2\n"
          ]
        }
      ],
      "source": [
        "\"\"\"TO DO: Create a neural network, pass it the observation from the environment\n",
        "and get the predicted Q-values for the four actions. Print the observation and the Q-values.\"\"\"\n",
        "\n",
        "environment = WumpusWorldEnvironment(observation_type='image', action_type='discrete')\n",
        "observation, info = environment.reset()\n",
        "\n",
        "# BEGIN_YOUR_CODE\n",
        "from torch import nn\n",
        "import torch\n",
        "\n",
        "class ImageObservationNet(nn.Module):\n",
        "    def __init__(self, dropout = 0.5):\n",
        "        super(ImageObservationNet, self).__init__()\n",
        "        self.conv1 = nn.LazyConv2d(128, 3)\n",
        "        self.relu = nn.ReLU()\n",
        "        self.flatten = nn.Flatten()\n",
        "        self.fc1 = nn.LazyLinear(64)\n",
        "        self.fc2 = nn.LazyLinear(4)\n",
        "\n",
        "    def forward(self, x):\n",
        "        x = x.float()\n",
        "        x = self.relu(self.conv1(x))\n",
        "        x = x.reshape(-1)\n",
        "        x = self.relu(self.fc1(x))\n",
        "        x = self.fc2(x)\n",
        "        return x\n",
        "    \n",
        "net = ImageObservationNet() \n",
        "X = torch.tensor(observation).unsqueeze(0)\n",
        "\n",
        "qvalues = net(X) \n",
        "\n",
        "print(f'Observation: \\n{observation}')\n",
        "print(f'Q-values: \\n{qvalues.argmax()}')\n",
        "\n",
        "# END_YOUR_CODE"
      ]
    },
    {
      "cell_type": "markdown",
      "id": "64be04fd",
      "metadata": {
        "id": "64be04fd"
      },
      "source": [
        "## Observation Type - Float, Action Type - Discrete\n",
        "\n",
        "The part of the assignment requires you to create a sequential dense neural network with 1 hidden layer having 256 neurons and the output layer having 4 neurons. The input to the neural network is a float (refer to environment observations type 4). The output of the neural network is an array represeting the Q-values from which you will choose an action (refer to environment actions type 1)."
      ]
    },
    {
      "cell_type": "markdown",
      "id": "b7ed49e0",
      "metadata": {
        "id": "b7ed49e0"
      },
      "source": [
        "The following figure shows the network structure you will have to use:\n",
        "\n",
        "<img src=\"./images/neural_network_structures/neural_network_1_64_4.png\">"
      ]
    },
    {
      "cell_type": "code",
      "execution_count": 7,
      "id": "ea0e4aa6",
      "metadata": {
        "id": "ea0e4aa6"
      },
      "outputs": [
        {
          "name": "stdout",
          "output_type": "stream",
          "text": [
            "Observation: \n",
            "4.410743713378906e-05\n",
            "Q-values: \n",
            "3\n"
          ]
        }
      ],
      "source": [
        "\"\"\"TO DO: Create a neural network, pass it the observation from the environment\n",
        "and get the predicted Q-values for the four actions. Print the observation and the Q-values.\"\"\"\n",
        "\n",
        "environment = WumpusWorldEnvironment(observation_type='float', action_type='discrete')\n",
        "observation, info = environment.reset()\n",
        "\n",
        "# BEGIN_YOUR_CODE\n",
        "from torch import nn\n",
        "import torch\n",
        "\n",
        "class FloatObservationNet(nn.Module):\n",
        "    def __init__(self):\n",
        "        super(FloatObservationNet, self).__init__()\n",
        "        self.fc1 = nn.LazyLinear(256)\n",
        "        self.relu = nn.ReLU()\n",
        "        self.fc2 = nn.LazyLinear(4)\n",
        "\n",
        "    def forward(self, x):\n",
        "        x = x.float()\n",
        "        x = self.relu(self.fc1(x))\n",
        "        x = self.fc2(x)\n",
        "        return x\n",
        "    \n",
        "net = FloatObservationNet() \n",
        "X = torch.tensor(observation).unsqueeze(0)\n",
        "\n",
        "qvalues = net(X) \n",
        "\n",
        "print(f'Observation: \\n{observation}')\n",
        "print(f'Q-values: \\n{qvalues.argmax()}')\n",
        "\n",
        "\n",
        "# END_YOUR_CODE"
      ]
    },
    {
      "cell_type": "markdown",
      "id": "27040465",
      "metadata": {
        "id": "27040465"
      },
      "source": [
        "## Observation Type - Vector (2.2), Action Type - Multi-Discrete\n",
        "\n",
        "The part of the assignment requires you to create a sequential dense neural network with 1 hidden layer having 64 neurons and the output layer having 4 neurons. The input to the neural network is a vector of length 36 (refer to environment observations type 2.2). The output of the neural network is an array representing the probability of choosing the actions. (If the value of the array element is >=0.5 you will perform the action.) (refer to environment actions type 2).\n",
        "\n",
        "**HINT:** Use the integer observation and convert it to a one-hot encoded vector."
      ]
    },
    {
      "cell_type": "markdown",
      "id": "8fe64de9",
      "metadata": {
        "id": "8fe64de9"
      },
      "source": [
        "The following figure shows the network structure you will have to use:\n",
        "\n",
        "<img src=\"./images/neural_network_structures/neural_network_36_64_4_sigmoid.png\">"
      ]
    },
    {
      "cell_type": "code",
      "execution_count": 8,
      "id": "00ea3736",
      "metadata": {
        "id": "00ea3736"
      },
      "outputs": [
        {
          "name": "stdout",
          "output_type": "stream",
          "text": [
            "torch.Size([1])\n",
            "tensor([0])\n",
            "original qvalues =  tensor([0.4370, 0.5411, 0.4919, 0.4510])\n",
            "Observation: \n",
            "0\n",
            "Q-values: \n",
            "tensor([0., 1., 0., 0.])\n"
          ]
        }
      ],
      "source": [
        "\"\"\"TO DO: Create a neural network, pass it the observation from the environment\n",
        "and get the predicted action probabilities for the four actions. Print the observation and the action probabilities.\"\"\"\n",
        "\n",
        "environment = WumpusWorldEnvironment(observation_type='integer', action_type='multi_discrete')\n",
        "observation, info = environment.reset()\n",
        "\n",
        "# BEGIN_YOUR_CODE\n",
        "from torch import nn\n",
        "import torch\n",
        "\n",
        "class MultiDiscreteActionNet(nn.Module):\n",
        "    def __init__(self):\n",
        "        super(MultiDiscreteActionNet, self).__init__()\n",
        "        self.fc1 = nn.LazyLinear(36)\n",
        "        self.fc2 = nn.LazyLinear(64)\n",
        "        self.relu = nn.ReLU()\n",
        "        self.sigmoid = nn.Sigmoid()\n",
        "        self.fc3 = nn.LazyLinear(4)\n",
        "\n",
        "    def forward(self, x):\n",
        "        x = x.float()\n",
        "        x = self.fc1(x)\n",
        "        x = self.relu(self.fc2(x))\n",
        "        x = self.sigmoid(self.fc3(x))\n",
        "        return x\n",
        "    \n",
        "net = MultiDiscreteActionNet() \n",
        "X = torch.tensor(observation).unsqueeze(0)\n",
        "print(X.shape)\n",
        "print(X)\n",
        "\n",
        "qvalues = net(X) \n",
        "qvalues = qvalues.detach()\n",
        "print('original qvalues = ', qvalues)\n",
        "\n",
        "print(f'Observation: \\n{observation}')\n",
        "print(f'Q-values: \\n{qvalues.round()}')\n",
        "\n",
        "\n",
        "# END_YOUR_CODE"
      ]
    },
    {
      "cell_type": "markdown",
      "id": "082f05b0",
      "metadata": {
        "id": "082f05b0"
      },
      "source": [
        "## Observation Type - Vector (2.2), Action Type - Continuous\n",
        "\n",
        "The part of the assignment requires you to create a sequential dense neural network with 1 hidden layer having 64 neurons and the output layer having 1 neuron. The input to the neural network is a vector of length 36 (refer to environment observations type 2.2). The output of the neural network is an float in the range [-1, 1] determining the action which will be taken. (refer to environment actions type 3).\n",
        "\n",
        "**HINT:** Use the integer observation and convert it to a one-hot encoded vector and use the TanH activation function to get the output in the range [-1, 1]."
      ]
    },
    {
      "cell_type": "markdown",
      "id": "d8796988",
      "metadata": {
        "id": "d8796988"
      },
      "source": [
        "The following figure shows the network structure you will have to use:\n",
        "\n",
        "<img src=\"./images/neural_network_structures/neural_network_36_64_1.png\">"
      ]
    },
    {
      "cell_type": "code",
      "execution_count": 9,
      "id": "b98555f1",
      "metadata": {
        "id": "b98555f1"
      },
      "outputs": [
        {
          "name": "stdout",
          "output_type": "stream",
          "text": [
            "torch.Size([1])\n",
            "tensor([0])\n",
            "original qvalues =  tensor([0.1318])\n",
            "Observation: \n",
            "0\n",
            "Q-values: \n",
            "[0.13184614]\n"
          ]
        },
        {
          "name": "stderr",
          "output_type": "stream",
          "text": [
            "/Users/jamesnguyen/anaconda3/envs/torch/lib/python3.11/site-packages/gymnasium/spaces/box.py:130: UserWarning: \u001b[33mWARN: Box bound precision lowered by casting to float32\u001b[0m\n",
            "  gym.logger.warn(f\"Box bound precision lowered by casting to {self.dtype}\")\n"
          ]
        }
      ],
      "source": [
        "\"\"\"TO DO: Create a neural network, pass it the observation from the environment\n",
        "and get the predicted action. Print the observation and the predicted action.\"\"\"\n",
        "\n",
        "environment = WumpusWorldEnvironment(observation_type='integer', action_type='continuous')\n",
        "observation, info = environment.reset()\n",
        "\n",
        "# BEGIN_YOUR_CODE\n",
        "from torch import nn\n",
        "import torch\n",
        "\n",
        "class ContinousActionNet(nn.Module):\n",
        "    def __init__(self):\n",
        "        super(ContinousActionNet, self).__init__()\n",
        "        self.fc1 = nn.LazyLinear(36)\n",
        "        self.fc2 = nn.LazyLinear(64)\n",
        "        self.relu = nn.ReLU()\n",
        "        self.tanh = nn.Tanh()\n",
        "        self.fc3 = nn.LazyLinear(1)\n",
        "\n",
        "    def forward(self, x):\n",
        "        x = x.float()\n",
        "        x = self.fc1(x)\n",
        "        x = self.relu(self.fc2(x))\n",
        "        x = self.tanh(self.fc3(x))\n",
        "        return x\n",
        "    \n",
        "net = ContinousActionNet() \n",
        "X = torch.tensor(observation).unsqueeze(0)\n",
        "print(X.shape)\n",
        "print(X)\n",
        "\n",
        "qvalues = net(X) \n",
        "qvalues = qvalues.detach()\n",
        "print('original qvalues = ', qvalues)\n",
        "\n",
        "print(f'Observation: \\n{observation}')\n",
        "print(f'Q-values: \\n{qvalues.numpy()}')\n",
        "\n",
        "# END_YOUR_CODE"
      ]
    },
    {
      "cell_type": "code",
      "execution_count": null,
      "id": "279fe702",
      "metadata": {},
      "outputs": [],
      "source": []
    }
  ],
  "metadata": {
    "colab": {
      "provenance": []
    },
    "kernelspec": {
      "display_name": "Python 3.11.6 ('torch')",
      "language": "python",
      "name": "python3"
    },
    "language_info": {
      "codemirror_mode": {
        "name": "ipython",
        "version": 3
      },
      "file_extension": ".py",
      "mimetype": "text/x-python",
      "name": "python",
      "nbconvert_exporter": "python",
      "pygments_lexer": "ipython3",
      "version": "3.11.6"
    },
    "vscode": {
      "interpreter": {
        "hash": "af18273774455bc90f5456b9f4898eab7ba4de506fde0c1d0784da333c7e8bbc"
      }
    }
  },
  "nbformat": 4,
  "nbformat_minor": 5
}
