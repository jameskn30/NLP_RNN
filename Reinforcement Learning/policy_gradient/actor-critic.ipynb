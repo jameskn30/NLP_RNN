{
 "cells": [
  {
   "cell_type": "markdown",
   "metadata": {},
   "source": [
    "# Import"
   ]
  },
  {
   "cell_type": "code",
   "execution_count": 5,
   "metadata": {},
   "outputs": [],
   "source": [
    "import gymnasium as gym\n",
    "import seaborn as sns\n",
    "import os\n",
    "from collections import deque, Counter, namedtuple, defaultdict\n",
    "import random\n",
    "from matplotlib import pyplot as plt\n",
    "import warnings\n",
    "warnings.simplefilter(action='ignore', category=FutureWarning)\n",
    "warnings.simplefilter(action='ignore', category=UserWarning)\n",
    "import torch\n",
    "from torch import nn\n",
    "import torch.nn.functional as F\n",
    "from torch.distributions import Categorical\n",
    "import math\n",
    "from itertools import count\n",
    "from tqdm import tqdm\n",
    "import numpy as np\n",
    "import time\n",
    "\n",
    "#Setting up matplotlib for live update the traiing progress\n",
    "import matplotlib\n",
    "is_ipython = 'inline' in matplotlib.get_backend()\n",
    "if is_ipython:\n",
    "    from IPython import display"
   ]
  },
  {
   "cell_type": "markdown",
   "metadata": {},
   "source": [
    "# Test env"
   ]
  },
  {
   "cell_type": "code",
   "execution_count": 3,
   "metadata": {},
   "outputs": [
    {
     "name": "stderr",
     "output_type": "stream",
     "text": [
      "  0%|          | 0/10 [00:00<?, ?it/s]/Users/jamesnguyen/anaconda3/envs/torch/lib/python3.9/site-packages/gymnasium/utils/passive_env_checker.py:233: DeprecationWarning: `np.bool8` is a deprecated alias for `np.bool_`.  (Deprecated NumPy 1.24)\n",
      "  if not isinstance(terminated, (bool, np.bool8)):\n",
      "100%|██████████| 10/10 [00:00<00:00, 133.50it/s]\n"
     ]
    },
    {
     "data": {
      "image/png": "[encoded data removed]",
      "text/plain": [
       "<Figure size 640x480 with 1 Axes>"
      ]
     },
     "metadata": {},
     "output_type": "display_data"
    }
   ],
   "source": [
    "env = gym.make('LunarLander-v2')\n",
    "obs, info = env.reset()\n",
    "\n",
    "rewards = []\n",
    "for ep in tqdm(range(10)):\n",
    "    obs, info = env.reset()\n",
    "    total_reward = 0\n",
    "\n",
    "    for t in count():\n",
    "        action = env.action_space.sample()\n",
    "        state, reward, terminated, truncated, info = env.step(action)\n",
    "        total_reward += reward\n",
    "        if terminated or truncated: \n",
    "            break\n",
    "    \n",
    "    rewards.append(total_reward)\n",
    "\n",
    "sns.lineplot(y = rewards, x = list(range(len(rewards))))\n",
    "plt.show()\n",
    "env.close()"
   ]
  },
  {
   "cell_type": "code",
   "execution_count": 24,
   "metadata": {},
   "outputs": [
    {
     "name": "stdout",
     "output_type": "stream",
     "text": [
      "torch.Size([2, 5])\n",
      "tensor([[0.3164, 0.1330, 0.1642, 0.1302, 0.2562],\n",
      "        [0.2040, 0.1835, 0.2421, 0.1774, 0.1931]])\n"
     ]
    }
   ],
   "source": [
    "p = torch.rand(2,5)\n",
    "p = F.softmax(p)\n",
    "print(p.shape)\n",
    "print(p)"
   ]
  },
  {
   "cell_type": "code",
   "execution_count": 26,
   "metadata": {},
   "outputs": [
    {
     "name": "stdout",
     "output_type": "stream",
     "text": [
      "tensor([4, 2])\n"
     ]
    }
   ],
   "source": [
    "m = Categorical(p)\n",
    "action = m.sample()\n",
    "print(action)"
   ]
  },
  {
   "cell_type": "markdown",
   "metadata": {},
   "source": [
    "# Model"
   ]
  },
  {
   "cell_type": "code",
   "execution_count": 31,
   "metadata": {},
   "outputs": [
    {
     "name": "stdout",
     "output_type": "stream",
     "text": [
      "tensor([[0.1085, 0.1753],\n",
      "        [0.0948, 0.4267],\n",
      "        [0.3779, 0.2726],\n",
      "        [0.3076, 0.7285],\n",
      "        [0.6687, 0.7604],\n",
      "        [0.1922, 0.3785],\n",
      "        [0.9667, 0.4183],\n",
      "        [0.8807, 0.7741],\n",
      "        [0.0134, 0.3825],\n",
      "        [0.7106, 0.2433]])\n",
      "tensor([[0.4833, 0.5167],\n",
      "        [0.4178, 0.5822],\n",
      "        [0.5263, 0.4737],\n",
      "        [0.3963, 0.6037],\n",
      "        [0.4771, 0.5229],\n",
      "        [0.4535, 0.5465],\n",
      "        [0.6338, 0.3662],\n",
      "        [0.5266, 0.4734],\n",
      "        [0.4088, 0.5912],\n",
      "        [0.6148, 0.3852]])\n"
     ]
    }
   ],
   "source": [
    "a = torch.rand(10,2)\n",
    "print(a)\n",
    "print(F.softmax(a))"
   ]
  },
  {
   "cell_type": "code",
   "execution_count": 84,
   "metadata": {},
   "outputs": [],
   "source": [
    "class ActorNet(nn.Module):\n",
    "\n",
    "    def __init__(self, state_size, action_size, hidden_size = 128, lr = 1e-3, ) -> None:\n",
    "        super().__init__()\n",
    "        self.state_size = state_size\n",
    "        self.action_size = action_size\n",
    "        self.hidden_size = hidden_size\n",
    "\n",
    "        self.linear1 = nn.Linear(state_size, hidden_size)\n",
    "        self.linear2 = nn.Linear(hidden_size, hidden_size * 2)\n",
    "        self.linear3 = nn.Linear(hidden_size * 2, action_size)\n",
    "\n",
    "        self.optimizer = torch.optim.Adam(self.parameters(), lr = lr)\n",
    "\n",
    "    def forward(self, X):\n",
    "        X = F.relu(self.linear1(X))\n",
    "        X = F.relu(self.linear2(X))\n",
    "        X = F.softmax(self.linear3(X))\n",
    "        return Categorical(X)\n",
    "\n",
    "\n",
    "class CriticNet(nn.Module):\n",
    "    def __init__(self, state_size, action_size, hidden_size = 128, lr = 1e-3) -> None:\n",
    "        super().__init__()\n",
    "        self.state_size = state_size\n",
    "        self.action_size = action_size\n",
    "        self.hidden_size = hidden_size\n",
    "\n",
    "        self.linear1 = nn.Linear(state_size, hidden_size)\n",
    "        self.linear2 = nn.Linear(hidden_size, hidden_size * 2)\n",
    "        self.linear3 = nn.Linear(hidden_size * 2, 1)\n",
    "\n",
    "        self.optimizer = torch.optim.Adam(self.parameters(), lr = lr)\n",
    "\n",
    "    def forward(self, X):\n",
    "        X = F.relu(self.linear1(X))\n",
    "        X = F.relu(self.linear2(X))\n",
    "        return self.linear3(X)\n"
   ]
  },
  {
   "cell_type": "code",
   "execution_count": 40,
   "metadata": {},
   "outputs": [
    {
     "name": "stdout",
     "output_type": "stream",
     "text": [
      "obs space =  8  action space =  4\n",
      "torch.Size([1, 8])\n",
      "actor output = Categorical(probs: torch.Size([1, 4]))\n",
      "critic output = tensor([[-0.0428]], grad_fn=<AddmmBackward0>)\n"
     ]
    }
   ],
   "source": [
    "# Test model\n",
    "env = gym.make('LunarLander-v2')\n",
    "state, info = env.reset()\n",
    "\n",
    "obs_space = len(state)\n",
    "action_space = env.action_space.n\n",
    "print('obs space = ', obs_space, ' action space = ', action_space)\n",
    "\n",
    "state = torch.tensor(state).float().unsqueeze(0)\n",
    "print(state.shape)\n",
    "\n",
    "actor = ActorNet(8, 4)\n",
    "critic = CriticNet(8, 4)\n",
    "\n",
    "print('actor output =', actor(state))\n",
    "print('critic output =', critic(state))\n",
    "\n",
    "env.close()"
   ]
  },
  {
   "cell_type": "code",
   "execution_count": 57,
   "metadata": {},
   "outputs": [
    {
     "name": "stdout",
     "output_type": "stream",
     "text": [
      "tensor([[0.0203, 0.1211, 0.0101, 0.0745, 0.4029, 0.2134, 0.4885, 0.0345, 0.8601,\n",
      "         0.1719],\n",
      "        [0.4498, 0.7515, 0.3743, 0.2629, 0.5579, 0.8219, 0.4741, 0.9996, 0.9229,\n",
      "         0.5952],\n",
      "        [0.5034, 0.8491, 0.1983, 0.9749, 0.9789, 0.1302, 0.1531, 0.7219, 0.4349,\n",
      "         0.5534],\n",
      "        [0.9517, 0.1013, 0.1726, 0.1832, 0.4002, 0.9294, 0.3629, 0.2119, 0.8884,\n",
      "         0.6194],\n",
      "        [0.3847, 0.8752, 0.2203, 0.8240, 0.9942, 0.8906, 0.5902, 0.4328, 0.4060,\n",
      "         0.1881]])\n",
      "Categorical(probs: torch.Size([5, 10]))\n",
      "tensor([8, 5, 7, 5, 4])\n",
      "tensor([-1.7191, -2.1288, -2.1779, -1.9082, -1.9283])\n"
     ]
    }
   ],
   "source": [
    "x = torch.rand(5,10)\n",
    "print(x)\n",
    "a = Categorical(F.softmax(x))\n",
    "print(a)\n",
    "b = a.sample()\n",
    "print(b)\n",
    "c = a.log_prob(b)\n",
    "print(c)"
   ]
  },
  {
   "cell_type": "markdown",
   "metadata": {},
   "source": [
    "# Tune"
   ]
  },
  {
   "cell_type": "code",
   "execution_count": 81,
   "metadata": {},
   "outputs": [],
   "source": [
    "def compute_returns(value, rewards, dones, gamma = 0.99):\n",
    "    reward = value\n",
    "    returns = []\n",
    "    for step in reversed(range(len(rewards))):\n",
    "        reward = rewards[step] * gamma * reward * dones[step]\n",
    "        returns.append(reward)\n",
    "    \n",
    "    return list(reversed(returns))"
   ]
  },
  {
   "cell_type": "code",
   "execution_count": 89,
   "metadata": {},
   "outputs": [
    {
     "name": "stderr",
     "output_type": "stream",
     "text": [
      "epoch = 4999, avg reward = -0.5671602059107697: 100%|██████████| 5000/5000 [00:19<00:00, 251.04it/s] \n"
     ]
    }
   ],
   "source": [
    "actor = ActorNet(8, 4)\n",
    "critic = CriticNet(8,4)\n",
    "training_epochs = 5000\n",
    "gamma = 0.99\n",
    "\n",
    "loop = tqdm(range(training_epochs))\n",
    "history = defaultdict(list)\n",
    "\n",
    "env = gym.make('LunarLander-v2')\n",
    "reward_window = deque() \n",
    "\n",
    "for epoch in loop:\n",
    "\n",
    "    state, info = env.reset()\n",
    "\n",
    "    log_probs = []\n",
    "    values = []\n",
    "    rewards = []\n",
    "    dones = []\n",
    "    entropy = 0\n",
    "    done = False\n",
    "\n",
    "    total_reward = 0\n",
    "\n",
    "    for t in count():\n",
    "        state = torch.tensor(state).float()\n",
    "        action_prob = actor(state)\n",
    "        value = critic(state)\n",
    "\n",
    "        action = action_prob.sample()\n",
    "\n",
    "        # calculates the logarithm of the probability density function (PDF) \n",
    "        # why we need log_prob? \n",
    "        log_prob = action_prob.log_prob(action).unsqueeze(0)\n",
    "        log_probs.append(log_prob)\n",
    "\n",
    "        action = action.cpu().numpy()\n",
    "        next_state, reward, terminated, truncated, info = env.step(action)\n",
    "\n",
    "        total_reward += reward\n",
    "\n",
    "        values.append(value)\n",
    "\n",
    "        reward = torch.tensor([reward]).float()\n",
    "        rewards.append(reward)\n",
    "\n",
    "        if terminated or truncated:\n",
    "            done = True\n",
    "\n",
    "        done = torch.tensor([1 - done]).float()\n",
    "\n",
    "        dones.append(done)\n",
    "        state = next_state\n",
    "\n",
    "        if done:\n",
    "            #epsiode terminated\n",
    "            break\n",
    "    \n",
    "    next_state = torch.tensor(next_state).float()\n",
    "    next_state_value = critic(next_state)\n",
    "    returns = compute_returns(next_state_value, rewards, dones, gamma)\n",
    "    \n",
    "    log_probs = torch.cat(log_probs)\n",
    "    values = torch.cat(values)\n",
    "    returns = torch.cat(returns).detach()\n",
    "\n",
    "    advantage = returns - values\n",
    "\n",
    "    # reference\n",
    "    # https://pytorch.org/docs/stable/distributions.html\n",
    "    # the minus because of gradient ascend\n",
    "    actor_loss = -(log_probs * advantage.detach()).mean()\n",
    "    critic_loss = advantage.pow(2).mean()\n",
    "\n",
    "    actor.optimizer.zero_grad()\n",
    "    critic.optimizer.zero_grad()\n",
    "\n",
    "    actor_loss.backward()\n",
    "    critic_loss.backward()\n",
    "\n",
    "    actor.optimizer.step()\n",
    "    critic.optimizer.step()\n",
    "\n",
    "    #update score\n",
    "    reward_window.append(total_reward)\n",
    "    avg_reward = np.mean(reward_window)\n",
    "\n",
    "    loop.set_description(f'epoch = {epoch}, avg reward = {avg_reward}')\n",
    "\n",
    "env.close()"
   ]
  },
  {
   "cell_type": "code",
   "execution_count": null,
   "metadata": {},
   "outputs": [],
   "source": []
  },
  {
   "cell_type": "code",
   "execution_count": null,
   "metadata": {},
   "outputs": [],
   "source": []
  },
  {
   "cell_type": "markdown",
   "metadata": {},
   "source": []
  }
 ],
 "metadata": {
  "kernelspec": {
   "display_name": "Python 3.9.18 ('torch')",
   "language": "python",
   "name": "python3"
  },
  "language_info": {
   "codemirror_mode": {
    "name": "ipython",
    "version": 3
   },
   "file_extension": ".py",
   "mimetype": "text/x-python",
   "name": "python",
   "nbconvert_exporter": "python",
   "pygments_lexer": "ipython3",
   "version": "3.9.18"
  },
  "orig_nbformat": 4,
  "vscode": {
   "interpreter": {
    "hash": "af18273774455bc90f5456b9f4898eab7ba4de506fde0c1d0784da333c7e8bbc"
   }
  }
 },
 "nbformat": 4,
 "nbformat_minor": 2
}
