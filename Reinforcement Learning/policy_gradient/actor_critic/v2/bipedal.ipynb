{
 "cells": [
  {
   "cell_type": "markdown",
   "metadata": {},
   "source": [
    "# Import"
   ]
  },
  {
   "cell_type": "code",
   "execution_count": 6,
   "metadata": {},
   "outputs": [],
   "source": [
    "import gymnasium as gym\n",
    "import seaborn as sns\n",
    "import os\n",
    "from collections import deque, Counter, namedtuple, defaultdict\n",
    "import random\n",
    "from matplotlib import pyplot as plt\n",
    "import warnings\n",
    "warnings.simplefilter(action='ignore', category=FutureWarning)\n",
    "warnings.simplefilter(action='ignore', category=UserWarning)\n",
    "import torch\n",
    "from torch import nn\n",
    "from torch.nn import init\n",
    "import torch.nn.functional as F\n",
    "from torch.distributions import Categorical\n",
    "import pickle\n",
    "from sklearn.preprocessing import Normalizer\n",
    "from sklearn.pipeline import make_pipeline\n",
    "\n",
    "import math\n",
    "from itertools import count\n",
    "from tqdm import tqdm\n",
    "import numpy as np\n",
    "import time\n",
    "import uuid\n"
   ]
  },
  {
   "cell_type": "markdown",
   "metadata": {},
   "source": [
    "# Global params"
   ]
  },
  {
   "cell_type": "code",
   "execution_count": 7,
   "metadata": {},
   "outputs": [],
   "source": [
    "DEVICE = \"cpu\"\n",
    "ROOT = os.getcwd()\n",
    "ENV_NAME = 'BipedalWalker-v3'\n",
    "ENV_ARGS = {\n",
    "    # 'continuous': True\n",
    "}\n",
    "EXP_NAME = f'{ENV_NAME}.continuous'\n",
    "OUTPUT = os.path.join(ROOT, 'output', EXP_NAME)\n",
    "NORMALIZER_FILE = os.path.join(OUTPUT, 'normalizer.pickle')\n",
    "\n",
    "if os.path.exists(OUTPUT) == False:\n",
    "    os.makedirs(OUTPUT)\n"
   ]
  },
  {
   "cell_type": "markdown",
   "metadata": {},
   "source": [
    "# Test env"
   ]
  },
  {
   "cell_type": "code",
   "execution_count": 8,
   "metadata": {},
   "outputs": [
    {
     "name": "stderr",
     "output_type": "stream",
     "text": [
      "  0%|          | 0/10 [00:00<?, ?it/s]/Users/jamesnguyen/anaconda3/envs/torch/lib/python3.9/site-packages/gymnasium/utils/passive_env_checker.py:233: DeprecationWarning: `np.bool8` is a deprecated alias for `np.bool_`.  (Deprecated NumPy 1.24)\n",
      "  if not isinstance(terminated, (bool, np.bool8)):\n",
      "100%|██████████| 10/10 [00:01<00:00,  7.54it/s]"
     ]
    },
    {
     "name": "stdout",
     "output_type": "stream",
     "text": [
      "action =  [-0.60676783  0.45627606 -0.45410743 -0.29568058]\n",
      "action shape =  (4,)\n"
     ]
    },
    {
     "name": "stderr",
     "output_type": "stream",
     "text": [
      "\n"
     ]
    },
    {
     "data": {
      "image/png": "[encoded data removed]",
      "text/plain": [
       "<Figure size 640x480 with 1 Axes>"
      ]
     },
     "metadata": {},
     "output_type": "display_data"
    }
   ],
   "source": [
    "env = gym.make(ENV_NAME, **ENV_ARGS)\n",
    "obs, info = env.reset()\n",
    "\n",
    "rewards = []\n",
    "for ep in tqdm(range(10)):\n",
    "    obs, info = env.reset()\n",
    "    total_reward = 0\n",
    "\n",
    "    for t in count():\n",
    "        action = env.action_space.sample()\n",
    "        state, reward, terminated, truncated, info = env.step(action)\n",
    "        total_reward += reward\n",
    "        if terminated or truncated: \n",
    "            break\n",
    "    \n",
    "    rewards.append(total_reward)\n",
    "\n",
    "\n",
    "print('action = ', action)\n",
    "print('action shape = ', action.shape)\n",
    "sns.lineplot(y = rewards, x = list(range(len(rewards))))\n",
    "plt.show()\n",
    "env.close()"
   ]
  },
  {
   "cell_type": "markdown",
   "metadata": {},
   "source": [
    "# Try normalization"
   ]
  },
  {
   "cell_type": "code",
   "execution_count": 9,
   "metadata": {},
   "outputs": [
    {
     "name": "stderr",
     "output_type": "stream",
     "text": [
      "  0%|          | 0/100000 [00:00<?, ?it/s]/Users/jamesnguyen/anaconda3/envs/torch/lib/python3.9/site-packages/gymnasium/utils/passive_env_checker.py:233: DeprecationWarning: `np.bool8` is a deprecated alias for `np.bool_`.  (Deprecated NumPy 1.24)\n",
      "  if not isinstance(terminated, (bool, np.bool8)):\n",
      "100%|██████████| 100000/100000 [00:13<00:00, 7417.05it/s]"
     ]
    },
    {
     "name": "stdout",
     "output_type": "stream",
     "text": [
      "state shape =  (100000, 24)\n",
      "original state =  [ 2.7451869e-03  1.4543741e-05 -1.8964265e-03 -1.6000098e-02\n",
      "  9.2618778e-02  4.4024372e-03  8.5964805e-01 -2.0979105e-03\n",
      "  1.0000000e+00  3.2900598e-02  4.4022640e-03  8.5346746e-01\n",
      " -2.9954335e-03  1.0000000e+00  4.4081321e-01  4.4581932e-01\n",
      "  4.6142194e-01  4.8954931e-01  5.3410184e-01  6.0245991e-01\n",
      "  7.0914757e-01  8.8593018e-01  1.0000000e+00  1.0000000e+00]\n",
      "normalized state =  [ 9.5523015e-04  5.0607191e-06 -6.5989088e-04 -5.5674808e-03\n",
      "  3.2228135e-02  1.5318959e-03  2.9912782e-01 -7.3000032e-04\n",
      "  3.4796542e-01  1.1448271e-02  1.5318358e-03  2.9697716e-01\n",
      " -1.0423074e-03  3.4796542e-01  1.5338776e-01  1.5512972e-01\n",
      "  1.6055888e-01  1.7034623e-01  1.8584898e-01  2.0963523e-01\n",
      "  2.4675885e-01  3.0827308e-01  3.4796542e-01  3.4796542e-01]\n"
     ]
    },
    {
     "name": "stderr",
     "output_type": "stream",
     "text": [
      "\n"
     ]
    }
   ],
   "source": [
    "def create_normalizer(env, save_path, collect_steps = int(1e5)):\n",
    "    normalizer = Normalizer()\n",
    "    state, info = env.reset()\n",
    "    states = []\n",
    "\n",
    "    for t in tqdm(range(collect_steps)):\n",
    "        action = env.action_space.sample()\n",
    "        state, reward, terminated, truncated, info = env.step(action)\n",
    "\n",
    "        states.append(state)\n",
    "\n",
    "        if terminated or truncated: \n",
    "            state,info = env.reset()\n",
    "    states = np.vstack(states)    \n",
    "\n",
    "    print('state shape = ', states.shape)\n",
    "    normalizer.fit(states)\n",
    "\n",
    "    state,info = env.reset()\n",
    "\n",
    "    print('original state = ', state)\n",
    "    state = normalizer.transform(state.reshape(1,-1))[0]\n",
    "    print('normalized state = ', state)\n",
    "\n",
    "    with open(save_path, 'wb') as file:\n",
    "        pickle.dump(normalizer, file)\n",
    "    \n",
    "    return normalizer\n",
    "\n",
    "def load_normalizer(path):\n",
    "    with open(path, 'rb') as file:\n",
    "        normalizer = pickle.load(file)\n",
    "        return normalizer\n",
    "\n",
    "env = gym.make(ENV_NAME, **ENV_ARGS)\n",
    "normalizer = create_normalizer(env, NORMALIZER_FILE)\n",
    "# normalizer = load_normalizer(NORMALIZER_FILE)\n"
   ]
  },
  {
   "cell_type": "code",
   "execution_count": 10,
   "metadata": {},
   "outputs": [],
   "source": [
    "# def transform(state, normalizer):\n",
    "#     return normalizer.transform(state.reshape(1,-1))[0]"
   ]
  },
  {
   "cell_type": "markdown",
   "metadata": {},
   "source": [
    "# Actor and Critic Net"
   ]
  },
  {
   "cell_type": "code",
   "execution_count": 11,
   "metadata": {},
   "outputs": [],
   "source": [
    "class ActorNet(nn.Module):\n",
    "\n",
    "    def __init__(self, state, action, device, hidden_size = 64, lr = 1e-3, grad_clip = 1.0):\n",
    "        super().__init__()\n",
    "        self.state = state\n",
    "        self.action = action\n",
    "        self.grad_clip = grad_clip\n",
    "\n",
    "        state_shape = state.shape\n",
    "        action_shape = action.shape\n",
    "\n",
    "        self.device = device\n",
    "        self.lr = lr\n",
    "\n",
    "        self.action_low = torch.tensor(action.low)\n",
    "        self.action_high = torch.tensor(action.high)\n",
    "\n",
    "        self.device = device\n",
    "        self.base = nn.Sequential(\n",
    "            nn.Linear(state_shape[0], hidden_size) ,\n",
    "            nn.ReLU(),\n",
    "        )\n",
    "\n",
    "        self.fc_mu = nn.Linear(hidden_size, action_shape[0])\n",
    "        self.fc_sigma = nn.Linear(hidden_size, action_shape[0])\n",
    "\n",
    "        # init.xavier_normal_(self.fc1.weight)\n",
    "        init.xavier_normal_(self.fc_mu.weight)\n",
    "        init.xavier_normal_(self.fc_sigma.weight)\n",
    "\n",
    "        self.optimizer = torch.optim.Adam(self.parameters(), lr = lr)\n",
    "        self.to(device)\n",
    "\n",
    "    def forward(self, X):\n",
    "        X = self.base(X)\n",
    "        mu = self.fc_mu(X)\n",
    "        sigma = F.softplus(self.fc_sigma(X) + 1e-5)\n",
    "        return mu, sigma\n",
    "    \n",
    "    def act(self, state):\n",
    "        state = torch.tensor(state).float().unsqueeze(0).to(self.device)\n",
    "        mu, sigma = self(state)\n",
    "        action_distribution = torch.distributions.normal.Normal(mu, sigma)\n",
    "        action = action_distribution.sample()\n",
    "        action = torch.clamp(action, self.action_low, self.action_high)\n",
    "        log_prob = action_distribution.log_prob(action)\n",
    "        #return the first (only in this case) batch\n",
    "        return action.numpy()[0], log_prob\n",
    "    \n",
    "    def learn(self, saved_log_probs, advantage):\n",
    "        actor_loss = (-saved_log_probs * advantage.detach()).sum()\n",
    "        self.optimizer.zero_grad()\n",
    "        actor_loss.backward()\n",
    "        nn.utils.clip_grad_norm_(self.parameters(), max_norm=self.grad_clip)\n",
    "        self.optimizer.step()\n"
   ]
  },
  {
   "cell_type": "code",
   "execution_count": 16,
   "metadata": {},
   "outputs": [],
   "source": [
    "class CriticNet(nn.Module):\n",
    "    def __init__(self, state, device, hidden_size = 64, lr = 1e-3, grad_clip = 1.0):\n",
    "        super().__init__()\n",
    "        self.state = state\n",
    "        self.lr = lr\n",
    "        self.grad_clip = grad_clip\n",
    "\n",
    "        self.base = nn.Sequential(\n",
    "            nn.Linear(state.shape[0], hidden_size),\n",
    "            nn.ReLU(),\n",
    "            # nn.Linear(hidden_size, hidden_size),\n",
    "            # nn.ReLU(),\n",
    "        )\n",
    "\n",
    "        self.fc3 = nn.Linear(hidden_size, 1) \n",
    "        self.device = device\n",
    "        self.optimizer = torch.optim.Adam(self.parameters(), lr = lr)\n",
    "\n",
    "        self.to(device)\n",
    "\n",
    "    def forward(self, state):\n",
    "        state = torch.tensor(state).float().unsqueeze(0).to(self.device)\n",
    "        # state = F.relu(self.fc1(state))\n",
    "        # state = F.relu(self.fc2(state))\n",
    "        state = self.base(state)\n",
    "        return self.fc3(state)\n",
    "    \n",
    "    def learn(self, returns, state_values):\n",
    "        critic_loss = F.mse_loss(returns, state_values)\n",
    "        self.optimizer.zero_grad()\n",
    "        critic_loss.backward()\n",
    "        nn.utils.clip_grad_norm_(self.parameters(), max_norm=self.grad_clip)\n",
    "        self.optimizer.step()\n"
   ]
  },
  {
   "cell_type": "code",
   "execution_count": 14,
   "metadata": {},
   "outputs": [
    {
     "name": "stdout",
     "output_type": "stream",
     "text": [
      "state size =  (24,)\n",
      "action size =  (4,)\n",
      "action =  [-1.0000000e+00 -3.9961261e-01  4.5992085e-04 -2.3844868e-01]\n",
      "action prob =  tensor([[-1.7696, -0.5121, -0.6541, -0.5366]], grad_fn=<SubBackward0>)\n",
      "value =  tensor([[-0.0127]], grad_fn=<AddmmBackward0>)\n"
     ]
    }
   ],
   "source": [
    "# Test model\n",
    "env = gym.make(ENV_NAME, **ENV_ARGS)\n",
    "obs, info = env.reset()\n",
    "state, action = env.observation_space, env.action_space\n",
    "\n",
    "print('state size = ', state.shape)\n",
    "print('action size = ', action.shape)\n",
    "\n",
    "actor = ActorNet(state, action, device = DEVICE)\n",
    "critic = CriticNet(state, device = DEVICE)\n",
    "\n",
    "obs = normalizer.transform(obs.reshape(1,-1))[0]\n",
    "\n",
    "action, action_prob = actor.act(obs)\n",
    "print('action = ', action)\n",
    "print('action prob = ', action_prob)\n",
    "\n",
    "value = critic(obs)\n",
    "print('value = ', value)\n",
    "\n",
    "env.close()"
   ]
  },
  {
   "cell_type": "markdown",
   "metadata": {},
   "source": [
    "# Compute returns"
   ]
  },
  {
   "cell_type": "code",
   "execution_count": 18,
   "metadata": {},
   "outputs": [],
   "source": [
    "def compute_returns(rewards, gamma):\n",
    "    returns = deque(maxlen = len(rewards))\n",
    "    #compute cummulative reward\n",
    "    num_steps = len(rewards)\n",
    "\n",
    "    for t in reversed(range(num_steps)):\n",
    "        G_t = returns[0] if len(returns) > 0 else 0\n",
    "        returns.appendleft(gamma * G_t + rewards[t])\n",
    "\n",
    "    #standardization of returns to make training more stable\n",
    "    eps = np.finfo(np.float32).eps.item()\n",
    "    returns = torch.tensor(returns).float()\n",
    "    returns = (returns - returns.mean())/(returns.std() + eps)\n",
    "\n",
    "    return returns\n"
   ]
  },
  {
   "cell_type": "code",
   "execution_count": null,
   "metadata": {},
   "outputs": [
    {
     "name": "stdout",
     "output_type": "stream",
     "text": [
      "1.1920928955078125e-07\n"
     ]
    }
   ],
   "source": [
    "print(np.finfo(np.float32).eps.item())"
   ]
  },
  {
   "cell_type": "markdown",
   "metadata": {},
   "source": [
    "# A2C algo"
   ]
  },
  {
   "cell_type": "code",
   "execution_count": null,
   "metadata": {},
   "outputs": [
    {
     "name": "stdout",
     "output_type": "stream",
     "text": [
      "43bebd9d-bfd4-4b6c-baab-6cd4fa86c005\n"
     ]
    }
   ],
   "source": [
    "id = str(uuid.uuid4())\n",
    "print(id)"
   ]
  },
  {
   "cell_type": "code",
   "execution_count": 24,
   "metadata": {},
   "outputs": [],
   "source": [
    "def a2c(env, actor: ActorNet, critic: CriticNet, training_epochs, max_t, gamma , normalizer = None, plot_update_freq = 50, label = None):\n",
    "    if label == None:\n",
    "        label = str(uuid.uuid4()).split('-')[0]\n",
    "    print('experiment ID = ', label)\n",
    "\n",
    "    SAVE_PATH = os.path.join(OUTPUT, label)\n",
    "        \n",
    "    FIG_SAVE_PATH = os.path.join(SAVE_PATH, 'plot.png')\n",
    "    if os.path.exists(SAVE_PATH) == False:\n",
    "        os.makedirs(SAVE_PATH)\n",
    "\n",
    "    config = f'training_epochs={str(training_epochs)}\\nmax_t={str(max_t)}\\ngamma={str(gamma)}\\nactor_lr={str(actor.lr)}\\ncritic_lr={critic.lr}'\n",
    "    with open(os.path.join(SAVE_PATH, 'config.txt'), 'w') as file:\n",
    "        file.write(config)\n",
    "\n",
    "    scores_deque = deque(maxlen = 100)\n",
    "    history = defaultdict(list)\n",
    "    loop = tqdm(range(training_epochs))\n",
    "    best_score = -float('inf')\n",
    "\n",
    "    state, info = env.reset()\n",
    "\n",
    "    for e in loop:\n",
    "\n",
    "        saved_log_probs = []\n",
    "        rewards = []\n",
    "        dones = []\n",
    "        state_values = []\n",
    "\n",
    "        for t in range(max_t):\n",
    "            done = False\n",
    "            #normalize state\n",
    "            if normalizer:\n",
    "                state = normalizer.transform(state.reshape(1,-1))[0]\n",
    "            action, log_prob = actor.act(state)\n",
    "            saved_log_probs.append(log_prob)\n",
    "\n",
    "            state_value = critic(state)\n",
    "            state_values.append(state_value.squeeze(0))\n",
    "\n",
    "            state, reward, terminated, truncated, info = env.step(action)\n",
    "            rewards.append(reward)\n",
    "\n",
    "            if terminated or truncated:\n",
    "                # done = True\n",
    "                state, info = env.reset()\n",
    "                break\n",
    "                \n",
    "            # dones.append(done)\n",
    "        \n",
    "        #update actor\n",
    "        scores_deque.append(sum(rewards))\n",
    "        avg_reward = np.mean(scores_deque)\n",
    "\n",
    "        state_values = torch.cat(state_values)\n",
    "        saved_log_probs = torch.cat(saved_log_probs)\n",
    "\n",
    "        history['reward'].append(avg_reward)\n",
    "\n",
    "        #optimize critic net\n",
    "\n",
    "        returns = compute_returns(rewards, gamma)\n",
    "        # print('state_values  = ', state_values.shape)\n",
    "        # print('log probs = ', saved_log_probs.shape)\n",
    "\n",
    "        critic.learn(returns, state_values)\n",
    "\n",
    "        # print('returns = ', returns.shape)\n",
    "\n",
    "        #optimize actor net\n",
    "        \n",
    "        advantage = (returns - state_values).unsqueeze(1)\n",
    "        # print('advantage = ', advantage.shape)\n",
    "\n",
    "        actor.learn(saved_log_probs, advantage)\n",
    "\n",
    "        #statistics and saving checkpoint\n",
    "        loop.set_description(f'avg reward = {avg_reward:.2f}')\n",
    "\n",
    "        if best_score <= avg_reward:\n",
    "            best_score = avg_reward\n",
    "            torch.save(actor, os.path.join(SAVE_PATH, 'actor.checkpoint.torch'))\n",
    "            torch.save(critic, os.path.join(SAVE_PATH, 'critic.checkpoint.torch'))\n",
    "        \n",
    "        if e % plot_update_freq == 0:\n",
    "            plot(history, save_path=FIG_SAVE_PATH)\n",
    "        \n",
    "    plot(history, show=True, save_path=FIG_SAVE_PATH)\n",
    "    torch.save(actor, os.path.join(SAVE_PATH, 'actor.final.torch'))\n",
    "    torch.save(critic, os.path.join(SAVE_PATH, 'critic.final.torch'))\n",
    "\n",
    "    return history\n",
    "\n",
    "def plot(history, show = False, save_path = None):\n",
    "    sns.lineplot(y = history['reward'], x = list(range(len(history['reward']))))\n",
    "\n",
    "    if save_path != None:\n",
    "        plt.savefig(save_path)\n",
    "    if show:\n",
    "        plt.show()\n",
    "        \n",
    "    plt.clf()\n",
    "    plt.close()"
   ]
  },
  {
   "cell_type": "markdown",
   "metadata": {},
   "source": [
    "# Baseline"
   ]
  },
  {
   "cell_type": "code",
   "execution_count": null,
   "metadata": {},
   "outputs": [
    {
     "name": "stdout",
     "output_type": "stream",
     "text": [
      "<class 'sklearn.preprocessing._data.Normalizer'>\n"
     ]
    }
   ],
   "source": [
    "print(type(normalizer))"
   ]
  },
  {
   "cell_type": "code",
   "execution_count": 29,
   "metadata": {},
   "outputs": [
    {
     "name": "stdout",
     "output_type": "stream",
     "text": [
      "state size =  (24,)\n",
      "action size =  (4,)\n",
      "experiment ID =  test\n"
     ]
    },
    {
     "name": "stderr",
     "output_type": "stream",
     "text": [
      "  0%|          | 0/20000 [00:00<?, ?it/s]/Users/jamesnguyen/anaconda3/envs/torch/lib/python3.9/site-packages/gymnasium/utils/passive_env_checker.py:233: DeprecationWarning: `np.bool8` is a deprecated alias for `np.bool_`.  (Deprecated NumPy 1.24)\n",
      "  if not isinstance(terminated, (bool, np.bool8)):\n",
      "avg reward = -21.33:   6%|▌         | 1112/20000 [01:00<17:06, 18.39it/s]\n"
     ]
    },
    {
     "ename": "ValueError",
     "evalue": "Expected parameter loc (Tensor of shape (1, 4)) of distribution Normal(loc: torch.Size([1, 4]), scale: torch.Size([1, 4])) to satisfy the constraint Real(), but found invalid values:\ntensor([[nan, nan, nan, nan]], grad_fn=<AddmmBackward0>)",
     "output_type": "error",
     "traceback": [
      "\u001b[0;31m---------------------------------------------------------------------------\u001b[0m",
      "\u001b[0;31mValueError\u001b[0m                                Traceback (most recent call last)",
      "Cell \u001b[0;32mIn[29], line 19\u001b[0m\n\u001b[1;32m     16\u001b[0m actor \u001b[38;5;241m=\u001b[39m ActorNet(state, action, hidden_size \u001b[38;5;241m=\u001b[39m hidden_size, device \u001b[38;5;241m=\u001b[39m device, lr \u001b[38;5;241m=\u001b[39m lr, grad_clip\u001b[38;5;241m=\u001b[39m \u001b[38;5;241m10\u001b[39m)\n\u001b[1;32m     17\u001b[0m critic \u001b[38;5;241m=\u001b[39m CriticNet(state, hidden_size \u001b[38;5;241m=\u001b[39m hidden_size, device \u001b[38;5;241m=\u001b[39m device, lr \u001b[38;5;241m=\u001b[39m lr, grad_clip\u001b[38;5;241m=\u001b[39m \u001b[38;5;241m10\u001b[39m)\n\u001b[0;32m---> 19\u001b[0m \u001b[43ma2c\u001b[49m\u001b[43m(\u001b[49m\u001b[43menv\u001b[49m\u001b[43m,\u001b[49m\u001b[43m \u001b[49m\u001b[43mactor\u001b[49m\u001b[43m,\u001b[49m\u001b[43m \u001b[49m\u001b[43mcritic\u001b[49m\u001b[43m,\u001b[49m\u001b[43m \u001b[49m\u001b[43mtraining_epochs\u001b[49m\u001b[38;5;241;43m=\u001b[39;49m\u001b[43mtraining_epochs\u001b[49m\u001b[43m,\u001b[49m\u001b[43m \u001b[49m\n\u001b[1;32m     20\u001b[0m \u001b[43mmax_t\u001b[49m\u001b[43m \u001b[49m\u001b[38;5;241;43m=\u001b[39;49m\u001b[43m \u001b[49m\u001b[43mmax_t\u001b[49m\u001b[43m,\u001b[49m\u001b[43m \u001b[49m\u001b[43mgamma\u001b[49m\u001b[43m \u001b[49m\u001b[38;5;241;43m=\u001b[39;49m\u001b[43m \u001b[49m\u001b[43mgamma\u001b[49m\u001b[43m,\u001b[49m\u001b[43m \u001b[49m\u001b[43mnormalizer\u001b[49m\u001b[38;5;241;43m=\u001b[39;49m\u001b[43mnormalizer\u001b[49m\u001b[43m,\u001b[49m\u001b[43m \u001b[49m\u001b[43mlabel\u001b[49m\u001b[43m \u001b[49m\u001b[38;5;241;43m=\u001b[39;49m\u001b[43m \u001b[49m\u001b[38;5;124;43m'\u001b[39;49m\u001b[38;5;124;43mtest\u001b[39;49m\u001b[38;5;124;43m'\u001b[39;49m\u001b[43m)\u001b[49m\n\u001b[1;32m     22\u001b[0m env\u001b[38;5;241m.\u001b[39mclose()\n",
      "Cell \u001b[0;32mIn[24], line 35\u001b[0m, in \u001b[0;36ma2c\u001b[0;34m(env, actor, critic, training_epochs, max_t, gamma, normalizer, plot_update_freq, label)\u001b[0m\n\u001b[1;32m     33\u001b[0m \u001b[38;5;28;01mif\u001b[39;00m normalizer:\n\u001b[1;32m     34\u001b[0m     state \u001b[38;5;241m=\u001b[39m normalizer\u001b[38;5;241m.\u001b[39mtransform(state\u001b[38;5;241m.\u001b[39mreshape(\u001b[38;5;241m1\u001b[39m,\u001b[38;5;241m-\u001b[39m\u001b[38;5;241m1\u001b[39m))[\u001b[38;5;241m0\u001b[39m]\n\u001b[0;32m---> 35\u001b[0m action, log_prob \u001b[38;5;241m=\u001b[39m \u001b[43mactor\u001b[49m\u001b[38;5;241;43m.\u001b[39;49m\u001b[43mact\u001b[49m\u001b[43m(\u001b[49m\u001b[43mstate\u001b[49m\u001b[43m)\u001b[49m\n\u001b[1;32m     36\u001b[0m saved_log_probs\u001b[38;5;241m.\u001b[39mappend(log_prob)\n\u001b[1;32m     38\u001b[0m state_value \u001b[38;5;241m=\u001b[39m critic(state)\n",
      "Cell \u001b[0;32mIn[11], line 43\u001b[0m, in \u001b[0;36mActorNet.act\u001b[0;34m(self, state)\u001b[0m\n\u001b[1;32m     41\u001b[0m state \u001b[38;5;241m=\u001b[39m torch\u001b[38;5;241m.\u001b[39mtensor(state)\u001b[38;5;241m.\u001b[39mfloat()\u001b[38;5;241m.\u001b[39munsqueeze(\u001b[38;5;241m0\u001b[39m)\u001b[38;5;241m.\u001b[39mto(\u001b[38;5;28mself\u001b[39m\u001b[38;5;241m.\u001b[39mdevice)\n\u001b[1;32m     42\u001b[0m mu, sigma \u001b[38;5;241m=\u001b[39m \u001b[38;5;28mself\u001b[39m(state)\n\u001b[0;32m---> 43\u001b[0m action_distribution \u001b[38;5;241m=\u001b[39m \u001b[43mtorch\u001b[49m\u001b[38;5;241;43m.\u001b[39;49m\u001b[43mdistributions\u001b[49m\u001b[38;5;241;43m.\u001b[39;49m\u001b[43mnormal\u001b[49m\u001b[38;5;241;43m.\u001b[39;49m\u001b[43mNormal\u001b[49m\u001b[43m(\u001b[49m\u001b[43mmu\u001b[49m\u001b[43m,\u001b[49m\u001b[43m \u001b[49m\u001b[43msigma\u001b[49m\u001b[43m)\u001b[49m\n\u001b[1;32m     44\u001b[0m action \u001b[38;5;241m=\u001b[39m action_distribution\u001b[38;5;241m.\u001b[39msample()\n\u001b[1;32m     45\u001b[0m action \u001b[38;5;241m=\u001b[39m torch\u001b[38;5;241m.\u001b[39mclamp(action, \u001b[38;5;28mself\u001b[39m\u001b[38;5;241m.\u001b[39maction_low, \u001b[38;5;28mself\u001b[39m\u001b[38;5;241m.\u001b[39maction_high)\n",
      "File \u001b[0;32m~/anaconda3/envs/torch/lib/python3.9/site-packages/torch/distributions/normal.py:56\u001b[0m, in \u001b[0;36mNormal.__init__\u001b[0;34m(self, loc, scale, validate_args)\u001b[0m\n\u001b[1;32m     54\u001b[0m \u001b[39melse\u001b[39;00m:\n\u001b[1;32m     55\u001b[0m     batch_shape \u001b[39m=\u001b[39m \u001b[39mself\u001b[39m\u001b[39m.\u001b[39mloc\u001b[39m.\u001b[39msize()\n\u001b[0;32m---> 56\u001b[0m \u001b[39msuper\u001b[39;49m()\u001b[39m.\u001b[39;49m\u001b[39m__init__\u001b[39;49m(batch_shape, validate_args\u001b[39m=\u001b[39;49mvalidate_args)\n",
      "File \u001b[0;32m~/anaconda3/envs/torch/lib/python3.9/site-packages/torch/distributions/distribution.py:68\u001b[0m, in \u001b[0;36mDistribution.__init__\u001b[0;34m(self, batch_shape, event_shape, validate_args)\u001b[0m\n\u001b[1;32m     66\u001b[0m         valid \u001b[39m=\u001b[39m constraint\u001b[39m.\u001b[39mcheck(value)\n\u001b[1;32m     67\u001b[0m         \u001b[39mif\u001b[39;00m \u001b[39mnot\u001b[39;00m valid\u001b[39m.\u001b[39mall():\n\u001b[0;32m---> 68\u001b[0m             \u001b[39mraise\u001b[39;00m \u001b[39mValueError\u001b[39;00m(\n\u001b[1;32m     69\u001b[0m                 \u001b[39mf\u001b[39m\u001b[39m\"\u001b[39m\u001b[39mExpected parameter \u001b[39m\u001b[39m{\u001b[39;00mparam\u001b[39m}\u001b[39;00m\u001b[39m \u001b[39m\u001b[39m\"\u001b[39m\n\u001b[1;32m     70\u001b[0m                 \u001b[39mf\u001b[39m\u001b[39m\"\u001b[39m\u001b[39m(\u001b[39m\u001b[39m{\u001b[39;00m\u001b[39mtype\u001b[39m(value)\u001b[39m.\u001b[39m\u001b[39m__name__\u001b[39m\u001b[39m}\u001b[39;00m\u001b[39m of shape \u001b[39m\u001b[39m{\u001b[39;00m\u001b[39mtuple\u001b[39m(value\u001b[39m.\u001b[39mshape)\u001b[39m}\u001b[39;00m\u001b[39m) \u001b[39m\u001b[39m\"\u001b[39m\n\u001b[1;32m     71\u001b[0m                 \u001b[39mf\u001b[39m\u001b[39m\"\u001b[39m\u001b[39mof distribution \u001b[39m\u001b[39m{\u001b[39;00m\u001b[39mrepr\u001b[39m(\u001b[39mself\u001b[39m)\u001b[39m}\u001b[39;00m\u001b[39m \u001b[39m\u001b[39m\"\u001b[39m\n\u001b[1;32m     72\u001b[0m                 \u001b[39mf\u001b[39m\u001b[39m\"\u001b[39m\u001b[39mto satisfy the constraint \u001b[39m\u001b[39m{\u001b[39;00m\u001b[39mrepr\u001b[39m(constraint)\u001b[39m}\u001b[39;00m\u001b[39m, \u001b[39m\u001b[39m\"\u001b[39m\n\u001b[1;32m     73\u001b[0m                 \u001b[39mf\u001b[39m\u001b[39m\"\u001b[39m\u001b[39mbut found invalid values:\u001b[39m\u001b[39m\\n\u001b[39;00m\u001b[39m{\u001b[39;00mvalue\u001b[39m}\u001b[39;00m\u001b[39m\"\u001b[39m\n\u001b[1;32m     74\u001b[0m             )\n\u001b[1;32m     75\u001b[0m \u001b[39msuper\u001b[39m()\u001b[39m.\u001b[39m\u001b[39m__init__\u001b[39m()\n",
      "\u001b[0;31mValueError\u001b[0m: Expected parameter loc (Tensor of shape (1, 4)) of distribution Normal(loc: torch.Size([1, 4]), scale: torch.Size([1, 4])) to satisfy the constraint Real(), but found invalid values:\ntensor([[nan, nan, nan, nan]], grad_fn=<AddmmBackward0>)"
     ]
    }
   ],
   "source": [
    "training_epochs = 20000\n",
    "max_t = 100\n",
    "gamma = 0.99\n",
    "lr = 1e-4\n",
    "hidden_size = 128\n",
    "\n",
    "device = DEVICE\n",
    "\n",
    "env = gym.make(ENV_NAME, **ENV_ARGS)\n",
    "obs, info = env.reset()\n",
    "state, action = env.observation_space, env.action_space\n",
    "print('state size = ', state.shape)\n",
    "print('action size = ', action.shape)\n",
    "\n",
    "# model = PolicyNet(state_size, action_size, hidden_size = 16, device = 'cpu')\n",
    "actor = ActorNet(state, action, hidden_size = hidden_size, device = device, lr = lr, grad_clip= 10)\n",
    "critic = CriticNet(state, hidden_size = hidden_size, device = device, lr = lr, grad_clip= 10)\n",
    "\n",
    "a2c(env, actor, critic, training_epochs=training_epochs, \n",
    "max_t = max_t, gamma = gamma, normalizer=normalizer, label = 'test')\n",
    "\n",
    "env.close()"
   ]
  },
  {
   "cell_type": "code",
   "execution_count": null,
   "metadata": {},
   "outputs": [],
   "source": [
    "env = gym.make(ENV_NAME, **ENV_ARGS)\n",
    "obs, info = env.reset()\n",
    "a2c(env, actor, critic, training_epochs=training_epochs, max_t = max_t, gamma = gamma)\n",
    "env.close()"
   ]
  },
  {
   "cell_type": "markdown",
   "metadata": {},
   "source": [
    "# Exp 2"
   ]
  },
  {
   "cell_type": "code",
   "execution_count": null,
   "metadata": {},
   "outputs": [],
   "source": [
    "training_epochs = 10000\n",
    "max_t = 500\n",
    "gamma = 0.99\n",
    "lr = 5e-5\n",
    "hidden_size = 128\n",
    "\n",
    "device = DEVICE\n",
    "\n",
    "env = gym.make(ENV_NAME, **ENV_ARGS)\n",
    "obs, info = env.reset()\n",
    "state, action = env.observation_space, env.action_space\n",
    "print('state size = ', state.shape)\n",
    "print('action size = ', action.shape)\n",
    "\n",
    "# model = PolicyNet(state_size, action_size, hidden_size = 16, device = 'cpu')\n",
    "actor = ActorNet(state, action, hidden_size = hidden_size, device = device, lr = lr)\n",
    "critic = CriticNet(state, hidden_size = hidden_size, device = device, lr = lr)\n",
    "\n",
    "a2c(env, actor, critic, training_epochs=training_epochs, max_t = max_t, gamma = gamma, label = 'exp3')\n",
    "\n",
    "env.close()"
   ]
  },
  {
   "cell_type": "markdown",
   "metadata": {},
   "source": [
    "# Evaluate"
   ]
  },
  {
   "cell_type": "code",
   "execution_count": 58,
   "metadata": {},
   "outputs": [
    {
     "name": "stdout",
     "output_type": "stream",
     "text": [
      "load path =  /Volumes/SanDisk/NLP_RNN/Reinforcement Learning/policy_gradient/actor_critic/v2/output/LunarLander-v2.continuous/10491dc0/actor.checkpoint.torch\n"
     ]
    },
    {
     "name": "stderr",
     "output_type": "stream",
     "text": [
      "  0%|          | 0/100 [00:00<?, ?it/s]/Users/jamesnguyen/anaconda3/envs/torch/lib/python3.9/site-packages/gymnasium/utils/passive_env_checker.py:233: DeprecationWarning: `np.bool8` is a deprecated alias for `np.bool_`.  (Deprecated NumPy 1.24)\n",
      "  if not isinstance(terminated, (bool, np.bool8)):\n",
      "reward = 229.89: 100%|██████████| 100/100 [00:16<00:00,  6.17it/s]\n"
     ]
    },
    {
     "data": {
      "text/plain": [
       "<Axes: >"
      ]
     },
     "execution_count": 58,
     "metadata": {},
     "output_type": "execute_result"
    },
    {
     "data": {
      "image/png": "[encoded data removed]",
      "text/plain": [
       "<Figure size 640x480 with 1 Axes>"
      ]
     },
     "metadata": {},
     "output_type": "display_data"
    }
   ],
   "source": [
    "# nv = gym.make('CartPole-v1')\n",
    "env = gym.make(ENV_NAME, **ENV_ARGS)\n",
    "rewards = []\n",
    "\n",
    "# net = torch.load('best_target_net.torch')\n",
    "LOAD_PATH = os.path.join(OUTPUT, '10491dc0', 'actor.checkpoint.torch')\n",
    "print('load path = ', LOAD_PATH)\n",
    "eval_net = torch.load(LOAD_PATH)\n",
    "\n",
    "loop = tqdm(range(100))\n",
    "total_rewards = []\n",
    "\n",
    "for epoch in loop:\n",
    "    state, info = env.reset()\n",
    "    total_reward = 0\n",
    "\n",
    "    for t in range(max_t):\n",
    "        action, log_prob = eval_net.act(state)\n",
    "        state, reward, terminated, truncated, info = env.step(action)\n",
    "        total_reward += reward\n",
    "        if terminated or truncated:\n",
    "            break\n",
    "    \n",
    "    total_rewards.append(total_reward)\n",
    "    loop.set_description(f'reward = {total_reward:.2f}')\n",
    "    \n",
    "sns.lineplot(y = total_rewards, x= list(range(len(total_rewards))))"
   ]
  },
  {
   "cell_type": "markdown",
   "metadata": {},
   "source": [
    "# Human render"
   ]
  },
  {
   "cell_type": "code",
   "execution_count": 59,
   "metadata": {},
   "outputs": [
    {
     "name": "stderr",
     "output_type": "stream",
     "text": [
      "  0%|          | 0/5 [00:00<?, ?it/s]/Users/jamesnguyen/anaconda3/envs/torch/lib/python3.9/site-packages/gymnasium/utils/passive_env_checker.py:233: DeprecationWarning: `np.bool8` is a deprecated alias for `np.bool_`.  (Deprecated NumPy 1.24)\n",
      "  if not isinstance(terminated, (bool, np.bool8)):\n",
      "reward = 294.31: 100%|██████████| 5/5 [00:27<00:00,  5.59s/it]\n"
     ]
    },
    {
     "data": {
      "text/plain": [
       "<Axes: >"
      ]
     },
     "execution_count": 59,
     "metadata": {},
     "output_type": "execute_result"
    },
    {
     "data": {
      "image/png": "[encoded data removed]",
      "text/plain": [
       "<Figure size 640x480 with 1 Axes>"
      ]
     },
     "metadata": {},
     "output_type": "display_data"
    },
    {
     "ename": "",
     "evalue": "",
     "output_type": "error",
     "traceback": [
      "\u001b[1;31mThe Kernel crashed while executing code in the the current cell or a previous cell. Please review the code in the cell(s) to identify a possible cause of the failure. Click <a href='https://aka.ms/vscodeJupyterKernelCrash'>here</a> for more info. View Jupyter <a href='command:jupyter.viewOutput'>log</a> for further details."
     ]
    }
   ],
   "source": [
    "env = gym.make(ENV_NAME, **ENV_ARGS, render_mode= 'human')\n",
    "rewards = []\n",
    "\n",
    "# net = torch.load('best_target_net.torch')\n",
    "LOAD_PATH = os.path.join(OUTPUT, '10491dc0', 'actor.checkpoint.torch')\n",
    "eval_net = torch.load(LOAD_PATH)\n",
    "\n",
    "loop = tqdm(range(5))\n",
    "total_rewards = []\n",
    "\n",
    "for epoch in loop:\n",
    "    state, info = env.reset()\n",
    "    total_reward = 0\n",
    "\n",
    "    for t in range(max_t):\n",
    "\n",
    "        action, log_prob = eval_net.act(state)\n",
    "        state, reward, terminated, truncated, info = env.step(action)\n",
    "        total_reward += reward\n",
    "        if terminated or truncated:\n",
    "            break\n",
    "    \n",
    "    total_rewards.append(total_reward)\n",
    "    loop.set_description(f'reward = {total_reward:.2f}')\n",
    "    \n",
    "sns.lineplot(y = total_rewards, x= list(range(len(total_rewards))))\n",
    "env.close()"
   ]
  },
  {
   "cell_type": "markdown",
   "metadata": {},
   "source": [
    "# References\n",
    "\n",
    "https://medium.com/deeplearningmadeeasy/advantage-actor-critic-continuous-case-implementation-f55ce5da6b4c"
   ]
  },
  {
   "cell_type": "code",
   "execution_count": null,
   "metadata": {},
   "outputs": [],
   "source": []
  }
 ],
 "metadata": {
  "kernelspec": {
   "display_name": "Python 3.9.18 ('torch')",
   "language": "python",
   "name": "python3"
  },
  "language_info": {
   "codemirror_mode": {
    "name": "ipython",
    "version": 3
   },
   "file_extension": ".py",
   "mimetype": "text/x-python",
   "name": "python",
   "nbconvert_exporter": "python",
   "pygments_lexer": "ipython3",
   "version": "3.9.18"
  },
  "orig_nbformat": 4,
  "vscode": {
   "interpreter": {
    "hash": "af18273774455bc90f5456b9f4898eab7ba4de506fde0c1d0784da333c7e8bbc"
   }
  }
 },
 "nbformat": 4,
 "nbformat_minor": 2
}
