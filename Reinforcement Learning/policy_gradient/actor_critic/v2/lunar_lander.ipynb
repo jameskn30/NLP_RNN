{
 "cells": [
  {
   "cell_type": "markdown",
   "metadata": {},
   "source": [
    "https://huggingface.co/learn/deep-rl-course/en/unit4/introduction"
   ]
  },
  {
   "cell_type": "markdown",
   "metadata": {},
   "source": [
    "# Import"
   ]
  },
  {
   "cell_type": "code",
   "execution_count": 2,
   "metadata": {},
   "outputs": [],
   "source": [
    "import gymnasium as gym\n",
    "import seaborn as sns\n",
    "import os\n",
    "from collections import deque, Counter, namedtuple, defaultdict\n",
    "import random\n",
    "from matplotlib import pyplot as plt\n",
    "import warnings\n",
    "warnings.simplefilter(action='ignore', category=FutureWarning)\n",
    "warnings.simplefilter(action='ignore', category=UserWarning)\n",
    "import torch\n",
    "from torch import nn\n",
    "import torch.nn.functional as F\n",
    "from torch.distributions import Categorical\n",
    "import math\n",
    "from itertools import count\n",
    "from tqdm import tqdm\n",
    "import numpy as np\n",
    "import time\n"
   ]
  },
  {
   "cell_type": "markdown",
   "metadata": {},
   "source": [
    "# Global params"
   ]
  },
  {
   "cell_type": "code",
   "execution_count": 3,
   "metadata": {},
   "outputs": [],
   "source": [
    "DEVICE = \"cpu\"\n",
    "ROOT = os.getcwd()\n",
    "ENV_NAME = 'LunarLander-v2'\n",
    "OUTPUT = os.path.join(ROOT, 'output', ENV_NAME)\n",
    "\n",
    "if os.path.exists(OUTPUT) == False:\n",
    "    os.makedirs(OUTPUT)\n"
   ]
  },
  {
   "cell_type": "markdown",
   "metadata": {},
   "source": [
    "# Test env"
   ]
  },
  {
   "cell_type": "code",
   "execution_count": 4,
   "metadata": {},
   "outputs": [
    {
     "name": "stderr",
     "output_type": "stream",
     "text": [
      "  0%|          | 0/10 [00:00<?, ?it/s]/Users/jamesnguyen/anaconda3/envs/torch/lib/python3.9/site-packages/gymnasium/utils/passive_env_checker.py:233: DeprecationWarning: `np.bool8` is a deprecated alias for `np.bool_`.  (Deprecated NumPy 1.24)\n",
      "  if not isinstance(terminated, (bool, np.bool8)):\n",
      "100%|██████████| 10/10 [00:00<00:00, 144.66it/s]\n"
     ]
    },
    {
     "data": {
      "image/png": "[encoded data removed]",
      "text/plain": [
       "<Figure size 640x480 with 1 Axes>"
      ]
     },
     "metadata": {},
     "output_type": "display_data"
    }
   ],
   "source": [
    "env = gym.make(ENV_NAME)\n",
    "obs, info = env.reset()\n",
    "\n",
    "rewards = []\n",
    "for ep in tqdm(range(10)):\n",
    "    obs, info = env.reset()\n",
    "    total_reward = 0\n",
    "\n",
    "    for t in count():\n",
    "        action = env.action_space.sample()\n",
    "        state, reward, terminated, truncated, info = env.step(action)\n",
    "        total_reward += reward\n",
    "        if terminated or truncated: \n",
    "            break\n",
    "    \n",
    "    rewards.append(total_reward)\n",
    "\n",
    "sns.lineplot(y = rewards, x = list(range(len(rewards))))\n",
    "plt.show()\n",
    "env.close()"
   ]
  },
  {
   "cell_type": "markdown",
   "metadata": {},
   "source": [
    "# Actor and Critic Net"
   ]
  },
  {
   "cell_type": "code",
   "execution_count": 27,
   "metadata": {},
   "outputs": [],
   "source": [
    "class ActorNet(nn.Module):\n",
    "\n",
    "    def __init__(self, state_size, action_size, device, hidden_size = 64):\n",
    "        super().__init__()\n",
    "        self.device = device\n",
    "        self.fc1 = nn.Linear(state_size, hidden_size) \n",
    "        self.fc2 = nn.Linear(hidden_size, hidden_size) \n",
    "        self.fc3 = nn.Linear(hidden_size, action_size) \n",
    "\n",
    "    def forward(self, X):\n",
    "        X = F.relu(self.fc1(X))\n",
    "        X = F.relu(self.fc2(X))\n",
    "        return F.softmax(self.fc3(X), dim = -1)\n",
    "    \n",
    "    def act(self, state):\n",
    "        state = torch.tensor(state).float().unsqueeze(0).to(self.device)\n",
    "        probs = self(state).cpu()\n",
    "        m = Categorical(probs)\n",
    "        #we want to sample an action from the probability distribution over actions.\n",
    "        action = m.sample()\n",
    "        return action.item(), m.log_prob(action)\n"
   ]
  },
  {
   "cell_type": "code",
   "execution_count": 28,
   "metadata": {},
   "outputs": [],
   "source": [
    "class CriticNet(nn.Module):\n",
    "    def __init__(self, state_size, device, hidden_size = 64):\n",
    "        super().__init__()\n",
    "        self.fc1 = nn.Linear(state_size, hidden_size) \n",
    "        self.fc2 = nn.Linear(hidden_size, hidden_size) \n",
    "        self.fc3 = nn.Linear(hidden_size, 1) \n",
    "        self.device = device\n",
    "        self.to(device)\n",
    "\n",
    "    def forward(self, state):\n",
    "        state = torch.tensor(state).float().unsqueeze(0).to(self.device)\n",
    "        state = F.relu(self.fc1(state))\n",
    "        state = F.relu(self.fc2(state))\n",
    "        return self.fc3(state)"
   ]
  },
  {
   "cell_type": "code",
   "execution_count": 14,
   "metadata": {},
   "outputs": [
    {
     "name": "stdout",
     "output_type": "stream",
     "text": [
      "state size =  8\n",
      "action size =  4\n",
      "(8,)\n",
      "action =  0\n",
      "action prob =  tensor([-1.4058], grad_fn=<SqueezeBackward1>)\n",
      "value =  tensor([[-0.0375]], grad_fn=<AddmmBackward0>)\n"
     ]
    }
   ],
   "source": [
    "# Test model\n",
    "env = gym.make(ENV_NAME)\n",
    "obs, info = env.reset()\n",
    "state_size = len(obs)\n",
    "action_size = env.action_space.n\n",
    "\n",
    "print('state size = ', state_size)\n",
    "print('action size = ', action_size)\n",
    "\n",
    "actor = ActorNet(state_size, action_size, device = DEVICE)\n",
    "critic = CriticNet(state_size, device = DEVICE)\n",
    "\n",
    "sample_state = np.random.rand(state_size)\n",
    "print(sample_state.shape)\n",
    "\n",
    "action, action_prob = actor.act(sample_state)\n",
    "print('action = ', action)\n",
    "print('action prob = ', action_prob)\n",
    "\n",
    "value = critic(sample_state)\n",
    "print('value = ', value)\n",
    "\n",
    "env.close()"
   ]
  },
  {
   "cell_type": "code",
   "execution_count": 15,
   "metadata": {},
   "outputs": [
    {
     "name": "stdout",
     "output_type": "stream",
     "text": [
      "1.1920928955078125e-07\n"
     ]
    }
   ],
   "source": [
    "print(np.finfo(np.float32).eps.item())"
   ]
  },
  {
   "cell_type": "markdown",
   "metadata": {},
   "source": [
    "# A2C algo"
   ]
  },
  {
   "cell_type": "code",
   "execution_count": 23,
   "metadata": {},
   "outputs": [],
   "source": [
    "def a2c(env, actor, critic, optimA, optimC, training_epochs, max_t, gamma, label = 'baseline', plot_update_freq = 50):\n",
    "\n",
    "    SAVE_PATH = os.path.join(OUTPUT, label)\n",
    "    FIG_SAVE_PATH = os.path.join(SAVE_PATH, 'plot.png')\n",
    "    if os.path.exists(SAVE_PATH) == False:\n",
    "        os.makedirs(SAVE_PATH)\n",
    "    \n",
    "    scores_deque = deque(maxlen = 100)\n",
    "    history = defaultdict(list)\n",
    "    loop = tqdm(range(training_epochs))\n",
    "    best_score = -float('inf')\n",
    "\n",
    "    for e in loop:\n",
    "\n",
    "        saved_log_probs = []\n",
    "        rewards = []\n",
    "        state, info = env.reset()\n",
    "        dones = []\n",
    "        state_values = []\n",
    "\n",
    "\n",
    "        for t in range(max_t):\n",
    "            done = False\n",
    "            action, log_prob = actor.act(state)\n",
    "            saved_log_probs.append(log_prob)\n",
    "\n",
    "            state_value = critic(state)\n",
    "            state_values.append(state_value)\n",
    "\n",
    "            state, reward, terminated, truncated, info = env.step(action)\n",
    "            rewards.append(reward)\n",
    "\n",
    "            if terminated or truncated:\n",
    "                done = True\n",
    "                break\n",
    "                \n",
    "            dones.append(done)\n",
    "        \n",
    "        #update actor\n",
    "        scores_deque.append(sum(rewards))\n",
    "        avg_reward = np.mean(scores_deque)\n",
    "\n",
    "        history['reward'].append(avg_reward)\n",
    "\n",
    "        returns = deque(maxlen = max_t)\n",
    "\n",
    "        #compute cummulative reward\n",
    "        num_steps = len(rewards)\n",
    "\n",
    "        for t in reversed(range(num_steps)):\n",
    "            G_t = returns[0] if len(returns) > 0 else 0\n",
    "            returns.appendleft(gamma * G_t + rewards[t])\n",
    "\n",
    "        #standardization of returns to make training more stable\n",
    "        eps = np.finfo(np.float32).eps.item()\n",
    "        returns = torch.tensor(returns).float()\n",
    "        returns = (returns - returns.mean())/(returns.std() + eps)\n",
    "\n",
    "        # returns = torch.cat(returns)\n",
    "        state_values = torch.cat(state_values)\n",
    "        saved_log_probs = torch.cat(saved_log_probs)\n",
    "\n",
    "        #advantage function\n",
    "        advantage = returns - state_values\n",
    "\n",
    "        actor_loss = []\n",
    "        #advantage.detach() because we don't want to backward the advantage \n",
    "        #that's for critic loss backward\n",
    "        actor_loss = (-saved_log_probs * advantage.detach()).sum()\n",
    "\n",
    "        critic_loss = F.mse_loss(returns, state_values)\n",
    "\n",
    "        # print('actor loss = ', actor_loss.item())\n",
    "        # print('critic loss = ', critic_loss.item())\n",
    "\n",
    "        optimA.zero_grad()\n",
    "        optimC.zero_grad()\n",
    "\n",
    "        actor_loss.backward()\n",
    "        critic_loss.backward()\n",
    "\n",
    "        optimA.step()\n",
    "        optimC.step()\n",
    "\n",
    "        #statistics and saving checkpoint\n",
    "        loop.set_description(f'avg reward = {avg_reward:.2f}')\n",
    "\n",
    "        if best_score <= avg_reward:\n",
    "            best_score = avg_reward\n",
    "            torch.save(actor, os.path.join(SAVE_PATH, 'actor.checkpoint.torch'))\n",
    "            torch.save(critic, os.path.join(SAVE_PATH, 'critic.checkpoint.torch'))\n",
    "        \n",
    "        if e % plot_update_freq == 0:\n",
    "            plot(history, save_path=FIG_SAVE_PATH)\n",
    "        \n",
    "    plot(history, show=True, save_path=FIG_SAVE_PATH)\n",
    "    torch.save(actor, os.path.join(SAVE_PATH, 'actor.final.torch'))\n",
    "    torch.save(critic, os.path.join(SAVE_PATH, 'critic.final.torch'))\n",
    "\n",
    "    return history\n",
    "\n",
    "def plot(history, show = False, save_path = None):\n",
    "    sns.lineplot(y = history['reward'], x = list(range(len(history['reward']))))\n",
    "\n",
    "    if save_path != None:\n",
    "        plt.savefig(save_path)\n",
    "    if show:\n",
    "        plt.show()\n",
    "        \n",
    "    plt.clf()\n",
    "    plt.close()"
   ]
  },
  {
   "cell_type": "markdown",
   "metadata": {},
   "source": [
    "# Train"
   ]
  },
  {
   "cell_type": "code",
   "execution_count": 30,
   "metadata": {},
   "outputs": [
    {
     "name": "stdout",
     "output_type": "stream",
     "text": [
      "state size =  8\n",
      "action size =  4\n"
     ]
    },
    {
     "name": "stderr",
     "output_type": "stream",
     "text": [
      "  0%|          | 0/10000 [00:00<?, ?it/s]/Users/jamesnguyen/anaconda3/envs/torch/lib/python3.9/site-packages/gymnasium/utils/passive_env_checker.py:233: DeprecationWarning: `np.bool8` is a deprecated alias for `np.bool_`.  (Deprecated NumPy 1.24)\n",
      "  if not isinstance(terminated, (bool, np.bool8)):\n",
      "avg reward = 202.00: 100%|██████████| 10000/10000 [31:18<00:00,  5.32it/s]  \n"
     ]
    },
    {
     "data": {
      "image/png": "[encoded data removed]",
      "text/plain": [
       "<Figure size 640x480 with 1 Axes>"
      ]
     },
     "metadata": {},
     "output_type": "display_data"
    }
   ],
   "source": [
    "training_epochs = 10000\n",
    "max_t = 1000\n",
    "gamma = 1.0\n",
    "lr = 1e-3\n",
    "hidden_size = 128\n",
    "\n",
    "device = DEVICE\n",
    "\n",
    "env = gym.make(ENV_NAME)\n",
    "obs, info = env.reset()\n",
    "state_size = len(obs)\n",
    "action_size = env.action_space.n\n",
    "print('state size = ', state_size)\n",
    "print('action size = ', action_size)\n",
    "\n",
    "# model = PolicyNet(state_size, action_size, hidden_size = 16, device = 'cpu')\n",
    "actor = ActorNet(state_size, action_size, hidden_size = hidden_size, device = device)\n",
    "critic = CriticNet(state_size, hidden_size = hidden_size, device = device)\n",
    "optimA = torch.optim.Adam(actor.parameters(), lr = lr)\n",
    "optimC = torch.optim.Adam(critic.parameters(), lr = lr)\n",
    "\n",
    "a2c(env, actor, critic, optimA, optimC, training_epochs=training_epochs, max_t = max_t, gamma = gamma)\n",
    "\n",
    "env.close()\n",
    "\n"
   ]
  },
  {
   "cell_type": "code",
   "execution_count": 32,
   "metadata": {},
   "outputs": [
    {
     "name": "stdout",
     "output_type": "stream",
     "text": [
      "state size =  8\n",
      "action size =  4\n"
     ]
    },
    {
     "name": "stderr",
     "output_type": "stream",
     "text": [
      "  0%|          | 0/10000 [00:00<?, ?it/s]/Users/jamesnguyen/anaconda3/envs/torch/lib/python3.9/site-packages/gymnasium/utils/passive_env_checker.py:233: DeprecationWarning: `np.bool8` is a deprecated alias for `np.bool_`.  (Deprecated NumPy 1.24)\n",
      "  if not isinstance(terminated, (bool, np.bool8)):\n",
      "avg reward = -14.23:  50%|█████     | 5004/10000 [19:26<38:23,  2.17it/s]  "
     ]
    }
   ],
   "source": [
    "training_epochs = 10000\n",
    "max_t = 1000\n",
    "gamma = 1.0\n",
    "lr = 1e-4\n",
    "hidden_size = 256\n",
    "\n",
    "device = DEVICE\n",
    "\n",
    "env = gym.make(ENV_NAME)\n",
    "obs, info = env.reset()\n",
    "state_size = len(obs)\n",
    "action_size = env.action_space.n\n",
    "print('state size = ', state_size)\n",
    "print('action size = ', action_size)\n",
    "\n",
    "# model = PolicyNet(state_size, action_size, hidden_size = 16, device = 'cpu')\n",
    "actor = ActorNet(state_size, action_size, hidden_size = hidden_size, device = device)\n",
    "critic = CriticNet(state_size, hidden_size = hidden_size, device = device)\n",
    "optimA = torch.optim.Adam(actor.parameters(), lr = lr)\n",
    "optimC = torch.optim.Adam(critic.parameters(), lr = lr)\n",
    "\n",
    "a2c(env, actor, critic, optimA, optimC, training_epochs=training_epochs, max_t = max_t, gamma = gamma)\n",
    "\n",
    "env.close()\n",
    "\n"
   ]
  },
  {
   "cell_type": "markdown",
   "metadata": {},
   "source": [
    "# Evaluate"
   ]
  },
  {
   "cell_type": "code",
   "execution_count": 26,
   "metadata": {},
   "outputs": [
    {
     "name": "stderr",
     "output_type": "stream",
     "text": [
      "  0%|          | 0/100 [00:00<?, ?it/s]/Users/jamesnguyen/anaconda3/envs/torch/lib/python3.9/site-packages/gymnasium/utils/passive_env_checker.py:233: DeprecationWarning: `np.bool8` is a deprecated alias for `np.bool_`.  (Deprecated NumPy 1.24)\n",
      "  if not isinstance(terminated, (bool, np.bool8)):\n",
      "reward = 500.00: 100%|██████████| 100/100 [00:06<00:00, 15.15it/s]\n"
     ]
    },
    {
     "data": {
      "text/plain": [
       "<Axes: >"
      ]
     },
     "execution_count": 26,
     "metadata": {},
     "output_type": "execute_result"
    },
    {
     "data": {
      "image/png": "[encoded data removed]",
      "text/plain": [
       "<Figure size 640x480 with 1 Axes>"
      ]
     },
     "metadata": {},
     "output_type": "display_data"
    }
   ],
   "source": [
    "# nv = gym.make('CartPole-v1')\n",
    "env = gym.make(ENV_NAME)\n",
    "rewards = []\n",
    "\n",
    "# net = torch.load('best_target_net.torch')\n",
    "LOAD_PATH = os.path.join(OUTPUT, 'baseline', 'actor.final.torch')\n",
    "eval_net = torch.load(LOAD_PATH)\n",
    "\n",
    "loop = tqdm(range(100))\n",
    "total_rewards = []\n",
    "\n",
    "for epoch in loop:\n",
    "    state, info = env.reset()\n",
    "    total_reward = 0\n",
    "\n",
    "    for t in range(max_t):\n",
    "\n",
    "        action, log_prob = eval_net.act(state)\n",
    "        state, reward, terminated, truncated, info = env.step(action)\n",
    "        total_reward += 1\n",
    "        if terminated or truncated:\n",
    "            break\n",
    "    \n",
    "    total_rewards.append(total_reward)\n",
    "    loop.set_description(f'reward = {total_reward:.2f}')\n",
    "    \n",
    "sns.lineplot(y = total_rewards, x= list(range(len(total_rewards))))"
   ]
  },
  {
   "cell_type": "code",
   "execution_count": null,
   "metadata": {},
   "outputs": [],
   "source": []
  }
 ],
 "metadata": {
  "kernelspec": {
   "display_name": "Python 3.9.18 ('torch')",
   "language": "python",
   "name": "python3"
  },
  "language_info": {
   "codemirror_mode": {
    "name": "ipython",
    "version": 3
   },
   "file_extension": ".py",
   "mimetype": "text/x-python",
   "name": "python",
   "nbconvert_exporter": "python",
   "pygments_lexer": "ipython3",
   "version": "3.9.18"
  },
  "orig_nbformat": 4,
  "vscode": {
   "interpreter": {
    "hash": "af18273774455bc90f5456b9f4898eab7ba4de506fde0c1d0784da333c7e8bbc"
   }
  }
 },
 "nbformat": 4,
 "nbformat_minor": 2
}
