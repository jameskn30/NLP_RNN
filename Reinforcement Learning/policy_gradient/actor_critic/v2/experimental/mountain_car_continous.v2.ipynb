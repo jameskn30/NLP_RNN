{
 "cells": [
  {
   "cell_type": "markdown",
   "metadata": {},
   "source": [
    "# Import"
   ]
  },
  {
   "cell_type": "code",
   "execution_count": 2,
   "metadata": {},
   "outputs": [],
   "source": [
    "import gymnasium as gym\n",
    "import seaborn as sns\n",
    "import os\n",
    "from collections import deque, Counter, namedtuple, defaultdict\n",
    "import random\n",
    "from matplotlib import pyplot as plt\n",
    "import warnings\n",
    "warnings.simplefilter(action='ignore', category=FutureWarning)\n",
    "warnings.simplefilter(action='ignore', category=UserWarning)\n",
    "import torch\n",
    "from torch import nn\n",
    "from torch.nn import init\n",
    "import torch.nn.functional as F\n",
    "from torch.distributions import Categorical\n",
    "import math\n",
    "from itertools import count\n",
    "from tqdm import tqdm\n",
    "import numpy as np\n",
    "import time\n"
   ]
  },
  {
   "cell_type": "markdown",
   "metadata": {},
   "source": [
    "# Global params"
   ]
  },
  {
   "cell_type": "code",
   "execution_count": 3,
   "metadata": {},
   "outputs": [],
   "source": [
    "DEVICE = \"cpu\"\n",
    "ROOT = os.getcwd()\n",
    "ENV_NAME = 'MountainCarContinuous-v0'\n",
    "OUTPUT = os.path.join(ROOT, 'output', ENV_NAME)\n",
    "\n",
    "if os.path.exists(OUTPUT) == False:\n",
    "    os.makedirs(OUTPUT)\n"
   ]
  },
  {
   "cell_type": "markdown",
   "metadata": {},
   "source": [
    "# Test env"
   ]
  },
  {
   "cell_type": "code",
   "execution_count": 4,
   "metadata": {},
   "outputs": [
    {
     "name": "stdout",
     "output_type": "stream",
     "text": [
      "state size =  (2,)\n",
      "action size =  (1,)\n"
     ]
    },
    {
     "name": "stderr",
     "output_type": "stream",
     "text": [
      "  0%|          | 0/10 [00:00<?, ?it/s]/Users/jamesnguyen/anaconda3/envs/torch/lib/python3.9/site-packages/gymnasium/utils/passive_env_checker.py:233: DeprecationWarning: `np.bool8` is a deprecated alias for `np.bool_`.  (Deprecated NumPy 1.24)\n",
      "  if not isinstance(terminated, (bool, np.bool8)):\n",
      "100%|██████████| 10/10 [00:00<00:00, 40.50it/s]"
     ]
    },
    {
     "name": "stdout",
     "output_type": "stream",
     "text": [
      "sample action \n",
      "[-0.3865464]\n",
      "(1,)\n",
      "<class 'numpy.ndarray'>\n"
     ]
    },
    {
     "name": "stderr",
     "output_type": "stream",
     "text": [
      "\n"
     ]
    },
    {
     "data": {
      "image/png": "[encoded data removed]",
      "text/plain": [
       "<Figure size 640x480 with 1 Axes>"
      ]
     },
     "metadata": {},
     "output_type": "display_data"
    }
   ],
   "source": [
    "env = gym.make(ENV_NAME)\n",
    "obs, info = env.reset()\n",
    "print('state size = ', env.observation_space.shape)\n",
    "print('action size = ', env.action_space.shape)\n",
    "\n",
    "rewards = []\n",
    "for ep in tqdm(range(10)):\n",
    "    obs, info = env.reset()\n",
    "    total_reward = 0\n",
    "\n",
    "    for t in count():\n",
    "        action = env.action_space.sample()\n",
    "        state, reward, terminated, truncated, info = env.step(action)\n",
    "        total_reward += reward\n",
    "        if terminated or truncated: \n",
    "            break\n",
    "    \n",
    "    \n",
    "    rewards.append(total_reward)\n",
    "\n",
    "print('sample action ')\n",
    "print(action)\n",
    "print(action.shape)\n",
    "print(type(action))\n",
    "sns.lineplot(y = rewards, x = list(range(len(rewards))))\n",
    "plt.show()\n",
    "env.close()"
   ]
  },
  {
   "cell_type": "markdown",
   "metadata": {},
   "source": [
    "# Actor and Critic Net for continous space"
   ]
  },
  {
   "cell_type": "code",
   "execution_count": 5,
   "metadata": {},
   "outputs": [],
   "source": [
    "class ActorNet(nn.Module):\n",
    "\n",
    "    def __init__(self, state, action, device, hidden_size = 16, lr = 1e-3):\n",
    "        super().__init__()\n",
    "\n",
    "        self.state = state\n",
    "        self.action = action\n",
    "\n",
    "        state_shape = state.shape\n",
    "        action_shape = action.shape\n",
    "\n",
    "        self.action_low = torch.tensor(action.low)\n",
    "        self.action_high = torch.tensor(action.high)\n",
    "\n",
    "        self.device = device\n",
    "        self.fc1 = nn.Linear(state_shape[0], hidden_size) \n",
    "\n",
    "        self.fc_mu = nn.Linear(hidden_size, action_shape[0])\n",
    "        self.fc_sigma = nn.Linear(hidden_size, action_shape[0])\n",
    "\n",
    "        init.xavier_normal_(self.fc1.weight)\n",
    "        init.xavier_normal_(self.fc_mu.weight)\n",
    "        init.xavier_normal_(self.fc_sigma.weight)\n",
    "\n",
    "        self.optimizer = torch.optim.Adam(self.parameters(), lr = lr)\n",
    "\n",
    "        self.to(device)\n",
    "\n",
    "    def forward(self, X):\n",
    "        X = F.relu(self.fc1(X))\n",
    "        mu = self.fc_mu(X)\n",
    "        sigma = F.softplus(self.fc_sigma(X) + 1e-5)\n",
    "        return mu, sigma\n",
    "    \n",
    "    def act(self, state):\n",
    "        state = torch.tensor(state).float().unsqueeze(0).to(self.device)\n",
    "        mu, sigma = self(state)\n",
    "        action_distribution = torch.distributions.normal.Normal(mu, sigma)\n",
    "        action = action_distribution.sample()\n",
    "        action = torch.clamp(action, self.action_low, self.action_high)\n",
    "        log_prob = action_distribution.log_prob(action)\n",
    "        #return the first (only in this case) batch\n",
    "        return action.numpy(), log_prob\n",
    "    \n",
    "    def learn(self, log_probs, advantage):\n",
    "        actor_loss = (-log_probs * advantage.detach()).sum()\n",
    "        self.optimizer.zero_grad()\n",
    "        actor_loss.backward()\n",
    "        self.optimizer.step()"
   ]
  },
  {
   "cell_type": "code",
   "execution_count": 6,
   "metadata": {},
   "outputs": [],
   "source": [
    "class CriticNet(nn.Module):\n",
    "    def __init__(self, state, device, hidden_size = 16, lr = 1e-3):\n",
    "        super().__init__()\n",
    "        self.state = state\n",
    "\n",
    "        self.fc1 = nn.Linear(state.shape[0], hidden_size) \n",
    "        self.fc2 = nn.Linear(hidden_size, 1) \n",
    "\n",
    "        init.xavier_normal_(self.fc1.weight)\n",
    "        init.xavier_normal_(self.fc2.weight)\n",
    "\n",
    "        self.device = device\n",
    "        self.to(device)\n",
    "        self.optimizer = torch.optim.Adam(self.parameters(), lr = lr)\n",
    "\n",
    "    def forward(self, state):\n",
    "        state = torch.tensor(state).float().unsqueeze(0).to(self.device)\n",
    "        state = F.relu(self.fc1(state))\n",
    "        return self.fc2(state)\n",
    "        \n",
    "    def learn(self, returns, state_values):\n",
    "        critic_loss = F.mse_loss(returns, state_values)\n",
    "        self.optimizer.zero_grad()\n",
    "        critic_loss.backward()\n",
    "        self.optimizer.step()"
   ]
  },
  {
   "cell_type": "code",
   "execution_count": 7,
   "metadata": {},
   "outputs": [
    {
     "name": "stdout",
     "output_type": "stream",
     "text": [
      "torch.Size([2, 1])\n"
     ]
    }
   ],
   "source": [
    "a = torch.rand(1,1)\n",
    "b = torch.rand(1,1)\n",
    "\n",
    "c = torch.cat([a,b])\n",
    "print(c.shape)"
   ]
  },
  {
   "cell_type": "code",
   "execution_count": 8,
   "metadata": {},
   "outputs": [
    {
     "name": "stdout",
     "output_type": "stream",
     "text": [
      "state size =  (2,)\n",
      "action size =  (1,)\n",
      "action =  [[0.24257588]]\n",
      "action prob =  tensor([[-0.8740]], grad_fn=<SubBackward0>)\n",
      "value =  tensor([[0.3420]], grad_fn=<AddmmBackward0>)\n"
     ]
    }
   ],
   "source": [
    "# Test model\n",
    "env = gym.make(ENV_NAME)\n",
    "obs, info = env.reset()\n",
    "\n",
    "state, action = env.observation_space, env.action_space\n",
    "\n",
    "print('state size = ', state.shape)\n",
    "print('action size = ', action.shape)\n",
    "\n",
    "actor = ActorNet(state, action, device = DEVICE)\n",
    "critic = CriticNet(state, device = DEVICE)\n",
    "\n",
    "action, action_prob = actor.act(obs)\n",
    "print('action = ', action)\n",
    "print('action prob = ', action_prob)\n",
    "\n",
    "value = critic(obs)\n",
    "print('value = ', value)\n",
    "\n",
    "env.close()"
   ]
  },
  {
   "cell_type": "code",
   "execution_count": 9,
   "metadata": {},
   "outputs": [
    {
     "name": "stdout",
     "output_type": "stream",
     "text": [
      "1.1920928955078125e-07\n"
     ]
    }
   ],
   "source": [
    "print(np.finfo(np.float32).eps.item())"
   ]
  },
  {
   "cell_type": "code",
   "execution_count": 10,
   "metadata": {},
   "outputs": [],
   "source": [
    "def compute_returns(rewards, gamma):\n",
    "    returns = deque(maxlen = len(rewards))\n",
    "    #compute cummulative reward\n",
    "    num_steps = len(rewards)\n",
    "\n",
    "    for t in reversed(range(num_steps)):\n",
    "        G_t = returns[0] if len(returns) > 0 else 0\n",
    "        returns.appendleft(gamma * G_t + rewards[t])\n",
    "\n",
    "    #standardization of returns to make training more stable\n",
    "    eps = np.finfo(np.float32).eps.item()\n",
    "    returns = torch.tensor(returns).float()\n",
    "    returns = (returns - returns.mean())/(returns.std() + eps)\n",
    "\n",
    "    return returns"
   ]
  },
  {
   "cell_type": "markdown",
   "metadata": {},
   "source": [
    "# A2C algo"
   ]
  },
  {
   "cell_type": "code",
   "execution_count": 11,
   "metadata": {},
   "outputs": [],
   "source": [
    "def a2c(env, actor, critic, optimA, optimC, training_epochs, max_t, gamma, label = 'baseline', plot_update_freq = 50):\n",
    "\n",
    "    SAVE_PATH = os.path.join(OUTPUT, label)\n",
    "    FIG_SAVE_PATH = os.path.join(SAVE_PATH, 'plot.png')\n",
    "    if os.path.exists(SAVE_PATH) == False:\n",
    "        os.makedirs(SAVE_PATH)\n",
    "    \n",
    "    scores_deque = deque(maxlen = 100)\n",
    "    history = defaultdict(list)\n",
    "    loop = tqdm(range(training_epochs))\n",
    "    best_score = -float('inf')\n",
    "    avg_reward = -float('inf')\n",
    "\n",
    "    for e in loop:\n",
    "\n",
    "        saved_log_probs_list = []\n",
    "        rewards = []\n",
    "        state, info = env.reset()\n",
    "        dones = []\n",
    "        state_values = []\n",
    "\n",
    "        for t in range(max_t):\n",
    "            done = False\n",
    "            action, log_prob = actor.act(state)\n",
    "\n",
    "            state_value = critic(state)\n",
    "            # state_values.append(state_value)\n",
    "\n",
    "            state, reward, terminated, truncated, info = env.step(action[0])\n",
    "\n",
    "\n",
    "            rewards.append(reward)\n",
    "\n",
    "            if terminated or truncated:\n",
    "                done = True\n",
    "                break\n",
    "                \n",
    "            dones.append(done)\n",
    "\n",
    "            #update acto\n",
    "            return_v = reward + gamma * state_value\n",
    "            \n",
    "            # #advantage function\n",
    "            advantage = return_v - state_value\n",
    "            actor.learn(log_prob, advantage)\n",
    "            critic.learn(return_v, state_value)\n",
    "        \n",
    "        scores_deque.append(sum(rewards))\n",
    "        avg_reward = np.mean(scores_deque)\n",
    "        history['reward'].append(avg_reward)\n",
    "\n",
    "        loop.set_description(f'avg reward = {avg_reward:.2f}')\n",
    "\n",
    "        #statistics and saving checkpoint\n",
    "\n",
    "        if best_score <= avg_reward:\n",
    "            best_score = avg_reward\n",
    "            torch.save(actor, os.path.join(SAVE_PATH, 'actor.checkpoint.torch'))\n",
    "            torch.save(critic, os.path.join(SAVE_PATH, 'critic.checkpoint.torch'))\n",
    "        \n",
    "        if e % plot_update_freq == 0:\n",
    "            plot(history, save_path=FIG_SAVE_PATH)\n",
    "        \n",
    "    plot(history, show=True, save_path=FIG_SAVE_PATH)\n",
    "    torch.save(actor, os.path.join(SAVE_PATH, 'actor.final.torch'))\n",
    "    torch.save(critic, os.path.join(SAVE_PATH, 'critic.final.torch'))\n",
    "\n",
    "    return history\n",
    "\n",
    "def plot(history, show = False, save_path = None):\n",
    "    sns.lineplot(y = history['reward'], x = list(range(len(history['reward']))))\n",
    "\n",
    "    if save_path != None:\n",
    "        plt.savefig(save_path)\n",
    "    if show:\n",
    "        plt.show()\n",
    "        \n",
    "    plt.clf()\n",
    "    plt.close()"
   ]
  },
  {
   "cell_type": "markdown",
   "metadata": {},
   "source": [
    "# Train\n"
   ]
  },
  {
   "cell_type": "code",
   "execution_count": 12,
   "metadata": {},
   "outputs": [
    {
     "name": "stdout",
     "output_type": "stream",
     "text": [
      "state size =  (2,)\n",
      "action size =  (1,)\n"
     ]
    },
    {
     "name": "stderr",
     "output_type": "stream",
     "text": [
      "  0%|          | 0/10000 [00:00<?, ?it/s]/Users/jamesnguyen/anaconda3/envs/torch/lib/python3.9/site-packages/gymnasium/utils/passive_env_checker.py:233: DeprecationWarning: `np.bool8` is a deprecated alias for `np.bool_`.  (Deprecated NumPy 1.24)\n",
      "  if not isinstance(terminated, (bool, np.bool8)):\n",
      "avg reward = -0.78:   1%|          | 67/10000 [00:49<2:02:15,  1.35it/s]\n"
     ]
    },
    {
     "ename": "ValueError",
     "evalue": "Expected parameter loc (Tensor of shape (1, 1)) of distribution Normal(loc: tensor([[nan]], grad_fn=<AddmmBackward0>), scale: tensor([[nan]], grad_fn=<SoftplusBackward0>)) to satisfy the constraint Real(), but found invalid values:\ntensor([[nan]], grad_fn=<AddmmBackward0>)",
     "output_type": "error",
     "traceback": [
      "\u001b[0;31m---------------------------------------------------------------------------\u001b[0m",
      "\u001b[0;31mValueError\u001b[0m                                Traceback (most recent call last)",
      "Cell \u001b[0;32mIn[12], line 22\u001b[0m\n\u001b[1;32m     19\u001b[0m optimA \u001b[38;5;241m=\u001b[39m torch\u001b[38;5;241m.\u001b[39moptim\u001b[38;5;241m.\u001b[39mAdam(actor\u001b[38;5;241m.\u001b[39mparameters(), lr \u001b[38;5;241m=\u001b[39m lr)\n\u001b[1;32m     20\u001b[0m optimC \u001b[38;5;241m=\u001b[39m torch\u001b[38;5;241m.\u001b[39moptim\u001b[38;5;241m.\u001b[39mAdam(critic\u001b[38;5;241m.\u001b[39mparameters(), lr \u001b[38;5;241m=\u001b[39m lr)\n\u001b[0;32m---> 22\u001b[0m \u001b[43ma2c\u001b[49m\u001b[43m(\u001b[49m\u001b[43menv\u001b[49m\u001b[43m,\u001b[49m\u001b[43m \u001b[49m\u001b[43mactor\u001b[49m\u001b[43m,\u001b[49m\u001b[43m \u001b[49m\u001b[43mcritic\u001b[49m\u001b[43m,\u001b[49m\u001b[43m \u001b[49m\u001b[43moptimA\u001b[49m\u001b[43m,\u001b[49m\u001b[43m \u001b[49m\u001b[43moptimC\u001b[49m\u001b[43m,\u001b[49m\u001b[43m \u001b[49m\u001b[43mtraining_epochs\u001b[49m\u001b[38;5;241;43m=\u001b[39;49m\u001b[43mtraining_epochs\u001b[49m\u001b[43m,\u001b[49m\u001b[43m \u001b[49m\u001b[43mmax_t\u001b[49m\u001b[43m \u001b[49m\u001b[38;5;241;43m=\u001b[39;49m\u001b[43m \u001b[49m\u001b[43mmax_t\u001b[49m\u001b[43m,\u001b[49m\u001b[43m \u001b[49m\u001b[43mgamma\u001b[49m\u001b[43m \u001b[49m\u001b[38;5;241;43m=\u001b[39;49m\u001b[43m \u001b[49m\u001b[43mgamma\u001b[49m\u001b[43m)\u001b[49m\n\u001b[1;32m     24\u001b[0m env\u001b[38;5;241m.\u001b[39mclose()\n",
      "Cell \u001b[0;32mIn[11], line 24\u001b[0m, in \u001b[0;36ma2c\u001b[0;34m(env, actor, critic, optimA, optimC, training_epochs, max_t, gamma, label, plot_update_freq)\u001b[0m\n\u001b[1;32m     22\u001b[0m \u001b[38;5;28;01mfor\u001b[39;00m t \u001b[38;5;129;01min\u001b[39;00m \u001b[38;5;28mrange\u001b[39m(max_t):\n\u001b[1;32m     23\u001b[0m     done \u001b[38;5;241m=\u001b[39m \u001b[38;5;28;01mFalse\u001b[39;00m\n\u001b[0;32m---> 24\u001b[0m     action, log_prob \u001b[38;5;241m=\u001b[39m \u001b[43mactor\u001b[49m\u001b[38;5;241;43m.\u001b[39;49m\u001b[43mact\u001b[49m\u001b[43m(\u001b[49m\u001b[43mstate\u001b[49m\u001b[43m)\u001b[49m\n\u001b[1;32m     25\u001b[0m     \u001b[38;5;66;03m# saved_log_probs_list.append(log_prob)\u001b[39;00m\n\u001b[1;32m     27\u001b[0m     state_value \u001b[38;5;241m=\u001b[39m critic(state)\n",
      "Cell \u001b[0;32mIn[5], line 38\u001b[0m, in \u001b[0;36mActorNet.act\u001b[0;34m(self, state)\u001b[0m\n\u001b[1;32m     36\u001b[0m state \u001b[38;5;241m=\u001b[39m torch\u001b[38;5;241m.\u001b[39mtensor(state)\u001b[38;5;241m.\u001b[39mfloat()\u001b[38;5;241m.\u001b[39munsqueeze(\u001b[38;5;241m0\u001b[39m)\u001b[38;5;241m.\u001b[39mto(\u001b[38;5;28mself\u001b[39m\u001b[38;5;241m.\u001b[39mdevice)\n\u001b[1;32m     37\u001b[0m mu, sigma \u001b[38;5;241m=\u001b[39m \u001b[38;5;28mself\u001b[39m(state)\n\u001b[0;32m---> 38\u001b[0m action_distribution \u001b[38;5;241m=\u001b[39m \u001b[43mtorch\u001b[49m\u001b[38;5;241;43m.\u001b[39;49m\u001b[43mdistributions\u001b[49m\u001b[38;5;241;43m.\u001b[39;49m\u001b[43mnormal\u001b[49m\u001b[38;5;241;43m.\u001b[39;49m\u001b[43mNormal\u001b[49m\u001b[43m(\u001b[49m\u001b[43mmu\u001b[49m\u001b[43m,\u001b[49m\u001b[43m \u001b[49m\u001b[43msigma\u001b[49m\u001b[43m)\u001b[49m\n\u001b[1;32m     39\u001b[0m action \u001b[38;5;241m=\u001b[39m action_distribution\u001b[38;5;241m.\u001b[39msample()\n\u001b[1;32m     40\u001b[0m action \u001b[38;5;241m=\u001b[39m torch\u001b[38;5;241m.\u001b[39mclamp(action, \u001b[38;5;28mself\u001b[39m\u001b[38;5;241m.\u001b[39maction_low, \u001b[38;5;28mself\u001b[39m\u001b[38;5;241m.\u001b[39maction_high)\n",
      "File \u001b[0;32m~/anaconda3/envs/torch/lib/python3.9/site-packages/torch/distributions/normal.py:56\u001b[0m, in \u001b[0;36mNormal.__init__\u001b[0;34m(self, loc, scale, validate_args)\u001b[0m\n\u001b[1;32m     54\u001b[0m \u001b[39melse\u001b[39;00m:\n\u001b[1;32m     55\u001b[0m     batch_shape \u001b[39m=\u001b[39m \u001b[39mself\u001b[39m\u001b[39m.\u001b[39mloc\u001b[39m.\u001b[39msize()\n\u001b[0;32m---> 56\u001b[0m \u001b[39msuper\u001b[39;49m()\u001b[39m.\u001b[39;49m\u001b[39m__init__\u001b[39;49m(batch_shape, validate_args\u001b[39m=\u001b[39;49mvalidate_args)\n",
      "File \u001b[0;32m~/anaconda3/envs/torch/lib/python3.9/site-packages/torch/distributions/distribution.py:68\u001b[0m, in \u001b[0;36mDistribution.__init__\u001b[0;34m(self, batch_shape, event_shape, validate_args)\u001b[0m\n\u001b[1;32m     66\u001b[0m         valid \u001b[39m=\u001b[39m constraint\u001b[39m.\u001b[39mcheck(value)\n\u001b[1;32m     67\u001b[0m         \u001b[39mif\u001b[39;00m \u001b[39mnot\u001b[39;00m valid\u001b[39m.\u001b[39mall():\n\u001b[0;32m---> 68\u001b[0m             \u001b[39mraise\u001b[39;00m \u001b[39mValueError\u001b[39;00m(\n\u001b[1;32m     69\u001b[0m                 \u001b[39mf\u001b[39m\u001b[39m\"\u001b[39m\u001b[39mExpected parameter \u001b[39m\u001b[39m{\u001b[39;00mparam\u001b[39m}\u001b[39;00m\u001b[39m \u001b[39m\u001b[39m\"\u001b[39m\n\u001b[1;32m     70\u001b[0m                 \u001b[39mf\u001b[39m\u001b[39m\"\u001b[39m\u001b[39m(\u001b[39m\u001b[39m{\u001b[39;00m\u001b[39mtype\u001b[39m(value)\u001b[39m.\u001b[39m\u001b[39m__name__\u001b[39m\u001b[39m}\u001b[39;00m\u001b[39m of shape \u001b[39m\u001b[39m{\u001b[39;00m\u001b[39mtuple\u001b[39m(value\u001b[39m.\u001b[39mshape)\u001b[39m}\u001b[39;00m\u001b[39m) \u001b[39m\u001b[39m\"\u001b[39m\n\u001b[1;32m     71\u001b[0m                 \u001b[39mf\u001b[39m\u001b[39m\"\u001b[39m\u001b[39mof distribution \u001b[39m\u001b[39m{\u001b[39;00m\u001b[39mrepr\u001b[39m(\u001b[39mself\u001b[39m)\u001b[39m}\u001b[39;00m\u001b[39m \u001b[39m\u001b[39m\"\u001b[39m\n\u001b[1;32m     72\u001b[0m                 \u001b[39mf\u001b[39m\u001b[39m\"\u001b[39m\u001b[39mto satisfy the constraint \u001b[39m\u001b[39m{\u001b[39;00m\u001b[39mrepr\u001b[39m(constraint)\u001b[39m}\u001b[39;00m\u001b[39m, \u001b[39m\u001b[39m\"\u001b[39m\n\u001b[1;32m     73\u001b[0m                 \u001b[39mf\u001b[39m\u001b[39m\"\u001b[39m\u001b[39mbut found invalid values:\u001b[39m\u001b[39m\\n\u001b[39;00m\u001b[39m{\u001b[39;00mvalue\u001b[39m}\u001b[39;00m\u001b[39m\"\u001b[39m\n\u001b[1;32m     74\u001b[0m             )\n\u001b[1;32m     75\u001b[0m \u001b[39msuper\u001b[39m()\u001b[39m.\u001b[39m\u001b[39m__init__\u001b[39m()\n",
      "\u001b[0;31mValueError\u001b[0m: Expected parameter loc (Tensor of shape (1, 1)) of distribution Normal(loc: tensor([[nan]], grad_fn=<AddmmBackward0>), scale: tensor([[nan]], grad_fn=<SoftplusBackward0>)) to satisfy the constraint Real(), but found invalid values:\ntensor([[nan]], grad_fn=<AddmmBackward0>)"
     ]
    }
   ],
   "source": [
    "training_epochs = 10000\n",
    "max_t = 1000\n",
    "gamma = 0.99\n",
    "lr = 1e-3\n",
    "hidden_size = 32\n",
    "\n",
    "device = DEVICE\n",
    "\n",
    "env = gym.make(ENV_NAME)\n",
    "obs, info = env.reset()\n",
    "\n",
    "state, action = env.observation_space, env.action_space\n",
    "print('state size = ', state.shape)\n",
    "print('action size = ', action.shape)\n",
    "\n",
    "# model = PolicyNet(state_size, action_size, hidden_size = 16, device = 'cpu')\n",
    "actor = ActorNet(state, action, hidden_size = hidden_size, device = device)\n",
    "critic = CriticNet(state, hidden_size = hidden_size, device = device)\n",
    "optimA = torch.optim.Adam(actor.parameters(), lr = lr)\n",
    "optimC = torch.optim.Adam(critic.parameters(), lr = lr)\n",
    "\n",
    "a2c(env, actor, critic, optimA, optimC, training_epochs=training_epochs, max_t = max_t, gamma = gamma)\n",
    "\n",
    "env.close()\n",
    "\n"
   ]
  },
  {
   "cell_type": "code",
   "execution_count": null,
   "metadata": {},
   "outputs": [],
   "source": [
    "training_epochs = 10000\n",
    "max_t = 1000\n",
    "gamma = 0.99\n",
    "lr = 5e-3\n",
    "hidden_size = 128\n",
    "\n",
    "device = DEVICE\n",
    "\n",
    "env = gym.make(ENV_NAME)\n",
    "obs, info = env.reset()\n",
    "state_size = len(obs)\n",
    "action_size = env.action_space.n\n",
    "print('state size = ', state_size)\n",
    "print('action size = ', action_size)\n",
    "\n",
    "# model = PolicyNet(state_size, action_size, hidden_size = 16, device = 'cpu')\n",
    "actor = ActorNet(state_size, action_size, hidden_size = hidden_size, device = device)\n",
    "critic = CriticNet(state_size, hidden_size = hidden_size, device = device)\n",
    "optimA = torch.optim.Adam(actor.parameters(), lr = lr)\n",
    "optimC = torch.optim.Adam(critic.parameters(), lr = lr)\n",
    "\n",
    "a2c(env, actor, critic, optimA, optimC, training_epochs=training_epochs, max_t = max_t, gamma = gamma, label = 'exp2')\n",
    "\n",
    "env.close()\n",
    "\n"
   ]
  },
  {
   "cell_type": "markdown",
   "metadata": {},
   "source": [
    "# Evaluate"
   ]
  },
  {
   "cell_type": "code",
   "execution_count": null,
   "metadata": {},
   "outputs": [],
   "source": [
    "env = gym.make(ENV_NAME)\n",
    "rewards = []\n",
    "\n",
    "LOAD_PATH = os.path.join(OUTPUT, 'baseline', 'actor.final.torch')\n",
    "eval_net = torch.load(LOAD_PATH)\n",
    "\n",
    "loop = tqdm(range(100))\n",
    "total_rewards = []\n",
    "\n",
    "for epoch in loop:\n",
    "    state, info = env.reset()\n",
    "    total_reward = 0\n",
    "\n",
    "    for t in range(max_t):\n",
    "\n",
    "        action, log_prob = eval_net.act(state)\n",
    "        state, reward, terminated, truncated, info = env.step(action)\n",
    "        total_reward += 1\n",
    "        if terminated or truncated:\n",
    "            break\n",
    "    \n",
    "    total_rewards.append(total_reward)\n",
    "    loop.set_description(f'reward = {total_reward:.2f}')\n",
    "    \n",
    "sns.lineplot(y = total_rewards, x= list(range(len(total_rewards))))"
   ]
  },
  {
   "cell_type": "markdown",
   "metadata": {},
   "source": [
    "# References\n",
    "\n",
    "https://github.com/zzzxxxttt/pytorch_simple_RL\n",
    "\n",
    "https://www.youtube.com/watch?v=kWHSH2HgbNQ"
   ]
  },
  {
   "cell_type": "code",
   "execution_count": null,
   "metadata": {},
   "outputs": [],
   "source": []
  }
 ],
 "metadata": {
  "kernelspec": {
   "display_name": "Python 3.9.18 ('torch')",
   "language": "python",
   "name": "python3"
  },
  "language_info": {
   "codemirror_mode": {
    "name": "ipython",
    "version": 3
   },
   "file_extension": ".py",
   "mimetype": "text/x-python",
   "name": "python",
   "nbconvert_exporter": "python",
   "pygments_lexer": "ipython3",
   "version": "3.9.18"
  },
  "orig_nbformat": 4,
  "vscode": {
   "interpreter": {
    "hash": "af18273774455bc90f5456b9f4898eab7ba4de506fde0c1d0784da333c7e8bbc"
   }
  }
 },
 "nbformat": 4,
 "nbformat_minor": 2
}
