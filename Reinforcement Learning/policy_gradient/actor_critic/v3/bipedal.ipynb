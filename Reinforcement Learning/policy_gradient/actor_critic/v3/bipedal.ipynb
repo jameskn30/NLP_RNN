{
 "cells": [
  {
   "cell_type": "markdown",
   "metadata": {},
   "source": [
    "# Import"
   ]
  },
  {
   "cell_type": "code",
   "execution_count": 89,
   "metadata": {},
   "outputs": [],
   "source": [
    "import gymnasium as gym\n",
    "import seaborn as sns\n",
    "import os\n",
    "from collections import deque, Counter, namedtuple, defaultdict\n",
    "import random\n",
    "from matplotlib import pyplot as plt\n",
    "import warnings\n",
    "warnings.simplefilter(action='ignore', category=FutureWarning)\n",
    "warnings.simplefilter(action='ignore', category=UserWarning)\n",
    "import torch\n",
    "from torch import nn\n",
    "from torch.nn import init\n",
    "import torch.nn.functional as F\n",
    "from torch.distributions import Categorical\n",
    "import math\n",
    "from itertools import count\n",
    "from tqdm import tqdm\n",
    "import numpy as np\n",
    "import time\n",
    "import uuid\n"
   ]
  },
  {
   "cell_type": "markdown",
   "metadata": {},
   "source": [
    "# params"
   ]
  },
  {
   "cell_type": "code",
   "execution_count": 90,
   "metadata": {},
   "outputs": [],
   "source": [
    "DEVICE = \"cpu\"\n",
    "ROOT = os.getcwd()\n",
    "ENV_NAME = 'BipedalWalker-v3'\n",
    "EXP_NAME = f'{ENV_NAME}.continuous'\n",
    "OUTPUT = os.path.join(ROOT, 'output', EXP_NAME)\n",
    "NORMALIZER_FILE = os.path.join(OUTPUT, 'normalizer.pickle')\n",
    "\n",
    "if os.path.exists(OUTPUT) == False:\n",
    "    os.makedirs(OUTPUT)\n"
   ]
  },
  {
   "cell_type": "markdown",
   "metadata": {},
   "source": [
    "# test model"
   ]
  },
  {
   "cell_type": "code",
   "execution_count": 91,
   "metadata": {},
   "outputs": [
    {
     "name": "stderr",
     "output_type": "stream",
     "text": [
      "  0%|          | 0/10 [00:00<?, ?it/s]/Users/jamesnguyen/anaconda3/envs/torch/lib/python3.9/site-packages/gymnasium/utils/passive_env_checker.py:233: DeprecationWarning: `np.bool8` is a deprecated alias for `np.bool_`.  (Deprecated NumPy 1.24)\n",
      "  if not isinstance(terminated, (bool, np.bool8)):\n",
      "100%|██████████| 10/10 [00:01<00:00,  9.28it/s]"
     ]
    },
    {
     "name": "stdout",
     "output_type": "stream",
     "text": [
      "sample action = [-0.18936218 -0.7448474  -0.15527512 -0.7353029 ], shape = (4,)\n"
     ]
    },
    {
     "name": "stderr",
     "output_type": "stream",
     "text": [
      "\n"
     ]
    },
    {
     "data": {
      "image/png": "[encoded data removed]",
      "text/plain": [
       "<Figure size 640x480 with 1 Axes>"
      ]
     },
     "metadata": {},
     "output_type": "display_data"
    }
   ],
   "source": [
    "env = gym.make(ENV_NAME)\n",
    "obs, info = env.reset()\n",
    "\n",
    "rewards = []\n",
    "for ep in tqdm(range(10)):\n",
    "    obs, info = env.reset()\n",
    "    total_reward = 0\n",
    "\n",
    "    for t in count():\n",
    "        action = env.action_space.sample()\n",
    "        state, reward, terminated, truncated, info = env.step(action)\n",
    "        total_reward += reward\n",
    "        if terminated or truncated: \n",
    "            break\n",
    "    \n",
    "    rewards.append(total_reward)\n",
    "\n",
    "\n",
    "print(f'sample action = {action}, shape = {action.shape}')\n",
    "sns.lineplot(y = rewards, x = list(range(len(rewards))))\n",
    "plt.show()\n",
    "env.close()"
   ]
  },
  {
   "cell_type": "markdown",
   "metadata": {},
   "source": [
    "# model"
   ]
  },
  {
   "cell_type": "code",
   "execution_count": 92,
   "metadata": {},
   "outputs": [],
   "source": [
    "class LinearNet(nn.Module):\n",
    "\n",
    "    def __init__(self, input_size, output_size, hidden_size = 64) -> None:\n",
    "        super().__init__()\n",
    "\n",
    "        self.input_size = input_size\n",
    "        self.output_size = output_size\n",
    "        self.hidden_size = hidden_size\n",
    "\n",
    "        self.fc1 = nn.Linear(input_size, hidden_size)\n",
    "        self.fc2 = nn.Linear(hidden_size, hidden_size)\n",
    "        self.fc3 = nn.Linear(hidden_size, output_size)\n",
    "\n",
    "    def forward(self, X):\n",
    "        if torch.is_tensor(X) == False: \n",
    "            X = torch.tensor(X).float()\n",
    "        X = F.relu(self.fc1(X))\n",
    "        X = F.relu(self.fc2(X))\n",
    "        return self.fc3(X)\n",
    "    "
   ]
  },
  {
   "cell_type": "code",
   "execution_count": 101,
   "metadata": {},
   "outputs": [],
   "source": [
    "class PPOAgent():\n",
    "\n",
    "    def __init__(self, \n",
    "            env: gym.Env,\n",
    "            timesteps_per_batch = 4500,\n",
    "            max_timesteps_per_episode = 1600,\n",
    "            gamma = 0.95,\n",
    "            n_updates_per_iterations = 5,\n",
    "            clip = 0.2,\n",
    "            lr = 5e-3,\n",
    "        ):\n",
    "\n",
    "        self.env = env\n",
    "        self.state_size = env.observation_space.shape[0]\n",
    "        self.action_size = env.action_space.shape[0]\n",
    "        #hyperparams\n",
    "        self.timesteps_per_batch = timesteps_per_batch\n",
    "        self.max_timesteps_per_episode = max_timesteps_per_episode\n",
    "        self.gamma = gamma\n",
    "        self.n_updates_per_iterations = n_updates_per_iterations\n",
    "        self.clip = clip\n",
    "        self.lr = lr\n",
    "\n",
    "        self.avg_score = deque(maxlen=100)\n",
    "\n",
    "        self.actor = LinearNet(self.state_size, self.action_size)\n",
    "        self.optimA = torch.optim.Adam(self.actor.parameters(), lr = self.lr)\n",
    "\n",
    "        self.critic = LinearNet(self.state_size, 1)\n",
    "        self.optimC = torch.optim.Adam(self.critic.parameters(), lr = self.lr)\n",
    "\n",
    "        #create variable matrix\n",
    "        # NOTE: study covariance variable, fill with 0.5 values\n",
    "        self.covariance_variable = torch.full(size = (self.action_size,), fill_value = 0.5)\n",
    "        self.covariance_matrix = torch.diag(self.covariance_variable)\n",
    "        self.label = str(uuid.uuid4()).split('-')[0]\n",
    "        print('run id = ', self.label)\n",
    "\n",
    "        #make output\n",
    "\n",
    "        self.history = defaultdict(list)\n",
    "        self.SAVE_PATH = os.path.join(OUTPUT, self.label)\n",
    "        self.FIG_SAVE_PATH = os.path.join(self.SAVE_PATH, 'plot.png')\n",
    "        if os.path.exists(self.SAVE_PATH) == False:\n",
    "            print(f'output folder: {self.SAVE_PATH}')\n",
    "            os.makedirs(self.SAVE_PATH)\n",
    "\n",
    "    def get_action(self, observation):\n",
    "        mean = self.actor(observation)\n",
    "        distribution = torch.distributions.MultivariateNormal(mean, self.covariance_matrix)\n",
    "        action = distribution.sample()\n",
    "        log_prob = distribution.log_prob(action)\n",
    "\n",
    "        return action.detach().numpy(), log_prob.detach()\n",
    "    \n",
    "    def compute_returns(self, batch_rewards):\n",
    "        batch_returns = []\n",
    "        for ep_rewards in reversed(batch_rewards):\n",
    "            discounted_rewards = 0\n",
    "\n",
    "            for reward in reversed(ep_rewards):\n",
    "                discounted_rewards = reward + discounted_rewards * self.gamma\n",
    "                batch_returns.insert(0, discounted_rewards)\n",
    "        batch_returns = torch.tensor(batch_returns).float()\n",
    "\n",
    "        return batch_returns\n",
    "    \n",
    "    def evaluate(self, batch_observations, batch_actions):\n",
    "        mean = self.actor(batch_observations)\n",
    "\n",
    "        distribution = torch.distributions.MultivariateNormal(mean, self.covariance_matrix)\n",
    "        \n",
    "        log_probs = distribution.log_prob(batch_actions)\n",
    "\n",
    "        values = self.critic(batch_observations).squeeze()\n",
    "\n",
    "        return values, log_probs\n",
    "\n",
    "    def plot(self, show = False, save_path = None):\n",
    "        sns.lineplot(y = self.history['reward'], x = list(range(len(self.history['reward']))))\n",
    "\n",
    "        if save_path != None:\n",
    "            plt.savefig(save_path)\n",
    "        if show:\n",
    "            plt.show()\n",
    "            \n",
    "        plt.clf()\n",
    "        plt.close()\n",
    "\n",
    "\n",
    "    def rollout(self):\n",
    "        batch_observations = []\n",
    "        batch_actions = []\n",
    "        batch_log_probs = []\n",
    "        batch_rewards = []\n",
    "        batch_returns = []\n",
    "        batch_lengths = [] # episodic lengths in batch\n",
    "\n",
    "        t = 0\n",
    "\n",
    "        while t < self.timesteps_per_batch:\n",
    "\n",
    "            episodic_rewards= []\n",
    "\n",
    "            observation, info = self.env.reset()\n",
    "\n",
    "            for ep_t in range(self.max_timesteps_per_episode):\n",
    "\n",
    "                batch_observations.append(observation)\n",
    "\n",
    "                action, log_prob = self.get_action(observation)\n",
    "                observation, reward, terminated, truncated, info = self.env.step(action)\n",
    "\n",
    "                episodic_rewards.append(reward)\n",
    "                batch_actions.append(action)\n",
    "                batch_log_probs.append(log_prob)\n",
    "\n",
    "                if terminated or truncated: break\n",
    "            \n",
    "            t += ep_t\n",
    "\n",
    "            self.avg_score.append(np.sum(episodic_rewards))\n",
    "            batch_lengths.append(ep_t + 1)\n",
    "            batch_rewards.append(episodic_rewards)\n",
    "\n",
    "        batch_observations = torch.tensor(batch_observations).float()\n",
    "        batch_actions = torch.tensor(batch_actions).float()\n",
    "        batch_log_probs = torch.tensor(batch_log_probs).float()\n",
    "        batch_returns = self.compute_returns(batch_rewards)\n",
    "\n",
    "        return batch_observations, batch_actions, batch_log_probs, batch_returns, batch_lengths\n",
    "\n",
    "    def learn(self, training_epochs = int(1e3)):\n",
    "        \n",
    "        loop = tqdm(range(training_epochs))\n",
    "        # ep_rewards = []\n",
    "\n",
    "        t_so_far = 0\n",
    "        best_score = -float('inf')\n",
    "\n",
    "        for epoch in loop:\n",
    "            batch_observations, batch_actions, batch_log_probs, batch_returns, batch_lengths = self.rollout()\n",
    "            # print('batch observations = ', batch_observations.shape)\n",
    "            # print('batch actions = ', batch_actions.shape)\n",
    "            # print('batch log probs = ', batch_log_probs.shape)\n",
    "            # print('batch returns = ', batch_returns.shape)\n",
    "            # print('batch lengths = ', len(batch_returns))\n",
    "\n",
    "            values, _ = self.evaluate(batch_observations, batch_actions)\n",
    "\n",
    "            advantage = batch_returns - values.detach()\n",
    "\n",
    "            #normalization for numerical stability\n",
    "            advantage = (advantage - advantage.mean()) / (advantage.std() + 1e-10)\n",
    "\n",
    "            for _ in range(self.n_updates_per_iterations):\n",
    "                current_values, current_log_probs = self.evaluate(batch_observations, batch_actions)\n",
    "\n",
    "                #pre-calculus trick to remove the log\n",
    "                ratios = torch.exp(current_log_probs - batch_log_probs)\n",
    "\n",
    "                surr1 = ratios * advantage\n",
    "                surr2 = torch.clamp(ratios, 1 - self.clip, 1 + self.clip) * advantage\n",
    "\n",
    "                #update actor\n",
    "                #take mean\n",
    "                actor_loss = (-torch.min(surr1, surr2)).mean()\n",
    "\n",
    "                self.optimA.zero_grad()\n",
    "                actor_loss.backward(retain_graph=True)\n",
    "                self.optimA.step()\n",
    "\n",
    "                #update critic\n",
    "                critic_loss = F.mse_loss(current_values, batch_returns)\n",
    "\n",
    "                self.optimC.zero_grad()\n",
    "                critic_loss.backward()\n",
    "                self.optimC.step()\n",
    "            \n",
    "            t_so_far += np.sum(batch_lengths)\n",
    "\n",
    "            #print some stats\n",
    "            avg_reward = np.mean(self.avg_score)\n",
    "\n",
    "            self.history['reward'].append(avg_reward)\n",
    "            # print('hello')\n",
    "            loop.set_description(f'rewards = {avg_reward:.2f}, total timestep = {t_so_far}')\n",
    "\n",
    "            if best_score <= avg_reward:\n",
    "                best_score = avg_reward\n",
    "                torch.save(self.actor, os.path.join(self.SAVE_PATH, 'actor.checkpoint.torch'))\n",
    "                torch.save(self.critic, os.path.join(self.SAVE_PATH, 'critic.checkpoint.torch'))\n",
    "        \n",
    "            if epoch % 10 == 0:\n",
    "                self.plot(save_path=self.FIG_SAVE_PATH)\n",
    "        \n",
    "        self.plot(save_path=self.FIG_SAVE_PATH, show = True)\n"
   ]
  },
  {
   "cell_type": "markdown",
   "metadata": {},
   "source": [
    "# run PPO"
   ]
  },
  {
   "cell_type": "code",
   "execution_count": 102,
   "metadata": {},
   "outputs": [
    {
     "name": "stdout",
     "output_type": "stream",
     "text": [
      "run id =  f587c3cf\n",
      "output folder: /Volumes/SanDisk/NLP_RNN/Reinforcement Learning/policy_gradient/actor_critic/v3/output/BipedalWalker-v3.continuous/f587c3cf\n"
     ]
    },
    {
     "name": "stderr",
     "output_type": "stream",
     "text": [
      "  0%|          | 0/2000 [00:00<?, ?it/s]/Users/jamesnguyen/anaconda3/envs/torch/lib/python3.9/site-packages/gymnasium/utils/passive_env_checker.py:233: DeprecationWarning: `np.bool8` is a deprecated alias for `np.bool_`.  (Deprecated NumPy 1.24)\n",
      "  if not isinstance(terminated, (bool, np.bool8)):\n",
      "rewards = 131.84, total timestep = 7409776:  76%|███████▌  | 1512/2000 [1:06:27<14:31,  1.79s/it]  "
     ]
    }
   ],
   "source": [
    "env = gym.make(ENV_NAME)\n",
    "ppo = PPOAgent(env)\n",
    "\n",
    "ppo.learn(training_epochs=2000)"
   ]
  },
  {
   "cell_type": "markdown",
   "metadata": {},
   "source": [
    "# Evaluate "
   ]
  },
  {
   "cell_type": "code",
   "execution_count": 96,
   "metadata": {},
   "outputs": [
    {
     "name": "stderr",
     "output_type": "stream",
     "text": [
      "  0%|          | 0/5 [00:00<?, ?it/s]/Users/jamesnguyen/anaconda3/envs/torch/lib/python3.9/site-packages/gymnasium/utils/passive_env_checker.py:233: DeprecationWarning: `np.bool8` is a deprecated alias for `np.bool_`.  (Deprecated NumPy 1.24)\n",
      "  if not isinstance(terminated, (bool, np.bool8)):\n",
      "reward = -123.19: 100%|██████████| 5/5 [01:13<00:00, 14.78s/it]\n"
     ]
    },
    {
     "data": {
      "text/plain": [
       "<Axes: >"
      ]
     },
     "execution_count": 96,
     "metadata": {},
     "output_type": "execute_result"
    },
    {
     "data": {
      "image/png": "[encoded data removed]",
      "text/plain": [
       "<Figure size 640x480 with 1 Axes>"
      ]
     },
     "metadata": {},
     "output_type": "display_data"
    }
   ],
   "source": [
    "env = gym.make(ENV_NAME, render_mode= 'human')\n",
    "rewards = []\n",
    "\n",
    "# net = torch.load('best_target_net.torch')\n",
    "LOAD_PATH = os.path.join(OUTPUT, 'test', 'actor.checkpoint.torch')\n",
    "eval_net = torch.load(LOAD_PATH)\n",
    "\n",
    "loop = tqdm(range(5))\n",
    "total_rewards = []\n",
    "\n",
    "for epoch in loop:\n",
    "    state, info = env.reset()\n",
    "    total_reward = 0\n",
    "\n",
    "    for t in count():\n",
    "\n",
    "        action, log_prob = ppo.get_action(state)\n",
    "        state, reward, terminated, truncated, info = env.step(action)\n",
    "        total_reward += reward\n",
    "        if terminated or truncated:\n",
    "            print('episode done')\n",
    "            break\n",
    "    \n",
    "    total_rewards.append(total_reward)\n",
    "    loop.set_description(f'reward = {total_reward:.2f}')\n",
    "    \n",
    "sns.lineplot(y = total_rewards, x= list(range(len(total_rewards))))\n",
    "env.close()"
   ]
  }
 ],
 "metadata": {
  "kernelspec": {
   "display_name": "Python 3.9.18 ('torch')",
   "language": "python",
   "name": "python3"
  },
  "language_info": {
   "codemirror_mode": {
    "name": "ipython",
    "version": 3
   },
   "file_extension": ".py",
   "mimetype": "text/x-python",
   "name": "python",
   "nbconvert_exporter": "python",
   "pygments_lexer": "ipython3",
   "version": "3.9.18"
  },
  "orig_nbformat": 4,
  "vscode": {
   "interpreter": {
    "hash": "af18273774455bc90f5456b9f4898eab7ba4de506fde0c1d0784da333c7e8bbc"
   }
  }
 },
 "nbformat": 4,
 "nbformat_minor": 2
}
