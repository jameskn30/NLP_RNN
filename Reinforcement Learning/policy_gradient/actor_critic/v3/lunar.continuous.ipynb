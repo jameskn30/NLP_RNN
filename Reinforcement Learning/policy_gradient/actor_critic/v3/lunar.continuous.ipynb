{
 "cells": [
  {
   "cell_type": "markdown",
   "metadata": {},
   "source": [
    "# Import"
   ]
  },
  {
   "cell_type": "code",
   "execution_count": 1,
   "metadata": {},
   "outputs": [],
   "source": [
    "import gymnasium as gym\n",
    "import seaborn as sns\n",
    "import os\n",
    "from collections import deque, Counter, namedtuple, defaultdict\n",
    "import random\n",
    "from matplotlib import pyplot as plt\n",
    "import warnings\n",
    "warnings.simplefilter(action='ignore', category=FutureWarning)\n",
    "warnings.simplefilter(action='ignore', category=UserWarning)\n",
    "import torch\n",
    "from torch import nn\n",
    "from torch.nn import init\n",
    "import torch.nn.functional as F\n",
    "from torch.distributions import Categorical\n",
    "import pickle\n",
    "from sklearn.preprocessing import Normalizer\n",
    "from sklearn.pipeline import make_pipeline\n",
    "\n",
    "import math\n",
    "from itertools import count\n",
    "from tqdm import tqdm\n",
    "import numpy as np\n",
    "import time\n",
    "import uuid\n"
   ]
  },
  {
   "cell_type": "markdown",
   "metadata": {},
   "source": [
    "# Global params"
   ]
  },
  {
   "cell_type": "code",
   "execution_count": 2,
   "metadata": {},
   "outputs": [],
   "source": [
    "DEVICE = \"cpu\"\n",
    "ROOT = os.getcwd()\n",
    "ENV_NAME = 'LunarLander-v2'\n",
    "ENV_ARGS = {\n",
    "    'continuous': True\n",
    "}\n",
    "EXP_NAME = f'{ENV_NAME}.continuous'\n",
    "OUTPUT = os.path.join(ROOT, 'output', EXP_NAME)\n",
    "NORMALIZER_FILE = os.path.join(OUTPUT, 'normalizer.pickle')\n",
    "\n",
    "if os.path.exists(OUTPUT) == False:\n",
    "    os.makedirs(OUTPUT)\n"
   ]
  },
  {
   "cell_type": "markdown",
   "metadata": {},
   "source": [
    "# Test env"
   ]
  },
  {
   "cell_type": "code",
   "execution_count": 3,
   "metadata": {},
   "outputs": [
    {
     "name": "stderr",
     "output_type": "stream",
     "text": [
      "100%|██████████| 10/10 [00:00<00:00, 159.88it/s]"
     ]
    },
    {
     "name": "stdout",
     "output_type": "stream",
     "text": [
      "action =  [0.928786  0.8056114]\n",
      "action shape =  (2,)\n"
     ]
    },
    {
     "name": "stderr",
     "output_type": "stream",
     "text": [
      "\n"
     ]
    },
    {
     "data": {
      "image/png": "[encoded data removed]",
      "text/plain": [
       "<Figure size 640x480 with 1 Axes>"
      ]
     },
     "metadata": {},
     "output_type": "display_data"
    }
   ],
   "source": [
    "env = gym.make(ENV_NAME, **ENV_ARGS)\n",
    "obs, info = env.reset()\n",
    "\n",
    "rewards = []\n",
    "for ep in tqdm(range(10)):\n",
    "    obs, info = env.reset()\n",
    "    total_reward = 0\n",
    "\n",
    "    for t in count():\n",
    "        action = env.action_space.sample()\n",
    "        state, reward, terminated, truncated, info = env.step(action)\n",
    "        total_reward += reward\n",
    "        if terminated or truncated: \n",
    "            break\n",
    "    \n",
    "    rewards.append(total_reward)\n",
    "\n",
    "\n",
    "print('action = ', action)\n",
    "print('action shape = ', action.shape)\n",
    "sns.lineplot(y = rewards, x = list(range(len(rewards))))\n",
    "plt.show()\n",
    "env.close()"
   ]
  },
  {
   "cell_type": "markdown",
   "metadata": {},
   "source": [
    "# Try normalization"
   ]
  },
  {
   "cell_type": "code",
   "execution_count": 4,
   "metadata": {},
   "outputs": [],
   "source": [
    "# def create_normalizer(env, save_path, collect_steps = int(1e5)):\n",
    "#     normalizer = Normalizer()\n",
    "#     state, info = env.reset()\n",
    "#     states = []\n",
    "\n",
    "#     for t in tqdm(range(collect_steps)):\n",
    "#         action = env.action_space.sample()\n",
    "#         state, reward, terminated, truncated, info = env.step(action)\n",
    "\n",
    "#         states.append(state)\n",
    "\n",
    "#         if terminated or truncated: \n",
    "#             state,info = env.reset()\n",
    "#     states = np.vstack(states)    \n",
    "\n",
    "#     print('state shape = ', states.shape)\n",
    "#     normalizer.fit(states)\n",
    "\n",
    "#     state,info = env.reset()\n",
    "\n",
    "#     print('original state = ', state)\n",
    "#     state = normalizer.transform(state.reshape(1,-1))[0]\n",
    "#     print('normalized state = ', state)\n",
    "\n",
    "#     with open(save_path, 'wb') as file:\n",
    "#         pickle.dump(normalizer, file)\n",
    "    \n",
    "#     return normalizer\n",
    "\n",
    "# def load_normalizer(path):\n",
    "#     with open(path, 'rb') as file:\n",
    "#         normalizer = pickle.load(file)\n",
    "#         return normalizer\n",
    "\n",
    "# env = gym.make(ENV_NAME, **ENV_ARGS)\n",
    "# normalizer = create_normalizer(env, NORMALIZER_FILE)\n",
    "# # normalizer = load_normalizer(NORMALIZER_FILE)\n"
   ]
  },
  {
   "cell_type": "code",
   "execution_count": 5,
   "metadata": {},
   "outputs": [],
   "source": [
    "# def transform(state, normalizer):\n",
    "#     return normalizer.transform(state.reshape(1,-1))[0]"
   ]
  },
  {
   "cell_type": "markdown",
   "metadata": {},
   "source": [
    "# Actor and Critic Net"
   ]
  },
  {
   "cell_type": "code",
   "execution_count": 6,
   "metadata": {},
   "outputs": [],
   "source": [
    "class ActorNet(nn.Module):\n",
    "\n",
    "    def __init__(self, state, action, device, hidden_size = 64, lr = 1e-3, grad_clip = 1.0, std = 0.1):\n",
    "        super().__init__()\n",
    "        self.state = state\n",
    "        self.action = action\n",
    "        self.grad_clip = grad_clip\n",
    "\n",
    "        state_shape = state.shape\n",
    "        action_shape = action.shape\n",
    "\n",
    "        self.device = device\n",
    "        self.lr = lr\n",
    "\n",
    "        self.action_low = torch.tensor(action.low)\n",
    "        self.action_high = torch.tensor(action.high)\n",
    "\n",
    "        self.device = device\n",
    "        self.base = nn.Sequential(\n",
    "            nn.Linear(state_shape[0], hidden_size) ,\n",
    "            nn.ReLU(),\n",
    "            nn.Linear(hidden_size, hidden_size) ,\n",
    "            nn.ReLU(),\n",
    "        )\n",
    "\n",
    "        self.fc_mu = nn.Linear(hidden_size, action_shape[0])\n",
    "        # self.fc_sigma = nn.Linear(hidden_size, action_shape[0])\n",
    "        self.logstd = torch.full(size= action.shape, fill_value=std)\n",
    "\n",
    "        # init.xavier_normal_(self.fc1.weight)\n",
    "        init.xavier_normal_(self.fc_mu.weight)\n",
    "        # init.xavier_normal_(self.fc_sigma.weight)\n",
    "\n",
    "        self.optimizer = torch.optim.Adam(self.parameters(), lr = lr)\n",
    "        self.to(device)\n",
    "\n",
    "    def forward(self, X):\n",
    "        X = self.base(X)\n",
    "        return self.fc_mu(X)\n",
    "        # sigma = F.softplus(self.fc_sigma(X) + 1e-5)\n",
    "        # return mu, sigma\n",
    "    \n",
    "    def act(self, state):\n",
    "        state = torch.tensor(state).float().unsqueeze(0).to(self.device)\n",
    "        mean = self(state)\n",
    "        # print(mean.shape)\n",
    "        # print(self.logstd.shape)\n",
    "\n",
    "        action_distribution = torch.distributions.normal.Normal(mean, self.logstd)\n",
    "        action = action_distribution.sample()\n",
    "        action = torch.clamp(action, self.action_low, self.action_high)\n",
    "        log_prob = action_distribution.log_prob(action)\n",
    "        #return the first (only in this case) batch\n",
    "        return action.numpy()[0], log_prob\n",
    "    \n",
    "    def learn(self, saved_log_probs, advantage):\n",
    "        actor_loss = (-saved_log_probs * advantage.detach()).sum()\n",
    "        self.optimizer.zero_grad()\n",
    "        actor_loss.backward()\n",
    "        nn.utils.clip_grad_norm_(self.parameters(), max_norm=self.grad_clip)\n",
    "        self.optimizer.step()\n"
   ]
  },
  {
   "cell_type": "code",
   "execution_count": 7,
   "metadata": {},
   "outputs": [],
   "source": [
    "class CriticNet(nn.Module):\n",
    "    def __init__(self, state, device, hidden_size = 64, lr = 1e-3, grad_clip = 1.0):\n",
    "        super().__init__()\n",
    "        self.state = state\n",
    "        self.lr = lr\n",
    "        self.grad_clip = grad_clip\n",
    "\n",
    "        self.base = nn.Sequential(\n",
    "            nn.Linear(state.shape[0], hidden_size),\n",
    "            nn.ReLU(),\n",
    "            nn.Linear(hidden_size, hidden_size),\n",
    "            nn.ReLU(),\n",
    "        )\n",
    "\n",
    "        self.fc3 = nn.Linear(hidden_size, 1) \n",
    "        self.device = device\n",
    "        self.optimizer = torch.optim.Adam(self.parameters(), lr = lr)\n",
    "\n",
    "        self.to(device)\n",
    "\n",
    "    def forward(self, state):\n",
    "        state = torch.tensor(state).float().unsqueeze(0).to(self.device)\n",
    "        # state = F.relu(self.fc1(state))\n",
    "        # state = F.relu(self.fc2(state))\n",
    "        state = self.base(state)\n",
    "        return self.fc3(state)\n",
    "    \n",
    "    def learn(self, returns, state_values):\n",
    "        critic_loss = F.mse_loss(returns, state_values)\n",
    "        self.optimizer.zero_grad()\n",
    "        critic_loss.backward()\n",
    "        nn.utils.clip_grad_norm_(self.parameters(), max_norm=self.grad_clip)\n",
    "        self.optimizer.step()\n"
   ]
  },
  {
   "cell_type": "code",
   "execution_count": 8,
   "metadata": {},
   "outputs": [
    {
     "name": "stdout",
     "output_type": "stream",
     "text": [
      "state size =  (8,)\n",
      "action size =  (2,)\n",
      "action =  [ 0.08675441 -0.32076713]\n",
      "action prob =  tensor([[-1.4453e+00,  1.1965e-03]], grad_fn=<SubBackward0>)\n",
      "value =  tensor([[0.0583]], grad_fn=<AddmmBackward0>)\n"
     ]
    }
   ],
   "source": [
    "# Test model\n",
    "env = gym.make(ENV_NAME, **ENV_ARGS)\n",
    "obs, info = env.reset()\n",
    "state, action = env.observation_space, env.action_space\n",
    "\n",
    "print('state size = ', state.shape)\n",
    "print('action size = ', action.shape)\n",
    "\n",
    "actor = ActorNet(state, action, device = DEVICE)\n",
    "critic = CriticNet(state, device = DEVICE)\n",
    "\n",
    "# obs = transform(obs, normalizer)\n",
    "action, action_prob = actor.act(obs)\n",
    "print('action = ', action)\n",
    "print('action prob = ', action_prob)\n",
    "\n",
    "value = critic(obs)\n",
    "print('value = ', value)\n",
    "\n",
    "env.close()"
   ]
  },
  {
   "cell_type": "markdown",
   "metadata": {},
   "source": [
    "# Compute returns"
   ]
  },
  {
   "cell_type": "code",
   "execution_count": 9,
   "metadata": {},
   "outputs": [],
   "source": [
    "def compute_returns(rewards, gamma):\n",
    "    returns = deque(maxlen = len(rewards))\n",
    "    #compute cummulative reward\n",
    "    num_steps = len(rewards)\n",
    "\n",
    "    for t in reversed(range(num_steps)):\n",
    "        G_t = returns[0] if len(returns) > 0 else 0\n",
    "        returns.appendleft(gamma * G_t + rewards[t])\n",
    "\n",
    "    #standardization of returns to make training more stable\n",
    "    eps = np.finfo(np.float32).eps.item()\n",
    "    returns = torch.tensor(returns).float()\n",
    "    returns = (returns - returns.mean())/(returns.std() + eps)\n",
    "\n",
    "    return returns\n"
   ]
  },
  {
   "cell_type": "code",
   "execution_count": 10,
   "metadata": {},
   "outputs": [
    {
     "name": "stdout",
     "output_type": "stream",
     "text": [
      "1.1920928955078125e-07\n"
     ]
    }
   ],
   "source": [
    "print(np.finfo(np.float32).eps.item())"
   ]
  },
  {
   "cell_type": "markdown",
   "metadata": {},
   "source": [
    "# A2C algo"
   ]
  },
  {
   "cell_type": "code",
   "execution_count": 11,
   "metadata": {},
   "outputs": [
    {
     "name": "stdout",
     "output_type": "stream",
     "text": [
      "817c44ee-1ca9-4e74-9902-80560c9d26ba\n"
     ]
    }
   ],
   "source": [
    "id = str(uuid.uuid4())\n",
    "print(id)"
   ]
  },
  {
   "cell_type": "code",
   "execution_count": 12,
   "metadata": {},
   "outputs": [],
   "source": [
    "def a2c(env, actor: ActorNet, critic: CriticNet, training_epochs, max_t, gamma , plot_update_freq = 50, label = None):\n",
    "    if label == None:\n",
    "        label = str(uuid.uuid4()).split('-')[0]\n",
    "    print('experiment ID = ', label)\n",
    "\n",
    "    SAVE_PATH = os.path.join(OUTPUT, label)\n",
    "        \n",
    "    FIG_SAVE_PATH = os.path.join(SAVE_PATH, 'plot.png')\n",
    "    if os.path.exists(SAVE_PATH) == False:\n",
    "        os.makedirs(SAVE_PATH)\n",
    "\n",
    "    config = f'training_epochs={str(training_epochs)}\\nmax_t={str(max_t)}\\ngamma={str(gamma)}\\nactor_lr={str(actor.lr)}\\ncritic_lr={critic.lr}'\n",
    "    with open(os.path.join(SAVE_PATH, 'config.txt'), 'w') as file:\n",
    "        file.write(config)\n",
    "\n",
    "    scores_deque = deque(maxlen = 100)\n",
    "    history = defaultdict(list)\n",
    "    loop = tqdm(range(training_epochs))\n",
    "    best_score = -float('inf')\n",
    "\n",
    "    for e in loop:\n",
    "\n",
    "        saved_log_probs = []\n",
    "        rewards = []\n",
    "        state, info = env.reset()\n",
    "        dones = []\n",
    "        state_values = []\n",
    "\n",
    "        for t in count():\n",
    "            done = False\n",
    "            #normalize state\n",
    "            action, log_prob = actor.act(state)\n",
    "            saved_log_probs.append(log_prob)\n",
    "\n",
    "            state_value = critic(state)\n",
    "            state_values.append(state_value.squeeze(0))\n",
    "\n",
    "            state, reward, terminated, truncated, info = env.step(action)\n",
    "            rewards.append(reward)\n",
    "\n",
    "            if terminated or truncated:\n",
    "                done = True\n",
    "                break\n",
    "                \n",
    "            dones.append(done)\n",
    "        \n",
    "        #update actor\n",
    "        scores_deque.append(sum(rewards))\n",
    "        avg_reward = np.mean(scores_deque)\n",
    "\n",
    "        state_values = torch.cat(state_values)\n",
    "        saved_log_probs = torch.cat(saved_log_probs)\n",
    "\n",
    "        history['reward'].append(avg_reward)\n",
    "\n",
    "        #optimize critic net\n",
    "\n",
    "        returns = compute_returns(rewards, gamma)\n",
    "        # print('state_values  = ', state_values.shape)\n",
    "        # print('log probs = ', saved_log_probs.shape)\n",
    "\n",
    "        critic.learn(returns, state_values)\n",
    "\n",
    "        # print('returns = ', returns.shape)\n",
    "\n",
    "        #optimize actor net\n",
    "        \n",
    "        advantage = (returns - state_values).unsqueeze(1)\n",
    "        # print('advantage = ', advantage.shape)\n",
    "\n",
    "        actor.learn(saved_log_probs, advantage)\n",
    "\n",
    "        #statistics and saving checkpoint\n",
    "        loop.set_description(f'avg reward = {avg_reward:.2f}')\n",
    "\n",
    "        if best_score <= avg_reward:\n",
    "            best_score = avg_reward\n",
    "            torch.save(actor, os.path.join(SAVE_PATH, 'actor.checkpoint.torch'))\n",
    "            torch.save(critic, os.path.join(SAVE_PATH, 'critic.checkpoint.torch'))\n",
    "        \n",
    "        if e % plot_update_freq == 0:\n",
    "            plot(history, save_path=FIG_SAVE_PATH)\n",
    "        \n",
    "    plot(history, show=True, save_path=FIG_SAVE_PATH)\n",
    "    torch.save(actor, os.path.join(SAVE_PATH, 'actor.final.torch'))\n",
    "    torch.save(critic, os.path.join(SAVE_PATH, 'critic.final.torch'))\n",
    "\n",
    "    return history\n",
    "\n",
    "def plot(history, show = False, save_path = None):\n",
    "    sns.lineplot(y = history['reward'], x = list(range(len(history['reward']))))\n",
    "\n",
    "    if save_path != None:\n",
    "        plt.savefig(save_path)\n",
    "    if show:\n",
    "        plt.show()\n",
    "        \n",
    "    plt.clf()\n",
    "    plt.close()"
   ]
  },
  {
   "cell_type": "markdown",
   "metadata": {},
   "source": [
    "# Train"
   ]
  },
  {
   "cell_type": "code",
   "execution_count": 13,
   "metadata": {},
   "outputs": [
    {
     "name": "stdout",
     "output_type": "stream",
     "text": [
      "state size =  (8,)\n",
      "action size =  (2,)\n",
      "experiment ID =  test\n"
     ]
    },
    {
     "name": "stderr",
     "output_type": "stream",
     "text": [
      "avg reward = 46.31:   9%|▉         | 1794/20000 [04:48<1:23:47,  3.62it/s] "
     ]
    }
   ],
   "source": [
    "training_epochs = 20000\n",
    "max_t = 1000\n",
    "gamma = 0.99\n",
    "lr = 1e-4\n",
    "hidden_size = 128\n",
    "\n",
    "device = DEVICE\n",
    "\n",
    "env = gym.make(ENV_NAME, **ENV_ARGS)\n",
    "obs, info = env.reset()\n",
    "state, action = env.observation_space, env.action_space\n",
    "print('state size = ', state.shape)\n",
    "print('action size = ', action.shape)\n",
    "\n",
    "# model = PolicyNet(state_size, action_size, hidden_size = 16, device = 'cpu')\n",
    "actor = ActorNet(state, action, hidden_size = hidden_size, device = device, lr = lr, grad_clip= 1.0, std = 0.5)\n",
    "critic = CriticNet(state, hidden_size = hidden_size, device = device, lr = lr, grad_clip= 1.0)\n",
    "\n",
    "a2c(env, actor, critic, training_epochs=training_epochs, \n",
    "max_t = max_t, gamma = gamma, label = 'test')\n",
    "\n",
    "env.close()"
   ]
  },
  {
   "cell_type": "code",
   "execution_count": null,
   "metadata": {},
   "outputs": [],
   "source": [
    "env = gym.make(ENV_NAME, **ENV_ARGS)\n",
    "obs, info = env.reset()\n",
    "a2c(env, actor, critic, training_epochs=training_epochs, max_t = max_t, gamma = gamma)\n",
    "env.close()"
   ]
  },
  {
   "cell_type": "markdown",
   "metadata": {},
   "source": [
    "# Exp 2"
   ]
  },
  {
   "cell_type": "code",
   "execution_count": null,
   "metadata": {},
   "outputs": [],
   "source": [
    "training_epochs = 10000\n",
    "max_t = 1000\n",
    "gamma = 0.99\n",
    "lr = 5e-5\n",
    "hidden_size = 128\n",
    "\n",
    "device = DEVICE\n",
    "\n",
    "env = gym.make(ENV_NAME, **ENV_ARGS)\n",
    "obs, info = env.reset()\n",
    "state, action = env.observation_space, env.action_space\n",
    "print('state size = ', state.shape)\n",
    "print('action size = ', action.shape)\n",
    "\n",
    "# model = PolicyNet(state_size, action_size, hidden_size = 16, device = 'cpu')\n",
    "actor = ActorNet(state, action, hidden_size = hidden_size, device = device, lr = lr)\n",
    "critic = CriticNet(state, hidden_size = hidden_size, device = device, lr = lr)\n",
    "\n",
    "a2c(env, actor, critic, training_epochs=training_epochs, max_t = max_t, gamma = gamma, label = 'exp3')\n",
    "\n",
    "env.close()"
   ]
  },
  {
   "cell_type": "markdown",
   "metadata": {},
   "source": [
    "# Evaluate"
   ]
  },
  {
   "cell_type": "code",
   "execution_count": null,
   "metadata": {},
   "outputs": [],
   "source": [
    "# nv = gym.make('CartPole-v1')\n",
    "env = gym.make(ENV_NAME, **ENV_ARGS)\n",
    "rewards = []\n",
    "\n",
    "# net = torch.load('best_target_net.torch')\n",
    "LOAD_PATH = os.path.join(OUTPUT, '10491dc0', 'actor.checkpoint.torch')\n",
    "print('load path = ', LOAD_PATH)\n",
    "eval_net = torch.load(LOAD_PATH)\n",
    "\n",
    "loop = tqdm(range(100))\n",
    "total_rewards = []\n",
    "\n",
    "for epoch in loop:\n",
    "    state, info = env.reset()\n",
    "    total_reward = 0\n",
    "\n",
    "    for t in range(max_t):\n",
    "        action, log_prob = eval_net.act(state)\n",
    "        state, reward, terminated, truncated, info = env.step(action)\n",
    "        total_reward += reward\n",
    "        if terminated or truncated:\n",
    "            break\n",
    "    \n",
    "    total_rewards.append(total_reward)\n",
    "    loop.set_description(f'reward = {total_reward:.2f}')\n",
    "    \n",
    "sns.lineplot(y = total_rewards, x= list(range(len(total_rewards))))"
   ]
  },
  {
   "cell_type": "markdown",
   "metadata": {},
   "source": [
    "# Human render"
   ]
  },
  {
   "cell_type": "code",
   "execution_count": null,
   "metadata": {},
   "outputs": [],
   "source": [
    "env = gym.make(ENV_NAME, **ENV_ARGS, render_mode= 'human')\n",
    "rewards = []\n",
    "\n",
    "# net = torch.load('best_target_net.torch')\n",
    "LOAD_PATH = os.path.join(OUTPUT, '10491dc0', 'actor.checkpoint.torch')\n",
    "eval_net = torch.load(LOAD_PATH)\n",
    "\n",
    "loop = tqdm(range(5))\n",
    "total_rewards = []\n",
    "\n",
    "for epoch in loop:\n",
    "    state, info = env.reset()\n",
    "    total_reward = 0\n",
    "\n",
    "    for t in range(max_t):\n",
    "\n",
    "        action, log_prob = eval_net.act(state)\n",
    "        state, reward, terminated, truncated, info = env.step(action)\n",
    "        total_reward += reward\n",
    "        if terminated or truncated:\n",
    "            break\n",
    "    \n",
    "    total_rewards.append(total_reward)\n",
    "    loop.set_description(f'reward = {total_reward:.2f}')\n",
    "    \n",
    "sns.lineplot(y = total_rewards, x= list(range(len(total_rewards))))\n",
    "env.close()"
   ]
  },
  {
   "cell_type": "markdown",
   "metadata": {},
   "source": [
    "# References\n",
    "\n",
    "https://medium.com/deeplearningmadeeasy/advantage-actor-critic-continuous-case-implementation-f55ce5da6b4c"
   ]
  },
  {
   "cell_type": "code",
   "execution_count": null,
   "metadata": {},
   "outputs": [],
   "source": []
  }
 ],
 "metadata": {
  "kernelspec": {
   "display_name": "Python 3.9.18 ('torch')",
   "language": "python",
   "name": "python3"
  },
  "language_info": {
   "codemirror_mode": {
    "name": "ipython",
    "version": 3
   },
   "file_extension": ".py",
   "mimetype": "text/x-python",
   "name": "python",
   "nbconvert_exporter": "python",
   "pygments_lexer": "ipython3",
   "version": "3.9.18"
  },
  "orig_nbformat": 4,
  "vscode": {
   "interpreter": {
    "hash": "af18273774455bc90f5456b9f4898eab7ba4de506fde0c1d0784da333c7e8bbc"
   }
  }
 },
 "nbformat": 4,
 "nbformat_minor": 2
}
