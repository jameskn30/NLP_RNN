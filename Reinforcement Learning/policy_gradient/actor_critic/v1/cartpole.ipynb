{
 "cells": [
  {
   "cell_type": "markdown",
   "metadata": {},
   "source": [
    "# Import"
   ]
  },
  {
   "cell_type": "code",
   "execution_count": 10,
   "metadata": {},
   "outputs": [],
   "source": [
    "import gymnasium as gym\n",
    "import seaborn as sns\n",
    "import os\n",
    "from collections import deque, Counter, namedtuple, defaultdict\n",
    "import random\n",
    "from matplotlib import pyplot as plt\n",
    "import warnings\n",
    "warnings.simplefilter(action='ignore', category=FutureWarning)\n",
    "warnings.simplefilter(action='ignore', category=UserWarning)\n",
    "import torch\n",
    "from torch import nn\n",
    "import torch.nn.functional as F\n",
    "from torch.distributions import Categorical\n",
    "import math\n",
    "from itertools import count\n",
    "from tqdm import tqdm\n",
    "import numpy as np\n",
    "import time\n",
    "\n",
    "#Setting up matplotlib for live update the traiing progress\n",
    "import matplotlib\n",
    "is_ipython = 'inline' in matplotlib.get_backend()\n",
    "if is_ipython:\n",
    "    from IPython import display"
   ]
  },
  {
   "cell_type": "markdown",
   "metadata": {},
   "source": [
    "# Test env"
   ]
  },
  {
   "cell_type": "code",
   "execution_count": 11,
   "metadata": {},
   "outputs": [
    {
     "name": "stderr",
     "output_type": "stream",
     "text": [
      "100%|██████████| 10/10 [00:00<00:00, 165.16it/s]\n"
     ]
    },
    {
     "data": {
      "image/png": "[encoded data removed]",
      "text/plain": [
       "<Figure size 640x480 with 1 Axes>"
      ]
     },
     "metadata": {},
     "output_type": "display_data"
    }
   ],
   "source": [
    "env = gym.make('CartPole-v1')\n",
    "obs, info = env.reset()\n",
    "\n",
    "rewards = []\n",
    "for ep in tqdm(range(10)):\n",
    "    obs, info = env.reset()\n",
    "    total_reward = 0\n",
    "\n",
    "    for t in count():\n",
    "        action = env.action_space.sample()\n",
    "        state, reward, terminated, truncated, info = env.step(action)\n",
    "        total_reward += reward\n",
    "        if terminated or truncated: \n",
    "            break\n",
    "    \n",
    "    rewards.append(total_reward)\n",
    "\n",
    "sns.lineplot(y = rewards, x = list(range(len(rewards))))\n",
    "plt.show()\n",
    "env.close()"
   ]
  },
  {
   "cell_type": "code",
   "execution_count": 12,
   "metadata": {},
   "outputs": [
    {
     "name": "stdout",
     "output_type": "stream",
     "text": [
      "torch.Size([2, 5])\n",
      "tensor([[0.2024, 0.1918, 0.1637, 0.2343, 0.2078],\n",
      "        [0.1508, 0.2210, 0.2043, 0.2279, 0.1960]])\n"
     ]
    }
   ],
   "source": [
    "p = torch.rand(2,5)\n",
    "p = F.softmax(p)\n",
    "print(p.shape)\n",
    "print(p)"
   ]
  },
  {
   "cell_type": "code",
   "execution_count": 13,
   "metadata": {},
   "outputs": [
    {
     "name": "stdout",
     "output_type": "stream",
     "text": [
      "tensor([2, 3])\n"
     ]
    }
   ],
   "source": [
    "m = Categorical(p)\n",
    "action = m.sample()\n",
    "print(action)"
   ]
  },
  {
   "cell_type": "markdown",
   "metadata": {},
   "source": [
    "# Model"
   ]
  },
  {
   "cell_type": "code",
   "execution_count": 25,
   "metadata": {},
   "outputs": [],
   "source": [
    "class ActorNet(nn.Module):\n",
    "\n",
    "    def __init__(self, state_size, action_size, hidden_size = 128) -> None:\n",
    "        super().__init__()\n",
    "        self.state_size = state_size\n",
    "        self.action_size = action_size\n",
    "        self.hidden_size = hidden_size\n",
    "\n",
    "        self.linear1 = nn.Linear(state_size, hidden_size)\n",
    "        self.linear2 = nn.Linear(hidden_size, hidden_size * 2)\n",
    "        self.linear3 = nn.Linear(hidden_size * 2, action_size)\n",
    "\n",
    "    def forward(self, X):\n",
    "        X = F.relu(self.linear1(X))\n",
    "        X = F.relu(self.linear2(X))\n",
    "        X = F.softmax(self.linear3(X))\n",
    "        return Categorical(X)\n",
    "\n",
    "\n",
    "class CriticNet(nn.Module):\n",
    "    def __init__(self, state_size, action_size, hidden_size = 128) -> None:\n",
    "        super().__init__()\n",
    "        self.state_size = state_size\n",
    "        self.action_size = action_size\n",
    "        self.hidden_size = hidden_size\n",
    "\n",
    "        self.linear1 = nn.Linear(state_size, hidden_size)\n",
    "        self.linear2 = nn.Linear(hidden_size, hidden_size * 2)\n",
    "        self.linear3 = nn.Linear(hidden_size * 2, 1)\n",
    "\n",
    "    def forward(self, X):\n",
    "        X = F.relu(self.linear1(X))\n",
    "        X = F.relu(self.linear2(X))\n",
    "        return self.linear3(X)\n"
   ]
  },
  {
   "cell_type": "code",
   "execution_count": 15,
   "metadata": {},
   "outputs": [
    {
     "name": "stdout",
     "output_type": "stream",
     "text": [
      "obs space =  8  action space =  4\n",
      "torch.Size([1, 8])\n",
      "actor output = Categorical(probs: torch.Size([1, 4]))\n",
      "critic output = tensor([[-0.0425]], grad_fn=<AddmmBackward0>)\n"
     ]
    }
   ],
   "source": [
    "# Test model\n",
    "env = gym.make('CartPole-v1')\n",
    "state, info = env.reset()\n",
    "\n",
    "obs_space = len(state)\n",
    "action_space = env.action_space.n\n",
    "print('obs space = ', obs_space, ' action space = ', action_space)\n",
    "\n",
    "state = torch.tensor(state).float().unsqueeze(0)\n",
    "print(state.shape)\n",
    "\n",
    "actor = ActorNet(obs_space, action_space)\n",
    "critic = CriticNet(obs_space, action_space)\n",
    "\n",
    "print('actor output =', actor(state))\n",
    "print('critic output =', critic(state))\n",
    "\n",
    "env.close()"
   ]
  },
  {
   "cell_type": "code",
   "execution_count": 16,
   "metadata": {},
   "outputs": [
    {
     "name": "stdout",
     "output_type": "stream",
     "text": [
      "tensor([[0.1832, 0.2645, 0.7715, 0.7986, 0.9584, 0.1746, 0.5374, 0.8629, 0.2891,\n",
      "         0.6518],\n",
      "        [0.7460, 0.0302, 0.4415, 0.1935, 0.2738, 0.5280, 0.5545, 0.8322, 0.9230,\n",
      "         0.2070],\n",
      "        [0.2285, 0.7363, 0.5655, 0.4542, 0.0472, 0.7350, 0.6569, 0.3523, 0.0401,\n",
      "         0.4472],\n",
      "        [0.8572, 0.2509, 0.9654, 0.2119, 0.3136, 0.7847, 0.1541, 0.6999, 0.4897,\n",
      "         0.0117],\n",
      "        [0.9312, 0.8590, 0.1581, 0.3119, 0.0378, 0.9205, 0.4707, 0.7201, 0.2253,\n",
      "         0.5814]])\n",
      "Categorical(probs: torch.Size([5, 10]))\n",
      "tensor([8, 2, 2, 9, 6])\n",
      "tensor([-2.6026, -2.3742, -2.1926, -2.8149, -2.4018])\n"
     ]
    }
   ],
   "source": [
    "x = torch.rand(5,10)\n",
    "print(x)\n",
    "a = Categorical(F.softmax(x))\n",
    "print(a)\n",
    "b = a.sample()\n",
    "print(b)\n",
    "c = a.log_prob(b)\n",
    "print(c)"
   ]
  },
  {
   "cell_type": "markdown",
   "metadata": {},
   "source": [
    "# Compute reward function\n",
    "\n",
    "https://huggingface.co/learn/deep-rl-course/en/unit4/hands-on \n",
    "\n",
    "our policy should only reinforce actions on the basis of the consequences:  so rewards obtained before taking an action are useless  (since they were not because of the action), only the ones that come after the action matters."
   ]
  },
  {
   "cell_type": "code",
   "execution_count": 64,
   "metadata": {},
   "outputs": [],
   "source": [
    "\n",
    "def compute_returns(next_value, rewards, masks, gamma=0.99):\n",
    "    R = next_value\n",
    "    returns = []\n",
    "    for step in reversed(range(len(rewards))):\n",
    "        R = rewards[step] + gamma * R * masks[step]\n",
    "        returns.insert(0, R)\n",
    "    return returns"
   ]
  },
  {
   "cell_type": "markdown",
   "metadata": {},
   "source": [
    "# OUTPUT folder"
   ]
  },
  {
   "cell_type": "code",
   "execution_count": 56,
   "metadata": {},
   "outputs": [],
   "source": [
    "DEVICE = \"cpu\"\n",
    "ROOT = os.getcwd()\n",
    "OUTPUT = os.path.join(ROOT, 'output','cartpole')\n",
    "\n",
    "if os.path.exists(OUTPUT) == False:\n",
    "    os.makedirs(OUTPUT)"
   ]
  },
  {
   "cell_type": "markdown",
   "metadata": {},
   "source": [
    "# Tune"
   ]
  },
  {
   "cell_type": "code",
   "execution_count": 57,
   "metadata": {},
   "outputs": [],
   "source": [
    "def tune(actor, critic, env, lr, device, \n",
    "         training_epochs = 100, gamma = 0.99, \n",
    "         label = 'baseline', plot_update_freq = 50):\n",
    "\n",
    "    #preparing save folder\n",
    "    \n",
    "    SAVE_PATH = os.path.join(OUTPUT, label)\n",
    "    FIG_SAVE_PATH = os.path.join(SAVE_PATH, 'plot.png')\n",
    "    if os.path.exists(SAVE_PATH) == False:\n",
    "        os.makedirs(SAVE_PATH)\n",
    "\n",
    "    #optim\n",
    "    optimA = torch.optim.Adam(actor.parameters(), lr = lr)\n",
    "    optimC = torch.optim.Adam(critic.parameters(), lr = lr)\n",
    "\n",
    "    loop = tqdm(range(training_epochs))\n",
    "\n",
    "    history = defaultdict(list)\n",
    "    best_avg_reward = -float('inf')\n",
    "\n",
    "    reward_window = deque(maxlen=100) \n",
    "\n",
    "    for epoch in loop:\n",
    "        state, info = env.reset()\n",
    "        log_probs = []\n",
    "        values = []\n",
    "        rewards = []\n",
    "        dones = []\n",
    "        entropy = 0\n",
    "        done = False\n",
    "\n",
    "        total_reward = 0\n",
    "\n",
    "        for t in count():\n",
    "            state = torch.tensor(state).float().to(device)\n",
    "            action_prob = actor(state)\n",
    "            value = critic(state)\n",
    "\n",
    "            action = action_prob.sample()\n",
    "\n",
    "            # calculates the logarithm of the probability density function (PDF) \n",
    "            # why we need log_prob? \n",
    "            log_prob = action_prob.log_prob(action).unsqueeze(0)\n",
    "            log_probs.append(log_prob)\n",
    "\n",
    "            action = action.cpu().numpy()\n",
    "            next_state, reward, terminated, truncated, info = env.step(action)\n",
    "\n",
    "            total_reward += reward\n",
    "\n",
    "            values.append(value)\n",
    "\n",
    "            reward = torch.tensor([reward]).float().to(device)\n",
    "            rewards.append(reward)\n",
    "\n",
    "            done = terminated or truncated\n",
    "\n",
    "            dones.append(torch.tensor([1 - done]).float().to(device))\n",
    "            state = next_state\n",
    "\n",
    "            if done:\n",
    "                #epsiode terminated\n",
    "                break\n",
    "\n",
    "        next_state = torch.tensor(next_state).float().to(device)\n",
    "        next_state_value = critic(next_state)\n",
    "        returns = compute_returns(next_state_value, rewards, dones, gamma)\n",
    "        \n",
    "        log_probs = torch.cat(log_probs)\n",
    "        values = torch.cat(values)\n",
    "        returns = torch.cat(returns).detach()\n",
    "\n",
    "        advantage = returns - values\n",
    "\n",
    "        # reference\n",
    "        # https://pytorch.org/docs/stable/distributions.html\n",
    "        # the minus because of gradient ascend\n",
    "        actor_loss = -(log_probs * advantage.detach()).mean()\n",
    "        critic_loss = advantage.pow(2).mean()\n",
    "\n",
    "        optimA.zero_grad()\n",
    "        optimC.zero_grad()\n",
    "\n",
    "        actor_loss.backward()\n",
    "        critic_loss.backward()\n",
    "\n",
    "        optimA.step()\n",
    "        optimC.step()\n",
    "\n",
    "        #update score\n",
    "        reward_window.append(total_reward)\n",
    "        avg_reward = np.mean(reward_window)\n",
    "\n",
    "        if best_avg_reward <= avg_reward:\n",
    "            best_avg_reward = avg_reward\n",
    "            #save best model\n",
    "            torch.save(actor, os.path.join(SAVE_PATH, 'actor.checkpoint.torch'))\n",
    "            torch.save(critic, os.path.join(SAVE_PATH, 'critic.checkpoint.torch'))\n",
    "        \n",
    "        if epoch % plot_update_freq == 0:\n",
    "            plot(history, save_path = FIG_SAVE_PATH)\n",
    "        \n",
    "        history['reward'].append(avg_reward)\n",
    "\n",
    "\n",
    "        loop.set_description(f'epoch = {epoch}, avg reward = {avg_reward:.2f}, total_reward = {total_reward}')\n",
    "\n",
    "    env.close()\n",
    "    return history\n",
    "\n",
    "def plot(history, show = False, save_path = None):\n",
    "    sns.lineplot(y = history['reward'], x = list(range(len(history['reward']))))\n",
    "\n",
    "    if save_path != None:\n",
    "        plt.savefig(save_path)\n",
    "    if show:\n",
    "        plt.show()\n",
    "        \n",
    "    plt.clf()\n",
    "    plt.close()"
   ]
  },
  {
   "cell_type": "code",
   "execution_count": 53,
   "metadata": {},
   "outputs": [
    {
     "name": "stderr",
     "output_type": "stream",
     "text": [
      "epoch = 499, avg reward = 478.53, total_reward = 500.0: 100%|██████████| 500/500 [03:55<00:00,  2.13it/s]\n"
     ]
    }
   ],
   "source": [
    "lr = 1e-3\n",
    "device = 'cpu'\n",
    "training_epochs = 500\n",
    "gamma = 0.99\n",
    "\n",
    "env = gym.make('CartPole-v1')\n",
    "state,info = env.reset()\n",
    "\n",
    "state_space = len(state)\n",
    "action_space= env.action_space.n\n",
    "\n",
    "actor = ActorNet(state_space, action_space).to(device)\n",
    "critic = CriticNet(state_space, action_space).to(device)\n",
    "\n",
    "history = tune(actor, critic, env, lr, device, training_epochs=training_epochs, gamma = gamma, label = 'baseline')\n",
    "torch.save(actor, 'actor.torch')\n",
    "torch.save(critic, 'critic.torch')\n",
    "plot(history)\n"
   ]
  },
  {
   "cell_type": "markdown",
   "metadata": {},
   "source": [
    "# Run the agent"
   ]
  },
  {
   "cell_type": "code",
   "execution_count": 54,
   "metadata": {},
   "outputs": [
    {
     "name": "stderr",
     "output_type": "stream",
     "text": [
      "  0%|          | 0/100 [00:00<?, ?it/s]"
     ]
    },
    {
     "name": "stderr",
     "output_type": "stream",
     "text": [
      "ep = 99, reward = 500.0: 100%|██████████| 100/100 [00:21<00:00,  4.57it/s]\n"
     ]
    },
    {
     "data": {
      "text/plain": [
       "<Axes: >"
      ]
     },
     "execution_count": 54,
     "metadata": {},
     "output_type": "execute_result"
    },
    {
     "data": {
      "image/png": "[encoded data removed]",
      "text/plain": [
       "<Figure size 640x480 with 1 Axes>"
      ]
     },
     "metadata": {},
     "output_type": "display_data"
    }
   ],
   "source": [
    "# nv = gym.make('CartPole-v1')\n",
    "env = gym.make('CartPole-v1')\n",
    "rewards = []\n",
    "\n",
    "# net = torch.load('best_target_net.torch')\n",
    "LOAD_PATH = os.path.join(OUTPUT, 'baseline', 'actor.checkpoint.torch')\n",
    "eval_net = torch.load(LOAD_PATH)\n",
    "\n",
    "loop = tqdm(range(100))\n",
    "total_rewards = []\n",
    "\n",
    "for epoch in loop:\n",
    "    state, info = env.reset()\n",
    "    total_reward = 0\n",
    "\n",
    "    for step in count():\n",
    "        state = torch.tensor(state).float()\n",
    "        action_dist = eval_net(state)\n",
    "        action = action_dist.sample()\n",
    "\n",
    "        next_state, reward, terminated, truncated, info = env.step(action.numpy())\n",
    "        state = next_state\n",
    "        total_reward += reward\n",
    "        state = next_state\n",
    "\n",
    "        if terminated or truncated:\n",
    "            break\n",
    "    \n",
    "    total_rewards.append(total_reward)\n",
    "\n",
    "    loop.set_description(f'ep = {epoch}, reward = {total_reward}')\n",
    "    rewards.append(total_reward)\n",
    "    \n",
    "sns.lineplot(y = total_rewards, x= list(range(len(rewards))))"
   ]
  },
  {
   "cell_type": "markdown",
   "metadata": {},
   "source": [
    "# Extra Experiment"
   ]
  },
  {
   "cell_type": "code",
   "execution_count": 65,
   "metadata": {},
   "outputs": [
    {
     "name": "stderr",
     "output_type": "stream",
     "text": [
      "epoch = 116, avg reward = 51.79, total_reward = 126.0:  23%|██▎       | 117/500 [00:08<00:27, 13.93it/s]\n"
     ]
    },
    {
     "ename": "KeyboardInterrupt",
     "evalue": "",
     "output_type": "error",
     "traceback": [
      "\u001b[1;31m---------------------------------------------------------------------------\u001b[0m",
      "\u001b[1;31mKeyboardInterrupt\u001b[0m                         Traceback (most recent call last)",
      "Cell \u001b[1;32mIn[65], line 15\u001b[0m\n\u001b[0;32m     12\u001b[0m actor \u001b[38;5;241m=\u001b[39m ActorNet(state_space, action_space)\u001b[38;5;241m.\u001b[39mto(device)\n\u001b[0;32m     13\u001b[0m critic \u001b[38;5;241m=\u001b[39m CriticNet(state_space, action_space)\u001b[38;5;241m.\u001b[39mto(device)\n\u001b[1;32m---> 15\u001b[0m history \u001b[38;5;241m=\u001b[39m \u001b[43mtune\u001b[49m\u001b[43m(\u001b[49m\u001b[43mactor\u001b[49m\u001b[43m,\u001b[49m\u001b[43m \u001b[49m\u001b[43mcritic\u001b[49m\u001b[43m,\u001b[49m\u001b[43m \u001b[49m\u001b[43menv\u001b[49m\u001b[43m,\u001b[49m\u001b[43m \u001b[49m\u001b[43mlr\u001b[49m\u001b[43m,\u001b[49m\u001b[43m \u001b[49m\u001b[43mdevice\u001b[49m\u001b[43m,\u001b[49m\u001b[43m \u001b[49m\u001b[43mtraining_epochs\u001b[49m\u001b[38;5;241;43m=\u001b[39;49m\u001b[43mtraining_epochs\u001b[49m\u001b[43m,\u001b[49m\u001b[43m \u001b[49m\u001b[43mgamma\u001b[49m\u001b[43m \u001b[49m\u001b[38;5;241;43m=\u001b[39;49m\u001b[43m \u001b[49m\u001b[43mgamma\u001b[49m\u001b[43m,\u001b[49m\u001b[43m \u001b[49m\u001b[43mlabel\u001b[49m\u001b[43m \u001b[49m\u001b[38;5;241;43m=\u001b[39;49m\u001b[43m \u001b[49m\u001b[38;5;124;43m'\u001b[39;49m\u001b[38;5;124;43mtest\u001b[39;49m\u001b[38;5;124;43m'\u001b[39;49m\u001b[43m)\u001b[49m\n\u001b[0;32m     16\u001b[0m torch\u001b[38;5;241m.\u001b[39msave(actor, \u001b[38;5;124m'\u001b[39m\u001b[38;5;124mactor.torch\u001b[39m\u001b[38;5;124m'\u001b[39m)\n\u001b[0;32m     17\u001b[0m torch\u001b[38;5;241m.\u001b[39msave(critic, \u001b[38;5;124m'\u001b[39m\u001b[38;5;124mcritic.torch\u001b[39m\u001b[38;5;124m'\u001b[39m)\n",
      "Cell \u001b[1;32mIn[57], line 37\u001b[0m, in \u001b[0;36mtune\u001b[1;34m(actor, critic, env, lr, device, training_epochs, gamma, label, plot_update_freq)\u001b[0m\n\u001b[0;32m     35\u001b[0m state \u001b[38;5;241m=\u001b[39m torch\u001b[38;5;241m.\u001b[39mtensor(state)\u001b[38;5;241m.\u001b[39mfloat()\u001b[38;5;241m.\u001b[39mto(device)\n\u001b[0;32m     36\u001b[0m action_prob \u001b[38;5;241m=\u001b[39m actor(state)\n\u001b[1;32m---> 37\u001b[0m value \u001b[38;5;241m=\u001b[39m \u001b[43mcritic\u001b[49m\u001b[43m(\u001b[49m\u001b[43mstate\u001b[49m\u001b[43m)\u001b[49m\n\u001b[0;32m     39\u001b[0m action \u001b[38;5;241m=\u001b[39m action_prob\u001b[38;5;241m.\u001b[39msample()\n\u001b[0;32m     41\u001b[0m \u001b[38;5;66;03m# calculates the logarithm of the probability density function (PDF) \u001b[39;00m\n\u001b[0;32m     42\u001b[0m \u001b[38;5;66;03m# why we need log_prob? \u001b[39;00m\n",
      "File \u001b[1;32mc:\\Users\\nguye\\anaconda3\\envs\\torch\\lib\\site-packages\\torch\\nn\\modules\\module.py:1501\u001b[0m, in \u001b[0;36mModule._call_impl\u001b[1;34m(self, *args, **kwargs)\u001b[0m\n\u001b[0;32m   1496\u001b[0m \u001b[38;5;66;03m# If we don't have any hooks, we want to skip the rest of the logic in\u001b[39;00m\n\u001b[0;32m   1497\u001b[0m \u001b[38;5;66;03m# this function, and just call forward.\u001b[39;00m\n\u001b[0;32m   1498\u001b[0m \u001b[38;5;28;01mif\u001b[39;00m \u001b[38;5;129;01mnot\u001b[39;00m (\u001b[38;5;28mself\u001b[39m\u001b[38;5;241m.\u001b[39m_backward_hooks \u001b[38;5;129;01mor\u001b[39;00m \u001b[38;5;28mself\u001b[39m\u001b[38;5;241m.\u001b[39m_backward_pre_hooks \u001b[38;5;129;01mor\u001b[39;00m \u001b[38;5;28mself\u001b[39m\u001b[38;5;241m.\u001b[39m_forward_hooks \u001b[38;5;129;01mor\u001b[39;00m \u001b[38;5;28mself\u001b[39m\u001b[38;5;241m.\u001b[39m_forward_pre_hooks\n\u001b[0;32m   1499\u001b[0m         \u001b[38;5;129;01mor\u001b[39;00m _global_backward_pre_hooks \u001b[38;5;129;01mor\u001b[39;00m _global_backward_hooks\n\u001b[0;32m   1500\u001b[0m         \u001b[38;5;129;01mor\u001b[39;00m _global_forward_hooks \u001b[38;5;129;01mor\u001b[39;00m _global_forward_pre_hooks):\n\u001b[1;32m-> 1501\u001b[0m     \u001b[38;5;28;01mreturn\u001b[39;00m forward_call(\u001b[38;5;241m*\u001b[39margs, \u001b[38;5;241m*\u001b[39m\u001b[38;5;241m*\u001b[39mkwargs)\n\u001b[0;32m   1502\u001b[0m \u001b[38;5;66;03m# Do not call functions when jit is used\u001b[39;00m\n\u001b[0;32m   1503\u001b[0m full_backward_hooks, non_full_backward_hooks \u001b[38;5;241m=\u001b[39m [], []\n",
      "Cell \u001b[1;32mIn[25], line 33\u001b[0m, in \u001b[0;36mCriticNet.forward\u001b[1;34m(self, X)\u001b[0m\n\u001b[0;32m     31\u001b[0m \u001b[38;5;28;01mdef\u001b[39;00m \u001b[38;5;21mforward\u001b[39m(\u001b[38;5;28mself\u001b[39m, X):\n\u001b[0;32m     32\u001b[0m     X \u001b[38;5;241m=\u001b[39m F\u001b[38;5;241m.\u001b[39mrelu(\u001b[38;5;28mself\u001b[39m\u001b[38;5;241m.\u001b[39mlinear1(X))\n\u001b[1;32m---> 33\u001b[0m     X \u001b[38;5;241m=\u001b[39m F\u001b[38;5;241m.\u001b[39mrelu(\u001b[38;5;28;43mself\u001b[39;49m\u001b[38;5;241;43m.\u001b[39;49m\u001b[43mlinear2\u001b[49m\u001b[43m(\u001b[49m\u001b[43mX\u001b[49m\u001b[43m)\u001b[49m)\n\u001b[0;32m     34\u001b[0m     \u001b[38;5;28;01mreturn\u001b[39;00m \u001b[38;5;28mself\u001b[39m\u001b[38;5;241m.\u001b[39mlinear3(X)\n",
      "File \u001b[1;32mc:\\Users\\nguye\\anaconda3\\envs\\torch\\lib\\site-packages\\torch\\nn\\modules\\module.py:1501\u001b[0m, in \u001b[0;36mModule._call_impl\u001b[1;34m(self, *args, **kwargs)\u001b[0m\n\u001b[0;32m   1496\u001b[0m \u001b[38;5;66;03m# If we don't have any hooks, we want to skip the rest of the logic in\u001b[39;00m\n\u001b[0;32m   1497\u001b[0m \u001b[38;5;66;03m# this function, and just call forward.\u001b[39;00m\n\u001b[0;32m   1498\u001b[0m \u001b[38;5;28;01mif\u001b[39;00m \u001b[38;5;129;01mnot\u001b[39;00m (\u001b[38;5;28mself\u001b[39m\u001b[38;5;241m.\u001b[39m_backward_hooks \u001b[38;5;129;01mor\u001b[39;00m \u001b[38;5;28mself\u001b[39m\u001b[38;5;241m.\u001b[39m_backward_pre_hooks \u001b[38;5;129;01mor\u001b[39;00m \u001b[38;5;28mself\u001b[39m\u001b[38;5;241m.\u001b[39m_forward_hooks \u001b[38;5;129;01mor\u001b[39;00m \u001b[38;5;28mself\u001b[39m\u001b[38;5;241m.\u001b[39m_forward_pre_hooks\n\u001b[0;32m   1499\u001b[0m         \u001b[38;5;129;01mor\u001b[39;00m _global_backward_pre_hooks \u001b[38;5;129;01mor\u001b[39;00m _global_backward_hooks\n\u001b[0;32m   1500\u001b[0m         \u001b[38;5;129;01mor\u001b[39;00m _global_forward_hooks \u001b[38;5;129;01mor\u001b[39;00m _global_forward_pre_hooks):\n\u001b[1;32m-> 1501\u001b[0m     \u001b[38;5;28;01mreturn\u001b[39;00m forward_call(\u001b[38;5;241m*\u001b[39margs, \u001b[38;5;241m*\u001b[39m\u001b[38;5;241m*\u001b[39mkwargs)\n\u001b[0;32m   1502\u001b[0m \u001b[38;5;66;03m# Do not call functions when jit is used\u001b[39;00m\n\u001b[0;32m   1503\u001b[0m full_backward_hooks, non_full_backward_hooks \u001b[38;5;241m=\u001b[39m [], []\n",
      "File \u001b[1;32mc:\\Users\\nguye\\anaconda3\\envs\\torch\\lib\\site-packages\\torch\\nn\\modules\\linear.py:114\u001b[0m, in \u001b[0;36mLinear.forward\u001b[1;34m(self, input)\u001b[0m\n\u001b[0;32m    113\u001b[0m \u001b[38;5;28;01mdef\u001b[39;00m \u001b[38;5;21mforward\u001b[39m(\u001b[38;5;28mself\u001b[39m, \u001b[38;5;28minput\u001b[39m: Tensor) \u001b[38;5;241m-\u001b[39m\u001b[38;5;241m>\u001b[39m Tensor:\n\u001b[1;32m--> 114\u001b[0m     \u001b[38;5;28;01mreturn\u001b[39;00m \u001b[43mF\u001b[49m\u001b[38;5;241;43m.\u001b[39;49m\u001b[43mlinear\u001b[49m\u001b[43m(\u001b[49m\u001b[38;5;28;43minput\u001b[39;49m\u001b[43m,\u001b[49m\u001b[43m \u001b[49m\u001b[38;5;28;43mself\u001b[39;49m\u001b[38;5;241;43m.\u001b[39;49m\u001b[43mweight\u001b[49m\u001b[43m,\u001b[49m\u001b[43m \u001b[49m\u001b[38;5;28;43mself\u001b[39;49m\u001b[38;5;241;43m.\u001b[39;49m\u001b[43mbias\u001b[49m\u001b[43m)\u001b[49m\n",
      "\u001b[1;31mKeyboardInterrupt\u001b[0m: "
     ]
    }
   ],
   "source": [
    "lr = 1e-3\n",
    "device = 'cpu'\n",
    "training_epochs = 500\n",
    "gamma = 0.99\n",
    "\n",
    "env = gym.make('CartPole-v1')\n",
    "state,info = env.reset()\n",
    "\n",
    "state_space = len(state)\n",
    "action_space= env.action_space.n\n",
    "\n",
    "actor = ActorNet(state_space, action_space).to(device)\n",
    "critic = CriticNet(state_space, action_space).to(device)\n",
    "\n",
    "history = tune(actor, critic, env, lr, device, training_epochs=training_epochs, gamma = gamma, label = 'test')\n",
    "torch.save(actor, 'actor.torch')\n",
    "torch.save(critic, 'critic.torch')\n",
    "plot(history)\n"
   ]
  },
  {
   "cell_type": "code",
   "execution_count": null,
   "metadata": {},
   "outputs": [],
   "source": []
  },
  {
   "cell_type": "markdown",
   "metadata": {},
   "source": []
  }
 ],
 "metadata": {
  "kernelspec": {
   "display_name": "Python 3.9.18 ('torch')",
   "language": "python",
   "name": "python3"
  },
  "language_info": {
   "codemirror_mode": {
    "name": "ipython",
    "version": 3
   },
   "file_extension": ".py",
   "mimetype": "text/x-python",
   "name": "python",
   "nbconvert_exporter": "python",
   "pygments_lexer": "ipython3",
   "version": "3.9.18"
  },
  "orig_nbformat": 4,
  "vscode": {
   "interpreter": {
    "hash": "af18273774455bc90f5456b9f4898eab7ba4de506fde0c1d0784da333c7e8bbc"
   }
  }
 },
 "nbformat": 4,
 "nbformat_minor": 2
}
