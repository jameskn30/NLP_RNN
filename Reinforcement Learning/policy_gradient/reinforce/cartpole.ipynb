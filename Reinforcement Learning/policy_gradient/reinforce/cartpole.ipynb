{
 "cells": [
  {
   "cell_type": "markdown",
   "metadata": {},
   "source": [
    "https://huggingface.co/learn/deep-rl-course/en/unit4/introduction"
   ]
  },
  {
   "cell_type": "markdown",
   "metadata": {},
   "source": [
    "# Import"
   ]
  },
  {
   "cell_type": "code",
   "execution_count": 7,
   "metadata": {},
   "outputs": [],
   "source": [
    "import gymnasium as gym\n",
    "import seaborn as sns\n",
    "import os\n",
    "from collections import deque, Counter, namedtuple, defaultdict\n",
    "import random\n",
    "from matplotlib import pyplot as plt\n",
    "import warnings\n",
    "warnings.simplefilter(action='ignore', category=FutureWarning)\n",
    "warnings.simplefilter(action='ignore', category=UserWarning)\n",
    "import torch\n",
    "from torch import nn\n",
    "import torch.nn.functional as F\n",
    "from torch.distributions import Categorical\n",
    "import math\n",
    "from itertools import count\n",
    "from tqdm import tqdm\n",
    "import numpy as np\n",
    "import time\n"
   ]
  },
  {
   "cell_type": "markdown",
   "metadata": {},
   "source": [
    "# Global params"
   ]
  },
  {
   "cell_type": "code",
   "execution_count": 8,
   "metadata": {},
   "outputs": [],
   "source": [
    "DEVICE = \"cpu\"\n",
    "ROOT = os.getcwd()\n",
    "ENV_NAME = 'CartPole-v1'\n",
    "OUTPUT = os.path.join(ROOT, 'output', ENV_NAME)\n",
    "\n",
    "if os.path.exists(OUTPUT) == False:\n",
    "    os.makedirs(OUTPUT)\n"
   ]
  },
  {
   "cell_type": "markdown",
   "metadata": {},
   "source": [
    "# Test env"
   ]
  },
  {
   "cell_type": "code",
   "execution_count": 9,
   "metadata": {},
   "outputs": [
    {
     "name": "stderr",
     "output_type": "stream",
     "text": [
      "  0%|          | 0/10 [00:00<?, ?it/s]/Users/jamesnguyen/anaconda3/envs/torch/lib/python3.9/site-packages/gymnasium/utils/passive_env_checker.py:233: DeprecationWarning: `np.bool8` is a deprecated alias for `np.bool_`.  (Deprecated NumPy 1.24)\n",
      "  if not isinstance(terminated, (bool, np.bool8)):\n",
      "100%|██████████| 10/10 [00:00<00:00, 6119.50it/s]\n"
     ]
    },
    {
     "data": {
      "image/png": "[encoded data removed]",
      "text/plain": [
       "<Figure size 640x480 with 1 Axes>"
      ]
     },
     "metadata": {},
     "output_type": "display_data"
    }
   ],
   "source": [
    "env = gym.make(ENV_NAME)\n",
    "obs, info = env.reset()\n",
    "\n",
    "rewards = []\n",
    "for ep in tqdm(range(10)):\n",
    "    obs, info = env.reset()\n",
    "    total_reward = 0\n",
    "\n",
    "    for t in count():\n",
    "        action = env.action_space.sample()\n",
    "        state, reward, terminated, truncated, info = env.step(action)\n",
    "        total_reward += reward\n",
    "        if terminated or truncated: \n",
    "            break\n",
    "    \n",
    "    rewards.append(total_reward)\n",
    "\n",
    "sns.lineplot(y = rewards, x = list(range(len(rewards))))\n",
    "plt.show()\n",
    "env.close()"
   ]
  },
  {
   "cell_type": "markdown",
   "metadata": {},
   "source": [
    "# Policy Net"
   ]
  },
  {
   "cell_type": "code",
   "execution_count": 10,
   "metadata": {},
   "outputs": [],
   "source": [
    "class PolicyNet(nn.Module):\n",
    "\n",
    "    def __init__(self, state_size, action_size, device, hidden_size = 16):\n",
    "        super().__init__()\n",
    "        self.device = device\n",
    "        self.fc1 = nn.Linear(state_size, hidden_size) \n",
    "        self.fc2 = nn.Linear(hidden_size, action_size) \n",
    "        \n",
    "        self.to(device)\n",
    "\n",
    "    def forward(self, X):\n",
    "        X = F.relu(self.fc1(X))\n",
    "        return F.softmax(self.fc2(X), dim = -1)\n",
    "    \n",
    "    def act(self, state):\n",
    "        state = torch.tensor(state).float().unsqueeze(0).to(self.device)\n",
    "        probs = self(state).cpu()\n",
    "        m = Categorical(probs)\n",
    "        #we want to sample an action from the probability distribution over actions.\n",
    "        action = m.sample()\n",
    "        return action.item(), m.log_prob(action)"
   ]
  },
  {
   "cell_type": "code",
   "execution_count": 11,
   "metadata": {},
   "outputs": [
    {
     "name": "stdout",
     "output_type": "stream",
     "text": [
      "state size =  4\n",
      "action size =  2\n",
      "(4,)\n",
      "action =  0\n",
      "action prob =  tensor([-0.7490], grad_fn=<SqueezeBackward1>)\n"
     ]
    }
   ],
   "source": [
    "# Test model\n",
    "env = gym.make(ENV_NAME)\n",
    "obs, info = env.reset()\n",
    "state_size = len(obs)\n",
    "action_size = env.action_space.n\n",
    "\n",
    "print('state size = ', state_size)\n",
    "print('action size = ', action_size)\n",
    "\n",
    "model = PolicyNet(state_size, action_size, device = 'cpu')\n",
    "\n",
    "sample_state = np.random.rand(4)\n",
    "print(sample_state.shape)\n",
    "\n",
    "action, action_prob = model.act(sample_state)\n",
    "print('action = ', action)\n",
    "print('action prob = ', action_prob)\n",
    "\n",
    "env.close()"
   ]
  },
  {
   "cell_type": "code",
   "execution_count": 12,
   "metadata": {},
   "outputs": [
    {
     "name": "stdout",
     "output_type": "stream",
     "text": [
      "1.1920928955078125e-07\n"
     ]
    }
   ],
   "source": [
    "print(np.finfo(np.float32).eps.item())"
   ]
  },
  {
   "cell_type": "markdown",
   "metadata": {},
   "source": [
    "# REINFORCE algo"
   ]
  },
  {
   "cell_type": "code",
   "execution_count": 13,
   "metadata": {},
   "outputs": [],
   "source": [
    "def reinforce(env, policy, optimizer, training_epochs, max_t, gamma, label = 'baseline', plot_update_freq = 50):\n",
    "\n",
    "    SAVE_PATH = os.path.join(OUTPUT, label)\n",
    "    FIG_SAVE_PATH = os.path.join(SAVE_PATH, 'plot.png')\n",
    "    if os.path.exists(SAVE_PATH) == False:\n",
    "        os.makedirs(SAVE_PATH)\n",
    "\n",
    "    \n",
    "    scores_deque = deque(maxlen = 100)\n",
    "    history = defaultdict(list)\n",
    "    loop = tqdm(range(training_epochs))\n",
    "    best_score = -float('inf')\n",
    "\n",
    "    for e in loop:\n",
    "        saved_log_probs = []\n",
    "        rewards = []\n",
    "\n",
    "        state, info = env.reset()\n",
    "\n",
    "        for t in range(max_t):\n",
    "\n",
    "            action, log_prob = policy.act(state)\n",
    "\n",
    "            saved_log_probs.append(log_prob)\n",
    "            state, reward, terminated, truncated, info = env.step(action)\n",
    "\n",
    "            rewards.append(reward)\n",
    "\n",
    "            if terminated or truncated:\n",
    "                break\n",
    "        \n",
    "        scores_deque.append(sum(rewards))\n",
    "        avg_reward = np.mean(scores_deque)\n",
    "\n",
    "        history['reward'].append(avg_reward)\n",
    "\n",
    "        returns = deque(maxlen = max_t)\n",
    "        num_steps = len(rewards)\n",
    "\n",
    "        #computing returns\n",
    "        for t in reversed(range(num_steps)):\n",
    "            G_t = returns[0] if len(returns) > 0 else 0\n",
    "            returns.appendleft(gamma * G_t + rewards[t])\n",
    "        \n",
    "        #standardization of returns to make training more stable\n",
    "        eps = np.finfo(np.float32).eps.item()\n",
    "        returns = torch.tensor(returns)\n",
    "        returns = (returns - returns.mean())/(returns.std() + eps)\n",
    "\n",
    "        policy_loss = []\n",
    "        for log_prob, discounted_return in zip(saved_log_probs, returns):\n",
    "            policy_loss.append(-log_prob * discounted_return)\n",
    "        \n",
    "        policy_loss = torch.cat(policy_loss).sum()\n",
    "\n",
    "        optimizer.zero_grad()\n",
    "        policy_loss.backward()\n",
    "        optimizer.step()\n",
    "\n",
    "\n",
    "        loop.set_description(f'avg reward = {avg_reward:.2f}')\n",
    "\n",
    "        if best_score <= avg_reward:\n",
    "            best_score = avg_reward\n",
    "            torch.save(model, os.path.join(SAVE_PATH, 'policy.checkpoint.torch'))\n",
    "        \n",
    "        if e % plot_update_freq == 0:\n",
    "            plot(history, save_path=FIG_SAVE_PATH)\n",
    "        \n",
    "    plot(history, show=True, save_path=FIG_SAVE_PATH)\n",
    "    \n",
    "    return history\n",
    "\n",
    "def plot(history, show = False, save_path = None):\n",
    "    sns.lineplot(y = history['reward'], x = list(range(len(history['reward']))))\n",
    "\n",
    "    if save_path != None:\n",
    "        plt.savefig(save_path)\n",
    "    if show:\n",
    "        plt.show()\n",
    "        \n",
    "    plt.clf()\n",
    "    plt.close()"
   ]
  },
  {
   "cell_type": "code",
   "execution_count": 14,
   "metadata": {},
   "outputs": [
    {
     "name": "stdout",
     "output_type": "stream",
     "text": [
      "state size =  4\n",
      "action size =  2\n"
     ]
    },
    {
     "name": "stderr",
     "output_type": "stream",
     "text": [
      "  0%|          | 0/3000 [00:00<?, ?it/s]/Users/jamesnguyen/anaconda3/envs/torch/lib/python3.9/site-packages/gymnasium/utils/passive_env_checker.py:233: DeprecationWarning: `np.bool8` is a deprecated alias for `np.bool_`.  (Deprecated NumPy 1.24)\n",
      "  if not isinstance(terminated, (bool, np.bool8)):\n",
      "avg reward = 486.96: 100%|██████████| 3000/3000 [04:22<00:00, 11.42it/s]\n"
     ]
    },
    {
     "data": {
      "image/png": "[encoded data removed]",
      "text/plain": [
       "<Figure size 640x480 with 1 Axes>"
      ]
     },
     "metadata": {},
     "output_type": "display_data"
    }
   ],
   "source": [
    "training_epochs = 3000\n",
    "max_t = 1000\n",
    "gamma = 1.0\n",
    "lr = 0.001\n",
    "\n",
    "env = gym.make(ENV_NAME)\n",
    "obs, info = env.reset()\n",
    "state_size = len(obs)\n",
    "action_size = env.action_space.n\n",
    "print('state size = ', state_size)\n",
    "print('action size = ', action_size)\n",
    "\n",
    "model = PolicyNet(state_size, action_size, hidden_size = 16, device = 'cpu')\n",
    "optimizer = torch.optim.Adam(model.parameters(), lr = lr)\n",
    "\n",
    "reinforce(env, model, optimizer, training_epochs=training_epochs, max_t = max_t, gamma = gamma)\n",
    "\n",
    "env.close()\n",
    "\n"
   ]
  },
  {
   "cell_type": "markdown",
   "metadata": {},
   "source": [
    "# Evaluate"
   ]
  },
  {
   "cell_type": "code",
   "execution_count": 15,
   "metadata": {},
   "outputs": [
    {
     "name": "stderr",
     "output_type": "stream",
     "text": [
      "  0%|          | 0/100 [00:00<?, ?it/s]/Users/jamesnguyen/anaconda3/envs/torch/lib/python3.9/site-packages/gymnasium/utils/passive_env_checker.py:233: DeprecationWarning: `np.bool8` is a deprecated alias for `np.bool_`.  (Deprecated NumPy 1.24)\n",
      "  if not isinstance(terminated, (bool, np.bool8)):\n",
      "reward = 500.00: 100%|██████████| 100/100 [00:06<00:00, 15.26it/s]\n"
     ]
    },
    {
     "data": {
      "text/plain": [
       "<Axes: >"
      ]
     },
     "execution_count": 15,
     "metadata": {},
     "output_type": "execute_result"
    },
    {
     "data": {
      "image/png": "[encoded data removed]",
      "text/plain": [
       "<Figure size 640x480 with 1 Axes>"
      ]
     },
     "metadata": {},
     "output_type": "display_data"
    }
   ],
   "source": [
    "# nv = gym.make('CartPole-v1')\n",
    "env = gym.make(ENV_NAME)\n",
    "rewards = []\n",
    "\n",
    "# net = torch.load('best_target_net.torch')\n",
    "LOAD_PATH = os.path.join(OUTPUT, 'baseline', 'policy.checkpoint.torch')\n",
    "eval_net = torch.load(LOAD_PATH)\n",
    "\n",
    "loop = tqdm(range(100))\n",
    "total_rewards = []\n",
    "\n",
    "for epoch in loop:\n",
    "    state, info = env.reset()\n",
    "    total_reward = 0\n",
    "\n",
    "    for t in range(max_t):\n",
    "\n",
    "        action, log_prob = eval_net.act(state)\n",
    "        state, reward, terminated, truncated, info = env.step(action)\n",
    "        total_reward += 1\n",
    "        if terminated or truncated:\n",
    "            break\n",
    "    \n",
    "    total_rewards.append(total_reward)\n",
    "    loop.set_description(f'reward = {total_reward:.2f}')\n",
    "    \n",
    "sns.lineplot(y = total_rewards, x= list(range(len(total_rewards))))"
   ]
  },
  {
   "cell_type": "code",
   "execution_count": null,
   "metadata": {},
   "outputs": [],
   "source": []
  }
 ],
 "metadata": {
  "kernelspec": {
   "display_name": "Python 3.9.18 ('torch')",
   "language": "python",
   "name": "python3"
  },
  "language_info": {
   "codemirror_mode": {
    "name": "ipython",
    "version": 3
   },
   "file_extension": ".py",
   "mimetype": "text/x-python",
   "name": "python",
   "nbconvert_exporter": "python",
   "pygments_lexer": "ipython3",
   "version": "3.9.18"
  },
  "orig_nbformat": 4,
  "vscode": {
   "interpreter": {
    "hash": "af18273774455bc90f5456b9f4898eab7ba4de506fde0c1d0784da333c7e8bbc"
   }
  }
 },
 "nbformat": 4,
 "nbformat_minor": 2
}
