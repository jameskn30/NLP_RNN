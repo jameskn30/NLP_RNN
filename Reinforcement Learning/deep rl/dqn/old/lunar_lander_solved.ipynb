{
  "cells": [
    {
      "cell_type": "markdown",
      "id": "c3e89aca-6c52-4b20-b1a3-9279ef0fd99b",
      "metadata": {
        "id": "c3e89aca-6c52-4b20-b1a3-9279ef0fd99b"
      },
      "source": [
        "# Deep Q-Network (DQN) on LunarLander-v2\n",
        "\n",
        "> In this post, We will take a hands-on-lab of Simple Deep Q-Network (DQN) on openAI LunarLander-v2 environment. This is the coding exercise from udacity Deep Reinforcement Learning Nanodegree.\n",
        "\n",
        "- toc: true\n",
        "- badges: true\n",
        "- comments: true\n",
        "- author: Chanseok Kang\n",
        "- categories: [Python, Reinforcement_Learning, PyTorch, Udacity]\n",
        "- image: images/LunarLander-v2.gif"
      ]
    },
    {
      "cell_type": "markdown",
      "id": "fd834f1b-51c4-4910-a4d6-3b212e1a2a5a",
      "metadata": {
        "id": "fd834f1b-51c4-4910-a4d6-3b212e1a2a5a"
      },
      "source": [
        "## Deep Q-Network (DQN)\n",
        "---\n",
        "In this notebook, you will implement a DQN agent with OpenAI Gym's LunarLander-v2 environment.\n",
        "\n",
        "### Import the Necessary Packages"
      ]
    },
    {
      "cell_type": "code",
      "execution_count": 10,
      "id": "22518486-3c2f-47fe-92b3-1502875eacfe",
      "metadata": {
        "colab": {
          "base_uri": "https://localhost:8080/"
        },
        "id": "22518486-3c2f-47fe-92b3-1502875eacfe",
        "outputId": "f561d1ab-afc1-4020-8dd9-17641f07052a"
      },
      "outputs": [],
      "source": [
        "import gymnasium as gym\n",
        "import random\n",
        "import torch\n",
        "import torch.nn as nn\n",
        "import torch.nn.functional as F\n",
        "import torch.optim as optim\n",
        "import matplotlib.pyplot as plt\n",
        "import base64, io\n",
        "\n",
        "import numpy as np\n",
        "from collections import deque, namedtuple\n",
        "\n",
        "# For visualization\n",
        "# from gym.wrappers.monitoring import video_recorder\n",
        "# from IPython.display import HTML\n",
        "# from IPython import display\n",
        "# import glob"
      ]
    },
    {
      "cell_type": "markdown",
      "id": "f75f934c-6921-43aa-8389-6df4b993eca4",
      "metadata": {
        "id": "f75f934c-6921-43aa-8389-6df4b993eca4"
      },
      "source": [
        "### Instantiate the Environment and Agent\n",
        "\n",
        "Initialize the environment."
      ]
    },
    {
      "cell_type": "code",
      "execution_count": 11,
      "id": "594828b6-da33-481d-ab42-041e8c17ffea",
      "metadata": {
        "colab": {
          "base_uri": "https://localhost:8080/"
        },
        "id": "594828b6-da33-481d-ab42-041e8c17ffea",
        "outputId": "e9c9f345-3a97-4fae-acf3-8fce4787ccc5"
      },
      "outputs": [
        {
          "name": "stdout",
          "output_type": "stream",
          "text": [
            "State shape:  (8,)\n",
            "Number of actions:  4\n"
          ]
        }
      ],
      "source": [
        "env = gym.make('LunarLander-v2')\n",
        "print('State shape: ', env.observation_space.shape)\n",
        "print('Number of actions: ', env.action_space.n)"
      ]
    },
    {
      "cell_type": "markdown",
      "id": "03735bdc-c07e-4c87-b208-cce894bb8e43",
      "metadata": {
        "id": "03735bdc-c07e-4c87-b208-cce894bb8e43"
      },
      "source": [
        "### Define Neural Network Architecture.\n",
        "\n",
        "Since `LunarLander-v2` environment is sort of simple envs, we don't need complicated architecture. We just need non-linear function approximator that maps from state to action."
      ]
    },
    {
      "cell_type": "code",
      "execution_count": 12,
      "id": "ae834607-433e-4ed5-8b23-8de7b53230a8",
      "metadata": {
        "id": "ae834607-433e-4ed5-8b23-8de7b53230a8"
      },
      "outputs": [],
      "source": [
        "class QNetwork(nn.Module):\n",
        "    \"\"\"Actor (Policy) Model.\"\"\"\n",
        "\n",
        "    def __init__(self, state_size, action_size, seed):\n",
        "        \"\"\"Initialize parameters and build model.\n",
        "        Params\n",
        "        ======\n",
        "            state_size (int): Dimension of each state\n",
        "            action_size (int): Dimension of each action\n",
        "            seed (int): Random seed\n",
        "        \"\"\"\n",
        "        super(QNetwork, self).__init__()\n",
        "        self.seed = torch.manual_seed(seed)\n",
        "        self.fc1 = nn.Linear(state_size, 64)\n",
        "        self.fc2 = nn.Linear(64, 64)\n",
        "        self.fc3 = nn.Linear(64, action_size)\n",
        "\n",
        "    def forward(self, state):\n",
        "        \"\"\"Build a network that maps state -> action values.\"\"\"\n",
        "        x = self.fc1(state)\n",
        "        x = F.relu(x)\n",
        "        x = self.fc2(x)\n",
        "        x = F.relu(x)\n",
        "        return self.fc3(x)"
      ]
    },
    {
      "cell_type": "markdown",
      "id": "b0873298-cab0-4dcb-9c84-4782dc914dd7",
      "metadata": {
        "id": "b0873298-cab0-4dcb-9c84-4782dc914dd7"
      },
      "source": [
        "### Define some hyperparameter"
      ]
    },
    {
      "cell_type": "code",
      "execution_count": 13,
      "id": "7010c525-29d8-445c-8769-6cfb7d00948b",
      "metadata": {
        "id": "7010c525-29d8-445c-8769-6cfb7d00948b"
      },
      "outputs": [],
      "source": [
        "BUFFER_SIZE = int(1e5)  # replay buffer size\n",
        "BATCH_SIZE = 64         # minibatch size\n",
        "GAMMA = 0.99            # discount factor\n",
        "TAU = 1e-3              # for soft update of target parameters\n",
        "LR = 5e-4               # learning rate\n",
        "UPDATE_EVERY = 4        # how often to update the network"
      ]
    },
    {
      "cell_type": "code",
      "execution_count": 14,
      "id": "334bb7d8-7d62-4cfb-96f7-f8809ba8e089",
      "metadata": {
        "id": "334bb7d8-7d62-4cfb-96f7-f8809ba8e089"
      },
      "outputs": [],
      "source": [
        "device = torch.device(\"cuda:0\" if torch.cuda.is_available() else \"cpu\")"
      ]
    },
    {
      "cell_type": "markdown",
      "id": "4eb5db66-ecb3-4bf4-aee1-3e18003c17b0",
      "metadata": {
        "id": "4eb5db66-ecb3-4bf4-aee1-3e18003c17b0"
      },
      "source": [
        "### Define Replay Buffer"
      ]
    },
    {
      "cell_type": "code",
      "execution_count": null,
      "id": "56b500fc",
      "metadata": {},
      "outputs": [],
      "source": [
        "# Transition = namedtuple('Transition', ('state', 'action', 'reward', 'next_state', 'done'))\n",
        "# class ReplayBuffer():\n",
        "#     def __init__(self, capacity) -> None:\n",
        "#         self.capacity = capacity\n",
        "#         self.memory = deque(maxlen = capacity)\n",
        "    \n",
        "#     def push(self, state, action, reward, next_state, done):\n",
        "#         args = [state, action,reward, next_state, done]\n",
        "#         names = ['state', 'action', 'reward', 'next_state', 'done']\n",
        "#         #NOTE: make sure the arguments are tensor and shape = (1,-1)\n",
        "#         for arg, name in zip(args, names):\n",
        "#             assert torch.is_tensor(arg), f'{name} to memory replay must be a tensor'\n",
        "#             assert len(arg.shape) == 2, f'{name} shape must be in the shape (1, -1)'\n",
        "        \n",
        "#         self.memory.append(Transition(state, action, reward, next_state, done))\n",
        "    \n",
        "#     def sample(self, batch_size):\n",
        "#         '''\n",
        "#         @params: \n",
        "#             batch_size: int\n",
        "#         @return:\n",
        "#             states: torch.tensor\n",
        "#             actions: torch.tensor\n",
        "#             rewards: torch.tensor\n",
        "#             next_states: torch.tensor\n",
        "#             done: torch.tensor\n",
        "#         '''\n",
        "#         if batch_size > len(self.memory): return None\n",
        "#         transitions = random.sample(self.memory, batch_size)\n",
        "#         batch = Transition(*zip(*transitions))\n",
        "#         state_batch = torch.cat(batch.state)\n",
        "#         next_state_batch = torch.cat(batch.next_state)\n",
        "#         action_batch = torch.cat(batch.action)\n",
        "#         reward_batch = torch.cat(batch.reward)\n",
        "#         done_batch = torch.cat(batch.done)\n",
        "\n",
        "\n",
        "#         return (state_batch, action_batch, reward_batch, next_state_batch, done_batch)\n",
        "    \n",
        "#     def __len__(self):\n",
        "#         return len(self.memory)\n",
        "    \n",
        "#     def clear(self):\n",
        "#         self.memory.clear()"
      ]
    },
    {
      "cell_type": "code",
      "execution_count": 46,
      "id": "f74bb08e-0b95-42db-9fc8-d609514d55af",
      "metadata": {
        "id": "f74bb08e-0b95-42db-9fc8-d609514d55af"
      },
      "outputs": [],
      "source": [
        "class ReplayBuffer:\n",
        "    \"\"\"Fixed-size buffer to store experience tuples.\"\"\"\n",
        "\n",
        "    def __init__(self, action_size, buffer_size, batch_size, seed):\n",
        "        \"\"\"Initialize a ReplayBuffer object.\n",
        "\n",
        "        Params\n",
        "        ======\n",
        "            action_size (int): dimension of each action\n",
        "            buffer_size (int): maximum size of buffer\n",
        "            batch_size (int): size of each training batch\n",
        "            seed (int): random seed\n",
        "        \"\"\"\n",
        "        self.action_size = action_size\n",
        "        self.memory = deque(maxlen=buffer_size)\n",
        "        self.batch_size = batch_size\n",
        "        self.experience = namedtuple(\"Experience\", field_names=[\"state\", \"action\", \"reward\", \"next_state\", \"done\"])\n",
        "        self.seed = random.seed(seed)\n",
        "\n",
        "    def add(self, state, action, reward, next_state, done):\n",
        "        \"\"\"Add a new experience to memory.\"\"\"\n",
        "        state = torch.tensor([state]).float()\n",
        "        next_state = torch.tensor([next_state]).float()\n",
        "        action = torch.tensor([action]).long().unsqueeze(0)\n",
        "        reward = torch.tensor([reward]).float().unsqueeze(0)\n",
        "        done = torch.tensor([done]).int().unsqueeze(0)\n",
        "\n",
        "        e = self.experience(state, action, reward, next_state, done)\n",
        "        self.memory.append(e)\n",
        "\n",
        "    def sample(self):\n",
        "        \"\"\"Randomly sample a batch of experiences from memory.\"\"\"\n",
        "        experiences = random.sample(self.memory, k=self.batch_size)\n",
        "        for e in experiences:\n",
        "            if e == None: raise Exception(\"none experience\")\n",
        "        \n",
        "        batch = self.experience(*zip(*experiences))\n",
        "\n",
        "        states = torch.cat(batch.state)\n",
        "        actions = torch.cat(batch.action)\n",
        "        rewards = torch.cat(batch.reward)\n",
        "        next_states = torch.cat(batch.next_state)\n",
        "        dones = torch.cat(batch.done)\n",
        "\n",
        "        # states = torch.from_numpy(np.vstack([e.state for e in experiences if e is not None])).float().to(device)\n",
        "        # actions = torch.from_numpy(np.vstack([e.action for e in experiences if e is not None])).long().to(device)\n",
        "        # rewards = torch.from_numpy(np.vstack([e.reward for e in experiences if e is not None])).float().to(device)\n",
        "        # next_states = torch.from_numpy(np.vstack([e.next_state for e in experiences if e is not None])).float().to(device)\n",
        "        # dones = torch.from_numpy(np.vstack([e.done for e in experiences if e is not None]).astype(np.uint8)).float().to(device)\n",
        "\n",
        "        return (states, actions, rewards, next_states, dones)\n",
        "\n",
        "    def __len__(self):\n",
        "        \"\"\"Return the current size of internal memory.\"\"\"\n",
        "        return len(self.memory)"
      ]
    },
    {
      "cell_type": "markdown",
      "id": "1d861efe-200c-4690-9698-722abbf0b77c",
      "metadata": {
        "id": "1d861efe-200c-4690-9698-722abbf0b77c"
      },
      "source": [
        "### Define Agent"
      ]
    },
    {
      "cell_type": "code",
      "execution_count": 21,
      "id": "0530f456-2bfd-4061-ad62-f14846a9a284",
      "metadata": {
        "id": "0530f456-2bfd-4061-ad62-f14846a9a284"
      },
      "outputs": [],
      "source": [
        "class Agent():\n",
        "    \"\"\"Interacts with and learns from the environment.\"\"\"\n",
        "\n",
        "    def __init__(self, state_size, action_size, seed):\n",
        "        \"\"\"Initialize an Agent object.\n",
        "\n",
        "        Params\n",
        "        ======\n",
        "            state_size (int): dimension of each state\n",
        "            action_size (int): dimension of each action\n",
        "            seed (int): random seed\n",
        "        \"\"\"\n",
        "        self.state_size = state_size\n",
        "        self.action_size = action_size\n",
        "        self.seed = random.seed(seed)\n",
        "\n",
        "        # Q-Network\n",
        "        self.qnetwork_local = QNetwork(state_size, action_size, seed).to(device)\n",
        "        self.qnetwork_target = QNetwork(state_size, action_size, seed).to(device)\n",
        "        self.optimizer = optim.Adam(self.qnetwork_local.parameters(), lr=LR)\n",
        "\n",
        "        # Replay memory\n",
        "        self.memory = ReplayBuffer(action_size, BUFFER_SIZE, BATCH_SIZE, seed)\n",
        "        # Initialize time step (for updating every UPDATE_EVERY steps)\n",
        "        self.t_step = 0\n",
        "\n",
        "    def step(self, state, action, reward, next_state, done):\n",
        "        # Save experience in replay memory\n",
        "        self.memory.add(state, action, reward, next_state, done)\n",
        "\n",
        "        # Learn every UPDATE_EVERY time steps.\n",
        "        self.t_step = (self.t_step + 1) % UPDATE_EVERY\n",
        "        if self.t_step == 0:\n",
        "            # If enough samples are available in memory, get random subset and learn\n",
        "            if len(self.memory) > BATCH_SIZE:\n",
        "                experiences = self.memory.sample()\n",
        "                self.learn(experiences, GAMMA)\n",
        "\n",
        "    def act(self, state, eps=0.):\n",
        "        \"\"\"Returns actions for given state as per current policy.\n",
        "\n",
        "        Params\n",
        "        ======\n",
        "            state (array_like): current state\n",
        "            eps (float): epsilon, for epsilon-greedy action selection\n",
        "        \"\"\"\n",
        "        state = torch.from_numpy(state).float().unsqueeze(0).to(device)\n",
        "        self.qnetwork_local.eval()\n",
        "        with torch.no_grad():\n",
        "            action_values = self.qnetwork_local(state)\n",
        "        self.qnetwork_local.train()\n",
        "\n",
        "        # Epsilon-greedy action selection\n",
        "        if random.random() > eps:\n",
        "            return np.argmax(action_values.cpu().data.numpy())\n",
        "        else:\n",
        "            return random.choice(np.arange(self.action_size))\n",
        "\n",
        "    def learn(self, experiences, gamma):\n",
        "        \"\"\"Update value parameters using given batch of experience tuples.\n",
        "\n",
        "        Params\n",
        "        ======\n",
        "            experiences (Tuple[torch.Variable]): tuple of (s, a, r, s', done) tuples\n",
        "            gamma (float): discount factor\n",
        "        \"\"\"\n",
        "        # Obtain random minibatch of tuples from D\n",
        "        states, actions, rewards, next_states, dones = experiences\n",
        "\n",
        "        ## Compute and minimize the loss\n",
        "        ### Extract next maximum estimated value from target network\n",
        "        q_targets_next = self.qnetwork_target(next_states).detach().max(1)[0].unsqueeze(1)\n",
        "        ### Calculate target value from bellman equation\n",
        "        q_targets = rewards + gamma * q_targets_next * (1 - dones)\n",
        "        # print('q target = ', q_targets.shape)\n",
        "        ### Calculate expected value from local network\n",
        "        q_expected = self.qnetwork_local(states).gather(1, actions)\n",
        "\n",
        "        ### Loss calculation (we used Mean squared error)\n",
        "        loss = F.mse_loss(q_expected, q_targets)\n",
        "        self.optimizer.zero_grad()\n",
        "        loss.backward()\n",
        "        self.optimizer.step()\n",
        "\n",
        "        # ------------------- update target network ------------------- #\n",
        "        self.soft_update(self.qnetwork_local, self.qnetwork_target, TAU)\n",
        "\n",
        "    def soft_update(self, local_model, target_model, tau):\n",
        "        \"\"\"Soft update model parameters.\n",
        "        θ_target = τ*θ_local + (1 - τ)*θ_target\n",
        "\n",
        "        Params\n",
        "        ======\n",
        "            local_model (PyTorch model): weights will be copied from\n",
        "            target_model (PyTorch model): weights will be copied to\n",
        "            tau (float): interpolation parameter\n",
        "        \"\"\"\n",
        "        for target_param, local_param in zip(target_model.parameters(), local_model.parameters()):\n",
        "            target_param.data.copy_(tau*local_param.data + (1.0-tau)*target_param.data)"
      ]
    },
    {
      "cell_type": "markdown",
      "id": "6bd61b8d-b63e-444f-9cb7-6295df46995d",
      "metadata": {
        "id": "6bd61b8d-b63e-444f-9cb7-6295df46995d"
      },
      "source": [
        "### Training Process"
      ]
    },
    {
      "cell_type": "code",
      "execution_count": null,
      "id": "c907ab57-ed48-4824-b27c-8c7d707d6919",
      "metadata": {
        "colab": {
          "base_uri": "https://localhost:8080/"
        },
        "id": "c907ab57-ed48-4824-b27c-8c7d707d6919",
        "outputId": "6ffd52f3-91c3-4a63-924f-3a8a97f46f05"
      },
      "outputs": [],
      "source": [
        "def dqn(n_episodes=2000, max_t=1000, eps_start=1.0, eps_end=0.01, eps_decay=0.995):\n",
        "    \"\"\"Deep Q-Learning.\n",
        "\n",
        "    Params\n",
        "    ======\n",
        "        n_episodes (int): maximum number of training episodes\n",
        "        max_t (int): maximum number of timesteps per episode\n",
        "        eps_start (float): starting value of epsilon, for epsilon-greedy action selection\n",
        "        eps_end (float): minimum value of epsilon\n",
        "        eps_decay (float): multiplicative factor (per episode) for decreasing epsilon\n",
        "    \"\"\"\n",
        "    scores = []                        # list containing scores from each episode\n",
        "    scores_window = deque(maxlen=100)  # last 100 scores\n",
        "    eps = eps_start                    # initialize epsilon\n",
        "    for i_episode in range(1, n_episodes+1):\n",
        "        state,info = env.reset(seed = 0)\n",
        "        score = 0\n",
        "        done = False\n",
        "        for t in range(max_t):\n",
        "            action = agent.act(state, eps)\n",
        "            next_state, reward, terminated, truncated, info_ = env.step(action)\n",
        "            if terminated or truncated:\n",
        "                done = True\n",
        "\n",
        "            agent.step(state, action, reward, next_state, done)\n",
        "            state = next_state\n",
        "            score += reward\n",
        "            if done:\n",
        "                break\n",
        "        scores_window.append(score)       # save most recent score\n",
        "        scores.append(score)              # save most recent score\n",
        "        eps = max(eps_end, eps_decay*eps) # decrease epsilon\n",
        "        print('\\rEpisode {}\\tAverage Score: {:.2f}\\tepsilon={}'.format(i_episode, np.mean(scores_window), eps), end=\"\")\n",
        "        if i_episode % 100 == 0:\n",
        "            print('\\rEpisode {}\\tAverage Score: {:.2f}\\tepsilon={}'.format(i_episode, np.mean(scores_window), eps), end=\"\")\n",
        "        if np.mean(scores_window)>=200.0:\n",
        "            print('\\nEnvironment solved in {:d} episodes!\\tAverage Score: {:.2f}'.format(i_episode-100, np.mean(scores_window)))\n",
        "            torch.save(agent.qnetwork_local.state_dict(), 'checkpoint.pth')\n",
        "            break\n",
        "\n",
        "    return scores\n",
        "\n",
        "agent = Agent(state_size=8, action_size=4, seed=0)\n",
        "scores = dqn()"
      ]
    },
    {
      "cell_type": "markdown",
      "id": "1ba6726a-977a-4345-8897-021302bfc262",
      "metadata": {
        "id": "1ba6726a-977a-4345-8897-021302bfc262"
      },
      "source": [
        "### Plot the learning progress"
      ]
    },
    {
      "cell_type": "code",
      "execution_count": null,
      "id": "d2d491c9-a5dc-4c32-a95d-796f85c60c83",
      "metadata": {
        "colab": {
          "base_uri": "https://localhost:8080/",
          "height": 504
        },
        "id": "d2d491c9-a5dc-4c32-a95d-796f85c60c83",
        "outputId": "2f52a78e-12c1-473a-d2f1-8426b67a4d7c"
      },
      "outputs": [],
      "source": [
        "# plot the scores\n",
        "fig = plt.figure()\n",
        "ax = fig.add_subplot(111)\n",
        "plt.plot(np.arange(len(scores)), scores)\n",
        "plt.ylabel('Score')\n",
        "plt.xlabel('Episode #')\n",
        "plt.show()"
      ]
    },
    {
      "cell_type": "markdown",
      "id": "ebb450a9-c530-4f10-b629-53a2d69860c2",
      "metadata": {
        "id": "ebb450a9-c530-4f10-b629-53a2d69860c2"
      },
      "source": [
        "### Animate it with Video"
      ]
    },
    {
      "cell_type": "code",
      "execution_count": null,
      "id": "c9806a31-f777-468e-8987-0139708ef532",
      "metadata": {
        "id": "c9806a31-f777-468e-8987-0139708ef532"
      },
      "outputs": [],
      "source": [
        "# def show_video(env_name):\n",
        "#     mp4list = glob.glob('video/*.mp4')\n",
        "#     if len(mp4list) > 0:\n",
        "#         mp4 = 'video/{}.mp4'.format(env_name)\n",
        "#         video = io.open(mp4, 'r+b').read()\n",
        "#         encoded = base64.b64encode(video)\n",
        "#         display.display(HTML(data='''<video alt=\"test\" autoplay\n",
        "#                 loop controls style=\"height: 400px;\">\n",
        "#                 <source src=\"data:video/mp4;base64,{0}\" type=\"video/mp4\" />\n",
        "#              </video>'''.format(encoded.decode('ascii'))))\n",
        "#     else:\n",
        "#         print(\"Could not find video\")\n",
        "\n",
        "# def show_video_of_model(agent, env_name):\n",
        "#     env = gym.make(env_name)\n",
        "#     vid = video_recorder.VideoRecorder(env, path=\"video/{}.mp4\".format(env_name))\n",
        "#     agent.qnetwork_local.load_state_dict(torch.load('checkpoint.pth'))\n",
        "#     state = env.reset()\n",
        "#     done = False\n",
        "#     while not done:\n",
        "#         frame = env.render(mode='rgb_array')\n",
        "#         vid.capture_frame()\n",
        "\n",
        "#         action = agent.act(state)\n",
        "\n",
        "#         state, reward, done, _ = env.step(action)\n",
        "#     env.close()"
      ]
    },
    {
      "cell_type": "code",
      "execution_count": null,
      "id": "4beb1d45-ab9a-4fd7-a769-017bbf1672e1",
      "metadata": {
        "colab": {
          "base_uri": "https://localhost:8080/",
          "height": 463
        },
        "id": "4beb1d45-ab9a-4fd7-a769-017bbf1672e1",
        "outputId": "7fc6d656-0095-4a7f-bde0-c70fbc78d887"
      },
      "outputs": [
        {
          "name": "stderr",
          "output_type": "stream",
          "text": [
            "/usr/local/lib/python3.10/dist-packages/gym/core.py:317: DeprecationWarning: \u001b[33mWARN: Initializing wrapper in old step API which returns one bool instead of two. It is recommended to set `new_step_api=True` to use new step API. This will be the default behaviour in future.\u001b[0m\n",
            "  deprecation(\n",
            "/usr/local/lib/python3.10/dist-packages/gym/wrappers/step_api_compatibility.py:39: DeprecationWarning: \u001b[33mWARN: Initializing environment in old step API which returns one bool instead of two. It is recommended to set `new_step_api=True` to use new step API. This will be the default behaviour in future.\u001b[0m\n",
            "  deprecation(\n",
            "/usr/local/lib/python3.10/dist-packages/gym/wrappers/monitoring/video_recorder.py:78: DeprecationWarning: \u001b[33mWARN: Recording ability for environment LunarLander-v2 initialized with `render_mode=None` is marked as deprecated and will be removed in the future.\u001b[0m\n",
            "  logger.deprecation(\n",
            "/usr/local/lib/python3.10/dist-packages/gym/wrappers/monitoring/video_recorder.py:101: DeprecationWarning: \u001b[33mWARN: <class 'gym.wrappers.monitoring.video_recorder.VideoRecorder'> is marked as deprecated and will be removed in the future.\u001b[0m\n",
            "  logger.deprecation(\n"
          ]
        },
        {
          "ename": "FileNotFoundError",
          "evalue": "[Errno 2] No such file or directory: 'video/LunarLander-v2.mp4'",
          "output_type": "error",
          "traceback": [
            "\u001b[0;31m---------------------------------------------------------------------------\u001b[0m",
            "\u001b[0;31mFileNotFoundError\u001b[0m                         Traceback (most recent call last)",
            "\u001b[0;32m<ipython-input-14-b4fbd53cdbbb>\u001b[0m in \u001b[0;36m<cell line: 2>\u001b[0;34m()\u001b[0m\n\u001b[1;32m      1\u001b[0m \u001b[0magent\u001b[0m \u001b[0;34m=\u001b[0m \u001b[0mAgent\u001b[0m\u001b[0;34m(\u001b[0m\u001b[0mstate_size\u001b[0m\u001b[0;34m=\u001b[0m\u001b[0;36m8\u001b[0m\u001b[0;34m,\u001b[0m \u001b[0maction_size\u001b[0m\u001b[0;34m=\u001b[0m\u001b[0;36m4\u001b[0m\u001b[0;34m,\u001b[0m \u001b[0mseed\u001b[0m\u001b[0;34m=\u001b[0m\u001b[0;36m0\u001b[0m\u001b[0;34m)\u001b[0m\u001b[0;34m\u001b[0m\u001b[0;34m\u001b[0m\u001b[0m\n\u001b[0;32m----> 2\u001b[0;31m \u001b[0mshow_video_of_model\u001b[0m\u001b[0;34m(\u001b[0m\u001b[0magent\u001b[0m\u001b[0;34m,\u001b[0m \u001b[0;34m'LunarLander-v2'\u001b[0m\u001b[0;34m)\u001b[0m\u001b[0;34m\u001b[0m\u001b[0;34m\u001b[0m\u001b[0m\n\u001b[0m",
            "\u001b[0;32m<ipython-input-13-842c1171cd92>\u001b[0m in \u001b[0;36mshow_video_of_model\u001b[0;34m(agent, env_name)\u001b[0m\n\u001b[1;32m     14\u001b[0m \u001b[0;32mdef\u001b[0m \u001b[0mshow_video_of_model\u001b[0m\u001b[0;34m(\u001b[0m\u001b[0magent\u001b[0m\u001b[0;34m,\u001b[0m \u001b[0menv_name\u001b[0m\u001b[0;34m)\u001b[0m\u001b[0;34m:\u001b[0m\u001b[0;34m\u001b[0m\u001b[0;34m\u001b[0m\u001b[0m\n\u001b[1;32m     15\u001b[0m     \u001b[0menv\u001b[0m \u001b[0;34m=\u001b[0m \u001b[0mgym\u001b[0m\u001b[0;34m.\u001b[0m\u001b[0mmake\u001b[0m\u001b[0;34m(\u001b[0m\u001b[0menv_name\u001b[0m\u001b[0;34m)\u001b[0m\u001b[0;34m\u001b[0m\u001b[0;34m\u001b[0m\u001b[0m\n\u001b[0;32m---> 16\u001b[0;31m     \u001b[0mvid\u001b[0m \u001b[0;34m=\u001b[0m \u001b[0mvideo_recorder\u001b[0m\u001b[0;34m.\u001b[0m\u001b[0mVideoRecorder\u001b[0m\u001b[0;34m(\u001b[0m\u001b[0menv\u001b[0m\u001b[0;34m,\u001b[0m \u001b[0mpath\u001b[0m\u001b[0;34m=\u001b[0m\u001b[0;34m\"video/{}.mp4\"\u001b[0m\u001b[0;34m.\u001b[0m\u001b[0mformat\u001b[0m\u001b[0;34m(\u001b[0m\u001b[0menv_name\u001b[0m\u001b[0;34m)\u001b[0m\u001b[0;34m)\u001b[0m\u001b[0;34m\u001b[0m\u001b[0;34m\u001b[0m\u001b[0m\n\u001b[0m\u001b[1;32m     17\u001b[0m     \u001b[0magent\u001b[0m\u001b[0;34m.\u001b[0m\u001b[0mqnetwork_local\u001b[0m\u001b[0;34m.\u001b[0m\u001b[0mload_state_dict\u001b[0m\u001b[0;34m(\u001b[0m\u001b[0mtorch\u001b[0m\u001b[0;34m.\u001b[0m\u001b[0mload\u001b[0m\u001b[0;34m(\u001b[0m\u001b[0;34m'checkpoint.pth'\u001b[0m\u001b[0;34m)\u001b[0m\u001b[0;34m)\u001b[0m\u001b[0;34m\u001b[0m\u001b[0;34m\u001b[0m\u001b[0m\n\u001b[1;32m     18\u001b[0m     \u001b[0mstate\u001b[0m \u001b[0;34m=\u001b[0m \u001b[0menv\u001b[0m\u001b[0;34m.\u001b[0m\u001b[0mreset\u001b[0m\u001b[0;34m(\u001b[0m\u001b[0;34m)\u001b[0m\u001b[0;34m\u001b[0m\u001b[0;34m\u001b[0m\u001b[0m\n",
            "\u001b[0;32m/usr/local/lib/python3.10/dist-packages/gym/wrappers/monitoring/video_recorder.py\u001b[0m in \u001b[0;36m__init__\u001b[0;34m(self, env, path, metadata, enabled, base_path, internal_backend_use)\u001b[0m\n\u001b[1;32m    134\u001b[0m         \u001b[0;31m# Touch the file in any case, so we know it's present. This corrects for platform platform differences.\u001b[0m\u001b[0;34m\u001b[0m\u001b[0;34m\u001b[0m\u001b[0m\n\u001b[1;32m    135\u001b[0m         \u001b[0;31m# Using ffmpeg on OS X, the file is precreated, but not on Linux.\u001b[0m\u001b[0;34m\u001b[0m\u001b[0;34m\u001b[0m\u001b[0m\n\u001b[0;32m--> 136\u001b[0;31m         \u001b[0mtouch\u001b[0m\u001b[0;34m(\u001b[0m\u001b[0mpath\u001b[0m\u001b[0;34m)\u001b[0m\u001b[0;34m\u001b[0m\u001b[0;34m\u001b[0m\u001b[0m\n\u001b[0m\u001b[1;32m    137\u001b[0m \u001b[0;34m\u001b[0m\u001b[0m\n\u001b[1;32m    138\u001b[0m         \u001b[0mself\u001b[0m\u001b[0;34m.\u001b[0m\u001b[0mframes_per_sec\u001b[0m \u001b[0;34m=\u001b[0m \u001b[0menv\u001b[0m\u001b[0;34m.\u001b[0m\u001b[0mmetadata\u001b[0m\u001b[0;34m.\u001b[0m\u001b[0mget\u001b[0m\u001b[0;34m(\u001b[0m\u001b[0;34m\"render_fps\"\u001b[0m\u001b[0;34m,\u001b[0m \u001b[0;36m30\u001b[0m\u001b[0;34m)\u001b[0m\u001b[0;34m\u001b[0m\u001b[0;34m\u001b[0m\u001b[0m\n",
            "\u001b[0;32m/usr/local/lib/python3.10/dist-packages/gym/wrappers/monitoring/video_recorder.py\u001b[0m in \u001b[0;36mtouch\u001b[0;34m(path)\u001b[0m\n\u001b[1;32m     17\u001b[0m \u001b[0;32mdef\u001b[0m \u001b[0mtouch\u001b[0m\u001b[0;34m(\u001b[0m\u001b[0mpath\u001b[0m\u001b[0;34m:\u001b[0m \u001b[0mstr\u001b[0m\u001b[0;34m)\u001b[0m\u001b[0;34m:\u001b[0m\u001b[0;34m\u001b[0m\u001b[0;34m\u001b[0m\u001b[0m\n\u001b[1;32m     18\u001b[0m     \u001b[0;34m\"\"\"Touch a filename at path.\"\"\"\u001b[0m\u001b[0;34m\u001b[0m\u001b[0;34m\u001b[0m\u001b[0m\n\u001b[0;32m---> 19\u001b[0;31m     \u001b[0mopen\u001b[0m\u001b[0;34m(\u001b[0m\u001b[0mpath\u001b[0m\u001b[0;34m,\u001b[0m \u001b[0;34m\"a\"\u001b[0m\u001b[0;34m)\u001b[0m\u001b[0;34m.\u001b[0m\u001b[0mclose\u001b[0m\u001b[0;34m(\u001b[0m\u001b[0;34m)\u001b[0m\u001b[0;34m\u001b[0m\u001b[0;34m\u001b[0m\u001b[0m\n\u001b[0m\u001b[1;32m     20\u001b[0m \u001b[0;34m\u001b[0m\u001b[0m\n\u001b[1;32m     21\u001b[0m \u001b[0;34m\u001b[0m\u001b[0m\n",
            "\u001b[0;31mFileNotFoundError\u001b[0m: [Errno 2] No such file or directory: 'video/LunarLander-v2.mp4'"
          ]
        }
      ],
      "source": [
        "# agent = Agent(state_size=8, action_size=4, seed=0)\n",
        "# show_video_of_model(agent, 'LunarLander-v2')"
      ]
    },
    {
      "cell_type": "code",
      "execution_count": null,
      "id": "f54ee0a0-265b-4161-bbb6-25e28543aa2e",
      "metadata": {
        "id": "f54ee0a0-265b-4161-bbb6-25e28543aa2e"
      },
      "outputs": [],
      "source": [
        "show_video('LunarLander-v2')"
      ]
    }
  ],
  "metadata": {
    "colab": {
      "provenance": []
    },
    "kernelspec": {
      "display_name": "Python 3.9.18 ('torch')",
      "language": "python",
      "name": "python3"
    },
    "language_info": {
      "codemirror_mode": {
        "name": "ipython",
        "version": 3
      },
      "file_extension": ".py",
      "mimetype": "text/x-python",
      "name": "python",
      "nbconvert_exporter": "python",
      "pygments_lexer": "ipython3",
      "version": "3.9.18"
    },
    "vscode": {
      "interpreter": {
        "hash": "af18273774455bc90f5456b9f4898eab7ba4de506fde0c1d0784da333c7e8bbc"
      }
    }
  },
  "nbformat": 4,
  "nbformat_minor": 5
}
