{
 "cells": [
  {
   "cell_type": "markdown",
   "metadata": {},
   "source": [
    "# Learn from cleanrl implementation\n",
    "\n",
    "https://github.com/vwxyzjn/cleanrl/blob/master/cleanrl/dqn.py"
   ]
  },
  {
   "cell_type": "markdown",
   "metadata": {},
   "source": [
    "# import"
   ]
  },
  {
   "cell_type": "code",
   "execution_count": 13,
   "metadata": {},
   "outputs": [
    {
     "data": {
      "text/plain": [
       "<torch._C.Generator at 0x15e5128b0>"
      ]
     },
     "execution_count": 13,
     "metadata": {},
     "output_type": "execute_result"
    }
   ],
   "source": [
    "import gymnasium as gym\n",
    "import seaborn as sns\n",
    "import os\n",
    "from collections import deque, Counter, namedtuple, defaultdict\n",
    "import random\n",
    "from matplotlib import pyplot as plt\n",
    "import torch\n",
    "from torch import nn\n",
    "from torch.nn import init\n",
    "import torch.nn.functional as F\n",
    "from torch.distributions import Categorical\n",
    "import math\n",
    "from itertools import count\n",
    "from tqdm import tqdm\n",
    "import numpy as np\n",
    "import time\n",
    "import uuid\n",
    "import pickle\n",
    "from tqdm import tqdm\n",
    "\n",
    "\n",
    "from stable_baselines3.common.atari_wrappers import (\n",
    "    ClipRewardEnv, \n",
    "    EpisodicLifeEnv, #make end of life = end of episode\n",
    "    FireResetEnv,\n",
    "    MaxAndSkipEnv,\n",
    "    NoopResetEnv\n",
    ")\n",
    "\n",
    "from stable_baselines3.common.buffers import ReplayBuffer\n",
    "\n",
    "import warnings\n",
    "warnings.filterwarnings(\"ignore\", category=DeprecationWarning)\n",
    "warnings.filterwarnings(\"ignore\", category=RuntimeWarning)\n",
    "warnings.filterwarnings(\"ignore\", category=FutureWarning)\n",
    "\n",
    "SEED = 42\n",
    "\n",
    "#seed\n",
    "random.seed(SEED)\n",
    "np.random.seed(SEED)\n",
    "torch.manual_seed(SEED)"
   ]
  },
  {
   "cell_type": "markdown",
   "metadata": {},
   "source": [
    "# Hyperparams"
   ]
  },
  {
   "cell_type": "code",
   "execution_count": 14,
   "metadata": {},
   "outputs": [
    {
     "name": "stdout",
     "output_type": "stream",
     "text": [
      "device =  cpu\n"
     ]
    }
   ],
   "source": [
    "ENV_ARGS = {\n",
    "    'id': 'LunarLander-v2'\n",
    "}\n",
    "\n",
    "ROOT = os.getcwd()\n",
    "OUTPUT = os.path.join(ROOT, 'output', ENV_ARGS['id'])\n",
    "\n",
    "if os.path.exists(OUTPUT) == False:\n",
    "    os.makedirs(OUTPUT)\n",
    "\n",
    "NUM_ENVS = 3\n",
    "DEVICE = 'cuda' if torch.cuda.is_available() else 'cpu'\n",
    "print(\"device = \", DEVICE)"
   ]
  },
  {
   "cell_type": "markdown",
   "metadata": {},
   "source": [
    "# env wrapper"
   ]
  },
  {
   "cell_type": "code",
   "execution_count": 15,
   "metadata": {},
   "outputs": [],
   "source": [
    "def make_env(**env_args):\n",
    "    env = gym.make(**env_args)\n",
    "    env = gym.wrappers.RecordEpisodeStatistics(env)\n",
    "    # env = NoopResetEnv(env)\n",
    "    # env = MaxAndSkipEnv(env)\n",
    "    # env = EpisodicLifeEnv(env)\n",
    "    # if \"FIRE\" in env.unwrapped.get_action_meanings():\n",
    "    #     env = FireResetEnv(env)\n",
    "    # env = ClipRewardEnv(env)\n",
    "    # env = gym.wrappers.ResizeObservation(env, (84, 84))\n",
    "    # env = gym.wrappers.GrayScaleObservation(env)\n",
    "    # env = gym.wrappers.FrameStack(env, 4)\n",
    "\n",
    "    return env"
   ]
  },
  {
   "cell_type": "markdown",
   "metadata": {},
   "source": [
    "# Qnetwork"
   ]
  },
  {
   "cell_type": "code",
   "execution_count": 17,
   "metadata": {},
   "outputs": [],
   "source": [
    "class QNetwork(nn.Module):\n",
    "    def __init__(self, envs: gym.Env, hidden_size = 64):\n",
    "\n",
    "        super().__init__()\n",
    "\n",
    "        self.state_shape = np.prod(envs.single_observation_space.shape)\n",
    "        self.action_shape = np.prod(envs.single_action_space.n)\n",
    "\n",
    "        self.network = nn.Sequential(\n",
    "            nn.Linear(self.state_shape, hidden_size),\n",
    "            nn.ReLU(),\n",
    "            nn.Linear(hidden_size, hidden_size),\n",
    "            nn.ReLU(),\n",
    "            nn.Linear(hidden_size, self.action_shape),\n",
    "        )\n",
    "\n",
    "    def forward(self, x):\n",
    "        return self.network(x)\n"
   ]
  },
  {
   "cell_type": "code",
   "execution_count": 18,
   "metadata": {},
   "outputs": [
    {
     "name": "stdout",
     "output_type": "stream",
     "text": [
      "observation shape =  torch.Size([3, 8])\n",
      "observation shape =  4\n",
      "action shape =  torch.Size([3, 4])\n"
     ]
    }
   ],
   "source": [
    "# Test running network on env\n",
    "\n",
    "# Test env\n",
    "envs = gym.vector.SyncVectorEnv(\n",
    "    [lambda : make_env(**ENV_ARGS) for _ in range(NUM_ENVS)]\n",
    ") \n",
    "\n",
    "assert isinstance(envs.single_action_space, gym.spaces.Discrete), 'Only discrete action is supported'\n",
    "\n",
    "obs, info = envs.reset()\n",
    "obs = torch.tensor(obs)\n",
    "print('observation shape = ', obs.shape)\n",
    "print('observation shape = ', envs.single_action_space.n)\n",
    "\n",
    "qnet = QNetwork(envs)\n",
    "\n",
    "action = qnet(obs)\n",
    "\n",
    "print('action shape = ', action.shape)\n"
   ]
  },
  {
   "cell_type": "markdown",
   "metadata": {},
   "source": [
    "# Epsilone decay function"
   ]
  },
  {
   "cell_type": "code",
   "execution_count": 19,
   "metadata": {},
   "outputs": [],
   "source": [
    "def linear_schedule(start_e: int, end_e:int , total_t:int , t:int ):\n",
    "    # epsilone value decays linear\n",
    "    slope = (end_e - start_e) / total_t\n",
    "    return max(slope * t + start_e, end_e)\n",
    "\n",
    "def plot_schedule(function, start_e, end_e, duration, explore_fraction = 1.0):\n",
    "    #  explore for some time, then only exploit (epsilon stays at end_e)\n",
    "    data = []\n",
    "\n",
    "    for t in range(duration):\n",
    "        v = function(start_e, end_e, int(explore_fraction * duration), t)\n",
    "        data.append(v)\n",
    "    \n",
    "    sns.lineplot(y = data, x = list(range(len(data))))\n",
    "    plt.title('schedule plot')\n",
    "    plt.show()\n",
    "\n",
    "def plot(history, show = False, save_path = None):\n",
    "    sns.lineplot(y = history['reward'], x = list(range(len(history['reward']))))\n",
    "\n",
    "    if save_path != None:\n",
    "        plt.savefig(save_path)\n",
    "    if show:\n",
    "        plt.show()\n",
    "        \n",
    "    plt.clf()\n",
    "    plt.close()"
   ]
  },
  {
   "cell_type": "code",
   "execution_count": 20,
   "metadata": {},
   "outputs": [
    {
     "data": {
      "image/png": "[encoded data removed]",
      "text/plain": [
       "<Figure size 640x480 with 1 Axes>"
      ]
     },
     "metadata": {},
     "output_type": "display_data"
    }
   ],
   "source": [
    "# Test\n",
    "plot_schedule(linear_schedule, 1.0, 0.01, 1000, 0.2)"
   ]
  },
  {
   "cell_type": "markdown",
   "metadata": {},
   "source": [
    "# Training loop"
   ]
  },
  {
   "cell_type": "code",
   "execution_count": 29,
   "metadata": {},
   "outputs": [],
   "source": [
    "def replay_buffer_usage(rb: ReplayBuffer):\n",
    "    return (rb.pos / rb.buffer_size) * 100 if rb.full == False else 100\n",
    "\n",
    "def tune(envs, policy_net, target_net, optimizer, start_ep, end_ep, gamma,\n",
    "    explore_fraction = 0.3, \n",
    "    buffer_size=int(1e6), batch_size = 32,\n",
    "    total_timesteps = int(10e6), warmup_steps = 5000, skip_steps = 4,\n",
    "    device = DEVICE, plot_update_freq = 5, target_sync_freq = 4, tau = 1.0,\n",
    "    label = 'baseline'):\n",
    "\n",
    "    observation_space = envs.single_observation_space\n",
    "    action_space = envs.single_action_space\n",
    "    n_envs = envs.observation_space.shape[0]\n",
    "\n",
    "    SAVE_PATH = os.path.join(OUTPUT, label)\n",
    "    FIG_SAVE_PATH = os.path.join(SAVE_PATH, 'plot.png')\n",
    "\n",
    "    if os.path.exists(SAVE_PATH) == False:\n",
    "        os.makedirs(SAVE_PATH)\n",
    "\n",
    "    print('save path = ', SAVE_PATH)\n",
    "\n",
    "    replay_buffer = ReplayBuffer(\n",
    "        buffer_size,\n",
    "        observation_space,\n",
    "        action_space,\n",
    "        device,\n",
    "        n_envs=n_envs,\n",
    "        optimize_memory_usage=True,\n",
    "        handle_timeout_termination=False\n",
    "    )\n",
    "\n",
    "    obs, _ = envs.reset()\n",
    "    loop = tqdm(range(total_timesteps))\n",
    "\n",
    "    score_window = deque(maxlen=100)\n",
    "    loss_window = deque(maxlen=100)\n",
    "    history = defaultdict(list)\n",
    "\n",
    "    optimize_count = 0\n",
    "    sync_count = 0\n",
    "    loss = None\n",
    "    buffer_current_size = 0\n",
    "    episode_count = 0\n",
    "    start = time.time()\n",
    "    updated_t = 0\n",
    "    best_score = -float('inf')\n",
    "\n",
    "    for global_step in loop:\n",
    "        #get elapsed time in seconds\n",
    "        t = int(loop.format_dict['elapsed'])\n",
    "\n",
    "        epsilon = linear_schedule(start_ep, end_ep, int( explore_fraction *  total_timesteps), global_step)\n",
    "\n",
    "        #greedy epsilon \n",
    "        p = random.random()\n",
    "\n",
    "        if epsilon > p:\n",
    "            #explore\n",
    "            actions = np.array([envs.single_action_space.sample() for _ in range(n_envs)])\n",
    "        else:\n",
    "            action_pred = policy_net(torch.tensor(obs).to(device)) \n",
    "            actions = torch.argmax(action_pred, dim = 1).cpu().numpy()\n",
    "        \n",
    "        # print('actions = ', actions.shape)\n",
    "        \n",
    "        next_obs, rewards, terminated, truncated, infos = envs.step(actions)\n",
    "\n",
    "        if 'final_info' in infos:\n",
    "            for k,v in infos.items():\n",
    "                for info in infos['final_info']:\n",
    "                    if info and 'episode' in info:\n",
    "                        ep_return = info['episode']['r']\n",
    "                        score_window.append(ep_return)\n",
    "                        episode_count += 1\n",
    "\n",
    "                        avg_reward = np.mean(score_window)\n",
    "                        avg_loss = np.mean(loss_window)\n",
    "                        history['reward'].append(avg_reward)\n",
    "\n",
    "                        #save model with new best score \n",
    "                        if avg_reward > best_score:\n",
    "                            best_score = avg_reward\n",
    "                            torch.save(policy_net, os.path.join(SAVE_PATH, 'policy.checkpoint.torch'))\n",
    "                            torch.save(target_net, os.path.join(SAVE_PATH, 'target.checkpoint.torch'))\n",
    "        \n",
    "        #save transition to replay buffer\n",
    "        real_next_obs = next_obs.copy()\n",
    "        for idx, trunc in enumerate(truncated):\n",
    "            if trunc:\n",
    "                real_next_obs[idx] = infos[\"final_observation\"][idx]\n",
    "        \n",
    "        replay_buffer.add(obs, real_next_obs, actions, rewards, terminated, infos)\n",
    "        buffer_current_size += 1\n",
    "\n",
    "        obs = next_obs\n",
    "\n",
    "        #training with DQN algorithm\n",
    "        if global_step > warmup_steps:\n",
    "            if global_step % skip_steps == 0:\n",
    "                optimize_count += 1\n",
    "                b_obs, b_actions, b_next_obs, b_dones, b_rewards = replay_buffer.sample(batch_size)\n",
    "                data = replay_buffer.sample(batch_size)\n",
    "\n",
    "                with torch.no_grad():\n",
    "                    target_value = target_net(b_next_obs).max(1).values\n",
    "                    td_target = b_rewards.flatten() + gamma * target_value * (1 - b_dones.flatten())\n",
    "                \n",
    "                old_value = policy_net(b_obs).gather(1, b_actions).squeeze()\n",
    "\n",
    "                loss = F.mse_loss(td_target, old_value)\n",
    "\n",
    "                optimizer.zero_grad()\n",
    "                loss.backward()\n",
    "                optimizer.step()\n",
    "\n",
    "                loss_window.append(loss.item())\n",
    "\n",
    "                if global_step % target_sync_freq == 0:\n",
    "                    #perform soft update\n",
    "                    sync_count += 1\n",
    "                    target_net.load_state_dict(policy_net.state_dict())\n",
    "\n",
    "            if t != updated_t and t % plot_update_freq == 0: \n",
    "                plot(history, save_path = FIG_SAVE_PATH)\n",
    "                updated_t = t\n",
    "                loop.set_description(f\"epsilon = {epsilon:.2f}, episode={episode_count}, avg_reward = {avg_reward:.2f}, buffer usage = {replay_buffer_usage(replay_buffer):.2f}\")\n",
    "\n",
    "\n",
    "\n",
    "    plot(history, show = True, save_path = FIG_SAVE_PATH)\n",
    "    \n",
    "    with open(os.path.join(SAVE_PATH, 'history.pickle'), 'wb') as file:\n",
    "        pickle.dump(history, file)\n"
   ]
  },
  {
   "cell_type": "code",
   "execution_count": 30,
   "metadata": {},
   "outputs": [
    {
     "name": "stdout",
     "output_type": "stream",
     "text": [
      "observation shape =  torch.Size([1, 8])\n",
      "observation shape =  4\n",
      "save path =  /Volumes/SanDisk/NLP_RNN/Reinforcement Learning/deep rl/dqn/output/LunarLander-v2/baseline\n"
     ]
    },
    {
     "name": "stderr",
     "output_type": "stream",
     "text": [
      "epsilon = 0.01, episode=30456, avg_reward = 279.17, buffer usage = 100.00: 100%|██████████| 2000000/2000000 [11:23<00:00, 2928.21it/s]\n"
     ]
    },
    {
     "data": {
      "image/png": "[encoded data removed]",
      "text/plain": [
       "<Figure size 640x480 with 1 Axes>"
      ]
     },
     "metadata": {},
     "output_type": "display_data"
    }
   ],
   "source": [
    "#parameter\n",
    "lr = 1e-3\n",
    "start_ep = 1.0\n",
    "end_ep = 0.01\n",
    "total_timesteps = int(2e6)\n",
    "device = DEVICE\n",
    "gamma = 0.99\n",
    "plot_update_freq = 10\n",
    "hidden_size = 128\n",
    "buffer_size = int(1e6)\n",
    "batch_size = 128\n",
    "warmup_steps = 1000\n",
    "explore_fraction = 0.1\n",
    "\n",
    "# Test env\n",
    "envs = gym.vector.SyncVectorEnv(\n",
    "    [lambda : make_env(**ENV_ARGS) for _ in range(1)]\n",
    ") \n",
    "\n",
    "assert isinstance(envs.single_action_space, gym.spaces.Discrete), 'Only discrete action is supported'\n",
    "\n",
    "obs, info = envs.reset()\n",
    "obs = torch.tensor(obs)\n",
    "print('observation shape = ', obs.shape)\n",
    "print('observation shape = ', envs.single_action_space.n)\n",
    "\n",
    "policy_net = QNetwork(envs, hidden_size=hidden_size).to(device)\n",
    "target_net = QNetwork(envs, hidden_size=hidden_size).to(device)\n",
    "\n",
    "target_net.load_state_dict(policy_net.state_dict())\n",
    "\n",
    "optimizer = torch.optim.Adam(policy_net.parameters(), lr = lr)\n",
    "\n",
    "tune(envs, policy_net, target_net, optimizer, \n",
    "start_ep = start_ep, end_ep = end_ep, gamma= gamma, explore_fraction = explore_fraction,\n",
    "buffer_size=buffer_size, batch_size = batch_size,\n",
    "device = device, total_timesteps=total_timesteps, plot_update_freq= plot_update_freq, warmup_steps=warmup_steps)\n"
   ]
  },
  {
   "cell_type": "code",
   "execution_count": null,
   "metadata": {},
   "outputs": [],
   "source": []
  },
  {
   "cell_type": "code",
   "execution_count": null,
   "metadata": {},
   "outputs": [],
   "source": []
  },
  {
   "cell_type": "code",
   "execution_count": null,
   "metadata": {},
   "outputs": [],
   "source": []
  },
  {
   "cell_type": "code",
   "execution_count": null,
   "metadata": {},
   "outputs": [],
   "source": []
  },
  {
   "cell_type": "code",
   "execution_count": null,
   "metadata": {},
   "outputs": [],
   "source": []
  }
 ],
 "metadata": {
  "kernelspec": {
   "display_name": "Python 3.9.18 ('torch')",
   "language": "python",
   "name": "python3"
  },
  "language_info": {
   "codemirror_mode": {
    "name": "ipython",
    "version": 3
   },
   "file_extension": ".py",
   "mimetype": "text/x-python",
   "name": "python",
   "nbconvert_exporter": "python",
   "pygments_lexer": "ipython3",
   "version": "3.9.18"
  },
  "orig_nbformat": 4,
  "vscode": {
   "interpreter": {
    "hash": "af18273774455bc90f5456b9f4898eab7ba4de506fde0c1d0784da333c7e8bbc"
   }
  }
 },
 "nbformat": 4,
 "nbformat_minor": 2
}
