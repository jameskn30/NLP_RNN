{
 "cells": [
  {
   "cell_type": "markdown",
   "metadata": {},
   "source": [
    "# Import"
   ]
  },
  {
   "cell_type": "code",
   "execution_count": 4,
   "metadata": {},
   "outputs": [],
   "source": [
    "import gymnasium as gym\n",
    "import seaborn as sns\n",
    "import os\n",
    "from collections import deque, Counter, namedtuple, defaultdict\n",
    "import random\n",
    "from matplotlib import pyplot as plt\n",
    "import warnings\n",
    "warnings.simplefilter(action='ignore', category=FutureWarning)\n",
    "warnings.simplefilter(action='ignore', category=UserWarning)\n",
    "import torch\n",
    "from torch import nn\n",
    "import torch.nn.functional as F\n",
    "import math\n",
    "from itertools import count\n",
    "from tqdm import tqdm\n",
    "import numpy as np\n",
    "import time\n",
    "\n",
    "#Setting up matplotlib for live update the traiing progress\n",
    "import matplotlib\n",
    "is_ipython = 'inline' in matplotlib.get_backend()\n",
    "if is_ipython:\n",
    "    from IPython import display"
   ]
  },
  {
   "cell_type": "markdown",
   "metadata": {},
   "source": [
    "# Test Env"
   ]
  },
  {
   "cell_type": "code",
   "execution_count": 5,
   "metadata": {},
   "outputs": [
    {
     "name": "stderr",
     "output_type": "stream",
     "text": [
      "  0%|          | 0/10 [00:00<?, ?it/s]/Users/jamesnguyen/anaconda3/envs/torch/lib/python3.9/site-packages/gymnasium/utils/passive_env_checker.py:233: DeprecationWarning: `np.bool8` is a deprecated alias for `np.bool_`.  (Deprecated NumPy 1.24)\n",
      "  if not isinstance(terminated, (bool, np.bool8)):\n",
      "100%|██████████| 10/10 [00:00<00:00, 145.39it/s]\n"
     ]
    },
    {
     "data": {
      "image/png": "[encoded data removed]",
      "text/plain": [
       "<Figure size 640x480 with 1 Axes>"
      ]
     },
     "metadata": {},
     "output_type": "display_data"
    }
   ],
   "source": [
    "env = gym.make('LunarLander-v2')\n",
    "obs, info = env.reset()\n",
    "\n",
    "rewards = []\n",
    "for ep in tqdm(range(10)):\n",
    "    obs, info = env.reset()\n",
    "    total_reward = 0\n",
    "\n",
    "    for t in count():\n",
    "        action = env.action_space.sample()\n",
    "        state, reward, terminated, truncated, info = env.step(action)\n",
    "        total_reward += reward\n",
    "        if terminated or truncated: \n",
    "            break\n",
    "    \n",
    "    rewards.append(total_reward)\n",
    "\n",
    "sns.lineplot(y = rewards, x = list(range(len(rewards))))\n",
    "plt.show()\n",
    "env.close()"
   ]
  },
  {
   "cell_type": "markdown",
   "metadata": {},
   "source": [
    "# DQN"
   ]
  },
  {
   "cell_type": "code",
   "execution_count": 23,
   "metadata": {},
   "outputs": [],
   "source": [
    "class DQN(nn.Module):\n",
    "    \"\"\"Actor (Policy) Model.\"\"\"\n",
    "\n",
    "    def __init__(self, input_size, output_size, hidden_size):\n",
    "        \"\"\"Initialize parameters and build model.\n",
    "        Params\n",
    "        ======\n",
    "            state_size (int): Dimension of each state\n",
    "            action_size (int): Dimension of each action\n",
    "            seed (int): Random seed\n",
    "        \"\"\"\n",
    "        super().__init__()\n",
    "        # self.seed = torch.manual_seed(seed)\n",
    "        self.fc1 = nn.Linear(input_size, hidden_size)\n",
    "        self.fc2 = nn.Linear(hidden_size, hidden_size)\n",
    "        self.fc3 = nn.Linear(hidden_size, output_size)\n",
    "\n",
    "    def forward(self, state):\n",
    "        \"\"\"Build a network that maps state -> action values.\"\"\"\n",
    "        x = self.fc1(state)\n",
    "        x = F.relu(x)\n",
    "        x = self.fc2(x)\n",
    "        x = F.relu(x)\n",
    "        return self.fc3(x)"
   ]
  },
  {
   "cell_type": "markdown",
   "metadata": {},
   "source": [
    "# Replay Memory"
   ]
  },
  {
   "cell_type": "code",
   "execution_count": 24,
   "metadata": {},
   "outputs": [],
   "source": [
    "Transition = namedtuple('Transition', ('state', 'action', 'reward', 'next_state', 'done'))\n",
    "class ReplayMemory():\n",
    "    def __init__(self, capacity) -> None:\n",
    "        self.capacity = capacity\n",
    "        self.memory = deque(maxlen = capacity)\n",
    "    \n",
    "    def push(self, state, action, reward, next_state, done):\n",
    "        args = [state, action,reward, next_state, done]\n",
    "        names = ['state', 'action', 'reward', 'next_state', 'done']\n",
    "        #NOTE: make sure the arguments are tensor and shape = (1,-1)\n",
    "        for arg, name in zip(args, names):\n",
    "            assert torch.is_tensor(arg), f'{name} to memory replay must be a tensor'\n",
    "            assert len(arg.shape) == 2, f'{name} shape must be in the shape (1, -1)'\n",
    "        \n",
    "        self.memory.append(Transition(state, action, reward, next_state, done))\n",
    "    \n",
    "    def sample(self, batch_size):\n",
    "        '''\n",
    "        @params: \n",
    "            batch_size: int\n",
    "        @return:\n",
    "            states: torch.tensor\n",
    "            actions: torch.tensor\n",
    "            rewards: torch.tensor\n",
    "            next_states: torch.tensor\n",
    "            done: torch.tensor\n",
    "        '''\n",
    "        if batch_size > len(self.memory): return None\n",
    "        transitions = random.sample(self.memory, batch_size)\n",
    "        batch = Transition(*zip(*transitions))\n",
    "        state_batch = torch.cat(batch.state)\n",
    "        next_state_batch = torch.cat(batch.next_state)\n",
    "        action_batch = torch.cat(batch.action)\n",
    "        reward_batch = torch.cat(batch.reward)\n",
    "        done_batch = torch.cat(batch.done)\n",
    "\n",
    "\n",
    "        return (state_batch, action_batch, reward_batch, next_state_batch, done_batch)\n",
    "    \n",
    "    def __len__(self):\n",
    "        return len(self.memory)\n",
    "    \n",
    "    def clear(self):\n",
    "        self.memory.clear()"
   ]
  },
  {
   "cell_type": "code",
   "execution_count": 25,
   "metadata": {},
   "outputs": [
    {
     "name": "stdout",
     "output_type": "stream",
     "text": [
      "tensor([[0.0866, 0.3238, 0.6501, 0.3248, 0.9368, 0.7643, 0.0305, 0.2673],\n",
      "        [0.7233, 0.3145, 0.3118, 0.5591, 0.7119, 0.5413, 0.2952, 0.7639],\n",
      "        [0.9736, 0.2367, 0.8142, 0.2173, 0.1707, 0.7651, 0.7933, 0.1644],\n",
      "        [0.6606, 0.6933, 0.5630, 0.2335, 0.1617, 0.6405, 0.1198, 0.7725],\n",
      "        [0.4742, 0.4207, 0.3761, 0.7273, 0.8850, 0.5037, 0.8226, 0.4503]])\n",
      "tensor([[0],\n",
      "        [1],\n",
      "        [1],\n",
      "        [3],\n",
      "        [1]])\n",
      "tensor([[ 0],\n",
      "        [-2],\n",
      "        [-1],\n",
      "        [-5],\n",
      "        [ 2]])\n",
      "tensor([[0.5876, 0.6966, 0.8175, 0.3951, 0.0796, 0.4643, 0.7297, 0.9859],\n",
      "        [0.4183, 0.2317, 0.3337, 0.5656, 0.2073, 0.7571, 0.6563, 0.4744],\n",
      "        [0.2057, 0.4547, 0.9967, 0.7512, 0.6406, 0.4472, 0.1102, 0.4695],\n",
      "        [0.1639, 0.2552, 0.1994, 0.9068, 0.1038, 0.2793, 0.1284, 0.3350],\n",
      "        [0.7067, 0.4345, 0.1968, 0.3911, 0.7633, 0.6586, 0.7286, 0.0908]])\n",
      "tensor([[1],\n",
      "        [1],\n",
      "        [0],\n",
      "        [0],\n",
      "        [0]], dtype=torch.int32)\n"
     ]
    }
   ],
   "source": [
    "#Test memory\n",
    "memory = ReplayMemory(capacity=10)\n",
    "env = gym.make('LunarLander-v2')\n",
    "obs, info = env.reset()\n",
    "observation_n = len(obs)\n",
    "action_n = env.action_space.n\n",
    "\n",
    "for _ in range(10):\n",
    "    state = torch.rand((1,observation_n))\n",
    "    next_state = torch.rand((1,observation_n))\n",
    "    action = torch.randint(0,action_n, (1,1))\n",
    "    reward = torch.randint(-10,10,(1,1))\n",
    "    done = torch.tensor([random.choice([True, False])], dtype = torch.int32).unsqueeze(0)\n",
    "\n",
    "    memory.push(state, action, reward, next_state, done)\n",
    "\n",
    "states, actions, rewards, next_states, dones = memory.sample(5)\n",
    "print(states)\n",
    "print(actions)\n",
    "print(rewards)\n",
    "print(next_states)\n",
    "print(dones)\n",
    "env.close()"
   ]
  },
  {
   "cell_type": "markdown",
   "metadata": {},
   "source": [
    "# Hyperparams"
   ]
  },
  {
   "cell_type": "markdown",
   "metadata": {},
   "source": [
    "# Agent"
   ]
  },
  {
   "cell_type": "code",
   "execution_count": 26,
   "metadata": {},
   "outputs": [],
   "source": [
    "BUFFER_SIZE = int(1e5)\n",
    "BATCH_SIZE = 64\n",
    "GAMMA = 0.99\n",
    "TAU = 1e-3\n",
    "LR = 5e-4\n",
    "C = 4\n",
    "\n",
    "\n",
    "class Agent():\n",
    "    def __init__(self, state_size, action_size, hidden_size = 64, \n",
    "                memory_cap = BUFFER_SIZE, batch_size = BATCH_SIZE, lr = LR,\n",
    "                gamma = GAMMA, c = C, tau = TAU, seed = 0, debug = False, ):\n",
    "\n",
    "        self.state_size = state_size\n",
    "        self.action_size = action_size\n",
    "        self.memory_cap = memory_cap\n",
    "        self.batch_size = batch_size\n",
    "        self.lr = LR\n",
    "        self.gamma = gamma\n",
    "        self.c = C\n",
    "        self.tau = TAU\n",
    "\n",
    "        #networks\n",
    "        self.policy_net = DQN(state_size, action_size, hidden_size = hidden_size)\n",
    "        self.target_net = DQN(state_size, action_size, hidden_size = hidden_size)\n",
    "\n",
    "        self.optimizer = torch.optim.Adam(self.policy_net.parameters(), lr = lr)\n",
    "        self.criterion = nn.MSELoss()\n",
    "\n",
    "        self.memory = ReplayMemory(memory_cap)\n",
    "        self.step_count = 0\n",
    "        self.sync_count = 0\n",
    "        self.exploit_count = 0\n",
    "        self.explore_count = 0\n",
    "\n",
    "\n",
    "        self.debug = debug\n",
    "    \n",
    "    def get_action(self, state, eps):\n",
    "        '''\n",
    "        @params:\n",
    "            state: torch.tensor\n",
    "            eps: float, set ep = 0, returns best action from policy net\n",
    "        @return:\n",
    "            action: torch.tensor, shape = (1,1)\n",
    "        '''\n",
    "        assert torch.is_tensor(state), 'state must be a tensor'\n",
    "        assert len(state.shape) == 2, 'state shape must be (1, -1)'\n",
    "\n",
    "        p = random.random()\n",
    "        #exploit\n",
    "        if p > eps:\n",
    "            self.exploit_count += 1\n",
    "            self.policy_net.eval()\n",
    "            with torch.no_grad():\n",
    "                action = self.policy_net(state).to(torch.int64).max(1).indices.reshape(1,1)\n",
    "            self.policy_net.train()\n",
    "            if self.debug:\n",
    "                print('expoit action')\n",
    "            return action\n",
    "        else:\n",
    "            self.explore_count += 1\n",
    "            if self.debug:\n",
    "                print('explore action')\n",
    "            return torch.tensor([random.choice(range(self.action_size))], dtype = torch.int64).view(1,1)\n",
    "    \n",
    "    def step(self, state, action, reward, next_state, done):\n",
    "        self.memory.push(state, action, reward, next_state, done)\n",
    "        self.step_count += 1\n",
    "\n",
    "        transitions = self.memory.sample(self.batch_size)\n",
    "        #if transitions is None, not enough memory batch to learn, skip it\n",
    "        if transitions != None:\n",
    "            self.learn(transitions)\n",
    "            #perform soft update if it's time\n",
    "            self._soft_update()\n",
    "    \n",
    "    def _soft_update(self):\n",
    "        if self.step_count % self.c == 0:\n",
    "            for target_param, policy_param in zip(self.target_net.parameters(), self.policy_net.parameters()):\n",
    "                target_param.data.copy_(self.tau*policy_param.data + (1.0-self.tau)*target_param.data)\n",
    "            self.sync_count += 1\n",
    "        \n",
    "    def learn(self, transitions):\n",
    "        (states, actions, rewards, next_states, dones) = transitions\n",
    "\n",
    "        #Calculate TD \n",
    "        target_net_output = self.target_net(next_states).detach().max(1).values.unsqueeze(1)\n",
    "        next_state_values = rewards + self.gamma * target_net_output * (1 - dones)\n",
    "\n",
    "        state_values = self.policy_net(states).gather(1, actions)\n",
    "        loss = F.mse_loss(state_values, next_state_values)\n",
    "        self.optimizer.zero_grad()\n",
    "        loss.backward()\n",
    "        self.optimizer.step()\n",
    "\n",
    "        if self.debug:\n",
    "            print(f'states = {states.shape},', states)\n",
    "            print(f'actions = {actions.shape},', actions)\n",
    "            print(f'rewards = {rewards.shape},', rewards)\n",
    "            print(f'next states = {next_states.shape},', next_states)\n",
    "            print(f'dones = {dones.shape},', dones)\n",
    "            print(f'state values {state_values.shape} = ', state_values)\n",
    "            print(f'next state values {next_state_values.shape} = ', next_state_values)\n",
    "            print(loss.item())\n",
    "\n",
    "        self._soft_update()\n",
    "    \n",
    "    def __str__(self):\n",
    "        params = f'sync_count={self.sync_count}'"
   ]
  },
  {
   "cell_type": "code",
   "execution_count": 27,
   "metadata": {},
   "outputs": [
    {
     "name": "stdout",
     "output_type": "stream",
     "text": [
      "tensor([[0]])\n",
      "tensor([[2]])\n"
     ]
    }
   ],
   "source": [
    "#Test agent class\n",
    "agent = Agent(8,4, batch_size = 5)\n",
    "sample_state = torch.rand((1,8))\n",
    "\n",
    "agent.memory = memory\n",
    "\n",
    "action = agent.get_action(sample_state,0.0)\n",
    "print(action)\n",
    "action = agent.get_action(sample_state, 0.99)\n",
    "print(action)\n",
    "\n",
    "transitions = memory.sample(5)\n",
    "\n",
    "agent.learn(transitions)\n",
    "\n"
   ]
  },
  {
   "cell_type": "markdown",
   "metadata": {},
   "source": [
    "# Training loop"
   ]
  },
  {
   "cell_type": "code",
   "execution_count": 28,
   "metadata": {},
   "outputs": [
    {
     "name": "stderr",
     "output_type": "stream",
     "text": [
      "e=150, epsilon=0.46912134373457726, avg_reward=-393.81879004371956, sync count = 6688, explore =9360, exploit = 4079:  15%|█▌        | 151/1000 [00:10<00:59, 14.26it/s]\n"
     ]
    },
    {
     "ename": "KeyboardInterrupt",
     "evalue": "",
     "output_type": "error",
     "traceback": [
      "\u001b[0;31m---------------------------------------------------------------------------\u001b[0m",
      "\u001b[0;31mKeyboardInterrupt\u001b[0m                         Traceback (most recent call last)",
      "Cell \u001b[0;32mIn[28], line 40\u001b[0m\n\u001b[1;32m     37\u001b[0m reward_tensor \u001b[38;5;241m=\u001b[39m torch\u001b[38;5;241m.\u001b[39mtensor([reward],dtype \u001b[38;5;241m=\u001b[39m torch\u001b[38;5;241m.\u001b[39mfloat32)\u001b[38;5;241m.\u001b[39munsqueeze(\u001b[38;5;241m0\u001b[39m)\n\u001b[1;32m     38\u001b[0m done_tensor \u001b[38;5;241m=\u001b[39m torch\u001b[38;5;241m.\u001b[39mtensor([done],dtype \u001b[38;5;241m=\u001b[39m torch\u001b[38;5;241m.\u001b[39mint32)\u001b[38;5;241m.\u001b[39munsqueeze(\u001b[38;5;241m0\u001b[39m)\n\u001b[0;32m---> 40\u001b[0m \u001b[43magent\u001b[49m\u001b[38;5;241;43m.\u001b[39;49m\u001b[43mstep\u001b[49m\u001b[43m(\u001b[49m\u001b[43mstate_tensor\u001b[49m\u001b[43m,\u001b[49m\u001b[43m \u001b[49m\u001b[43maction_tensor\u001b[49m\u001b[43m,\u001b[49m\u001b[43m \u001b[49m\u001b[43mreward_tensor\u001b[49m\u001b[43m,\u001b[49m\u001b[43m \u001b[49m\u001b[43mnext_state_tensor\u001b[49m\u001b[43m,\u001b[49m\u001b[43m \u001b[49m\u001b[43mdone_tensor\u001b[49m\u001b[43m)\u001b[49m\n\u001b[1;32m     41\u001b[0m \u001b[38;5;28;01mif\u001b[39;00m done:\n\u001b[1;32m     42\u001b[0m     \u001b[38;5;28;01mbreak\u001b[39;00m\n",
      "Cell \u001b[0;32mIn[26], line 74\u001b[0m, in \u001b[0;36mAgent.step\u001b[0;34m(self, state, action, reward, next_state, done)\u001b[0m\n\u001b[1;32m     72\u001b[0m \u001b[38;5;66;03m#if transitions is None, not enough memory batch to learn, skip it\u001b[39;00m\n\u001b[1;32m     73\u001b[0m \u001b[38;5;28;01mif\u001b[39;00m transitions \u001b[38;5;241m!=\u001b[39m \u001b[38;5;28;01mNone\u001b[39;00m:\n\u001b[0;32m---> 74\u001b[0m     \u001b[38;5;28;43mself\u001b[39;49m\u001b[38;5;241;43m.\u001b[39;49m\u001b[43mlearn\u001b[49m\u001b[43m(\u001b[49m\u001b[43mtransitions\u001b[49m\u001b[43m)\u001b[49m\n\u001b[1;32m     75\u001b[0m     \u001b[38;5;66;03m#perform soft update if it's time\u001b[39;00m\n\u001b[1;32m     76\u001b[0m     \u001b[38;5;28mself\u001b[39m\u001b[38;5;241m.\u001b[39m_soft_update()\n",
      "Cell \u001b[0;32mIn[26], line 94\u001b[0m, in \u001b[0;36mAgent.learn\u001b[0;34m(self, transitions)\u001b[0m\n\u001b[1;32m     92\u001b[0m loss \u001b[38;5;241m=\u001b[39m F\u001b[38;5;241m.\u001b[39mmse_loss(state_values, next_state_values)\n\u001b[1;32m     93\u001b[0m \u001b[38;5;28mself\u001b[39m\u001b[38;5;241m.\u001b[39moptimizer\u001b[38;5;241m.\u001b[39mzero_grad()\n\u001b[0;32m---> 94\u001b[0m \u001b[43mloss\u001b[49m\u001b[38;5;241;43m.\u001b[39;49m\u001b[43mbackward\u001b[49m\u001b[43m(\u001b[49m\u001b[43m)\u001b[49m\n\u001b[1;32m     95\u001b[0m \u001b[38;5;28mself\u001b[39m\u001b[38;5;241m.\u001b[39moptimizer\u001b[38;5;241m.\u001b[39mstep()\n\u001b[1;32m     97\u001b[0m \u001b[38;5;28;01mif\u001b[39;00m \u001b[38;5;28mself\u001b[39m\u001b[38;5;241m.\u001b[39mdebug:\n",
      "File \u001b[0;32m~/anaconda3/envs/torch/lib/python3.9/site-packages/torch/_tensor.py:522\u001b[0m, in \u001b[0;36mTensor.backward\u001b[0;34m(self, gradient, retain_graph, create_graph, inputs)\u001b[0m\n\u001b[1;32m    512\u001b[0m \u001b[39mif\u001b[39;00m has_torch_function_unary(\u001b[39mself\u001b[39m):\n\u001b[1;32m    513\u001b[0m     \u001b[39mreturn\u001b[39;00m handle_torch_function(\n\u001b[1;32m    514\u001b[0m         Tensor\u001b[39m.\u001b[39mbackward,\n\u001b[1;32m    515\u001b[0m         (\u001b[39mself\u001b[39m,),\n\u001b[0;32m   (...)\u001b[0m\n\u001b[1;32m    520\u001b[0m         inputs\u001b[39m=\u001b[39minputs,\n\u001b[1;32m    521\u001b[0m     )\n\u001b[0;32m--> 522\u001b[0m torch\u001b[39m.\u001b[39;49mautograd\u001b[39m.\u001b[39;49mbackward(\n\u001b[1;32m    523\u001b[0m     \u001b[39mself\u001b[39;49m, gradient, retain_graph, create_graph, inputs\u001b[39m=\u001b[39;49minputs\n\u001b[1;32m    524\u001b[0m )\n",
      "File \u001b[0;32m~/anaconda3/envs/torch/lib/python3.9/site-packages/torch/autograd/__init__.py:266\u001b[0m, in \u001b[0;36mbackward\u001b[0;34m(tensors, grad_tensors, retain_graph, create_graph, grad_variables, inputs)\u001b[0m\n\u001b[1;32m    261\u001b[0m     retain_graph \u001b[39m=\u001b[39m create_graph\n\u001b[1;32m    263\u001b[0m \u001b[39m# The reason we repeat the same comment below is that\u001b[39;00m\n\u001b[1;32m    264\u001b[0m \u001b[39m# some Python versions print out the first line of a multi-line function\u001b[39;00m\n\u001b[1;32m    265\u001b[0m \u001b[39m# calls in the traceback and some print out the last line\u001b[39;00m\n\u001b[0;32m--> 266\u001b[0m Variable\u001b[39m.\u001b[39;49m_execution_engine\u001b[39m.\u001b[39;49mrun_backward(  \u001b[39m# Calls into the C++ engine to run the backward pass\u001b[39;49;00m\n\u001b[1;32m    267\u001b[0m     tensors,\n\u001b[1;32m    268\u001b[0m     grad_tensors_,\n\u001b[1;32m    269\u001b[0m     retain_graph,\n\u001b[1;32m    270\u001b[0m     create_graph,\n\u001b[1;32m    271\u001b[0m     inputs,\n\u001b[1;32m    272\u001b[0m     allow_unreachable\u001b[39m=\u001b[39;49m\u001b[39mTrue\u001b[39;49;00m,\n\u001b[1;32m    273\u001b[0m     accumulate_grad\u001b[39m=\u001b[39;49m\u001b[39mTrue\u001b[39;49;00m,\n\u001b[1;32m    274\u001b[0m )\n",
      "\u001b[0;31mKeyboardInterrupt\u001b[0m: "
     ]
    }
   ],
   "source": [
    "training_epochs = 1000\n",
    "max_step = 1000\n",
    "max_ep = 1.0\n",
    "min_ep = 0.01\n",
    "decay_ep =0.995\n",
    "seed = 0\n",
    "\n",
    "env = gym.make('LunarLander-v2')\n",
    "obs,info = env.reset()\n",
    "state_size = len(obs)\n",
    "action_size = env.action_space.n\n",
    "\n",
    "agent = Agent(state_size, action_size)\n",
    "\n",
    "scores = []\n",
    "score_window = deque(maxlen = 100)\n",
    "epsilon = max_ep\n",
    "\n",
    "loop = tqdm(range(training_epochs))\n",
    "for epoch in loop:\n",
    "\n",
    "    state, info = env.reset(seed = seed)\n",
    "    state_tensor = torch.tensor([state])\n",
    "    total_reward = 0\n",
    "    done = False\n",
    "    epsilon = max(min_ep, epsilon *decay_ep)\n",
    "\n",
    "    for t in range(max_step):\n",
    "        action_tensor = agent.get_action(state_tensor, epsilon)\n",
    "        next_state, reward, terminated, truncated, info = env.step(action[0].item())\n",
    "        total_reward += reward\n",
    "\n",
    "        if terminated or truncated:\n",
    "            done = True\n",
    "\n",
    "        next_state_tensor = torch.tensor(next_state,dtype = torch.float32).unsqueeze(0)\n",
    "        reward_tensor = torch.tensor([reward],dtype = torch.float32).unsqueeze(0)\n",
    "        done_tensor = torch.tensor([done],dtype = torch.int32).unsqueeze(0)\n",
    "\n",
    "        agent.step(state_tensor, action_tensor, reward_tensor, next_state_tensor, done_tensor)\n",
    "        if done:\n",
    "            break\n",
    "\n",
    "    score_window.append(total_reward)\n",
    "    loop.set_description(f'e={epoch}, epsilon={epsilon}, avg_reward={np.mean(score_window)}, sync count = {agent.sync_count}, explore ={agent.explore_count}, exploit = {agent.exploit_count}')\n",
    "\n",
    "\n"
   ]
  },
  {
   "cell_type": "code",
   "execution_count": null,
   "metadata": {},
   "outputs": [],
   "source": []
  }
 ],
 "metadata": {
  "kernelspec": {
   "display_name": "Python 3.9.18 ('torch')",
   "language": "python",
   "name": "python3"
  },
  "language_info": {
   "codemirror_mode": {
    "name": "ipython",
    "version": 3
   },
   "file_extension": ".py",
   "mimetype": "text/x-python",
   "name": "python",
   "nbconvert_exporter": "python",
   "pygments_lexer": "ipython3",
   "version": "3.9.18"
  },
  "orig_nbformat": 4,
  "vscode": {
   "interpreter": {
    "hash": "af18273774455bc90f5456b9f4898eab7ba4de506fde0c1d0784da333c7e8bbc"
   }
  }
 },
 "nbformat": 4,
 "nbformat_minor": 2
}
