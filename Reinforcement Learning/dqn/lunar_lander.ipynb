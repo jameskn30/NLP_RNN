{
 "cells": [
  {
   "cell_type": "code",
   "execution_count": 12,
   "metadata": {},
   "outputs": [],
   "source": [
    "import gymnasium as gym\n",
    "import seaborn as sns\n",
    "import os\n",
    "from collections import deque, Counter, namedtuple, defaultdict\n",
    "import random\n",
    "from matplotlib import pyplot as plt\n",
    "import warnings\n",
    "warnings.simplefilter(action='ignore', category=FutureWarning)\n",
    "warnings.simplefilter(action='ignore', category=UserWarning)\n",
    "import torch\n",
    "from torch import nn\n",
    "import torch.nn.functional as F\n",
    "import math\n",
    "from itertools import count\n",
    "from tqdm import tqdm\n",
    "import numpy as np\n",
    "import time\n",
    "\n",
    "#Setting up matplotlib for live update the traiing progress\n",
    "import matplotlib\n",
    "is_ipython = 'inline' in matplotlib.get_backend()\n",
    "if is_ipython:\n",
    "    from IPython import display\n"
   ]
  },
  {
   "cell_type": "markdown",
   "metadata": {},
   "source": [
    "# Env\n",
    "observations: 8 dim\n",
    "- coord x:              float\n",
    "- coord y:              float\n",
    "- velocity x:           float\n",
    "- velocity y:           float\n",
    "- angle:                float\n",
    "- angular velocity:     float\n",
    "- is left touched:      boolean\n",
    "- is right leg touched: boolea\n",
    "\n",
    "actions: \n",
    "- 0: do nothing\n",
    "- 1: fire left orientation engine\n",
    "- 2: fire main engine\n",
    "- 3: fire right orientation engine\n",
    "\n",
    "rewards:\n",
    "- is increased/decreased the closer/further the lander is to the landing pad.\n",
    "- is increased/decreased the slower/faster the lander is moving.\n",
    "- is decreased the more the lander is tilted (angle not horizontal).\n",
    "- is increased by 10 points for each leg that is in contact with the ground.\n",
    "- is decreased by 0.03 points each frame a side engine is firing.\n",
    "- is decreased by 0.3 points each frame the main engine is firing.\n"
   ]
  },
  {
   "cell_type": "code",
   "execution_count": 13,
   "metadata": {},
   "outputs": [
    {
     "name": "stdout",
     "output_type": "stream",
     "text": [
      "terminated\n",
      "[ 0.03896379 -0.0080184  -0.5197602   0.07986474  1.7593174   0.6346992\n",
      "  0.          1.        ]\n"
     ]
    },
    {
     "data": {
      "text/plain": [
       "Text(0.5, 1.0, 'rewards')"
      ]
     },
     "execution_count": 13,
     "metadata": {},
     "output_type": "execute_result"
    },
    {
     "data": {
      "image/png": "[encoded data removed]",
      "text/plain": [
       "<Figure size 640x480 with 1 Axes>"
      ]
     },
     "metadata": {},
     "output_type": "display_data"
    }
   ],
   "source": [
    "env = gym.make('LunarLander-v2', render_mode = 'human')\n",
    "obs, info = env.reset(seed = 42)\n",
    "rewards = []\n",
    "\n",
    "for t in range(1000):\n",
    "    action = env.action_space.sample()\n",
    "    obs, reward, terminated, truncated, info = env.step(action)\n",
    "    rewards.append(reward)\n",
    "\n",
    "    if terminated or truncated:\n",
    "        print('terminated')\n",
    "        print(obs)\n",
    "        obs, info = env.reset()\n",
    "        break\n",
    "env.close()\n",
    "sns.lineplot(y = rewards, x = list(range(len(rewards))))\n",
    "plt.title(\"rewards\")\n"
   ]
  },
  {
   "cell_type": "markdown",
   "metadata": {},
   "source": [
    "# Replay Memory"
   ]
  },
  {
   "cell_type": "code",
   "execution_count": 14,
   "metadata": {},
   "outputs": [],
   "source": [
    "Transition = namedtuple('Transition', ('state', 'action', 'reward', 'next_state'))\n",
    "class ReplayMemory():\n",
    "    def __init__(self, capacity) -> None:\n",
    "        self.capacity = capacity\n",
    "        self.memory = deque(maxlen = capacity)\n",
    "    \n",
    "    def push(self, state, action, reward, next_state):\n",
    "        self.memory.append(Transition(state, action, reward, next_state))\n",
    "    \n",
    "    def sample(self, batch_size):\n",
    "        if batch_size > len(self.memory): return None\n",
    "        return random.sample(self.memory, batch_size)\n",
    "    \n",
    "    def __len__(self):\n",
    "        return len(self.memory)\n",
    "    \n",
    "    def clear(self):\n",
    "        self.memory.clear()"
   ]
  },
  {
   "cell_type": "code",
   "execution_count": 15,
   "metadata": {},
   "outputs": [
    {
     "name": "stdout",
     "output_type": "stream",
     "text": [
      "[Transition(state=2, action=1, reward=-6, next_state=5), Transition(state=7, action=1, reward=-10, next_state=5), Transition(state=1, action=0, reward=-5, next_state=7), Transition(state=0, action=3, reward=1, next_state=2), Transition(state=1, action=1, reward=-3, next_state=2)]\n"
     ]
    }
   ],
   "source": [
    "#Test memory\n",
    "memory = ReplayMemory(capacity=10)\n",
    "\n",
    "for _ in range(10):\n",
    "    state = random.randint(0,8)\n",
    "    action = random.randint(0,3)\n",
    "    reward = random.randint(-10, 10)\n",
    "    next_state = random.randint(0,8)\n",
    "    memory.push(state, action, reward, next_state)\n",
    "\n",
    "batch = memory.sample(5)\n",
    "print(batch)\n"
   ]
  },
  {
   "cell_type": "markdown",
   "metadata": {},
   "source": [
    "# DQN network"
   ]
  },
  {
   "cell_type": "code",
   "execution_count": 16,
   "metadata": {},
   "outputs": [],
   "source": [
    "class DQN(nn.Module):\n",
    "\n",
    "    def __init__(self, n_observation, n_actions) -> None:\n",
    "        super().__init__()\n",
    "        self.layer1 = nn.Linear(n_observation, 128)\n",
    "        self.layer2 = nn.Linear(128, 128)\n",
    "        self.layer3 = nn.Linear(128, n_actions)\n",
    "    \n",
    "    def forward(self, X):\n",
    "        X = F.relu(self.layer1(X))\n",
    "        X = F.relu(self.layer2(X))\n",
    "        #we're not using activation function in here\n",
    "        return self.layer3(X)\n",
    "        "
   ]
  },
  {
   "cell_type": "code",
   "execution_count": 17,
   "metadata": {},
   "outputs": [
    {
     "name": "stdout",
     "output_type": "stream",
     "text": [
      "tensor([0.5986, 0.9243, 0.0799, 0.1060, 0.4694, 0.1650, 0.2519, 0.8133])\n",
      "tensor([[-0.0517, -0.0997,  0.0848, -0.0010]], grad_fn=<UnsqueezeBackward0>)\n",
      "tensor([[2]])\n"
     ]
    }
   ],
   "source": [
    "sample_state = torch.rand(8)\n",
    "print(sample_state)\n",
    "dqn = DQN(n_observation=8, n_actions=4)\n",
    "sample_actions = dqn(sample_state).unsqueeze(0)\n",
    "print(sample_actions)\n",
    "print(sample_actions.max(1).indices.view(1,1))"
   ]
  },
  {
   "cell_type": "markdown",
   "metadata": {},
   "source": [
    "# Greedy epsilon "
   ]
  },
  {
   "cell_type": "code",
   "execution_count": 18,
   "metadata": {},
   "outputs": [],
   "source": [
    "def select_action(state, epsilon, env, policy_net, device):\n",
    "    '''\n",
    "    @params:\n",
    "        state: np.array[int]\n",
    "        epsilon: in\n",
    "        env: Gym.Env\n",
    "        policy_net: nn.Module\n",
    "        device: str\n",
    "    @returns:\n",
    "        action: torch.tensor shape = (1,)\n",
    "    '''\n",
    "    prob = random.random()\n",
    "    state = torch.tensor(state, dtype = torch.float32)\n",
    "    #exploit\n",
    "    if prob > epsilon: \n",
    "        return policy_net(state).max(1).indices.view(1)\n",
    "    else:\n",
    "        return torch.tensor([env.action_space.sample()], device = device, dtype = torch.long)\n",
    "\n",
    "def calculate_epsilon(step, max_ep, min_ep, decay_ep):\n",
    "    return min_ep + (max_ep - min_ep) * math.exp(-(step / decay_ep))"
   ]
  },
  {
   "cell_type": "code",
   "execution_count": 19,
   "metadata": {},
   "outputs": [
    {
     "data": {
      "text/plain": [
       "<Axes: >"
      ]
     },
     "execution_count": 19,
     "metadata": {},
     "output_type": "execute_result"
    },
    {
     "data": {
      "image/png": "[encoded data removed]",
      "text/plain": [
       "<Figure size 640x480 with 1 Axes>"
      ]
     },
     "metadata": {},
     "output_type": "display_data"
    }
   ],
   "source": [
    "eps = []\n",
    "for t in range(100000):\n",
    "    eps.append(calculate_epsilon(t, 1.0,0.3,60000))\n",
    "sns.lineplot(y = eps, x = list(range(len(eps))))\n",
    "\n"
   ]
  },
  {
   "cell_type": "code",
   "execution_count": 20,
   "metadata": {},
   "outputs": [
    {
     "name": "stdout",
     "output_type": "stream",
     "text": [
      "torch.Size([1, 1])\n"
     ]
    },
    {
     "ename": "RuntimeError",
     "evalue": "both arguments to matmul need to be at least 1D, but they are 0D and 2D",
     "output_type": "error",
     "traceback": [
      "\u001b[0;31m---------------------------------------------------------------------------\u001b[0m",
      "\u001b[0;31mRuntimeError\u001b[0m                              Traceback (most recent call last)",
      "Cell \u001b[0;32mIn[20], line 6\u001b[0m\n\u001b[1;32m      4\u001b[0m \u001b[38;5;66;03m#exploit\u001b[39;00m\n\u001b[1;32m      5\u001b[0m dqn \u001b[38;5;241m=\u001b[39m DQN(\u001b[38;5;241m8\u001b[39m, \u001b[38;5;241m4\u001b[39m)\n\u001b[0;32m----> 6\u001b[0m b\u001b[38;5;241m=\u001b[39m dqn(state)\u001b[38;5;241m.\u001b[39mmax(\u001b[38;5;241m1\u001b[39m)\u001b[38;5;241m.\u001b[39mindices\u001b[38;5;241m.\u001b[39mview(\u001b[38;5;241m1\u001b[39m,\u001b[38;5;241m1\u001b[39m)\n\u001b[1;32m      7\u001b[0m \u001b[38;5;28mprint\u001b[39m(b\u001b[38;5;241m.\u001b[39mshape)\n",
      "File \u001b[0;32m~/anaconda3/envs/torch/lib/python3.11/site-packages/torch/nn/modules/module.py:1501\u001b[0m, in \u001b[0;36mModule._call_impl\u001b[0;34m(self, *args, **kwargs)\u001b[0m\n\u001b[1;32m   1496\u001b[0m \u001b[39m# If we don't have any hooks, we want to skip the rest of the logic in\u001b[39;00m\n\u001b[1;32m   1497\u001b[0m \u001b[39m# this function, and just call forward.\u001b[39;00m\n\u001b[1;32m   1498\u001b[0m \u001b[39mif\u001b[39;00m \u001b[39mnot\u001b[39;00m (\u001b[39mself\u001b[39m\u001b[39m.\u001b[39m_backward_hooks \u001b[39mor\u001b[39;00m \u001b[39mself\u001b[39m\u001b[39m.\u001b[39m_backward_pre_hooks \u001b[39mor\u001b[39;00m \u001b[39mself\u001b[39m\u001b[39m.\u001b[39m_forward_hooks \u001b[39mor\u001b[39;00m \u001b[39mself\u001b[39m\u001b[39m.\u001b[39m_forward_pre_hooks\n\u001b[1;32m   1499\u001b[0m         \u001b[39mor\u001b[39;00m _global_backward_pre_hooks \u001b[39mor\u001b[39;00m _global_backward_hooks\n\u001b[1;32m   1500\u001b[0m         \u001b[39mor\u001b[39;00m _global_forward_hooks \u001b[39mor\u001b[39;00m _global_forward_pre_hooks):\n\u001b[0;32m-> 1501\u001b[0m     \u001b[39mreturn\u001b[39;00m forward_call(\u001b[39m*\u001b[39margs, \u001b[39m*\u001b[39m\u001b[39m*\u001b[39mkwargs)\n\u001b[1;32m   1502\u001b[0m \u001b[39m# Do not call functions when jit is used\u001b[39;00m\n\u001b[1;32m   1503\u001b[0m full_backward_hooks, non_full_backward_hooks \u001b[39m=\u001b[39m [], []\n",
      "Cell \u001b[0;32mIn[16], line 10\u001b[0m, in \u001b[0;36mDQN.forward\u001b[0;34m(self, X)\u001b[0m\n\u001b[1;32m      9\u001b[0m \u001b[38;5;28;01mdef\u001b[39;00m \u001b[38;5;21mforward\u001b[39m(\u001b[38;5;28mself\u001b[39m, X):\n\u001b[0;32m---> 10\u001b[0m     X \u001b[38;5;241m=\u001b[39m F\u001b[38;5;241m.\u001b[39mrelu(\u001b[38;5;28mself\u001b[39m\u001b[38;5;241m.\u001b[39mlayer1(X))\n\u001b[1;32m     11\u001b[0m     X \u001b[38;5;241m=\u001b[39m F\u001b[38;5;241m.\u001b[39mrelu(\u001b[38;5;28mself\u001b[39m\u001b[38;5;241m.\u001b[39mlayer2(X))\n\u001b[1;32m     12\u001b[0m     \u001b[38;5;66;03m#we're not using activation function in here\u001b[39;00m\n",
      "File \u001b[0;32m~/anaconda3/envs/torch/lib/python3.11/site-packages/torch/nn/modules/module.py:1501\u001b[0m, in \u001b[0;36mModule._call_impl\u001b[0;34m(self, *args, **kwargs)\u001b[0m\n\u001b[1;32m   1496\u001b[0m \u001b[39m# If we don't have any hooks, we want to skip the rest of the logic in\u001b[39;00m\n\u001b[1;32m   1497\u001b[0m \u001b[39m# this function, and just call forward.\u001b[39;00m\n\u001b[1;32m   1498\u001b[0m \u001b[39mif\u001b[39;00m \u001b[39mnot\u001b[39;00m (\u001b[39mself\u001b[39m\u001b[39m.\u001b[39m_backward_hooks \u001b[39mor\u001b[39;00m \u001b[39mself\u001b[39m\u001b[39m.\u001b[39m_backward_pre_hooks \u001b[39mor\u001b[39;00m \u001b[39mself\u001b[39m\u001b[39m.\u001b[39m_forward_hooks \u001b[39mor\u001b[39;00m \u001b[39mself\u001b[39m\u001b[39m.\u001b[39m_forward_pre_hooks\n\u001b[1;32m   1499\u001b[0m         \u001b[39mor\u001b[39;00m _global_backward_pre_hooks \u001b[39mor\u001b[39;00m _global_backward_hooks\n\u001b[1;32m   1500\u001b[0m         \u001b[39mor\u001b[39;00m _global_forward_hooks \u001b[39mor\u001b[39;00m _global_forward_pre_hooks):\n\u001b[0;32m-> 1501\u001b[0m     \u001b[39mreturn\u001b[39;00m forward_call(\u001b[39m*\u001b[39margs, \u001b[39m*\u001b[39m\u001b[39m*\u001b[39mkwargs)\n\u001b[1;32m   1502\u001b[0m \u001b[39m# Do not call functions when jit is used\u001b[39;00m\n\u001b[1;32m   1503\u001b[0m full_backward_hooks, non_full_backward_hooks \u001b[39m=\u001b[39m [], []\n",
      "File \u001b[0;32m~/anaconda3/envs/torch/lib/python3.11/site-packages/torch/nn/modules/linear.py:114\u001b[0m, in \u001b[0;36mLinear.forward\u001b[0;34m(self, input)\u001b[0m\n\u001b[1;32m    113\u001b[0m \u001b[39mdef\u001b[39;00m \u001b[39mforward\u001b[39m(\u001b[39mself\u001b[39m, \u001b[39minput\u001b[39m: Tensor) \u001b[39m-\u001b[39m\u001b[39m>\u001b[39m Tensor:\n\u001b[0;32m--> 114\u001b[0m     \u001b[39mreturn\u001b[39;00m F\u001b[39m.\u001b[39mlinear(\u001b[39minput\u001b[39m, \u001b[39mself\u001b[39m\u001b[39m.\u001b[39mweight, \u001b[39mself\u001b[39m\u001b[39m.\u001b[39mbias)\n",
      "\u001b[0;31mRuntimeError\u001b[0m: both arguments to matmul need to be at least 1D, but they are 0D and 2D"
     ]
    }
   ],
   "source": [
    "# a =  torch.tensor([[env.action_space.sample()]], dtype = torch.long)\n",
    "# print(a.shape)\n",
    "# state = torch.tensor(state, dtype = torch.float32)\n",
    "# #exploit\n",
    "# dqn = DQN(8, 4)\n",
    "# b= dqn(state).max(1).indices.view(1,1)\n",
    "# print(b.shape)"
   ]
  },
  {
   "cell_type": "code",
   "execution_count": 22,
   "metadata": {},
   "outputs": [
    {
     "name": "stdout",
     "output_type": "stream",
     "text": [
      "0.99\n",
      "0.9899110044498517\n",
      "0.9898220177988134\n",
      "0.9897330400459953\n",
      "0.9896440711905077\n",
      "0.9895551112314607\n",
      "0.9894661601679648\n",
      "0.9893772179991306\n",
      "0.9892882847240685\n",
      "0.9891993603418894\n",
      "tensor([0])\n"
     ]
    }
   ],
   "source": [
    "for t in range(10):\n",
    "    epsilon = calculate_epsilon(t, 0.99, 0.1, 10000)\n",
    "    print(epsilon)\n",
    "\n",
    "dqn = DQN(8, 4)\n",
    "print(select_action(torch.randint(0,4,(1,1)), epsilon, env, dqn, 'cpu'))"
   ]
  },
  {
   "cell_type": "markdown",
   "metadata": {},
   "source": [
    "# Optimize model"
   ]
  },
  {
   "cell_type": "code",
   "execution_count": 23,
   "metadata": {},
   "outputs": [
    {
     "name": "stdout",
     "output_type": "stream",
     "text": [
      "<map object at 0x2a67358d0>\n"
     ]
    }
   ],
   "source": [
    "a = map(lambda x: x + 1, [1,2,3,4,5,6])\n",
    "print(a)"
   ]
  },
  {
   "cell_type": "code",
   "execution_count": 24,
   "metadata": {},
   "outputs": [],
   "source": [
    "def optimize(memory, batch_size, policy_net, target_net, optimizer, criterion, grad_clip = 100, gamma = 0.99, device = 'cpu', debug = False):\n",
    "\n",
    "    #if batch < len(memory)\n",
    "    if len(memory) < batch_size: return\n",
    "\n",
    "    batch = memory.sample(batch_size)\n",
    "\n",
    "    transitions = Transition(*zip(*batch))\n",
    "    # print(len(transitions.state))\n",
    "\n",
    "    state_batch = torch.cat(transitions.state) \n",
    "    action_batch = torch.cat(transitions.action) \n",
    "    reward_batch = torch.cat(transitions.reward) \n",
    "    # next_state_batch = torch.cat(transitions.next_state) \n",
    "\n",
    "    # print('state batch = \\n', state_batch)\n",
    "    # print(f'action batch {action_batch.shape} = \\n',  action_batch)\n",
    "    # print('reward batch = \\n', reward_batch)\n",
    "    # print('next state')\n",
    "    # print(transitions.next_state)\n",
    "\n",
    "    #temporal difference loss = Q(s,a) - (r + gamma * Q(s',a'))\n",
    "    #get Q(s,a) from policy_net\n",
    "    state_action_values = policy_net(state_batch).gather(1, action_batch)\n",
    "    # print(state_action_values)\n",
    "\n",
    "    # get the Q(s',a') from target_net\n",
    "    non_final_next_states = torch.cat([s for s in transitions.next_state if s != None])\n",
    "    target_net_output = target_net(non_final_next_states)\n",
    "\n",
    "    expected_state_action_values = torch.zeros(batch_size, device = device)\n",
    "\n",
    "    non_final_next_state_mask = torch.tensor(tuple(map(lambda s: s != None, transitions.next_state)), device = device)\n",
    "    # print(non_final_next_state_mask)\n",
    "    expected_state_action_values[non_final_next_state_mask] = target_net_output.max(1).values\n",
    "    # print(f'next_state_action_values (shape = {next_state_action_values.shape})\\n', next_state_action_values)\n",
    "\n",
    "    #calculate target = (reward + gamma * Q(s',a'))\n",
    "    expected_state_action_values = reward_batch + (gamma * expected_state_action_values)\n",
    "    # print(f'state_action_values (shape = {state_action_values.shape})\\n', state_action_values)\n",
    "    # print(f'expected_state_action_values (shape = {expected_state_action_values.shape})\\n', expected_state_action_values)\n",
    "\n",
    "    #state action values shape = (batch_size, 1)\n",
    "    #expected state action values shape = (batch_size, batch_size)\n",
    "    #TODO: why batch size x batch_size ????\n",
    "\n",
    "    optimizer.zero_grad()\n",
    "\n",
    "    loss = criterion(state_action_values, expected_state_action_values)\n",
    "    # print('loss value = ', loss.item())\n",
    "\n",
    "    loss.backward()\n",
    "    #clip grad to prevent exploding gradient\n",
    "    nn.utils.clip_grad_value_(policy_net.parameters(), grad_clip)\n",
    "\n",
    "    optimizer.step()"
   ]
  },
  {
   "cell_type": "code",
   "execution_count": 25,
   "metadata": {},
   "outputs": [
    {
     "name": "stdout",
     "output_type": "stream",
     "text": [
      "observation n =  8\n",
      "action n =  4\n"
     ]
    }
   ],
   "source": [
    "# memory\n",
    "memory = ReplayMemory(capacity=10)\n",
    "\n",
    "env = gym.make('LunarLander-v2', render_mode = 'human')\n",
    "state, info = env.reset()\n",
    "\n",
    "observation_n = len(state)\n",
    "print('observation n = ', observation_n)\n",
    "action_n = env.action_space.n\n",
    "print('action n = ', action_n)\n",
    "\n",
    "policy_net = DQN(observation_n, action_n)\n",
    "target_net = DQN(observation_n, action_n)\n",
    "\n",
    "for _ in range(20):\n",
    "    state = torch.rand((1,observation_n))\n",
    "    next_state = torch.rand((1,observation_n))\n",
    "    reward = torch.randint(-10,10, (1,1))\n",
    "    action = torch.randint(0,4, (1,1))\n",
    "\n",
    "    memory.push(state, action, reward, next_state)\n",
    "\n",
    "    state = next_state\n",
    "\n",
    "\n",
    "optimizer = torch.optim.AdamW(policy_net.parameters(), lr = 0.001)\n",
    "criterion = nn.SmoothL1Loss()\n",
    "\n",
    "GAMMA = 0.9\n",
    "\n",
    "optimize(memory, 5, policy_net=policy_net, target_net=target_net, optimizer=optimizer, criterion=criterion, gamma=GAMMA)\n",
    "env.close()\n",
    "\n"
   ]
  },
  {
   "cell_type": "markdown",
   "metadata": {},
   "source": [
    "# Training loop"
   ]
  },
  {
   "cell_type": "code",
   "execution_count": 26,
   "metadata": {},
   "outputs": [],
   "source": [
    "ROOT = os.getcwd()\n",
    "OUTPUT = os.path.join(ROOT, 'output', 'lunar')\n",
    "if os.path.exists(OUTPUT) == False:\n",
    "    os.makedirs(OUTPUT)"
   ]
  },
  {
   "cell_type": "code",
   "execution_count": 27,
   "metadata": {},
   "outputs": [],
   "source": [
    "def tune(\n",
    "    gamma, batch_size, lr, \n",
    "    training_episodes, max_ep, min_ep, decay_ep, \n",
    "    grad_clip = 10, target_net_update_freq = 10, device = 'cpu', tau = 0.005, fig_update_freq = 50): \n",
    "    #the TAU constant is for soft update when synchronize the policy and target net\n",
    "    assert os.path.exists(OUTPUT), 'output to save model not found'\n",
    "\n",
    "    env = gym.make('LunarLander-v2', render_mode = 'human')\n",
    "\n",
    "    memory = ReplayMemory(capacity=10)\n",
    "    obs, info = env.reset()\n",
    "    observation_n = len(obs)\n",
    "    action_n = env.action_space.n\n",
    "\n",
    "    print('observation n = ', observation_n)\n",
    "    print('action n = ', action_n)\n",
    "\n",
    "    policy_net = DQN(observation_n, action_n)\n",
    "    target_net = DQN(observation_n, action_n)\n",
    "\n",
    "    optimizer = torch.optim.AdamW(policy_net.parameters(), lr = 0.001)\n",
    "    criterion = nn.SmoothL1Loss()\n",
    "    history = defaultdict(list)\n",
    "    step = 0\n",
    "    sync_count = 0\n",
    "\n",
    "    loop = tqdm(range(training_episodes))\n",
    "    best_reward = 0\n",
    "    \n",
    "    for episode in loop: \n",
    "\n",
    "        state, info = env.reset()\n",
    "        state = torch.tensor(state, device = device, dtype = torch.float32).unsqueeze(0)\n",
    "        total_reward = 0\n",
    "\n",
    "        for t in count():\n",
    "            epsilon = calculate_epsilon(step, max_ep, min_ep, decay_ep)\n",
    "            step += 1\n",
    "            action = select_action(state, epsilon, env, policy_net, device)\n",
    "            next_state, reward, terminated, truncated, info = env.step(action.item())\n",
    "            done = terminated or truncated\n",
    "\n",
    "            total_reward += reward\n",
    "\n",
    "            if terminated:\n",
    "                next_state = None\n",
    "            else:\n",
    "                next_state = torch.tensor(next_state, device = device, dtype = torch.float32).unsqueeze(0)\n",
    "            \n",
    "            reward = torch.tensor(reward).unsqueeze(0)\n",
    "            action = action.unsqueeze(0)\n",
    "            \n",
    "            memory.push(state, action, reward, next_state)\n",
    "\n",
    "            state = next_state\n",
    "\n",
    "            optimize(memory, batch_size, policy_net, target_net,optimizer, criterion, gamma = gamma, grad_clip=grad_clip)\n",
    "\n",
    "            #soft update target net every C step\n",
    "            #link: https://pytorch.org/tutorials/intermediate/reinforcement_q_learning.html\n",
    "            if step % target_net_update_freq == 0:\n",
    "                sync_count += 1\n",
    "                policy_net_state_dict = policy_net.state_dict()\n",
    "                target_net_state_dict = target_net.state_dict()\n",
    "\n",
    "                for key in policy_net_state_dict:\n",
    "                    target_net_state_dict[key] = policy_net_state_dict[key] * tau + target_net_state_dict[key] * (1 - tau)\n",
    "                \n",
    "                target_net.load_state_dict(target_net_state_dict)\n",
    "            loop.set_description(f'epoch = {episode}, epsilon = {epsilon:.3f}, total reward = {total_reward:.3f}, sync count = {sync_count}')\n",
    "            \n",
    "            if done: \n",
    "                break\n",
    "\n",
    "            history['epsilon'].append(epsilon)\n",
    "                \n",
    "        history['reward'].append(total_reward)\n",
    "\n",
    "        if best_reward < total_reward:\n",
    "            best_reward = total_reward\n",
    "            torch.save(policy_net, os.path.join(OUTPUT, 'policy_net.checkpoint.torch'))\n",
    "            torch.save(target_net, os.path.join(OUTPUT, 'target_net.checkpoint.torch'))\n",
    "\n",
    "        if episode % fig_update_freq == 0:\n",
    "            plot(history, 'lunar_landar.dqn.png')\n",
    "    #close training loop\n",
    "    env.close()\n",
    "    return history\n",
    "\n",
    "def plot(history, savepath = None, show = False):\n",
    "    fig, (ax1, ax2) = plt.subplots(1,2,figsize=(10,5))\n",
    "    sns.lineplot(y = history['reward'], x = list(range(len(history['reward']))), ax = ax1, color='red')\n",
    "    ax1.set_title(\"Reward per episodes\")\n",
    "    sns.lineplot(y = history['epsilon'], x = list(range(len(history['epsilon']))), ax = ax2)\n",
    "    ax2.set_title(\"Epsilone decay\")\n",
    "    if savepath:\n",
    "        plt.savefig(savepath)\n",
    "    plt.close()\n",
    "    # if show:\n",
    "    #     plt.show()"
   ]
  },
  {
   "cell_type": "code",
   "execution_count": 28,
   "metadata": {},
   "outputs": [
    {
     "name": "stdout",
     "output_type": "stream",
     "text": [
      "observation n =  8\n",
      "action n =  4\n"
     ]
    },
    {
     "name": "stderr",
     "output_type": "stream",
     "text": [
      "epoch = 686, epsilon = 0.235, total reward = 31.590, sync count = 11383:  69%|██████▊   | 686/1000 [40:36<18:35,  3.55s/it]   \n"
     ]
    },
    {
     "ename": "KeyboardInterrupt",
     "evalue": "",
     "output_type": "error",
     "traceback": [
      "\u001b[0;31m---------------------------------------------------------------------------\u001b[0m",
      "\u001b[0;31mKeyboardInterrupt\u001b[0m                         Traceback (most recent call last)",
      "Cell \u001b[0;32mIn[28], line 11\u001b[0m\n\u001b[1;32m      8\u001b[0m TARGETNET_UPDATE_FREQ \u001b[38;5;241m=\u001b[39m \u001b[38;5;241m50\u001b[39m\n\u001b[1;32m     10\u001b[0m params \u001b[38;5;241m=\u001b[39m [GAMMA, BATCH_SIZE, LR, TRAINING_EPISODES, MAX_EPSILON, MIN_EPSILON, DECAY_EPSILON, TARGETNET_UPDATE_FREQ]\n\u001b[0;32m---> 11\u001b[0m history \u001b[38;5;241m=\u001b[39m tune(\u001b[38;5;241m*\u001b[39mparams, fig_update_freq\u001b[38;5;241m=\u001b[39m\u001b[38;5;241m50\u001b[39m)\n",
      "Cell \u001b[0;32mIn[27], line 40\u001b[0m, in \u001b[0;36mtune\u001b[0;34m(gamma, batch_size, lr, training_episodes, max_ep, min_ep, decay_ep, grad_clip, target_net_update_freq, device, tau, fig_update_freq)\u001b[0m\n\u001b[1;32m     38\u001b[0m step \u001b[38;5;241m+\u001b[39m\u001b[38;5;241m=\u001b[39m \u001b[38;5;241m1\u001b[39m\n\u001b[1;32m     39\u001b[0m action \u001b[38;5;241m=\u001b[39m select_action(state, epsilon, env, policy_net, device)\n\u001b[0;32m---> 40\u001b[0m next_state, reward, terminated, truncated, info \u001b[38;5;241m=\u001b[39m env\u001b[38;5;241m.\u001b[39mstep(action\u001b[38;5;241m.\u001b[39mitem())\n\u001b[1;32m     41\u001b[0m done \u001b[38;5;241m=\u001b[39m terminated \u001b[38;5;129;01mor\u001b[39;00m truncated\n\u001b[1;32m     43\u001b[0m total_reward \u001b[38;5;241m+\u001b[39m\u001b[38;5;241m=\u001b[39m reward\n",
      "File \u001b[0;32m~/anaconda3/envs/torch/lib/python3.11/site-packages/gymnasium/wrappers/time_limit.py:57\u001b[0m, in \u001b[0;36mTimeLimit.step\u001b[0;34m(self, action)\u001b[0m\n\u001b[1;32m     46\u001b[0m \u001b[39mdef\u001b[39;00m \u001b[39mstep\u001b[39m(\u001b[39mself\u001b[39m, action):\n\u001b[1;32m     47\u001b[0m \u001b[39m    \u001b[39m\u001b[39m\"\"\"Steps through the environment and if the number of steps elapsed exceeds ``max_episode_steps`` then truncate.\u001b[39;00m\n\u001b[1;32m     48\u001b[0m \n\u001b[1;32m     49\u001b[0m \u001b[39m    Args:\u001b[39;00m\n\u001b[0;32m   (...)\u001b[0m\n\u001b[1;32m     55\u001b[0m \n\u001b[1;32m     56\u001b[0m \u001b[39m    \"\"\"\u001b[39;00m\n\u001b[0;32m---> 57\u001b[0m     observation, reward, terminated, truncated, info \u001b[39m=\u001b[39m \u001b[39mself\u001b[39m\u001b[39m.\u001b[39menv\u001b[39m.\u001b[39mstep(action)\n\u001b[1;32m     58\u001b[0m     \u001b[39mself\u001b[39m\u001b[39m.\u001b[39m_elapsed_steps \u001b[39m+\u001b[39m\u001b[39m=\u001b[39m \u001b[39m1\u001b[39m\n\u001b[1;32m     60\u001b[0m     \u001b[39mif\u001b[39;00m \u001b[39mself\u001b[39m\u001b[39m.\u001b[39m_elapsed_steps \u001b[39m>\u001b[39m\u001b[39m=\u001b[39m \u001b[39mself\u001b[39m\u001b[39m.\u001b[39m_max_episode_steps:\n",
      "File \u001b[0;32m~/anaconda3/envs/torch/lib/python3.11/site-packages/gymnasium/wrappers/order_enforcing.py:56\u001b[0m, in \u001b[0;36mOrderEnforcing.step\u001b[0;34m(self, action)\u001b[0m\n\u001b[1;32m     54\u001b[0m \u001b[39mif\u001b[39;00m \u001b[39mnot\u001b[39;00m \u001b[39mself\u001b[39m\u001b[39m.\u001b[39m_has_reset:\n\u001b[1;32m     55\u001b[0m     \u001b[39mraise\u001b[39;00m ResetNeeded(\u001b[39m\"\u001b[39m\u001b[39mCannot call env.step() before calling env.reset()\u001b[39m\u001b[39m\"\u001b[39m)\n\u001b[0;32m---> 56\u001b[0m \u001b[39mreturn\u001b[39;00m \u001b[39mself\u001b[39m\u001b[39m.\u001b[39menv\u001b[39m.\u001b[39mstep(action)\n",
      "File \u001b[0;32m~/anaconda3/envs/torch/lib/python3.11/site-packages/gymnasium/wrappers/env_checker.py:49\u001b[0m, in \u001b[0;36mPassiveEnvChecker.step\u001b[0;34m(self, action)\u001b[0m\n\u001b[1;32m     47\u001b[0m     \u001b[39mreturn\u001b[39;00m env_step_passive_checker(\u001b[39mself\u001b[39m\u001b[39m.\u001b[39menv, action)\n\u001b[1;32m     48\u001b[0m \u001b[39melse\u001b[39;00m:\n\u001b[0;32m---> 49\u001b[0m     \u001b[39mreturn\u001b[39;00m \u001b[39mself\u001b[39m\u001b[39m.\u001b[39menv\u001b[39m.\u001b[39mstep(action)\n",
      "File \u001b[0;32m~/anaconda3/envs/torch/lib/python3.11/site-packages/gymnasium/envs/box2d/lunar_lander.py:675\u001b[0m, in \u001b[0;36mLunarLander.step\u001b[0;34m(self, action)\u001b[0m\n\u001b[1;32m    672\u001b[0m     reward \u001b[39m=\u001b[39m \u001b[39m+\u001b[39m\u001b[39m100\u001b[39m\n\u001b[1;32m    674\u001b[0m \u001b[39mif\u001b[39;00m \u001b[39mself\u001b[39m\u001b[39m.\u001b[39mrender_mode \u001b[39m==\u001b[39m \u001b[39m\"\u001b[39m\u001b[39mhuman\u001b[39m\u001b[39m\"\u001b[39m:\n\u001b[0;32m--> 675\u001b[0m     \u001b[39mself\u001b[39m\u001b[39m.\u001b[39mrender()\n\u001b[1;32m    676\u001b[0m \u001b[39mreturn\u001b[39;00m np\u001b[39m.\u001b[39marray(state, dtype\u001b[39m=\u001b[39mnp\u001b[39m.\u001b[39mfloat32), reward, terminated, \u001b[39mFalse\u001b[39;00m, {}\n",
      "File \u001b[0;32m~/anaconda3/envs/torch/lib/python3.11/site-packages/gymnasium/envs/box2d/lunar_lander.py:787\u001b[0m, in \u001b[0;36mLunarLander.render\u001b[0;34m(self)\u001b[0m\n\u001b[1;32m    785\u001b[0m     \u001b[39mself\u001b[39m\u001b[39m.\u001b[39mscreen\u001b[39m.\u001b[39mblit(\u001b[39mself\u001b[39m\u001b[39m.\u001b[39msurf, (\u001b[39m0\u001b[39m, \u001b[39m0\u001b[39m))\n\u001b[1;32m    786\u001b[0m     pygame\u001b[39m.\u001b[39mevent\u001b[39m.\u001b[39mpump()\n\u001b[0;32m--> 787\u001b[0m     \u001b[39mself\u001b[39m\u001b[39m.\u001b[39mclock\u001b[39m.\u001b[39mtick(\u001b[39mself\u001b[39m\u001b[39m.\u001b[39mmetadata[\u001b[39m\"\u001b[39m\u001b[39mrender_fps\u001b[39m\u001b[39m\"\u001b[39m])\n\u001b[1;32m    788\u001b[0m     pygame\u001b[39m.\u001b[39mdisplay\u001b[39m.\u001b[39mflip()\n\u001b[1;32m    789\u001b[0m \u001b[39melif\u001b[39;00m \u001b[39mself\u001b[39m\u001b[39m.\u001b[39mrender_mode \u001b[39m==\u001b[39m \u001b[39m\"\u001b[39m\u001b[39mrgb_array\u001b[39m\u001b[39m\"\u001b[39m:\n",
      "\u001b[0;31mKeyboardInterrupt\u001b[0m: "
     ]
    }
   ],
   "source": [
    "GAMMA = 0.9\n",
    "BATCH_SIZE = 10 \n",
    "LR = 0.001\n",
    "TRAINING_EPISODES = 1000\n",
    "MAX_EPSILON = 1.0\n",
    "MIN_EPSILON = 0.1\n",
    "DECAY_EPSILON = 60000\n",
    "TARGETNET_UPDATE_FREQ = 50\n",
    "\n",
    "params = [GAMMA, BATCH_SIZE, LR, TRAINING_EPISODES, MAX_EPSILON, MIN_EPSILON, DECAY_EPSILON, TARGETNET_UPDATE_FREQ]\n",
    "history = tune(*params, fig_update_freq=50)\n"
   ]
  },
  {
   "cell_type": "code",
   "execution_count": null,
   "metadata": {},
   "outputs": [],
   "source": []
  }
 ],
 "metadata": {
  "kernelspec": {
   "display_name": "Python 3.11.6 ('torch')",
   "language": "python",
   "name": "python3"
  },
  "language_info": {
   "codemirror_mode": {
    "name": "ipython",
    "version": 3
   },
   "file_extension": ".py",
   "mimetype": "text/x-python",
   "name": "python",
   "nbconvert_exporter": "python",
   "pygments_lexer": "ipython3",
   "version": "3.11.6"
  },
  "orig_nbformat": 4,
  "vscode": {
   "interpreter": {
    "hash": "af18273774455bc90f5456b9f4898eab7ba4de506fde0c1d0784da333c7e8bbc"
   }
  }
 },
 "nbformat": 4,
 "nbformat_minor": 2
}
