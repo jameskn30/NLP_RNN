{
 "cells": [
  {
   "cell_type": "markdown",
   "metadata": {},
   "source": [
    "# Resources\n",
    "Pytorch tutorial: https://pytorch.org/tutorials/intermediate/reinforcement_q_learning.html"
   ]
  },
  {
   "cell_type": "code",
   "execution_count": 2,
   "metadata": {},
   "outputs": [],
   "source": [
    "import gymnasium as gym\n",
    "import matplotlib.pyplot as plt\n",
    "import time\n",
    "import pygame\n",
    "import seaborn as sns\n",
    "from collections import deque, namedtuple\n",
    "import random\n",
    "from torch import nn\n",
    "from torch.nn import functional as F\n",
    "import torch\n",
    "import math\n",
    "from itertools import count\n",
    "from tqdm import tqdm\n",
    "from collections import defaultdict\n",
    "import seaborn as sns\n",
    "import warnings\n",
    "warnings.simplefilter(action='ignore', category=FutureWarning)\n"
   ]
  },
  {
   "cell_type": "markdown",
   "metadata": {},
   "source": [
    "### CartPole environment"
   ]
  },
  {
   "cell_type": "code",
   "execution_count": 3,
   "metadata": {},
   "outputs": [],
   "source": [
    "# env = gym.make('CartPole-v1', render_mode = 'human')\n",
    "\n",
    "# #Action\n",
    "# #0: move left\n",
    "# #1: move right\n",
    "\n",
    "# #Observation       \n",
    "# #Cart Position, Cart Velocity, Pole Angle, Pole Angular Velocity \n",
    "\n",
    "# #Goal: is to keep the pole upright as long as possible. There's a no terminal state for CartPole\n",
    "\n",
    "# #Rewards\n",
    "# #+1 for every step the pole is upright position\n",
    "# obs = env.reset()\n",
    "# MAX_TIMESTEP = 1000\n",
    "# timestep = 0\n",
    "# terminated = False\n",
    "# history = []\n",
    "\n",
    "# while timestep < MAX_TIMESTEP and not terminated:\n",
    "#     random_action = env.action_space.sample()\n",
    "#     obs, reward, terminated, truncated, info = env.step(random_action)\n",
    "#     env.render()\n",
    "#     timestep += 1\n",
    "#     history.append(reward)\n",
    "\n",
    "# env.close()\n",
    "# pygame.quit()"
   ]
  },
  {
   "cell_type": "markdown",
   "metadata": {},
   "source": [
    "### Replay Memory\n",
    "\n",
    "\n",
    "stores the (s,a,r,s') values into a deque with a fixed length (drop furthest element when capacity is reached)\n",
    "Why?\n",
    "\n",
    "- breaking correlated sequential data. E.g: actions take earlier will greatly influence the current actions, result in biased learning\n",
    "- By randomly sampling transitions from this memory during training, the agent learns from a diverse and uncorrelated dataset. \n",
    "- allows the agent to revisit and learn from past experiences multiple times. This is particularly beneficial when dealing with sparse rewards, where rewards might be infrequent or delayed."
   ]
  },
  {
   "cell_type": "code",
   "execution_count": 4,
   "metadata": {},
   "outputs": [
    {
     "name": "stdout",
     "output_type": "stream",
     "text": [
      "Tuple(x=1, y=2, z=3)\n"
     ]
    }
   ],
   "source": [
    "Tuple = namedtuple(\"Tuple\", ('x', 'y', 'z'))\n",
    "a = Tuple(1,2,3)\n",
    "print(a)"
   ]
  },
  {
   "cell_type": "code",
   "execution_count": 5,
   "metadata": {},
   "outputs": [
    {
     "name": "stdout",
     "output_type": "stream",
     "text": [
      "memory len =  1\n",
      "None\n"
     ]
    }
   ],
   "source": [
    "Transition = namedtuple('Transition', ('state', 'action', 'next_state', 'reward'))\n",
    "\n",
    "class ReplayMemory(object):\n",
    "    def __init__(self, capacity) -> None:\n",
    "        self.memory = deque(maxlen=capacity)\n",
    "    \n",
    "    def push(self, *args):\n",
    "        self.memory.append(Transition(*args))\n",
    "    \n",
    "    def sample(self, batch_size):\n",
    "        '''\n",
    "        @params\n",
    "            batch_size: int, sample transition memory with batch_size length, \n",
    "        @returns\n",
    "            memory: [Transition], list of Transition objects. return None if batch_size > len(memory) \n",
    "\n",
    "        '''\n",
    "        if batch_size > len(self.memory):\n",
    "            return None\n",
    "        return random.sample(self.memory, batch_size)\n",
    "    \n",
    "    def clear(self):\n",
    "        self.memory.clear()\n",
    "    \n",
    "    def __len__(self):\n",
    "        return len(self.memory)\n",
    "\n",
    "#test it\n",
    "rep_mem = ReplayMemory(capacity=10)\n",
    "\n",
    "rep_mem.push('s1', 'action 1', 's2', 35)\n",
    "\n",
    "print('memory len = ', len(rep_mem))\n",
    "print(rep_mem.sample(12))\n"
   ]
  },
  {
   "cell_type": "markdown",
   "metadata": {},
   "source": [
    "# DQN\n",
    "\n",
    "### Objective\n",
    "train a policy that tries to maximize the discounted, cumulative reward\n",
    "\n",
    "### Gamma, discounted factor\n",
    "lower γ makes rewards from the uncertain far future less important for our agent than the ones in the near future that it can be fairly confident about.\n",
    "\n",
    "### minimize the TD equation using Huber Loss. \n",
    "The Huber loss acts like the mean squared error when the error is small, but like the mean absolute error when the error is large - this makes it more robust to outliers when the estimates of Q are very noisy."
   ]
  },
  {
   "cell_type": "code",
   "execution_count": 6,
   "metadata": {},
   "outputs": [],
   "source": [
    "class DQN(nn.Module):\n",
    "\n",
    "    def __init__(self, n_observations, n_actions):\n",
    "        #what's the purpose of this?\n",
    "        super(DQN, self).__init__()\n",
    "        self.layer1 = nn.Linear(n_observations, 128)\n",
    "        self.layer2 = nn.Linear(128,128)\n",
    "        self.layer3 = nn.Linear(128,n_actions)\n",
    "    \n",
    "    def forward(self, X):\n",
    "        X = F.relu(self.layer1(X))\n",
    "        X = F.relu(self.layer2(X))\n",
    "        return self.layer3(X)"
   ]
  },
  {
   "cell_type": "code",
   "execution_count": 7,
   "metadata": {},
   "outputs": [
    {
     "name": "stdout",
     "output_type": "stream",
     "text": [
      "y shape =  torch.Size([4, 4])\n"
     ]
    }
   ],
   "source": [
    "dqn = DQN(4, 4)\n",
    "X = torch.rand(4,4)\n",
    "\n",
    "y = dqn(X)\n",
    "print(\"y shape = \", y.shape)"
   ]
  },
  {
   "cell_type": "code",
   "execution_count": 8,
   "metadata": {},
   "outputs": [],
   "source": [
    "BATCH_SIZE = 128\n",
    "GAMMA = 0.99\n",
    "EPS_START = 0.9\n",
    "EPS_END = 0.05\n",
    "EPS_DECAY = 1000\n",
    "TAU = 0.005\n",
    "LR = 1e-4\n",
    "DEVICE = 'cuda' if torch.cuda.is_available() else 'cpu'\n",
    "steps_done = 0\n",
    "\n",
    "env = gym.make('CartPole-v1', render_mode = 'human')\n",
    "obs = env.reset()\n",
    "n_observations = len(obs)\n",
    "n_actions = env.action_space.n\n",
    "\n",
    "policy_net = DQN(n_observations=n_observations, n_actions= n_actions).to(DEVICE)\n",
    "target_net = DQN(n_observations=n_observations, n_actions= n_actions).to(DEVICE)\n",
    "\n",
    "optimizer = torch.optim.AdamW(policy_net.parameters(), lr = LR, amsgrad=True)\n",
    "\n",
    "memory =  ReplayMemory(10000)"
   ]
  },
  {
   "cell_type": "code",
   "execution_count": 9,
   "metadata": {},
   "outputs": [],
   "source": [
    "def select_action(state):\n",
    "    global steps_done\n",
    "\n",
    "    sample = random.random()\n",
    "\n",
    "    #controlled by EPS_DECAY constant\n",
    "    eps_threshold = EPS_END + (EPS_START - EPS_END) * math.exp(-1.0 * steps_done / EPS_DECAY)\n",
    "\n",
    "    steps_done += 1\n",
    "\n",
    "    #exploit\n",
    "    if sample > eps_threshold:\n",
    "        with torch.no_grad():\n",
    "            return policy_net(state).max(1).indices.view(1,1)\n",
    "    #explore\n",
    "    else:\n",
    "        return torch.tensor([[env.action_space.sample()]], device = DEVICE, dtype=torch.long)\n",
    "\n",
    "episode_durations = []\n",
    "\n",
    "def plot_durations(show_result=False):\n",
    "    plt.figure(1)\n",
    "    durations_t = torch.tensor(episode_durations, dtype=torch.float)\n",
    "    if show_result:\n",
    "        plt.title('Result')\n",
    "    else:\n",
    "        plt.clf()\n",
    "        plt.title('Training...')\n",
    "    plt.xlabel('Episode')\n",
    "    plt.ylabel('Duration')\n",
    "    plt.plot(durations_t.numpy())\n",
    "    # Take 100 episode averages and plot them too\n",
    "    if len(durations_t) >= 100:\n",
    "        means = durations_t.unfold(0, 100, 1).mean(1).view(-1)\n",
    "        means = torch.cat((torch.zeros(99), means))\n",
    "        plt.plot(means.numpy())\n",
    "\n",
    "    plt.pause(0.001)  # pause a bit so that plots are updated\n",
    "    if is_ipython:\n",
    "        if not show_result:\n",
    "            display.display(plt.gcf())\n",
    "            display.clear_output(wait=True)\n",
    "        else:\n",
    "            display.display(plt.gcf())"
   ]
  },
  {
   "cell_type": "code",
   "execution_count": 10,
   "metadata": {},
   "outputs": [],
   "source": [
    "#Optimization\n",
    "def optimize_model(memory, policy_net, target_net, \\\n",
    "    batch_size, gamma, \\\n",
    "    optim, criterion, \n",
    "    device, debug = False):\n",
    "\n",
    "    #memoyr doesn't have enought transitions. Can't optimize yet\n",
    "    if len(memory) < batch_size: return\n",
    "\n",
    "    transitions = memory.sample(batch_size)\n",
    "    #this converts an array of transitions into transitions of action array, state arrays, ... \n",
    "    #Transition(state = (1,2,3...), action=(4,5,6,...), next_state=(7,8,9,...))\n",
    "    batch = Transition(*zip(*transitions))\n",
    "\n",
    "    #NOTE: Make a mask of non-final states. If non-final: True, if final state: False\n",
    "    #return a tensor of ([True, True, ..., False, True,...])\n",
    "    non_final_mask = torch.tensor(tuple(map(lambda s: s is not None, batch.next_state)), device = device)\n",
    "    non_final_next_states = torch.cat([s for s in batch.next_state if s is not None])\n",
    "\n",
    "    if debug:\n",
    "        print(transitions[0])\n",
    "        print(transitions[1])\n",
    "        print('transition len = ', len(transitions))\n",
    "        print()\n",
    "        print('non final next state len = ', len(non_final_next_states))\n",
    "        print(non_final_next_states[:10])\n",
    "\n",
    "    #get state_batch, action_batch, reward_batch, \n",
    "    state_batch = torch.cat(batch.state)\n",
    "    action_batch = torch.cat(batch.action)\n",
    "    reward_batch = torch.cat(batch.reward)\n",
    "\n",
    "    #Select actions that would've been taken by the model\n",
    "    #gather values along dim = 1\n",
    "    #the model returns (128,4), gather dim = 1, choose action index from action batch\n",
    "    #state action value shape = (batch_size, 1)\n",
    "    state_action_values = policy_net(state_batch).gather(1, action_batch)\n",
    "    if debug:\n",
    "        print('non final mask shape = ', non_final_mask.shape)\n",
    "        print('non final next states shape = ', non_final_next_states.shape)\n",
    "        print('state batch shape = ', state_batch.shape)\n",
    "        print('action batch shape = ', action_batch.shape)\n",
    "        print('reward state batch shape = ', reward_batch.shape)\n",
    "        print()\n",
    "        print('state action values shape = ', state_action_values.shape)\n",
    "\n",
    "    #we want to mask the terminal states to 0s\n",
    "    next_state_values = torch.zeros(batch_size, device = device)\n",
    "    with torch.no_grad():\n",
    "        target_net_output = target_net(non_final_next_states)\n",
    "        #the target_net_output has shape (X, 4) where X may < batch_size\n",
    "        #the non_final_mask is broadcast index with True, False,... where there are X True rows\n",
    "        #update next_state_values with broadcast index can be done with above condition\n",
    "        next_state_values[non_final_mask] = target_net_output.max(1).values\n",
    "    \n",
    "    #Bellman's equation\n",
    "    #expected_state_action values shape = (batch_size, batch_size)\n",
    "    expected_state_action_values = (next_state_values * gamma) + reward_batch\n",
    "    #TODO: why expected_state_action_values shape = (128,128) and state_action_values shape = (128,1) ?? \n",
    "    if debug:\n",
    "        print('expected state actions values shape = ', expected_state_action_values.shape)\n",
    "\n",
    "    #Compute Huber Loss\n",
    "    #expected state action values = (batch_size, batch_size)\n",
    "    loss =criterion(state_action_values, expected_state_action_values.unsqueeze(1))\n",
    "    optim.zero_grad()\n",
    "    loss.backward()\n",
    "    #Inplace gradient clipping\n",
    "    #gradient clipping prevent explode gradient during backprop\n",
    "    torch.nn.utils.clip_grad_value_(policy_net.parameters(), 100)\n",
    "    optim.step()"
   ]
  },
  {
   "cell_type": "code",
   "execution_count": 11,
   "metadata": {},
   "outputs": [],
   "source": [
    "# a = torch.rand(10, 1)\n",
    "# print(a.shape)\n",
    "# print(a)\n",
    "\n",
    "# b = torch.rand(10)\n",
    "# print(b.shape)\n",
    "# print(b)\n",
    "\n",
    "# c = a + b\n",
    "# print(c.shape)\n",
    "# print(c)\n",
    "\n"
   ]
  },
  {
   "cell_type": "code",
   "execution_count": 12,
   "metadata": {},
   "outputs": [],
   "source": [
    "# a = torch.rand(5,4)\n",
    "# print(a)\n",
    "# b = torch.randint(0,3, (5,1))\n",
    "# print(b)\n",
    "# print(a.gather(1, b))"
   ]
  },
  {
   "cell_type": "code",
   "execution_count": 13,
   "metadata": {},
   "outputs": [],
   "source": [
    "# a = torch.zeros(5,4)\n",
    "\n",
    "# b = torch.tensor([False, True, True, False, False])\n",
    "# print(b.shape)\n",
    "\n",
    "# a[b] = torch.rand(3,4)\n",
    "\n",
    "# print(a)"
   ]
  },
  {
   "cell_type": "code",
   "execution_count": 14,
   "metadata": {},
   "outputs": [],
   "source": [
    "# def optimize_model(memory, policy_net, target_net, \\\n",
    "#     batch_size, gamma, \\\n",
    "#     optim, criterion, \n",
    "#     device, debug = False):\n",
    "\n",
    "#     if len(memory) < BATCH_SIZE:\n",
    "#         return\n",
    "#     transitions = memory.sample(BATCH_SIZE)\n",
    "#     # Transpose the batch (see https://stackoverflow.com/a/19343/3343043 for\n",
    "#     # detailed explanation). This converts batch-array of Transitions\n",
    "#     # to Transition of batch-arrays.\n",
    "#     batch = Transition(*zip(*transitions))\n",
    "\n",
    "#     # Compute a mask of non-final states and concatenate the batch elements\n",
    "#     # (a final state would've been the one after which simulation ended)\n",
    "#     non_final_mask = torch.tensor(tuple(map(lambda s: s is not None,\n",
    "#                                           batch.next_state)), device=device, dtype=torch.bool)\n",
    "#     non_final_next_states = torch.cat([s for s in batch.next_state\n",
    "#                                                 if s is not None])\n",
    "#     state_batch = torch.cat(batch.state)\n",
    "#     action_batch = torch.cat(batch.action)\n",
    "#     reward_batch = torch.cat(batch.reward)\n",
    "\n",
    "#     # Compute Q(s_t, a) - the model computes Q(s_t), then we select the\n",
    "#     # columns of actions taken. These are the actions which would've been taken\n",
    "#     # for each batch state according to policy_net\n",
    "#     state_action_values = policy_net(state_batch).gather(1, action_batch)\n",
    "\n",
    "#     # Compute V(s_{t+1}) for all next states.\n",
    "#     # Expected values of actions for non_final_next_states are computed based\n",
    "#     # on the \"older\" target_net; selecting their best reward with max(1).values\n",
    "#     # This is merged based on the mask, such that we'll have either the expected\n",
    "#     # state value or 0 in case the state was final.\n",
    "#     next_state_values = torch.zeros(BATCH_SIZE, device=device)\n",
    "#     with torch.no_grad():\n",
    "#         next_state_values[non_final_mask] = target_net(non_final_next_states).max(1).values\n",
    "#     # Compute the expected Q values\n",
    "#     expected_state_action_values = (next_state_values * GAMMA) + reward_batch\n",
    "#     # print('expected_state_action_values = ', expected_state_action_values.shape)\n",
    "#     # print('state_action_values = ', state_action_values.shape)\n",
    "\n",
    "#     # Compute Huber loss\n",
    "#     criterion = nn.SmoothL1Loss()\n",
    "#     loss = criterion(state_action_values, expected_state_action_values.unsqueeze(1))\n",
    "\n",
    "#     # Optimize the model\n",
    "#     optimizer.zero_grad()\n",
    "#     loss.backward()\n",
    "#     # In-place gradient clipping\n",
    "#     torch.nn.utils.clip_grad_value_(policy_net.parameters(), 100)\n",
    "#     optimizer.step()"
   ]
  },
  {
   "cell_type": "code",
   "execution_count": 30,
   "metadata": {},
   "outputs": [
    {
     "name": "stdout",
     "output_type": "stream",
     "text": [
      "Transition(state=tensor([[3., 3., 3., 1.]]), action=tensor([[0]]), next_state=tensor([[0., 2., 0., 2.]]), reward=tensor([[1.]]))\n",
      "Transition(state=tensor([[1., 3., 1., 3.]]), action=tensor([[2]]), next_state=tensor([[0., 1., 1., 0.]]), reward=tensor([[2.]]))\n",
      "transition len =  128\n",
      "\n",
      "non final next state len =  72\n",
      "tensor([[0., 2., 0., 2.],\n",
      "        [0., 1., 1., 0.],\n",
      "        [1., 1., 1., 2.],\n",
      "        [3., 1., 0., 3.],\n",
      "        [0., 2., 0., 3.],\n",
      "        [2., 2., 1., 2.],\n",
      "        [2., 2., 1., 2.],\n",
      "        [2., 3., 3., 1.],\n",
      "        [3., 1., 1., 0.],\n",
      "        [3., 0., 1., 0.]])\n",
      "non final mask shape =  torch.Size([128])\n",
      "non final next states shape =  torch.Size([72, 4])\n",
      "state batch shape =  torch.Size([128, 4])\n",
      "action batch shape =  torch.Size([128, 1])\n",
      "reward state batch shape =  torch.Size([128, 1])\n",
      "\n",
      "state action values shape =  torch.Size([128, 1])\n",
      "expected state actions values shape =  torch.Size([128, 128])\n"
     ]
    },
    {
     "name": "stderr",
     "output_type": "stream",
     "text": [
      "/Users/jamesnguyen/anaconda3/envs/torch/lib/python3.11/site-packages/torch/nn/modules/loss.py:928: UserWarning: Using a target size (torch.Size([128, 1, 128])) that is different to the input size (torch.Size([128, 1])). This will likely lead to incorrect results due to broadcasting. Please ensure they have the same size.\n",
      "  return F.smooth_l1_loss(input, target, reduction=self.reduction, beta=self.beta)\n"
     ]
    }
   ],
   "source": [
    "#test optimze model function\n",
    "policy_net = DQN(4,4).to(DEVICE)\n",
    "target_net = DQN(4,4).to(DEVICE)\n",
    "#copy state dict of policy net to target net\n",
    "target_net.load_state_dict(policy_net.state_dict())\n",
    "\n",
    "#test\n",
    "memory = ReplayMemory(capacity = 10000)\n",
    "memory.clear()\n",
    "\n",
    "for _ in range(1000):\n",
    "    #shape = (1, 4)\n",
    "    state = torch.tensor([random.randint(0,3) for _ in range(4)], dtype = torch.float32).unsqueeze(0)\n",
    "    #shape = (1,1)\n",
    "    action = torch.tensor([random.randint(0,3)]).unsqueeze(0)\n",
    "    #shape = (1, 4)\n",
    "    if random.random() > 0.5:\n",
    "        next_state = torch.tensor([random.randint(0,3) for _ in range(4)], dtype = torch.float32).unsqueeze(0)\n",
    "    else:\n",
    "        next_state = None\n",
    "    #shape = (1,1)\n",
    "    reward = torch.tensor([random.randint(0,3)], dtype = torch.float32).unsqueeze(0)\n",
    "    memory.push(state, action, next_state, reward)\n",
    "\n",
    "optim = torch.optim.Adam(policy_net.parameters(), lr = LR, amsgrad = True)\n",
    "criterion = nn.SmoothL1Loss()\n",
    "\n",
    "optimize_model(memory, policy_net, target_net, BATCH_SIZE, GAMMA, device = DEVICE, optim=optim, criterion=criterion, debug = True)"
   ]
  },
  {
   "cell_type": "code",
   "execution_count": 16,
   "metadata": {},
   "outputs": [],
   "source": [
    "env = gym.make('CartPole-v1', render_mode = 'human')\n",
    "\n",
    "n_actions = env.action_space.n\n",
    "state, info = env.reset()\n",
    "n_observations = len(state)\n",
    "\n",
    "#why use policy net?\n",
    "policy_net = DQN(n_observations, n_actions).to(DEVICE)\n",
    "#why use target net?\n",
    "target_net = DQN(n_observations, n_actions).to(DEVICE)\n",
    "\n",
    "#copy policy net weights into target net\n",
    "target_net.load_state_dict(policy_net.state_dict())\n",
    "\n",
    "optimzer = torch.optim.Adam(policy_net.parameters(), lr = LR, amsgrad = True)\n",
    "memory = ReplayMemory(capacity = 10000)\n",
    "\n",
    "steps_done = 0"
   ]
  },
  {
   "cell_type": "markdown",
   "metadata": {},
   "source": [
    "# Training loop"
   ]
  },
  {
   "cell_type": "code",
   "execution_count": 17,
   "metadata": {},
   "outputs": [],
   "source": [
    "BATCH_SIZE = 128\n",
    "GAMMA = 0.99\n",
    "EPS_START = 0.9\n",
    "EPS_END = 0.05\n",
    "EPS_DECAY = 10000\n",
    "TAU = 0.005\n",
    "LR = 1e-4"
   ]
  },
  {
   "cell_type": "code",
   "execution_count": 18,
   "metadata": {},
   "outputs": [],
   "source": [
    "def select_action(state, epsilon):\n",
    "    #state shape = (1)\n",
    "    sample = random.random()\n",
    "\n",
    "    #exploit\n",
    "    if sample > epsilon:\n",
    "        with torch.no_grad():\n",
    "            return policy_net(state).max(1).indices.view(1,1)\n",
    "    #explore\n",
    "    else:\n",
    "        return torch.tensor([[env.action_space.sample()]], device = DEVICE, dtype=torch.long)\n",
    "\n",
    "def calculate_epsilon(step, epsilon_start , epsilon_end, epsilon_decay):\n",
    "    #controlled by EPS_DECAY constant\n",
    "    return epsilon_end + (epsilon_start - epsilon_end) * math.exp(-1.0 * step / epsilon_decay)"
   ]
  },
  {
   "cell_type": "code",
   "execution_count": 29,
   "metadata": {},
   "outputs": [
    {
     "name": "stdout",
     "output_type": "stream",
     "text": [
      "torch.return_types.max(\n",
      "values=tensor([0.9506]),\n",
      "indices=tensor([1]))\n",
      "tensor([[1]])\n"
     ]
    }
   ],
   "source": [
    "a = torch.rand(1,4)\n",
    "b = a.max(1)\n",
    "print(b)\n",
    "print(b.indices.view(1,1))"
   ]
  },
  {
   "cell_type": "code",
   "execution_count": 43,
   "metadata": {},
   "outputs": [],
   "source": [
    "def tune(BATCH_SIZE, GAMMA, EPS_START, EPS_END, EPS_DECAY, TAU, LR, NUM_EPISODES = 10, UPDATE_STEP = 10):\n",
    "    env = gym.make('CartPole-v1', render_mode = 'human')\n",
    "\n",
    "    n_actions = env.action_space.n\n",
    "    state, info = env.reset()\n",
    "    n_observations = len(state)\n",
    "\n",
    "    #why use policy net?\n",
    "    policy_net = DQN(n_observations, n_actions).to(DEVICE)\n",
    "    #why use target net?\n",
    "    target_net = DQN(n_observations, n_actions).to(DEVICE)\n",
    "\n",
    "    #copy policy net weights into target net\n",
    "    target_net.load_state_dict(policy_net.state_dict())\n",
    "\n",
    "    optimzer = torch.optim.Adam(policy_net.parameters(), lr = LR, amsgrad = True)\n",
    "    memory = ReplayMemory(capacity = 10000)\n",
    "\n",
    "    steps_done = 0\n",
    "\n",
    "    loop = tqdm(range(NUM_EPISODES))\n",
    "\n",
    "    history = defaultdict(list)\n",
    "    epsilon_decay = []\n",
    "    step_count = 0\n",
    "\n",
    "    for e in loop:\n",
    "        \n",
    "        state, info = env.reset()\n",
    "        state = torch.tensor(state, dtype = torch.float32, device = DEVICE).unsqueeze(0)\n",
    "        total_reward = 0\n",
    "\n",
    "        for t in count():\n",
    "            epsilon = calculate_epsilon(step_count, EPS_START, EPS_END, EPS_DECAY)\n",
    "            step_count += 1\n",
    "            epsilon_decay.append(epsilon)\n",
    "            action = select_action(state, epsilon)\n",
    "            obs, reward, terminated, truncated, _ = env.step(action.item())\n",
    "\n",
    "            reward = torch.tensor([reward])\n",
    "            done = terminated or truncated\n",
    "            total_reward += reward.item()\n",
    "\n",
    "            if terminated:\n",
    "                next_state = None\n",
    "            else:\n",
    "                next_state = torch.tensor(obs, dtype = torch.float32, device = DEVICE).unsqueeze(0)\n",
    "            \n",
    "            memory.push(state, action, next_state, reward)\n",
    "\n",
    "            state = next_state\n",
    "\n",
    "            optimize_model(memory, policy_net, target_net, 128, GAMMA, optimzer, criterion, DEVICE, debug = False)\n",
    "\n",
    "            #update state dict to policy dict every 10 timestep\n",
    "            target_net_state_dict = target_net.state_dict()\n",
    "            policy_net_state_dict = policy_net.state_dict()\n",
    "\n",
    "            if t % 10 == 0:\n",
    "                for key in policy_net_state_dict:\n",
    "                    target_net_state_dict[key] = policy_net_state_dict[key] * TAU + target_net_state_dict[key]*(1 - TAU)\n",
    "                target_net.load_state_dict(target_net_state_dict)\n",
    "\n",
    "            if done:\n",
    "                break\n",
    "        \n",
    "            loop.set_description(f'training ep = {e}, epsilone = {epsilon}, reward = {total_reward}')\n",
    "        history['reward'].append(total_reward)\n",
    "\n",
    "    fig, (ax1, ax2) = plt.subplots(1,2,figsize=(10,5))\n",
    "    sns.lineplot(y = history['reward'], x = list(range(len(history['reward']))), ax = ax1, color='red')\n",
    "    ax1.set_title(\"Reward per episodes\")\n",
    "    sns.lineplot(y = epsilon_decay, x = list(range(len(epsilon_decay))), ax = ax2)\n",
    "    ax2.set_title(\"Epsilone decay\")\n",
    "    plt.show()\n",
    "\n",
    "    return history"
   ]
  },
  {
   "cell_type": "code",
   "execution_count": 1,
   "metadata": {},
   "outputs": [
    {
     "ename": "NameError",
     "evalue": "name 'tune' is not defined",
     "output_type": "error",
     "traceback": [
      "\u001b[0;31m---------------------------------------------------------------------------\u001b[0m",
      "\u001b[0;31mNameError\u001b[0m                                 Traceback (most recent call last)",
      "Cell \u001b[0;32mIn[1], line 9\u001b[0m\n\u001b[1;32m      7\u001b[0m LR \u001b[38;5;241m=\u001b[39m \u001b[38;5;241m1e-4\u001b[39m\n\u001b[1;32m      8\u001b[0m NUM_EPISODES \u001b[38;5;241m=\u001b[39m\u001b[38;5;241m1000\u001b[39m\n\u001b[0;32m----> 9\u001b[0m tune(BATCH_SIZE, GAMMA, EPS_START, EPS_END, EPS_DECAY, TAU, LR, NUM_EPISODES\u001b[38;5;241m=\u001b[39mNUM_EPISODES)\n",
      "\u001b[0;31mNameError\u001b[0m: name 'tune' is not defined"
     ]
    }
   ],
   "source": [
    "BATCH_SIZE = 128\n",
    "GAMMA = 0.99\n",
    "EPS_START = 0.9\n",
    "EPS_END = 0.05\n",
    "EPS_DECAY = 100000\n",
    "TAU = 0.005\n",
    "LR = 1e-4\n",
    "NUM_EPISODES =1000\n",
    "tune(BATCH_SIZE, GAMMA, EPS_START, EPS_END, EPS_DECAY, TAU, LR, NUM_EPISODES=NUM_EPISODES)"
   ]
  },
  {
   "cell_type": "code",
   "execution_count": 38,
   "metadata": {},
   "outputs": [
    {
     "data": {
      "image/png": "[encoded data removed]",
      "text/plain": [
       "<Figure size 1000x500 with 2 Axes>"
      ]
     },
     "metadata": {},
     "output_type": "display_data"
    }
   ],
   "source": [
    "fig, (ax1, ax2) = plt.subplots(1,2,figsize=(10,5))\n",
    "sns.lineplot(y = history['reward'], x = list(range(len(history['reward']))), ax = ax1, color='red')\n",
    "ax1.set_title(\"Reward per episodes\")\n",
    "sns.lineplot(y = epsilon_decay, x = list(range(len(epsilon_decay))), ax = ax2)\n",
    "ax2.set_title(\"Epsilone decay\")\n",
    "plt.show()\n",
    "\n"
   ]
  },
  {
   "cell_type": "markdown",
   "metadata": {},
   "source": [
    "### Apply DQN on 3 other different environments:\n",
    "\n",
    "1. Mountain Car\n",
    "2. Snake Game\n",
    "3. Breakout"
   ]
  },
  {
   "cell_type": "markdown",
   "metadata": {},
   "source": []
  }
 ],
 "metadata": {
  "kernelspec": {
   "display_name": "Python 3.11.6 ('torch')",
   "language": "python",
   "name": "python3"
  },
  "language_info": {
   "codemirror_mode": {
    "name": "ipython",
    "version": 3
   },
   "file_extension": ".py",
   "mimetype": "text/x-python",
   "name": "python",
   "nbconvert_exporter": "python",
   "pygments_lexer": "ipython3",
   "version": "3.11.6"
  },
  "orig_nbformat": 4,
  "vscode": {
   "interpreter": {
    "hash": "af18273774455bc90f5456b9f4898eab7ba4de506fde0c1d0784da333c7e8bbc"
   }
  }
 },
 "nbformat": 4,
 "nbformat_minor": 2
}
