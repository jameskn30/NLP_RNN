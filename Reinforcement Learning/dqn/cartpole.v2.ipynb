{
 "cells": [
  {
   "cell_type": "code",
   "execution_count": 1,
   "metadata": {},
   "outputs": [],
   "source": [
    "import gymnasium as gym\n",
    "import seaborn as sns\n",
    "import os\n",
    "from collections import deque, Counter, namedtuple, defaultdict\n",
    "import random\n",
    "from matplotlib import pyplot as plt\n",
    "import warnings\n",
    "warnings.simplefilter(action='ignore', category=FutureWarning)\n",
    "warnings.simplefilter(action='ignore', category=UserWarning)\n",
    "import torch\n",
    "from torch import nn\n",
    "import torch.nn.functional as F\n",
    "import math\n",
    "from itertools import count\n",
    "from tqdm import tqdm\n",
    "import numpy as np\n",
    "import time\n",
    "\n",
    "#Setting up matplotlib for live update the traiing progress\n",
    "import matplotlib\n",
    "is_ipython = 'inline' in matplotlib.get_backend()\n",
    "if is_ipython:\n",
    "    from IPython import display"
   ]
  },
  {
   "cell_type": "code",
   "execution_count": 2,
   "metadata": {},
   "outputs": [
    {
     "name": "stderr",
     "output_type": "stream",
     "text": [
      "  0%|          | 0/10 [00:00<?, ?it/s]/Users/jamesnguyen/anaconda3/envs/torch/lib/python3.9/site-packages/gymnasium/utils/passive_env_checker.py:233: DeprecationWarning: `np.bool8` is a deprecated alias for `np.bool_`.  (Deprecated NumPy 1.24)\n",
      "  if not isinstance(terminated, (bool, np.bool8)):\n",
      "100%|██████████| 10/10 [00:00<00:00, 621.12it/s]\n"
     ]
    },
    {
     "data": {
      "image/png": "[encoded data removed]",
      "text/plain": [
       "<Figure size 640x480 with 1 Axes>"
      ]
     },
     "metadata": {},
     "output_type": "display_data"
    }
   ],
   "source": [
    "env = gym.make('CartPole-v1')\n",
    "obs, info = env.reset()\n",
    "\n",
    "rewards = []\n",
    "for ep in tqdm(range(10)):\n",
    "    obs, info = env.reset()\n",
    "    total_reward = 0\n",
    "\n",
    "    for t in count():\n",
    "        action = env.action_space.sample()\n",
    "        state, reward, terminated, truncated, info = env.step(action)\n",
    "        total_reward += reward\n",
    "        if terminated or truncated: \n",
    "            break\n",
    "    \n",
    "    rewards.append(total_reward)\n",
    "\n",
    "sns.lineplot(y = rewards, x = list(range(len(rewards))))\n",
    "plt.show()\n",
    "env.close()"
   ]
  },
  {
   "cell_type": "markdown",
   "metadata": {},
   "source": [
    "# QNetwork"
   ]
  },
  {
   "cell_type": "code",
   "execution_count": 3,
   "metadata": {},
   "outputs": [],
   "source": [
    "class QNetwork(nn.Module):\n",
    "    def __init__(self, input_size, output_size, hidden_size = 16, lr = 5e-4, tau = 1e-3) -> None:\n",
    "        super().__init__()\n",
    "\n",
    "        self.tau = tau\n",
    "\n",
    "        self.fc1 = nn.Linear(input_size, hidden_size)\n",
    "        self.fc2 = nn.Linear(hidden_size, hidden_size)\n",
    "        self.fc3 = nn.Linear(hidden_size, output_size)\n",
    "\n",
    "        self.optimizer = torch.optim.Adam(self.parameters(), lr = lr)\n",
    "        self.criterion = nn.MSELoss()\n",
    "    \n",
    "    def forward(self, X):\n",
    "        X = F.relu(self.fc1(X))\n",
    "        X = F.relu(self.fc2(X))\n",
    "        return self.fc3(X)\n",
    "    \n",
    "    def optimize(self, input, target):\n",
    "        loss = self.criterion(input, target)\n",
    "        self.optimizer.zero_grad()\n",
    "        loss.backward()\n",
    "        self.optimizer.step()\n",
    "    \n",
    "    def sync(self, other_net:nn.Module):\n",
    "        self.load_state_dict(other_net.state_dict())\n",
    "        #  for param, other_param in zip(self.parameters(), other_net.parameters()):\n",
    "        #     param.data.copy_(self.tau*other_param.data + (1.0-self.tau)*param.data)\n"
   ]
  },
  {
   "cell_type": "markdown",
   "metadata": {},
   "source": [
    "# Replay Memory"
   ]
  },
  {
   "cell_type": "code",
   "execution_count": 4,
   "metadata": {},
   "outputs": [],
   "source": [
    "Transition = namedtuple('Transition', ('state', 'action', 'reward', 'next_state', 'done'))\n",
    "class ReplayMemory():\n",
    "    def __init__(self, capacity) -> None:\n",
    "        self.capacity = capacity\n",
    "        self.memory = deque(maxlen = capacity)\n",
    "    \n",
    "    def push(self, state, action, reward, next_state, done):\n",
    "        self.memory.append(Transition(state, action, reward, next_state, done))\n",
    "    \n",
    "    def sample(self, batch_size):\n",
    "        '''\n",
    "        @params: \n",
    "            batch_size: int\n",
    "        @return:\n",
    "            states: torch.tensor\n",
    "            actions: torch.tensor\n",
    "            rewards: torch.tensor\n",
    "            next_states: torch.tensor\n",
    "            done: torch.tensor\n",
    "        '''\n",
    "        if batch_size > len(self.memory): return None\n",
    "        transitions = random.sample(self.memory, batch_size)\n",
    "        batch = Transition(*zip(*transitions))\n",
    "\n",
    "        state_batch = torch.tensor(batch.state).float()\n",
    "        next_state_batch = torch.tensor(batch.next_state).float()\n",
    "        action_batch = torch.tensor(np.vstack(batch.action)).long()\n",
    "        reward_batch = torch.tensor(np.vstack(batch.reward)).float()\n",
    "        done_batch = torch.tensor(np.vstack(batch.done)).float()\n",
    "\n",
    "        return (state_batch, action_batch, reward_batch, next_state_batch, done_batch)\n",
    "    \n",
    "    def __len__(self):\n",
    "        return len(self.memory)\n",
    "    \n",
    "    def clear(self):\n",
    "        self.memory.clear()"
   ]
  },
  {
   "cell_type": "code",
   "execution_count": 5,
   "metadata": {},
   "outputs": [
    {
     "name": "stdout",
     "output_type": "stream",
     "text": [
      "tensor([[-2.3737e+00, -6.5037e+37, -8.7191e-02,  2.2360e+37],\n",
      "        [ 4.7664e+00,  9.6248e+37,  2.0337e-01, -2.2398e+38],\n",
      "        [-1.5758e+00,  6.3962e+37,  3.2065e-01, -2.2668e+38],\n",
      "        [ 2.3988e+00, -3.0033e+38, -2.1278e-01,  2.3011e+38],\n",
      "        [ 1.6953e+00,  1.7152e+38, -2.8051e-01, -6.5421e+37]])\n",
      "tensor([[1],\n",
      "        [1],\n",
      "        [1],\n",
      "        [0],\n",
      "        [1]])\n",
      "tensor([[ 36.],\n",
      "        [ -7.],\n",
      "        [-30.],\n",
      "        [ 22.],\n",
      "        [-71.]])\n",
      "tensor([[-3.6709e+00,  2.2978e+38, -3.2957e-01,  3.3939e+38],\n",
      "        [ 1.7877e-01,  2.4956e+38,  4.0526e-01, -1.4602e+38],\n",
      "        [ 2.3456e+00, -2.7146e+38, -8.2632e-02,  1.8050e+38],\n",
      "        [-3.1346e+00,  2.6498e+38, -1.6688e-01,  2.9608e+38],\n",
      "        [ 1.6640e+00, -8.0969e+37, -8.1132e-02, -1.3116e+38]])\n",
      "tensor([[0.],\n",
      "        [1.],\n",
      "        [1.],\n",
      "        [0.],\n",
      "        [1.]])\n"
     ]
    }
   ],
   "source": [
    "#Test memory\n",
    "memory = ReplayMemory(capacity=10)\n",
    "env = gym.make('CartPole-v1')\n",
    "obs, info = env.reset()\n",
    "observation_n = len(obs)\n",
    "action_n = env.action_space.n\n",
    "\n",
    "for _ in range(10):\n",
    "    state = env.observation_space.sample()\n",
    "    next_state = env.observation_space.sample()\n",
    "    action = env.action_space.sample()\n",
    "    reward = random.randint(-100,100)\n",
    "    done = random.choice([True,False])\n",
    "\n",
    "    memory.push(state, action, reward, next_state, done)\n",
    "\n",
    "states, actions, rewards, next_states, dones = memory.sample(5)\n",
    "print(states)\n",
    "print(actions)\n",
    "print(rewards)\n",
    "print(next_states)\n",
    "print(dones)\n",
    "env.close()"
   ]
  },
  {
   "cell_type": "markdown",
   "metadata": {},
   "source": [
    "# Greedy Epsilon"
   ]
  },
  {
   "cell_type": "code",
   "execution_count": 26,
   "metadata": {},
   "outputs": [],
   "source": [
    "def get_action(state, policy_net, eps, env):\n",
    "    p = random.random()\n",
    "    #exploit\n",
    "    if p > eps:\n",
    "        policy_net.eval()\n",
    "        state = torch.tensor(state).float()\n",
    "        with torch.no_grad():\n",
    "            action = np.argmax(policy_net(state).cpu().numpy())\n",
    "        policy_net.train()\n",
    "        return action\n",
    "    else:\n",
    "        return env.action_space.sample()\n",
    "\n",
    "\n",
    "def epsilon_linear_decay(min_ep, max_ep, decay_ep, epoch, training_epochs):\n",
    "    return max(min_ep, max_ep * (decay_ep ** epoch))\n",
    "\n",
    "def plot_epsilon_decay(min_ep, max_ep, decay_ep, training_epochs, epsilon_function):\n",
    "    eps = []\n",
    "    for e in range(training_epochs):\n",
    "        eps.append(epsilon_function(min_ep, max_ep, decay_ep, e, training_epochs))\n",
    "    sns.lineplot(y = eps, x = list(range(len(eps))))\n",
    "    plt.show()\n",
    "\n"
   ]
  },
  {
   "cell_type": "code",
   "execution_count": 14,
   "metadata": {},
   "outputs": [
    {
     "name": "stdout",
     "output_type": "stream",
     "text": [
      "exploit =  1\n",
      "explore =  1\n"
     ]
    }
   ],
   "source": [
    "env = gym.make('CartPole-v1')\n",
    "state, info = env.reset()\n",
    "env = gym.make('CartPole-v1')\n",
    "obs, info = env.reset()\n",
    "observation_n = len(obs)\n",
    "action_n = env.action_space.n\n",
    "\n",
    "test_net = QNetwork(observation_n, action_n)\n",
    "\n",
    "exploit = get_action(state, test_net, 0.0, env)\n",
    "print('exploit = ', exploit)\n",
    "\n",
    "explore = get_action(state, test_net, 1.0, env)\n",
    "print('explore = ', explore)\n",
    "del test_net"
   ]
  },
  {
   "cell_type": "markdown",
   "metadata": {},
   "source": [
    "# Plot Epsilon"
   ]
  },
  {
   "cell_type": "code",
   "execution_count": 16,
   "metadata": {},
   "outputs": [
    {
     "data": {
      "text/plain": [
       "<Axes: >"
      ]
     },
     "execution_count": 16,
     "metadata": {},
     "output_type": "execute_result"
    },
    {
     "data": {
      "image/png": "[encoded data removed]",
      "text/plain": [
       "<Figure size 640x480 with 1 Axes>"
      ]
     },
     "metadata": {},
     "output_type": "display_data"
    }
   ],
   "source": [
    "eps = []\n",
    "min_ep = 0.1\n",
    "max_ep = 1.0\n",
    "decay_ep = (max_ep - min_ep) / 1e4\n",
    "ep = max_ep\n",
    "\n",
    "for i in range(10000):\n",
    "    ep = ep - decay_ep\n",
    "    eps.append(ep)\n",
    "\n",
    "sns.lineplot(y = eps, x = list(range(len(eps))))"
   ]
  },
  {
   "cell_type": "markdown",
   "metadata": {},
   "source": [
    "# Output Folder"
   ]
  },
  {
   "cell_type": "code",
   "execution_count": 15,
   "metadata": {},
   "outputs": [],
   "source": [
    "ROOT = os.getcwd()\n",
    "OUTPUT = os.path.join(ROOT, 'output','cartpole')\n",
    "\n",
    "if os.path.exists(OUTPUT) == False:\n",
    "    os.makedirs(OUTPUT)"
   ]
  },
  {
   "cell_type": "markdown",
   "metadata": {},
   "source": [
    "# Training Loop"
   ]
  },
  {
   "cell_type": "code",
   "execution_count": 31,
   "metadata": {},
   "outputs": [],
   "source": [
    "def tune(hidden_size, memory_cap, batch_size, training_epochs, min_ep, max_ep, decay_ep, epsilon_function, gamma, c, label='default', plot_update_freq = 50): \n",
    "    SAVE_PATH = os.path.join(OUTPUT, label)\n",
    "\n",
    "    if os.path.exists(SAVE_PATH) == False:\n",
    "        os.makedirs(SAVE_PATH)\n",
    "\n",
    "    env = gym.make('CartPole-v1')\n",
    "    obs,info = env.reset()\n",
    "    state_size = len(obs)\n",
    "    action_size = env.action_space.n\n",
    "\n",
    "    # agent = Agent(state_size, action_size)\n",
    "    policy_net = QNetwork(state_size, action_size, hidden_size=hidden_size)\n",
    "    target_net = QNetwork(state_size, action_size, hidden_size=hidden_size)\n",
    "\n",
    "    memory = ReplayMemory(capacity=memory_cap)\n",
    "\n",
    "    scores = []\n",
    "    score_window = deque(maxlen = 100)\n",
    "\n",
    "    # epsilon = max_ep\n",
    "\n",
    "    step_count = 0\n",
    "    sync_count = 0\n",
    "\n",
    "    loop = tqdm(range(training_epochs))\n",
    "    history = defaultdict(list)\n",
    "    best_avg_reward = 0\n",
    "\n",
    "    for epoch in loop:\n",
    "\n",
    "        state, info = env.reset(seed = 0)\n",
    "        total_reward = 0\n",
    "        done = False\n",
    "        epsilon = epsilon_function(min_ep, max_ep, decay_ep, epoch, training_epochs)\n",
    "\n",
    "        for t in count():\n",
    "\n",
    "            step_count += 1\n",
    "\n",
    "            action = get_action(state, policy_net, epsilon, env)\n",
    "            next_state, reward, terminated, truncated, info = env.step(action)\n",
    "\n",
    "            total_reward += reward\n",
    "\n",
    "            if terminated or truncated:\n",
    "                done = True\n",
    "\n",
    "            memory.push(state, action, reward, next_state, done)\n",
    "\n",
    "            state = next_state\n",
    "\n",
    "            transitions = memory.sample(batch_size)\n",
    "\n",
    "            if transitions != None:\n",
    "                states, actions, rewards, next_states, dones = transitions\n",
    "\n",
    "                next_state_values = target_net(next_states).detach().max(1)[0].unsqueeze(1)\n",
    "                ### Calculate target value from bellman equation\n",
    "                # NOTE: make sure that next state values has shape (batch_size, 1)\n",
    "                # or loss function can't optimize properly\n",
    "                next_state_values = rewards + gamma * next_state_values * (1 - dones)\n",
    "                # print('q target = ', q_targets.shape)\n",
    "                ### Calculate expected value from local network\n",
    "                state_values = policy_net(states).gather(1, actions)\n",
    "\n",
    "                policy_net.optimize(state_values, next_state_values)\n",
    "\n",
    "                \n",
    "                if step_count % c == 0:\n",
    "                    target_net.sync(policy_net)\n",
    "                    sync_count += 1\n",
    "            if done:\n",
    "                break\n",
    "\n",
    "        avg_reward = np.mean(score_window)\n",
    "        score_window.append(total_reward)\n",
    "        \n",
    "        #stop if avg reward > 250\n",
    "        # if avg_reward >= 250:\n",
    "        #     break\n",
    "        if best_avg_reward <= avg_reward:\n",
    "            best_avg_reward = avg_reward\n",
    "            #save best model\n",
    "            torch.save(policy_net, os.path.join(SAVE_PATH, 'policy_net.checkpoint.torch'))\n",
    "            torch.save(target_net, os.path.join(SAVE_PATH, 'target_net.checkpoint.torch'))\n",
    "\n",
    "\n",
    "        loop.set_description(f'epsilon = {epsilon:.2f}, avg rewards={avg_reward:.2f}, best_avg_reward={best_avg_reward:.2f}, memory_len = {len(memory.memory)}')\n",
    "        history['reward'].append(np.mean(score_window))\n",
    "        history['epsilon'].append(epsilon)\n",
    "        fig_save_path = os.path.join(SAVE_PATH, 'plot.png')\n",
    "\n",
    "        if epoch % plot_update_freq == 0:\n",
    "            plot(history, save_path = fig_save_path)\n",
    "\n",
    "    torch.save(policy_net, os.path.join(SAVE_PATH, 'policy_net.final.torch'))\n",
    "    torch.save(target_net, os.path.join(SAVE_PATH, 'target_net.final.torch'))\n",
    "\n",
    "    plot(history, show = True)\n",
    "\n",
    "def plot(history, show = False, save_path = None):\n",
    "    fig, (ax1,ax2) = plt.subplots(1,2, figsize=(10,5))\n",
    "    sns.lineplot(y = history['reward'], x = list(range(len(history['reward']))), ax = ax1)\n",
    "    ax1.set_title('100-iteration average reward per epoch')\n",
    "    sns.lineplot(y = history['epsilon'], x = list(range(len(history['epsilon']))), ax = ax2)\n",
    "    ax2.set_title(label = 'epsilon decay')\n",
    "\n",
    "    if save_path != None:\n",
    "        plt.savefig(save_path)\n",
    "    if show:\n",
    "        plt.show()\n"
   ]
  },
  {
   "cell_type": "markdown",
   "metadata": {},
   "source": [
    "# Solved, DO NOT DELETE"
   ]
  },
  {
   "cell_type": "code",
   "execution_count": null,
   "metadata": {},
   "outputs": [],
   "source": [
    "training_epochs = 2000\n",
    "max_ep = 1.0\n",
    "min_ep = 0.1\n",
    "decay_ep =0.999\n",
    "seed = 0\n",
    "\n",
    "hidden_size = 16\n",
    "memory_cap = int(5e5)\n",
    "batch_size = 32\n",
    "\n",
    "lr = 1e-3\n",
    "gamma = 0.99\n",
    "tau = 1e-3\n",
    "c = 4\n",
    "plot_epsilon_decay(min_ep, max_ep, decay_ep, training_epochs, epsilon_linear_decay)\n",
    "\n",
    "# plot_epsilon_decay(min_ep, max_ep, decay_ep, training_epochs, epsilon_linear_decay)\n",
    "tune(hidden_size, memory_cap, batch_size, training_epochs, min_ep, max_ep, decay_ep, epsilon_linear_decay ,gamma,c, label = 'baseline')"
   ]
  },
  {
   "cell_type": "markdown",
   "metadata": {},
   "source": [
    "# Run the final agent"
   ]
  },
  {
   "cell_type": "code",
   "execution_count": 41,
   "metadata": {},
   "outputs": [
    {
     "name": "stderr",
     "output_type": "stream",
     "text": [
      "ep = 99, reward = 500.0: 100%|██████████| 100/100 [00:02<00:00, 36.91it/s]\n"
     ]
    },
    {
     "data": {
      "text/plain": [
       "<Axes: >"
      ]
     },
     "execution_count": 41,
     "metadata": {},
     "output_type": "execute_result"
    },
    {
     "data": {
      "image/png": "[encoded data removed]",
      "text/plain": [
       "<Figure size 640x480 with 1 Axes>"
      ]
     },
     "metadata": {},
     "output_type": "display_data"
    }
   ],
   "source": [
    "# nv = gym.make('CartPole-v1')\n",
    "env = gym.make('CartPole-v1')\n",
    "rewards = []\n",
    "\n",
    "# net = torch.load('best_target_net.torch')\n",
    "net = torch.load(os.path.join(OUTPUT, 'baseline_best', 'policy_net.checkpoint.torch'))\n",
    "\n",
    "loop = tqdm(range(100))\n",
    "for epoch in loop:\n",
    "    state, info = env.reset()\n",
    "    state = torch.tensor(state, dtype = torch.float32).unsqueeze(0)\n",
    "\n",
    "    total_reward = 0\n",
    "    for step in count():\n",
    "        action = get_action(state, net, 0.0, env)\n",
    "        next_state, reward, terminated, truncated, info = env.step(action.item())\n",
    "        next_state = torch.tensor(next_state, dtype = torch.float32).unsqueeze(0)\n",
    "        state = next_state\n",
    "        total_reward += reward\n",
    "\n",
    "        if terminated or truncated:\n",
    "            break\n",
    "\n",
    "    loop.set_description(f'ep = {epoch}, reward = {total_reward}')\n",
    "    rewards.append(total_reward)\n",
    "    \n",
    "sns.lineplot(y = total_reward, x= list(range(len(rewards))))"
   ]
  }
 ],
 "metadata": {
  "kernelspec": {
   "display_name": "Python 3.9.18 ('torch')",
   "language": "python",
   "name": "python3"
  },
  "language_info": {
   "codemirror_mode": {
    "name": "ipython",
    "version": 3
   },
   "file_extension": ".py",
   "mimetype": "text/x-python",
   "name": "python",
   "nbconvert_exporter": "python",
   "pygments_lexer": "ipython3",
   "version": "3.9.18"
  },
  "orig_nbformat": 4,
  "vscode": {
   "interpreter": {
    "hash": "af18273774455bc90f5456b9f4898eab7ba4de506fde0c1d0784da333c7e8bbc"
   }
  }
 },
 "nbformat": 4,
 "nbformat_minor": 2
}
