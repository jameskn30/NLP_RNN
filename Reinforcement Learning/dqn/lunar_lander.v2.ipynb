{
 "cells": [
  {
   "cell_type": "markdown",
   "metadata": {},
   "source": [
    "# Import"
   ]
  },
  {
   "cell_type": "code",
   "execution_count": 6,
   "metadata": {},
   "outputs": [],
   "source": [
    "import gymnasium as gym\n",
    "import seaborn as sns\n",
    "import os\n",
    "from collections import deque, Counter, namedtuple, defaultdict\n",
    "import random\n",
    "from matplotlib import pyplot as plt\n",
    "import warnings\n",
    "warnings.simplefilter(action='ignore', category=FutureWarning)\n",
    "warnings.simplefilter(action='ignore', category=UserWarning)\n",
    "import torch\n",
    "from torch import nn\n",
    "import torch.nn.functional as F\n",
    "import math\n",
    "from itertools import count\n",
    "from tqdm import tqdm\n",
    "import numpy as np\n",
    "import time\n",
    "\n",
    "#Setting up matplotlib for live update the traiing progress\n",
    "import matplotlib\n",
    "is_ipython = 'inline' in matplotlib.get_backend()\n",
    "if is_ipython:\n",
    "    from IPython import display"
   ]
  },
  {
   "cell_type": "markdown",
   "metadata": {},
   "source": [
    "# DQN "
   ]
  },
  {
   "cell_type": "code",
   "execution_count": 33,
   "metadata": {},
   "outputs": [],
   "source": [
    "class DQN(nn.Module):\n",
    "\n",
    "    def __init__(self, input_size, output_size, hidden_size = 64) -> None:\n",
    "        super().__init__()\n",
    "\n",
    "        self.model = nn.Sequential(\n",
    "            nn.Linear(input_size, hidden_size),\n",
    "            nn.ReLU(),\n",
    "            nn.Linear(hidden_size, hidden_size),\n",
    "            nn.ReLU(),\n",
    "            nn.Linear(hidden_size, output_size),\n",
    "        )\n",
    "\n",
    "        #init weights\n",
    "        self.apply(self._init_weights)\n",
    "\n",
    "    def _init_weights(self,m):\n",
    "        if isinstance(m,nn.Linear):\n",
    "            torch.nn.init.xavier_uniform_(m.weight)  # Example: Xavier initialization\n",
    "            if m.bias is not None:\n",
    "                torch.nn.init.zeros_(m.bias)\n",
    "            \n",
    "    def forward(self, X):\n",
    "        return self.model(X)"
   ]
  },
  {
   "cell_type": "code",
   "execution_count": 8,
   "metadata": {},
   "outputs": [],
   "source": [
    "# Test\n",
    "dqn = DQN(4,2,16)"
   ]
  },
  {
   "cell_type": "markdown",
   "metadata": {},
   "source": [
    "# Explore Lunar Lander"
   ]
  },
  {
   "cell_type": "code",
   "execution_count": 9,
   "metadata": {},
   "outputs": [
    {
     "name": "stderr",
     "output_type": "stream",
     "text": [
      "  0%|          | 0/10 [00:00<?, ?it/s]/Users/jamesnguyen/anaconda3/envs/torch/lib/python3.9/site-packages/gymnasium/utils/passive_env_checker.py:233: DeprecationWarning: `np.bool8` is a deprecated alias for `np.bool_`.  (Deprecated NumPy 1.24)\n",
      "  if not isinstance(terminated, (bool, np.bool8)):\n",
      "100%|██████████| 10/10 [00:22<00:00,  2.29s/it]\n"
     ]
    },
    {
     "data": {
      "image/png": "[encoded data removed]",
      "text/plain": [
       "<Figure size 640x480 with 1 Axes>"
      ]
     },
     "metadata": {},
     "output_type": "display_data"
    }
   ],
   "source": [
    "env = gym.make('LunarLander-v2', render_mode = 'human')\n",
    "obs, info = env.reset()\n",
    "\n",
    "rewards = []\n",
    "for ep in tqdm(range(10)):\n",
    "    obs, info = env.reset()\n",
    "    total_reward = 0\n",
    "\n",
    "    for t in count():\n",
    "        action = env.action_space.sample()\n",
    "        state, reward, terminated, truncated, info = env.step(action)\n",
    "        total_reward += reward\n",
    "        if terminated or truncated: \n",
    "            break\n",
    "    \n",
    "    rewards.append(total_reward)\n",
    "\n",
    "sns.lineplot(y = rewards, x = list(range(len(rewards))))\n",
    "plt.show()\n",
    "env.close()"
   ]
  },
  {
   "cell_type": "markdown",
   "metadata": {},
   "source": [
    "# Replay Memory"
   ]
  },
  {
   "cell_type": "code",
   "execution_count": 10,
   "metadata": {},
   "outputs": [],
   "source": [
    "Transition = namedtuple('Transition', ('state', 'action', 'reward', 'next_state'))\n",
    "class ReplayMemory():\n",
    "    def __init__(self, capacity) -> None:\n",
    "        self.capacity = capacity\n",
    "        self.memory = deque(maxlen = capacity)\n",
    "    \n",
    "    def push(self, state, action, reward, next_state):\n",
    "        self.memory.append(Transition(state, action, reward, next_state))\n",
    "    \n",
    "    def sample(self, batch_size):\n",
    "        if batch_size > len(self.memory): return None\n",
    "        return random.sample(self.memory, batch_size)\n",
    "    \n",
    "    def __len__(self):\n",
    "        return len(self.memory)\n",
    "    \n",
    "    def clear(self):\n",
    "        self.memory.clear()"
   ]
  },
  {
   "cell_type": "code",
   "execution_count": 11,
   "metadata": {},
   "outputs": [
    {
     "name": "stdout",
     "output_type": "stream",
     "text": [
      "[Transition(state=5, action=2, reward=-4, next_state=2), Transition(state=2, action=1, reward=4, next_state=2), Transition(state=1, action=1, reward=-2, next_state=1), Transition(state=7, action=2, reward=3, next_state=4), Transition(state=3, action=3, reward=1, next_state=0)]\n"
     ]
    }
   ],
   "source": [
    "#Test memory\n",
    "memory = ReplayMemory(capacity=10)\n",
    "\n",
    "for _ in range(10):\n",
    "    state = random.randint(0,8)\n",
    "    action = random.randint(0,3)\n",
    "    reward = random.randint(-10, 10)\n",
    "    next_state = random.randint(0,8)\n",
    "    memory.push(state, action, reward, next_state)\n",
    "\n",
    "batch = memory.sample(5)\n",
    "print(batch)"
   ]
  },
  {
   "cell_type": "markdown",
   "metadata": {},
   "source": [
    "# Greedy Epsilon Policy"
   ]
  },
  {
   "cell_type": "code",
   "execution_count": 12,
   "metadata": {},
   "outputs": [],
   "source": [
    "def select_action(state, epsilon, policy_net, env):\n",
    "    p = random.random()\n",
    "    #exploit\n",
    "    # state = torch.tensor(state, dtype = torch.float32).unsqueeze(0)\n",
    "    assert torch.is_tensor(state), 'state in select action must be a tensor'\n",
    "    if p > epsilon: \n",
    "        with torch.no_grad():\n",
    "            return policy_net(state).max(1).indices.view(1)\n",
    "    else:\n",
    "        return torch.tensor([env.action_space.sample()], dtype = torch.long)\n",
    "\n",
    "def epsilon_function(min_ep, max_ep, decay_ep, current_ep, total_eps, mode = 'linear'):\n",
    "    return  max(min_ep, max_ep * decay_ep ** current_ep)\n",
    "\n",
    "def plot_epsilon_decay(min_ep, max_ep, decay_ep, training_eps):\n",
    "    eps = []\n",
    "    for t in range(training_eps):\n",
    "        eps.append(epsilon_function(min_ep, max_ep, decay_ep, t, training_eps))\n",
    "    sns.lineplot(y = eps, x = list(range(len(eps))))"
   ]
  },
  {
   "cell_type": "code",
   "execution_count": 13,
   "metadata": {},
   "outputs": [
    {
     "name": "stdout",
     "output_type": "stream",
     "text": [
      "observation n =  8\n",
      "action n =  4\n",
      "10\n",
      "[Transition(state=tensor([[0.0574, 0.7753, 0.3172, 0.4388, 0.2021, 0.4987, 0.7860, 0.5021]]), action=tensor([[0]]), reward=tensor([[-5]]), next_state=tensor([[0.9870, 0.4824, 0.7399, 0.5162, 0.8839, 0.5520, 0.4527, 0.4377]])), Transition(state=tensor([[0.7451, 0.7216, 0.8418, 0.4485, 0.8161, 0.7988, 0.7014, 0.3329]]), action=tensor([[2]]), reward=tensor([[1]]), next_state=tensor([[0.3027, 0.0961, 0.9561, 0.1600, 0.6375, 0.6359, 0.5173, 0.5099]])), Transition(state=tensor([[0.4485, 0.1541, 0.1578, 0.0891, 0.8276, 0.4529, 0.5663, 0.4851]]), action=tensor([[2]]), reward=tensor([[4]]), next_state=tensor([[0.4312, 0.5977, 0.9801, 0.8638, 0.8063, 0.5121, 0.1421, 0.0177]])), Transition(state=tensor([[0.6985, 0.3059, 0.8585, 0.7677, 0.5632, 0.5894, 0.9908, 0.9184]]), action=tensor([[1]]), reward=tensor([[5]]), next_state=tensor([[0.3073, 0.6714, 0.0797, 0.5186, 0.6279, 0.7728, 0.2962, 0.2921]])), Transition(state=tensor([[0.6268, 0.6996, 0.8255, 0.1510, 0.2965, 0.7165, 0.1577, 0.8417]]), action=tensor([[1]]), reward=tensor([[-6]]), next_state=tensor([[0.7238, 0.2312, 0.0557, 0.1685, 0.5301, 0.4766, 0.4568, 0.8450]]))]\n"
     ]
    }
   ],
   "source": [
    "#Test\n",
    "# memory\n",
    "memory = ReplayMemory(capacity=10)\n",
    "\n",
    "env = gym.make('LunarLander-v2')\n",
    "state, info = env.reset()\n",
    "\n",
    "observation_n = len(state)\n",
    "action_n = env.action_space.n\n",
    "print('observation n = ', observation_n)\n",
    "print('action n = ', action_n)\n",
    "\n",
    "policy_net = DQN(observation_n, action_n)\n",
    "target_net = DQN(observation_n, action_n)\n",
    "\n",
    "for _ in range(100):\n",
    "    state = torch.rand((1,observation_n))\n",
    "    next_state = torch.rand((1,observation_n))\n",
    "    reward = torch.randint(-10,10, (1,1))\n",
    "    action = torch.randint(0,action_n, (1,1))\n",
    "\n",
    "    memory.push(state, action, reward, next_state)\n",
    "\n",
    "    state = next_state\n",
    "\n",
    "print(len(memory.memory))\n",
    "transitions = memory.sample(5)\n",
    "print(transitions)\n",
    "\n",
    "env.close()\n",
    "\n"
   ]
  },
  {
   "cell_type": "code",
   "execution_count": 14,
   "metadata": {},
   "outputs": [
    {
     "data": {
      "image/png": "[encoded data removed]",
      "text/plain": [
       "<Figure size 640x480 with 1 Axes>"
      ]
     },
     "metadata": {},
     "output_type": "display_data"
    }
   ],
   "source": [
    "plot_epsilon_decay(0.2, 1.0, 0.9991, 2000)"
   ]
  },
  {
   "cell_type": "markdown",
   "metadata": {},
   "source": [
    "# Training loop"
   ]
  },
  {
   "cell_type": "code",
   "execution_count": 53,
   "metadata": {},
   "outputs": [],
   "source": [
    "ROOT = os.getcwd()\n",
    "OUTPUT = os.path.join(ROOT, 'output', 'lunar')\n",
    "if os.path.exists(OUTPUT) == False:\n",
    "    os.makedirs(OUTPUT)\n",
    "\n",
    "def tune(\n",
    "    policy_net, target_net, optimizer, criterion, env, memory,\n",
    "    gamma, batch_size,\n",
    "    min_ep, max_ep, decay_ep, training_eps, \n",
    "    c = 10\n",
    "):\n",
    "\n",
    "    loop = tqdm(range(training_eps))\n",
    "    history = defaultdict(list)\n",
    "    best_score = 0 \n",
    "    step = 0\n",
    "\n",
    "    for epoch in loop:\n",
    "\n",
    "        state, info = env.reset() \n",
    "        state = torch.tensor(state, dtype = torch.float32).unsqueeze(0)\n",
    "        done = False\n",
    "        running_loss = 0\n",
    "        total_reward = 0\n",
    "        epsilon = epsilon_function(min_ep, max_ep, decay_ep, epoch, training_eps)\n",
    "        history['epsilon'].append(epsilon)\n",
    "\n",
    "        for t in count():\n",
    "            with torch.no_grad():\n",
    "                action =  select_action(state, 0.1, policy_net, env)\n",
    "            \n",
    "            next_state, reward, terminated, truncated, info = env.step(action.item())\n",
    "            total_reward += reward\n",
    "            reward = torch.tensor([reward])\n",
    "\n",
    "            if terminated or truncated: \n",
    "                next_state = None\n",
    "                done = True\n",
    "            else:\n",
    "                next_state = torch.tensor(next_state, dtype = torch.float32).unsqueeze(0)\n",
    "            \n",
    "            action = action.unsqueeze(0)\n",
    "            #push transition to memory\n",
    "            memory.push(state, action, reward, next_state)\n",
    "            \n",
    "            #state is next state\n",
    "            state = next_state \n",
    "\n",
    "            transitions = memory.sample(batch_size=batch_size)\n",
    "\n",
    "            if transitions != None:\n",
    "\n",
    "                batch = Transition(*zip(*transitions))\n",
    "\n",
    "                non_final_mask = torch.tensor(tuple(map(lambda s: s is not None, batch.next_state)), dtype = torch.bool)\n",
    "                non_final_next_states = torch.cat([s for s in batch.next_state if s is not None])\n",
    "                state_batch = torch.cat(batch.state)\n",
    "                action_batch = torch.cat(batch.action)\n",
    "                reward_batch = torch.cat(batch.reward)\n",
    "\n",
    "                state_action_values = policy_net(state_batch).gather(1, action_batch)\n",
    "                next_state_values = torch.zeros(batch_size)\n",
    "                next_state_values[non_final_mask] = target_net(non_final_next_states).max(1).values\n",
    "                \n",
    "                expected_action_values =(gamma * next_state_values) + reward \n",
    "                expected_action_values = expected_action_values.to(torch.float32).unsqueeze(1)\n",
    "\n",
    "                loss = criterion(state_action_values, expected_action_values)\n",
    "\n",
    "                optimizer.zero_grad()\n",
    "                loss.backward()\n",
    "                optimizer.step()\n",
    "\n",
    "                running_loss += loss.item()\n",
    "                break\n",
    "            \n",
    "            step += 1\n",
    "            if step % c == 0:\n",
    "                target_net.load_state_dict(policy_net.state_dict())\n",
    "            \n",
    "            if best_score <= total_reward:\n",
    "                torch.save(policy_net, 'best_policy_net.torch')\n",
    "                torch.save(target_net, 'best_target_net.torch')\n",
    "\n",
    "            if done:\n",
    "                break\n",
    "\n",
    "        loop.set_description(f'ep = {epoch}\\t,epsilon={epsilon:.2f}\\t,loss = {running_loss:.2f}\\t,rewards = {total_reward}')\n",
    "        history['rewards'].append(total_reward)\n",
    "        history['loss'].append(running_loss)\n",
    "        break\n",
    "\n",
    "    torch.save(policy_net, 'final_policy_net.torch')\n",
    "    torch.save(target_net, 'final_target_net.torch')\n",
    "\n",
    "    return policy_net, target_net, history\n",
    "\n",
    "def plot(history):\n",
    "    fig, (ax1, ax2) = plt.subplots(1,2, figsize=(10,5))\n",
    "    sns.lineplot(y = history['rewards'], x = list(range(len(history['rewards']))), ax = ax1, color = 'green')\n",
    "    ax1.set_title('rewards')\n",
    "    sns.lineplot(y = history['loss'], x = list(range(len(history['loss']))), ax = ax2)\n",
    "    ax2.set_title('loss')\n",
    "    plt.show()\n",
    "    sns.lineplot(y = history['epsilon'], x = list(range(len(history['epsilon']))))\n",
    "    plt.title('epsilon')\n",
    "    plt.show()\n",
    "    "
   ]
  },
  {
   "cell_type": "code",
   "execution_count": 35,
   "metadata": {},
   "outputs": [
    {
     "data": {
      "image/png": "[encoded data removed]",
      "text/plain": [
       "<Figure size 640x480 with 1 Axes>"
      ]
     },
     "metadata": {},
     "output_type": "display_data"
    }
   ],
   "source": []
  },
  {
   "cell_type": "code",
   "execution_count": 54,
   "metadata": {},
   "outputs": [
    {
     "name": "stdout",
     "output_type": "stream",
     "text": [
      "observation space =  8\n",
      "action space =  4\n"
     ]
    },
    {
     "name": "stderr",
     "output_type": "stream",
     "text": [
      "ep = 0\t,epsilon=1.00\t,loss = 92.69\t,rewards = -395.77029657874243:   0%|          | 0/2000 [00:00<?, ?it/s]"
     ]
    },
    {
     "name": "stdout",
     "output_type": "stream",
     "text": [
      "torch.Size([64, 1])\n",
      "torch.Size([64, 1])\n"
     ]
    },
    {
     "name": "stderr",
     "output_type": "stream",
     "text": [
      "\n"
     ]
    },
    {
     "data": {
      "image/png": "[encoded data removed]",
      "text/plain": [
       "<Figure size 1000x500 with 2 Axes>"
      ]
     },
     "metadata": {},
     "output_type": "display_data"
    },
    {
     "data": {
      "image/png": "[encoded data removed]",
      "text/plain": [
       "<Figure size 640x480 with 1 Axes>"
      ]
     },
     "metadata": {},
     "output_type": "display_data"
    }
   ],
   "source": [
    "GAMMA = 0.99\n",
    "BATCH_SIZE = 64\n",
    "LR = 5e-4\n",
    "C = 5\n",
    "MIN_EP = 0.2\n",
    "MAX_EP = 1.0\n",
    "DECAY_EP = 0.9992\n",
    "TRAINING_EPS = 2000\n",
    "HIDDEN_SIZE = 64\n",
    "MEMORY_CAP = int(1e5)\n",
    "\n",
    "# plot_epsilon_decay(MIN_EP, MAX_EP, DECAY_EP, TRAINING_EPS)\n",
    "\n",
    "env = gym.make('LunarLander-v2')\n",
    "obs, info = env.reset()\n",
    "\n",
    "observation_n = len(obs)\n",
    "action_n = env.action_space.n\n",
    "print('observation space = ', observation_n)\n",
    "print('action space = ', action_n)\n",
    "\n",
    "policy_net = DQN(observation_n, action_n, hidden_size = HIDDEN_SIZE)\n",
    "target_net = DQN(observation_n, action_n, hidden_size = HIDDEN_SIZE)\n",
    "\n",
    "optimizer = torch.optim.Adam(policy_net.parameters(), lr = 5e-4)\n",
    "criterion = nn.MSELoss()\n",
    "\n",
    "memory = ReplayMemory(MEMORY_CAP)\n",
    "\n",
    "policy_net, target_net, history = tune(\n",
    "    policy_net, target_net, optimizer, criterion, env, memory,\n",
    "    gamma = GAMMA, \n",
    "    batch_size = BATCH_SIZE,\n",
    "    min_ep=MIN_EP,\n",
    "    max_ep = MAX_EP,\n",
    "    decay_ep=DECAY_EP,\n",
    "    training_eps = TRAINING_EPS,\n",
    "    c = C\n",
    ")\n",
    "\n",
    "plot(history)"
   ]
  },
  {
   "cell_type": "markdown",
   "metadata": {},
   "source": [
    "# Test the agent performance"
   ]
  },
  {
   "cell_type": "code",
   "execution_count": 52,
   "metadata": {},
   "outputs": [],
   "source": [
    "torch.save(policy_net, 'solved_policy_net.torch')"
   ]
  },
  {
   "cell_type": "code",
   "execution_count": 51,
   "metadata": {},
   "outputs": [
    {
     "name": "stderr",
     "output_type": "stream",
     "text": [
      "  0%|          | 0/100 [00:00<?, ?it/s]/Users/jamesnguyen/anaconda3/envs/torch/lib/python3.9/site-packages/gymnasium/utils/passive_env_checker.py:233: DeprecationWarning: `np.bool8` is a deprecated alias for `np.bool_`.  (Deprecated NumPy 1.24)\n",
      "  if not isinstance(terminated, (bool, np.bool8)):\n",
      "ep = 99, reward = 500.0: 100%|██████████| 100/100 [17:38<00:00, 10.59s/it]\n"
     ]
    },
    {
     "data": {
      "text/plain": [
       "<Axes: >"
      ]
     },
     "execution_count": 51,
     "metadata": {},
     "output_type": "execute_result"
    },
    {
     "data": {
      "image/png": "[encoded data removed]",
      "text/plain": [
       "<Figure size 640x480 with 1 Axes>"
      ]
     },
     "metadata": {},
     "output_type": "display_data"
    }
   ],
   "source": [
    "env = gym.make('LunarLander-v2', render_mode = 'human')\n",
    "rewards = []\n",
    "\n",
    "# net = torch.load('best_target_net.torch')\n",
    "net= policy_net\n",
    "\n",
    "loop = tqdm(range(100))\n",
    "for epoch in loop:\n",
    "    state, info = env.reset()\n",
    "    state = torch.tensor(state, dtype = torch.float32).unsqueeze(0)\n",
    "\n",
    "    total_reward = 0\n",
    "    for step in count():\n",
    "        action = select_action(state, 0.0, net, env)\n",
    "        next_state, reward, terminated, truncated, info = env.step(action.item())\n",
    "        next_state = torch.tensor(next_state, dtype = torch.float32).unsqueeze(0)\n",
    "        state = next_state\n",
    "        total_reward += reward\n",
    "\n",
    "        if terminated or truncated:\n",
    "            break\n",
    "\n",
    "    loop.set_description(f'ep = {epoch}, reward = {total_reward}')\n",
    "    rewards.append(total_reward)\n",
    "    \n",
    "sns.lineplot(y = total_reward, x= list(range(len(rewards))))"
   ]
  },
  {
   "cell_type": "markdown",
   "metadata": {},
   "source": [
    "# Exp 1"
   ]
  },
  {
   "cell_type": "code",
   "execution_count": null,
   "metadata": {},
   "outputs": [],
   "source": [
    "LR = 5e-4\n",
    "GAMMA = 0.99\n",
    "BATCH_SIZE = 32\n",
    "MEMORY_CAP = 50000\n",
    "TRAINING_EPOCHS = 2000 \n",
    "MIN_EP = 0.2\n",
    "MAX_EP = 1.0\n",
    "DECAY_EP = 0.9991\n",
    "C = 10\n",
    "HIDDEN_SIZE = 16\n",
    "\n",
    "#===EP_DECAY===\n",
    "plot_epsilon_decay(MIN_EP, MAX_EP, DECAY_EP, TRAINING_EPOCHS)\n",
    "\n",
    "#===CONFIG====\n",
    "\n",
    "env = gym.make('CartPole-v1')\n",
    "obs, info = env.reset()\n",
    "\n",
    "observation_n = len(obs)\n",
    "action_n = env.action_space.n\n",
    "print('observation space = ', observation_n)\n",
    "print('action space = ', action_n)\n",
    "\n",
    "policy_net = DQN(observation_n, action_n, hidden_size = HIDDEN_SIZE)\n",
    "target_net = DQN(observation_n, action_n, hidden_size = HIDDEN_SIZE)\n",
    "memory = ReplayMemory(MEMORY_CAP)\n",
    "\n",
    "optimizer = torch.optim.Adam(policy_net.parameters(), lr = LR)\n",
    "criterion = nn.MSELoss()\n",
    "\n",
    "policy_net, target_net, history = tune(\n",
    "    policy_net, target_net, optimizer, criterion, env, memory,\n",
    "    gamma = GAMMA, \n",
    "    batch_size = BATCH_SIZE, \n",
    "    training_epochs= TRAINING_EPOCHS, \n",
    "    min_ep = MIN_EP, \n",
    "    max_ep = MAX_EP, \n",
    "    decay_ep = DECAY_EP, \n",
    "    c= C)\n",
    "\n",
    "plot(history)"
   ]
  },
  {
   "cell_type": "code",
   "execution_count": null,
   "metadata": {},
   "outputs": [],
   "source": [
    "fig, (ax1, ax2) = plt.subplots(1,2, figsize=(10,5))\n",
    "sns.lineplot(y = history['rewards'], x = list(range(len(history['rewards']))), ax = ax1, color = 'green')\n",
    "ax1.set_title('rewards')\n",
    "sns.lineplot(y = history['loss'], x = list(range(len(history['loss']))), ax = ax2)\n",
    "ax2.set_title('loss')\n",
    "plt.show()\n",
    "sns.lineplot(y = history['epsilon'], x = list(range(len(history['epsilon']))))\n",
    "plt.title('epsilon')\n",
    "plt.show()"
   ]
  },
  {
   "cell_type": "markdown",
   "metadata": {},
   "source": [
    "# Run the model"
   ]
  },
  {
   "cell_type": "code",
   "execution_count": null,
   "metadata": {},
   "outputs": [],
   "source": [
    "env = gym.make('CartPole-v1')\n",
    "# env = gym.make('CartPole-v1', render_mode = 'human')\n",
    "rewards = []\n",
    "\n",
    "net = torch.load('best_target_net.torch')\n",
    "\n",
    "loop = tqdm(range(100))\n",
    "for epoch in loop:\n",
    "    state, info = env.reset()\n",
    "    state = torch.tensor(state, dtype = torch.float32).unsqueeze(0)\n",
    "\n",
    "    total_reward = 0\n",
    "    for step in count():\n",
    "        action = select_action(state, 0.0, net, env)\n",
    "        next_state, reward, terminated, truncated, info = env.step(action.item())\n",
    "        next_state = torch.tensor(next_state, dtype = torch.float32).unsqueeze(0)\n",
    "        state = next_state\n",
    "        total_reward += reward\n",
    "\n",
    "        if terminated or truncated:\n",
    "            break\n",
    "\n",
    "    loop.set_description(f'ep = {epoch}, reward = {total_reward}')\n",
    "    rewards.append(total_reward)\n",
    "    \n",
    "sns.lineplot(y = total_reward, x= list(range(len(rewards))))\n",
    "\n",
    "\n",
    "# for epoch in loop:\n",
    "\n",
    "#     state, info = env.reset() \n",
    "#     state = torch.tensor(state, dtype = torch.float32).unsqueeze(0)\n",
    "#     done = False\n",
    "#     running_loss = 0\n",
    "#     total_reward = 0\n",
    "#     epsilon = epsilon_function(min_ep, max_ep, decay_ep, epoch, 1000)\n",
    "#     history['epsilon'].append(epsilon)\n",
    "\n",
    "#     for t in count():\n",
    "#         with torch.no_grad():\n",
    "#             action =  select_action(state, 0.1, policy_net, env)\n",
    "        \n",
    "#         next_state, reward, terminated, truncated, info = env.step(action.item())\n",
    "#         total_reward += reward"
   ]
  },
  {
   "cell_type": "code",
   "execution_count": null,
   "metadata": {},
   "outputs": [],
   "source": []
  },
  {
   "cell_type": "code",
   "execution_count": null,
   "metadata": {},
   "outputs": [],
   "source": []
  }
 ],
 "metadata": {
  "kernelspec": {
   "display_name": "Python 3.9.18 ('torch')",
   "language": "python",
   "name": "python3"
  },
  "language_info": {
   "codemirror_mode": {
    "name": "ipython",
    "version": 3
   },
   "file_extension": ".py",
   "mimetype": "text/x-python",
   "name": "python",
   "nbconvert_exporter": "python",
   "pygments_lexer": "ipython3",
   "version": "3.9.18"
  },
  "orig_nbformat": 4,
  "vscode": {
   "interpreter": {
    "hash": "af18273774455bc90f5456b9f4898eab7ba4de506fde0c1d0784da333c7e8bbc"
   }
  }
 },
 "nbformat": 4,
 "nbformat_minor": 2
}
