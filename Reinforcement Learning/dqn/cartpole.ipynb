{
 "cells": [
  {
   "cell_type": "markdown",
   "metadata": {},
   "source": [
    "# Import"
   ]
  },
  {
   "cell_type": "code",
   "execution_count": 42,
   "metadata": {},
   "outputs": [],
   "source": [
    "import gymnasium as gym\n",
    "import seaborn as sns\n",
    "import os\n",
    "from collections import deque, Counter, namedtuple, defaultdict\n",
    "import random\n",
    "from matplotlib import pyplot as plt\n",
    "import warnings\n",
    "warnings.simplefilter(action='ignore', category=FutureWarning)\n",
    "warnings.simplefilter(action='ignore', category=UserWarning)\n",
    "import torch\n",
    "from torch import nn\n",
    "import torch.nn.functional as F\n",
    "import math\n",
    "from itertools import count\n",
    "from tqdm import tqdm\n",
    "import numpy as np\n",
    "import time\n",
    "\n",
    "#Setting up matplotlib for live update the traiing progress\n",
    "import matplotlib\n",
    "is_ipython = 'inline' in matplotlib.get_backend()\n",
    "if is_ipython:\n",
    "    from IPython import display"
   ]
  },
  {
   "cell_type": "code",
   "execution_count": null,
   "metadata": {},
   "outputs": [],
   "source": []
  },
  {
   "cell_type": "markdown",
   "metadata": {},
   "source": [
    "# DQN "
   ]
  },
  {
   "cell_type": "code",
   "execution_count": 43,
   "metadata": {},
   "outputs": [],
   "source": [
    "class DQN(nn.Module):\n",
    "\n",
    "    def __init__(self, input_size, output_size, hidden_size = 16) -> None:\n",
    "        super().__init__()\n",
    "\n",
    "        self.model = nn.Sequential(\n",
    "            nn.Linear(input_size, hidden_size),\n",
    "            nn.ReLU(),\n",
    "            nn.Linear(hidden_size, hidden_size),\n",
    "            nn.ReLU(),\n",
    "            nn.Linear(hidden_size, hidden_size),\n",
    "            nn.ReLU(),\n",
    "            nn.Linear(hidden_size, output_size),\n",
    "        )\n",
    "\n",
    "        #init weights\n",
    "        self.apply(self._init_weights)\n",
    "\n",
    "    def _init_weights(self,m):\n",
    "        if isinstance(m,nn.Linear):\n",
    "            torch.nn.init.xavier_uniform_(m.weight)  # Example: Xavier initialization\n",
    "            if m.bias is not None:\n",
    "                torch.nn.init.zeros_(m.bias)\n",
    "            \n",
    "    def forward(self, X):\n",
    "        return self.model(X)"
   ]
  },
  {
   "cell_type": "code",
   "execution_count": 44,
   "metadata": {},
   "outputs": [],
   "source": [
    "# Test\n",
    "dqn = DQN(4,2,16)"
   ]
  },
  {
   "cell_type": "markdown",
   "metadata": {},
   "source": [
    "# Explore CartPole"
   ]
  },
  {
   "cell_type": "code",
   "execution_count": 45,
   "metadata": {},
   "outputs": [
    {
     "name": "stderr",
     "output_type": "stream",
     "text": [
      "  0%|          | 0/10 [00:00<?, ?it/s]/Users/jamesnguyen/anaconda3/envs/torch/lib/python3.9/site-packages/gymnasium/utils/passive_env_checker.py:233: DeprecationWarning: `np.bool8` is a deprecated alias for `np.bool_`.  (Deprecated NumPy 1.24)\n",
      "  if not isinstance(terminated, (bool, np.bool8)):\n",
      "100%|██████████| 10/10 [00:05<00:00,  1.91it/s]\n"
     ]
    },
    {
     "data": {
      "image/png": "[encoded data removed]",
      "text/plain": [
       "<Figure size 640x480 with 1 Axes>"
      ]
     },
     "metadata": {},
     "output_type": "display_data"
    }
   ],
   "source": [
    "env = gym.make('CartPole-v1', render_mode = 'human')\n",
    "obs, info = env.reset()\n",
    "\n",
    "rewards = []\n",
    "for ep in tqdm(range(10)):\n",
    "    obs, info = env.reset()\n",
    "    total_reward = 0\n",
    "\n",
    "    for t in count():\n",
    "        action = env.action_space.sample()\n",
    "        state, reward, terminated, truncated, info = env.step(action)\n",
    "        total_reward += reward\n",
    "        if terminated or truncated: \n",
    "            break\n",
    "    \n",
    "    rewards.append(total_reward)\n",
    "\n",
    "sns.lineplot(y = rewards, x = list(range(len(rewards))))\n",
    "plt.show()\n",
    "env.close()"
   ]
  },
  {
   "cell_type": "markdown",
   "metadata": {},
   "source": [
    "# Replay Memory"
   ]
  },
  {
   "cell_type": "code",
   "execution_count": 46,
   "metadata": {},
   "outputs": [],
   "source": [
    "Transition = namedtuple('Transition', ('state', 'action', 'reward', 'next_state'))\n",
    "class ReplayMemory():\n",
    "    def __init__(self, capacity) -> None:\n",
    "        self.capacity = capacity\n",
    "        self.memory = deque(maxlen = capacity)\n",
    "    \n",
    "    def push(self, state, action, reward, next_state):\n",
    "        self.memory.append(Transition(state, action, reward, next_state))\n",
    "    \n",
    "    def sample(self, batch_size):\n",
    "        if batch_size > len(self.memory): return None\n",
    "        return random.sample(self.memory, batch_size)\n",
    "    \n",
    "    def __len__(self):\n",
    "        return len(self.memory)\n",
    "    \n",
    "    def clear(self):\n",
    "        self.memory.clear()"
   ]
  },
  {
   "cell_type": "code",
   "execution_count": 47,
   "metadata": {},
   "outputs": [
    {
     "name": "stdout",
     "output_type": "stream",
     "text": [
      "[Transition(state=3, action=1, reward=5, next_state=7), Transition(state=6, action=2, reward=6, next_state=5), Transition(state=0, action=0, reward=-4, next_state=0), Transition(state=6, action=2, reward=5, next_state=2), Transition(state=2, action=0, reward=-1, next_state=6)]\n"
     ]
    }
   ],
   "source": [
    "#Test memory\n",
    "memory = ReplayMemory(capacity=10)\n",
    "\n",
    "for _ in range(10):\n",
    "    state = random.randint(0,8)\n",
    "    action = random.randint(0,3)\n",
    "    reward = random.randint(-10, 10)\n",
    "    next_state = random.randint(0,8)\n",
    "    memory.push(state, action, reward, next_state)\n",
    "\n",
    "batch = memory.sample(5)\n",
    "print(batch)"
   ]
  },
  {
   "cell_type": "markdown",
   "metadata": {},
   "source": [
    "# Greedy Epsilon Policy"
   ]
  },
  {
   "cell_type": "code",
   "execution_count": 48,
   "metadata": {},
   "outputs": [],
   "source": [
    "def select_action(state, epsilon, policy_net, env):\n",
    "    p = random.random()\n",
    "    #exploit\n",
    "    # state = torch.tensor(state, dtype = torch.float32).unsqueeze(0)\n",
    "    assert torch.is_tensor(state), 'state in select action must be a tensor'\n",
    "    if p > epsilon: \n",
    "        with torch.no_grad():\n",
    "            return policy_net(state).max(1).indices.view(1)\n",
    "    else:\n",
    "        return torch.tensor([env.action_space.sample()], dtype = torch.long)\n",
    "\n",
    "def epsilon_function(min_ep, max_ep, decay_ep, current_ep, total_eps, mode = 'linear'):\n",
    "    return  max(min_ep, max_ep * decay_ep ** current_ep)\n",
    "\n",
    "def plot_epsilon_decay(min_ep, max_ep, decay_ep, training_eps):\n",
    "    eps = []\n",
    "    for t in range(training_eps):\n",
    "        eps.append(epsilon_function(min_ep, max_ep, decay_ep, t, training_eps))\n",
    "    sns.lineplot(y = eps, x = list(range(len(eps))))\n"
   ]
  },
  {
   "cell_type": "code",
   "execution_count": 49,
   "metadata": {},
   "outputs": [
    {
     "data": {
      "text/plain": [
       "<Axes: >"
      ]
     },
     "execution_count": 49,
     "metadata": {},
     "output_type": "execute_result"
    },
    {
     "data": {
      "image/png": "[encoded data removed]",
      "text/plain": [
       "<Figure size 640x480 with 1 Axes>"
      ]
     },
     "metadata": {},
     "output_type": "display_data"
    }
   ],
   "source": [
    "eps = []\n",
    "min_ep = 0.1\n",
    "max_ep = 1.0\n",
    "decay_ep = (max_ep - min_ep) / 1e4\n",
    "ep = max_ep\n",
    "\n",
    "for i in range(10000):\n",
    "    ep = ep - decay_ep\n",
    "    eps.append(ep)\n",
    "\n",
    "sns.lineplot(y = eps, x = list(range(len(eps))))"
   ]
  },
  {
   "cell_type": "code",
   "execution_count": 50,
   "metadata": {},
   "outputs": [
    {
     "name": "stdout",
     "output_type": "stream",
     "text": [
      "observation n =  4\n",
      "action n =  2\n",
      "10\n",
      "[Transition(state=tensor([[0.0611, 0.7634, 0.3582, 0.3143]]), action=tensor([[1]]), reward=tensor([[9]]), next_state=tensor([[0.8044, 0.2962, 0.8796, 0.4730]])), Transition(state=tensor([[0.7113, 0.7393, 0.2445, 0.2473]]), action=tensor([[0]]), reward=tensor([[7]]), next_state=tensor([[0.8825, 0.4036, 0.6556, 0.6522]])), Transition(state=tensor([[0.2740, 0.8335, 0.8077, 0.8599]]), action=tensor([[0]]), reward=tensor([[-10]]), next_state=tensor([[0.7624, 0.0779, 0.0187, 0.5051]])), Transition(state=tensor([[0.7587, 0.4527, 0.2802, 0.3288]]), action=tensor([[1]]), reward=tensor([[-2]]), next_state=tensor([[0.0995, 0.7582, 0.4817, 0.4189]])), Transition(state=tensor([[0.6606, 0.4549, 0.7965, 0.4617]]), action=tensor([[1]]), reward=tensor([[-10]]), next_state=tensor([[0.9056, 0.4819, 0.5298, 0.7025]]))]\n"
     ]
    }
   ],
   "source": [
    "#Test\n",
    "# memory\n",
    "memory = ReplayMemory(capacity=10)\n",
    "\n",
    "env = gym.make('CartPole-v1', render_mode = 'human')\n",
    "state, info = env.reset()\n",
    "\n",
    "observation_n = len(state)\n",
    "print('observation n = ', observation_n)\n",
    "action_n = env.action_space.n\n",
    "print('action n = ', action_n)\n",
    "\n",
    "policy_net = DQN(observation_n, action_n)\n",
    "target_net = DQN(observation_n, action_n)\n",
    "\n",
    "for _ in range(100):\n",
    "    state = torch.rand((1,observation_n))\n",
    "    next_state = torch.rand((1,observation_n))\n",
    "    reward = torch.randint(-10,10, (1,1))\n",
    "    action = torch.randint(0,action_n, (1,1))\n",
    "\n",
    "    memory.push(state, action, reward, next_state)\n",
    "\n",
    "    state = next_state\n",
    "\n",
    "print(len(memory.memory))\n",
    "transitions = memory.sample(5)\n",
    "print(transitions)\n",
    "\n",
    "# optimizer = torch.optim.AdamW(policy_net.parameters(), lr = 0.001)\n",
    "# criterion = nn.SmoothL1Loss()\n",
    "\n",
    "# GAMMA = 0.9\n",
    "\n",
    "# optimize(memory, 5, policy_net=policy_net, target_net=target_net, optimizer=optimizer, criterion=criterion, gamma=GAMMA, device = 'cpu')\n",
    "env.close()\n",
    "\n"
   ]
  },
  {
   "cell_type": "code",
   "execution_count": 51,
   "metadata": {},
   "outputs": [
    {
     "data": {
      "image/png": "[encoded data removed]",
      "text/plain": [
       "<Figure size 640x480 with 1 Axes>"
      ]
     },
     "metadata": {},
     "output_type": "display_data"
    }
   ],
   "source": [
    "plot_epsilon_decay(0.01, 1.0, 0.998, 2000)"
   ]
  },
  {
   "cell_type": "markdown",
   "metadata": {},
   "source": [
    "# Training"
   ]
  },
  {
   "cell_type": "code",
   "execution_count": 52,
   "metadata": {},
   "outputs": [
    {
     "name": "stdout",
     "output_type": "stream",
     "text": [
      "observation space =  4\n",
      "action space =  2\n"
     ]
    }
   ],
   "source": [
    "env = gym.make('CartPole-v1')\n",
    "obs, info = env.reset()\n",
    "\n",
    "observation_n = len(obs)\n",
    "action_n = env.action_space.n\n",
    "print('observation space = ', observation_n)\n",
    "print('action space = ', action_n)\n",
    "\n",
    "policy_net = DQN(observation_n, action_n, hidden_size = 16)\n",
    "target_net = DQN(observation_n, action_n, hidden_size = 16)\n",
    "\n",
    "optimzer = torch.optim.Adam(policy_net.parameters(), lr = 5e-4)\n",
    "criterion = nn.MSELoss()\n",
    "\n",
    "memory = ReplayMemory(50000)\n",
    "\n",
    "batch_size = 5\n",
    "gamma = 0.99\n",
    "#sync target net with policy net\n",
    "c = 10\n"
   ]
  },
  {
   "cell_type": "markdown",
   "metadata": {},
   "source": [
    "# Training loop\n",
    "\n",
    "Note that when agent make 500 rewards consecutively, stop the trainng or it will not yield 500 rewards at the end"
   ]
  },
  {
   "cell_type": "code",
   "execution_count": 54,
   "metadata": {},
   "outputs": [],
   "source": [
    "ROOT = os.getcwd()\n",
    "OUTPUT = os.path.join(ROOT, 'output', 'cartpole')\n",
    "if os.path.exists(OUTPUT) == False:\n",
    "    os.makedirs(OUTPUT)\n",
    "\n",
    "def tune(\n",
    "    policy_net, target_net, optimizer, criterion, env, memory,\n",
    "    gamma, batch_size,\n",
    "    min_ep, max_ep, decay_ep, max_steps, \n",
    "    c = 10\n",
    "):\n",
    "\n",
    "    loop = tqdm(range(max_steps))\n",
    "    history = defaultdict(list)\n",
    "    step = 0\n",
    "\n",
    "    score_window = deque(maxlen=100)\n",
    "    best_score = 0\n",
    "    epsilon = max_ep\n",
    "\n",
    "    state, info = env.reset() \n",
    "    state = torch.tensor(state, dtype = torch.float32).unsqueeze(0)\n",
    "    done = False\n",
    "    total_reward = 0\n",
    "\n",
    "    for step in loop:\n",
    "\n",
    "        # epsilon = epsilon_function(min_ep, max_ep, decay_ep, epoch, training_eps)\n",
    "        epsilon = max(min_ep, epsilon - decay_ep)\n",
    "        history['epsilon'].append(epsilon)\n",
    "\n",
    "        with torch.no_grad():\n",
    "            action =  select_action(state, 0.1, policy_net, env)\n",
    "        \n",
    "        next_state, reward, terminated, truncated, info = env.step(action.item())\n",
    "        total_reward += reward\n",
    "        reward = torch.tensor([reward])\n",
    "\n",
    "        if terminated or truncated: \n",
    "            next_state = None\n",
    "            done = True\n",
    "        else:\n",
    "            next_state = torch.tensor(next_state, dtype = torch.float32).unsqueeze(0)\n",
    "        \n",
    "        action = action.unsqueeze(0)\n",
    "        #push transition to memory\n",
    "        memory.push(state, action, reward, next_state)\n",
    "        \n",
    "        #state is next state\n",
    "        state = next_state \n",
    "\n",
    "        transitions = memory.sample(batch_size=batch_size)\n",
    "\n",
    "        if transitions != None:\n",
    "\n",
    "            batch = Transition(*zip(*transitions))\n",
    "\n",
    "            non_final_mask = torch.tensor(tuple(map(lambda s: s is not None, batch.next_state)), dtype = torch.bool)\n",
    "            non_final_next_states = torch.cat([s for s in batch.next_state if s is not None])\n",
    "            state_batch = torch.cat(batch.state)\n",
    "            action_batch = torch.cat(batch.action)\n",
    "            reward_batch = torch.cat(batch.reward)\n",
    "\n",
    "            state_action_values = policy_net(state_batch).gather(1, action_batch)\n",
    "            next_state_values = torch.zeros(batch_size)\n",
    "            next_state_values[non_final_mask] = target_net(non_final_next_states).max(1).values\n",
    "            \n",
    "            expected_action_values =(gamma * next_state_values) + reward \n",
    "            expected_action_values = expected_action_values.unsqueeze(1)\n",
    "\n",
    "            loss = criterion(state_action_values, expected_action_values)\n",
    "            optimizer.zero_grad()\n",
    "            loss.backward()\n",
    "            optimizer.step()\n",
    "\n",
    "            # running_loss += loss.item()\n",
    "            \n",
    "        step += 1\n",
    "\n",
    "        if step % c == 0:\n",
    "            target_net.load_state_dict(policy_net.state_dict())\n",
    "        \n",
    "        if done:\n",
    "            state, info = env.reset() \n",
    "            state = torch.tensor(state, dtype = torch.float32).unsqueeze(0)\n",
    "            done = False\n",
    "            total_reward = 0\n",
    "            score_window.append(total_reward)\n",
    "            avg_reward = np.mean(score_window)\n",
    "\n",
    "            if best_score <= avg_reward:\n",
    "                torch.save(policy_net, 'policy_net.checkpoint.torch')\n",
    "                torch.save(target_net, 'target_net.checkpoint.torch')\n",
    "\n",
    "            loop.set_description(f'epsilon={epsilon:.2f}\\t avg rewards = {avg_reward}')\n",
    "            history['rewards'].append(avg_reward)\n",
    "\n",
    "    torch.save(policy_net, 'final_policy_net.torch')\n",
    "    torch.save(target_net, 'final_target_net.torch')\n",
    "\n",
    "    return policy_net, target_net, history\n",
    "\n",
    "def plot(history):\n",
    "    fig, (ax1, ax2) = plt.subplots(1,2, figsize=(10,5))\n",
    "    sns.lineplot(y = history['rewards'], x = list(range(len(history['rewards']))), ax = ax1, color = 'green')\n",
    "    ax1.set_title('rewards')\n",
    "    sns.lineplot(y = history['loss'], x = list(range(len(history['loss']))), ax = ax2)\n",
    "    ax2.set_title('loss')\n",
    "    plt.show()\n",
    "    sns.lineplot(y = history['epsilon'], x = list(range(len(history['epsilon']))))\n",
    "    plt.title('epsilon')\n",
    "    plt.show()\n",
    "    \n"
   ]
  },
  {
   "cell_type": "code",
   "execution_count": 55,
   "metadata": {},
   "outputs": [
    {
     "name": "stdout",
     "output_type": "stream",
     "text": [
      "observation space =  4\n",
      "action space =  2\n"
     ]
    },
    {
     "name": "stderr",
     "output_type": "stream",
     "text": [
      "  0%|          | 0/10000 [00:00<?, ?it/s]/Users/jamesnguyen/anaconda3/envs/torch/lib/python3.9/site-packages/gymnasium/utils/passive_env_checker.py:233: DeprecationWarning: `np.bool8` is a deprecated alias for `np.bool_`.  (Deprecated NumPy 1.24)\n",
      "  if not isinstance(terminated, (bool, np.bool8)):\n",
      "epsilon=0.55\t avg rewards = 0.0:  51%|█████     | 5065/10000 [00:05<00:05, 923.11it/s] \n"
     ]
    },
    {
     "ename": "KeyboardInterrupt",
     "evalue": "",
     "output_type": "error",
     "traceback": [
      "\u001b[0;31m---------------------------------------------------------------------------\u001b[0m",
      "\u001b[0;31mKeyboardInterrupt\u001b[0m                         Traceback (most recent call last)",
      "Cell \u001b[0;32mIn[55], line 28\u001b[0m\n\u001b[1;32m     24\u001b[0m criterion \u001b[38;5;241m=\u001b[39m nn\u001b[38;5;241m.\u001b[39mMSELoss()\n\u001b[1;32m     26\u001b[0m memory \u001b[38;5;241m=\u001b[39m ReplayMemory(MEMORY_CAP)\n\u001b[0;32m---> 28\u001b[0m policy_net, target_net, history \u001b[38;5;241m=\u001b[39m \u001b[43mtune\u001b[49m\u001b[43m(\u001b[49m\n\u001b[1;32m     29\u001b[0m \u001b[43m    \u001b[49m\u001b[43mpolicy_net\u001b[49m\u001b[43m,\u001b[49m\u001b[43m \u001b[49m\u001b[43mtarget_net\u001b[49m\u001b[43m,\u001b[49m\u001b[43m \u001b[49m\u001b[43moptimizer\u001b[49m\u001b[43m,\u001b[49m\u001b[43m \u001b[49m\u001b[43mcriterion\u001b[49m\u001b[43m,\u001b[49m\u001b[43m \u001b[49m\u001b[43menv\u001b[49m\u001b[43m,\u001b[49m\u001b[43m \u001b[49m\u001b[43mmemory\u001b[49m\u001b[43m,\u001b[49m\n\u001b[1;32m     30\u001b[0m \u001b[43m    \u001b[49m\u001b[43mgamma\u001b[49m\u001b[43m \u001b[49m\u001b[38;5;241;43m=\u001b[39;49m\u001b[43m \u001b[49m\u001b[43mGAMMA\u001b[49m\u001b[43m,\u001b[49m\u001b[43m \u001b[49m\n\u001b[1;32m     31\u001b[0m \u001b[43m    \u001b[49m\u001b[43mbatch_size\u001b[49m\u001b[43m \u001b[49m\u001b[38;5;241;43m=\u001b[39;49m\u001b[43m \u001b[49m\u001b[43mBATCH_SIZE\u001b[49m\u001b[43m,\u001b[49m\n\u001b[1;32m     32\u001b[0m \u001b[43m    \u001b[49m\u001b[43mmin_ep\u001b[49m\u001b[38;5;241;43m=\u001b[39;49m\u001b[43mMIN_EP\u001b[49m\u001b[43m,\u001b[49m\n\u001b[1;32m     33\u001b[0m \u001b[43m    \u001b[49m\u001b[43mmax_ep\u001b[49m\u001b[43m \u001b[49m\u001b[38;5;241;43m=\u001b[39;49m\u001b[43m \u001b[49m\u001b[43mMAX_EP\u001b[49m\u001b[43m,\u001b[49m\n\u001b[1;32m     34\u001b[0m \u001b[43m    \u001b[49m\u001b[43mdecay_ep\u001b[49m\u001b[38;5;241;43m=\u001b[39;49m\u001b[43mDECAY_EP\u001b[49m\u001b[43m,\u001b[49m\n\u001b[1;32m     35\u001b[0m \u001b[43m    \u001b[49m\u001b[43mmax_steps\u001b[49m\u001b[38;5;241;43m=\u001b[39;49m\u001b[43mMAX_STEPS\u001b[49m\u001b[43m,\u001b[49m\n\u001b[1;32m     36\u001b[0m \u001b[43m    \u001b[49m\u001b[43mc\u001b[49m\u001b[43m \u001b[49m\u001b[38;5;241;43m=\u001b[39;49m\u001b[43m \u001b[49m\u001b[43mC\u001b[49m\n\u001b[1;32m     37\u001b[0m \u001b[43m)\u001b[49m\n\u001b[1;32m     39\u001b[0m plot(history)\n",
      "Cell \u001b[0;32mIn[54], line 64\u001b[0m, in \u001b[0;36mtune\u001b[0;34m(policy_net, target_net, optimizer, criterion, env, memory, gamma, batch_size, min_ep, max_ep, decay_ep, max_steps, c)\u001b[0m\n\u001b[1;32m     61\u001b[0m action_batch \u001b[38;5;241m=\u001b[39m torch\u001b[38;5;241m.\u001b[39mcat(batch\u001b[38;5;241m.\u001b[39maction)\n\u001b[1;32m     62\u001b[0m reward_batch \u001b[38;5;241m=\u001b[39m torch\u001b[38;5;241m.\u001b[39mcat(batch\u001b[38;5;241m.\u001b[39mreward)\n\u001b[0;32m---> 64\u001b[0m state_action_values \u001b[38;5;241m=\u001b[39m \u001b[43mpolicy_net\u001b[49m\u001b[43m(\u001b[49m\u001b[43mstate_batch\u001b[49m\u001b[43m)\u001b[49m\u001b[38;5;241m.\u001b[39mgather(\u001b[38;5;241m1\u001b[39m, action_batch)\n\u001b[1;32m     65\u001b[0m next_state_values \u001b[38;5;241m=\u001b[39m torch\u001b[38;5;241m.\u001b[39mzeros(batch_size)\n\u001b[1;32m     66\u001b[0m next_state_values[non_final_mask] \u001b[38;5;241m=\u001b[39m target_net(non_final_next_states)\u001b[38;5;241m.\u001b[39mmax(\u001b[38;5;241m1\u001b[39m)\u001b[38;5;241m.\u001b[39mvalues\n",
      "File \u001b[0;32m~/anaconda3/envs/torch/lib/python3.9/site-packages/torch/nn/modules/module.py:1511\u001b[0m, in \u001b[0;36mModule._wrapped_call_impl\u001b[0;34m(self, *args, **kwargs)\u001b[0m\n\u001b[1;32m   1509\u001b[0m     \u001b[39mreturn\u001b[39;00m \u001b[39mself\u001b[39m\u001b[39m.\u001b[39m_compiled_call_impl(\u001b[39m*\u001b[39margs, \u001b[39m*\u001b[39m\u001b[39m*\u001b[39mkwargs)  \u001b[39m# type: ignore[misc]\u001b[39;00m\n\u001b[1;32m   1510\u001b[0m \u001b[39melse\u001b[39;00m:\n\u001b[0;32m-> 1511\u001b[0m     \u001b[39mreturn\u001b[39;00m \u001b[39mself\u001b[39;49m\u001b[39m.\u001b[39;49m_call_impl(\u001b[39m*\u001b[39;49margs, \u001b[39m*\u001b[39;49m\u001b[39m*\u001b[39;49mkwargs)\n",
      "File \u001b[0;32m~/anaconda3/envs/torch/lib/python3.9/site-packages/torch/nn/modules/module.py:1520\u001b[0m, in \u001b[0;36mModule._call_impl\u001b[0;34m(self, *args, **kwargs)\u001b[0m\n\u001b[1;32m   1515\u001b[0m \u001b[39m# If we don't have any hooks, we want to skip the rest of the logic in\u001b[39;00m\n\u001b[1;32m   1516\u001b[0m \u001b[39m# this function, and just call forward.\u001b[39;00m\n\u001b[1;32m   1517\u001b[0m \u001b[39mif\u001b[39;00m \u001b[39mnot\u001b[39;00m (\u001b[39mself\u001b[39m\u001b[39m.\u001b[39m_backward_hooks \u001b[39mor\u001b[39;00m \u001b[39mself\u001b[39m\u001b[39m.\u001b[39m_backward_pre_hooks \u001b[39mor\u001b[39;00m \u001b[39mself\u001b[39m\u001b[39m.\u001b[39m_forward_hooks \u001b[39mor\u001b[39;00m \u001b[39mself\u001b[39m\u001b[39m.\u001b[39m_forward_pre_hooks\n\u001b[1;32m   1518\u001b[0m         \u001b[39mor\u001b[39;00m _global_backward_pre_hooks \u001b[39mor\u001b[39;00m _global_backward_hooks\n\u001b[1;32m   1519\u001b[0m         \u001b[39mor\u001b[39;00m _global_forward_hooks \u001b[39mor\u001b[39;00m _global_forward_pre_hooks):\n\u001b[0;32m-> 1520\u001b[0m     \u001b[39mreturn\u001b[39;00m forward_call(\u001b[39m*\u001b[39;49margs, \u001b[39m*\u001b[39;49m\u001b[39m*\u001b[39;49mkwargs)\n\u001b[1;32m   1522\u001b[0m \u001b[39mtry\u001b[39;00m:\n\u001b[1;32m   1523\u001b[0m     result \u001b[39m=\u001b[39m \u001b[39mNone\u001b[39;00m\n",
      "Cell \u001b[0;32mIn[43], line 26\u001b[0m, in \u001b[0;36mDQN.forward\u001b[0;34m(self, X)\u001b[0m\n\u001b[1;32m     25\u001b[0m \u001b[38;5;28;01mdef\u001b[39;00m \u001b[38;5;21mforward\u001b[39m(\u001b[38;5;28mself\u001b[39m, X):\n\u001b[0;32m---> 26\u001b[0m     \u001b[38;5;28;01mreturn\u001b[39;00m \u001b[38;5;28;43mself\u001b[39;49m\u001b[38;5;241;43m.\u001b[39;49m\u001b[43mmodel\u001b[49m\u001b[43m(\u001b[49m\u001b[43mX\u001b[49m\u001b[43m)\u001b[49m\n",
      "File \u001b[0;32m~/anaconda3/envs/torch/lib/python3.9/site-packages/torch/nn/modules/module.py:1511\u001b[0m, in \u001b[0;36mModule._wrapped_call_impl\u001b[0;34m(self, *args, **kwargs)\u001b[0m\n\u001b[1;32m   1509\u001b[0m     \u001b[39mreturn\u001b[39;00m \u001b[39mself\u001b[39m\u001b[39m.\u001b[39m_compiled_call_impl(\u001b[39m*\u001b[39margs, \u001b[39m*\u001b[39m\u001b[39m*\u001b[39mkwargs)  \u001b[39m# type: ignore[misc]\u001b[39;00m\n\u001b[1;32m   1510\u001b[0m \u001b[39melse\u001b[39;00m:\n\u001b[0;32m-> 1511\u001b[0m     \u001b[39mreturn\u001b[39;00m \u001b[39mself\u001b[39;49m\u001b[39m.\u001b[39;49m_call_impl(\u001b[39m*\u001b[39;49margs, \u001b[39m*\u001b[39;49m\u001b[39m*\u001b[39;49mkwargs)\n",
      "File \u001b[0;32m~/anaconda3/envs/torch/lib/python3.9/site-packages/torch/nn/modules/module.py:1520\u001b[0m, in \u001b[0;36mModule._call_impl\u001b[0;34m(self, *args, **kwargs)\u001b[0m\n\u001b[1;32m   1515\u001b[0m \u001b[39m# If we don't have any hooks, we want to skip the rest of the logic in\u001b[39;00m\n\u001b[1;32m   1516\u001b[0m \u001b[39m# this function, and just call forward.\u001b[39;00m\n\u001b[1;32m   1517\u001b[0m \u001b[39mif\u001b[39;00m \u001b[39mnot\u001b[39;00m (\u001b[39mself\u001b[39m\u001b[39m.\u001b[39m_backward_hooks \u001b[39mor\u001b[39;00m \u001b[39mself\u001b[39m\u001b[39m.\u001b[39m_backward_pre_hooks \u001b[39mor\u001b[39;00m \u001b[39mself\u001b[39m\u001b[39m.\u001b[39m_forward_hooks \u001b[39mor\u001b[39;00m \u001b[39mself\u001b[39m\u001b[39m.\u001b[39m_forward_pre_hooks\n\u001b[1;32m   1518\u001b[0m         \u001b[39mor\u001b[39;00m _global_backward_pre_hooks \u001b[39mor\u001b[39;00m _global_backward_hooks\n\u001b[1;32m   1519\u001b[0m         \u001b[39mor\u001b[39;00m _global_forward_hooks \u001b[39mor\u001b[39;00m _global_forward_pre_hooks):\n\u001b[0;32m-> 1520\u001b[0m     \u001b[39mreturn\u001b[39;00m forward_call(\u001b[39m*\u001b[39;49margs, \u001b[39m*\u001b[39;49m\u001b[39m*\u001b[39;49mkwargs)\n\u001b[1;32m   1522\u001b[0m \u001b[39mtry\u001b[39;00m:\n\u001b[1;32m   1523\u001b[0m     result \u001b[39m=\u001b[39m \u001b[39mNone\u001b[39;00m\n",
      "File \u001b[0;32m~/anaconda3/envs/torch/lib/python3.9/site-packages/torch/nn/modules/container.py:217\u001b[0m, in \u001b[0;36mSequential.forward\u001b[0;34m(self, input)\u001b[0m\n\u001b[1;32m    215\u001b[0m \u001b[39mdef\u001b[39;00m \u001b[39mforward\u001b[39m(\u001b[39mself\u001b[39m, \u001b[39minput\u001b[39m):\n\u001b[1;32m    216\u001b[0m     \u001b[39mfor\u001b[39;00m module \u001b[39min\u001b[39;00m \u001b[39mself\u001b[39m:\n\u001b[0;32m--> 217\u001b[0m         \u001b[39minput\u001b[39m \u001b[39m=\u001b[39m module(\u001b[39minput\u001b[39;49m)\n\u001b[1;32m    218\u001b[0m     \u001b[39mreturn\u001b[39;00m \u001b[39minput\u001b[39m\n",
      "File \u001b[0;32m~/anaconda3/envs/torch/lib/python3.9/site-packages/torch/nn/modules/module.py:1511\u001b[0m, in \u001b[0;36mModule._wrapped_call_impl\u001b[0;34m(self, *args, **kwargs)\u001b[0m\n\u001b[1;32m   1509\u001b[0m     \u001b[39mreturn\u001b[39;00m \u001b[39mself\u001b[39m\u001b[39m.\u001b[39m_compiled_call_impl(\u001b[39m*\u001b[39margs, \u001b[39m*\u001b[39m\u001b[39m*\u001b[39mkwargs)  \u001b[39m# type: ignore[misc]\u001b[39;00m\n\u001b[1;32m   1510\u001b[0m \u001b[39melse\u001b[39;00m:\n\u001b[0;32m-> 1511\u001b[0m     \u001b[39mreturn\u001b[39;00m \u001b[39mself\u001b[39;49m\u001b[39m.\u001b[39;49m_call_impl(\u001b[39m*\u001b[39;49margs, \u001b[39m*\u001b[39;49m\u001b[39m*\u001b[39;49mkwargs)\n",
      "File \u001b[0;32m~/anaconda3/envs/torch/lib/python3.9/site-packages/torch/nn/modules/module.py:1520\u001b[0m, in \u001b[0;36mModule._call_impl\u001b[0;34m(self, *args, **kwargs)\u001b[0m\n\u001b[1;32m   1515\u001b[0m \u001b[39m# If we don't have any hooks, we want to skip the rest of the logic in\u001b[39;00m\n\u001b[1;32m   1516\u001b[0m \u001b[39m# this function, and just call forward.\u001b[39;00m\n\u001b[1;32m   1517\u001b[0m \u001b[39mif\u001b[39;00m \u001b[39mnot\u001b[39;00m (\u001b[39mself\u001b[39m\u001b[39m.\u001b[39m_backward_hooks \u001b[39mor\u001b[39;00m \u001b[39mself\u001b[39m\u001b[39m.\u001b[39m_backward_pre_hooks \u001b[39mor\u001b[39;00m \u001b[39mself\u001b[39m\u001b[39m.\u001b[39m_forward_hooks \u001b[39mor\u001b[39;00m \u001b[39mself\u001b[39m\u001b[39m.\u001b[39m_forward_pre_hooks\n\u001b[1;32m   1518\u001b[0m         \u001b[39mor\u001b[39;00m _global_backward_pre_hooks \u001b[39mor\u001b[39;00m _global_backward_hooks\n\u001b[1;32m   1519\u001b[0m         \u001b[39mor\u001b[39;00m _global_forward_hooks \u001b[39mor\u001b[39;00m _global_forward_pre_hooks):\n\u001b[0;32m-> 1520\u001b[0m     \u001b[39mreturn\u001b[39;00m forward_call(\u001b[39m*\u001b[39;49margs, \u001b[39m*\u001b[39;49m\u001b[39m*\u001b[39;49mkwargs)\n\u001b[1;32m   1522\u001b[0m \u001b[39mtry\u001b[39;00m:\n\u001b[1;32m   1523\u001b[0m     result \u001b[39m=\u001b[39m \u001b[39mNone\u001b[39;00m\n",
      "File \u001b[0;32m~/anaconda3/envs/torch/lib/python3.9/site-packages/torch/nn/modules/linear.py:116\u001b[0m, in \u001b[0;36mLinear.forward\u001b[0;34m(self, input)\u001b[0m\n\u001b[1;32m    115\u001b[0m \u001b[39mdef\u001b[39;00m \u001b[39mforward\u001b[39m(\u001b[39mself\u001b[39m, \u001b[39minput\u001b[39m: Tensor) \u001b[39m-\u001b[39m\u001b[39m>\u001b[39m Tensor:\n\u001b[0;32m--> 116\u001b[0m     \u001b[39mreturn\u001b[39;00m F\u001b[39m.\u001b[39;49mlinear(\u001b[39minput\u001b[39;49m, \u001b[39mself\u001b[39;49m\u001b[39m.\u001b[39;49mweight, \u001b[39mself\u001b[39;49m\u001b[39m.\u001b[39;49mbias)\n",
      "\u001b[0;31mKeyboardInterrupt\u001b[0m: "
     ]
    }
   ],
   "source": [
    "GAMMA = 0.99\n",
    "BATCH_SIZE = 32\n",
    "LR = 5e-4\n",
    "C = 10\n",
    "MIN_EP = 0.2\n",
    "MAX_EP = 1.0\n",
    "TRAINING_EPS = 2000\n",
    "MEMORY_CAP = int(1e6)\n",
    "MAX_STEPS = int(1e4)\n",
    "DECAY_EP = (max_ep - min_ep) / MAX_STEPS\n",
    "\n",
    "env = gym.make('CartPole-v1')\n",
    "obs, info = env.reset()\n",
    "\n",
    "observation_n = len(obs)\n",
    "action_n = env.action_space.n\n",
    "print('observation space = ', observation_n)\n",
    "print('action space = ', action_n)\n",
    "\n",
    "policy_net = DQN(observation_n, action_n, hidden_size = 16)\n",
    "target_net = DQN(observation_n, action_n, hidden_size = 16)\n",
    "\n",
    "optimizer = torch.optim.Adam(policy_net.parameters(), lr = LR)\n",
    "criterion = nn.MSELoss()\n",
    "\n",
    "memory = ReplayMemory(MEMORY_CAP)\n",
    "\n",
    "policy_net, target_net, history = tune(\n",
    "    policy_net, target_net, optimizer, criterion, env, memory,\n",
    "    gamma = GAMMA, \n",
    "    batch_size = BATCH_SIZE,\n",
    "    min_ep=MIN_EP,\n",
    "    max_ep = MAX_EP,\n",
    "    decay_ep=DECAY_EP,\n",
    "    max_steps=MAX_STEPS,\n",
    "    c = C\n",
    ")\n",
    "\n",
    "plot(history)"
   ]
  },
  {
   "cell_type": "markdown",
   "metadata": {},
   "source": [
    "# Test the agent performance"
   ]
  },
  {
   "cell_type": "code",
   "execution_count": 52,
   "metadata": {},
   "outputs": [
    {
     "ename": "",
     "evalue": "",
     "output_type": "error",
     "traceback": [
      "\u001b[1;31mThe Kernel crashed while executing code in the the current cell or a previous cell. Please review the code in the cell(s) to identify a possible cause of the failure. Click <a href='https://aka.ms/vscodeJupyterKernelCrash'>here</a> for more info. View Jupyter <a href='command:jupyter.viewOutput'>log</a> for further details."
     ]
    }
   ],
   "source": [
    "torch.save(policy_net, 'solved_policy_net.torch')"
   ]
  },
  {
   "cell_type": "code",
   "execution_count": 51,
   "metadata": {},
   "outputs": [
    {
     "name": "stderr",
     "output_type": "stream",
     "text": [
      "  0%|          | 0/100 [00:00<?, ?it/s]/Users/jamesnguyen/anaconda3/envs/torch/lib/python3.9/site-packages/gymnasium/utils/passive_env_checker.py:233: DeprecationWarning: `np.bool8` is a deprecated alias for `np.bool_`.  (Deprecated NumPy 1.24)\n",
      "  if not isinstance(terminated, (bool, np.bool8)):\n",
      "ep = 99, reward = 500.0: 100%|██████████| 100/100 [17:38<00:00, 10.59s/it]\n"
     ]
    },
    {
     "data": {
      "text/plain": [
       "<Axes: >"
      ]
     },
     "execution_count": 51,
     "metadata": {},
     "output_type": "execute_result"
    },
    {
     "data": {
      "image/png": "[encoded data removed]",
      "text/plain": [
       "<Figure size 640x480 with 1 Axes>"
      ]
     },
     "metadata": {},
     "output_type": "display_data"
    }
   ],
   "source": [
    "# nv = gym.make('CartPole-v1')\n",
    "env = gym.make('CartPole-v1', render_mode = 'human')\n",
    "rewards = []\n",
    "\n",
    "# net = torch.load('best_target_net.torch')\n",
    "net= policy_net\n",
    "\n",
    "loop = tqdm(range(100))\n",
    "for epoch in loop:\n",
    "    state, info = env.reset()\n",
    "    state = torch.tensor(state, dtype = torch.float32).unsqueeze(0)\n",
    "\n",
    "    total_reward = 0\n",
    "    for step in count():\n",
    "        action = select_action(state, 0.0, net, env)\n",
    "        next_state, reward, terminated, truncated, info = env.step(action.item())\n",
    "        next_state = torch.tensor(next_state, dtype = torch.float32).unsqueeze(0)\n",
    "        state = next_state\n",
    "        total_reward += reward\n",
    "\n",
    "        if terminated or truncated:\n",
    "            break\n",
    "\n",
    "    loop.set_description(f'ep = {epoch}, reward = {total_reward}')\n",
    "    rewards.append(total_reward)\n",
    "    \n",
    "sns.lineplot(y = total_reward, x= list(range(len(rewards))))"
   ]
  },
  {
   "cell_type": "markdown",
   "metadata": {},
   "source": [
    "# Exp 1"
   ]
  },
  {
   "cell_type": "markdown",
   "metadata": {},
   "source": []
  },
  {
   "cell_type": "code",
   "execution_count": null,
   "metadata": {},
   "outputs": [],
   "source": [
    "LR = 5e-4\n",
    "GAMMA = 0.99\n",
    "BATCH_SIZE = 32\n",
    "MEMORY_CAP = 50000\n",
    "TRAINING_EPOCHS = 2000 \n",
    "MIN_EP = 0.2\n",
    "MAX_EP = 1.0\n",
    "DECAY_EP = 0.9991\n",
    "C = 10\n",
    "HIDDEN_SIZE = 16\n",
    "\n",
    "#===EP_DECAY===\n",
    "plot_epsilon_decay(MIN_EP, MAX_EP, DECAY_EP, TRAINING_EPOCHS)\n",
    "\n",
    "#===CONFIG====\n",
    "\n",
    "env = gym.make('CartPole-v1')\n",
    "obs, info = env.reset()\n",
    "\n",
    "observation_n = len(obs)\n",
    "action_n = env.action_space.n\n",
    "print('observation space = ', observation_n)\n",
    "print('action space = ', action_n)\n",
    "\n",
    "policy_net = DQN(observation_n, action_n, hidden_size = HIDDEN_SIZE)\n",
    "target_net = DQN(observation_n, action_n, hidden_size = HIDDEN_SIZE)\n",
    "memory = ReplayMemory(MEMORY_CAP)\n",
    "\n",
    "optimizer = torch.optim.Adam(policy_net.parameters(), lr = LR)\n",
    "criterion = nn.MSELoss()\n",
    "\n",
    "policy_net, target_net, history = tune(\n",
    "    policy_net, target_net, optimizer, criterion, env, memory,\n",
    "    gamma = GAMMA, \n",
    "    batch_size = BATCH_SIZE, \n",
    "    training_epochs= TRAINING_EPOCHS, \n",
    "    min_ep = MIN_EP, \n",
    "    max_ep = MAX_EP, \n",
    "    decay_ep = DECAY_EP, \n",
    "    c= C)\n",
    "\n",
    "plot(history)"
   ]
  },
  {
   "cell_type": "code",
   "execution_count": null,
   "metadata": {},
   "outputs": [],
   "source": [
    "fig, (ax1, ax2) = plt.subplots(1,2, figsize=(10,5))\n",
    "sns.lineplot(y = history['rewards'], x = list(range(len(history['rewards']))), ax = ax1, color = 'green')\n",
    "ax1.set_title('rewards')\n",
    "sns.lineplot(y = history['loss'], x = list(range(len(history['loss']))), ax = ax2)\n",
    "ax2.set_title('loss')\n",
    "plt.show()\n",
    "sns.lineplot(y = history['epsilon'], x = list(range(len(history['epsilon']))))\n",
    "plt.title('epsilon')\n",
    "plt.show()"
   ]
  },
  {
   "cell_type": "markdown",
   "metadata": {},
   "source": [
    "# Run the model"
   ]
  },
  {
   "cell_type": "code",
   "execution_count": null,
   "metadata": {},
   "outputs": [],
   "source": [
    "env = gym.make('CartPole-v1')\n",
    "# env = gym.make('CartPole-v1', render_mode = 'human')\n",
    "rewards = []\n",
    "\n",
    "net = torch.load('best_target_net.torch')\n",
    "\n",
    "loop = tqdm(range(100))\n",
    "for epoch in loop:\n",
    "    state, info = env.reset()\n",
    "    state = torch.tensor(state, dtype = torch.float32).unsqueeze(0)\n",
    "\n",
    "    total_reward = 0\n",
    "    for step in count():\n",
    "        action = select_action(state, 0.0, net, env)\n",
    "        next_state, reward, terminated, truncated, info = env.step(action.item())\n",
    "        next_state = torch.tensor(next_state, dtype = torch.float32).unsqueeze(0)\n",
    "        state = next_state\n",
    "        total_reward += reward\n",
    "\n",
    "        if terminated or truncated:\n",
    "            break\n",
    "\n",
    "    loop.set_description(f'ep = {epoch}, reward = {total_reward}')\n",
    "    rewards.append(total_reward)\n",
    "    \n",
    "sns.lineplot(y = total_reward, x= list(range(len(rewards))))\n",
    "\n",
    "\n",
    "# for epoch in loop:\n",
    "\n",
    "#     state, info = env.reset() \n",
    "#     state = torch.tensor(state, dtype = torch.float32).unsqueeze(0)\n",
    "#     done = False\n",
    "#     running_loss = 0\n",
    "#     total_reward = 0\n",
    "#     epsilon = epsilon_function(min_ep, max_ep, decay_ep, epoch, 1000)\n",
    "#     history['epsilon'].append(epsilon)\n",
    "\n",
    "#     for t in count():\n",
    "#         with torch.no_grad():\n",
    "#             action =  select_action(state, 0.1, policy_net, env)\n",
    "        \n",
    "#         next_state, reward, terminated, truncated, info = env.step(action.item())\n",
    "#         total_reward += reward"
   ]
  },
  {
   "cell_type": "code",
   "execution_count": null,
   "metadata": {},
   "outputs": [],
   "source": []
  },
  {
   "cell_type": "code",
   "execution_count": null,
   "metadata": {},
   "outputs": [],
   "source": []
  }
 ],
 "metadata": {
  "kernelspec": {
   "display_name": "Python 3.9.18 ('torch')",
   "language": "python",
   "name": "python3"
  },
  "language_info": {
   "codemirror_mode": {
    "name": "ipython",
    "version": 3
   },
   "file_extension": ".py",
   "mimetype": "text/x-python",
   "name": "python",
   "nbconvert_exporter": "python",
   "pygments_lexer": "ipython3",
   "version": "3.9.18"
  },
  "orig_nbformat": 4,
  "vscode": {
   "interpreter": {
    "hash": "af18273774455bc90f5456b9f4898eab7ba4de506fde0c1d0784da333c7e8bbc"
   }
  }
 },
 "nbformat": 4,
 "nbformat_minor": 2
}
