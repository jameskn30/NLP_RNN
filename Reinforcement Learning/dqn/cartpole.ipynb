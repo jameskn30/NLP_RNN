{
 "cells": [
  {
   "cell_type": "markdown",
   "metadata": {},
   "source": [
    "# Import"
   ]
  },
  {
   "cell_type": "code",
   "execution_count": 1,
   "metadata": {},
   "outputs": [],
   "source": [
    "import gymnasium as gym\n",
    "import seaborn as sns\n",
    "import os\n",
    "from collections import deque, Counter, namedtuple, defaultdict\n",
    "import random\n",
    "from matplotlib import pyplot as plt\n",
    "import warnings\n",
    "warnings.simplefilter(action='ignore', category=FutureWarning)\n",
    "warnings.simplefilter(action='ignore', category=UserWarning)\n",
    "import torch\n",
    "from torch import nn\n",
    "import torch.nn.functional as F\n",
    "import math\n",
    "from itertools import count\n",
    "from tqdm import tqdm\n",
    "import numpy as np\n",
    "import time\n",
    "\n",
    "#Setting up matplotlib for live update the traiing progress\n",
    "import matplotlib\n",
    "is_ipython = 'inline' in matplotlib.get_backend()\n",
    "if is_ipython:\n",
    "    from IPython import display"
   ]
  },
  {
   "cell_type": "markdown",
   "metadata": {},
   "source": [
    "# DQN "
   ]
  },
  {
   "cell_type": "code",
   "execution_count": 2,
   "metadata": {},
   "outputs": [],
   "source": [
    "class DQN(nn.Module):\n",
    "\n",
    "    def __init__(self, input_size, output_size, hidden_size = 16) -> None:\n",
    "        super().__init__()\n",
    "\n",
    "        self.model = nn.Sequential(\n",
    "            nn.Linear(input_size, hidden_size),\n",
    "            nn.ReLU(),\n",
    "            nn.Linear(hidden_size, hidden_size),\n",
    "            nn.ReLU(),\n",
    "            nn.Linear(hidden_size, hidden_size),\n",
    "            nn.ReLU(),\n",
    "            nn.Linear(hidden_size, output_size),\n",
    "        )\n",
    "\n",
    "        #init weights\n",
    "        self.apply(self._init_weights)\n",
    "\n",
    "    def _init_weights(self,m):\n",
    "        if isinstance(m,nn.Linear):\n",
    "            torch.nn.init.xavier_uniform_(m.weight)  # Example: Xavier initialization\n",
    "            if m.bias is not None:\n",
    "                torch.nn.init.zeros_(m.bias)\n",
    "            \n",
    "    def forward(self, X):\n",
    "        return self.model(X)"
   ]
  },
  {
   "cell_type": "code",
   "execution_count": 3,
   "metadata": {},
   "outputs": [],
   "source": [
    "# Test\n",
    "dqn = DQN(4,2,16)"
   ]
  },
  {
   "cell_type": "markdown",
   "metadata": {},
   "source": [
    "# Explore CartPole"
   ]
  },
  {
   "cell_type": "code",
   "execution_count": 4,
   "metadata": {},
   "outputs": [
    {
     "name": "stderr",
     "output_type": "stream",
     "text": [
      "  0%|          | 0/10 [00:00<?, ?it/s]/Users/jamesnguyen/anaconda3/envs/torch/lib/python3.9/site-packages/gymnasium/utils/passive_env_checker.py:233: DeprecationWarning: `np.bool8` is a deprecated alias for `np.bool_`.  (Deprecated NumPy 1.24)\n",
      "  if not isinstance(terminated, (bool, np.bool8)):\n",
      "100%|██████████| 10/10 [00:05<00:00,  1.74it/s]\n"
     ]
    },
    {
     "data": {
      "image/png": "[encoded data removed]",
      "text/plain": [
       "<Figure size 640x480 with 1 Axes>"
      ]
     },
     "metadata": {},
     "output_type": "display_data"
    }
   ],
   "source": [
    "env = gym.make('CartPole-v1', render_mode = 'human')\n",
    "obs, info = env.reset()\n",
    "\n",
    "rewards = []\n",
    "for ep in tqdm(range(10)):\n",
    "    obs, info = env.reset()\n",
    "    total_reward = 0\n",
    "\n",
    "    for t in count():\n",
    "        action = env.action_space.sample()\n",
    "        state, reward, terminated, truncated, info = env.step(action)\n",
    "        total_reward += reward\n",
    "        if terminated or truncated: \n",
    "            break\n",
    "    \n",
    "    rewards.append(total_reward)\n",
    "\n",
    "sns.lineplot(y = rewards, x = list(range(len(rewards))))\n",
    "plt.show()\n",
    "env.close()"
   ]
  },
  {
   "cell_type": "markdown",
   "metadata": {},
   "source": [
    "# Replay Memory"
   ]
  },
  {
   "cell_type": "code",
   "execution_count": 5,
   "metadata": {},
   "outputs": [],
   "source": [
    "Transition = namedtuple('Transition', ('state', 'action', 'reward', 'next_state'))\n",
    "class ReplayMemory():\n",
    "    def __init__(self, capacity) -> None:\n",
    "        self.capacity = capacity\n",
    "        self.memory = deque(maxlen = capacity)\n",
    "    \n",
    "    def push(self, state, action, reward, next_state):\n",
    "        self.memory.append(Transition(state, action, reward, next_state))\n",
    "    \n",
    "    def sample(self, batch_size):\n",
    "        if batch_size > len(self.memory): return None\n",
    "        return random.sample(self.memory, batch_size)\n",
    "    \n",
    "    def __len__(self):\n",
    "        return len(self.memory)\n",
    "    \n",
    "    def clear(self):\n",
    "        self.memory.clear()"
   ]
  },
  {
   "cell_type": "code",
   "execution_count": 6,
   "metadata": {},
   "outputs": [
    {
     "name": "stdout",
     "output_type": "stream",
     "text": [
      "[Transition(state=0, action=1, reward=-5, next_state=5), Transition(state=8, action=3, reward=4, next_state=7), Transition(state=7, action=1, reward=-7, next_state=6), Transition(state=2, action=3, reward=4, next_state=8), Transition(state=6, action=1, reward=5, next_state=8)]\n"
     ]
    }
   ],
   "source": [
    "#Test memory\n",
    "memory = ReplayMemory(capacity=10)\n",
    "\n",
    "for _ in range(10):\n",
    "    state = random.randint(0,8)\n",
    "    action = random.randint(0,3)\n",
    "    reward = random.randint(-10, 10)\n",
    "    next_state = random.randint(0,8)\n",
    "    memory.push(state, action, reward, next_state)\n",
    "\n",
    "batch = memory.sample(5)\n",
    "print(batch)"
   ]
  },
  {
   "cell_type": "markdown",
   "metadata": {},
   "source": [
    "# Greedy Epsilon Policy"
   ]
  },
  {
   "cell_type": "code",
   "execution_count": 7,
   "metadata": {},
   "outputs": [],
   "source": [
    "def select_action(state, epsilon, policy_net, env):\n",
    "    p = random.random()\n",
    "    #exploit\n",
    "    # state = torch.tensor(state, dtype = torch.float32).unsqueeze(0)\n",
    "    assert torch.is_tensor(state), 'state in select action must be a tensor'\n",
    "    if p > epsilon: \n",
    "        with torch.no_grad():\n",
    "            return policy_net(state).max(1).indices.view(1)\n",
    "    else:\n",
    "        return torch.tensor([env.action_space.sample()], dtype = torch.long)\n",
    "\n",
    "def epsilon_function(min_ep, max_ep, decay_ep, current_ep, total_eps, mode = 'linear'):\n",
    "    return  max(min_ep, max_ep * decay_ep ** current_ep)\n",
    "\n",
    "def plot_epsilon_decay(min_ep, max_ep, decay_ep, training_eps):\n",
    "    eps = []\n",
    "    for t in range(training_eps):\n",
    "        eps.append(epsilon_function(min_ep, max_ep, decay_ep, t, training_eps))\n",
    "    sns.lineplot(y = eps, x = list(range(len(eps))))"
   ]
  },
  {
   "cell_type": "code",
   "execution_count": 8,
   "metadata": {},
   "outputs": [
    {
     "name": "stdout",
     "output_type": "stream",
     "text": [
      "observation n =  4\n",
      "action n =  2\n",
      "10\n",
      "[Transition(state=tensor([[0.3377, 0.7112, 0.4178, 0.4702]]), action=tensor([[1]]), reward=tensor([[-6]]), next_state=tensor([[0.6515, 0.6996, 0.4263, 0.3346]])), Transition(state=tensor([[0.5055, 0.6091, 0.0944, 0.4323]]), action=tensor([[1]]), reward=tensor([[-4]]), next_state=tensor([[0.3385, 0.2884, 0.3487, 0.0694]])), Transition(state=tensor([[0.3870, 0.9232, 0.8694, 0.1574]]), action=tensor([[1]]), reward=tensor([[-6]]), next_state=tensor([[0.3917, 0.4055, 0.9204, 0.0410]])), Transition(state=tensor([[0.1259, 0.1100, 0.0552, 0.2120]]), action=tensor([[1]]), reward=tensor([[5]]), next_state=tensor([[0.4714, 0.8802, 0.6458, 0.0231]])), Transition(state=tensor([[0.2463, 0.3775, 0.2249, 0.5619]]), action=tensor([[0]]), reward=tensor([[-6]]), next_state=tensor([[0.3974, 0.0724, 0.7117, 0.4403]]))]\n"
     ]
    }
   ],
   "source": [
    "#Test\n",
    "# memory\n",
    "memory = ReplayMemory(capacity=10)\n",
    "\n",
    "env = gym.make('CartPole-v1', render_mode = 'human')\n",
    "state, info = env.reset()\n",
    "\n",
    "observation_n = len(state)\n",
    "print('observation n = ', observation_n)\n",
    "action_n = env.action_space.n\n",
    "print('action n = ', action_n)\n",
    "\n",
    "policy_net = DQN(observation_n, action_n)\n",
    "target_net = DQN(observation_n, action_n)\n",
    "\n",
    "for _ in range(100):\n",
    "    state = torch.rand((1,observation_n))\n",
    "    next_state = torch.rand((1,observation_n))\n",
    "    reward = torch.randint(-10,10, (1,1))\n",
    "    action = torch.randint(0,action_n, (1,1))\n",
    "\n",
    "    memory.push(state, action, reward, next_state)\n",
    "\n",
    "    state = next_state\n",
    "\n",
    "print(len(memory.memory))\n",
    "transitions = memory.sample(5)\n",
    "print(transitions)\n",
    "\n",
    "# optimizer = torch.optim.AdamW(policy_net.parameters(), lr = 0.001)\n",
    "# criterion = nn.SmoothL1Loss()\n",
    "\n",
    "# GAMMA = 0.9\n",
    "\n",
    "# optimize(memory, 5, policy_net=policy_net, target_net=target_net, optimizer=optimizer, criterion=criterion, gamma=GAMMA, device = 'cpu')\n",
    "env.close()\n",
    "\n"
   ]
  },
  {
   "cell_type": "code",
   "execution_count": 9,
   "metadata": {},
   "outputs": [
    {
     "data": {
      "image/png": "[encoded data removed]",
      "text/plain": [
       "<Figure size 640x480 with 1 Axes>"
      ]
     },
     "metadata": {},
     "output_type": "display_data"
    }
   ],
   "source": [
    "plot_epsilon_decay(0.2, 1.0, 0.9991, 2000)"
   ]
  },
  {
   "cell_type": "markdown",
   "metadata": {},
   "source": [
    "# Training"
   ]
  },
  {
   "cell_type": "code",
   "execution_count": 10,
   "metadata": {},
   "outputs": [
    {
     "name": "stdout",
     "output_type": "stream",
     "text": [
      "observation space =  4\n",
      "action space =  2\n"
     ]
    }
   ],
   "source": [
    "env = gym.make('CartPole-v1')\n",
    "obs, info = env.reset()\n",
    "\n",
    "observation_n = len(obs)\n",
    "action_n = env.action_space.n\n",
    "print('observation space = ', observation_n)\n",
    "print('action space = ', action_n)\n",
    "\n",
    "policy_net = DQN(observation_n, action_n, hidden_size = 16)\n",
    "target_net = DQN(observation_n, action_n, hidden_size = 16)\n",
    "\n",
    "optimzer = torch.optim.Adam(policy_net.parameters(), lr = 5e-4)\n",
    "criterion = nn.MSELoss()\n",
    "\n",
    "memory = ReplayMemory(50000)\n",
    "\n",
    "batch_size = 5\n",
    "gamma = 0.99\n",
    "#sync target net with policy net\n",
    "c = 10\n"
   ]
  },
  {
   "cell_type": "code",
   "execution_count": 12,
   "metadata": {},
   "outputs": [
    {
     "name": "stdout",
     "output_type": "stream",
     "text": [
      "observation space =  4\n",
      "action space =  2\n"
     ]
    },
    {
     "name": "stderr",
     "output_type": "stream",
     "text": [
      "ep = 883\t,epsilon=0.45\t,loss = 8085.29\t,rewards = 193.0:  44%|████▍     | 884/2000 [03:08<03:57,  4.70it/s]  \n"
     ]
    },
    {
     "ename": "KeyboardInterrupt",
     "evalue": "",
     "output_type": "error",
     "traceback": [
      "\u001b[0;31m---------------------------------------------------------------------------\u001b[0m",
      "\u001b[0;31mKeyboardInterrupt\u001b[0m                         Traceback (most recent call last)",
      "Cell \u001b[0;32mIn[12], line 82\u001b[0m\n\u001b[1;32m     79\u001b[0m expected_action_values \u001b[38;5;241m=\u001b[39m(gamma \u001b[38;5;241m*\u001b[39m next_state_values) \u001b[38;5;241m+\u001b[39m reward \n\u001b[1;32m     80\u001b[0m expected_action_values \u001b[38;5;241m=\u001b[39m expected_action_values\u001b[38;5;241m.\u001b[39munsqueeze(\u001b[38;5;241m1\u001b[39m)\n\u001b[0;32m---> 82\u001b[0m loss \u001b[38;5;241m=\u001b[39m \u001b[43mcriterion\u001b[49m\u001b[43m(\u001b[49m\u001b[43mstate_action_values\u001b[49m\u001b[43m,\u001b[49m\u001b[43m \u001b[49m\u001b[43mexpected_action_values\u001b[49m\u001b[43m)\u001b[49m\n\u001b[1;32m     83\u001b[0m optimzer\u001b[38;5;241m.\u001b[39mzero_grad()\n\u001b[1;32m     84\u001b[0m loss\u001b[38;5;241m.\u001b[39mbackward()\n",
      "File \u001b[0;32m~/anaconda3/envs/torch/lib/python3.9/site-packages/torch/nn/modules/module.py:1511\u001b[0m, in \u001b[0;36mModule._wrapped_call_impl\u001b[0;34m(self, *args, **kwargs)\u001b[0m\n\u001b[1;32m   1509\u001b[0m     \u001b[39mreturn\u001b[39;00m \u001b[39mself\u001b[39m\u001b[39m.\u001b[39m_compiled_call_impl(\u001b[39m*\u001b[39margs, \u001b[39m*\u001b[39m\u001b[39m*\u001b[39mkwargs)  \u001b[39m# type: ignore[misc]\u001b[39;00m\n\u001b[1;32m   1510\u001b[0m \u001b[39melse\u001b[39;00m:\n\u001b[0;32m-> 1511\u001b[0m     \u001b[39mreturn\u001b[39;00m \u001b[39mself\u001b[39;49m\u001b[39m.\u001b[39;49m_call_impl(\u001b[39m*\u001b[39;49margs, \u001b[39m*\u001b[39;49m\u001b[39m*\u001b[39;49mkwargs)\n",
      "File \u001b[0;32m~/anaconda3/envs/torch/lib/python3.9/site-packages/torch/nn/modules/module.py:1520\u001b[0m, in \u001b[0;36mModule._call_impl\u001b[0;34m(self, *args, **kwargs)\u001b[0m\n\u001b[1;32m   1515\u001b[0m \u001b[39m# If we don't have any hooks, we want to skip the rest of the logic in\u001b[39;00m\n\u001b[1;32m   1516\u001b[0m \u001b[39m# this function, and just call forward.\u001b[39;00m\n\u001b[1;32m   1517\u001b[0m \u001b[39mif\u001b[39;00m \u001b[39mnot\u001b[39;00m (\u001b[39mself\u001b[39m\u001b[39m.\u001b[39m_backward_hooks \u001b[39mor\u001b[39;00m \u001b[39mself\u001b[39m\u001b[39m.\u001b[39m_backward_pre_hooks \u001b[39mor\u001b[39;00m \u001b[39mself\u001b[39m\u001b[39m.\u001b[39m_forward_hooks \u001b[39mor\u001b[39;00m \u001b[39mself\u001b[39m\u001b[39m.\u001b[39m_forward_pre_hooks\n\u001b[1;32m   1518\u001b[0m         \u001b[39mor\u001b[39;00m _global_backward_pre_hooks \u001b[39mor\u001b[39;00m _global_backward_hooks\n\u001b[1;32m   1519\u001b[0m         \u001b[39mor\u001b[39;00m _global_forward_hooks \u001b[39mor\u001b[39;00m _global_forward_pre_hooks):\n\u001b[0;32m-> 1520\u001b[0m     \u001b[39mreturn\u001b[39;00m forward_call(\u001b[39m*\u001b[39;49margs, \u001b[39m*\u001b[39;49m\u001b[39m*\u001b[39;49mkwargs)\n\u001b[1;32m   1522\u001b[0m \u001b[39mtry\u001b[39;00m:\n\u001b[1;32m   1523\u001b[0m     result \u001b[39m=\u001b[39m \u001b[39mNone\u001b[39;00m\n",
      "File \u001b[0;32m~/anaconda3/envs/torch/lib/python3.9/site-packages/torch/nn/modules/loss.py:535\u001b[0m, in \u001b[0;36mMSELoss.forward\u001b[0;34m(self, input, target)\u001b[0m\n\u001b[1;32m    534\u001b[0m \u001b[39mdef\u001b[39;00m \u001b[39mforward\u001b[39m(\u001b[39mself\u001b[39m, \u001b[39minput\u001b[39m: Tensor, target: Tensor) \u001b[39m-\u001b[39m\u001b[39m>\u001b[39m Tensor:\n\u001b[0;32m--> 535\u001b[0m     \u001b[39mreturn\u001b[39;00m F\u001b[39m.\u001b[39;49mmse_loss(\u001b[39minput\u001b[39;49m, target, reduction\u001b[39m=\u001b[39;49m\u001b[39mself\u001b[39;49m\u001b[39m.\u001b[39;49mreduction)\n",
      "File \u001b[0;32m~/anaconda3/envs/torch/lib/python3.9/site-packages/torch/nn/functional.py:3339\u001b[0m, in \u001b[0;36mmse_loss\u001b[0;34m(input, target, size_average, reduce, reduction)\u001b[0m\n\u001b[1;32m   3336\u001b[0m     reduction \u001b[39m=\u001b[39m _Reduction\u001b[39m.\u001b[39mlegacy_get_string(size_average, reduce)\n\u001b[1;32m   3338\u001b[0m expanded_input, expanded_target \u001b[39m=\u001b[39m torch\u001b[39m.\u001b[39mbroadcast_tensors(\u001b[39minput\u001b[39m, target)\n\u001b[0;32m-> 3339\u001b[0m \u001b[39mreturn\u001b[39;00m torch\u001b[39m.\u001b[39;49m_C\u001b[39m.\u001b[39;49m_nn\u001b[39m.\u001b[39;49mmse_loss(expanded_input, expanded_target, _Reduction\u001b[39m.\u001b[39;49mget_enum(reduction))\n",
      "\u001b[0;31mKeyboardInterrupt\u001b[0m: "
     ]
    }
   ],
   "source": [
    "env = gym.make('CartPole-v1')\n",
    "obs, info = env.reset()\n",
    "\n",
    "observation_n = len(obs)\n",
    "action_n = env.action_space.n\n",
    "print('observation space = ', observation_n)\n",
    "print('action space = ', action_n)\n",
    "\n",
    "policy_net = DQN(observation_n, action_n, hidden_size = 16)\n",
    "target_net = DQN(observation_n, action_n, hidden_size = 16)\n",
    "\n",
    "optimzer = torch.optim.Adam(policy_net.parameters(), lr = 5e-4)\n",
    "criterion = nn.MSELoss()\n",
    "\n",
    "memory = ReplayMemory(50000)\n",
    "\n",
    "batch_size = 32\n",
    "gamma = 0.99\n",
    "#sync target net with policy net\n",
    "c = 10 \n",
    "step = 0\n",
    "training_epochs = 2000\n",
    "min_ep = 0.2\n",
    "max_ep = 1.0\n",
    "decay_ep = 0.9991\n",
    "\n",
    "loop = tqdm(range(training_epochs))\n",
    "history = defaultdict(list)\n",
    "best_score = 0 \n",
    "\n",
    "for epoch in loop:\n",
    "\n",
    "    state, info = env.reset() \n",
    "    state = torch.tensor(state, dtype = torch.float32).unsqueeze(0)\n",
    "    done = False\n",
    "    running_loss = 0\n",
    "    total_reward = 0\n",
    "    epsilon = epsilon_function(min_ep, max_ep, decay_ep, epoch, 1000)\n",
    "    history['epsilon'].append(epsilon)\n",
    "\n",
    "    for t in count():\n",
    "        with torch.no_grad():\n",
    "            action =  select_action(state, 0.1, policy_net, env)\n",
    "        \n",
    "        next_state, reward, terminated, truncated, info = env.step(action.item())\n",
    "        total_reward += reward\n",
    "        reward = torch.tensor([reward])\n",
    "\n",
    "        if terminated or truncated: \n",
    "            next_state = None\n",
    "            done = True\n",
    "        else:\n",
    "            next_state = torch.tensor(next_state, dtype = torch.float32).unsqueeze(0)\n",
    "        \n",
    "        action = action.unsqueeze(0)\n",
    "        #push transition to memory\n",
    "        memory.push(state, action, reward, next_state)\n",
    "        \n",
    "        #state is next state\n",
    "        state = next_state \n",
    "\n",
    "        transitions = memory.sample(batch_size=batch_size)\n",
    "\n",
    "        if transitions != None:\n",
    "\n",
    "            batch = Transition(*zip(*transitions))\n",
    "\n",
    "            non_final_mask = torch.tensor(tuple(map(lambda s: s is not None, batch.next_state)), dtype = torch.bool)\n",
    "            non_final_next_states = torch.cat([s for s in batch.next_state if s is not None])\n",
    "            state_batch = torch.cat(batch.state)\n",
    "            action_batch = torch.cat(batch.action)\n",
    "            reward_batch = torch.cat(batch.reward)\n",
    "\n",
    "\n",
    "            state_action_values = policy_net(state_batch).gather(1, action_batch)\n",
    "            next_state_values = torch.zeros(batch_size)\n",
    "            next_state_values[non_final_mask] = target_net(non_final_next_states).max(1).values\n",
    "            \n",
    "            expected_action_values =(gamma * next_state_values) + reward \n",
    "            expected_action_values = expected_action_values.unsqueeze(1)\n",
    "\n",
    "            loss = criterion(state_action_values, expected_action_values)\n",
    "            optimzer.zero_grad()\n",
    "            loss.backward()\n",
    "            optimzer.step()\n",
    "            running_loss += loss.item()\n",
    "        \n",
    "        step += 1\n",
    "        if step % c == 0:\n",
    "            target_net.load_state_dict(policy_net.state_dict())\n",
    "        \n",
    "        if best_score <= total_reward:\n",
    "            torch.save(policy_net, 'best_policy_net.torch')\n",
    "            torch.save(target_net, 'best_target_net.torch')\n",
    "\n",
    "        if done:\n",
    "            break\n",
    "\n",
    "\n",
    "    loop.set_description(f'ep = {epoch}\\t,epsilon={epsilon:.2f}\\t,loss = {running_loss:.2f}\\t,rewards = {total_reward}')\n",
    "    history['rewards'].append(total_reward)\n",
    "    history['loss'].append(running_loss)\n",
    "\n",
    "torch.save(policy_net, 'final_policy_net.torch')\n",
    "torch.save(target_net, 'final_target_net.torch')"
   ]
  },
  {
   "cell_type": "markdown",
   "metadata": {},
   "source": [
    "# torch.save(policy_net, 'final_policy_net.torch')"
   ]
  },
  {
   "cell_type": "code",
   "execution_count": null,
   "metadata": {},
   "outputs": [],
   "source": [
    "fig, (ax1, ax2) = plt.subplots(1,2, figsize=(10,5))\n",
    "sns.lineplot(y = history['rewards'], x = list(range(len(history['rewards']))), ax = ax1, color = 'green')\n",
    "ax1.set_title('rewards')\n",
    "sns.lineplot(y = history['loss'], x = list(range(len(history['loss']))), ax = ax2)\n",
    "ax2.set_title('loss')\n",
    "plt.show()\n",
    "sns.lineplot(y = history['epsilon'], x = list(range(len(history['epsilon']))))\n",
    "plt.title('epsilon')\n",
    "plt.show()"
   ]
  },
  {
   "cell_type": "code",
   "execution_count": 30,
   "metadata": {},
   "outputs": [],
   "source": [
    "# Run the model"
   ]
  },
  {
   "cell_type": "code",
   "execution_count": 31,
   "metadata": {},
   "outputs": [
    {
     "name": "stdout",
     "output_type": "stream",
     "text": [
      "observation space =  4\n",
      "action space =  2\n"
     ]
    },
    {
     "name": "stderr",
     "output_type": "stream",
     "text": [
      "  0%|          | 0/2000 [00:00<?, ?it/s]/Users/jamesnguyen/anaconda3/envs/torch/lib/python3.9/site-packages/gymnasium/utils/passive_env_checker.py:233: DeprecationWarning: `np.bool8` is a deprecated alias for `np.bool_`.  (Deprecated NumPy 1.24)\n",
      "  if not isinstance(terminated, (bool, np.bool8)):\n",
      "ep = 409\t,epsilon=0.69\t,loss = 11968416064.00\t,rewards = 16.0\t:  20%|██        | 410/2000 [00:17<01:08, 23.25it/s]\n"
     ]
    },
    {
     "ename": "KeyboardInterrupt",
     "evalue": "",
     "output_type": "error",
     "traceback": [
      "\u001b[0;31m---------------------------------------------------------------------------\u001b[0m",
      "\u001b[0;31mKeyboardInterrupt\u001b[0m                         Traceback (most recent call last)",
      "Cell \u001b[0;32mIn[31], line 94\u001b[0m\n\u001b[1;32m     91\u001b[0m     target_net\u001b[38;5;241m.\u001b[39mload_state_dict(policy_net\u001b[38;5;241m.\u001b[39mstate_dict())\n\u001b[1;32m     93\u001b[0m \u001b[38;5;28;01mif\u001b[39;00m best_score \u001b[38;5;241m<\u001b[39m\u001b[38;5;241m=\u001b[39m total_reward:\n\u001b[0;32m---> 94\u001b[0m     \u001b[43mtorch\u001b[49m\u001b[38;5;241;43m.\u001b[39;49m\u001b[43msave\u001b[49m\u001b[43m(\u001b[49m\u001b[43mpolicy_net\u001b[49m\u001b[43m,\u001b[49m\u001b[43m \u001b[49m\u001b[38;5;124;43m'\u001b[39;49m\u001b[38;5;124;43mbest_policy_net.torch\u001b[39;49m\u001b[38;5;124;43m'\u001b[39;49m\u001b[43m)\u001b[49m\n\u001b[1;32m     95\u001b[0m     torch\u001b[38;5;241m.\u001b[39msave(target_net, \u001b[38;5;124m'\u001b[39m\u001b[38;5;124mbest_target_net.torch\u001b[39m\u001b[38;5;124m'\u001b[39m)\n\u001b[1;32m     97\u001b[0m \u001b[38;5;28;01mif\u001b[39;00m done:\n",
      "File \u001b[0;32m~/anaconda3/envs/torch/lib/python3.9/site-packages/torch/serialization.py:629\u001b[0m, in \u001b[0;36msave\u001b[0;34m(obj, f, pickle_module, pickle_protocol, _use_new_zipfile_serialization, _disable_byteorder_record)\u001b[0m\n\u001b[1;32m    627\u001b[0m \u001b[39mif\u001b[39;00m _use_new_zipfile_serialization:\n\u001b[1;32m    628\u001b[0m     \u001b[39mwith\u001b[39;00m _open_zipfile_writer(f) \u001b[39mas\u001b[39;00m opened_zipfile:\n\u001b[0;32m--> 629\u001b[0m         _save(obj, opened_zipfile, pickle_module, pickle_protocol, _disable_byteorder_record)\n\u001b[1;32m    630\u001b[0m         \u001b[39mreturn\u001b[39;00m\n\u001b[1;32m    631\u001b[0m \u001b[39melse\u001b[39;00m:\n",
      "File \u001b[0;32m~/anaconda3/envs/torch/lib/python3.9/site-packages/torch/serialization.py:841\u001b[0m, in \u001b[0;36m_save\u001b[0;34m(obj, zip_file, pickle_module, pickle_protocol, _disable_byteorder_record)\u001b[0m\n\u001b[1;32m    839\u001b[0m pickler \u001b[39m=\u001b[39m pickle_module\u001b[39m.\u001b[39mPickler(data_buf, protocol\u001b[39m=\u001b[39mpickle_protocol)\n\u001b[1;32m    840\u001b[0m pickler\u001b[39m.\u001b[39mpersistent_id \u001b[39m=\u001b[39m persistent_id\n\u001b[0;32m--> 841\u001b[0m pickler\u001b[39m.\u001b[39;49mdump(obj)\n\u001b[1;32m    842\u001b[0m data_value \u001b[39m=\u001b[39m data_buf\u001b[39m.\u001b[39mgetvalue()\n\u001b[1;32m    843\u001b[0m zip_file\u001b[39m.\u001b[39mwrite_record(\u001b[39m'\u001b[39m\u001b[39mdata.pkl\u001b[39m\u001b[39m'\u001b[39m, data_value, \u001b[39mlen\u001b[39m(data_value))\n",
      "File \u001b[0;32m~/anaconda3/envs/torch/lib/python3.9/site-packages/torch/serialization.py:796\u001b[0m, in \u001b[0;36m_save.<locals>.persistent_id\u001b[0;34m(obj)\u001b[0m\n\u001b[1;32m    790\u001b[0m \u001b[39mdef\u001b[39;00m \u001b[39mpersistent_id\u001b[39m(obj):\n\u001b[1;32m    791\u001b[0m     \u001b[39m# FIXME: the docs say that persistent_id should only return a string\u001b[39;00m\n\u001b[1;32m    792\u001b[0m     \u001b[39m# but torch store returns tuples. This works only in the binary protocol\u001b[39;00m\n\u001b[1;32m    793\u001b[0m     \u001b[39m# see\u001b[39;00m\n\u001b[1;32m    794\u001b[0m     \u001b[39m# https://docs.python.org/2/library/pickle.html#pickling-and-unpickling-external-objects\u001b[39;00m\n\u001b[1;32m    795\u001b[0m     \u001b[39m# https://github.com/python/cpython/blob/master/Lib/pickle.py#L527-L537\u001b[39;00m\n\u001b[0;32m--> 796\u001b[0m     \u001b[39mif\u001b[39;00m \u001b[39misinstance\u001b[39m(obj, torch\u001b[39m.\u001b[39mstorage\u001b[39m.\u001b[39mTypedStorage) \u001b[39mor\u001b[39;00m torch\u001b[39m.\u001b[39;49mis_storage(obj):\n\u001b[1;32m    798\u001b[0m         \u001b[39mif\u001b[39;00m \u001b[39misinstance\u001b[39m(obj, torch\u001b[39m.\u001b[39mstorage\u001b[39m.\u001b[39mTypedStorage):\n\u001b[1;32m    799\u001b[0m             \u001b[39m# TODO: Once we decide to break serialization FC, this case\u001b[39;00m\n\u001b[1;32m    800\u001b[0m             \u001b[39m# can be deleted\u001b[39;00m\n\u001b[1;32m    801\u001b[0m             storage \u001b[39m=\u001b[39m obj\u001b[39m.\u001b[39m_untyped_storage\n",
      "\u001b[0;31mKeyboardInterrupt\u001b[0m: "
     ]
    }
   ],
   "source": [
    "env = gym.make('CartPole-v1')\n",
    "# env = gym.make('CartPole-v1', render_mode = 'human')\n",
    "rewards = []\n",
    "\n",
    "net = torch.load('best_target_net.torch')\n",
    "\n",
    "loop = tqdm(range(100))\n",
    "for epoch in loop:\n",
    "    state, info = env.reset()\n",
    "    state = torch.tensor(state, dtype = torch.float32).unsqueeze(0)\n",
    "\n",
    "    total_reward = 0\n",
    "    for step in count():\n",
    "        action = select_action(state, 0.0, net, env)\n",
    "        next_state, reward, terminated, truncated, info = env.step(action.item())\n",
    "        next_state = torch.tensor(next_state, dtype = torch.float32).unsqueeze(0)\n",
    "        state = next_state\n",
    "\n",
    "        if terminated or truncated:\n",
    "            break\n",
    "\n",
    "    loop.set_description(f'ep = {epoch}, reward = {total_reward}')\n",
    "    rewards.append(total_reward)\n",
    "    \n",
    "sns.lineplot(y = total_reward, x= list(range(len(rewards))))\n",
    "\n",
    "\n",
    "# for epoch in loop:\n",
    "\n",
    "#     state, info = env.reset() \n",
    "#     state = torch.tensor(state, dtype = torch.float32).unsqueeze(0)\n",
    "#     done = False\n",
    "#     running_loss = 0\n",
    "#     total_reward = 0\n",
    "#     epsilon = epsilon_function(min_ep, max_ep, decay_ep, epoch, 1000)\n",
    "#     history['epsilon'].append(epsilon)\n",
    "\n",
    "#     for t in count():\n",
    "#         with torch.no_grad():\n",
    "#             action =  select_action(state, 0.1, policy_net, env)\n",
    "        \n",
    "#         next_state, reward, terminated, truncated, info = env.step(action.item())\n",
    "#         total_reward += reward"
   ]
  },
  {
   "cell_type": "code",
   "execution_count": null,
   "metadata": {},
   "outputs": [],
   "source": []
  },
  {
   "cell_type": "code",
   "execution_count": null,
   "metadata": {},
   "outputs": [],
   "source": []
  },
  {
   "cell_type": "markdown",
   "metadata": {},
   "source": [
    "# Exp 1"
   ]
  },
  {
   "cell_type": "code",
   "execution_count": null,
   "metadata": {},
   "outputs": [],
   "source": [
    "LR = 5e-4\n",
    "GAMMA = 0.99\n",
    "BATCH_SIZE = 32\n",
    "MEMORY_CAP = 50000\n",
    "TRAINING_EPOCHS = 2000 \n",
    "MIN_EP = 0.2\n",
    "MAX_EP = 1.0\n",
    "DECAY_EP = 0.9991\n",
    "C = 10\n",
    "HIDDEN_SIZE = 16\n",
    "\n",
    "#===EP_DECAY===\n",
    "plot_epsilon_decay(MIN_EP, MAX_EP, DECAY_EP, TRAINING_EPOCHS)\n",
    "\n",
    "#===CONFIG====\n",
    "\n",
    "env = gym.make('CartPole-v1')\n",
    "obs, info = env.reset()\n",
    "\n",
    "observation_n = len(obs)\n",
    "action_n = env.action_space.n\n",
    "print('observation space = ', observation_n)\n",
    "print('action space = ', action_n)\n",
    "\n",
    "policy_net = DQN(observation_n, action_n, hidden_size = HIDDEN_SIZE)\n",
    "target_net = DQN(observation_n, action_n, hidden_size = HIDDEN_SIZE)\n",
    "memory = ReplayMemory(MEMORY_CAP)\n",
    "\n",
    "optimizer = torch.optim.Adam(policy_net.parameters(), lr = LR)\n",
    "criterion = nn.MSELoss()\n",
    "\n",
    "policy_net, target_net, history = tune(\n",
    "    policy_net, target_net, optimizer, criterion, env, memory,\n",
    "    gamma = GAMMA, \n",
    "    batch_size = BATCH_SIZE, \n",
    "    training_epochs= TRAINING_EPOCHS, \n",
    "    min_ep = MIN_EP, \n",
    "    max_ep = MAX_EP, \n",
    "    decay_ep = DECAY_EP, \n",
    "    c= C)\n",
    "\n",
    "plot(history)"
   ]
  },
  {
   "cell_type": "code",
   "execution_count": null,
   "metadata": {},
   "outputs": [],
   "source": [
    "fig, (ax1, ax2) = plt.subplots(1,2, figsize=(10,5))\n",
    "sns.lineplot(y = history['rewards'], x = list(range(len(history['rewards']))), ax = ax1, color = 'green')\n",
    "ax1.set_title('rewards')\n",
    "sns.lineplot(y = history['loss'], x = list(range(len(history['loss']))), ax = ax2)\n",
    "ax2.set_title('loss')\n",
    "plt.show()\n",
    "sns.lineplot(y = history['epsilon'], x = list(range(len(history['epsilon']))))\n",
    "plt.title('epsilon')\n",
    "plt.show()"
   ]
  },
  {
   "cell_type": "markdown",
   "metadata": {},
   "source": [
    "# Run the model"
   ]
  },
  {
   "cell_type": "code",
   "execution_count": null,
   "metadata": {},
   "outputs": [],
   "source": [
    "env = gym.make('CartPole-v1')\n",
    "# env = gym.make('CartPole-v1', render_mode = 'human')\n",
    "rewards = []\n",
    "\n",
    "net = torch.load('best_target_net.torch')\n",
    "\n",
    "loop = tqdm(range(100))\n",
    "for epoch in loop:\n",
    "    state, info = env.reset()\n",
    "    state = torch.tensor(state, dtype = torch.float32).unsqueeze(0)\n",
    "\n",
    "    total_reward = 0\n",
    "    for step in count():\n",
    "        action = select_action(state, 0.0, net, env)\n",
    "        next_state, reward, terminated, truncated, info = env.step(action.item())\n",
    "        next_state = torch.tensor(next_state, dtype = torch.float32).unsqueeze(0)\n",
    "        state = next_state\n",
    "        total_reward += reward\n",
    "\n",
    "        if terminated or truncated:\n",
    "            break\n",
    "\n",
    "    loop.set_description(f'ep = {epoch}, reward = {total_reward}')\n",
    "    rewards.append(total_reward)\n",
    "    \n",
    "sns.lineplot(y = total_reward, x= list(range(len(rewards))))\n",
    "\n",
    "\n",
    "# for epoch in loop:\n",
    "\n",
    "#     state, info = env.reset() \n",
    "#     state = torch.tensor(state, dtype = torch.float32).unsqueeze(0)\n",
    "#     done = False\n",
    "#     running_loss = 0\n",
    "#     total_reward = 0\n",
    "#     epsilon = epsilon_function(min_ep, max_ep, decay_ep, epoch, 1000)\n",
    "#     history['epsilon'].append(epsilon)\n",
    "\n",
    "#     for t in count():\n",
    "#         with torch.no_grad():\n",
    "#             action =  select_action(state, 0.1, policy_net, env)\n",
    "        \n",
    "#         next_state, reward, terminated, truncated, info = env.step(action.item())\n",
    "#         total_reward += reward"
   ]
  },
  {
   "cell_type": "code",
   "execution_count": null,
   "metadata": {},
   "outputs": [],
   "source": []
  },
  {
   "cell_type": "code",
   "execution_count": null,
   "metadata": {},
   "outputs": [],
   "source": []
  }
 ],
 "metadata": {
  "kernelspec": {
   "display_name": "Python 3.9.18 ('torch')",
   "language": "python",
   "name": "python3"
  },
  "language_info": {
   "codemirror_mode": {
    "name": "ipython",
    "version": 3
   },
   "file_extension": ".py",
   "mimetype": "text/x-python",
   "name": "python",
   "nbconvert_exporter": "python",
   "pygments_lexer": "ipython3",
   "version": "3.9.18"
  },
  "orig_nbformat": 4,
  "vscode": {
   "interpreter": {
    "hash": "af18273774455bc90f5456b9f4898eab7ba4de506fde0c1d0784da333c7e8bbc"
   }
  }
 },
 "nbformat": 4,
 "nbformat_minor": 2
}
