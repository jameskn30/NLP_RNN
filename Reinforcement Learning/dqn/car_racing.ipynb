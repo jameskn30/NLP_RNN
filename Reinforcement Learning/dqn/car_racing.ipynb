{
 "cells": [
  {
   "cell_type": "code",
   "execution_count": 11,
   "metadata": {},
   "outputs": [],
   "source": [
    "import gymnasium as gym\n",
    "import seaborn as sns\n",
    "import os\n",
    "from collections import deque, Counter, namedtuple, defaultdict\n",
    "import random\n",
    "from matplotlib import pyplot as plt\n",
    "import warnings\n",
    "warnings.simplefilter(action='ignore', category=FutureWarning)\n",
    "warnings.simplefilter(action='ignore', category=UserWarning)\n",
    "import torch\n",
    "from torch import nn\n",
    "import torch.nn.functional as F\n",
    "import math\n",
    "from itertools import count\n",
    "from tqdm import tqdm\n",
    "import numpy as np\n",
    "import time\n",
    "import cv2\n",
    "\n",
    "#Setting up matplotlib for live update the traiing progress\n",
    "import matplotlib\n",
    "is_ipython = 'inline' in matplotlib.get_backend()\n",
    "if is_ipython:\n",
    "    from IPython import display"
   ]
  },
  {
   "cell_type": "markdown",
   "metadata": {},
   "source": [
    "# Car Racing Env\n",
    "\n",
    "https://hiddenbeginner.github.io/study-notes/contents/tutorials/2023-04-20_CartRacing-v2_DQN.html\n",
    "\n",
    "Actions: space of 3 if float type\n",
    "- (-1: full left ---> +1: full right): float or discrete\n",
    "- gas: float or discrete\n",
    "- brake: float or discrete\n",
    "\n",
    "Actions: space of 5 if int type \n",
    "- (do nothing, left, right, gas, brake)\n",
    "\n",
    "Observation:\n",
    "- 96x96x3 color image\n",
    "\n",
    "Rewards:\n",
    "- The reward is -0.1 every frame and +1000/N for every track tile visited, where N is the total number of tiles visited in the track. For example, if you have finished in 732 frames, your reward is 1000 - 0.1*732 = 926.8 points.\n",
    "\n",
    "Termination\n",
    "- if car goes of out of track, -100 reward\n",
    "- when all tiles are visited\n",
    "\n",
    "NOTES:\n",
    "the first 50 frames is zooming in so we'll not use them \n"
   ]
  },
  {
   "cell_type": "code",
   "execution_count": 2,
   "metadata": {},
   "outputs": [
    {
     "name": "stdout",
     "output_type": "stream",
     "text": [
      "obs shape =  (96, 96, 3)\n"
     ]
    },
    {
     "name": "stderr",
     "output_type": "stream",
     "text": [
      "  0%|          | 0/1 [00:00<?, ?it/s]/Users/jamesnguyen/anaconda3/envs/torch/lib/python3.9/site-packages/gymnasium/utils/passive_env_checker.py:233: DeprecationWarning: `np.bool8` is a deprecated alias for `np.bool_`.  (Deprecated NumPy 1.24)\n",
      "  if not isinstance(terminated, (bool, np.bool8)):\n",
      "100%|██████████| 1/1 [00:20<00:00, 20.78s/it]\n"
     ]
    },
    {
     "data": {
      "image/png": "[encoded data removed]",
      "text/plain": [
       "<Figure size 640x480 with 1 Axes>"
      ]
     },
     "metadata": {},
     "output_type": "display_data"
    }
   ],
   "source": [
    "env = gym.make('CarRacing-v2', render_mode = 'human')\n",
    "obs, info = env.reset()\n",
    "print('obs shape = ', obs.shape)\n",
    "\n",
    "rewards = []\n",
    "for ep in tqdm(range(1)):\n",
    "    obs, info = env.reset()\n",
    "    total_reward = 0\n",
    "\n",
    "    for t in count():\n",
    "        action = env.action_space.sample()\n",
    "        state, reward, terminated, truncated, info = env.step(action)\n",
    "        total_reward += reward\n",
    "        if terminated or truncated: \n",
    "            break\n",
    "    \n",
    "    rewards.append(total_reward)\n",
    "\n",
    "sns.lineplot(y = rewards, x = list(range(len(rewards))))\n",
    "plt.show()\n",
    "env.close()"
   ]
  },
  {
   "cell_type": "markdown",
   "metadata": {},
   "source": [
    "# Env Wrapper\n",
    "\n",
    "TODO:\n",
    "- stack 4 frames \n",
    "- convert color image to gray scale. The final input shape is (4x96x96) \n",
    "- scale the image if needed"
   ]
  },
  {
   "cell_type": "code",
   "execution_count": 3,
   "metadata": {},
   "outputs": [],
   "source": [
    "# a = np.random.rand(4,84,84)\n",
    "# print(a.shape)\n",
    "# print(a[:,:,np.newaxis].shape)"
   ]
  },
  {
   "cell_type": "code",
   "execution_count": 12,
   "metadata": {},
   "outputs": [
    {
     "name": "stdout",
     "output_type": "stream",
     "text": [
      "(84, 84)\n",
      "[[0. 0. 0. ... 0. 0. 0.]\n",
      " [0. 0. 0. ... 0. 0. 0.]\n",
      " [0. 0. 0. ... 0. 0. 0.]\n",
      " ...\n",
      " [0. 0. 0. ... 0. 0. 0.]\n",
      " [0. 0. 0. ... 0. 0. 0.]\n",
      " [0. 0. 0. ... 0. 0. 0.]]\n"
     ]
    }
   ],
   "source": [
    "def _default_process_fn(img):\n",
    "    #84x84 because we're following the DQN paper\n",
    "    img = cv2.resize(img, dsize=(84,84))\n",
    "    #convert and scale to 0.0 --> 1.0\n",
    "    img = cv2.cvtColor(img, cv2.COLOR_RGB2GRAY) / 255.0\n",
    "    return img\n",
    "\n",
    "env = gym.make('CarRacing-v2')\n",
    "obs, info = env.reset()\n",
    "state, info = env.reset()\n",
    "\n",
    "state = _default_process_fn(state)\n",
    "print(state.shape)\n",
    "print(state)\n",
    "env.close()"
   ]
  },
  {
   "cell_type": "code",
   "execution_count": 13,
   "metadata": {},
   "outputs": [],
   "source": [
    "class RacingCarEnvWrapper(gym.Wrapper):\n",
    "\n",
    "    def __init__(self, env ,start_frame = 50, stack_frames = 4, skip_frames = 4, process_fn = None):\n",
    "        super().__init__(env)\n",
    "        self.start_frame = start_frame\n",
    "        self.stack_frames = stack_frames\n",
    "        self.skip_frames = skip_frames\n",
    "        self.process_fn = self._default_process_fn if process_fn == None else process_fn\n",
    "    \n",
    "    def _default_process_fn(self, img):\n",
    "        #84x84 because we're following the DQN paper\n",
    "        img = cv2.resize(img, dsize=(84,84))\n",
    "        #convert and scale to 0.0 --> 1.0\n",
    "        img = cv2.cvtColor(img, cv2.COLOR_RGB2GRAY) / 255.0\n",
    "        return img\n",
    "    \n",
    "    def reset(self, **kwargs):\n",
    "        self.env.reset(**kwargs)\n",
    "        for _ in range(self.start_frame):\n",
    "            state, reward, terminated, truncated, info = self.env.step(self.env.action_space.sample())\n",
    "\n",
    "        #preprocess the image to gray scale and resize to (84x84)\n",
    "        state = self.process_fn(state)\n",
    "        # since we only have 1 state initally, we'll repeat that state stack_frames times\n",
    "        # so (84x84) to 484x84\n",
    "        self.stacked_state = np.tile(state, (self.stack_frames, 1,1))\n",
    "        return self.stacked_state, info\n",
    "\n",
    "    def step(self, action, **kwargs):\n",
    "        total_reward = 0\n",
    "        #skip N frames\n",
    "        for _ in range(self.skip_frames):\n",
    "            state, reward, terminated, truncated, info = self.env.step(action)\n",
    "            total_reward += reward\n",
    "            if terminated or truncated: break\n",
    "        \n",
    "        state = self.process_fn(state)\n",
    "\n",
    "        #we ignore the 0th in stacked state, ==> stack [1:N] and concat with new state\n",
    "        #state[np.newaxis] is like torch.unsqueeze(0), add new dim \n",
    "        # so state = (84x84) becomes 1 x 84 x 84\n",
    "        self.stacked_state = np.concatenate((self.stacked_state[1:], state[np.newaxis]), axis = 0)\n",
    "        # stacked state is 4x84x84\n",
    "        return self.stacked_state, reward, terminated, truncated, info\n",
    "    \n",
    "    def action_sample(self):\n",
    "        return self.env.action_space.sample()\n",
    "    \n",
    "    def close(self):\n",
    "        self.env.close()\n"
   ]
  },
  {
   "cell_type": "markdown",
   "metadata": {},
   "source": [
    "# Greedy Epsilon"
   ]
  },
  {
   "cell_type": "code",
   "execution_count": 14,
   "metadata": {},
   "outputs": [],
   "source": [
    "def get_action(state, policy_net, eps, env: RacingCarEnvWrapper):\n",
    "    p = random.random()\n",
    "    #exploit\n",
    "    if p > eps:\n",
    "        policy_net.eval()\n",
    "        state = torch.tensor(state).float().unsqueeze(0)\n",
    "        with torch.no_grad():\n",
    "            action = np.argmax(policy_net(state).numpy())\n",
    "        policy_net.train()\n",
    "        return action\n",
    "    else:\n",
    "        return env.action_sample()\n"
   ]
  },
  {
   "cell_type": "markdown",
   "metadata": {},
   "source": [
    "# Epsilon Functions"
   ]
  },
  {
   "cell_type": "code",
   "execution_count": 15,
   "metadata": {},
   "outputs": [],
   "source": [
    "def epsilon_linear_decay(min_ep, max_ep, decay_ep, epoch, training_epochs):\n",
    "    return max(min_ep, max_ep * (decay_ep ** epoch))\n",
    "\n",
    "def plot_epsilon_decay(min_ep, max_ep, decay_ep, training_epochs, epsilon_function):\n",
    "    eps = []\n",
    "    for e in range(training_epochs):\n",
    "        eps.append(epsilon_function(min_ep, max_ep, decay_ep, e, training_epochs))\n",
    "    sns.lineplot(y = eps, x = list(range(len(eps))))\n",
    "    plt.show()"
   ]
  },
  {
   "cell_type": "markdown",
   "metadata": {},
   "source": [
    "# DQN architecture\n",
    "\n",
    "Reference: \n",
    "\n",
    "https://github.com/vwxyzjn/cleanrl/blob/master/cleanrl/dqn_atari.py\n",
    "\n",
    "https://hiddenbeginner.github.io/study-notes/contents/tutorials/2023-04-20_CartRacing-v2_DQN.html\n",
    "\n",
    "input image must be converted to graysale and stack 4 frames \n",
    "- Conv(input = 4 (stack 4 frames technique), output = 32, kernel_size = 8, stride = 4)\n",
    "- ReLU()\n",
    "- Conv(input = 32, output = 64, kernel_size = 4, stride = 2)\n",
    "- ReLU()\n",
    "- Conv(input = 64, output = 64, kernel_size = 3, stride = 1)\n",
    "- ReLU()\n",
    "- Flatten()\n",
    "- LazyLinear(512)\n",
    "- ReLU()\n",
    "- LazyLinear(512, action_space)\n",
    "\n",
    "\n"
   ]
  },
  {
   "cell_type": "code",
   "execution_count": 16,
   "metadata": {},
   "outputs": [],
   "source": [
    "class QNet(nn.Module):\n",
    "    def __init__(self, input_channels, output_size, activation = F.relu, lr = 1e-4) -> None:\n",
    "\n",
    "        super().__init__()\n",
    "\n",
    "        #Archicture follows DQN paper\n",
    "        self.conv1 = nn.Conv2d(input_channels, 16, kernel_size=8, stride = 4)\n",
    "        self.conv2 = nn.Conv2d(16, 32, kernel_size=4, stride = 2)\n",
    "        self.fc1 = nn.LazyLinear(256)\n",
    "        self.fc2 = nn.Linear(256, output_size)\n",
    "        self.activation = activation\n",
    "\n",
    "        # self.tau = tau\n",
    "        self.optimizer = torch.optim.Adam(self.parameters(), lr = lr)\n",
    "        self.criterion = nn.MSELoss()\n",
    "    \n",
    "    def forward(self, X):\n",
    "        X = self.activation(self.conv1(X))\n",
    "        X = self.activation(self.conv2(X))\n",
    "        X = torch.flatten(X,1)\n",
    "        X = self.fc1(X)\n",
    "        X = self.fc2(X)\n",
    "        return X\n",
    "\n",
    "    def optimize(self, input, target):\n",
    "        loss = self.criterion(input, target)\n",
    "        self.optimizer.zero_grad()\n",
    "        loss.backward()\n",
    "        self.optimizer.step()\n",
    "    \n",
    "    def sync(self, other_net:nn.Module):\n",
    "        self.load_state_dict(other_net.state_dict())\n",
    "        #  for param, other_param in zip(self.parameters(), other_net.parameters()):\n",
    "        #     param.data.copy_(self.tau*other_param.data + (1.0-self.tau)*param.data)"
   ]
  },
  {
   "cell_type": "code",
   "execution_count": 17,
   "metadata": {},
   "outputs": [
    {
     "name": "stdout",
     "output_type": "stream",
     "text": [
      "torch.Size([32, 5])\n"
     ]
    }
   ],
   "source": [
    "\n",
    "x = torch.rand(32,4,84,84)\n",
    "net = QNet(4,5)\n",
    "output = net(x)\n",
    "print(output.shape)"
   ]
  },
  {
   "cell_type": "code",
   "execution_count": 19,
   "metadata": {},
   "outputs": [
    {
     "name": "stdout",
     "output_type": "stream",
     "text": [
      "reset state =  (4, 84, 84)\n"
     ]
    },
    {
     "data": {
      "image/png": "[encoded data removed]",
      "text/plain": [
       "<Figure size 1200x300 with 4 Axes>"
      ]
     },
     "metadata": {},
     "output_type": "display_data"
    },
    {
     "name": "stdout",
     "output_type": "stream",
     "text": [
      "reset state shape =  torch.Size([1, 4, 84, 84])\n",
      "init output shape =  torch.Size([1, 5])\n",
      "state after action =  (4, 84, 84)\n"
     ]
    },
    {
     "data": {
      "image/png": "[encoded data removed]",
      "text/plain": [
       "<Figure size 1200x300 with 4 Axes>"
      ]
     },
     "metadata": {},
     "output_type": "display_data"
    },
    {
     "name": "stdout",
     "output_type": "stream",
     "text": [
      "explore =  2\n",
      "exploit =  0\n"
     ]
    }
   ],
   "source": [
    "#  Put them all together\n",
    "\n",
    "base_env = gym.make('CarRacing-v2', continuous=False)\n",
    "env = RacingCarEnvWrapper(base_env)\n",
    "\n",
    "state, info = env.reset()\n",
    "print('reset state = ', state.shape)\n",
    "\n",
    "#Visualize what the input image looks like\n",
    "\n",
    "fig, axes = plt.subplots(1,4,figsize=(12,3))\n",
    "for i in range(4):\n",
    "    axes[i].imshow(state[i], cmap='gray')\n",
    "    axes[i].axis('off')\n",
    "\n",
    "plt.show()\n",
    "\n",
    "# Init DQN\n",
    "\n",
    "net = QNet(input_channels=4, output_size = base_env.action_space.n)\n",
    "state = torch.tensor(state).float().unsqueeze(0)\n",
    "print('reset state shape = ', state.shape)\n",
    "\n",
    "output = net(state)\n",
    "print('init output shape = ', output.shape)\n",
    "\n",
    "state, reward, terminated, truncated, info = env.step(3)\n",
    "print('state after action = ', state.shape)\n",
    "\n",
    "fig, axes = plt.subplots(1,4,figsize=(12,3))\n",
    "for i in range(4):\n",
    "    axes[i].imshow(state[i], cmap='gray')\n",
    "    axes[i].axis('off')\n",
    "\n",
    "plt.show()\n",
    "\n",
    "\n",
    "#test greedy policy\n",
    "state, info = env.reset()\n",
    "\n",
    "explore = get_action(state, net, 1.0, env)\n",
    "print('explore = ' , explore)\n",
    "exploit = get_action(state, net, 1.0, env)\n",
    "print('exploit = ' , exploit)\n",
    "\n",
    "env.close()"
   ]
  },
  {
   "cell_type": "markdown",
   "metadata": {},
   "source": [
    "# Replay Memory"
   ]
  },
  {
   "cell_type": "code",
   "execution_count": 20,
   "metadata": {},
   "outputs": [],
   "source": [
    "Transition = namedtuple('Transition', ('state', 'action', 'reward', 'next_state', 'done'))\n",
    "\n",
    "class ReplayMemory():\n",
    "    def __init__(self, capacity) -> None:\n",
    "        self.capacity = capacity\n",
    "        self.memory = deque(maxlen = capacity)\n",
    "    \n",
    "    def push(self, state, action, reward, next_state, done):\n",
    "        self.memory.append(Transition(state, action, reward, next_state, done))\n",
    "    \n",
    "    def sample(self, batch_size):\n",
    "        '''\n",
    "        @params: \n",
    "            batch_size: int\n",
    "        @return:\n",
    "            states: torch.tensor\n",
    "            actions: torch.tensor\n",
    "            rewards: torch.tensor\n",
    "            next_states: torch.tensor\n",
    "            done: torch.tensor\n",
    "        '''\n",
    "        if batch_size > len(self.memory): return None\n",
    "        transitions = random.sample(self.memory, batch_size)\n",
    "        batch = Transition(*zip(*transitions))\n",
    "\n",
    "        state_batch = torch.tensor(batch.state).float()\n",
    "        action_batch = torch.tensor(np.vstack(batch.action)).long()\n",
    "        reward_batch = torch.tensor(np.vstack(batch.reward)).float()\n",
    "        next_state_batch = torch.tensor(batch.next_state).float()\n",
    "        done_batch = torch.tensor(np.vstack(batch.done)).float()\n",
    "\n",
    "        return (state_batch, action_batch, reward_batch, next_state_batch, done_batch)\n",
    "    \n",
    "    def __len__(self):\n",
    "        return len(self.memory)\n",
    "    \n",
    "    def clear(self):\n",
    "        self.memory.clear()"
   ]
  },
  {
   "cell_type": "markdown",
   "metadata": {},
   "source": [
    "# Training Loop"
   ]
  },
  {
   "cell_type": "code",
   "execution_count": 21,
   "metadata": {},
   "outputs": [],
   "source": [
    "ROOT = os.getcwd()\n",
    "OUTPUT = os.path.join(ROOT, 'output','car_racing')\n",
    "\n",
    "if os.path.exists(OUTPUT) == False:\n",
    "    os.makedirs(OUTPUT)"
   ]
  },
  {
   "cell_type": "code",
   "execution_count": 22,
   "metadata": {},
   "outputs": [],
   "source": [
    "def tune(\n",
    "    lr = 0.00025,\n",
    "    min_ep = 0.1,\n",
    "    max_ep = 1.0,\n",
    "    decay_ep = 0.999,\n",
    "    training_epochs = 1000,\n",
    "    gamma = 0.99,\n",
    "    batch_size = 32,\n",
    "    warmup_steps = 5000, #TODO: what's this?\n",
    "    memory_capacity = int(1e5), #TODO: DQM paper uses 1e6\n",
    "    target_update_interval = 10,\n",
    "    plot_update_freq = 50,\n",
    "    label = 'default'\n",
    "):\n",
    "    SAVE_PATH = os.path.join(OUTPUT, label)\n",
    "\n",
    "    if os.path.exists(SAVE_PATH) == False:\n",
    "        os.makedirs(SAVE_PATH)\n",
    "\n",
    "    base_env = gym.make('CarRacing-v2', continuous=False)\n",
    "    env = RacingCarEnvWrapper(base_env)\n",
    "\n",
    "    state, info = env.reset()\n",
    "\n",
    "    state_size = state.shape\n",
    "    action_size = base_env.action_space.n\n",
    "\n",
    "    stacked_frames = state_size[0]\n",
    "    print('state shape = ', state_size)\n",
    "    print('action size = ', action_size)\n",
    "\n",
    "    policy_net = QNet(input_channels = stacked_frames, output_size = action_size)\n",
    "    target_net = QNet(input_channels = stacked_frames, output_size = action_size)\n",
    "\n",
    "    memory = ReplayMemory(memory_capacity)\n",
    "\n",
    "    score_window = deque(maxlen=100)\n",
    "\n",
    "    step_count = 0\n",
    "\n",
    "    history = defaultdict(list)\n",
    "\n",
    "    loop = tqdm(range(training_epochs))\n",
    "    best_avg_reward = 0\n",
    "\n",
    "    for epoch in loop:\n",
    "        total_reward = 0\n",
    "        done = False\n",
    "        state, info = env.reset()\n",
    "\n",
    "        epsilon = epsilon_linear_decay(min_ep, max_ep, decay_ep, epoch, training_epochs)\n",
    "\n",
    "        for t in count():\n",
    "\n",
    "            step_count += 1\n",
    "\n",
    "            action = get_action(state, policy_net, epsilon, env)\n",
    "            next_state, reward, terminated, truncated, info = env.step(action)\n",
    "\n",
    "            total_reward += reward\n",
    "\n",
    "            if terminated or truncated: \n",
    "                done = True\n",
    "            \n",
    "            memory.push(state, action, reward, next_state, done)\n",
    "\n",
    "            state = next_state\n",
    "\n",
    "            transitions = memory.sample(batch_size)\n",
    "\n",
    "            #optimize\n",
    "            if transitions != None:\n",
    "                states, actions, rewards, next_states, dones = transitions\n",
    "\n",
    "                next_state_values = target_net(next_states).detach().max(1)[0].unsqueeze(1)\n",
    "\n",
    "                next_state_values = reward + gamma * next_state_values * (1 - dones)\n",
    "\n",
    "                state_values = policy_net(states).gather(1, actions)\n",
    "\n",
    "                policy_net.optimize(state_values, next_state_values)\n",
    "\n",
    "                if step_count % target_update_interval:\n",
    "                    target_net.sync(policy_net)\n",
    "                \n",
    "\n",
    "            if done:\n",
    "                break\n",
    "\n",
    "            loop.set_description(f'epoch = {epoch}, step = {step_count}, epsilon = {epsilon:.2f}, avg rewards={np.mean(score_window):.2f}, best_avg_reward={best_avg_reward:.2f}')\n",
    "\n",
    "        score_window.append(total_reward)\n",
    "        avg_reward = np.mean(score_window)\n",
    "\n",
    "\n",
    "        history['reward'].append(np.mean(score_window))\n",
    "        history['epsilon'].append(epsilon)\n",
    "        fig_save_path = os.path.join(SAVE_PATH, 'plot.png')\n",
    "\n",
    "        if epoch % plot_update_freq == 0:\n",
    "            plot(history, save_path = fig_save_path)\n",
    "        \n",
    "    torch.save(policy_net, os.path.join(SAVE_PATH, 'policy_net.final.torch'))\n",
    "    torch.save(target_net, os.path.join(SAVE_PATH, 'target_net.final.torch'))\n",
    "\n",
    "    plot(history, show = True)\n",
    "\n",
    "def plot(history, show = False, save_path = None):\n",
    "    fig, (ax1,ax2) = plt.subplots(1,2, figsize=(10,5))\n",
    "    sns.lineplot(y = history['reward'], x = list(range(len(history['reward']))), ax = ax1)\n",
    "    ax1.set_title('100-iteration average reward per epoch')\n",
    "    sns.lineplot(y = history['epsilon'], x = list(range(len(history['epsilon']))), ax = ax2)\n",
    "    ax2.set_title(label = 'epsilon decay')\n",
    "\n",
    "    if save_path != None:\n",
    "        plt.savefig(save_path)\n",
    "    if show:\n",
    "        plt.show()\n",
    "\n"
   ]
  },
  {
   "cell_type": "code",
   "execution_count": 24,
   "metadata": {},
   "outputs": [],
   "source": [
    "def tunev2(\n",
    "    lr = 0.00025,\n",
    "    min_ep = 0.1,\n",
    "    max_ep = 1.0,\n",
    "    decay_ep = 0.999,\n",
    "    max_steps = 20000,\n",
    "    gamma = 0.99,\n",
    "    batch_size = 32,\n",
    "    warmup_steps = 5000, #TODO: what's this?\n",
    "    memory_capacity = int(1e5), #TODO: DQM paper uses 1e6\n",
    "    target_update_interval = 10,\n",
    "    plot_update_freq = 50,\n",
    "    label = 'default'\n",
    "):\n",
    "    SAVE_PATH = os.path.join(OUTPUT, label)\n",
    "\n",
    "    if os.path.exists(SAVE_PATH) == False:\n",
    "        os.makedirs(SAVE_PATH)\n",
    "\n",
    "    base_env = gym.make('CarRacing-v2', continuous=False)\n",
    "    env = RacingCarEnvWrapper(base_env)\n",
    "\n",
    "    state, info = env.reset()\n",
    "\n",
    "    state_size = state.shape\n",
    "    action_size = base_env.action_space.n\n",
    "\n",
    "    stacked_frames = state_size[0]\n",
    "    print('state shape = ', state_size)\n",
    "    print('action size = ', action_size)\n",
    "\n",
    "    policy_net = QNet(input_channels = stacked_frames, output_size = action_size)\n",
    "    target_net = QNet(input_channels = stacked_frames, output_size = action_size)\n",
    "\n",
    "    memory = ReplayMemory(memory_capacity)\n",
    "\n",
    "    score_window = deque(maxlen=100)\n",
    "\n",
    "    step_count = 0\n",
    "\n",
    "    history = defaultdict(list)\n",
    "\n",
    "    loop = tqdm(range(max_steps))\n",
    "    best_avg_reward = 0\n",
    "\n",
    "    total_reward = 0\n",
    "    done = False\n",
    "    state, info = env.reset()\n",
    "\n",
    "    for step in loop:\n",
    "\n",
    "        epsilon = epsilon_linear_decay(min_ep, max_ep, decay_ep, step, max_steps)\n",
    "\n",
    "        action = get_action(state, policy_net, epsilon, env)\n",
    "        next_state, reward, terminated, truncated, info = env.step(action)\n",
    "\n",
    "        total_reward += reward\n",
    "\n",
    "        if terminated or truncated: \n",
    "            done = True\n",
    "        \n",
    "        memory.push(state, action, reward, next_state, done)\n",
    "\n",
    "        state = next_state\n",
    "\n",
    "        transitions = memory.sample(batch_size)\n",
    "\n",
    "        #optimize\n",
    "        if transitions != None:\n",
    "            states, actions, rewards, next_states, dones = transitions\n",
    "\n",
    "            next_state_values = target_net(next_states).detach().max(1)[0].unsqueeze(1)\n",
    "\n",
    "            next_state_values = reward + gamma * next_state_values * (1 - dones)\n",
    "\n",
    "            state_values = policy_net(states).gather(1, actions)\n",
    "\n",
    "            policy_net.optimize(state_values, next_state_values)\n",
    "\n",
    "            if step_count % target_update_interval:\n",
    "                target_net.sync(policy_net)\n",
    "            \n",
    "        \n",
    "        if done:\n",
    "            #reset environment\n",
    "            state, info = env.reset()\n",
    "\n",
    "\n",
    "        score_window.append(total_reward)\n",
    "        avg_reward = np.mean(score_window)\n",
    "        loop.set_description(f'step = {step}, epsilon = {epsilon:.2f}, avg rewards={avg_reward:.2f}, best_avg_reward={best_avg_reward:.2f}')\n",
    "\n",
    "\n",
    "    #     history['reward'].append(np.mean(score_window))\n",
    "    #     history['epsilon'].append(epsilon)\n",
    "    #     fig_save_path = os.path.join(SAVE_PATH, 'plot.png')\n",
    "\n",
    "    #     if epoch % plot_update_freq == 0:\n",
    "    #         plot(history, save_path = fig_save_path)\n",
    "        \n",
    "    # torch.save(policy_net, os.path.join(SAVE_PATH, 'policy_net.final.torch'))\n",
    "    # torch.save(target_net, os.path.join(SAVE_PATH, 'target_net.final.torch'))\n",
    "\n",
    "    # plot(history, show = True)\n",
    "\n",
    "def plot(history, show = False, save_path = None):\n",
    "    fig, (ax1,ax2) = plt.subplots(1,2, figsize=(10,5))\n",
    "    sns.lineplot(y = history['reward'], x = list(range(len(history['reward']))), ax = ax1)\n",
    "    ax1.set_title('100-iteration average reward per epoch')\n",
    "    sns.lineplot(y = history['epsilon'], x = list(range(len(history['epsilon']))), ax = ax2)\n",
    "    ax2.set_title(label = 'epsilon decay')\n",
    "\n",
    "    if save_path != None:\n",
    "        plt.savefig(save_path)\n",
    "    if show:\n",
    "        plt.show()\n",
    "\n"
   ]
  },
  {
   "cell_type": "code",
   "execution_count": 25,
   "metadata": {},
   "outputs": [
    {
     "name": "stderr",
     "output_type": "stream",
     "text": [
      "/Users/jamesnguyen/anaconda3/envs/torch/lib/python3.9/site-packages/gymnasium/utils/passive_env_checker.py:233: DeprecationWarning: `np.bool8` is a deprecated alias for `np.bool_`.  (Deprecated NumPy 1.24)\n",
      "  if not isinstance(terminated, (bool, np.bool8)):\n"
     ]
    },
    {
     "name": "stdout",
     "output_type": "stream",
     "text": [
      "state shape =  (4, 84, 84)\n",
      "action size =  5\n"
     ]
    },
    {
     "name": "stderr",
     "output_type": "stream",
     "text": [
      "step = 380, epsilon = 0.68, avg rewards=-3.40, best_avg_reward=0.00:   2%|▏         | 381/20000 [01:46<1:31:15,  3.58it/s]\n"
     ]
    },
    {
     "ename": "KeyboardInterrupt",
     "evalue": "",
     "output_type": "error",
     "traceback": [
      "\u001b[0;31m---------------------------------------------------------------------------\u001b[0m",
      "\u001b[0;31mKeyboardInterrupt\u001b[0m                         Traceback (most recent call last)",
      "Cell \u001b[0;32mIn[25], line 1\u001b[0m\n\u001b[0;32m----> 1\u001b[0m \u001b[43mtunev2\u001b[49m\u001b[43m(\u001b[49m\u001b[43m)\u001b[49m\n",
      "Cell \u001b[0;32mIn[24], line 66\u001b[0m, in \u001b[0;36mtunev2\u001b[0;34m(lr, min_ep, max_ep, decay_ep, max_steps, gamma, batch_size, warmup_steps, memory_capacity, target_update_interval, plot_update_freq, label)\u001b[0m\n\u001b[1;32m     62\u001b[0m memory\u001b[38;5;241m.\u001b[39mpush(state, action, reward, next_state, done)\n\u001b[1;32m     64\u001b[0m state \u001b[38;5;241m=\u001b[39m next_state\n\u001b[0;32m---> 66\u001b[0m transitions \u001b[38;5;241m=\u001b[39m \u001b[43mmemory\u001b[49m\u001b[38;5;241;43m.\u001b[39;49m\u001b[43msample\u001b[49m\u001b[43m(\u001b[49m\u001b[43mbatch_size\u001b[49m\u001b[43m)\u001b[49m\n\u001b[1;32m     68\u001b[0m \u001b[38;5;66;03m#optimize\u001b[39;00m\n\u001b[1;32m     69\u001b[0m \u001b[38;5;28;01mif\u001b[39;00m transitions \u001b[38;5;241m!=\u001b[39m \u001b[38;5;28;01mNone\u001b[39;00m:\n",
      "Cell \u001b[0;32mIn[20], line 26\u001b[0m, in \u001b[0;36mReplayMemory.sample\u001b[0;34m(self, batch_size)\u001b[0m\n\u001b[1;32m     23\u001b[0m transitions \u001b[38;5;241m=\u001b[39m random\u001b[38;5;241m.\u001b[39msample(\u001b[38;5;28mself\u001b[39m\u001b[38;5;241m.\u001b[39mmemory, batch_size)\n\u001b[1;32m     24\u001b[0m batch \u001b[38;5;241m=\u001b[39m Transition(\u001b[38;5;241m*\u001b[39m\u001b[38;5;28mzip\u001b[39m(\u001b[38;5;241m*\u001b[39mtransitions))\n\u001b[0;32m---> 26\u001b[0m state_batch \u001b[38;5;241m=\u001b[39m \u001b[43mtorch\u001b[49m\u001b[38;5;241;43m.\u001b[39;49m\u001b[43mtensor\u001b[49m\u001b[43m(\u001b[49m\u001b[43mbatch\u001b[49m\u001b[38;5;241;43m.\u001b[39;49m\u001b[43mstate\u001b[49m\u001b[43m)\u001b[49m\u001b[38;5;241m.\u001b[39mfloat()\n\u001b[1;32m     27\u001b[0m action_batch \u001b[38;5;241m=\u001b[39m torch\u001b[38;5;241m.\u001b[39mtensor(np\u001b[38;5;241m.\u001b[39mvstack(batch\u001b[38;5;241m.\u001b[39maction))\u001b[38;5;241m.\u001b[39mlong()\n\u001b[1;32m     28\u001b[0m reward_batch \u001b[38;5;241m=\u001b[39m torch\u001b[38;5;241m.\u001b[39mtensor(np\u001b[38;5;241m.\u001b[39mvstack(batch\u001b[38;5;241m.\u001b[39mreward))\u001b[38;5;241m.\u001b[39mfloat()\n",
      "\u001b[0;31mKeyboardInterrupt\u001b[0m: "
     ]
    }
   ],
   "source": [
    "tunev2()"
   ]
  },
  {
   "cell_type": "markdown",
   "metadata": {},
   "source": []
  },
  {
   "cell_type": "markdown",
   "metadata": {},
   "source": []
  },
  {
   "cell_type": "markdown",
   "metadata": {},
   "source": [
    "# NOTES\n",
    "\n",
    "for images, we need to stack 4 frames (DeepMind method) to make a 4x3x96x96 input shape. This gives the model some information about velocity and direction of stuff"
   ]
  }
 ],
 "metadata": {
  "kernelspec": {
   "display_name": "Python 3.9.18 ('torch')",
   "language": "python",
   "name": "python3"
  },
  "language_info": {
   "codemirror_mode": {
    "name": "ipython",
    "version": 3
   },
   "file_extension": ".py",
   "mimetype": "text/x-python",
   "name": "python",
   "nbconvert_exporter": "python",
   "pygments_lexer": "ipython3",
   "version": "3.9.18"
  },
  "orig_nbformat": 4,
  "vscode": {
   "interpreter": {
    "hash": "af18273774455bc90f5456b9f4898eab7ba4de506fde0c1d0784da333c7e8bbc"
   }
  }
 },
 "nbformat": 4,
 "nbformat_minor": 2
}
