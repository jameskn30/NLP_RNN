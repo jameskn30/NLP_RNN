{
 "cells": [
  {
   "cell_type": "markdown",
   "metadata": {},
   "source": [
    "# This note book is intro to gymnasium\n",
    "### Rendr cart pole \n",
    "### Intro to pytorch"
   ]
  },
  {
   "cell_type": "code",
   "execution_count": null,
   "metadata": {},
   "outputs": [],
   "source": [
    "import gymnasium as gym\n",
    "import matplotlib.pyplot as plt\n",
    "import time\n",
    "import pygame\n",
    "import seaborn as sns"
   ]
  },
  {
   "cell_type": "markdown",
   "metadata": {},
   "source": [
    "# Part 1 Cart Pole env"
   ]
  },
  {
   "cell_type": "code",
   "execution_count": null,
   "metadata": {},
   "outputs": [],
   "source": [
    "env = gym.make('CartPole-v1', render_mode = 'human')\n",
    "\n",
    "#Action\n",
    "#0: move left\n",
    "#1: move right\n",
    "\n",
    "#Observation       \n",
    "#Cart Position, Cart Velocity, Pole Angle, Pole Angular Velocity \n",
    "\n",
    "#Goal: is to keep the pole upright as long as possible. There's a no terminal state for CartPole\n",
    "\n",
    "#Rewards\n",
    "#+1 for every step the pole is upright position\n",
    "obs = env.reset()\n",
    "MAX_TIMESTEP = 1000\n",
    "timestep = 0\n",
    "terminated = False\n",
    "history = []\n",
    "\n",
    "while timestep < MAX_TIMESTEP and not terminated:\n",
    "    random_action = env.action_space.sample()\n",
    "    obs, reward, terminated, truncated, info = env.step(random_action)\n",
    "    env.render()\n",
    "    timestep += 1\n",
    "    history.append(reward)\n",
    "\n",
    "env.close()\n",
    "pygame.quit()"
   ]
  },
  {
   "cell_type": "code",
   "execution_count": null,
   "metadata": {},
   "outputs": [],
   "source": [
    "print(history)\n",
    "sns.lineplot(y = history, x = list(range(len(history))))\n",
    "plt.title(\"Reward per step\")\n",
    "plt.show()"
   ]
  },
  {
   "cell_type": "markdown",
   "metadata": {},
   "source": [
    "### Mountain Car env"
   ]
  },
  {
   "cell_type": "code",
   "execution_count": null,
   "metadata": {},
   "outputs": [],
   "source": [
    "env = gym.make('MountainCar-v0', render_mode = 'human')\n",
    "\n",
    "\n",
    "#Action\n",
    "#0: move left\n",
    "#1: don't move\n",
    "#2: move right\n",
    "\n",
    "#Observation       \n",
    "#Cart Position, Cart Velocity, Pole Angle, Pole Angular Velocity \n",
    "\n",
    "#Goal: is to keep the pole upright as long as possible. There's a no terminal state for CartPole\n",
    "\n",
    "#Rewards\n",
    "#-1 for every step the car is not reached the flag\n",
    "\n",
    "obs = env.reset()\n",
    "MAX_TIMESTEP = 1000\n",
    "timestep = 0\n",
    "terminated = False\n",
    "history = []\n",
    "\n",
    "while timestep < MAX_TIMESTEP and not terminated:\n",
    "    random_action = env.action_space.sample()\n",
    "    obs, reward, terminated, truncated, info = env.step(random_action)\n",
    "    env.render()\n",
    "    timestep += 1\n",
    "    history.append(reward)\n",
    "\n",
    "env.close()\n",
    "pygame.quit()"
   ]
  },
  {
   "cell_type": "code",
   "execution_count": null,
   "metadata": {},
   "outputs": [],
   "source": [
    "env.close()\n",
    "pygame.quit()\n",
    "print(history)\n",
    "sns.lineplot(y = history, x = list(range(len(history))))\n",
    "plt.title(\"Reward per step\")\n",
    "plt.show()"
   ]
  },
  {
   "cell_type": "markdown",
   "metadata": {},
   "source": [
    "# Part 2 intro to Pytorch\n"
   ]
  },
  {
   "cell_type": "markdown",
   "metadata": {},
   "source": []
  }
 ],
 "metadata": {
  "kernelspec": {
   "display_name": "Python 3.11.6 ('torch')",
   "language": "python",
   "name": "python3"
  },
  "language_info": {
   "codemirror_mode": {
    "name": "ipython",
    "version": 3
   },
   "file_extension": ".py",
   "mimetype": "text/x-python",
   "name": "python",
   "nbconvert_exporter": "python",
   "pygments_lexer": "ipython3",
   "version": "3.11.6"
  },
  "orig_nbformat": 4,
  "vscode": {
   "interpreter": {
    "hash": "af18273774455bc90f5456b9f4898eab7ba4de506fde0c1d0784da333c7e8bbc"
   }
  }
 },
 "nbformat": 4,
 "nbformat_minor": 2
}
