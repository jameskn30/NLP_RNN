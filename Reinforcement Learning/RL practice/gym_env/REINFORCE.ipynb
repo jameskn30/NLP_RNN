{
 "cells": [
  {
   "cell_type": "markdown",
   "metadata": {},
   "source": [
    "###  Reference\n",
    "\n",
    "https://www.youtube.com/watch?v=e20EY4tFC_Q\n",
    "\n",
    "https://huggingface.co/learn/deep-rl-course/en/unit4/hands-on"
   ]
  },
  {
   "cell_type": "code",
   "execution_count": null,
   "metadata": {},
   "outputs": [],
   "source": []
  },
  {
   "cell_type": "code",
   "execution_count": 3,
   "metadata": {},
   "outputs": [],
   "source": [
    "import gymnasium as gym\n",
    "from gymnasium.wrappers import RecordVideo\n",
    "import os\n",
    "import shutil\n",
    "import torch\n",
    "import time\n",
    "from collections import deque\n",
    "import random\n",
    "import numpy as np\n",
    "from tqdm import tqdm\n",
    "from matplotlib import pyplot as plt\n",
    "import seaborn as sns\n",
    "import torch.nn as nn"
   ]
  },
  {
   "cell_type": "code",
   "execution_count": 8,
   "metadata": {},
   "outputs": [
    {
     "name": "stdout",
     "output_type": "stream",
     "text": [
      "cuda\n"
     ]
    }
   ],
   "source": [
    "# Check if CUDA is available\n",
    "DEVICE = 'cuda' if torch.cuda.is_available() else 'cpu'\n",
    "print(DEVICE)\n"
   ]
  },
  {
   "cell_type": "code",
   "execution_count": 42,
   "metadata": {},
   "outputs": [
    {
     "name": "stdout",
     "output_type": "stream",
     "text": [
      "state = (8,)  type = <class 'numpy.ndarray'>\n",
      "action shape =  ()  type = <class 'numpy.int64'>\n"
     ]
    }
   ],
   "source": [
    "def build_env(name = 'LunarLander-v3', record_name = 'lunar', max_record_steps = int(1e3)):\n",
    "    # Delete all contents in lunar-agent folder\n",
    "\n",
    "    # Initialise the environment\n",
    "    env = gym.make(name, render_mode=\"rgb_array\")\n",
    "\n",
    "    if record_name != None and record_name != \"\":\n",
    "        path = os.path.join('output', record_name)\n",
    "        if os.path.exists(path):\n",
    "            shutil.rmtree(path)\n",
    "\n",
    "        env = RecordVideo(\n",
    "            env,\n",
    "            video_folder=path,\n",
    "            episode_trigger=lambda x: True,  # Record every episode\n",
    "            name_prefix=\"training\",\n",
    "            video_length=max_record_steps,  # Maximum number of steps to record per episode\n",
    "        )\n",
    "\n",
    "    return env\n",
    "\n",
    "env = build_env()\n",
    "\n",
    "# Reset the environment to generate the first observation\n",
    "observation, info = env.reset(seed=42)\n",
    "print('state =', observation.shape ,' type =', type(observation))\n",
    "print(\"action shape = \", env.action_space.sample().shape, ' type =', type(env.action_space.sample()))\n",
    "\n",
    "for _ in range(1000):\n",
    "    # this is where you would insert your policy\n",
    "    action = env.action_space.sample()\n",
    "\n",
    "    # step (transition) through the environment with the action\n",
    "    # receiving the next observation, reward and if the episode has terminated or truncated\n",
    "    observation, reward, terminated, truncated, info = env.step(action)\n",
    "\n",
    "    # If the episode has ended then we can reset to start a new episode\n",
    "    if terminated or truncated:\n",
    "        observation, info = env.reset()\n",
    "\n",
    "env.close()\n"
   ]
  },
  {
   "cell_type": "markdown",
   "metadata": {},
   "source": [
    "### REINFORCE\n",
    "\n",
    "in value based, we use value function (Qnet, Q-table) to estimate the policy\n",
    "\n",
    "policy-based directly optimize the policy function without using intermediate value function"
   ]
  },
  {
   "cell_type": "code",
   "execution_count": 72,
   "metadata": {},
   "outputs": [
    {
     "name": "stdout",
     "output_type": "stream",
     "text": [
      "(8,)\n",
      "1\n",
      "-1.3966193199157715\n"
     ]
    }
   ],
   "source": [
    "class Policy(nn.Module):\n",
    "    def __init__(self, state_size = 8, hidden_size = 16, action_size = 4):\n",
    "        super(Policy, self).__init__()\n",
    "        self.model = nn.Sequential(\n",
    "            nn.Linear(state_size, hidden_size),\n",
    "            nn.ReLU(),\n",
    "            nn.Linear(hidden_size, action_size),\n",
    "            nn.Softmax(dim=1) #turn output into probability distribution\n",
    "        )\n",
    "\n",
    "    def forward(self, x):\n",
    "        return self.model(x)\n",
    "\n",
    "    def act(self, state):\n",
    "        tensor = torch.tensor(state, dtype=torch.float32).unsqueeze(0)\n",
    "        probs = self.forward(tensor)\n",
    "        m = torch.distributions.Categorical(probs)\n",
    "        action = m.sample()\n",
    "        return action.item(), m.log_prob(action)\n",
    "    \n",
    "    def save(self, name = None):\n",
    "        torch.save(self.state_dict(), 'policy' if name == None else name + '.pth')\n",
    "\n",
    "# Test\n",
    "model = Policy()\n",
    "\n",
    "state = np.random.rand(8)\n",
    "print(state.shape)\n",
    "\n",
    "action, log_prob = model.act(state)\n",
    "print(action)\n",
    "print(log_prob.item())"
   ]
  },
  {
   "cell_type": "code",
   "execution_count": 75,
   "metadata": {},
   "outputs": [
    {
     "name": "stderr",
     "output_type": "stream",
     "text": [
      "Episode: 4999\tTotal reward:\t76.20: 100%|██████████| 5000/5000 [22:18<00:00,  3.74it/s] \n"
     ]
    }
   ],
   "source": [
    "#train\n",
    "gamma = 0.99\n",
    "num_episodes = 1000\n",
    "reward_threshold = 200\n",
    "print_every = 10\n",
    "training_eps = 5000\n",
    "max_steps = 2000\n",
    "\n",
    "env_id = 'LunarLander-v3'\n",
    "\n",
    "env = build_env(name = env_id  ,record_name=None)\n",
    "state, info = env.reset()\n",
    "action = env.action_space.sample()\n",
    "\n",
    "#TODO:  add DEVICE\n",
    "\n",
    "# step 2 - prep policy and optimizer\n",
    "policy = Policy(state_size=state.shape[0], action_size=4) \n",
    "optimizer = torch.optim.Adam(policy.parameters(), lr=1e-2)\n",
    "\n",
    "loop = tqdm(range(training_eps))\n",
    "latest_rewards = deque(maxlen=100)\n",
    "best_100_rewards = 0\n",
    "for ep in loop:\n",
    "    saved_log_probs = []\n",
    "    rewards = []\n",
    "    state, info = env.reset()\n",
    "    # step 3 - generate episode S0, A0, R0, ..., ST-1, AT-1, RT-1, using policy\n",
    "    for t in range(max_steps):\n",
    "        action, log_prob = policy.act(state) \n",
    "        saved_log_probs.append(log_prob)\n",
    "        state, reward, terminated, truncated, info = env.step(action)\n",
    "        rewards.append(reward)\n",
    "\n",
    "        if terminated or truncated:\n",
    "            break\n",
    "    \n",
    "    # step 4 - compute discounted return Gt\n",
    "    returns = deque(maxlen=(max_steps))\n",
    "    n_steps = len(rewards)\n",
    "\n",
    "    # G_t = r_(t+1) + gamma*G_(t+1)\n",
    "    # use DP, from last to first\n",
    "    # -> G(t - 1) = r_t + gamma*(G_t)\n",
    "\n",
    "    for t in range(n_steps)[::-1]:\n",
    "        discount_return_t = returns[0] if len(returns) > 0 else 0\n",
    "        returns.appendleft(rewards[t] + gamma * discount_return_t)\n",
    "\n",
    "    \n",
    "    e = np.finfo(np.float32).eps.item()\n",
    "    returns = torch.tensor(returns)\n",
    "    # do the following to avoid numerical instability\n",
    "    returns = (returns - returns.mean()) / (returns.std() + e)\n",
    "\n",
    "    # step 5 - calculate objective function \n",
    "    policy_loss = []\n",
    "    for log_prob, discounted_return in zip(saved_log_probs, returns):\n",
    "        policy_loss.append(-log_prob * discounted_return) # add minus to log prop to maximize reward\n",
    "    policy_loss = torch.cat(policy_loss).sum()\n",
    "\n",
    "    # step 6 - policy gradient update\n",
    "\n",
    "    optimizer.zero_grad()\n",
    "    policy_loss.backward()\n",
    "    optimizer.step()\n",
    "\n",
    "    # training stats report, \n",
    "    latest_rewards.append(sum(rewards))\n",
    "    avg_rewards = sum(latest_rewards)/len(latest_rewards) if len(latest_rewards) > 0 else 0\n",
    "    if avg_rewards > best_100_rewards :\n",
    "        best_100_rewards = avg_rewards\n",
    "        policy.save('best_policy')\n",
    "    loop.set_description(f\"Episode: {ep}\\tAvg reward:\\t{avg_rewards:.2f}\")\n",
    "\n",
    "env.close()\n",
    "\n"
   ]
  },
  {
   "cell_type": "code",
   "execution_count": 79,
   "metadata": {},
   "outputs": [
    {
     "name": "stderr",
     "output_type": "stream",
     "text": [
      "/tmp/ipykernel_3695/438249230.py:4: FutureWarning: You are using `torch.load` with `weights_only=False` (the current default value), which uses the default pickle module implicitly. It is possible to construct malicious pickle data which will execute arbitrary code during unpickling (See https://github.com/pytorch/pytorch/blob/main/SECURITY.md#untrusted-models for more details). In a future release, the default value for `weights_only` will be flipped to `True`. This limits the functions that could be executed during unpickling. Arbitrary objects will no longer be allowed to be loaded via this mode unless they are explicitly allowlisted by the user via `torch.serialization.add_safe_globals`. We recommend you start setting `weights_only=True` for any use case where you don't have full control of the loaded file. Please open an issue on GitHub for any issues related to this experimental feature.\n",
      "  policy.load_state_dict(torch.load('best_policy.pth'))\n"
     ]
    }
   ],
   "source": [
    "# Inference\n",
    "env = build_env(record_name='lunar')\n",
    "policy = Policy()\n",
    "policy.load_state_dict(torch.load('best_policy.pth'))\n",
    "policy.eval()\n",
    "\n",
    "state, info = env.reset()\n",
    "for _ in range(2000):\n",
    "    action, _ = policy.act(state)\n",
    "    state, reward, terminated, truncated, info = env.step(action)\n",
    "    if terminated or truncated:\n",
    "        break\n",
    "\n",
    "env.close()"
   ]
  },
  {
   "cell_type": "code",
   "execution_count": null,
   "metadata": {},
   "outputs": [],
   "source": []
  },
  {
   "cell_type": "code",
   "execution_count": null,
   "metadata": {},
   "outputs": [],
   "source": []
  },
  {
   "cell_type": "code",
   "execution_count": null,
   "metadata": {},
   "outputs": [],
   "source": []
  }
 ],
 "metadata": {
  "kernelspec": {
   "display_name": "rl",
   "language": "python",
   "name": "python3"
  },
  "language_info": {
   "codemirror_mode": {
    "name": "ipython",
    "version": 3
   },
   "file_extension": ".py",
   "mimetype": "text/x-python",
   "name": "python",
   "nbconvert_exporter": "python",
   "pygments_lexer": "ipython3",
   "version": "3.11.8"
  }
 },
 "nbformat": 4,
 "nbformat_minor": 2
}
