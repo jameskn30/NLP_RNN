{
 "cells": [
  {
   "cell_type": "code",
   "execution_count": 1,
   "metadata": {},
   "outputs": [],
   "source": [
    "import gymnasium as gym\n",
    "from gymnasium.wrappers import RecordVideo\n",
    "import os\n",
    "import shutil\n",
    "import torch\n",
    "import time\n",
    "from collections import deque\n",
    "import random\n",
    "import numpy as np\n",
    "from tqdm import tqdm\n",
    "from matplotlib import pyplot as plt\n",
    "import seaborn as sns"
   ]
  },
  {
   "cell_type": "code",
   "execution_count": 2,
   "metadata": {},
   "outputs": [],
   "source": [
    "def build_env(name = 'LunarLander-v3', record_name = None):\n",
    "    # Delete all contents in lunar-agent folder\n",
    "\n",
    "    # Initialise the environment\n",
    "    env = gym.make(name, render_mode=\"rgb_array\")\n",
    "\n",
    "    if record_name != None and record_name != \"\":\n",
    "        if os.path.exists(record_name):\n",
    "            shutil.rmtree(record_name)\n",
    "\n",
    "        env = RecordVideo(\n",
    "            env,\n",
    "            video_folder=record_name,\n",
    "            episode_trigger=lambda x: True,  # Record every episode\n",
    "            name_prefix=\"training\",\n",
    "            video_length=3000,  # Maximum number of steps to record per episode\n",
    "        )\n",
    "\n",
    "    return env\n",
    "\n",
    "env = build_env()\n",
    "\n",
    "# Reset the environment to generate the first observation\n",
    "observation, info = env.reset(seed=42)\n",
    "\n",
    "for _ in range(1000):\n",
    "    # this is where you would insert your policy\n",
    "    action = env.action_space.sample()\n",
    "\n",
    "    # step (transition) through the environment with the action\n",
    "    # receiving the next observation, reward and if the episode has terminated or truncated\n",
    "    observation, reward, terminated, truncated, info = env.step(action)\n",
    "\n",
    "    # If the episode has ended then we can reset to start a new episode\n",
    "    if terminated or truncated:\n",
    "        observation, info = env.reset()\n",
    "\n",
    "env.close()\n"
   ]
  },
  {
   "cell_type": "markdown",
   "metadata": {},
   "source": [
    "# DQN\n",
    "\n",
    "- ReplayBuffer\n",
    "- NN\n",
    "- training formula: Q(s,a) = Q(s,a) + alpha * (R_t+1 + gamma * max Q(s_t+1 ,a) - Q(s_t, a))\n",
    "https://huggingface.co/learn/deep-rl-course/en/unit3/deep-q-algorithm\n",
    "- Q-target:\n",
    "\n",
    "known problems:\n",
    "- forgetting: agent forgot best behavior when new experience comes in\n"
   ]
  },
  {
   "cell_type": "markdown",
   "metadata": {},
   "source": [
    "### Replay Buffer"
   ]
  },
  {
   "cell_type": "code",
   "execution_count": 3,
   "metadata": {},
   "outputs": [],
   "source": [
    "class ReplayBuffer():\n",
    "    def __init__(self, capacity):\n",
    "        self.capacity = capacity\n",
    "        self.buffer = deque()\n",
    "    \n",
    "    def push(self, state, action, reward, next_state, terminated):\n",
    "        if len(self.buffer) >= self.capacity:\n",
    "            self.buffer.popleft()\n",
    "        self.buffer.append((torch.tensor(state), torch.tensor(action), torch.tensor(reward), torch.tensor(next_state), torch.tensor(terminated)))\n",
    "    \n",
    "    def sample(self, batch_size):\n",
    "        '''state, action, reward, next_state, terminated'''\n",
    "        state, action, reward, next_state, terminated = zip(*random.sample(self.buffer, batch_size))\n",
    "        return torch.vstack(state), torch.tensor(action), torch.tensor(reward), torch.vstack(next_state), torch.tensor(terminated)\n",
    "    \n",
    "    def curren_capacity(self) -> float:\n",
    "        return len(self.buffer) / self.capacity\n",
    "    \n",
    "    def __str__(self):\n",
    "        state, action, reward, next_state, terminated = self.sample(1)\n",
    "        return f\"state: {state.shape}\\naction: {action.shape}\\nreward: {reward.shape}\\nnext_state: {next_state.shape}\\nterminated: {terminated.shape}\"\n",
    "\n"
   ]
  },
  {
   "cell_type": "code",
   "execution_count": 4,
   "metadata": {},
   "outputs": [
    {
     "name": "stdout",
     "output_type": "stream",
     "text": [
      "state: torch.Size([1, 8])\n",
      "action: torch.Size([1])\n",
      "reward: torch.Size([1])\n",
      "next_state: torch.Size([1, 8])\n",
      "terminated: torch.Size([1])\n"
     ]
    }
   ],
   "source": [
    "env = build_env()\n",
    "env.reset()\n",
    "rb = ReplayBuffer(capacity=50)\n",
    "action = env.action_space.sample()\n",
    "state, reward, terminated, truncated, info = env.step(action)\n",
    "#warmup\n",
    "for _ in range(100):\n",
    "    action = env.action_space.sample()\n",
    "    next_state, reward, terminated, truncated, info = env.step(action)\n",
    "    rb.push(state, action, reward, next_state, terminated)\n",
    "    state = next_state\n",
    "\n",
    "state, action, reward, next_state, terminated = rb.sample(10)\n",
    "\n",
    "print(rb)\n",
    "\n",
    "env.close()\n"
   ]
  },
  {
   "cell_type": "code",
   "execution_count": 20,
   "metadata": {},
   "outputs": [],
   "source": [
    "# History object for stats \n",
    "\n",
    "class History:\n",
    "    def __init__(self):\n",
    "        self.loss = []\n",
    "        self.reward = []\n",
    "        self.epsilon = []\n",
    "    \n",
    "    def push(self, loss, reward, epsilon):\n",
    "        self.loss.append(loss)\n",
    "        self.reward.append(reward)\n",
    "        self.epsilon.append(epsilon)\n",
    "    \n",
    "    def plot(self):\n",
    "        fig, axs = plt.subplots(3)\n",
    "        fig.suptitle('Training Stats')\n",
    "        axs[0].plot(self.loss)\n",
    "        axs[0].set_title('Loss')\n",
    "        axs[1].plot(self.reward)\n",
    "        axs[1].set_title('Reward')\n",
    "        axs[2].plot(self.epsilon)\n",
    "        axs[2].set_title('Epsilon')\n",
    "        plt.show()\n",
    "    \n",
    "    def plot_reward(self):\n",
    "        plt.plot(self.reward)\n",
    "        plt.title('Reward')\n",
    "        plt.show()"
   ]
  },
  {
   "cell_type": "code",
   "execution_count": 6,
   "metadata": {},
   "outputs": [
    {
     "data": {
      "image/png": "[encoded data removed]",
      "text/plain": [
       "<Figure size 640x480 with 3 Axes>"
      ]
     },
     "metadata": {},
     "output_type": "display_data"
    }
   ],
   "source": [
    "history = History() \n",
    "history.push(50, 3, 100)\n",
    "history.push(30, 4, 50)\n",
    "history.push(20, 4, 20)\n",
    "history.push(10, 5, 10)\n",
    "history.plot()"
   ]
  },
  {
   "cell_type": "markdown",
   "metadata": {},
   "source": [
    "### Neural network"
   ]
  },
  {
   "cell_type": "code",
   "execution_count": 7,
   "metadata": {},
   "outputs": [],
   "source": [
    "def build_qnet(state_dim, action_dim):\n",
    "    state_dim = state_dim\n",
    "    action_dim = action_dim\n",
    "    model = torch.nn.Sequential(\n",
    "        torch.nn.Linear(state_dim, 120),\n",
    "        torch.nn.ReLU(),\n",
    "        torch.nn.Linear(120, 84),\n",
    "        torch.nn.ReLU(),\n",
    "        torch.nn.Linear(84, action_dim)\n",
    "    )\n",
    "    return model\n"
   ]
  },
  {
   "cell_type": "code",
   "execution_count": 8,
   "metadata": {},
   "outputs": [
    {
     "name": "stdout",
     "output_type": "stream",
     "text": [
      "tensor([[-0.2471, -0.1016,  0.1047,  0.1330]], grad_fn=<AddmmBackward0>)\n"
     ]
    }
   ],
   "source": [
    "testnet = build_qnet(8, 4)\n",
    "y = testnet(torch.randn(1, 8))\n",
    "print(y)"
   ]
  },
  {
   "cell_type": "markdown",
   "metadata": {},
   "source": [
    "### Greedy policy (DQN is off-policy, use greedy policy for training, but use only model for reference)\n",
    "\n"
   ]
  },
  {
   "cell_type": "code",
   "execution_count": 9,
   "metadata": {},
   "outputs": [
    {
     "data": {
      "text/plain": [
       "<Axes: >"
      ]
     },
     "execution_count": 9,
     "metadata": {},
     "output_type": "execute_result"
    },
    {
     "data": {
      "image/png": "[encoded data removed]",
      "text/plain": [
       "<Figure size 640x480 with 1 Axes>"
      ]
     },
     "metadata": {},
     "output_type": "display_data"
    }
   ],
   "source": [
    "def linear_schedule(start, end, duration, t):\n",
    "    slope = (end - start) / duration\n",
    "    return max(slope * t + start, end)\n",
    "\n",
    "sns.lineplot(x=range(100), y=[linear_schedule(1, 0.1, 100, t) for t in range(100)])\n"
   ]
  },
  {
   "cell_type": "markdown",
   "metadata": {},
   "source": [
    "### Optimizer\n",
    "Adam()"
   ]
  },
  {
   "cell_type": "code",
   "execution_count": null,
   "metadata": {},
   "outputs": [],
   "source": [
    "batch_size = 64\n",
    "gamma = 0.99\n",
    "tau = 0.01 #to sync target qnet and training qnet\n",
    "total_steps = int(5e5)\n",
    "sync_steps = 100\n",
    "warm_up = 1000\n",
    "trainng_freq = 10 # traing every 10 steps\n",
    "buffer_capacity = int(1e5)\n",
    "lr = 0.001\n"
   ]
  },
  {
   "cell_type": "markdown",
   "metadata": {},
   "source": [
    "### Training\n",
    "\n",
    "1. given a state, take an action\n",
    "2. add that action, reward, state to buffer\n",
    "3. if global step > learning starts (pass warmup) and global step % training freq == 0: \n",
    "    - get data from buffer\n",
    "    - Q_max = target_nn(data.obs).max(1)\n",
    "    - td_target = data.rewards + gamma * Q_max * (1 - dones)\n",
    "    - old val = q_net(data.obs)\n",
    "\n",
    "    loss = mse(td_target, old_val)\n",
    "\n",
    "    optim.zero_grad\n",
    "    loss.backward()\n",
    "    optim.step()\n",
    "\n",
    "    sync q_net and target q_net \n",
    "\n",
    "\n"
   ]
  },
  {
   "cell_type": "code",
   "execution_count": null,
   "metadata": {},
   "outputs": [
    {
     "name": "stdout",
     "output_type": "stream",
     "text": [
      "state: torch.Size([1, 8])\n",
      "action: torch.Size([1])\n",
      "reward: torch.Size([1])\n",
      "next_state: torch.Size([1, 8])\n",
      "terminated: torch.Size([1])\n"
     ]
    },
    {
     "name": "stderr",
     "output_type": "stream",
     "text": [
      "Step 499999\tepsilon 0.01\tloss 4.15\ttotal rewards 130.30\tbest rewards 289.77: 100%|██████████| 500000/500000 [06:26<00:00, 1293.99it/s]   \n"
     ]
    }
   ],
   "source": [
    "env = build_env()\n",
    "env.reset()\n",
    "qnet = build_qnet(8, 4)\n",
    "target_qnet = build_qnet(8, 4)\n",
    "target_qnet.load_state_dict(qnet.state_dict())\n",
    "replay_buffer = ReplayBuffer(buffer_capacity)\n",
    "\n",
    "optimizer = torch.optim.Adam(qnet.parameters(), lr=lr)\n",
    "\n",
    "#warmup\n",
    "state = None\n",
    "for _ in range(warm_up):\n",
    "    next_state, reward, terminated, truncated, info = env.step(env.action_space.sample())\n",
    "    if state is not None: \n",
    "        replay_buffer.push(state, action, reward, next_state, terminated)\n",
    "    state = next_state\n",
    "\n",
    "print(replay_buffer)\n",
    "\n",
    "loop = tqdm(range(total_steps))\n",
    "epsilon = 0.0\n",
    "loss = 0.0\n",
    "total_rewards = 0\n",
    "best_rewards = -float('inf')\n",
    "reward_list = deque()\n",
    "\n",
    "history = History()\n",
    "iter_loss = []\n",
    "\n",
    "for step in loop:\n",
    "    loop.set_description(f\"Step {step}\\tepsilon {epsilon:.2f}\\tloss {loss:.2f}\\ttotal rewards {total_rewards:.2f}\\tbest rewards {best_rewards:.2f}\\tavg 100 rewards: {sum(reward_list) / len(reward_list):.2f}\")\n",
    "\n",
    "    epsilon = linear_schedule(1, 0.01, total_steps, step)\n",
    "\n",
    "    if random.random() < epsilon:\n",
    "        action = env.action_space.sample()\n",
    "    else:\n",
    "        action = qnet(torch.tensor(state).float()).argmax().item()\n",
    "\n",
    "    # pretraining\n",
    "    next_state, reward, terminated, truncated, info = env.step(action)\n",
    "    total_rewards += reward\n",
    "\n",
    "    replay_buffer.push(state, action, reward, next_state, terminated)\n",
    "\n",
    "    # training\n",
    "    if step % trainng_freq == 0:\n",
    "        # greedy epsilon\n",
    "        \n",
    "        data = replay_buffer.sample(batch_size)\n",
    "\n",
    "        rb_state, rb_action, rb_reward, rb_nextstate, rb_done = data\n",
    "\n",
    "        with torch.no_grad():\n",
    "            target_max = target_qnet(rb_nextstate).float().max(dim=1).values\n",
    "            td_target = rb_reward + gamma * target_max * (1 - rb_done.flatten().int())\n",
    "                \n",
    "        old_value = qnet(rb_state).gather(1, rb_action.unsqueeze(1)).squeeze()\n",
    "\n",
    "        loss = torch.nn.functional.mse_loss(old_value, td_target.float())\n",
    "\n",
    "        optimizer.zero_grad()\n",
    "        loss.backward()\n",
    "        optimizer.step()\n",
    "\n",
    "        iter_loss.append(loss.item())\n",
    "\n",
    "        \n",
    "    # sync every sync_steps\n",
    "    if step % sync_steps == 0:\n",
    "        target_qnet.load_state_dict(qnet.state_dict())\n",
    "\n",
    "    #post training\n",
    "    state = next_state\n",
    "\n",
    "    # If the episode has ended then we can reset to start a new episode\n",
    "    if terminated or truncated:\n",
    "        observation, info = env.reset()\n",
    "        best_rewards = max(best_rewards, total_rewards)\n",
    "        reward_list.append(total_rewards)\n",
    "        if len(reward_list) > 100:\n",
    "            reward_list.popleft()\n",
    "        total_rewards = 0\n",
    "        history.push(sum(iter_loss) / len(iter_loss) , total_rewards, epsilon)\n",
    "\n",
    "env.close()"
   ]
  },
  {
   "cell_type": "code",
   "execution_count": 22,
   "metadata": {},
   "outputs": [
    {
     "ename": "AttributeError",
     "evalue": "'History' object has no attribute 'plot_reward'",
     "output_type": "error",
     "traceback": [
      "\u001b[0;31m---------------------------------------------------------------------------\u001b[0m",
      "\u001b[0;31mAttributeError\u001b[0m                            Traceback (most recent call last)",
      "Cell \u001b[0;32mIn[22], line 1\u001b[0m\n\u001b[0;32m----> 1\u001b[0m history\u001b[38;5;241m.\u001b[39mplot_reward()\n",
      "\u001b[0;31mAttributeError\u001b[0m: 'History' object has no attribute 'plot_reward'"
     ]
    }
   ],
   "source": [
    "history.plot_reward()"
   ]
  },
  {
   "cell_type": "code",
   "execution_count": null,
   "metadata": {},
   "outputs": [],
   "source": []
  }
 ],
 "metadata": {
  "kernelspec": {
   "display_name": "torch",
   "language": "python",
   "name": "python3"
  },
  "language_info": {
   "codemirror_mode": {
    "name": "ipython",
    "version": 3
   },
   "file_extension": ".py",
   "mimetype": "text/x-python",
   "name": "python",
   "nbconvert_exporter": "python",
   "pygments_lexer": "ipython3",
   "version": "3.12.2"
  }
 },
 "nbformat": 4,
 "nbformat_minor": 2
}
