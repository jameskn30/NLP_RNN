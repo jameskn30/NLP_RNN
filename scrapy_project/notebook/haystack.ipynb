{
 "cells": [
  {
   "cell_type": "markdown",
   "metadata": {},
   "source": [
    "#  agentic workflow with haystack\n",
    "load the company information in postprocessing.csv, \n",
    "\n",
    "add industry, founder background like ex-faang, competitive programmer, 10 years experience, serial founder, ...\n",
    "\n"
   ]
  },
  {
   "cell_type": "code",
   "execution_count": 1,
   "metadata": {},
   "outputs": [],
   "source": [
    "\n",
    "from haystack import Pipeline, Document, component\n",
    "from haystack.components.builders.prompt_builder import PromptBuilder\n",
    "from haystack_integrations.components.generators.ollama import OllamaGenerator\n",
    "from haystack.dataclasses import ChatMessage\n",
    "from typing import Optional, List\n",
    "from pydantic import BaseModel, ConfigDict\n",
    "from pprint import pprint\n",
    "import json\n",
    "import matplotlib.pyplot as plt\n",
    "import pandas as pd\n",
    "import os\n",
    "import copy\n",
    "from tqdm import tqdm "
   ]
  },
  {
   "cell_type": "code",
   "execution_count": null,
   "metadata": {},
   "outputs": [],
   "source": [
    "path_to_scrapy_output = '../yc_scraper/output.json'\n",
    "\n",
    "assert os.path.exists(path_to_scrapy_output), f'path not found: {path_to_scrapy_output}'\n",
    "\n",
    "with open(path_to_scrapy_output, 'r') as file:\n",
    "    data = json.load(file) \n",
    "    print('data len = ', len(data))\n",
    "\n",
    "company = data[0]"
   ]
  },
  {
   "cell_type": "code",
   "execution_count": null,
   "metadata": {},
   "outputs": [],
   "source": [
    "pprint(company)"
   ]
  },
  {
   "cell_type": "code",
   "execution_count": 14,
   "metadata": {},
   "outputs": [
    {
     "name": "stdout",
     "output_type": "stream",
     "text": [
      "'Super Mario is the iconic video game mascot and plumber.'\n"
     ]
    }
   ],
   "source": [
    "#define model to b used\n",
    "# OLLAMA_MODEL = \"deepseek-r1:8b\"\n",
    "# OLLAMA_MODEL = \"deepseek-r1:1.5b\"\n",
    "# OLLAMA_MODEL = \"deepseek-r1:1.5b\"\n",
    "# OLLAMA_MODEL = \"phi4:latest\"\n",
    "OLLAMA_MODEL = \"llama3.2:3b\"\n",
    "\n",
    "MAX_COMPONENT_RUN = 10\n",
    "\n",
    "# Define template\n",
    "template = \"Answer the question: {{query}}\"\n",
    "\n",
    "# Initialize pipeline\n",
    "pipe = Pipeline()\n",
    "\n",
    "# Add components\n",
    "generator = OllamaGenerator(model=OLLAMA_MODEL, url=\"http://localhost:11434\")\n",
    "pipe.add_component(\"prompt_builder\", PromptBuilder(template=template))\n",
    "pipe.add_component(\"llm\", generator)\n",
    "\n",
    "# Connect components correctly\n",
    "pipe.connect(\"prompt_builder\", \"llm.prompt\")\n",
    "\n",
    "# Run pipeline\n",
    "query = \"Who is Super Mario? Give me a short answer within 10 words\"\n",
    "res = pipe.run({\"prompt_builder\": {\"query\": query}})\n",
    "\n",
    "# Print results\n",
    "pprint(res['llm']['replies'][0])"
   ]
  },
  {
   "cell_type": "code",
   "execution_count": 15,
   "metadata": {},
   "outputs": [
    {
     "name": "stdout",
     "output_type": "stream",
     "text": [
      "{'additionalProperties': False,\n",
      " 'properties': {'keywords': {'items': {'type': 'string'},\n",
      "                             'title': 'Keywords',\n",
      "                             'type': 'array'}},\n",
      " 'required': ['keywords'],\n",
      " 'title': 'Answer',\n",
      " 'type': 'object'}\n"
     ]
    }
   ],
   "source": [
    "# Validator\n",
    "class Answer(BaseModel):\n",
    "    keywords: List[str]\n",
    "    model_config = ConfigDict(extra='forbid')\n",
    "\n",
    "json_schema = Answer.model_json_schema()\n",
    "pprint(json_schema)"
   ]
  },
  {
   "cell_type": "code",
   "execution_count": 16,
   "metadata": {},
   "outputs": [],
   "source": [
    "@component\n",
    "class OutputValidator:\n",
    "\n",
    "    def __init__(self, pydantic_model: BaseModel):\n",
    "        self.pydantic_model = pydantic_model\n",
    "        self.iter_count = 0\n",
    "    \n",
    "    @component.output_types(valid_replies = List[str], invalid_replies = Optional[List[str]], error_msg = Optional[str])\n",
    "    def run(self, replies: List[str]):\n",
    "        self.iter_count += 1\n",
    "        # print('replies = ', replies)\n",
    "        try:\n",
    "            output_dict = json.loads(replies[0])\n",
    "            # assert len(output_dict['keywords']) == 10, \"Keywords must contain 10\"\n",
    "            self.pydantic_model.model_validate(output_dict)\n",
    "            # print(f'[OK], iter_count={self.iter_count} valid')\n",
    "            return {'valid_replies': replies}\n",
    "        except ValueError as e:\n",
    "            # print(f'[NOT OK] format not right')\n",
    "            return {'invalid_replies': replies, 'error_msg': str(e)}\n",
    "        # except AssertionError as e:\n",
    "        #     print('f[NOT OK]: {e}')\n",
    "        #     return {'invalid_replies': replies, 'error_msg': str(e)}\n",
    "\n"
   ]
  },
  {
   "cell_type": "code",
   "execution_count": 17,
   "metadata": {},
   "outputs": [],
   "source": [
    "def extract_valid_replies(res):\n",
    "    return json.loads(res['json_validator']['valid_replies'][0])"
   ]
  },
  {
   "cell_type": "code",
   "execution_count": 18,
   "metadata": {},
   "outputs": [
    {
     "name": "stderr",
     "output_type": "stream",
     "text": [
      "/home/nguyen/anaconda3/envs/torch/lib/python3.12/site-packages/haystack/core/pipeline/pipeline.py:523: RuntimeWarning: Pipeline is stuck running in a loop. Partial outputs will be returned. Check the Pipeline graph for possible issues.\n",
      "  warn(RuntimeWarning(msg))\n"
     ]
    }
   ],
   "source": [
    "template = '''\n",
    "Extract exactly 10 keywords about this company industry from this company description: {{company_description}}. Exclude any company names. Keep the keywords lowercase\n",
    "Only use information given in the company description, Follow this JSON schema, but only return the actual instances without any additional schema definition: {{schema}}.\n",
    "Make sure you response is a dict, not a list\n",
    "{% if invalid_replies and error_message %}\n",
    "  Read the instruction carefully and answer differently from this {{invalid_replies}}\n",
    "  becuase that answer format got this Python exception: {{error_message}}\n",
    "  Fix the above Python exception and return the corrected output without any extra explanations.\n",
    "{% endif %}\n",
    "'''\n",
    "\n",
    "\n",
    "company_pipeline = Pipeline(max_runs_per_component=MAX_COMPONENT_RUN) \n",
    "company_pipeline.add_component(name=\"prompt_builder\", instance=PromptBuilder(template = template))\n",
    "company_pipeline.add_component(name=\"llm\", instance = OllamaGenerator(model=OLLAMA_MODEL, url = 'http://localhost:11434'))\n",
    "company_pipeline.add_component(name=\"json_validator\", instance=OutputValidator(pydantic_model = Answer))\n",
    "company_pipeline.connect(\"prompt_builder\", \"llm\")\n",
    "company_pipeline.connect(\"llm.replies\", \"json_validator\")\n",
    "company_pipeline.connect(\"json_validator.invalid_replies\", 'prompt_builder.invalid_replies')\n",
    "company_pipeline.connect(\"json_validator.error_msg\", 'prompt_builder.error_message')\n",
    "\n",
    "# company_pipeline.show()\n",
    "\n",
    "res = company_pipeline.run({'prompt_builder': {'company_description': company['description'], 'schema': json_schema}})"
   ]
  },
  {
   "cell_type": "code",
   "execution_count": 19,
   "metadata": {},
   "outputs": [
    {
     "name": "stdout",
     "output_type": "stream",
     "text": [
      "{'keywords': ['oil',\n",
      "              'gas',\n",
      "              'emission',\n",
      "              'methane',\n",
      "              'finance',\n",
      "              'investment',\n",
      "              'regulation',\n",
      "              'technology']}\n",
      "<class 'dict'>\n"
     ]
    }
   ],
   "source": [
    "pprint(extract_valid_replies(res))\n",
    "print(type(extract_valid_replies(res)))"
   ]
  },
  {
   "cell_type": "code",
   "execution_count": 20,
   "metadata": {},
   "outputs": [
    {
     "name": "stdout",
     "output_type": "stream",
     "text": [
      "[{'background': 'Co-Founder Orbio Earth GmbH; Ex-ML Engineer NASA Harvest; '\n",
      "                'Ex-Cervest',\n",
      "  'name': 'Robert Huppertz'},\n",
      " {'background': 'Climate optimist building out product and commercial strategy '\n",
      "                '@ Orbio Earth',\n",
      "  'name': 'Jack Angela'}]\n"
     ]
    }
   ],
   "source": [
    "pprint(company['founders'])"
   ]
  },
  {
   "cell_type": "code",
   "execution_count": 21,
   "metadata": {},
   "outputs": [
    {
     "name": "stdout",
     "output_type": "stream",
     "text": [
      "final answer =  {'keywords': ['tech', 'ml', 'nasa', 'startup', 'engineer']}\n"
     ]
    },
    {
     "ename": "PipelineMaxComponentRuns",
     "evalue": "Maximum run count 10 reached for component 'prompt_builder'",
     "output_type": "error",
     "traceback": [
      "\u001b[0;31m---------------------------------------------------------------------------\u001b[0m",
      "\u001b[0;31mPipelineMaxComponentRuns\u001b[0m                  Traceback (most recent call last)",
      "Cell \u001b[0;32mIn[21], line 30\u001b[0m\n\u001b[1;32m     27\u001b[0m founder_pipeline\u001b[38;5;241m.\u001b[39mconnect(\u001b[38;5;124m\"\u001b[39m\u001b[38;5;124mjson_validator.error_msg\u001b[39m\u001b[38;5;124m\"\u001b[39m, \u001b[38;5;124m'\u001b[39m\u001b[38;5;124mprompt_builder.error_message\u001b[39m\u001b[38;5;124m'\u001b[39m)\n\u001b[1;32m     29\u001b[0m \u001b[38;5;28;01mfor\u001b[39;00m founder \u001b[38;5;129;01min\u001b[39;00m company[\u001b[38;5;124m'\u001b[39m\u001b[38;5;124mfounders\u001b[39m\u001b[38;5;124m'\u001b[39m]:\n\u001b[0;32m---> 30\u001b[0m   founder_res \u001b[38;5;241m=\u001b[39m founder_pipeline\u001b[38;5;241m.\u001b[39mrun({\u001b[38;5;124m'\u001b[39m\u001b[38;5;124mprompt_builder\u001b[39m\u001b[38;5;124m'\u001b[39m: {\u001b[38;5;124m'\u001b[39m\u001b[38;5;124mfounder_background\u001b[39m\u001b[38;5;124m'\u001b[39m: founder[\u001b[38;5;124m'\u001b[39m\u001b[38;5;124mbackground\u001b[39m\u001b[38;5;124m'\u001b[39m], \u001b[38;5;124m'\u001b[39m\u001b[38;5;124mschema\u001b[39m\u001b[38;5;124m'\u001b[39m: json_schema}})\n\u001b[1;32m     31\u001b[0m   res \u001b[38;5;241m=\u001b[39m extract_valid_replies(founder_res)\n\u001b[1;32m     32\u001b[0m   \u001b[38;5;28mprint\u001b[39m(\u001b[38;5;124m'\u001b[39m\u001b[38;5;124mfinal answer = \u001b[39m\u001b[38;5;124m'\u001b[39m, res)\n",
      "File \u001b[0;32m~/anaconda3/envs/torch/lib/python3.12/site-packages/haystack/core/pipeline/pipeline.py:443\u001b[0m, in \u001b[0;36mPipeline.run\u001b[0;34m(self, data, include_outputs_from)\u001b[0m\n\u001b[1;32m    437\u001b[0m cycles \u001b[38;5;241m=\u001b[39m components_in_cycles\u001b[38;5;241m.\u001b[39mget(name, [])\n\u001b[1;32m    439\u001b[0m \u001b[38;5;66;03m# This component is part of one or more cycles, let's get the first one and run it.\u001b[39;00m\n\u001b[1;32m    440\u001b[0m \u001b[38;5;66;03m# We can reliably pick any of the cycles if there are multiple ones, the way cycles\u001b[39;00m\n\u001b[1;32m    441\u001b[0m \u001b[38;5;66;03m# are run doesn't make a different whether we pick the first or any of the others a\u001b[39;00m\n\u001b[1;32m    442\u001b[0m \u001b[38;5;66;03m# Component is part of.\u001b[39;00m\n\u001b[0;32m--> 443\u001b[0m subgraph_output, subgraph_extra_output \u001b[38;5;241m=\u001b[39m \u001b[38;5;28mself\u001b[39m\u001b[38;5;241m.\u001b[39m_run_subgraph(\n\u001b[1;32m    444\u001b[0m     cycles[\u001b[38;5;241m0\u001b[39m], name, components_inputs, include_outputs_from\u001b[38;5;241m=\u001b[39minclude_outputs_from, parent_span\u001b[38;5;241m=\u001b[39mspan\n\u001b[1;32m    445\u001b[0m )\n\u001b[1;32m    447\u001b[0m \u001b[38;5;66;03m# After a cycle is run the previous run_queue can't be correct anymore cause it's\u001b[39;00m\n\u001b[1;32m    448\u001b[0m \u001b[38;5;66;03m# not modified when running the subgraph.\u001b[39;00m\n\u001b[1;32m    449\u001b[0m \u001b[38;5;66;03m# So we reset it given the output returned by the subgraph.\u001b[39;00m\n\u001b[1;32m    450\u001b[0m run_queue \u001b[38;5;241m=\u001b[39m []\n",
      "File \u001b[0;32m~/anaconda3/envs/torch/lib/python3.12/site-packages/haystack/core/pipeline/pipeline.py:165\u001b[0m, in \u001b[0;36mPipeline._run_subgraph\u001b[0;34m(self, cycle, component_name, components_inputs, include_outputs_from, parent_span)\u001b[0m\n\u001b[1;32m    163\u001b[0m \u001b[38;5;28;01mif\u001b[39;00m \u001b[38;5;28mself\u001b[39m\u001b[38;5;241m.\u001b[39mgraph\u001b[38;5;241m.\u001b[39mnodes[name][\u001b[38;5;124m\"\u001b[39m\u001b[38;5;124mvisits\u001b[39m\u001b[38;5;124m\"\u001b[39m] \u001b[38;5;241m>\u001b[39m \u001b[38;5;28mself\u001b[39m\u001b[38;5;241m.\u001b[39m_max_runs_per_component:\n\u001b[1;32m    164\u001b[0m     msg \u001b[38;5;241m=\u001b[39m \u001b[38;5;124mf\u001b[39m\u001b[38;5;124m\"\u001b[39m\u001b[38;5;124mMaximum run count \u001b[39m\u001b[38;5;132;01m{\u001b[39;00m\u001b[38;5;28mself\u001b[39m\u001b[38;5;241m.\u001b[39m_max_runs_per_component\u001b[38;5;132;01m}\u001b[39;00m\u001b[38;5;124m reached for component \u001b[39m\u001b[38;5;124m'\u001b[39m\u001b[38;5;132;01m{\u001b[39;00mname\u001b[38;5;132;01m}\u001b[39;00m\u001b[38;5;124m'\u001b[39m\u001b[38;5;124m\"\u001b[39m\n\u001b[0;32m--> 165\u001b[0m     \u001b[38;5;28;01mraise\u001b[39;00m PipelineMaxComponentRuns(msg)\n\u001b[1;32m    167\u001b[0m res: Dict[\u001b[38;5;28mstr\u001b[39m, Any] \u001b[38;5;241m=\u001b[39m \u001b[38;5;28mself\u001b[39m\u001b[38;5;241m.\u001b[39m_run_component(name, components_inputs[name], parent_span\u001b[38;5;241m=\u001b[39mparent_span)\n\u001b[1;32m    169\u001b[0m \u001b[38;5;66;03m# Delete the inputs that were consumed by the Component and are not received from\u001b[39;00m\n\u001b[1;32m    170\u001b[0m \u001b[38;5;66;03m# the user or from Components that are part of this cycle\u001b[39;00m\n",
      "\u001b[0;31mPipelineMaxComponentRuns\u001b[0m: Maximum run count 10 reached for component 'prompt_builder'"
     ]
    }
   ],
   "source": [
    "founder_template = '''\n",
    "from this person background: {{founder_background}} \n",
    "Extract at least 5 most important keywords about this person and put all of it in keywords, \n",
    "Determine if this person is technical or non-technical and add to keywords,\n",
    "If this person has worked in a big company, add company to keywords,\n",
    "if this person has education from ivy league schools, add ivyleague in keywords,  \n",
    "# if this person has founded startups before, add serial founders, \n",
    "Only use information given in the background, Exactly follow this JSON schema: {{schema}}.\n",
    "Only return the actual instances, no extra attributes in the schema is allowed,\n",
    "Keep each keyword short, lowercase, and no extra space or newline,\n",
    "ke sure you response is a dict, not a list\n",
    "{% if invalid_replies and error_message %}\n",
    "  Read the instruction carefully and answer differently from this {{invalid_replies}}\n",
    "  becuase that answer format got this Python exception: {{error_message}}\n",
    "  Fix the above Python exception and return the corrected output without any extra explanations.\n",
    "{% endif %}\n",
    "'''\n",
    "\n",
    "\n",
    "founder_pipeline = Pipeline(max_runs_per_component=MAX_COMPONENT_RUN) \n",
    "founder_pipeline.add_component(name=\"prompt_builder\", instance=PromptBuilder(template = founder_template))\n",
    "founder_pipeline.add_component(name=\"llm\", instance = OllamaGenerator(model=OLLAMA_MODEL, url = 'http://localhost:11434'))\n",
    "founder_pipeline.add_component(name=\"json_validator\", instance=OutputValidator(pydantic_model = Answer))\n",
    "founder_pipeline.connect(\"prompt_builder\", \"llm\")\n",
    "founder_pipeline.connect(\"llm.replies\", \"json_validator\")\n",
    "founder_pipeline.connect(\"json_validator.invalid_replies\", 'prompt_builder.invalid_replies')\n",
    "founder_pipeline.connect(\"json_validator.error_msg\", 'prompt_builder.error_message')\n",
    "\n",
    "for founder in company['founders']:\n",
    "  founder_res = founder_pipeline.run({'prompt_builder': {'founder_background': founder['background'], 'schema': json_schema}})\n",
    "  res = extract_valid_replies(founder_res)\n",
    "  print('final answer = ', res)\n"
   ]
  },
  {
   "cell_type": "code",
   "execution_count": 13,
   "metadata": {},
   "outputs": [],
   "source": [
    "# res = extract_valid_replies(founder_res)\n",
    "# print(res)\n",
    "# print(type(res))"
   ]
  },
  {
   "cell_type": "markdown",
   "metadata": {},
   "source": [
    "# Run the pipeline and add to final dataset"
   ]
  },
  {
   "cell_type": "code",
   "execution_count": 23,
   "metadata": {},
   "outputs": [],
   "source": [
    "def extract_company_founders_keywords(datapoint, company_pipeline, founder_pipeline, self_correct_iter = 5):\n",
    "    newdata = copy.deepcopy(datapoint)\n",
    "\n",
    "    for iter in range(1, self_correct_iter + 1):\n",
    "        try:\n",
    "\n",
    "            company_keywords_res = company_pipeline.run(\n",
    "                {'prompt_builder': \n",
    "                    {\n",
    "                        'company_description': newdata['description'], \n",
    "                        'schema': json_schema}\n",
    "                    })\n",
    "                \n",
    "            company_keywords = extract_valid_replies(company_keywords_res)\n",
    "\n",
    "            founders = newdata['founders']\n",
    "            founder_keywords = set()\n",
    "\n",
    "            for founder in founders:\n",
    "                founder_keywords_res = founder_pipeline.run(\n",
    "                    {'prompt_builder': \n",
    "                        {\n",
    "                            'founder_background': founder['background'], \n",
    "                            'schema': json_schema}\n",
    "                        }\n",
    "                    )\n",
    "                founder_keywords.update(extract_valid_replies(founder_keywords_res)['keywords'])\n",
    "            \n",
    "            newdata['company_keywords'] = company_keywords\n",
    "            newdata['founder_keywords'] = list(founder_keywords)\n",
    "            return newdata \n",
    "        except Exception as e:\n",
    "            print(f'iter {iter} failed, trying again {iter}/{self_correct_iter}, {e}')\n",
    "    \n",
    "    raise AssertionError(f\"failed {self_correct_iter} to validate output format\")"
   ]
  },
  {
   "cell_type": "code",
   "execution_count": 24,
   "metadata": {},
   "outputs": [
    {
     "name": "stderr",
     "output_type": "stream",
     "text": [
      "  0%|          | 0/3096 [00:00<?, ?it/s]/home/nguyen/anaconda3/envs/torch/lib/python3.12/site-packages/haystack/core/pipeline/pipeline.py:523: RuntimeWarning: Pipeline is stuck running in a loop. Partial outputs will be returned. Check the Pipeline graph for possible issues.\n",
      "  warn(RuntimeWarning(msg))\n",
      "error data = 0, error_rate = 0.00:   0%|          | 3/3096 [00:06<1:56:11,  2.25s/it]"
     ]
    },
    {
     "name": "stdout",
     "output_type": "stream",
     "text": [
      "Maximum run count 10 reached for component 'prompt_builder'\n",
      "iter 0 failed, trying again 0/5\n"
     ]
    },
    {
     "name": "stderr",
     "output_type": "stream",
     "text": [
      "error data = 0, error_rate = 0.00:   0%|          | 7/3096 [00:27<2:55:05,  3.40s/it]"
     ]
    },
    {
     "name": "stdout",
     "output_type": "stream",
     "text": [
      "Maximum run count 10 reached for component 'prompt_builder'\n",
      "iter 0 failed, trying again 0/5\n",
      "Maximum run count 10 reached for component 'prompt_builder'\n",
      "iter 1 failed, trying again 1/5\n"
     ]
    },
    {
     "name": "stderr",
     "output_type": "stream",
     "text": [
      "error data = 0, error_rate = 0.00:   0%|          | 14/3096 [01:09<3:11:07,  3.72s/it]"
     ]
    },
    {
     "name": "stdout",
     "output_type": "stream",
     "text": [
      "Maximum run count 10 reached for component 'prompt_builder'\n",
      "iter 0 failed, trying again 0/5\n",
      "Maximum run count 10 reached for component 'prompt_builder'\n",
      "iter 1 failed, trying again 1/5\n",
      "Maximum run count 10 reached for component 'prompt_builder'\n",
      "iter 2 failed, trying again 2/5\n",
      "Maximum run count 10 reached for component 'prompt_builder'\n",
      "iter 3 failed, trying again 3/5\n"
     ]
    },
    {
     "name": "stderr",
     "output_type": "stream",
     "text": [
      "error data = 1, error_rate = 7.14:   0%|          | 15/3096 [01:43<11:13:45, 13.12s/it]"
     ]
    },
    {
     "name": "stdout",
     "output_type": "stream",
     "text": [
      "Maximum run count 10 reached for component 'prompt_builder'\n",
      "iter 4 failed, trying again 4/5\n",
      "Maximum run count 10 reached for component 'prompt_builder'\n",
      "iter 0 failed, trying again 0/5\n"
     ]
    },
    {
     "name": "stderr",
     "output_type": "stream",
     "text": [
      "error data = 1, error_rate = 5.26:   1%|          | 20/3096 [02:05<4:04:41,  4.77s/it] "
     ]
    },
    {
     "name": "stdout",
     "output_type": "stream",
     "text": [
      "Maximum run count 10 reached for component 'prompt_builder'\n",
      "iter 0 failed, trying again 0/5\n"
     ]
    },
    {
     "name": "stderr",
     "output_type": "stream",
     "text": [
      "error data = 1, error_rate = 3.57:   1%|          | 29/3096 [02:48<4:04:22,  4.78s/it]"
     ]
    },
    {
     "name": "stdout",
     "output_type": "stream",
     "text": [
      "Maximum run count 10 reached for component 'prompt_builder'\n",
      "iter 0 failed, trying again 0/5\n"
     ]
    },
    {
     "name": "stderr",
     "output_type": "stream",
     "text": [
      "error data = 1, error_rate = 2.94:   1%|          | 35/3096 [03:11<2:46:03,  3.26s/it]"
     ]
    },
    {
     "name": "stdout",
     "output_type": "stream",
     "text": [
      "Maximum run count 10 reached for component 'prompt_builder'\n",
      "iter 0 failed, trying again 0/5\n"
     ]
    },
    {
     "name": "stderr",
     "output_type": "stream",
     "text": [
      "error data = 1, error_rate = 2.44:   1%|▏         | 42/3096 [03:39<2:25:07,  2.85s/it]"
     ]
    },
    {
     "name": "stdout",
     "output_type": "stream",
     "text": [
      "Maximum run count 10 reached for component 'prompt_builder'\n",
      "iter 0 failed, trying again 0/5\n"
     ]
    },
    {
     "name": "stderr",
     "output_type": "stream",
     "text": [
      "error data = 1, error_rate = 2.38:   1%|▏         | 43/3096 [03:50<4:23:09,  5.17s/it]"
     ]
    },
    {
     "name": "stdout",
     "output_type": "stream",
     "text": [
      "Maximum run count 10 reached for component 'prompt_builder'\n",
      "iter 0 failed, trying again 0/5\n"
     ]
    },
    {
     "name": "stderr",
     "output_type": "stream",
     "text": [
      "error data = 1, error_rate = 2.13:   2%|▏         | 48/3096 [04:13<3:51:26,  4.56s/it]"
     ]
    },
    {
     "name": "stdout",
     "output_type": "stream",
     "text": [
      "Maximum run count 10 reached for component 'prompt_builder'\n",
      "iter 0 failed, trying again 0/5\n"
     ]
    },
    {
     "name": "stderr",
     "output_type": "stream",
     "text": [
      "error data = 1, error_rate = 1.96:   2%|▏         | 52/3096 [04:37<3:24:53,  4.04s/it]"
     ]
    },
    {
     "name": "stdout",
     "output_type": "stream",
     "text": [
      "Maximum run count 10 reached for component 'prompt_builder'\n",
      "iter 0 failed, trying again 0/5\n",
      "Maximum run count 10 reached for component 'prompt_builder'\n",
      "iter 1 failed, trying again 1/5\n",
      "Maximum run count 10 reached for component 'prompt_builder'\n",
      "iter 2 failed, trying again 2/5\n",
      "Maximum run count 10 reached for component 'prompt_builder'\n",
      "iter 3 failed, trying again 3/5\n"
     ]
    },
    {
     "name": "stderr",
     "output_type": "stream",
     "text": [
      "error data = 1, error_rate = 1.92:   2%|▏         | 53/3096 [05:14<11:44:22, 13.89s/it]"
     ]
    },
    {
     "name": "stdout",
     "output_type": "stream",
     "text": [
      "Maximum run count 10 reached for component 'prompt_builder'\n",
      "iter 0 failed, trying again 0/5\n"
     ]
    },
    {
     "name": "stderr",
     "output_type": "stream",
     "text": [
      "error data = 1, error_rate = 1.85:   2%|▏         | 55/3096 [05:31<9:09:43, 10.85s/it] "
     ]
    },
    {
     "name": "stdout",
     "output_type": "stream",
     "text": [
      "Maximum run count 10 reached for component 'prompt_builder'\n",
      "iter 0 failed, trying again 0/5\n"
     ]
    },
    {
     "name": "stderr",
     "output_type": "stream",
     "text": [
      "error data = 1, error_rate = 1.69:   2%|▏         | 60/3096 [05:50<4:22:03,  5.18s/it]"
     ]
    },
    {
     "name": "stdout",
     "output_type": "stream",
     "text": [
      "Maximum run count 10 reached for component 'prompt_builder'\n",
      "iter 0 failed, trying again 0/5\n",
      "Maximum run count 10 reached for component 'prompt_builder'\n",
      "iter 1 failed, trying again 1/5\n",
      "Maximum run count 10 reached for component 'prompt_builder'\n",
      "iter 2 failed, trying again 2/5\n",
      "Maximum run count 10 reached for component 'prompt_builder'\n",
      "iter 3 failed, trying again 3/5\n"
     ]
    },
    {
     "name": "stderr",
     "output_type": "stream",
     "text": [
      "error data = 2, error_rate = 3.39:   2%|▏         | 61/3096 [06:27<12:26:42, 14.76s/it]"
     ]
    },
    {
     "name": "stdout",
     "output_type": "stream",
     "text": [
      "Maximum run count 10 reached for component 'prompt_builder'\n",
      "iter 4 failed, trying again 4/5\n"
     ]
    },
    {
     "name": "stderr",
     "output_type": "stream",
     "text": [
      "error data = 2, error_rate = 3.28:   2%|▏         | 63/3096 [06:32<6:58:38,  8.28s/it] "
     ]
    },
    {
     "name": "stdout",
     "output_type": "stream",
     "text": [
      "Maximum run count 10 reached for component 'prompt_builder'\n",
      "iter 0 failed, trying again 0/5\n"
     ]
    },
    {
     "name": "stderr",
     "output_type": "stream",
     "text": [
      "error data = 2, error_rate = 3.23:   2%|▏         | 64/3096 [06:41<7:20:39,  8.72s/it]"
     ]
    },
    {
     "name": "stdout",
     "output_type": "stream",
     "text": [
      "Maximum run count 10 reached for component 'prompt_builder'\n",
      "iter 0 failed, trying again 0/5\n"
     ]
    },
    {
     "name": "stderr",
     "output_type": "stream",
     "text": [
      "error data = 2, error_rate = 3.12:   2%|▏         | 66/3096 [06:59<7:36:32,  9.04s/it]"
     ]
    },
    {
     "name": "stdout",
     "output_type": "stream",
     "text": [
      "Maximum run count 10 reached for component 'prompt_builder'\n",
      "iter 0 failed, trying again 0/5\n",
      "Maximum run count 10 reached for component 'prompt_builder'\n",
      "iter 1 failed, trying again 1/5\n"
     ]
    },
    {
     "name": "stderr",
     "output_type": "stream",
     "text": [
      "error data = 2, error_rate = 2.94:   2%|▏         | 70/3096 [07:30<5:43:52,  6.82s/it]"
     ]
    },
    {
     "name": "stdout",
     "output_type": "stream",
     "text": [
      "Maximum run count 10 reached for component 'prompt_builder'\n",
      "iter 0 failed, trying again 0/5\n"
     ]
    },
    {
     "name": "stderr",
     "output_type": "stream",
     "text": [
      "error data = 2, error_rate = 2.20:   3%|▎         | 93/3096 [08:41<2:47:58,  3.36s/it]"
     ]
    },
    {
     "name": "stdout",
     "output_type": "stream",
     "text": [
      "Maximum run count 10 reached for component 'prompt_builder'\n",
      "iter 0 failed, trying again 0/5\n",
      "Maximum run count 10 reached for component 'prompt_builder'\n",
      "iter 1 failed, trying again 1/5\n"
     ]
    },
    {
     "name": "stderr",
     "output_type": "stream",
     "text": [
      "error data = 2, error_rate = 2.17:   3%|▎         | 94/3096 [08:54<5:06:07,  6.12s/it]"
     ]
    },
    {
     "name": "stdout",
     "output_type": "stream",
     "text": [
      "Maximum run count 10 reached for component 'prompt_builder'\n",
      "iter 0 failed, trying again 0/5\n"
     ]
    },
    {
     "name": "stderr",
     "output_type": "stream",
     "text": [
      "error data = 2, error_rate = 2.13:   3%|▎         | 96/3096 [09:06<4:55:35,  5.91s/it]"
     ]
    },
    {
     "name": "stdout",
     "output_type": "stream",
     "text": [
      "Maximum run count 10 reached for component 'prompt_builder'\n",
      "iter 0 failed, trying again 0/5\n"
     ]
    },
    {
     "name": "stderr",
     "output_type": "stream",
     "text": [
      "error data = 2, error_rate = 2.11:   3%|▎         | 97/3096 [09:15<5:29:55,  6.60s/it]"
     ]
    },
    {
     "name": "stdout",
     "output_type": "stream",
     "text": [
      "Maximum run count 10 reached for component 'prompt_builder'\n",
      "iter 0 failed, trying again 0/5\n"
     ]
    },
    {
     "name": "stderr",
     "output_type": "stream",
     "text": [
      "error data = 2, error_rate = 2.02:   3%|▎         | 101/3096 [09:30<3:11:18,  3.83s/it]"
     ]
    },
    {
     "name": "stdout",
     "output_type": "stream",
     "text": [
      "Maximum run count 10 reached for component 'prompt_builder'\n",
      "iter 0 failed, trying again 0/5\n"
     ]
    },
    {
     "name": "stderr",
     "output_type": "stream",
     "text": [
      "error data = 2, error_rate = 2.00:   3%|▎         | 102/3096 [09:45<5:54:39,  7.11s/it]"
     ]
    },
    {
     "name": "stdout",
     "output_type": "stream",
     "text": [
      "Maximum run count 10 reached for component 'prompt_builder'\n",
      "iter 0 failed, trying again 0/5\n",
      "Maximum run count 10 reached for component 'prompt_builder'\n",
      "iter 1 failed, trying again 1/5\n"
     ]
    },
    {
     "name": "stderr",
     "output_type": "stream",
     "text": [
      "error data = 2, error_rate = 1.94:   3%|▎         | 105/3096 [10:13<6:15:08,  7.53s/it]"
     ]
    },
    {
     "name": "stdout",
     "output_type": "stream",
     "text": [
      "Maximum run count 10 reached for component 'prompt_builder'\n",
      "iter 0 failed, trying again 0/5\n",
      "Maximum run count 10 reached for component 'prompt_builder'\n",
      "iter 1 failed, trying again 1/5\n"
     ]
    },
    {
     "name": "stderr",
     "output_type": "stream",
     "text": [
      "error data = 2, error_rate = 1.92:   3%|▎         | 106/3096 [10:31<8:54:11, 10.72s/it]"
     ]
    },
    {
     "name": "stdout",
     "output_type": "stream",
     "text": [
      "Maximum run count 10 reached for component 'prompt_builder'\n",
      "iter 0 failed, trying again 0/5\n",
      "Maximum run count 10 reached for component 'prompt_builder'\n",
      "iter 1 failed, trying again 1/5\n",
      "Maximum run count 10 reached for component 'prompt_builder'\n",
      "iter 2 failed, trying again 2/5\n"
     ]
    },
    {
     "name": "stderr",
     "output_type": "stream",
     "text": [
      "error data = 2, error_rate = 1.90:   3%|▎         | 107/3096 [10:57<12:38:31, 15.23s/it]"
     ]
    },
    {
     "name": "stdout",
     "output_type": "stream",
     "text": [
      "Maximum run count 10 reached for component 'prompt_builder'\n",
      "iter 0 failed, trying again 0/5\n"
     ]
    },
    {
     "name": "stderr",
     "output_type": "stream",
     "text": [
      "error data = 2, error_rate = 1.89:   3%|▎         | 108/3096 [11:06<11:02:01, 13.29s/it]"
     ]
    },
    {
     "name": "stdout",
     "output_type": "stream",
     "text": [
      "Maximum run count 10 reached for component 'prompt_builder'\n",
      "iter 0 failed, trying again 0/5\n"
     ]
    },
    {
     "name": "stderr",
     "output_type": "stream",
     "text": [
      "error data = 2, error_rate = 1.87:   4%|▎         | 109/3096 [11:15<10:02:14, 12.10s/it]"
     ]
    },
    {
     "name": "stdout",
     "output_type": "stream",
     "text": [
      "Maximum run count 10 reached for component 'prompt_builder'\n",
      "iter 0 failed, trying again 0/5\n"
     ]
    },
    {
     "name": "stderr",
     "output_type": "stream",
     "text": [
      "error data = 2, error_rate = 1.85:   4%|▎         | 110/3096 [11:25<9:27:40, 11.41s/it] "
     ]
    },
    {
     "name": "stdout",
     "output_type": "stream",
     "text": [
      "Maximum run count 10 reached for component 'prompt_builder'\n",
      "iter 0 failed, trying again 0/5\n",
      "Maximum run count 10 reached for component 'prompt_builder'\n",
      "iter 1 failed, trying again 1/5\n",
      "Maximum run count 10 reached for component 'prompt_builder'\n",
      "iter 2 failed, trying again 2/5\n",
      "Maximum run count 10 reached for component 'prompt_builder'\n",
      "iter 3 failed, trying again 3/5\n"
     ]
    },
    {
     "name": "stderr",
     "output_type": "stream",
     "text": [
      "error data = 3, error_rate = 2.78:   4%|▎         | 111/3096 [11:54<13:51:38, 16.72s/it]"
     ]
    },
    {
     "name": "stdout",
     "output_type": "stream",
     "text": [
      "Maximum run count 10 reached for component 'prompt_builder'\n",
      "iter 4 failed, trying again 4/5\n"
     ]
    },
    {
     "name": "stderr",
     "output_type": "stream",
     "text": [
      "error data = 3, error_rate = 2.73:   4%|▎         | 113/3096 [11:59<7:58:12,  9.62s/it] "
     ]
    },
    {
     "name": "stdout",
     "output_type": "stream",
     "text": [
      "Maximum run count 10 reached for component 'prompt_builder'\n",
      "iter 0 failed, trying again 0/5\n"
     ]
    },
    {
     "name": "stderr",
     "output_type": "stream",
     "text": [
      "error data = 3, error_rate = 2.63:   4%|▍         | 117/3096 [12:28<5:50:51,  7.07s/it]"
     ]
    },
    {
     "name": "stdout",
     "output_type": "stream",
     "text": [
      "Maximum run count 10 reached for component 'prompt_builder'\n",
      "iter 0 failed, trying again 0/5\n",
      "Maximum run count 10 reached for component 'prompt_builder'\n",
      "iter 1 failed, trying again 1/5\n",
      "Maximum run count 10 reached for component 'prompt_builder'\n",
      "iter 2 failed, trying again 2/5\n",
      "Maximum run count 10 reached for component 'prompt_builder'\n",
      "iter 3 failed, trying again 3/5\n"
     ]
    },
    {
     "name": "stderr",
     "output_type": "stream",
     "text": [
      "error data = 4, error_rate = 3.51:   4%|▍         | 118/3096 [13:03<12:41:26, 15.34s/it]"
     ]
    },
    {
     "name": "stdout",
     "output_type": "stream",
     "text": [
      "Maximum run count 10 reached for component 'prompt_builder'\n",
      "iter 4 failed, trying again 4/5\n",
      "Maximum run count 10 reached for component 'prompt_builder'\n",
      "iter 0 failed, trying again 0/5\n",
      "Maximum run count 10 reached for component 'prompt_builder'\n",
      "iter 1 failed, trying again 1/5\n",
      "Maximum run count 10 reached for component 'prompt_builder'\n",
      "iter 2 failed, trying again 2/5\n",
      "Maximum run count 10 reached for component 'prompt_builder'\n",
      "iter 3 failed, trying again 3/5\n"
     ]
    },
    {
     "name": "stderr",
     "output_type": "stream",
     "text": [
      "error data = 5, error_rate = 4.39:   4%|▍         | 119/3096 [13:32<16:13:02, 19.61s/it]"
     ]
    },
    {
     "name": "stdout",
     "output_type": "stream",
     "text": [
      "Maximum run count 10 reached for component 'prompt_builder'\n",
      "iter 4 failed, trying again 4/5\n",
      "Maximum run count 10 reached for component 'prompt_builder'\n",
      "iter 0 failed, trying again 0/5\n"
     ]
    },
    {
     "name": "stderr",
     "output_type": "stream",
     "text": [
      "error data = 5, error_rate = 4.31:   4%|▍         | 121/3096 [13:43<9:54:42, 11.99s/it] "
     ]
    },
    {
     "name": "stdout",
     "output_type": "stream",
     "text": [
      "Maximum run count 10 reached for component 'prompt_builder'\n",
      "iter 0 failed, trying again 0/5\n",
      "Maximum run count 10 reached for component 'prompt_builder'\n",
      "iter 1 failed, trying again 1/5\n",
      "Maximum run count 10 reached for component 'prompt_builder'\n",
      "iter 2 failed, trying again 2/5\n",
      "Maximum run count 10 reached for component 'prompt_builder'\n",
      "iter 3 failed, trying again 3/5\n"
     ]
    },
    {
     "name": "stderr",
     "output_type": "stream",
     "text": [
      "error data = 6, error_rate = 5.17:   4%|▍         | 122/3096 [14:13<14:20:05, 17.35s/it]"
     ]
    },
    {
     "name": "stdout",
     "output_type": "stream",
     "text": [
      "Maximum run count 10 reached for component 'prompt_builder'\n",
      "iter 4 failed, trying again 4/5\n"
     ]
    },
    {
     "name": "stderr",
     "output_type": "stream",
     "text": [
      "error data = 6, error_rate = 4.84:   4%|▍         | 130/3096 [14:34<3:05:57,  3.76s/it] "
     ]
    },
    {
     "name": "stdout",
     "output_type": "stream",
     "text": [
      "Maximum run count 10 reached for component 'prompt_builder'\n",
      "iter 0 failed, trying again 0/5\n"
     ]
    },
    {
     "name": "stderr",
     "output_type": "stream",
     "text": [
      "error data = 6, error_rate = 4.76:   4%|▍         | 132/3096 [14:45<3:37:13,  4.40s/it]"
     ]
    },
    {
     "name": "stdout",
     "output_type": "stream",
     "text": [
      "Maximum run count 10 reached for component 'prompt_builder'\n",
      "iter 0 failed, trying again 0/5\n"
     ]
    },
    {
     "name": "stderr",
     "output_type": "stream",
     "text": [
      "error data = 6, error_rate = 4.41:   5%|▍         | 142/3096 [15:13<1:37:50,  1.99s/it]"
     ]
    },
    {
     "name": "stdout",
     "output_type": "stream",
     "text": [
      "Maximum run count 10 reached for component 'prompt_builder'\n",
      "iter 0 failed, trying again 0/5\n",
      "Maximum run count 10 reached for component 'prompt_builder'\n",
      "iter 1 failed, trying again 1/5\n",
      "Maximum run count 10 reached for component 'prompt_builder'\n",
      "iter 2 failed, trying again 2/5\n",
      "Maximum run count 10 reached for component 'prompt_builder'\n",
      "iter 3 failed, trying again 3/5\n"
     ]
    },
    {
     "name": "stderr",
     "output_type": "stream",
     "text": [
      "error data = 6, error_rate = 4.08:   5%|▍         | 153/3096 [16:07<2:15:34,  2.76s/it]"
     ]
    },
    {
     "name": "stdout",
     "output_type": "stream",
     "text": [
      "Maximum run count 10 reached for component 'prompt_builder'\n",
      "iter 0 failed, trying again 0/5\n"
     ]
    },
    {
     "name": "stderr",
     "output_type": "stream",
     "text": [
      "error data = 6, error_rate = 3.95:   5%|▌         | 158/3096 [16:24<2:03:20,  2.52s/it]"
     ]
    },
    {
     "name": "stdout",
     "output_type": "stream",
     "text": [
      "Maximum run count 10 reached for component 'prompt_builder'\n",
      "iter 0 failed, trying again 0/5\n"
     ]
    },
    {
     "name": "stderr",
     "output_type": "stream",
     "text": [
      "error data = 6, error_rate = 3.68:   5%|▌         | 169/3096 [17:20<2:59:18,  3.68s/it]"
     ]
    },
    {
     "name": "stdout",
     "output_type": "stream",
     "text": [
      "Maximum run count 10 reached for component 'prompt_builder'\n",
      "iter 0 failed, trying again 0/5\n"
     ]
    },
    {
     "name": "stderr",
     "output_type": "stream",
     "text": [
      "error data = 6, error_rate = 3.64:   6%|▌         | 171/3096 [17:31<3:18:44,  4.08s/it]"
     ]
    },
    {
     "name": "stdout",
     "output_type": "stream",
     "text": [
      "Maximum run count 10 reached for component 'prompt_builder'\n",
      "iter 0 failed, trying again 0/5\n"
     ]
    },
    {
     "name": "stderr",
     "output_type": "stream",
     "text": [
      "error data = 6, error_rate = 3.61:   6%|▌         | 172/3096 [17:46<6:03:50,  7.47s/it]"
     ]
    },
    {
     "name": "stdout",
     "output_type": "stream",
     "text": [
      "Maximum run count 10 reached for component 'prompt_builder'\n",
      "iter 0 failed, trying again 0/5\n"
     ]
    },
    {
     "name": "stderr",
     "output_type": "stream",
     "text": [
      "error data = 6, error_rate = 3.55:   6%|▌         | 175/3096 [18:04<4:41:22,  5.78s/it]"
     ]
    },
    {
     "name": "stdout",
     "output_type": "stream",
     "text": [
      "Maximum run count 10 reached for component 'prompt_builder'\n",
      "iter 0 failed, trying again 0/5\n"
     ]
    },
    {
     "name": "stderr",
     "output_type": "stream",
     "text": [
      "error data = 6, error_rate = 3.41:   6%|▌         | 182/3096 [18:32<2:49:36,  3.49s/it]"
     ]
    },
    {
     "name": "stdout",
     "output_type": "stream",
     "text": [
      "Maximum run count 10 reached for component 'prompt_builder'\n",
      "iter 0 failed, trying again 0/5\n",
      "Maximum run count 10 reached for component 'prompt_builder'\n",
      "iter 1 failed, trying again 1/5\n",
      "Maximum run count 10 reached for component 'prompt_builder'\n",
      "iter 2 failed, trying again 2/5\n",
      "Maximum run count 10 reached for component 'prompt_builder'\n",
      "iter 3 failed, trying again 3/5\n"
     ]
    },
    {
     "name": "stderr",
     "output_type": "stream",
     "text": [
      "error data = 6, error_rate = 3.39:   6%|▌         | 183/3096 [19:05<9:51:47, 12.19s/it]"
     ]
    },
    {
     "name": "stdout",
     "output_type": "stream",
     "text": [
      "Maximum run count 10 reached for component 'prompt_builder'\n",
      "iter 0 failed, trying again 0/5\n",
      "Maximum run count 10 reached for component 'prompt_builder'\n",
      "iter 1 failed, trying again 1/5\n"
     ]
    },
    {
     "name": "stderr",
     "output_type": "stream",
     "text": [
      "error data = 6, error_rate = 3.37:   6%|▌         | 184/3096 [19:21<10:48:00, 13.35s/it]"
     ]
    },
    {
     "name": "stdout",
     "output_type": "stream",
     "text": [
      "Maximum run count 10 reached for component 'prompt_builder'\n",
      "iter 0 failed, trying again 0/5\n"
     ]
    },
    {
     "name": "stderr",
     "output_type": "stream",
     "text": [
      "error data = 6, error_rate = 3.31:   6%|▌         | 187/3096 [19:40<6:56:00,  8.58s/it] "
     ]
    },
    {
     "name": "stdout",
     "output_type": "stream",
     "text": [
      "Maximum run count 10 reached for component 'prompt_builder'\n",
      "iter 0 failed, trying again 0/5\n"
     ]
    },
    {
     "name": "stderr",
     "output_type": "stream",
     "text": [
      "error data = 6, error_rate = 3.16:   6%|▋         | 196/3096 [20:17<2:32:03,  3.15s/it]"
     ]
    },
    {
     "name": "stdout",
     "output_type": "stream",
     "text": [
      "Maximum run count 10 reached for component 'prompt_builder'\n",
      "iter 0 failed, trying again 0/5\n",
      "Maximum run count 10 reached for component 'prompt_builder'\n",
      "iter 1 failed, trying again 1/5\n"
     ]
    },
    {
     "name": "stderr",
     "output_type": "stream",
     "text": [
      "error data = 6, error_rate = 3.14:   6%|▋         | 197/3096 [20:31<5:08:24,  6.38s/it]"
     ]
    },
    {
     "name": "stdout",
     "output_type": "stream",
     "text": [
      "Maximum run count 10 reached for component 'prompt_builder'\n",
      "iter 0 failed, trying again 0/5\n"
     ]
    },
    {
     "name": "stderr",
     "output_type": "stream",
     "text": [
      "error data = 6, error_rate = 3.08:   6%|▋         | 201/3096 [20:48<3:27:49,  4.31s/it]"
     ]
    },
    {
     "name": "stdout",
     "output_type": "stream",
     "text": [
      "Maximum run count 10 reached for component 'prompt_builder'\n",
      "iter 0 failed, trying again 0/5\n"
     ]
    },
    {
     "name": "stderr",
     "output_type": "stream",
     "text": [
      "error data = 6, error_rate = 3.05:   7%|▋         | 203/3096 [21:02<4:11:40,  5.22s/it]"
     ]
    },
    {
     "name": "stdout",
     "output_type": "stream",
     "text": [
      "Maximum run count 10 reached for component 'prompt_builder'\n",
      "iter 0 failed, trying again 0/5\n",
      "Maximum run count 10 reached for component 'prompt_builder'\n",
      "iter 1 failed, trying again 1/5\n",
      "Maximum run count 10 reached for component 'prompt_builder'\n",
      "iter 2 failed, trying again 2/5\n",
      "Maximum run count 10 reached for component 'prompt_builder'\n",
      "iter 3 failed, trying again 3/5\n"
     ]
    },
    {
     "name": "stderr",
     "output_type": "stream",
     "text": [
      "error data = 7, error_rate = 3.55:   7%|▋         | 204/3096 [21:44<12:53:48, 16.05s/it]"
     ]
    },
    {
     "name": "stdout",
     "output_type": "stream",
     "text": [
      "Maximum run count 10 reached for component 'prompt_builder'\n",
      "iter 4 failed, trying again 4/5\n"
     ]
    },
    {
     "name": "stderr",
     "output_type": "stream",
     "text": [
      "error data = 7, error_rate = 3.47:   7%|▋         | 209/3096 [21:54<3:31:25,  4.39s/it] "
     ]
    },
    {
     "name": "stdout",
     "output_type": "stream",
     "text": [
      "Maximum run count 10 reached for component 'prompt_builder'\n",
      "iter 0 failed, trying again 0/5\n"
     ]
    },
    {
     "name": "stderr",
     "output_type": "stream",
     "text": [
      "error data = 7, error_rate = 3.40:   7%|▋         | 213/3096 [22:12<3:09:54,  3.95s/it]"
     ]
    },
    {
     "name": "stdout",
     "output_type": "stream",
     "text": [
      "Maximum run count 10 reached for component 'prompt_builder'\n",
      "iter 0 failed, trying again 0/5\n"
     ]
    },
    {
     "name": "stderr",
     "output_type": "stream",
     "text": [
      "error data = 7, error_rate = 3.29:   7%|▋         | 220/3096 [22:34<2:09:52,  2.71s/it]"
     ]
    },
    {
     "name": "stdout",
     "output_type": "stream",
     "text": [
      "Maximum run count 10 reached for component 'prompt_builder'\n",
      "iter 0 failed, trying again 0/5\n",
      "Maximum run count 10 reached for component 'prompt_builder'\n",
      "iter 1 failed, trying again 1/5\n",
      "Maximum run count 10 reached for component 'prompt_builder'\n",
      "iter 2 failed, trying again 2/5\n"
     ]
    },
    {
     "name": "stderr",
     "output_type": "stream",
     "text": [
      "error data = 7, error_rate = 3.18:   7%|▋         | 227/3096 [23:10<1:45:02,  2.20s/it]"
     ]
    },
    {
     "name": "stdout",
     "output_type": "stream",
     "text": [
      "Maximum run count 10 reached for component 'prompt_builder'\n",
      "iter 0 failed, trying again 0/5\n"
     ]
    },
    {
     "name": "stderr",
     "output_type": "stream",
     "text": [
      "error data = 7, error_rate = 3.07:   8%|▊         | 235/3096 [23:32<1:06:17,  1.39s/it]"
     ]
    },
    {
     "name": "stdout",
     "output_type": "stream",
     "text": [
      "Maximum run count 10 reached for component 'prompt_builder'\n",
      "iter 0 failed, trying again 0/5\n",
      "Maximum run count 10 reached for component 'prompt_builder'\n",
      "iter 1 failed, trying again 1/5\n",
      "Maximum run count 10 reached for component 'prompt_builder'\n",
      "iter 2 failed, trying again 2/5\n",
      "Maximum run count 10 reached for component 'prompt_builder'\n",
      "iter 3 failed, trying again 3/5\n"
     ]
    },
    {
     "name": "stderr",
     "output_type": "stream",
     "text": [
      "error data = 7, error_rate = 3.04:   8%|▊         | 237/3096 [24:15<7:53:56,  9.95s/it] "
     ]
    },
    {
     "name": "stdout",
     "output_type": "stream",
     "text": [
      "Maximum run count 10 reached for component 'prompt_builder'\n",
      "iter 0 failed, trying again 0/5\n"
     ]
    },
    {
     "name": "stderr",
     "output_type": "stream",
     "text": [
      "error data = 7, error_rate = 2.98:   8%|▊         | 242/3096 [24:45<4:22:31,  5.52s/it] "
     ]
    },
    {
     "name": "stdout",
     "output_type": "stream",
     "text": [
      "Maximum run count 10 reached for component 'prompt_builder'\n",
      "iter 0 failed, trying again 0/5\n"
     ]
    },
    {
     "name": "stderr",
     "output_type": "stream",
     "text": [
      "error data = 7, error_rate = 2.94:   8%|▊         | 245/3096 [25:03<3:57:00,  4.99s/it]"
     ]
    },
    {
     "name": "stdout",
     "output_type": "stream",
     "text": [
      "Maximum run count 10 reached for component 'prompt_builder'\n",
      "iter 0 failed, trying again 0/5\n"
     ]
    },
    {
     "name": "stderr",
     "output_type": "stream",
     "text": [
      "error data = 7, error_rate = 2.89:   8%|▊         | 249/3096 [25:23<3:22:16,  4.26s/it]"
     ]
    },
    {
     "name": "stdout",
     "output_type": "stream",
     "text": [
      "Maximum run count 10 reached for component 'prompt_builder'\n",
      "iter 0 failed, trying again 0/5\n"
     ]
    },
    {
     "name": "stderr",
     "output_type": "stream",
     "text": [
      "error data = 7, error_rate = 2.83:   8%|▊         | 254/3096 [25:42<2:16:26,  2.88s/it]"
     ]
    },
    {
     "name": "stdout",
     "output_type": "stream",
     "text": [
      "Maximum run count 10 reached for component 'prompt_builder'\n",
      "iter 0 failed, trying again 0/5\n",
      "Maximum run count 10 reached for component 'prompt_builder'\n",
      "iter 1 failed, trying again 1/5\n",
      "Maximum run count 10 reached for component 'prompt_builder'\n",
      "iter 2 failed, trying again 2/5\n"
     ]
    },
    {
     "name": "stderr",
     "output_type": "stream",
     "text": [
      "error data = 7, error_rate = 2.76:   8%|▊         | 261/3096 [26:17<2:30:29,  3.18s/it]"
     ]
    },
    {
     "name": "stdout",
     "output_type": "stream",
     "text": [
      "Maximum run count 10 reached for component 'prompt_builder'\n",
      "iter 0 failed, trying again 0/5\n",
      "Maximum run count 10 reached for component 'prompt_builder'\n",
      "iter 1 failed, trying again 1/5\n"
     ]
    },
    {
     "name": "stderr",
     "output_type": "stream",
     "text": [
      "error data = 7, error_rate = 2.70:   9%|▊         | 266/3096 [26:54<3:12:31,  4.08s/it]"
     ]
    },
    {
     "name": "stdout",
     "output_type": "stream",
     "text": [
      "Maximum run count 10 reached for component 'prompt_builder'\n",
      "iter 0 failed, trying again 0/5\n",
      "Maximum run count 10 reached for component 'prompt_builder'\n",
      "iter 1 failed, trying again 1/5\n"
     ]
    },
    {
     "name": "stderr",
     "output_type": "stream",
     "text": [
      "error data = 7, error_rate = 2.69:   9%|▊         | 267/3096 [27:14<6:58:04,  8.87s/it]"
     ]
    },
    {
     "name": "stdout",
     "output_type": "stream",
     "text": [
      "Maximum run count 10 reached for component 'prompt_builder'\n",
      "iter 0 failed, trying again 0/5\n"
     ]
    },
    {
     "name": "stderr",
     "output_type": "stream",
     "text": [
      "error data = 7, error_rate = 2.64:   9%|▉         | 272/3096 [27:45<3:50:51,  4.91s/it]"
     ]
    },
    {
     "name": "stdout",
     "output_type": "stream",
     "text": [
      "Maximum run count 10 reached for component 'prompt_builder'\n",
      "iter 0 failed, trying again 0/5\n",
      "Maximum run count 10 reached for component 'prompt_builder'\n",
      "iter 1 failed, trying again 1/5\n",
      "Maximum run count 10 reached for component 'prompt_builder'\n",
      "iter 2 failed, trying again 2/5\n"
     ]
    },
    {
     "name": "stderr",
     "output_type": "stream",
     "text": [
      "error data = 7, error_rate = 2.56:   9%|▉         | 280/3096 [28:34<2:46:37,  3.55s/it]"
     ]
    },
    {
     "name": "stdout",
     "output_type": "stream",
     "text": [
      "Maximum run count 10 reached for component 'prompt_builder'\n",
      "iter 0 failed, trying again 0/5\n",
      "Maximum run count 10 reached for component 'prompt_builder'\n",
      "iter 1 failed, trying again 1/5\n"
     ]
    },
    {
     "name": "stderr",
     "output_type": "stream",
     "text": [
      "error data = 7, error_rate = 2.55:   9%|▉         | 281/3096 [28:49<5:22:18,  6.87s/it]"
     ]
    },
    {
     "name": "stdout",
     "output_type": "stream",
     "text": [
      "Maximum run count 10 reached for component 'prompt_builder'\n",
      "iter 0 failed, trying again 0/5\n"
     ]
    },
    {
     "name": "stderr",
     "output_type": "stream",
     "text": [
      "error data = 7, error_rate = 2.52:   9%|▉         | 285/3096 [29:07<2:55:30,  3.75s/it]"
     ]
    },
    {
     "name": "stdout",
     "output_type": "stream",
     "text": [
      "Maximum run count 10 reached for component 'prompt_builder'\n",
      "iter 0 failed, trying again 0/5\n",
      "Maximum run count 10 reached for component 'prompt_builder'\n",
      "iter 1 failed, trying again 1/5\n"
     ]
    },
    {
     "name": "stderr",
     "output_type": "stream",
     "text": [
      "error data = 7, error_rate = 2.43:  10%|▉         | 295/3096 [29:56<1:38:36,  2.11s/it]"
     ]
    },
    {
     "name": "stdout",
     "output_type": "stream",
     "text": [
      "Maximum run count 10 reached for component 'prompt_builder'\n",
      "iter 0 failed, trying again 0/5\n",
      "Maximum run count 10 reached for component 'prompt_builder'\n",
      "iter 1 failed, trying again 1/5\n"
     ]
    },
    {
     "name": "stderr",
     "output_type": "stream",
     "text": [
      "error data = 7, error_rate = 2.41:  10%|▉         | 297/3096 [30:15<4:01:42,  5.18s/it]"
     ]
    },
    {
     "name": "stdout",
     "output_type": "stream",
     "text": [
      "Maximum run count 10 reached for component 'prompt_builder'\n",
      "iter 0 failed, trying again 0/5\n"
     ]
    },
    {
     "name": "stderr",
     "output_type": "stream",
     "text": [
      "error data = 7, error_rate = 2.36:  10%|▉         | 304/3096 [30:31<1:34:53,  2.04s/it]"
     ]
    },
    {
     "name": "stdout",
     "output_type": "stream",
     "text": [
      "Maximum run count 10 reached for component 'prompt_builder'\n",
      "iter 0 failed, trying again 0/5\n"
     ]
    },
    {
     "name": "stderr",
     "output_type": "stream",
     "text": [
      "error data = 7, error_rate = 2.26:  10%|█         | 317/3096 [31:04<2:14:05,  2.90s/it]"
     ]
    },
    {
     "name": "stdout",
     "output_type": "stream",
     "text": [
      "Maximum run count 10 reached for component 'prompt_builder'\n",
      "iter 0 failed, trying again 0/5\n",
      "Maximum run count 10 reached for component 'prompt_builder'\n",
      "iter 1 failed, trying again 1/5\n",
      "Maximum run count 10 reached for component 'prompt_builder'\n",
      "iter 2 failed, trying again 2/5\n",
      "Maximum run count 10 reached for component 'prompt_builder'\n",
      "iter 3 failed, trying again 3/5\n"
     ]
    },
    {
     "name": "stderr",
     "output_type": "stream",
     "text": [
      "error data = 8, error_rate = 2.58:  10%|█         | 318/3096 [31:35<8:39:43, 11.23s/it]"
     ]
    },
    {
     "name": "stdout",
     "output_type": "stream",
     "text": [
      "Maximum run count 10 reached for component 'prompt_builder'\n",
      "iter 4 failed, trying again 4/5\n"
     ]
    },
    {
     "name": "stderr",
     "output_type": "stream",
     "text": [
      "error data = 8, error_rate = 2.56:  10%|█         | 320/3096 [31:49<6:32:24,  8.48s/it]"
     ]
    },
    {
     "name": "stdout",
     "output_type": "stream",
     "text": [
      "Maximum run count 10 reached for component 'prompt_builder'\n",
      "iter 0 failed, trying again 0/5\n"
     ]
    },
    {
     "name": "stderr",
     "output_type": "stream",
     "text": [
      "error data = 8, error_rate = 2.35:  11%|█         | 348/3096 [33:16<1:48:56,  2.38s/it]"
     ]
    },
    {
     "name": "stdout",
     "output_type": "stream",
     "text": [
      "Maximum run count 10 reached for component 'prompt_builder'\n",
      "iter 0 failed, trying again 0/5\n"
     ]
    },
    {
     "name": "stderr",
     "output_type": "stream",
     "text": [
      "error data = 8, error_rate = 2.35:  11%|█▏        | 349/3096 [33:30<4:38:53,  6.09s/it]"
     ]
    },
    {
     "name": "stdout",
     "output_type": "stream",
     "text": [
      "Maximum run count 10 reached for component 'prompt_builder'\n",
      "iter 0 failed, trying again 0/5\n"
     ]
    },
    {
     "name": "stderr",
     "output_type": "stream",
     "text": [
      "error data = 8, error_rate = 2.33:  11%|█▏        | 352/3096 [33:56<4:59:08,  6.54s/it]"
     ]
    },
    {
     "name": "stdout",
     "output_type": "stream",
     "text": [
      "Maximum run count 10 reached for component 'prompt_builder'\n",
      "iter 0 failed, trying again 0/5\n"
     ]
    },
    {
     "name": "stderr",
     "output_type": "stream",
     "text": [
      "error data = 8, error_rate = 2.30:  11%|█▏        | 356/3096 [34:10<2:43:23,  3.58s/it]"
     ]
    },
    {
     "name": "stdout",
     "output_type": "stream",
     "text": [
      "Maximum run count 10 reached for component 'prompt_builder'\n",
      "iter 0 failed, trying again 0/5\n"
     ]
    },
    {
     "name": "stderr",
     "output_type": "stream",
     "text": [
      "error data = 8, error_rate = 2.29:  12%|█▏        | 357/3096 [34:23<5:04:26,  6.67s/it]"
     ]
    },
    {
     "name": "stdout",
     "output_type": "stream",
     "text": [
      "Maximum run count 10 reached for component 'prompt_builder'\n",
      "iter 0 failed, trying again 0/5\n",
      "Maximum run count 10 reached for component 'prompt_builder'\n",
      "iter 1 failed, trying again 1/5\n",
      "Maximum run count 10 reached for component 'prompt_builder'\n",
      "iter 2 failed, trying again 2/5\n"
     ]
    },
    {
     "name": "stderr",
     "output_type": "stream",
     "text": [
      "error data = 8, error_rate = 2.27:  12%|█▏        | 360/3096 [35:03<6:41:54,  8.81s/it] "
     ]
    },
    {
     "name": "stdout",
     "output_type": "stream",
     "text": [
      "Maximum run count 10 reached for component 'prompt_builder'\n",
      "iter 0 failed, trying again 0/5\n"
     ]
    },
    {
     "name": "stderr",
     "output_type": "stream",
     "text": [
      "error data = 8, error_rate = 2.26:  12%|█▏        | 362/3096 [35:23<7:13:07,  9.51s/it]"
     ]
    },
    {
     "name": "stdout",
     "output_type": "stream",
     "text": [
      "Maximum run count 10 reached for component 'prompt_builder'\n",
      "iter 0 failed, trying again 0/5\n"
     ]
    },
    {
     "name": "stderr",
     "output_type": "stream",
     "text": [
      "error data = 8, error_rate = 2.23:  12%|█▏        | 366/3096 [35:39<3:31:13,  4.64s/it]"
     ]
    },
    {
     "name": "stdout",
     "output_type": "stream",
     "text": [
      "Maximum run count 10 reached for component 'prompt_builder'\n",
      "iter 0 failed, trying again 0/5\n",
      "Maximum run count 10 reached for component 'prompt_builder'\n",
      "iter 1 failed, trying again 1/5\n",
      "Maximum run count 10 reached for component 'prompt_builder'\n",
      "iter 2 failed, trying again 2/5\n",
      "Maximum run count 10 reached for component 'prompt_builder'\n",
      "iter 3 failed, trying again 3/5\n"
     ]
    },
    {
     "name": "stderr",
     "output_type": "stream",
     "text": [
      "error data = 9, error_rate = 2.51:  12%|█▏        | 367/3096 [36:27<13:29:29, 17.80s/it]"
     ]
    },
    {
     "name": "stdout",
     "output_type": "stream",
     "text": [
      "Maximum run count 10 reached for component 'prompt_builder'\n",
      "iter 4 failed, trying again 4/5\n"
     ]
    },
    {
     "name": "stderr",
     "output_type": "stream",
     "text": [
      "error data = 9, error_rate = 2.41:  12%|█▏        | 383/3096 [37:15<2:58:34,  3.95s/it] "
     ]
    },
    {
     "name": "stdout",
     "output_type": "stream",
     "text": [
      "Maximum run count 10 reached for component 'prompt_builder'\n",
      "iter 0 failed, trying again 0/5\n"
     ]
    },
    {
     "name": "stderr",
     "output_type": "stream",
     "text": [
      "error data = 9, error_rate = 2.37:  13%|█▎        | 388/3096 [37:51<4:40:59,  6.23s/it]"
     ]
    },
    {
     "name": "stdout",
     "output_type": "stream",
     "text": [
      "Maximum run count 10 reached for component 'prompt_builder'\n",
      "iter 0 failed, trying again 0/5\n"
     ]
    },
    {
     "name": "stderr",
     "output_type": "stream",
     "text": [
      "error data = 9, error_rate = 2.35:  13%|█▎        | 392/3096 [38:18<4:42:52,  6.28s/it]"
     ]
    },
    {
     "name": "stdout",
     "output_type": "stream",
     "text": [
      "Maximum run count 10 reached for component 'prompt_builder'\n",
      "iter 0 failed, trying again 0/5\n",
      "Maximum run count 10 reached for component 'prompt_builder'\n",
      "iter 1 failed, trying again 1/5\n",
      "Maximum run count 10 reached for component 'prompt_builder'\n",
      "iter 2 failed, trying again 2/5\n",
      "Maximum run count 10 reached for component 'prompt_builder'\n",
      "iter 3 failed, trying again 3/5\n"
     ]
    },
    {
     "name": "stderr",
     "output_type": "stream",
     "text": [
      "error data = 10, error_rate = 2.61:  13%|█▎        | 393/3096 [38:56<11:39:50, 15.53s/it]"
     ]
    },
    {
     "name": "stdout",
     "output_type": "stream",
     "text": [
      "Maximum run count 10 reached for component 'prompt_builder'\n",
      "iter 4 failed, trying again 4/5\n"
     ]
    },
    {
     "name": "stderr",
     "output_type": "stream",
     "text": [
      "error data = 10, error_rate = 2.56:  13%|█▎        | 400/3096 [39:16<3:19:18,  4.44s/it] "
     ]
    },
    {
     "name": "stdout",
     "output_type": "stream",
     "text": [
      "Maximum run count 10 reached for component 'prompt_builder'\n",
      "iter 0 failed, trying again 0/5\n",
      "Maximum run count 10 reached for component 'prompt_builder'\n",
      "iter 1 failed, trying again 1/5\n",
      "Maximum run count 10 reached for component 'prompt_builder'\n",
      "iter 2 failed, trying again 2/5\n",
      "Maximum run count 10 reached for component 'prompt_builder'\n",
      "iter 3 failed, trying again 3/5\n"
     ]
    },
    {
     "name": "stderr",
     "output_type": "stream",
     "text": [
      "error data = 11, error_rate = 2.82:  13%|█▎        | 401/3096 [39:48<9:40:00, 12.91s/it]"
     ]
    },
    {
     "name": "stdout",
     "output_type": "stream",
     "text": [
      "Maximum run count 10 reached for component 'prompt_builder'\n",
      "iter 4 failed, trying again 4/5\n"
     ]
    },
    {
     "name": "stderr",
     "output_type": "stream",
     "text": [
      "error data = 11, error_rate = 2.81:  13%|█▎        | 402/3096 [39:49<6:54:55,  9.24s/it]"
     ]
    },
    {
     "name": "stdout",
     "output_type": "stream",
     "text": [
      "Maximum run count 10 reached for component 'prompt_builder'\n",
      "iter 0 failed, trying again 0/5\n"
     ]
    },
    {
     "name": "stderr",
     "output_type": "stream",
     "text": [
      "error data = 11, error_rate = 2.78:  13%|█▎        | 406/3096 [40:04<3:09:10,  4.22s/it]"
     ]
    },
    {
     "name": "stdout",
     "output_type": "stream",
     "text": [
      "Maximum run count 10 reached for component 'prompt_builder'\n",
      "iter 0 failed, trying again 0/5\n"
     ]
    },
    {
     "name": "stderr",
     "output_type": "stream",
     "text": [
      "error data = 11, error_rate = 2.78:  13%|█▎        | 407/3096 [40:20<5:46:22,  7.73s/it]"
     ]
    },
    {
     "name": "stdout",
     "output_type": "stream",
     "text": [
      "Maximum run count 10 reached for component 'prompt_builder'\n",
      "iter 0 failed, trying again 0/5\n"
     ]
    },
    {
     "name": "stderr",
     "output_type": "stream",
     "text": [
      "error data = 11, error_rate = 2.77:  13%|█▎        | 408/3096 [40:31<6:34:41,  8.81s/it]"
     ]
    },
    {
     "name": "stdout",
     "output_type": "stream",
     "text": [
      "Maximum run count 10 reached for component 'prompt_builder'\n",
      "iter 0 failed, trying again 0/5\n",
      "Maximum run count 10 reached for component 'prompt_builder'\n",
      "iter 1 failed, trying again 1/5\n",
      "Maximum run count 10 reached for component 'prompt_builder'\n",
      "iter 2 failed, trying again 2/5\n",
      "Maximum run count 10 reached for component 'prompt_builder'\n",
      "iter 3 failed, trying again 3/5\n"
     ]
    },
    {
     "name": "stderr",
     "output_type": "stream",
     "text": [
      "error data = 11, error_rate = 2.74:  13%|█▎        | 413/3096 [41:13<3:37:08,  4.86s/it] "
     ]
    },
    {
     "name": "stdout",
     "output_type": "stream",
     "text": [
      "Maximum run count 10 reached for component 'prompt_builder'\n",
      "iter 0 failed, trying again 0/5\n",
      "Maximum run count 10 reached for component 'prompt_builder'\n",
      "iter 1 failed, trying again 1/5\n"
     ]
    },
    {
     "name": "stderr",
     "output_type": "stream",
     "text": [
      "error data = 11, error_rate = 2.68:  14%|█▎        | 422/3096 [41:52<1:29:01,  2.00s/it]"
     ]
    },
    {
     "name": "stdout",
     "output_type": "stream",
     "text": [
      "Maximum run count 10 reached for component 'prompt_builder'\n",
      "iter 0 failed, trying again 0/5\n"
     ]
    },
    {
     "name": "stderr",
     "output_type": "stream",
     "text": [
      "error data = 11, error_rate = 2.63:  14%|█▍        | 430/3096 [42:13<1:33:46,  2.11s/it]"
     ]
    },
    {
     "name": "stdout",
     "output_type": "stream",
     "text": [
      "Maximum run count 10 reached for component 'prompt_builder'\n",
      "iter 0 failed, trying again 0/5\n",
      "Maximum run count 10 reached for component 'prompt_builder'\n",
      "iter 1 failed, trying again 1/5\n"
     ]
    },
    {
     "name": "stderr",
     "output_type": "stream",
     "text": [
      "error data = 11, error_rate = 2.62:  14%|█▍        | 431/3096 [42:28<4:21:20,  5.88s/it]"
     ]
    },
    {
     "name": "stdout",
     "output_type": "stream",
     "text": [
      "Maximum run count 10 reached for component 'prompt_builder'\n",
      "iter 0 failed, trying again 0/5\n",
      "Maximum run count 10 reached for component 'prompt_builder'\n",
      "iter 1 failed, trying again 1/5\n"
     ]
    },
    {
     "name": "stderr",
     "output_type": "stream",
     "text": [
      "error data = 11, error_rate = 2.60:  14%|█▍        | 434/3096 [42:57<5:54:41,  7.99s/it]"
     ]
    },
    {
     "name": "stdout",
     "output_type": "stream",
     "text": [
      "Maximum run count 10 reached for component 'prompt_builder'\n",
      "iter 0 failed, trying again 0/5\n"
     ]
    },
    {
     "name": "stderr",
     "output_type": "stream",
     "text": [
      "error data = 11, error_rate = 2.59:  14%|█▍        | 435/3096 [43:09<6:45:55,  9.15s/it]"
     ]
    },
    {
     "name": "stdout",
     "output_type": "stream",
     "text": [
      "Maximum run count 10 reached for component 'prompt_builder'\n",
      "iter 0 failed, trying again 0/5\n",
      "Maximum run count 10 reached for component 'prompt_builder'\n",
      "iter 1 failed, trying again 1/5\n",
      "Maximum run count 10 reached for component 'prompt_builder'\n",
      "iter 2 failed, trying again 2/5\n"
     ]
    },
    {
     "name": "stderr",
     "output_type": "stream",
     "text": [
      "error data = 11, error_rate = 2.58:  14%|█▍        | 438/3096 [43:40<6:24:29,  8.68s/it]"
     ]
    },
    {
     "name": "stdout",
     "output_type": "stream",
     "text": [
      "Maximum run count 10 reached for component 'prompt_builder'\n",
      "iter 0 failed, trying again 0/5\n",
      "Maximum run count 10 reached for component 'prompt_builder'\n",
      "iter 1 failed, trying again 1/5\n",
      "Maximum run count 10 reached for component 'prompt_builder'\n",
      "iter 2 failed, trying again 2/5\n"
     ]
    },
    {
     "name": "stderr",
     "output_type": "stream",
     "text": [
      "error data = 11, error_rate = 2.37:  15%|█▌        | 475/3096 [45:14<38:15,  1.14it/s]   "
     ]
    },
    {
     "name": "stdout",
     "output_type": "stream",
     "text": [
      "Maximum run count 10 reached for component 'prompt_builder'\n",
      "iter 0 failed, trying again 0/5\n",
      "Maximum run count 10 reached for component 'prompt_builder'\n",
      "iter 1 failed, trying again 1/5\n"
     ]
    },
    {
     "name": "stderr",
     "output_type": "stream",
     "text": [
      "error data = 11, error_rate = 2.35:  15%|█▌        | 479/3096 [45:39<2:31:29,  3.47s/it]"
     ]
    },
    {
     "name": "stdout",
     "output_type": "stream",
     "text": [
      "Maximum run count 10 reached for component 'prompt_builder'\n",
      "iter 0 failed, trying again 0/5\n",
      "Maximum run count 10 reached for component 'prompt_builder'\n",
      "iter 1 failed, trying again 1/5\n",
      "Maximum run count 10 reached for component 'prompt_builder'\n",
      "iter 2 failed, trying again 2/5\n",
      "Maximum run count 10 reached for component 'prompt_builder'\n",
      "iter 3 failed, trying again 3/5\n"
     ]
    },
    {
     "name": "stderr",
     "output_type": "stream",
     "text": [
      "error data = 12, error_rate = 2.56:  16%|█▌        | 480/3096 [46:01<6:44:17,  9.27s/it]"
     ]
    },
    {
     "name": "stdout",
     "output_type": "stream",
     "text": [
      "Maximum run count 10 reached for component 'prompt_builder'\n",
      "iter 4 failed, trying again 4/5\n",
      "Maximum run count 10 reached for component 'prompt_builder'\n",
      "iter 0 failed, trying again 0/5\n",
      "Maximum run count 10 reached for component 'prompt_builder'\n",
      "iter 1 failed, trying again 1/5\n"
     ]
    },
    {
     "name": "stderr",
     "output_type": "stream",
     "text": [
      "error data = 12, error_rate = 2.56:  16%|█▌        | 481/3096 [46:20<8:41:50, 11.97s/it]"
     ]
    },
    {
     "name": "stdout",
     "output_type": "stream",
     "text": [
      "Maximum run count 10 reached for component 'prompt_builder'\n",
      "iter 0 failed, trying again 0/5\n",
      "Maximum run count 10 reached for component 'prompt_builder'\n",
      "iter 1 failed, trying again 1/5\n",
      "Maximum run count 10 reached for component 'prompt_builder'\n",
      "iter 2 failed, trying again 2/5\n",
      "Maximum run count 10 reached for component 'prompt_builder'\n",
      "iter 3 failed, trying again 3/5\n"
     ]
    },
    {
     "name": "stderr",
     "output_type": "stream",
     "text": [
      "error data = 13, error_rate = 2.77:  16%|█▌        | 482/3096 [47:08<16:37:13, 22.89s/it]"
     ]
    },
    {
     "name": "stdout",
     "output_type": "stream",
     "text": [
      "Maximum run count 10 reached for component 'prompt_builder'\n",
      "iter 4 failed, trying again 4/5\n",
      "Maximum run count 10 reached for component 'prompt_builder'\n",
      "iter 0 failed, trying again 0/5\n"
     ]
    },
    {
     "name": "stderr",
     "output_type": "stream",
     "text": [
      "error data = 13, error_rate = 2.73:  16%|█▌        | 490/3096 [47:44<3:51:33,  5.33s/it] "
     ]
    },
    {
     "name": "stdout",
     "output_type": "stream",
     "text": [
      "Maximum run count 10 reached for component 'prompt_builder'\n",
      "iter 0 failed, trying again 0/5\n",
      "Maximum run count 10 reached for component 'prompt_builder'\n",
      "iter 1 failed, trying again 1/5\n"
     ]
    },
    {
     "name": "stderr",
     "output_type": "stream",
     "text": [
      "error data = 13, error_rate = 2.71:  16%|█▌        | 492/3096 [48:08<6:02:17,  8.35s/it]"
     ]
    },
    {
     "name": "stdout",
     "output_type": "stream",
     "text": [
      "Maximum run count 10 reached for component 'prompt_builder'\n",
      "iter 0 failed, trying again 0/5\n"
     ]
    },
    {
     "name": "stderr",
     "output_type": "stream",
     "text": [
      "error data = 13, error_rate = 2.68:  16%|█▌        | 498/3096 [48:39<3:47:35,  5.26s/it]"
     ]
    },
    {
     "name": "stdout",
     "output_type": "stream",
     "text": [
      "Maximum run count 10 reached for component 'prompt_builder'\n",
      "iter 0 failed, trying again 0/5\n"
     ]
    },
    {
     "name": "stderr",
     "output_type": "stream",
     "text": [
      "error data = 13, error_rate = 2.64:  16%|█▋        | 505/3096 [49:01<1:46:45,  2.47s/it]"
     ]
    },
    {
     "name": "stdout",
     "output_type": "stream",
     "text": [
      "Maximum run count 10 reached for component 'prompt_builder'\n",
      "iter 0 failed, trying again 0/5\n"
     ]
    },
    {
     "name": "stderr",
     "output_type": "stream",
     "text": [
      "error data = 13, error_rate = 2.52:  17%|█▋        | 529/3096 [50:05<1:32:45,  2.17s/it]"
     ]
    },
    {
     "name": "stdout",
     "output_type": "stream",
     "text": [
      "Maximum run count 10 reached for component 'prompt_builder'\n",
      "iter 0 failed, trying again 0/5\n",
      "Maximum run count 10 reached for component 'prompt_builder'\n",
      "iter 1 failed, trying again 1/5\n",
      "Maximum run count 10 reached for component 'prompt_builder'\n",
      "iter 2 failed, trying again 2/5\n"
     ]
    },
    {
     "name": "stderr",
     "output_type": "stream",
     "text": [
      "error data = 13, error_rate = 2.51:  17%|█▋        | 530/3096 [50:37<7:55:41, 11.12s/it]"
     ]
    },
    {
     "name": "stdout",
     "output_type": "stream",
     "text": [
      "Maximum run count 10 reached for component 'prompt_builder'\n",
      "iter 0 failed, trying again 0/5\n"
     ]
    },
    {
     "name": "stderr",
     "output_type": "stream",
     "text": [
      "error data = 13, error_rate = 2.51:  17%|█▋        | 531/3096 [50:43<6:42:27,  9.41s/it]"
     ]
    },
    {
     "name": "stdout",
     "output_type": "stream",
     "text": [
      "Maximum run count 10 reached for component 'prompt_builder'\n",
      "iter 0 failed, trying again 0/5\n",
      "Maximum run count 10 reached for component 'prompt_builder'\n",
      "iter 1 failed, trying again 1/5\n",
      "Maximum run count 10 reached for component 'prompt_builder'\n",
      "iter 2 failed, trying again 2/5\n"
     ]
    },
    {
     "name": "stderr",
     "output_type": "stream",
     "text": [
      "error data = 13, error_rate = 2.49:  17%|█▋        | 535/3096 [51:19<4:26:12,  6.24s/it] "
     ]
    },
    {
     "name": "stdout",
     "output_type": "stream",
     "text": [
      "Maximum run count 10 reached for component 'prompt_builder'\n",
      "iter 0 failed, trying again 0/5\n"
     ]
    },
    {
     "name": "stderr",
     "output_type": "stream",
     "text": [
      "error data = 13, error_rate = 2.48:  17%|█▋        | 538/3096 [51:46<4:37:53,  6.52s/it]"
     ]
    },
    {
     "name": "stdout",
     "output_type": "stream",
     "text": [
      "Maximum run count 10 reached for component 'prompt_builder'\n",
      "iter 0 failed, trying again 0/5\n"
     ]
    },
    {
     "name": "stderr",
     "output_type": "stream",
     "text": [
      "error data = 13, error_rate = 2.46:  18%|█▊        | 542/3096 [52:08<3:28:41,  4.90s/it]"
     ]
    },
    {
     "name": "stdout",
     "output_type": "stream",
     "text": [
      "Maximum run count 10 reached for component 'prompt_builder'\n",
      "iter 0 failed, trying again 0/5\n",
      "Maximum run count 10 reached for component 'prompt_builder'\n",
      "iter 1 failed, trying again 1/5\n"
     ]
    },
    {
     "name": "stderr",
     "output_type": "stream",
     "text": [
      "error data = 13, error_rate = 2.45:  18%|█▊        | 543/3096 [52:32<7:34:11, 10.67s/it]"
     ]
    },
    {
     "name": "stdout",
     "output_type": "stream",
     "text": [
      "Maximum run count 10 reached for component 'prompt_builder'\n",
      "iter 0 failed, trying again 0/5\n"
     ]
    },
    {
     "name": "stderr",
     "output_type": "stream",
     "text": [
      "error data = 13, error_rate = 2.44:  18%|█▊        | 546/3096 [52:50<4:34:23,  6.46s/it]"
     ]
    },
    {
     "name": "stdout",
     "output_type": "stream",
     "text": [
      "Maximum run count 10 reached for component 'prompt_builder'\n",
      "iter 0 failed, trying again 0/5\n"
     ]
    },
    {
     "name": "stderr",
     "output_type": "stream",
     "text": [
      "error data = 13, error_rate = 2.39:  18%|█▊        | 558/3096 [53:25<1:13:29,  1.74s/it]"
     ]
    },
    {
     "name": "stdout",
     "output_type": "stream",
     "text": [
      "Maximum run count 10 reached for component 'prompt_builder'\n",
      "iter 0 failed, trying again 0/5\n",
      "Maximum run count 10 reached for component 'prompt_builder'\n",
      "iter 1 failed, trying again 1/5\n",
      "Maximum run count 10 reached for component 'prompt_builder'\n",
      "iter 2 failed, trying again 2/5\n",
      "Maximum run count 10 reached for component 'prompt_builder'\n",
      "iter 3 failed, trying again 3/5\n"
     ]
    },
    {
     "name": "stderr",
     "output_type": "stream",
     "text": [
      "error data = 13, error_rate = 2.36:  18%|█▊        | 563/3096 [54:04<2:58:20,  4.22s/it]"
     ]
    },
    {
     "name": "stdout",
     "output_type": "stream",
     "text": [
      "Maximum run count 10 reached for component 'prompt_builder'\n",
      "iter 0 failed, trying again 0/5\n",
      "Maximum run count 10 reached for component 'prompt_builder'\n",
      "iter 1 failed, trying again 1/5\n"
     ]
    },
    {
     "name": "stderr",
     "output_type": "stream",
     "text": [
      "error data = 13, error_rate = 2.35:  18%|█▊        | 566/3096 [54:23<3:10:56,  4.53s/it]"
     ]
    },
    {
     "name": "stdout",
     "output_type": "stream",
     "text": [
      "Maximum run count 10 reached for component 'prompt_builder'\n",
      "iter 0 failed, trying again 0/5\n"
     ]
    },
    {
     "name": "stderr",
     "output_type": "stream",
     "text": [
      "error data = 13, error_rate = 2.31:  19%|█▊        | 576/3096 [55:06<1:47:45,  2.57s/it]"
     ]
    },
    {
     "name": "stdout",
     "output_type": "stream",
     "text": [
      "Maximum run count 10 reached for component 'prompt_builder'\n",
      "iter 0 failed, trying again 0/5\n",
      "Maximum run count 10 reached for component 'prompt_builder'\n",
      "iter 1 failed, trying again 1/5\n",
      "Maximum run count 10 reached for component 'prompt_builder'\n",
      "iter 2 failed, trying again 2/5\n",
      "Maximum run count 10 reached for component 'prompt_builder'\n",
      "iter 3 failed, trying again 3/5\n"
     ]
    },
    {
     "name": "stderr",
     "output_type": "stream",
     "text": [
      "error data = 13, error_rate = 2.29:  19%|█▉        | 581/3096 [55:43<2:27:02,  3.51s/it]"
     ]
    },
    {
     "name": "stdout",
     "output_type": "stream",
     "text": [
      "Maximum run count 10 reached for component 'prompt_builder'\n",
      "iter 0 failed, trying again 0/5\n"
     ]
    },
    {
     "name": "stderr",
     "output_type": "stream",
     "text": [
      "error data = 13, error_rate = 2.24:  19%|█▉        | 594/3096 [56:29<1:59:31,  2.87s/it]"
     ]
    },
    {
     "name": "stdout",
     "output_type": "stream",
     "text": [
      "Maximum run count 10 reached for component 'prompt_builder'\n",
      "iter 0 failed, trying again 0/5\n",
      "Maximum run count 10 reached for component 'prompt_builder'\n",
      "iter 1 failed, trying again 1/5\n"
     ]
    },
    {
     "name": "stderr",
     "output_type": "stream",
     "text": [
      "error data = 13, error_rate = 2.22:  19%|█▉        | 598/3096 [56:53<2:39:42,  3.84s/it]"
     ]
    },
    {
     "name": "stdout",
     "output_type": "stream",
     "text": [
      "Maximum run count 10 reached for component 'prompt_builder'\n",
      "iter 0 failed, trying again 0/5\n"
     ]
    },
    {
     "name": "stderr",
     "output_type": "stream",
     "text": [
      "error data = 13, error_rate = 2.21:  19%|█▉        | 601/3096 [57:08<2:55:18,  4.22s/it]"
     ]
    },
    {
     "name": "stdout",
     "output_type": "stream",
     "text": [
      "Maximum run count 10 reached for component 'prompt_builder'\n",
      "iter 0 failed, trying again 0/5\n"
     ]
    },
    {
     "name": "stderr",
     "output_type": "stream",
     "text": [
      "error data = 13, error_rate = 2.20:  19%|█▉        | 603/3096 [57:23<3:47:43,  5.48s/it]"
     ]
    },
    {
     "name": "stdout",
     "output_type": "stream",
     "text": [
      "Maximum run count 10 reached for component 'prompt_builder'\n",
      "iter 0 failed, trying again 0/5\n"
     ]
    },
    {
     "name": "stderr",
     "output_type": "stream",
     "text": [
      "error data = 13, error_rate = 2.18:  20%|█▉        | 610/3096 [57:45<1:48:23,  2.62s/it]"
     ]
    },
    {
     "name": "stdout",
     "output_type": "stream",
     "text": [
      "Maximum run count 10 reached for component 'prompt_builder'\n",
      "iter 0 failed, trying again 0/5\n",
      "Maximum run count 10 reached for component 'prompt_builder'\n",
      "iter 1 failed, trying again 1/5\n",
      "Maximum run count 10 reached for component 'prompt_builder'\n",
      "iter 2 failed, trying again 2/5\n"
     ]
    },
    {
     "name": "stderr",
     "output_type": "stream",
     "text": [
      "error data = 13, error_rate = 2.17:  20%|█▉        | 612/3096 [58:19<5:52:58,  8.53s/it]"
     ]
    },
    {
     "name": "stdout",
     "output_type": "stream",
     "text": [
      "Maximum run count 10 reached for component 'prompt_builder'\n",
      "iter 0 failed, trying again 0/5\n",
      "Maximum run count 10 reached for component 'prompt_builder'\n",
      "iter 1 failed, trying again 1/5\n"
     ]
    },
    {
     "name": "stderr",
     "output_type": "stream",
     "text": [
      "error data = 13, error_rate = 2.16:  20%|█▉        | 614/3096 [58:40<6:05:21,  8.83s/it]"
     ]
    },
    {
     "name": "stdout",
     "output_type": "stream",
     "text": [
      "Maximum run count 10 reached for component 'prompt_builder'\n",
      "iter 0 failed, trying again 0/5\n"
     ]
    },
    {
     "name": "stderr",
     "output_type": "stream",
     "text": [
      "error data = 13, error_rate = 2.16:  20%|█▉        | 615/3096 [58:54<7:04:19, 10.26s/it]"
     ]
    },
    {
     "name": "stdout",
     "output_type": "stream",
     "text": [
      "Maximum run count 10 reached for component 'prompt_builder'\n",
      "iter 0 failed, trying again 0/5\n"
     ]
    },
    {
     "name": "stderr",
     "output_type": "stream",
     "text": [
      "error data = 13, error_rate = 2.13:  20%|██        | 623/3096 [59:28<2:45:13,  4.01s/it]"
     ]
    },
    {
     "name": "stdout",
     "output_type": "stream",
     "text": [
      "Maximum run count 10 reached for component 'prompt_builder'\n",
      "iter 0 failed, trying again 0/5\n"
     ]
    },
    {
     "name": "stderr",
     "output_type": "stream",
     "text": [
      "error data = 13, error_rate = 2.12:  20%|██        | 626/3096 [59:46<3:08:30,  4.58s/it]"
     ]
    },
    {
     "name": "stdout",
     "output_type": "stream",
     "text": [
      "Maximum run count 10 reached for component 'prompt_builder'\n",
      "iter 0 failed, trying again 0/5\n",
      "Maximum run count 10 reached for component 'prompt_builder'\n",
      "iter 1 failed, trying again 1/5\n",
      "Maximum run count 10 reached for component 'prompt_builder'\n",
      "iter 2 failed, trying again 2/5\n"
     ]
    },
    {
     "name": "stderr",
     "output_type": "stream",
     "text": [
      "error data = 13, error_rate = 2.11:  20%|██        | 629/3096 [1:00:24<5:02:05,  7.35s/it]"
     ]
    },
    {
     "name": "stdout",
     "output_type": "stream",
     "text": [
      "Maximum run count 10 reached for component 'prompt_builder'\n",
      "iter 0 failed, trying again 0/5\n"
     ]
    },
    {
     "name": "stderr",
     "output_type": "stream",
     "text": [
      "error data = 13, error_rate = 2.08:  21%|██        | 637/3096 [1:00:51<2:03:50,  3.02s/it]"
     ]
    },
    {
     "name": "stdout",
     "output_type": "stream",
     "text": [
      "Maximum run count 10 reached for component 'prompt_builder'\n",
      "iter 0 failed, trying again 0/5\n",
      "Maximum run count 10 reached for component 'prompt_builder'\n",
      "iter 1 failed, trying again 1/5\n"
     ]
    },
    {
     "name": "stderr",
     "output_type": "stream",
     "text": [
      "error data = 13, error_rate = 2.07:  21%|██        | 640/3096 [1:01:15<3:22:37,  4.95s/it]"
     ]
    },
    {
     "name": "stdout",
     "output_type": "stream",
     "text": [
      "Maximum run count 10 reached for component 'prompt_builder'\n",
      "iter 0 failed, trying again 0/5\n"
     ]
    },
    {
     "name": "stderr",
     "output_type": "stream",
     "text": [
      "error data = 13, error_rate = 2.06:  21%|██        | 645/3096 [1:01:36<2:50:59,  4.19s/it]"
     ]
    },
    {
     "name": "stdout",
     "output_type": "stream",
     "text": [
      "Maximum run count 10 reached for component 'prompt_builder'\n",
      "iter 0 failed, trying again 0/5\n",
      "Maximum run count 10 reached for component 'prompt_builder'\n",
      "iter 1 failed, trying again 1/5\n",
      "Maximum run count 10 reached for component 'prompt_builder'\n",
      "iter 2 failed, trying again 2/5\n"
     ]
    },
    {
     "name": "stderr",
     "output_type": "stream",
     "text": [
      "error data = 13, error_rate = 2.05:  21%|██        | 646/3096 [1:01:55<5:43:49,  8.42s/it]"
     ]
    },
    {
     "name": "stdout",
     "output_type": "stream",
     "text": [
      "Maximum run count 10 reached for component 'prompt_builder'\n",
      "iter 0 failed, trying again 0/5\n"
     ]
    },
    {
     "name": "stderr",
     "output_type": "stream",
     "text": [
      "error data = 13, error_rate = 2.05:  21%|██        | 648/3096 [1:02:07<4:52:52,  7.18s/it]"
     ]
    },
    {
     "name": "stdout",
     "output_type": "stream",
     "text": [
      "Maximum run count 10 reached for component 'prompt_builder'\n",
      "iter 0 failed, trying again 0/5\n"
     ]
    },
    {
     "name": "stderr",
     "output_type": "stream",
     "text": [
      "error data = 13, error_rate = 2.03:  21%|██        | 653/3096 [1:02:24<2:18:01,  3.39s/it]"
     ]
    },
    {
     "name": "stdout",
     "output_type": "stream",
     "text": [
      "Maximum run count 10 reached for component 'prompt_builder'\n",
      "iter 0 failed, trying again 0/5\n"
     ]
    },
    {
     "name": "stderr",
     "output_type": "stream",
     "text": [
      "error data = 13, error_rate = 2.02:  21%|██        | 655/3096 [1:02:39<3:28:46,  5.13s/it]"
     ]
    },
    {
     "name": "stdout",
     "output_type": "stream",
     "text": [
      "Maximum run count 10 reached for component 'prompt_builder'\n",
      "iter 0 failed, trying again 0/5\n"
     ]
    },
    {
     "name": "stderr",
     "output_type": "stream",
     "text": [
      "error data = 13, error_rate = 2.01:  21%|██▏       | 660/3096 [1:03:10<3:15:49,  4.82s/it]"
     ]
    },
    {
     "name": "stdout",
     "output_type": "stream",
     "text": [
      "Maximum run count 10 reached for component 'prompt_builder'\n",
      "iter 0 failed, trying again 0/5\n",
      "Maximum run count 10 reached for component 'prompt_builder'\n",
      "iter 1 failed, trying again 1/5\n",
      "Maximum run count 10 reached for component 'prompt_builder'\n",
      "iter 2 failed, trying again 2/5\n",
      "Maximum run count 10 reached for component 'prompt_builder'\n",
      "iter 3 failed, trying again 3/5\n"
     ]
    },
    {
     "name": "stderr",
     "output_type": "stream",
     "text": [
      "error data = 14, error_rate = 2.16:  21%|██▏       | 661/3096 [1:03:53<11:05:10, 16.39s/it]"
     ]
    },
    {
     "name": "stdout",
     "output_type": "stream",
     "text": [
      "Maximum run count 10 reached for component 'prompt_builder'\n",
      "iter 4 failed, trying again 4/5\n"
     ]
    },
    {
     "name": "stderr",
     "output_type": "stream",
     "text": [
      "error data = 14, error_rate = 2.15:  22%|██▏       | 666/3096 [1:04:07<3:19:36,  4.93s/it] "
     ]
    },
    {
     "name": "stdout",
     "output_type": "stream",
     "text": [
      "Maximum run count 10 reached for component 'prompt_builder'\n",
      "iter 0 failed, trying again 0/5\n",
      "Maximum run count 10 reached for component 'prompt_builder'\n",
      "iter 1 failed, trying again 1/5\n",
      "Maximum run count 10 reached for component 'prompt_builder'\n",
      "iter 2 failed, trying again 2/5\n",
      "Maximum run count 10 reached for component 'prompt_builder'\n",
      "iter 3 failed, trying again 3/5\n"
     ]
    },
    {
     "name": "stderr",
     "output_type": "stream",
     "text": [
      "error data = 15, error_rate = 2.30:  22%|██▏       | 667/3096 [1:04:39<8:50:25, 13.10s/it]"
     ]
    },
    {
     "name": "stdout",
     "output_type": "stream",
     "text": [
      "Maximum run count 10 reached for component 'prompt_builder'\n",
      "iter 4 failed, trying again 4/5\n"
     ]
    },
    {
     "name": "stderr",
     "output_type": "stream",
     "text": [
      "error data = 15, error_rate = 2.30:  22%|██▏       | 668/3096 [1:04:41<6:38:58,  9.86s/it]"
     ]
    },
    {
     "name": "stdout",
     "output_type": "stream",
     "text": [
      "Maximum run count 10 reached for component 'prompt_builder'\n",
      "iter 0 failed, trying again 0/5\n"
     ]
    },
    {
     "name": "stderr",
     "output_type": "stream",
     "text": [
      "error data = 15, error_rate = 2.29:  22%|██▏       | 671/3096 [1:05:00<4:53:26,  7.26s/it]"
     ]
    },
    {
     "name": "stdout",
     "output_type": "stream",
     "text": [
      "Maximum run count 10 reached for component 'prompt_builder'\n",
      "iter 0 failed, trying again 0/5\n",
      "Maximum run count 10 reached for component 'prompt_builder'\n",
      "iter 1 failed, trying again 1/5\n",
      "Maximum run count 10 reached for component 'prompt_builder'\n",
      "iter 2 failed, trying again 2/5\n",
      "Maximum run count 10 reached for component 'prompt_builder'\n",
      "iter 3 failed, trying again 3/5\n"
     ]
    },
    {
     "name": "stderr",
     "output_type": "stream",
     "text": [
      "error data = 16, error_rate = 2.44:  22%|██▏       | 672/3096 [1:05:35<10:25:49, 15.49s/it]"
     ]
    },
    {
     "name": "stdout",
     "output_type": "stream",
     "text": [
      "Maximum run count 10 reached for component 'prompt_builder'\n",
      "iter 4 failed, trying again 4/5\n"
     ]
    },
    {
     "name": "stderr",
     "output_type": "stream",
     "text": [
      "error data = 16, error_rate = 2.44:  22%|██▏       | 673/3096 [1:05:40<8:16:18, 12.29s/it] "
     ]
    },
    {
     "name": "stdout",
     "output_type": "stream",
     "text": [
      "Maximum run count 10 reached for component 'prompt_builder'\n",
      "iter 0 failed, trying again 0/5\n"
     ]
    },
    {
     "name": "stderr",
     "output_type": "stream",
     "text": [
      "error data = 16, error_rate = 2.40:  22%|██▏       | 684/3096 [1:06:14<1:37:58,  2.44s/it]"
     ]
    },
    {
     "name": "stdout",
     "output_type": "stream",
     "text": [
      "Maximum run count 10 reached for component 'prompt_builder'\n",
      "iter 0 failed, trying again 0/5\n",
      "Maximum run count 10 reached for component 'prompt_builder'\n",
      "iter 1 failed, trying again 1/5\n",
      "Maximum run count 10 reached for component 'prompt_builder'\n",
      "iter 2 failed, trying again 2/5\n",
      "Maximum run count 10 reached for component 'prompt_builder'\n",
      "iter 3 failed, trying again 3/5\n"
     ]
    },
    {
     "name": "stderr",
     "output_type": "stream",
     "text": [
      "error data = 17, error_rate = 2.54:  22%|██▏       | 685/3096 [1:06:48<7:58:51, 11.92s/it]"
     ]
    },
    {
     "name": "stdout",
     "output_type": "stream",
     "text": [
      "Maximum run count 10 reached for component 'prompt_builder'\n",
      "iter 4 failed, trying again 4/5\n"
     ]
    },
    {
     "name": "stderr",
     "output_type": "stream",
     "text": [
      "error data = 17, error_rate = 2.53:  22%|██▏       | 688/3096 [1:06:58<4:06:03,  6.13s/it]"
     ]
    },
    {
     "name": "stdout",
     "output_type": "stream",
     "text": [
      "Maximum run count 10 reached for component 'prompt_builder'\n",
      "iter 0 failed, trying again 0/5\n",
      "Maximum run count 10 reached for component 'prompt_builder'\n",
      "iter 1 failed, trying again 1/5\n",
      "Maximum run count 10 reached for component 'prompt_builder'\n",
      "iter 2 failed, trying again 2/5\n",
      "Maximum run count 10 reached for component 'prompt_builder'\n",
      "iter 3 failed, trying again 3/5\n"
     ]
    },
    {
     "name": "stderr",
     "output_type": "stream",
     "text": [
      "error data = 17, error_rate = 2.52:  22%|██▏       | 691/3096 [1:07:40<5:54:28,  8.84s/it] "
     ]
    },
    {
     "name": "stdout",
     "output_type": "stream",
     "text": [
      "Maximum run count 10 reached for component 'prompt_builder'\n",
      "iter 0 failed, trying again 0/5\n"
     ]
    },
    {
     "name": "stderr",
     "output_type": "stream",
     "text": [
      "error data = 17, error_rate = 2.50:  23%|██▎       | 697/3096 [1:08:11<2:52:29,  4.31s/it]"
     ]
    },
    {
     "name": "stdout",
     "output_type": "stream",
     "text": [
      "Maximum run count 10 reached for component 'prompt_builder'\n",
      "iter 0 failed, trying again 0/5\n"
     ]
    },
    {
     "name": "stderr",
     "output_type": "stream",
     "text": [
      "error data = 17, error_rate = 2.47:  23%|██▎       | 705/3096 [1:08:46<2:58:29,  4.48s/it]"
     ]
    },
    {
     "name": "stdout",
     "output_type": "stream",
     "text": [
      "Maximum run count 10 reached for component 'prompt_builder'\n",
      "iter 0 failed, trying again 0/5\n",
      "Maximum run count 10 reached for component 'prompt_builder'\n",
      "iter 1 failed, trying again 1/5\n",
      "Maximum run count 10 reached for component 'prompt_builder'\n",
      "iter 2 failed, trying again 2/5\n",
      "Maximum run count 10 reached for component 'prompt_builder'\n",
      "iter 3 failed, trying again 3/5\n"
     ]
    },
    {
     "name": "stderr",
     "output_type": "stream",
     "text": [
      "error data = 18, error_rate = 2.62:  23%|██▎       | 706/3096 [1:09:22<9:13:33, 13.90s/it]"
     ]
    },
    {
     "name": "stdout",
     "output_type": "stream",
     "text": [
      "Maximum run count 10 reached for component 'prompt_builder'\n",
      "iter 4 failed, trying again 4/5\n"
     ]
    },
    {
     "name": "stderr",
     "output_type": "stream",
     "text": [
      "error data = 18, error_rate = 2.60:  23%|██▎       | 709/3096 [1:09:25<3:40:43,  5.55s/it]"
     ]
    },
    {
     "name": "stdout",
     "output_type": "stream",
     "text": [
      "Maximum run count 10 reached for component 'prompt_builder'\n",
      "iter 0 failed, trying again 0/5\n"
     ]
    },
    {
     "name": "stderr",
     "output_type": "stream",
     "text": [
      "error data = 18, error_rate = 2.59:  23%|██▎       | 713/3096 [1:09:44<2:24:38,  3.64s/it]"
     ]
    },
    {
     "name": "stdout",
     "output_type": "stream",
     "text": [
      "Maximum run count 10 reached for component 'prompt_builder'\n",
      "iter 0 failed, trying again 0/5\n",
      "Maximum run count 10 reached for component 'prompt_builder'\n",
      "iter 1 failed, trying again 1/5\n"
     ]
    },
    {
     "name": "stderr",
     "output_type": "stream",
     "text": [
      "error data = 18, error_rate = 2.58:  23%|██▎       | 715/3096 [1:10:07<4:24:55,  6.68s/it]"
     ]
    },
    {
     "name": "stdout",
     "output_type": "stream",
     "text": [
      "Maximum run count 10 reached for component 'prompt_builder'\n",
      "iter 0 failed, trying again 0/5\n"
     ]
    },
    {
     "name": "stderr",
     "output_type": "stream",
     "text": [
      "error data = 18, error_rate = 2.58:  23%|██▎       | 716/3096 [1:10:15<4:38:44,  7.03s/it]"
     ]
    },
    {
     "name": "stdout",
     "output_type": "stream",
     "text": [
      "Maximum run count 10 reached for component 'prompt_builder'\n",
      "iter 0 failed, trying again 0/5\n",
      "Maximum run count 10 reached for component 'prompt_builder'\n",
      "iter 1 failed, trying again 1/5\n"
     ]
    },
    {
     "name": "stderr",
     "output_type": "stream",
     "text": [
      "error data = 18, error_rate = 2.58:  23%|██▎       | 717/3096 [1:10:34<6:56:10, 10.50s/it]"
     ]
    },
    {
     "name": "stdout",
     "output_type": "stream",
     "text": [
      "Maximum run count 10 reached for component 'prompt_builder'\n",
      "iter 0 failed, trying again 0/5\n"
     ]
    },
    {
     "name": "stderr",
     "output_type": "stream",
     "text": [
      "error data = 18, error_rate = 2.56:  23%|██▎       | 720/3096 [1:10:54<4:47:28,  7.26s/it]"
     ]
    },
    {
     "name": "stdout",
     "output_type": "stream",
     "text": [
      "Maximum run count 10 reached for component 'prompt_builder'\n",
      "iter 0 failed, trying again 0/5\n"
     ]
    },
    {
     "name": "stderr",
     "output_type": "stream",
     "text": [
      "error data = 18, error_rate = 2.55:  23%|██▎       | 724/3096 [1:11:26<4:26:08,  6.73s/it]"
     ]
    },
    {
     "name": "stdout",
     "output_type": "stream",
     "text": [
      "Maximum run count 10 reached for component 'prompt_builder'\n",
      "iter 0 failed, trying again 0/5\n"
     ]
    },
    {
     "name": "stderr",
     "output_type": "stream",
     "text": [
      "error data = 18, error_rate = 2.53:  24%|██▎       | 730/3096 [1:11:48<2:05:00,  3.17s/it]"
     ]
    },
    {
     "name": "stdout",
     "output_type": "stream",
     "text": [
      "Maximum run count 10 reached for component 'prompt_builder'\n",
      "iter 0 failed, trying again 0/5\n",
      "Maximum run count 10 reached for component 'prompt_builder'\n",
      "iter 1 failed, trying again 1/5\n"
     ]
    },
    {
     "name": "stderr",
     "output_type": "stream",
     "text": [
      "error data = 18, error_rate = 2.50:  24%|██▍       | 738/3096 [1:12:27<2:04:32,  3.17s/it]"
     ]
    },
    {
     "name": "stdout",
     "output_type": "stream",
     "text": [
      "Maximum run count 10 reached for component 'prompt_builder'\n",
      "iter 0 failed, trying again 0/5\n"
     ]
    },
    {
     "name": "stderr",
     "output_type": "stream",
     "text": [
      "error data = 18, error_rate = 2.49:  24%|██▍       | 742/3096 [1:12:47<2:44:49,  4.20s/it]"
     ]
    },
    {
     "name": "stdout",
     "output_type": "stream",
     "text": [
      "Maximum run count 10 reached for component 'prompt_builder'\n",
      "iter 0 failed, trying again 0/5\n"
     ]
    },
    {
     "name": "stderr",
     "output_type": "stream",
     "text": [
      "error data = 18, error_rate = 2.48:  24%|██▍       | 744/3096 [1:13:05<3:53:09,  5.95s/it]"
     ]
    },
    {
     "name": "stdout",
     "output_type": "stream",
     "text": [
      "Maximum run count 10 reached for component 'prompt_builder'\n",
      "iter 0 failed, trying again 0/5\n",
      "Maximum run count 10 reached for component 'prompt_builder'\n",
      "iter 1 failed, trying again 1/5\n"
     ]
    },
    {
     "name": "stderr",
     "output_type": "stream",
     "text": [
      "error data = 18, error_rate = 2.46:  24%|██▍       | 750/3096 [1:13:22<1:18:25,  2.01s/it]"
     ]
    },
    {
     "name": "stdout",
     "output_type": "stream",
     "text": [
      "Maximum run count 10 reached for component 'prompt_builder'\n",
      "iter 0 failed, trying again 0/5\n",
      "Maximum run count 10 reached for component 'prompt_builder'\n",
      "iter 1 failed, trying again 1/5\n"
     ]
    },
    {
     "name": "stderr",
     "output_type": "stream",
     "text": [
      "error data = 18, error_rate = 2.44:  24%|██▍       | 756/3096 [1:13:46<1:34:01,  2.41s/it]"
     ]
    },
    {
     "name": "stdout",
     "output_type": "stream",
     "text": [
      "Maximum run count 10 reached for component 'prompt_builder'\n",
      "iter 0 failed, trying again 0/5\n"
     ]
    },
    {
     "name": "stderr",
     "output_type": "stream",
     "text": [
      "error data = 18, error_rate = 2.40:  25%|██▍       | 769/3096 [1:14:23<1:55:59,  2.99s/it]"
     ]
    },
    {
     "name": "stdout",
     "output_type": "stream",
     "text": [
      "Maximum run count 10 reached for component 'prompt_builder'\n",
      "iter 0 failed, trying again 0/5\n"
     ]
    },
    {
     "name": "stderr",
     "output_type": "stream",
     "text": [
      "error data = 18, error_rate = 2.39:  25%|██▍       | 770/3096 [1:14:29<2:23:47,  3.71s/it]"
     ]
    },
    {
     "name": "stdout",
     "output_type": "stream",
     "text": [
      "Maximum run count 10 reached for component 'prompt_builder'\n",
      "iter 0 failed, trying again 0/5\n",
      "Maximum run count 10 reached for component 'prompt_builder'\n",
      "iter 1 failed, trying again 1/5\n",
      "Maximum run count 10 reached for component 'prompt_builder'\n",
      "iter 2 failed, trying again 2/5\n"
     ]
    },
    {
     "name": "stderr",
     "output_type": "stream",
     "text": [
      "error data = 18, error_rate = 2.39:  25%|██▍       | 771/3096 [1:15:02<8:13:41, 12.74s/it]"
     ]
    },
    {
     "name": "stdout",
     "output_type": "stream",
     "text": [
      "Maximum run count 10 reached for component 'prompt_builder'\n",
      "iter 0 failed, trying again 0/5\n"
     ]
    },
    {
     "name": "stderr",
     "output_type": "stream",
     "text": [
      "error data = 18, error_rate = 2.37:  25%|██▌       | 777/3096 [1:15:34<3:06:35,  4.83s/it]"
     ]
    },
    {
     "name": "stdout",
     "output_type": "stream",
     "text": [
      "Maximum run count 10 reached for component 'prompt_builder'\n",
      "iter 0 failed, trying again 0/5\n",
      "Maximum run count 10 reached for component 'prompt_builder'\n",
      "iter 1 failed, trying again 1/5\n",
      "Maximum run count 10 reached for component 'prompt_builder'\n",
      "iter 2 failed, trying again 2/5\n",
      "Maximum run count 10 reached for component 'prompt_builder'\n",
      "iter 3 failed, trying again 3/5\n"
     ]
    },
    {
     "name": "stderr",
     "output_type": "stream",
     "text": [
      "error data = 19, error_rate = 2.50:  25%|██▌       | 778/3096 [1:16:05<8:01:47, 12.47s/it]"
     ]
    },
    {
     "name": "stdout",
     "output_type": "stream",
     "text": [
      "Maximum run count 10 reached for component 'prompt_builder'\n",
      "iter 4 failed, trying again 4/5\n",
      "Maximum run count 10 reached for component 'prompt_builder'\n",
      "iter 0 failed, trying again 0/5\n",
      "Maximum run count 10 reached for component 'prompt_builder'\n",
      "iter 1 failed, trying again 1/5\n",
      "Maximum run count 10 reached for component 'prompt_builder'\n",
      "iter 2 failed, trying again 2/5\n",
      "Maximum run count 10 reached for component 'prompt_builder'\n",
      "iter 3 failed, trying again 3/5\n"
     ]
    },
    {
     "name": "stderr",
     "output_type": "stream",
     "text": [
      "error data = 20, error_rate = 2.64:  25%|██▌       | 779/3096 [1:16:49<14:05:56, 21.91s/it]"
     ]
    },
    {
     "name": "stdout",
     "output_type": "stream",
     "text": [
      "Maximum run count 10 reached for component 'prompt_builder'\n",
      "iter 4 failed, trying again 4/5\n"
     ]
    },
    {
     "name": "stderr",
     "output_type": "stream",
     "text": [
      "error data = 20, error_rate = 2.60:  25%|██▌       | 789/3096 [1:17:06<1:36:22,  2.51s/it] "
     ]
    },
    {
     "name": "stdout",
     "output_type": "stream",
     "text": [
      "Maximum run count 10 reached for component 'prompt_builder'\n",
      "iter 0 failed, trying again 0/5\n",
      "Maximum run count 10 reached for component 'prompt_builder'\n",
      "iter 1 failed, trying again 1/5\n"
     ]
    },
    {
     "name": "stderr",
     "output_type": "stream",
     "text": [
      "error data = 20, error_rate = 2.57:  26%|██▌       | 797/3096 [1:17:38<2:02:10,  3.19s/it]"
     ]
    },
    {
     "name": "stdout",
     "output_type": "stream",
     "text": [
      "Maximum run count 10 reached for component 'prompt_builder'\n",
      "iter 0 failed, trying again 0/5\n",
      "Maximum run count 10 reached for component 'prompt_builder'\n",
      "iter 1 failed, trying again 1/5\n",
      "Maximum run count 10 reached for component 'prompt_builder'\n",
      "iter 2 failed, trying again 2/5\n",
      "Maximum run count 10 reached for component 'prompt_builder'\n",
      "iter 3 failed, trying again 3/5\n"
     ]
    },
    {
     "name": "stderr",
     "output_type": "stream",
     "text": [
      "error data = 21, error_rate = 2.70:  26%|██▌       | 798/3096 [1:18:12<7:59:29, 12.52s/it]"
     ]
    },
    {
     "name": "stdout",
     "output_type": "stream",
     "text": [
      "Maximum run count 10 reached for component 'prompt_builder'\n",
      "iter 4 failed, trying again 4/5\n"
     ]
    },
    {
     "name": "stderr",
     "output_type": "stream",
     "text": [
      "error data = 21, error_rate = 2.67:  26%|██▌       | 808/3096 [1:18:40<1:12:56,  1.91s/it]"
     ]
    },
    {
     "name": "stdout",
     "output_type": "stream",
     "text": [
      "Maximum run count 10 reached for component 'prompt_builder'\n",
      "iter 0 failed, trying again 0/5\n",
      "Maximum run count 10 reached for component 'prompt_builder'\n",
      "iter 1 failed, trying again 1/5\n",
      "Maximum run count 10 reached for component 'prompt_builder'\n",
      "iter 2 failed, trying again 2/5\n",
      "Maximum run count 10 reached for component 'prompt_builder'\n",
      "iter 3 failed, trying again 3/5\n"
     ]
    },
    {
     "name": "stderr",
     "output_type": "stream",
     "text": [
      "error data = 22, error_rate = 2.80:  26%|██▌       | 809/3096 [1:19:20<8:28:55, 13.35s/it]"
     ]
    },
    {
     "name": "stdout",
     "output_type": "stream",
     "text": [
      "Maximum run count 10 reached for component 'prompt_builder'\n",
      "iter 4 failed, trying again 4/5\n"
     ]
    },
    {
     "name": "stderr",
     "output_type": "stream",
     "text": [
      "error data = 22, error_rate = 2.71:  27%|██▋       | 833/3096 [1:20:30<2:16:41,  3.62s/it]"
     ]
    },
    {
     "name": "stdout",
     "output_type": "stream",
     "text": [
      "Maximum run count 10 reached for component 'prompt_builder'\n",
      "iter 0 failed, trying again 0/5\n",
      "Maximum run count 10 reached for component 'prompt_builder'\n",
      "iter 1 failed, trying again 1/5\n"
     ]
    },
    {
     "name": "stderr",
     "output_type": "stream",
     "text": [
      "error data = 22, error_rate = 2.65:  27%|██▋       | 851/3096 [1:21:24<1:13:13,  1.96s/it]"
     ]
    },
    {
     "name": "stdout",
     "output_type": "stream",
     "text": [
      "Maximum run count 10 reached for component 'prompt_builder'\n",
      "iter 0 failed, trying again 0/5\n",
      "Maximum run count 10 reached for component 'prompt_builder'\n",
      "iter 1 failed, trying again 1/5\n"
     ]
    },
    {
     "name": "stderr",
     "output_type": "stream",
     "text": [
      "error data = 22, error_rate = 2.64:  28%|██▊       | 854/3096 [1:21:44<2:28:00,  3.96s/it]"
     ]
    },
    {
     "name": "stdout",
     "output_type": "stream",
     "text": [
      "Maximum run count 10 reached for component 'prompt_builder'\n",
      "iter 0 failed, trying again 0/5\n",
      "Maximum run count 10 reached for component 'prompt_builder'\n",
      "iter 1 failed, trying again 1/5\n",
      "Maximum run count 10 reached for component 'prompt_builder'\n",
      "iter 2 failed, trying again 2/5\n"
     ]
    },
    {
     "name": "stderr",
     "output_type": "stream",
     "text": [
      "error data = 22, error_rate = 2.64:  28%|██▊       | 856/3096 [1:22:15<5:24:48,  8.70s/it]"
     ]
    },
    {
     "name": "stdout",
     "output_type": "stream",
     "text": [
      "Maximum run count 10 reached for component 'prompt_builder'\n",
      "iter 0 failed, trying again 0/5\n"
     ]
    },
    {
     "name": "stderr",
     "output_type": "stream",
     "text": [
      "error data = 22, error_rate = 2.63:  28%|██▊       | 859/3096 [1:22:38<4:46:44,  7.69s/it]"
     ]
    },
    {
     "name": "stdout",
     "output_type": "stream",
     "text": [
      "Maximum run count 10 reached for component 'prompt_builder'\n",
      "iter 0 failed, trying again 0/5\n",
      "Maximum run count 10 reached for component 'prompt_builder'\n",
      "iter 1 failed, trying again 1/5\n",
      "Maximum run count 10 reached for component 'prompt_builder'\n",
      "iter 2 failed, trying again 2/5\n",
      "Maximum run count 10 reached for component 'prompt_builder'\n",
      "iter 3 failed, trying again 3/5\n"
     ]
    },
    {
     "name": "stderr",
     "output_type": "stream",
     "text": [
      "error data = 23, error_rate = 2.75:  28%|██▊       | 860/3096 [1:23:27<12:29:11, 20.10s/it]"
     ]
    },
    {
     "name": "stdout",
     "output_type": "stream",
     "text": [
      "Maximum run count 10 reached for component 'prompt_builder'\n",
      "iter 4 failed, trying again 4/5\n",
      "Maximum run count 10 reached for component 'prompt_builder'\n",
      "iter 0 failed, trying again 0/5\n"
     ]
    },
    {
     "name": "stderr",
     "output_type": "stream",
     "text": [
      "error data = 23, error_rate = 2.71:  28%|██▊       | 871/3096 [1:24:09<1:54:00,  3.07s/it] "
     ]
    },
    {
     "name": "stdout",
     "output_type": "stream",
     "text": [
      "Maximum run count 10 reached for component 'prompt_builder'\n",
      "iter 0 failed, trying again 0/5\n"
     ]
    },
    {
     "name": "stderr",
     "output_type": "stream",
     "text": [
      "error data = 23, error_rate = 2.71:  28%|██▊       | 873/3096 [1:24:32<4:04:44,  6.61s/it]"
     ]
    },
    {
     "name": "stdout",
     "output_type": "stream",
     "text": [
      "Maximum run count 10 reached for component 'prompt_builder'\n",
      "iter 0 failed, trying again 0/5\n"
     ]
    },
    {
     "name": "stderr",
     "output_type": "stream",
     "text": [
      "error data = 23, error_rate = 2.67:  29%|██▊       | 886/3096 [1:25:03<53:03,  1.44s/it]  "
     ]
    },
    {
     "name": "stdout",
     "output_type": "stream",
     "text": [
      "Maximum run count 10 reached for component 'prompt_builder'\n",
      "iter 0 failed, trying again 0/5\n"
     ]
    },
    {
     "name": "stderr",
     "output_type": "stream",
     "text": [
      "error data = 23, error_rate = 2.64:  29%|██▉       | 893/3096 [1:25:44<2:02:37,  3.34s/it]"
     ]
    },
    {
     "name": "stdout",
     "output_type": "stream",
     "text": [
      "Maximum run count 10 reached for component 'prompt_builder'\n",
      "iter 0 failed, trying again 0/5\n"
     ]
    },
    {
     "name": "stderr",
     "output_type": "stream",
     "text": [
      "error data = 23, error_rate = 2.62:  29%|██▉       | 901/3096 [1:26:14<1:43:37,  2.83s/it]"
     ]
    },
    {
     "name": "stdout",
     "output_type": "stream",
     "text": [
      "Maximum run count 10 reached for component 'prompt_builder'\n",
      "iter 0 failed, trying again 0/5\n"
     ]
    },
    {
     "name": "stderr",
     "output_type": "stream",
     "text": [
      "error data = 23, error_rate = 2.62:  29%|██▉       | 902/3096 [1:26:31<4:21:30,  7.15s/it]"
     ]
    },
    {
     "name": "stdout",
     "output_type": "stream",
     "text": [
      "Maximum run count 10 reached for component 'prompt_builder'\n",
      "iter 0 failed, trying again 0/5\n"
     ]
    },
    {
     "name": "stderr",
     "output_type": "stream",
     "text": [
      "error data = 23, error_rate = 2.61:  29%|██▉       | 903/3096 [1:27:02<8:42:52, 14.31s/it]"
     ]
    },
    {
     "name": "stdout",
     "output_type": "stream",
     "text": [
      "Maximum run count 10 reached for component 'prompt_builder'\n",
      "iter 0 failed, trying again 0/5\n"
     ]
    },
    {
     "name": "stderr",
     "output_type": "stream",
     "text": [
      "error data = 23, error_rate = 2.61:  29%|██▉       | 905/3096 [1:27:12<5:38:02,  9.26s/it]"
     ]
    },
    {
     "name": "stdout",
     "output_type": "stream",
     "text": [
      "Maximum run count 10 reached for component 'prompt_builder'\n",
      "iter 0 failed, trying again 0/5\n",
      "Maximum run count 10 reached for component 'prompt_builder'\n",
      "iter 1 failed, trying again 1/5\n",
      "Maximum run count 10 reached for component 'prompt_builder'\n",
      "iter 2 failed, trying again 2/5\n"
     ]
    },
    {
     "name": "stderr",
     "output_type": "stream",
     "text": [
      "error data = 23, error_rate = 2.60:  29%|██▉       | 906/3096 [1:27:47<10:20:34, 17.00s/it]"
     ]
    },
    {
     "name": "stdout",
     "output_type": "stream",
     "text": [
      "Maximum run count 10 reached for component 'prompt_builder'\n",
      "iter 0 failed, trying again 0/5\n",
      "Maximum run count 10 reached for component 'prompt_builder'\n",
      "iter 1 failed, trying again 1/5\n",
      "Maximum run count 10 reached for component 'prompt_builder'\n",
      "iter 2 failed, trying again 2/5\n"
     ]
    },
    {
     "name": "stderr",
     "output_type": "stream",
     "text": [
      "error data = 23, error_rate = 2.57:  30%|██▉       | 917/3096 [1:28:42<1:45:12,  2.90s/it] "
     ]
    },
    {
     "name": "stdout",
     "output_type": "stream",
     "text": [
      "Maximum run count 10 reached for component 'prompt_builder'\n",
      "iter 0 failed, trying again 0/5\n"
     ]
    },
    {
     "name": "stderr",
     "output_type": "stream",
     "text": [
      "error data = 23, error_rate = 2.56:  30%|██▉       | 922/3096 [1:29:09<2:25:35,  4.02s/it]"
     ]
    },
    {
     "name": "stdout",
     "output_type": "stream",
     "text": [
      "Maximum run count 10 reached for component 'prompt_builder'\n",
      "iter 0 failed, trying again 0/5\n"
     ]
    },
    {
     "name": "stderr",
     "output_type": "stream",
     "text": [
      "error data = 23, error_rate = 2.54:  30%|██▉       | 928/3096 [1:29:27<1:13:07,  2.02s/it]"
     ]
    },
    {
     "name": "stdout",
     "output_type": "stream",
     "text": [
      "Maximum run count 10 reached for component 'prompt_builder'\n",
      "iter 0 failed, trying again 0/5\n"
     ]
    },
    {
     "name": "stderr",
     "output_type": "stream",
     "text": [
      "error data = 23, error_rate = 2.52:  30%|███       | 935/3096 [1:29:42<54:44,  1.52s/it]  "
     ]
    },
    {
     "name": "stdout",
     "output_type": "stream",
     "text": [
      "Maximum run count 10 reached for component 'prompt_builder'\n",
      "iter 0 failed, trying again 0/5\n",
      "Maximum run count 10 reached for component 'prompt_builder'\n",
      "iter 1 failed, trying again 1/5\n",
      "Maximum run count 10 reached for component 'prompt_builder'\n",
      "iter 2 failed, trying again 2/5\n"
     ]
    },
    {
     "name": "stderr",
     "output_type": "stream",
     "text": [
      "error data = 23, error_rate = 2.49:  31%|███       | 945/3096 [1:30:21<1:06:45,  1.86s/it]"
     ]
    },
    {
     "name": "stdout",
     "output_type": "stream",
     "text": [
      "Maximum run count 10 reached for component 'prompt_builder'\n",
      "iter 0 failed, trying again 0/5\n"
     ]
    },
    {
     "name": "stderr",
     "output_type": "stream",
     "text": [
      "error data = 23, error_rate = 2.45:  31%|███       | 961/3096 [1:31:02<1:01:49,  1.74s/it]"
     ]
    },
    {
     "name": "stdout",
     "output_type": "stream",
     "text": [
      "Maximum run count 10 reached for component 'prompt_builder'\n",
      "iter 0 failed, trying again 0/5\n"
     ]
    },
    {
     "name": "stderr",
     "output_type": "stream",
     "text": [
      "error data = 23, error_rate = 2.43:  31%|███▏      | 971/3096 [1:31:29<51:31,  1.45s/it]  "
     ]
    },
    {
     "name": "stdout",
     "output_type": "stream",
     "text": [
      "Maximum run count 10 reached for component 'prompt_builder'\n",
      "iter 0 failed, trying again 0/5\n",
      "Maximum run count 10 reached for component 'prompt_builder'\n",
      "iter 1 failed, trying again 1/5\n"
     ]
    },
    {
     "name": "stderr",
     "output_type": "stream",
     "text": [
      "error data = 23, error_rate = 2.42:  31%|███▏      | 972/3096 [1:31:46<3:37:54,  6.16s/it]"
     ]
    },
    {
     "name": "stdout",
     "output_type": "stream",
     "text": [
      "Maximum run count 10 reached for component 'prompt_builder'\n",
      "iter 0 failed, trying again 0/5\n",
      "Maximum run count 10 reached for component 'prompt_builder'\n",
      "iter 1 failed, trying again 1/5\n"
     ]
    },
    {
     "name": "stderr",
     "output_type": "stream",
     "text": [
      "error data = 23, error_rate = 2.41:  32%|███▏      | 977/3096 [1:32:11<2:05:14,  3.55s/it]"
     ]
    },
    {
     "name": "stdout",
     "output_type": "stream",
     "text": [
      "Maximum run count 10 reached for component 'prompt_builder'\n",
      "iter 0 failed, trying again 0/5\n",
      "Maximum run count 10 reached for component 'prompt_builder'\n",
      "iter 1 failed, trying again 1/5\n"
     ]
    },
    {
     "name": "stderr",
     "output_type": "stream",
     "text": [
      "error data = 23, error_rate = 2.41:  32%|███▏      | 978/3096 [1:32:27<4:18:08,  7.31s/it]"
     ]
    },
    {
     "name": "stdout",
     "output_type": "stream",
     "text": [
      "Maximum run count 10 reached for component 'prompt_builder'\n",
      "iter 0 failed, trying again 0/5\n",
      "Maximum run count 10 reached for component 'prompt_builder'\n",
      "iter 1 failed, trying again 1/5\n",
      "Maximum run count 10 reached for component 'prompt_builder'\n",
      "iter 2 failed, trying again 2/5\n",
      "Maximum run count 10 reached for component 'prompt_builder'\n",
      "iter 3 failed, trying again 3/5\n"
     ]
    },
    {
     "name": "stderr",
     "output_type": "stream",
     "text": [
      "error data = 23, error_rate = 2.39:  32%|███▏      | 984/3096 [1:33:34<2:53:27,  4.93s/it] "
     ]
    },
    {
     "name": "stdout",
     "output_type": "stream",
     "text": [
      "Maximum run count 10 reached for component 'prompt_builder'\n",
      "iter 0 failed, trying again 0/5\n"
     ]
    },
    {
     "name": "stderr",
     "output_type": "stream",
     "text": [
      "error data = 23, error_rate = 2.39:  32%|███▏      | 986/3096 [1:33:45<2:43:46,  4.66s/it]"
     ]
    },
    {
     "name": "stdout",
     "output_type": "stream",
     "text": [
      "Maximum run count 10 reached for component 'prompt_builder'\n",
      "iter 0 failed, trying again 0/5\n"
     ]
    },
    {
     "name": "stderr",
     "output_type": "stream",
     "text": [
      "error data = 23, error_rate = 2.37:  32%|███▏      | 993/3096 [1:34:21<2:05:09,  3.57s/it]"
     ]
    },
    {
     "name": "stdout",
     "output_type": "stream",
     "text": [
      "Maximum run count 10 reached for component 'prompt_builder'\n",
      "iter 0 failed, trying again 0/5\n",
      "Maximum run count 10 reached for component 'prompt_builder'\n",
      "iter 1 failed, trying again 1/5\n"
     ]
    },
    {
     "name": "stderr",
     "output_type": "stream",
     "text": [
      "error data = 23, error_rate = 2.34:  32%|███▏      | 1006/3096 [1:34:47<1:11:20,  2.05s/it]"
     ]
    },
    {
     "name": "stdout",
     "output_type": "stream",
     "text": [
      "Maximum run count 10 reached for component 'prompt_builder'\n",
      "iter 0 failed, trying again 0/5\n",
      "Maximum run count 10 reached for component 'prompt_builder'\n",
      "iter 1 failed, trying again 1/5\n"
     ]
    },
    {
     "name": "stderr",
     "output_type": "stream",
     "text": [
      "error data = 23, error_rate = 2.33:  33%|███▎      | 1010/3096 [1:35:15<2:03:57,  3.57s/it]"
     ]
    },
    {
     "name": "stdout",
     "output_type": "stream",
     "text": [
      "Maximum run count 10 reached for component 'prompt_builder'\n",
      "iter 0 failed, trying again 0/5\n",
      "Maximum run count 10 reached for component 'prompt_builder'\n",
      "iter 1 failed, trying again 1/5\n"
     ]
    },
    {
     "name": "stderr",
     "output_type": "stream",
     "text": [
      "error data = 23, error_rate = 2.30:  33%|███▎      | 1022/3096 [1:36:09<1:12:44,  2.10s/it]"
     ]
    },
    {
     "name": "stdout",
     "output_type": "stream",
     "text": [
      "Maximum run count 10 reached for component 'prompt_builder'\n",
      "iter 0 failed, trying again 0/5\n"
     ]
    },
    {
     "name": "stderr",
     "output_type": "stream",
     "text": [
      "error data = 23, error_rate = 2.29:  33%|███▎      | 1027/3096 [1:36:31<1:57:22,  3.40s/it]"
     ]
    },
    {
     "name": "stdout",
     "output_type": "stream",
     "text": [
      "Maximum run count 10 reached for component 'prompt_builder'\n",
      "iter 0 failed, trying again 0/5\n"
     ]
    },
    {
     "name": "stderr",
     "output_type": "stream",
     "text": [
      "error data = 23, error_rate = 2.28:  33%|███▎      | 1033/3096 [1:37:18<4:05:30,  7.14s/it]"
     ]
    },
    {
     "name": "stdout",
     "output_type": "stream",
     "text": [
      "Maximum run count 10 reached for component 'prompt_builder'\n",
      "iter 0 failed, trying again 0/5\n"
     ]
    },
    {
     "name": "stderr",
     "output_type": "stream",
     "text": [
      "error data = 23, error_rate = 2.27:  33%|███▎      | 1034/3096 [1:37:29<4:36:45,  8.05s/it]"
     ]
    },
    {
     "name": "stdout",
     "output_type": "stream",
     "text": [
      "Maximum run count 10 reached for component 'prompt_builder'\n",
      "iter 0 failed, trying again 0/5\n"
     ]
    },
    {
     "name": "stderr",
     "output_type": "stream",
     "text": [
      "error data = 23, error_rate = 2.27:  33%|███▎      | 1035/3096 [1:37:43<5:43:17,  9.99s/it]"
     ]
    },
    {
     "name": "stdout",
     "output_type": "stream",
     "text": [
      "Maximum run count 10 reached for component 'prompt_builder'\n",
      "iter 0 failed, trying again 0/5\n",
      "Maximum run count 10 reached for component 'prompt_builder'\n",
      "iter 1 failed, trying again 1/5\n"
     ]
    },
    {
     "name": "stderr",
     "output_type": "stream",
     "text": [
      "error data = 23, error_rate = 2.27:  33%|███▎      | 1037/3096 [1:38:03<5:25:51,  9.50s/it]"
     ]
    },
    {
     "name": "stdout",
     "output_type": "stream",
     "text": [
      "Maximum run count 10 reached for component 'prompt_builder'\n",
      "iter 0 failed, trying again 0/5\n",
      "Maximum run count 10 reached for component 'prompt_builder'\n",
      "iter 1 failed, trying again 1/5\n"
     ]
    },
    {
     "name": "stderr",
     "output_type": "stream",
     "text": [
      "error data = 23, error_rate = 2.26:  34%|███▎      | 1041/3096 [1:38:31<3:36:05,  6.31s/it]"
     ]
    },
    {
     "name": "stdout",
     "output_type": "stream",
     "text": [
      "Maximum run count 10 reached for component 'prompt_builder'\n",
      "iter 0 failed, trying again 0/5\n",
      "Maximum run count 10 reached for component 'prompt_builder'\n",
      "iter 1 failed, trying again 1/5\n",
      "Maximum run count 10 reached for component 'prompt_builder'\n",
      "iter 2 failed, trying again 2/5\n"
     ]
    },
    {
     "name": "stderr",
     "output_type": "stream",
     "text": [
      "error data = 23, error_rate = 2.26:  34%|███▎      | 1042/3096 [1:39:06<8:30:41, 14.92s/it]"
     ]
    },
    {
     "name": "stdout",
     "output_type": "stream",
     "text": [
      "Maximum run count 10 reached for component 'prompt_builder'\n",
      "iter 0 failed, trying again 0/5\n"
     ]
    },
    {
     "name": "stderr",
     "output_type": "stream",
     "text": [
      "error data = 23, error_rate = 2.25:  34%|███▎      | 1043/3096 [1:39:23<8:49:08, 15.46s/it]"
     ]
    },
    {
     "name": "stdout",
     "output_type": "stream",
     "text": [
      "Maximum run count 10 reached for component 'prompt_builder'\n",
      "iter 0 failed, trying again 0/5\n",
      "Maximum run count 10 reached for component 'prompt_builder'\n",
      "iter 1 failed, trying again 1/5\n"
     ]
    },
    {
     "name": "stderr",
     "output_type": "stream",
     "text": [
      "error data = 23, error_rate = 2.25:  34%|███▎      | 1044/3096 [1:39:49<10:38:53, 18.68s/it]"
     ]
    },
    {
     "name": "stdout",
     "output_type": "stream",
     "text": [
      "Maximum run count 10 reached for component 'prompt_builder'\n",
      "iter 0 failed, trying again 0/5\n"
     ]
    },
    {
     "name": "stderr",
     "output_type": "stream",
     "text": [
      "error data = 23, error_rate = 2.24:  34%|███▍      | 1048/3096 [1:40:01<3:43:29,  6.55s/it] "
     ]
    },
    {
     "name": "stdout",
     "output_type": "stream",
     "text": [
      "Maximum run count 10 reached for component 'prompt_builder'\n",
      "iter 0 failed, trying again 0/5\n"
     ]
    },
    {
     "name": "stderr",
     "output_type": "stream",
     "text": [
      "error data = 23, error_rate = 2.24:  34%|███▍      | 1049/3096 [1:40:08<3:48:32,  6.70s/it]"
     ]
    },
    {
     "name": "stdout",
     "output_type": "stream",
     "text": [
      "Maximum run count 10 reached for component 'prompt_builder'\n",
      "iter 0 failed, trying again 0/5\n",
      "Maximum run count 10 reached for component 'prompt_builder'\n",
      "iter 1 failed, trying again 1/5\n",
      "Maximum run count 10 reached for component 'prompt_builder'\n",
      "iter 2 failed, trying again 2/5\n",
      "Maximum run count 10 reached for component 'prompt_builder'\n",
      "iter 3 failed, trying again 3/5\n"
     ]
    },
    {
     "name": "stderr",
     "output_type": "stream",
     "text": [
      "error data = 24, error_rate = 2.34:  34%|███▍      | 1050/3096 [1:40:41<8:15:17, 14.52s/it]"
     ]
    },
    {
     "name": "stdout",
     "output_type": "stream",
     "text": [
      "Maximum run count 10 reached for component 'prompt_builder'\n",
      "iter 4 failed, trying again 4/5\n"
     ]
    },
    {
     "name": "stderr",
     "output_type": "stream",
     "text": [
      "error data = 24, error_rate = 2.34:  34%|███▍      | 1051/3096 [1:40:42<6:01:02, 10.59s/it]"
     ]
    },
    {
     "name": "stdout",
     "output_type": "stream",
     "text": [
      "Maximum run count 10 reached for component 'prompt_builder'\n",
      "iter 0 failed, trying again 0/5\n"
     ]
    },
    {
     "name": "stderr",
     "output_type": "stream",
     "text": [
      "error data = 24, error_rate = 2.32:  34%|███▍      | 1058/3096 [1:41:05<1:46:52,  3.15s/it]"
     ]
    },
    {
     "name": "stdout",
     "output_type": "stream",
     "text": [
      "Maximum run count 10 reached for component 'prompt_builder'\n",
      "iter 0 failed, trying again 0/5\n",
      "Maximum run count 10 reached for component 'prompt_builder'\n",
      "iter 1 failed, trying again 1/5\n",
      "Maximum run count 10 reached for component 'prompt_builder'\n",
      "iter 2 failed, trying again 2/5\n"
     ]
    },
    {
     "name": "stderr",
     "output_type": "stream",
     "text": [
      "error data = 24, error_rate = 2.32:  34%|███▍      | 1060/3096 [1:41:30<3:54:21,  6.91s/it]"
     ]
    },
    {
     "name": "stdout",
     "output_type": "stream",
     "text": [
      "Maximum run count 10 reached for component 'prompt_builder'\n",
      "iter 0 failed, trying again 0/5\n"
     ]
    },
    {
     "name": "stderr",
     "output_type": "stream",
     "text": [
      "error data = 24, error_rate = 2.31:  34%|███▍      | 1061/3096 [1:41:38<4:05:11,  7.23s/it]"
     ]
    },
    {
     "name": "stdout",
     "output_type": "stream",
     "text": [
      "Maximum run count 10 reached for component 'prompt_builder'\n",
      "iter 0 failed, trying again 0/5\n"
     ]
    },
    {
     "name": "stderr",
     "output_type": "stream",
     "text": [
      "error data = 24, error_rate = 2.31:  34%|███▍      | 1062/3096 [1:41:51<5:05:44,  9.02s/it]"
     ]
    },
    {
     "name": "stdout",
     "output_type": "stream",
     "text": [
      "Maximum run count 10 reached for component 'prompt_builder'\n",
      "iter 0 failed, trying again 0/5\n"
     ]
    },
    {
     "name": "stderr",
     "output_type": "stream",
     "text": [
      "error data = 24, error_rate = 2.29:  35%|███▍      | 1070/3096 [1:42:21<1:43:46,  3.07s/it]"
     ]
    },
    {
     "name": "stdout",
     "output_type": "stream",
     "text": [
      "Maximum run count 10 reached for component 'prompt_builder'\n",
      "iter 0 failed, trying again 0/5\n"
     ]
    },
    {
     "name": "stderr",
     "output_type": "stream",
     "text": [
      "error data = 24, error_rate = 2.29:  35%|███▍      | 1071/3096 [1:42:29<2:32:16,  4.51s/it]"
     ]
    },
    {
     "name": "stdout",
     "output_type": "stream",
     "text": [
      "Maximum run count 10 reached for component 'prompt_builder'\n",
      "iter 0 failed, trying again 0/5\n",
      "Maximum run count 10 reached for component 'prompt_builder'\n",
      "iter 1 failed, trying again 1/5\n",
      "Maximum run count 10 reached for component 'prompt_builder'\n",
      "iter 2 failed, trying again 2/5\n",
      "Maximum run count 10 reached for component 'prompt_builder'\n",
      "iter 3 failed, trying again 3/5\n"
     ]
    },
    {
     "name": "stderr",
     "output_type": "stream",
     "text": [
      "error data = 24, error_rate = 2.29:  35%|███▍      | 1074/3096 [1:43:02<4:00:39,  7.14s/it]"
     ]
    },
    {
     "name": "stdout",
     "output_type": "stream",
     "text": [
      "Maximum run count 10 reached for component 'prompt_builder'\n",
      "iter 0 failed, trying again 0/5\n"
     ]
    },
    {
     "name": "stderr",
     "output_type": "stream",
     "text": [
      "error data = 24, error_rate = 2.28:  35%|███▍      | 1075/3096 [1:43:12<4:28:09,  7.96s/it]"
     ]
    },
    {
     "name": "stdout",
     "output_type": "stream",
     "text": [
      "Maximum run count 10 reached for component 'prompt_builder'\n",
      "iter 0 failed, trying again 0/5\n"
     ]
    },
    {
     "name": "stderr",
     "output_type": "stream",
     "text": [
      "error data = 24, error_rate = 2.28:  35%|███▍      | 1076/3096 [1:43:21<4:37:49,  8.25s/it]"
     ]
    },
    {
     "name": "stdout",
     "output_type": "stream",
     "text": [
      "Maximum run count 10 reached for component 'prompt_builder'\n",
      "iter 0 failed, trying again 0/5\n",
      "Maximum run count 10 reached for component 'prompt_builder'\n",
      "iter 1 failed, trying again 1/5\n",
      "Maximum run count 10 reached for component 'prompt_builder'\n",
      "iter 2 failed, trying again 2/5\n"
     ]
    },
    {
     "name": "stderr",
     "output_type": "stream",
     "text": [
      "error data = 24, error_rate = 2.27:  35%|███▍      | 1079/3096 [1:43:46<3:53:28,  6.95s/it]"
     ]
    },
    {
     "name": "stdout",
     "output_type": "stream",
     "text": [
      "Maximum run count 10 reached for component 'prompt_builder'\n",
      "iter 0 failed, trying again 0/5\n"
     ]
    },
    {
     "name": "stderr",
     "output_type": "stream",
     "text": [
      "error data = 24, error_rate = 2.27:  35%|███▍      | 1082/3096 [1:44:07<3:42:42,  6.63s/it]"
     ]
    },
    {
     "name": "stdout",
     "output_type": "stream",
     "text": [
      "Maximum run count 10 reached for component 'prompt_builder'\n",
      "iter 0 failed, trying again 0/5\n",
      "Maximum run count 10 reached for component 'prompt_builder'\n",
      "iter 1 failed, trying again 1/5\n"
     ]
    },
    {
     "name": "stderr",
     "output_type": "stream",
     "text": [
      "error data = 24, error_rate = 2.26:  35%|███▌      | 1085/3096 [1:44:29<3:36:24,  6.46s/it]"
     ]
    },
    {
     "name": "stdout",
     "output_type": "stream",
     "text": [
      "Maximum run count 10 reached for component 'prompt_builder'\n",
      "iter 0 failed, trying again 0/5\n"
     ]
    },
    {
     "name": "stderr",
     "output_type": "stream",
     "text": [
      "error data = 24, error_rate = 2.25:  35%|███▌      | 1093/3096 [1:45:06<2:06:31,  3.79s/it]"
     ]
    },
    {
     "name": "stdout",
     "output_type": "stream",
     "text": [
      "Maximum run count 10 reached for component 'prompt_builder'\n",
      "iter 0 failed, trying again 0/5\n"
     ]
    },
    {
     "name": "stderr",
     "output_type": "stream",
     "text": [
      "error data = 24, error_rate = 2.23:  36%|███▌      | 1102/3096 [1:45:52<2:42:16,  4.88s/it]"
     ]
    },
    {
     "name": "stdout",
     "output_type": "stream",
     "text": [
      "Maximum run count 10 reached for component 'prompt_builder'\n",
      "iter 0 failed, trying again 0/5\n",
      "Maximum run count 10 reached for component 'prompt_builder'\n",
      "iter 1 failed, trying again 1/5\n",
      "Maximum run count 10 reached for component 'prompt_builder'\n",
      "iter 2 failed, trying again 2/5\n",
      "Maximum run count 10 reached for component 'prompt_builder'\n",
      "iter 3 failed, trying again 3/5\n"
     ]
    },
    {
     "name": "stderr",
     "output_type": "stream",
     "text": [
      "error data = 24, error_rate = 2.22:  36%|███▌      | 1103/3096 [1:46:23<7:06:01, 12.83s/it]"
     ]
    },
    {
     "name": "stdout",
     "output_type": "stream",
     "text": [
      "Maximum run count 10 reached for component 'prompt_builder'\n",
      "iter 0 failed, trying again 0/5\n",
      "Maximum run count 10 reached for component 'prompt_builder'\n",
      "iter 1 failed, trying again 1/5\n",
      "Maximum run count 10 reached for component 'prompt_builder'\n",
      "iter 2 failed, trying again 2/5\n",
      "Maximum run count 10 reached for component 'prompt_builder'\n",
      "iter 3 failed, trying again 3/5\n"
     ]
    },
    {
     "name": "stderr",
     "output_type": "stream",
     "text": [
      "error data = 25, error_rate = 2.32:  36%|███▌      | 1104/3096 [1:47:02<11:23:46, 20.60s/it]"
     ]
    },
    {
     "name": "stdout",
     "output_type": "stream",
     "text": [
      "Maximum run count 10 reached for component 'prompt_builder'\n",
      "iter 4 failed, trying again 4/5\n"
     ]
    },
    {
     "name": "stderr",
     "output_type": "stream",
     "text": [
      "error data = 25, error_rate = 2.30:  36%|███▌      | 1112/3096 [1:47:39<2:34:47,  4.68s/it] "
     ]
    },
    {
     "name": "stdout",
     "output_type": "stream",
     "text": [
      "Maximum run count 10 reached for component 'prompt_builder'\n",
      "iter 0 failed, trying again 0/5\n",
      "Maximum run count 10 reached for component 'prompt_builder'\n",
      "iter 1 failed, trying again 1/5\n"
     ]
    },
    {
     "name": "stderr",
     "output_type": "stream",
     "text": [
      "error data = 25, error_rate = 2.30:  36%|███▌      | 1114/3096 [1:47:57<3:22:13,  6.12s/it]"
     ]
    },
    {
     "name": "stdout",
     "output_type": "stream",
     "text": [
      "Maximum run count 10 reached for component 'prompt_builder'\n",
      "iter 0 failed, trying again 0/5\n",
      "Maximum run count 10 reached for component 'prompt_builder'\n",
      "iter 1 failed, trying again 1/5\n",
      "Maximum run count 10 reached for component 'prompt_builder'\n",
      "iter 2 failed, trying again 2/5\n",
      "Maximum run count 10 reached for component 'prompt_builder'\n",
      "iter 3 failed, trying again 3/5\n"
     ]
    },
    {
     "name": "stderr",
     "output_type": "stream",
     "text": [
      "error data = 26, error_rate = 2.39:  36%|███▌      | 1115/3096 [1:48:39<9:18:35, 16.92s/it]"
     ]
    },
    {
     "name": "stdout",
     "output_type": "stream",
     "text": [
      "Maximum run count 10 reached for component 'prompt_builder'\n",
      "iter 4 failed, trying again 4/5\n"
     ]
    },
    {
     "name": "stderr",
     "output_type": "stream",
     "text": [
      "error data = 26, error_rate = 2.39:  36%|███▌      | 1116/3096 [1:48:50<8:20:27, 15.17s/it]"
     ]
    },
    {
     "name": "stdout",
     "output_type": "stream",
     "text": [
      "Maximum run count 10 reached for component 'prompt_builder'\n",
      "iter 0 failed, trying again 0/5\n"
     ]
    },
    {
     "name": "stderr",
     "output_type": "stream",
     "text": [
      "error data = 26, error_rate = 2.37:  36%|███▌      | 1122/3096 [1:49:20<2:53:10,  5.26s/it]"
     ]
    },
    {
     "name": "stdout",
     "output_type": "stream",
     "text": [
      "Maximum run count 10 reached for component 'prompt_builder'\n",
      "iter 0 failed, trying again 0/5\n"
     ]
    },
    {
     "name": "stderr",
     "output_type": "stream",
     "text": [
      "error data = 26, error_rate = 2.37:  36%|███▋      | 1123/3096 [1:49:28<3:16:35,  5.98s/it]"
     ]
    },
    {
     "name": "stdout",
     "output_type": "stream",
     "text": [
      "Maximum run count 10 reached for component 'prompt_builder'\n",
      "iter 0 failed, trying again 0/5\n",
      "Maximum run count 10 reached for component 'prompt_builder'\n",
      "iter 1 failed, trying again 1/5\n",
      "Maximum run count 10 reached for component 'prompt_builder'\n",
      "iter 2 failed, trying again 2/5\n",
      "Maximum run count 10 reached for component 'prompt_builder'\n",
      "iter 3 failed, trying again 3/5\n"
     ]
    },
    {
     "name": "stderr",
     "output_type": "stream",
     "text": [
      "error data = 27, error_rate = 2.46:  36%|███▋      | 1124/3096 [1:49:58<7:15:51, 13.26s/it]"
     ]
    },
    {
     "name": "stdout",
     "output_type": "stream",
     "text": [
      "Maximum run count 10 reached for component 'prompt_builder'\n",
      "iter 4 failed, trying again 4/5\n"
     ]
    },
    {
     "name": "stderr",
     "output_type": "stream",
     "text": [
      "error data = 27, error_rate = 2.44:  37%|███▋      | 1132/3096 [1:50:30<2:35:44,  4.76s/it]"
     ]
    },
    {
     "name": "stdout",
     "output_type": "stream",
     "text": [
      "Maximum run count 10 reached for component 'prompt_builder'\n",
      "iter 0 failed, trying again 0/5\n",
      "Maximum run count 10 reached for component 'prompt_builder'\n",
      "iter 1 failed, trying again 1/5\n"
     ]
    },
    {
     "name": "stderr",
     "output_type": "stream",
     "text": [
      "error data = 27, error_rate = 2.43:  37%|███▋      | 1140/3096 [1:50:59<1:08:13,  2.09s/it]"
     ]
    },
    {
     "name": "stdout",
     "output_type": "stream",
     "text": [
      "Maximum run count 10 reached for component 'prompt_builder'\n",
      "iter 0 failed, trying again 0/5\n",
      "Maximum run count 10 reached for component 'prompt_builder'\n",
      "iter 1 failed, trying again 1/5\n",
      "Maximum run count 10 reached for component 'prompt_builder'\n",
      "iter 2 failed, trying again 2/5\n",
      "Maximum run count 10 reached for component 'prompt_builder'\n",
      "iter 3 failed, trying again 3/5\n"
     ]
    },
    {
     "name": "stderr",
     "output_type": "stream",
     "text": [
      "error data = 28, error_rate = 2.52:  37%|███▋      | 1141/3096 [1:51:51<9:15:05, 17.04s/it]"
     ]
    },
    {
     "name": "stdout",
     "output_type": "stream",
     "text": [
      "Maximum run count 10 reached for component 'prompt_builder'\n",
      "iter 4 failed, trying again 4/5\n"
     ]
    },
    {
     "name": "stderr",
     "output_type": "stream",
     "text": [
      "error data = 28, error_rate = 2.51:  37%|███▋      | 1145/3096 [1:52:05<3:37:06,  6.68s/it]"
     ]
    },
    {
     "name": "stdout",
     "output_type": "stream",
     "text": [
      "Maximum run count 10 reached for component 'prompt_builder'\n",
      "iter 0 failed, trying again 0/5\n"
     ]
    },
    {
     "name": "stderr",
     "output_type": "stream",
     "text": [
      "error data = 28, error_rate = 2.49:  37%|███▋      | 1153/3096 [1:52:43<1:51:18,  3.44s/it]"
     ]
    },
    {
     "name": "stdout",
     "output_type": "stream",
     "text": [
      "Maximum run count 10 reached for component 'prompt_builder'\n",
      "iter 0 failed, trying again 0/5\n",
      "Maximum run count 10 reached for component 'prompt_builder'\n",
      "iter 1 failed, trying again 1/5\n"
     ]
    },
    {
     "name": "stderr",
     "output_type": "stream",
     "text": [
      "error data = 28, error_rate = 2.48:  37%|███▋      | 1156/3096 [1:52:59<2:08:12,  3.97s/it]"
     ]
    },
    {
     "name": "stdout",
     "output_type": "stream",
     "text": [
      "Maximum run count 10 reached for component 'prompt_builder'\n",
      "iter 0 failed, trying again 0/5\n",
      "Maximum run count 10 reached for component 'prompt_builder'\n",
      "iter 1 failed, trying again 1/5\n"
     ]
    },
    {
     "name": "stderr",
     "output_type": "stream",
     "text": [
      "error data = 28, error_rate = 2.48:  37%|███▋      | 1159/3096 [1:53:31<3:43:40,  6.93s/it]"
     ]
    },
    {
     "name": "stdout",
     "output_type": "stream",
     "text": [
      "Maximum run count 10 reached for component 'prompt_builder'\n",
      "iter 0 failed, trying again 0/5\n",
      "Maximum run count 10 reached for component 'prompt_builder'\n",
      "iter 1 failed, trying again 1/5\n"
     ]
    },
    {
     "name": "stderr",
     "output_type": "stream",
     "text": [
      "error data = 28, error_rate = 2.47:  37%|███▋      | 1160/3096 [1:54:00<7:20:44, 13.66s/it]"
     ]
    },
    {
     "name": "stdout",
     "output_type": "stream",
     "text": [
      "Maximum run count 10 reached for component 'prompt_builder'\n",
      "iter 0 failed, trying again 0/5\n"
     ]
    },
    {
     "name": "stderr",
     "output_type": "stream",
     "text": [
      "error data = 28, error_rate = 2.47:  38%|███▊      | 1163/3096 [1:54:19<4:29:49,  8.38s/it]"
     ]
    },
    {
     "name": "stdout",
     "output_type": "stream",
     "text": [
      "Maximum run count 10 reached for component 'prompt_builder'\n",
      "iter 0 failed, trying again 0/5\n",
      "Maximum run count 10 reached for component 'prompt_builder'\n",
      "iter 1 failed, trying again 1/5\n",
      "Maximum run count 10 reached for component 'prompt_builder'\n",
      "iter 2 failed, trying again 2/5\n"
     ]
    },
    {
     "name": "stderr",
     "output_type": "stream",
     "text": [
      "error data = 28, error_rate = 2.46:  38%|███▊      | 1166/3096 [1:54:52<4:20:06,  8.09s/it]"
     ]
    },
    {
     "name": "stdout",
     "output_type": "stream",
     "text": [
      "Maximum run count 10 reached for component 'prompt_builder'\n",
      "iter 0 failed, trying again 0/5\n",
      "Maximum run count 10 reached for component 'prompt_builder'\n",
      "iter 1 failed, trying again 1/5\n",
      "Maximum run count 10 reached for component 'prompt_builder'\n",
      "iter 2 failed, trying again 2/5\n",
      "Maximum run count 10 reached for component 'prompt_builder'\n",
      "iter 3 failed, trying again 3/5\n"
     ]
    },
    {
     "name": "stderr",
     "output_type": "stream",
     "text": [
      "error data = 29, error_rate = 2.55:  38%|███▊      | 1167/3096 [1:55:25<8:20:31, 15.57s/it]"
     ]
    },
    {
     "name": "stdout",
     "output_type": "stream",
     "text": [
      "Maximum run count 10 reached for component 'prompt_builder'\n",
      "iter 4 failed, trying again 4/5\n"
     ]
    },
    {
     "name": "stderr",
     "output_type": "stream",
     "text": [
      "error data = 29, error_rate = 2.54:  38%|███▊      | 1172/3096 [1:55:40<2:48:11,  5.25s/it]"
     ]
    },
    {
     "name": "stdout",
     "output_type": "stream",
     "text": [
      "Maximum run count 10 reached for component 'prompt_builder'\n",
      "iter 0 failed, trying again 0/5\n"
     ]
    },
    {
     "name": "stderr",
     "output_type": "stream",
     "text": [
      "error data = 29, error_rate = 2.52:  38%|███▊      | 1182/3096 [1:56:11<1:20:28,  2.52s/it]"
     ]
    },
    {
     "name": "stdout",
     "output_type": "stream",
     "text": [
      "Maximum run count 10 reached for component 'prompt_builder'\n",
      "iter 0 failed, trying again 0/5\n"
     ]
    },
    {
     "name": "stderr",
     "output_type": "stream",
     "text": [
      "error data = 29, error_rate = 2.50:  38%|███▊      | 1189/3096 [1:56:50<2:08:56,  4.06s/it]"
     ]
    },
    {
     "name": "stdout",
     "output_type": "stream",
     "text": [
      "Maximum run count 10 reached for component 'prompt_builder'\n",
      "iter 0 failed, trying again 0/5\n"
     ]
    },
    {
     "name": "stderr",
     "output_type": "stream",
     "text": [
      "error data = 29, error_rate = 2.49:  39%|███▊      | 1193/3096 [1:57:26<3:57:20,  7.48s/it]"
     ]
    },
    {
     "name": "stdout",
     "output_type": "stream",
     "text": [
      "Maximum run count 10 reached for component 'prompt_builder'\n",
      "iter 0 failed, trying again 0/5\n",
      "Maximum run count 10 reached for component 'prompt_builder'\n",
      "iter 1 failed, trying again 1/5\n"
     ]
    },
    {
     "name": "stderr",
     "output_type": "stream",
     "text": [
      "error data = 29, error_rate = 2.49:  39%|███▊      | 1196/3096 [1:57:51<3:35:44,  6.81s/it]"
     ]
    },
    {
     "name": "stdout",
     "output_type": "stream",
     "text": [
      "Maximum run count 10 reached for component 'prompt_builder'\n",
      "iter 0 failed, trying again 0/5\n",
      "Maximum run count 10 reached for component 'prompt_builder'\n",
      "iter 1 failed, trying again 1/5\n",
      "Maximum run count 10 reached for component 'prompt_builder'\n",
      "iter 2 failed, trying again 2/5\n"
     ]
    },
    {
     "name": "stderr",
     "output_type": "stream",
     "text": [
      "error data = 29, error_rate = 2.48:  39%|███▊      | 1197/3096 [1:58:12<5:52:17, 11.13s/it]"
     ]
    },
    {
     "name": "stdout",
     "output_type": "stream",
     "text": [
      "Maximum run count 10 reached for component 'prompt_builder'\n",
      "iter 0 failed, trying again 0/5\n"
     ]
    },
    {
     "name": "stderr",
     "output_type": "stream",
     "text": [
      "error data = 29, error_rate = 2.47:  39%|███▉      | 1202/3096 [1:58:47<2:39:11,  5.04s/it]"
     ]
    },
    {
     "name": "stdout",
     "output_type": "stream",
     "text": [
      "Maximum run count 10 reached for component 'prompt_builder'\n",
      "iter 0 failed, trying again 0/5\n"
     ]
    },
    {
     "name": "stderr",
     "output_type": "stream",
     "text": [
      "error data = 29, error_rate = 2.45:  39%|███▉      | 1212/3096 [1:59:23<1:51:02,  3.54s/it]"
     ]
    },
    {
     "name": "stdout",
     "output_type": "stream",
     "text": [
      "Maximum run count 10 reached for component 'prompt_builder'\n",
      "iter 0 failed, trying again 0/5\n"
     ]
    },
    {
     "name": "stderr",
     "output_type": "stream",
     "text": [
      "error data = 29, error_rate = 2.45:  39%|███▉      | 1215/3096 [1:59:35<1:54:52,  3.66s/it]"
     ]
    },
    {
     "name": "stdout",
     "output_type": "stream",
     "text": [
      "Maximum run count 10 reached for component 'prompt_builder'\n",
      "iter 0 failed, trying again 0/5\n",
      "Maximum run count 10 reached for component 'prompt_builder'\n",
      "iter 1 failed, trying again 1/5\n"
     ]
    },
    {
     "name": "stderr",
     "output_type": "stream",
     "text": [
      "error data = 29, error_rate = 2.44:  39%|███▉      | 1217/3096 [1:59:54<3:14:40,  6.22s/it]"
     ]
    },
    {
     "name": "stdout",
     "output_type": "stream",
     "text": [
      "Maximum run count 10 reached for component 'prompt_builder'\n",
      "iter 0 failed, trying again 0/5\n"
     ]
    },
    {
     "name": "stderr",
     "output_type": "stream",
     "text": [
      "error data = 29, error_rate = 2.43:  40%|███▉      | 1223/3096 [2:00:17<1:50:21,  3.54s/it]"
     ]
    },
    {
     "name": "stdout",
     "output_type": "stream",
     "text": [
      "Maximum run count 10 reached for component 'prompt_builder'\n",
      "iter 0 failed, trying again 0/5\n",
      "Maximum run count 10 reached for component 'prompt_builder'\n",
      "iter 1 failed, trying again 1/5\n",
      "Maximum run count 10 reached for component 'prompt_builder'\n",
      "iter 2 failed, trying again 2/5\n",
      "Maximum run count 10 reached for component 'prompt_builder'\n",
      "iter 3 failed, trying again 3/5\n"
     ]
    },
    {
     "name": "stderr",
     "output_type": "stream",
     "text": [
      "error data = 30, error_rate = 2.51:  40%|███▉      | 1224/3096 [2:00:52<6:45:44, 13.00s/it]"
     ]
    },
    {
     "name": "stdout",
     "output_type": "stream",
     "text": [
      "Maximum run count 10 reached for component 'prompt_builder'\n",
      "iter 4 failed, trying again 4/5\n"
     ]
    },
    {
     "name": "stderr",
     "output_type": "stream",
     "text": [
      "error data = 30, error_rate = 2.49:  40%|███▉      | 1234/3096 [2:01:15<1:18:35,  2.53s/it]"
     ]
    },
    {
     "name": "stdout",
     "output_type": "stream",
     "text": [
      "Maximum run count 10 reached for component 'prompt_builder'\n",
      "iter 0 failed, trying again 0/5\n"
     ]
    },
    {
     "name": "stderr",
     "output_type": "stream",
     "text": [
      "error data = 30, error_rate = 2.48:  40%|███▉      | 1238/3096 [2:01:43<2:50:52,  5.52s/it]"
     ]
    },
    {
     "name": "stdout",
     "output_type": "stream",
     "text": [
      "Maximum run count 10 reached for component 'prompt_builder'\n",
      "iter 0 failed, trying again 0/5\n"
     ]
    },
    {
     "name": "stderr",
     "output_type": "stream",
     "text": [
      "error data = 30, error_rate = 2.48:  40%|████      | 1240/3096 [2:02:03<3:34:41,  6.94s/it]"
     ]
    },
    {
     "name": "stdout",
     "output_type": "stream",
     "text": [
      "Maximum run count 10 reached for component 'prompt_builder'\n",
      "iter 0 failed, trying again 0/5\n",
      "Maximum run count 10 reached for component 'prompt_builder'\n",
      "iter 1 failed, trying again 1/5\n"
     ]
    },
    {
     "name": "stderr",
     "output_type": "stream",
     "text": [
      "error data = 30, error_rate = 2.45:  40%|████      | 1252/3096 [2:03:02<2:07:10,  4.14s/it]"
     ]
    },
    {
     "name": "stdout",
     "output_type": "stream",
     "text": [
      "Maximum run count 10 reached for component 'prompt_builder'\n",
      "iter 0 failed, trying again 0/5\n",
      "Maximum run count 10 reached for component 'prompt_builder'\n",
      "iter 1 failed, trying again 1/5\n",
      "Maximum run count 10 reached for component 'prompt_builder'\n",
      "iter 2 failed, trying again 2/5\n",
      "Maximum run count 10 reached for component 'prompt_builder'\n",
      "iter 3 failed, trying again 3/5\n"
     ]
    },
    {
     "name": "stderr",
     "output_type": "stream",
     "text": [
      "error data = 31, error_rate = 2.54:  40%|████      | 1253/3096 [2:03:40<7:22:52, 14.42s/it]"
     ]
    },
    {
     "name": "stdout",
     "output_type": "stream",
     "text": [
      "Maximum run count 10 reached for component 'prompt_builder'\n",
      "iter 4 failed, trying again 4/5\n",
      "Maximum run count 10 reached for component 'prompt_builder'\n",
      "iter 0 failed, trying again 0/5\n",
      "Maximum run count 10 reached for component 'prompt_builder'\n",
      "iter 1 failed, trying again 1/5\n"
     ]
    },
    {
     "name": "stderr",
     "output_type": "stream",
     "text": [
      "error data = 31, error_rate = 2.53:  41%|████      | 1257/3096 [2:04:05<3:20:53,  6.55s/it]"
     ]
    },
    {
     "name": "stdout",
     "output_type": "stream",
     "text": [
      "Maximum run count 10 reached for component 'prompt_builder'\n",
      "iter 0 failed, trying again 0/5\n"
     ]
    },
    {
     "name": "stderr",
     "output_type": "stream",
     "text": [
      "error data = 31, error_rate = 2.52:  41%|████      | 1259/3096 [2:04:17<3:05:47,  6.07s/it]"
     ]
    },
    {
     "name": "stdout",
     "output_type": "stream",
     "text": [
      "Maximum run count 10 reached for component 'prompt_builder'\n",
      "iter 0 failed, trying again 0/5\n",
      "Maximum run count 10 reached for component 'prompt_builder'\n",
      "iter 1 failed, trying again 1/5\n",
      "Maximum run count 10 reached for component 'prompt_builder'\n",
      "iter 2 failed, trying again 2/5\n"
     ]
    },
    {
     "name": "stderr",
     "output_type": "stream",
     "text": [
      "error data = 31, error_rate = 2.52:  41%|████      | 1261/3096 [2:04:45<4:34:30,  8.98s/it]"
     ]
    },
    {
     "name": "stdout",
     "output_type": "stream",
     "text": [
      "Maximum run count 10 reached for component 'prompt_builder'\n",
      "iter 0 failed, trying again 0/5\n",
      "Maximum run count 10 reached for component 'prompt_builder'\n",
      "iter 1 failed, trying again 1/5\n",
      "Maximum run count 10 reached for component 'prompt_builder'\n",
      "iter 2 failed, trying again 2/5\n"
     ]
    },
    {
     "name": "stderr",
     "output_type": "stream",
     "text": [
      "error data = 31, error_rate = 2.51:  41%|████      | 1266/3096 [2:05:19<2:51:51,  5.63s/it]"
     ]
    },
    {
     "name": "stdout",
     "output_type": "stream",
     "text": [
      "Maximum run count 10 reached for component 'prompt_builder'\n",
      "iter 0 failed, trying again 0/5\n"
     ]
    },
    {
     "name": "stderr",
     "output_type": "stream",
     "text": [
      "error data = 31, error_rate = 2.50:  41%|████      | 1273/3096 [2:05:49<1:55:47,  3.81s/it]"
     ]
    },
    {
     "name": "stdout",
     "output_type": "stream",
     "text": [
      "Maximum run count 10 reached for component 'prompt_builder'\n",
      "iter 0 failed, trying again 0/5\n"
     ]
    },
    {
     "name": "stderr",
     "output_type": "stream",
     "text": [
      "error data = 31, error_rate = 2.49:  41%|████      | 1275/3096 [2:05:59<2:03:20,  4.06s/it]"
     ]
    },
    {
     "name": "stdout",
     "output_type": "stream",
     "text": [
      "Maximum run count 10 reached for component 'prompt_builder'\n",
      "iter 0 failed, trying again 0/5\n"
     ]
    },
    {
     "name": "stderr",
     "output_type": "stream",
     "text": [
      "error data = 31, error_rate = 2.47:  42%|████▏     | 1285/3096 [2:06:52<1:33:30,  3.10s/it]"
     ]
    },
    {
     "name": "stdout",
     "output_type": "stream",
     "text": [
      "Maximum run count 10 reached for component 'prompt_builder'\n",
      "iter 0 failed, trying again 0/5\n"
     ]
    },
    {
     "name": "stderr",
     "output_type": "stream",
     "text": [
      "error data = 31, error_rate = 2.46:  42%|████▏     | 1291/3096 [2:07:09<1:08:37,  2.28s/it]"
     ]
    },
    {
     "name": "stdout",
     "output_type": "stream",
     "text": [
      "Maximum run count 10 reached for component 'prompt_builder'\n",
      "iter 0 failed, trying again 0/5\n"
     ]
    },
    {
     "name": "stderr",
     "output_type": "stream",
     "text": [
      "error data = 31, error_rate = 2.45:  42%|████▏     | 1296/3096 [2:07:28<1:22:02,  2.73s/it]"
     ]
    },
    {
     "name": "stdout",
     "output_type": "stream",
     "text": [
      "Maximum run count 10 reached for component 'prompt_builder'\n",
      "iter 0 failed, trying again 0/5\n",
      "Maximum run count 10 reached for component 'prompt_builder'\n",
      "iter 1 failed, trying again 1/5\n",
      "Maximum run count 10 reached for component 'prompt_builder'\n",
      "iter 2 failed, trying again 2/5\n",
      "Maximum run count 10 reached for component 'prompt_builder'\n",
      "iter 3 failed, trying again 3/5\n"
     ]
    },
    {
     "name": "stderr",
     "output_type": "stream",
     "text": [
      "error data = 32, error_rate = 2.53:  42%|████▏     | 1297/3096 [2:07:55<4:57:57,  9.94s/it]"
     ]
    },
    {
     "name": "stdout",
     "output_type": "stream",
     "text": [
      "Maximum run count 10 reached for component 'prompt_builder'\n",
      "iter 4 failed, trying again 4/5\n"
     ]
    },
    {
     "name": "stderr",
     "output_type": "stream",
     "text": [
      "error data = 32, error_rate = 2.53:  42%|████▏     | 1298/3096 [2:07:57<3:47:01,  7.58s/it]"
     ]
    },
    {
     "name": "stdout",
     "output_type": "stream",
     "text": [
      "Maximum run count 10 reached for component 'prompt_builder'\n",
      "iter 0 failed, trying again 0/5\n"
     ]
    },
    {
     "name": "stderr",
     "output_type": "stream",
     "text": [
      "error data = 32, error_rate = 2.52:  42%|████▏     | 1301/3096 [2:08:22<3:21:12,  6.73s/it]"
     ]
    },
    {
     "name": "stdout",
     "output_type": "stream",
     "text": [
      "Maximum run count 10 reached for component 'prompt_builder'\n",
      "iter 0 failed, trying again 0/5\n"
     ]
    },
    {
     "name": "stderr",
     "output_type": "stream",
     "text": [
      "error data = 32, error_rate = 2.50:  42%|████▏     | 1311/3096 [2:09:04<2:04:33,  4.19s/it]"
     ]
    },
    {
     "name": "stdout",
     "output_type": "stream",
     "text": [
      "Maximum run count 10 reached for component 'prompt_builder'\n",
      "iter 0 failed, trying again 0/5\n",
      "Maximum run count 10 reached for component 'prompt_builder'\n",
      "iter 1 failed, trying again 1/5\n"
     ]
    },
    {
     "name": "stderr",
     "output_type": "stream",
     "text": [
      "error data = 32, error_rate = 2.50:  42%|████▏     | 1313/3096 [2:09:23<3:09:16,  6.37s/it]"
     ]
    },
    {
     "name": "stdout",
     "output_type": "stream",
     "text": [
      "Maximum run count 10 reached for component 'prompt_builder'\n",
      "iter 0 failed, trying again 0/5\n",
      "Maximum run count 10 reached for component 'prompt_builder'\n",
      "iter 1 failed, trying again 1/5\n",
      "Maximum run count 10 reached for component 'prompt_builder'\n",
      "iter 2 failed, trying again 2/5\n"
     ]
    },
    {
     "name": "stderr",
     "output_type": "stream",
     "text": [
      "error data = 32, error_rate = 2.50:  42%|████▏     | 1314/3096 [2:09:56<7:05:16, 14.32s/it]"
     ]
    },
    {
     "name": "stdout",
     "output_type": "stream",
     "text": [
      "Maximum run count 10 reached for component 'prompt_builder'\n",
      "iter 0 failed, trying again 0/5\n",
      "Maximum run count 10 reached for component 'prompt_builder'\n",
      "iter 1 failed, trying again 1/5\n"
     ]
    },
    {
     "name": "stderr",
     "output_type": "stream",
     "text": [
      "error data = 32, error_rate = 2.48:  43%|████▎     | 1321/3096 [2:10:24<1:44:19,  3.53s/it]"
     ]
    },
    {
     "name": "stdout",
     "output_type": "stream",
     "text": [
      "Maximum run count 10 reached for component 'prompt_builder'\n",
      "iter 0 failed, trying again 0/5\n",
      "Maximum run count 10 reached for component 'prompt_builder'\n",
      "iter 1 failed, trying again 1/5\n"
     ]
    },
    {
     "name": "stderr",
     "output_type": "stream",
     "text": [
      "error data = 32, error_rate = 2.48:  43%|████▎     | 1322/3096 [2:10:41<3:47:21,  7.69s/it]"
     ]
    },
    {
     "name": "stdout",
     "output_type": "stream",
     "text": [
      "Maximum run count 10 reached for component 'prompt_builder'\n",
      "iter 0 failed, trying again 0/5\n"
     ]
    },
    {
     "name": "stderr",
     "output_type": "stream",
     "text": [
      "error data = 32, error_rate = 2.47:  43%|████▎     | 1326/3096 [2:10:58<2:13:57,  4.54s/it]"
     ]
    },
    {
     "name": "stdout",
     "output_type": "stream",
     "text": [
      "Maximum run count 10 reached for component 'prompt_builder'\n",
      "iter 0 failed, trying again 0/5\n"
     ]
    },
    {
     "name": "stderr",
     "output_type": "stream",
     "text": [
      "error data = 32, error_rate = 2.47:  43%|████▎     | 1328/3096 [2:11:12<2:49:57,  5.77s/it]"
     ]
    },
    {
     "name": "stdout",
     "output_type": "stream",
     "text": [
      "Maximum run count 10 reached for component 'prompt_builder'\n",
      "iter 0 failed, trying again 0/5\n",
      "Maximum run count 10 reached for component 'prompt_builder'\n",
      "iter 1 failed, trying again 1/5\n",
      "Maximum run count 10 reached for component 'prompt_builder'\n",
      "iter 2 failed, trying again 2/5\n"
     ]
    },
    {
     "name": "stderr",
     "output_type": "stream",
     "text": [
      "error data = 32, error_rate = 2.46:  43%|████▎     | 1334/3096 [2:11:47<1:49:20,  3.72s/it]"
     ]
    },
    {
     "name": "stdout",
     "output_type": "stream",
     "text": [
      "Maximum run count 10 reached for component 'prompt_builder'\n",
      "iter 0 failed, trying again 0/5\n"
     ]
    },
    {
     "name": "stderr",
     "output_type": "stream",
     "text": [
      "error data = 32, error_rate = 2.44:  43%|████▎     | 1346/3096 [2:12:35<1:15:37,  2.59s/it]"
     ]
    },
    {
     "name": "stdout",
     "output_type": "stream",
     "text": [
      "Maximum run count 10 reached for component 'prompt_builder'\n",
      "iter 0 failed, trying again 0/5\n",
      "Maximum run count 10 reached for component 'prompt_builder'\n",
      "iter 1 failed, trying again 1/5\n"
     ]
    },
    {
     "name": "stderr",
     "output_type": "stream",
     "text": [
      "error data = 32, error_rate = 2.43:  44%|████▎     | 1349/3096 [2:13:01<2:22:54,  4.91s/it]"
     ]
    },
    {
     "name": "stdout",
     "output_type": "stream",
     "text": [
      "Maximum run count 10 reached for component 'prompt_builder'\n",
      "iter 0 failed, trying again 0/5\n"
     ]
    },
    {
     "name": "stderr",
     "output_type": "stream",
     "text": [
      "error data = 32, error_rate = 2.42:  44%|████▎     | 1353/3096 [2:13:23<2:14:04,  4.62s/it]"
     ]
    },
    {
     "name": "stdout",
     "output_type": "stream",
     "text": [
      "Maximum run count 10 reached for component 'prompt_builder'\n",
      "iter 0 failed, trying again 0/5\n"
     ]
    },
    {
     "name": "stderr",
     "output_type": "stream",
     "text": [
      "error data = 32, error_rate = 2.42:  44%|████▍     | 1356/3096 [2:13:38<2:02:19,  4.22s/it]"
     ]
    },
    {
     "name": "stdout",
     "output_type": "stream",
     "text": [
      "Maximum run count 10 reached for component 'prompt_builder'\n",
      "iter 0 failed, trying again 0/5\n"
     ]
    },
    {
     "name": "stderr",
     "output_type": "stream",
     "text": [
      "error data = 32, error_rate = 2.41:  44%|████▍     | 1359/3096 [2:13:50<1:47:25,  3.71s/it]"
     ]
    },
    {
     "name": "stdout",
     "output_type": "stream",
     "text": [
      "Maximum run count 10 reached for component 'prompt_builder'\n",
      "iter 0 failed, trying again 0/5\n",
      "Maximum run count 10 reached for component 'prompt_builder'\n",
      "iter 1 failed, trying again 1/5\n"
     ]
    },
    {
     "name": "stderr",
     "output_type": "stream",
     "text": [
      "error data = 32, error_rate = 2.40:  44%|████▍     | 1364/3096 [2:14:26<2:41:49,  5.61s/it]"
     ]
    },
    {
     "name": "stdout",
     "output_type": "stream",
     "text": [
      "Maximum run count 10 reached for component 'prompt_builder'\n",
      "iter 0 failed, trying again 0/5\n"
     ]
    },
    {
     "name": "stderr",
     "output_type": "stream",
     "text": [
      "error data = 32, error_rate = 2.39:  44%|████▍     | 1369/3096 [2:14:48<2:00:32,  4.19s/it]"
     ]
    },
    {
     "name": "stdout",
     "output_type": "stream",
     "text": [
      "Maximum run count 10 reached for component 'prompt_builder'\n",
      "iter 0 failed, trying again 0/5\n"
     ]
    },
    {
     "name": "stderr",
     "output_type": "stream",
     "text": [
      "error data = 32, error_rate = 2.39:  44%|████▍     | 1371/3096 [2:15:03<2:46:31,  5.79s/it]"
     ]
    },
    {
     "name": "stdout",
     "output_type": "stream",
     "text": [
      "Maximum run count 10 reached for component 'prompt_builder'\n",
      "iter 0 failed, trying again 0/5\n",
      "Maximum run count 10 reached for component 'prompt_builder'\n",
      "iter 1 failed, trying again 1/5\n"
     ]
    },
    {
     "name": "stderr",
     "output_type": "stream",
     "text": [
      "error data = 32, error_rate = 2.39:  44%|████▍     | 1372/3096 [2:15:16<3:48:23,  7.95s/it]"
     ]
    },
    {
     "name": "stdout",
     "output_type": "stream",
     "text": [
      "Maximum run count 10 reached for component 'prompt_builder'\n",
      "iter 0 failed, trying again 0/5\n"
     ]
    },
    {
     "name": "stderr",
     "output_type": "stream",
     "text": [
      "error data = 32, error_rate = 2.39:  44%|████▍     | 1373/3096 [2:15:24<3:45:57,  7.87s/it]"
     ]
    },
    {
     "name": "stdout",
     "output_type": "stream",
     "text": [
      "Maximum run count 10 reached for component 'prompt_builder'\n",
      "iter 0 failed, trying again 0/5\n"
     ]
    },
    {
     "name": "stderr",
     "output_type": "stream",
     "text": [
      "error data = 32, error_rate = 2.38:  45%|████▍     | 1379/3096 [2:15:58<2:19:22,  4.87s/it]"
     ]
    },
    {
     "name": "stdout",
     "output_type": "stream",
     "text": [
      "Maximum run count 10 reached for component 'prompt_builder'\n",
      "iter 0 failed, trying again 0/5\n"
     ]
    },
    {
     "name": "stderr",
     "output_type": "stream",
     "text": [
      "error data = 32, error_rate = 2.37:  45%|████▍     | 1381/3096 [2:16:13<2:52:17,  6.03s/it]"
     ]
    },
    {
     "name": "stdout",
     "output_type": "stream",
     "text": [
      "Maximum run count 10 reached for component 'prompt_builder'\n",
      "iter 0 failed, trying again 0/5\n"
     ]
    },
    {
     "name": "stderr",
     "output_type": "stream",
     "text": [
      "error data = 32, error_rate = 2.37:  45%|████▍     | 1382/3096 [2:16:21<3:03:24,  6.42s/it]"
     ]
    },
    {
     "name": "stdout",
     "output_type": "stream",
     "text": [
      "Maximum run count 10 reached for component 'prompt_builder'\n",
      "iter 0 failed, trying again 0/5\n",
      "Maximum run count 10 reached for component 'prompt_builder'\n",
      "iter 1 failed, trying again 1/5\n"
     ]
    },
    {
     "name": "stderr",
     "output_type": "stream",
     "text": [
      "error data = 32, error_rate = 2.36:  45%|████▍     | 1388/3096 [2:16:52<1:48:44,  3.82s/it]"
     ]
    },
    {
     "name": "stdout",
     "output_type": "stream",
     "text": [
      "Maximum run count 10 reached for component 'prompt_builder'\n",
      "iter 0 failed, trying again 0/5\n",
      "Maximum run count 10 reached for component 'prompt_builder'\n",
      "iter 1 failed, trying again 1/5\n",
      "Maximum run count 10 reached for component 'prompt_builder'\n",
      "iter 2 failed, trying again 2/5\n"
     ]
    },
    {
     "name": "stderr",
     "output_type": "stream",
     "text": [
      "error data = 32, error_rate = 2.36:  45%|████▍     | 1390/3096 [2:17:19<3:40:15,  7.75s/it]"
     ]
    },
    {
     "name": "stdout",
     "output_type": "stream",
     "text": [
      "Maximum run count 10 reached for component 'prompt_builder'\n",
      "iter 0 failed, trying again 0/5\n"
     ]
    },
    {
     "name": "stderr",
     "output_type": "stream",
     "text": [
      "error data = 32, error_rate = 2.35:  45%|████▍     | 1391/3096 [2:17:27<3:36:26,  7.62s/it]"
     ]
    },
    {
     "name": "stdout",
     "output_type": "stream",
     "text": [
      "Maximum run count 10 reached for component 'prompt_builder'\n",
      "iter 0 failed, trying again 0/5\n"
     ]
    },
    {
     "name": "stderr",
     "output_type": "stream",
     "text": [
      "error data = 32, error_rate = 2.35:  45%|████▍     | 1392/3096 [2:17:33<3:27:13,  7.30s/it]"
     ]
    },
    {
     "name": "stdout",
     "output_type": "stream",
     "text": [
      "Maximum run count 10 reached for component 'prompt_builder'\n",
      "iter 0 failed, trying again 0/5\n"
     ]
    },
    {
     "name": "stderr",
     "output_type": "stream",
     "text": [
      "error data = 32, error_rate = 2.35:  45%|████▌     | 1396/3096 [2:17:48<1:48:20,  3.82s/it]"
     ]
    },
    {
     "name": "stdout",
     "output_type": "stream",
     "text": [
      "Maximum run count 10 reached for component 'prompt_builder'\n",
      "iter 0 failed, trying again 0/5\n",
      "Maximum run count 10 reached for component 'prompt_builder'\n",
      "iter 1 failed, trying again 1/5\n"
     ]
    },
    {
     "name": "stderr",
     "output_type": "stream",
     "text": [
      "error data = 32, error_rate = 2.34:  45%|████▌     | 1398/3096 [2:18:14<3:45:01,  7.95s/it]"
     ]
    },
    {
     "name": "stdout",
     "output_type": "stream",
     "text": [
      "Maximum run count 10 reached for component 'prompt_builder'\n",
      "iter 0 failed, trying again 0/5\n",
      "Maximum run count 10 reached for component 'prompt_builder'\n",
      "iter 1 failed, trying again 1/5\n",
      "Maximum run count 10 reached for component 'prompt_builder'\n",
      "iter 2 failed, trying again 2/5\n",
      "Maximum run count 10 reached for component 'prompt_builder'\n",
      "iter 3 failed, trying again 3/5\n"
     ]
    },
    {
     "name": "stderr",
     "output_type": "stream",
     "text": [
      "error data = 33, error_rate = 2.42:  45%|████▌     | 1399/3096 [2:18:49<7:31:30, 15.96s/it]"
     ]
    },
    {
     "name": "stdout",
     "output_type": "stream",
     "text": [
      "Maximum run count 10 reached for component 'prompt_builder'\n",
      "iter 4 failed, trying again 4/5\n"
     ]
    },
    {
     "name": "stderr",
     "output_type": "stream",
     "text": [
      "error data = 33, error_rate = 2.41:  45%|████▌     | 1402/3096 [2:18:53<3:02:10,  6.45s/it]"
     ]
    },
    {
     "name": "stdout",
     "output_type": "stream",
     "text": [
      "Maximum run count 10 reached for component 'prompt_builder'\n",
      "iter 0 failed, trying again 0/5\n",
      "Maximum run count 10 reached for component 'prompt_builder'\n",
      "iter 1 failed, trying again 1/5\n"
     ]
    },
    {
     "name": "stderr",
     "output_type": "stream",
     "text": [
      "error data = 33, error_rate = 2.41:  45%|████▌     | 1405/3096 [2:19:21<3:10:47,  6.77s/it]"
     ]
    },
    {
     "name": "stdout",
     "output_type": "stream",
     "text": [
      "Maximum run count 10 reached for component 'prompt_builder'\n",
      "iter 0 failed, trying again 0/5\n",
      "Maximum run count 10 reached for component 'prompt_builder'\n",
      "iter 1 failed, trying again 1/5\n"
     ]
    },
    {
     "name": "stderr",
     "output_type": "stream",
     "text": [
      "error data = 33, error_rate = 2.40:  45%|████▌     | 1407/3096 [2:19:42<3:42:28,  7.90s/it]"
     ]
    },
    {
     "name": "stdout",
     "output_type": "stream",
     "text": [
      "Maximum run count 10 reached for component 'prompt_builder'\n",
      "iter 0 failed, trying again 0/5\n",
      "Maximum run count 10 reached for component 'prompt_builder'\n",
      "iter 1 failed, trying again 1/5\n"
     ]
    },
    {
     "name": "stderr",
     "output_type": "stream",
     "text": [
      "error data = 33, error_rate = 2.40:  45%|████▌     | 1408/3096 [2:19:59<5:03:09, 10.78s/it]"
     ]
    },
    {
     "name": "stdout",
     "output_type": "stream",
     "text": [
      "Maximum run count 10 reached for component 'prompt_builder'\n",
      "iter 0 failed, trying again 0/5\n",
      "Maximum run count 10 reached for component 'prompt_builder'\n",
      "iter 1 failed, trying again 1/5\n",
      "Maximum run count 10 reached for component 'prompt_builder'\n",
      "iter 2 failed, trying again 2/5\n",
      "Maximum run count 10 reached for component 'prompt_builder'\n",
      "iter 3 failed, trying again 3/5\n"
     ]
    },
    {
     "name": "stderr",
     "output_type": "stream",
     "text": [
      "error data = 34, error_rate = 2.47:  46%|████▌     | 1409/3096 [2:20:30<7:55:25, 16.91s/it]"
     ]
    },
    {
     "name": "stdout",
     "output_type": "stream",
     "text": [
      "Maximum run count 10 reached for component 'prompt_builder'\n",
      "iter 4 failed, trying again 4/5\n",
      "Maximum run count 10 reached for component 'prompt_builder'\n",
      "iter 0 failed, trying again 0/5\n",
      "Maximum run count 10 reached for component 'prompt_builder'\n",
      "iter 1 failed, trying again 1/5\n"
     ]
    },
    {
     "name": "stderr",
     "output_type": "stream",
     "text": [
      "error data = 34, error_rate = 2.45:  46%|████▌     | 1424/3096 [2:21:37<1:59:30,  4.29s/it]"
     ]
    },
    {
     "name": "stdout",
     "output_type": "stream",
     "text": [
      "Maximum run count 10 reached for component 'prompt_builder'\n",
      "iter 0 failed, trying again 0/5\n"
     ]
    },
    {
     "name": "stderr",
     "output_type": "stream",
     "text": [
      "error data = 34, error_rate = 2.44:  46%|████▌     | 1426/3096 [2:21:50<2:21:16,  5.08s/it]"
     ]
    },
    {
     "name": "stdout",
     "output_type": "stream",
     "text": [
      "Maximum run count 10 reached for component 'prompt_builder'\n",
      "iter 0 failed, trying again 0/5\n"
     ]
    },
    {
     "name": "stderr",
     "output_type": "stream",
     "text": [
      "error data = 34, error_rate = 2.43:  46%|████▋     | 1432/3096 [2:22:28<2:02:21,  4.41s/it]"
     ]
    },
    {
     "name": "stdout",
     "output_type": "stream",
     "text": [
      "Maximum run count 10 reached for component 'prompt_builder'\n",
      "iter 0 failed, trying again 0/5\n",
      "Maximum run count 10 reached for component 'prompt_builder'\n",
      "iter 1 failed, trying again 1/5\n",
      "Maximum run count 10 reached for component 'prompt_builder'\n",
      "iter 2 failed, trying again 2/5\n",
      "Maximum run count 10 reached for component 'prompt_builder'\n",
      "iter 3 failed, trying again 3/5\n"
     ]
    },
    {
     "name": "stderr",
     "output_type": "stream",
     "text": [
      "error data = 35, error_rate = 2.50:  46%|████▋     | 1433/3096 [2:23:05<6:31:47, 14.14s/it]"
     ]
    },
    {
     "name": "stdout",
     "output_type": "stream",
     "text": [
      "Maximum run count 10 reached for component 'prompt_builder'\n",
      "iter 4 failed, trying again 4/5\n"
     ]
    },
    {
     "name": "stderr",
     "output_type": "stream",
     "text": [
      "error data = 35, error_rate = 2.50:  46%|████▋     | 1436/3096 [2:23:17<3:32:40,  7.69s/it]"
     ]
    },
    {
     "name": "stdout",
     "output_type": "stream",
     "text": [
      "Maximum run count 10 reached for component 'prompt_builder'\n",
      "iter 0 failed, trying again 0/5\n"
     ]
    },
    {
     "name": "stderr",
     "output_type": "stream",
     "text": [
      "error data = 35, error_rate = 2.48:  47%|████▋     | 1447/3096 [2:24:10<2:09:34,  4.71s/it]"
     ]
    },
    {
     "name": "stdout",
     "output_type": "stream",
     "text": [
      "Maximum run count 10 reached for component 'prompt_builder'\n",
      "iter 0 failed, trying again 0/5\n"
     ]
    },
    {
     "name": "stderr",
     "output_type": "stream",
     "text": [
      "error data = 35, error_rate = 2.47:  47%|████▋     | 1452/3096 [2:24:25<1:26:41,  3.16s/it]"
     ]
    },
    {
     "name": "stdout",
     "output_type": "stream",
     "text": [
      "Maximum run count 10 reached for component 'prompt_builder'\n",
      "iter 0 failed, trying again 0/5\n",
      "Maximum run count 10 reached for component 'prompt_builder'\n",
      "iter 1 failed, trying again 1/5\n"
     ]
    },
    {
     "name": "stderr",
     "output_type": "stream",
     "text": [
      "error data = 35, error_rate = 2.47:  47%|████▋     | 1454/3096 [2:24:44<2:36:16,  5.71s/it]"
     ]
    },
    {
     "name": "stdout",
     "output_type": "stream",
     "text": [
      "Maximum run count 10 reached for component 'prompt_builder'\n",
      "iter 0 failed, trying again 0/5\n",
      "Maximum run count 10 reached for component 'prompt_builder'\n",
      "iter 1 failed, trying again 1/5\n"
     ]
    },
    {
     "name": "stderr",
     "output_type": "stream",
     "text": [
      "error data = 35, error_rate = 2.45:  47%|████▋     | 1461/3096 [2:25:24<1:50:34,  4.06s/it]"
     ]
    },
    {
     "name": "stdout",
     "output_type": "stream",
     "text": [
      "Maximum run count 10 reached for component 'prompt_builder'\n",
      "iter 0 failed, trying again 0/5\n"
     ]
    },
    {
     "name": "stderr",
     "output_type": "stream",
     "text": [
      "error data = 35, error_rate = 2.45:  47%|████▋     | 1465/3096 [2:25:39<1:20:34,  2.96s/it]"
     ]
    },
    {
     "name": "stdout",
     "output_type": "stream",
     "text": [
      "Maximum run count 10 reached for component 'prompt_builder'\n",
      "iter 0 failed, trying again 0/5\n"
     ]
    },
    {
     "name": "stderr",
     "output_type": "stream",
     "text": [
      "error data = 35, error_rate = 2.44:  47%|████▋     | 1468/3096 [2:25:51<1:28:01,  3.24s/it]"
     ]
    },
    {
     "name": "stdout",
     "output_type": "stream",
     "text": [
      "Maximum run count 10 reached for component 'prompt_builder'\n",
      "iter 0 failed, trying again 0/5\n",
      "Maximum run count 10 reached for component 'prompt_builder'\n",
      "iter 1 failed, trying again 1/5\n"
     ]
    },
    {
     "name": "stderr",
     "output_type": "stream",
     "text": [
      "error data = 35, error_rate = 2.43:  48%|████▊     | 1474/3096 [2:26:15<1:07:56,  2.51s/it]"
     ]
    },
    {
     "name": "stdout",
     "output_type": "stream",
     "text": [
      "Maximum run count 10 reached for component 'prompt_builder'\n",
      "iter 0 failed, trying again 0/5\n"
     ]
    },
    {
     "name": "stderr",
     "output_type": "stream",
     "text": [
      "error data = 35, error_rate = 2.43:  48%|████▊     | 1476/3096 [2:26:28<1:57:23,  4.35s/it]"
     ]
    },
    {
     "name": "stdout",
     "output_type": "stream",
     "text": [
      "Maximum run count 10 reached for component 'prompt_builder'\n",
      "iter 0 failed, trying again 0/5\n",
      "Maximum run count 10 reached for component 'prompt_builder'\n",
      "iter 1 failed, trying again 1/5\n",
      "Maximum run count 10 reached for component 'prompt_builder'\n",
      "iter 2 failed, trying again 2/5\n",
      "Maximum run count 10 reached for component 'prompt_builder'\n",
      "iter 3 failed, trying again 3/5\n"
     ]
    },
    {
     "name": "stderr",
     "output_type": "stream",
     "text": [
      "error data = 36, error_rate = 2.50:  48%|████▊     | 1477/3096 [2:27:00<5:39:29, 12.58s/it]"
     ]
    },
    {
     "name": "stdout",
     "output_type": "stream",
     "text": [
      "Maximum run count 10 reached for component 'prompt_builder'\n",
      "iter 4 failed, trying again 4/5\n"
     ]
    },
    {
     "name": "stderr",
     "output_type": "stream",
     "text": [
      "error data = 36, error_rate = 2.49:  48%|████▊     | 1483/3096 [2:27:24<2:17:49,  5.13s/it]"
     ]
    },
    {
     "name": "stdout",
     "output_type": "stream",
     "text": [
      "Maximum run count 10 reached for component 'prompt_builder'\n",
      "iter 0 failed, trying again 0/5\n"
     ]
    },
    {
     "name": "stderr",
     "output_type": "stream",
     "text": [
      "error data = 36, error_rate = 2.48:  48%|████▊     | 1487/3096 [2:27:48<2:16:14,  5.08s/it]"
     ]
    },
    {
     "name": "stdout",
     "output_type": "stream",
     "text": [
      "Maximum run count 10 reached for component 'prompt_builder'\n",
      "iter 0 failed, trying again 0/5\n"
     ]
    },
    {
     "name": "stderr",
     "output_type": "stream",
     "text": [
      "error data = 36, error_rate = 2.46:  48%|████▊     | 1497/3096 [2:28:20<1:06:57,  2.51s/it]"
     ]
    },
    {
     "name": "stdout",
     "output_type": "stream",
     "text": [
      "Maximum run count 10 reached for component 'prompt_builder'\n",
      "iter 0 failed, trying again 0/5\n"
     ]
    },
    {
     "name": "stderr",
     "output_type": "stream",
     "text": [
      "error data = 36, error_rate = 2.45:  49%|████▊     | 1505/3096 [2:28:53<1:23:30,  3.15s/it]"
     ]
    },
    {
     "name": "stdout",
     "output_type": "stream",
     "text": [
      "Maximum run count 10 reached for component 'prompt_builder'\n",
      "iter 0 failed, trying again 0/5\n",
      "Maximum run count 10 reached for component 'prompt_builder'\n",
      "iter 1 failed, trying again 1/5\n",
      "Maximum run count 10 reached for component 'prompt_builder'\n",
      "iter 2 failed, trying again 2/5\n",
      "Maximum run count 10 reached for component 'prompt_builder'\n",
      "iter 3 failed, trying again 3/5\n"
     ]
    },
    {
     "name": "stderr",
     "output_type": "stream",
     "text": [
      "error data = 37, error_rate = 2.52:  49%|████▊     | 1506/3096 [2:29:29<5:41:33, 12.89s/it]"
     ]
    },
    {
     "name": "stdout",
     "output_type": "stream",
     "text": [
      "Maximum run count 10 reached for component 'prompt_builder'\n",
      "iter 4 failed, trying again 4/5\n"
     ]
    },
    {
     "name": "stderr",
     "output_type": "stream",
     "text": [
      "error data = 37, error_rate = 2.52:  49%|████▊     | 1508/3096 [2:29:32<3:07:02,  7.07s/it]"
     ]
    },
    {
     "name": "stdout",
     "output_type": "stream",
     "text": [
      "Maximum run count 10 reached for component 'prompt_builder'\n",
      "iter 0 failed, trying again 0/5\n",
      "Maximum run count 10 reached for component 'prompt_builder'\n",
      "iter 1 failed, trying again 1/5\n"
     ]
    },
    {
     "name": "stderr",
     "output_type": "stream",
     "text": [
      "error data = 37, error_rate = 2.51:  49%|████▉     | 1513/3096 [2:29:53<1:31:38,  3.47s/it]"
     ]
    },
    {
     "name": "stdout",
     "output_type": "stream",
     "text": [
      "Maximum run count 10 reached for component 'prompt_builder'\n",
      "iter 0 failed, trying again 0/5\n"
     ]
    },
    {
     "name": "stderr",
     "output_type": "stream",
     "text": [
      "error data = 37, error_rate = 2.48:  49%|████▉     | 1529/3096 [2:31:00<1:01:39,  2.36s/it]"
     ]
    },
    {
     "name": "stdout",
     "output_type": "stream",
     "text": [
      "Maximum run count 10 reached for component 'prompt_builder'\n",
      "iter 0 failed, trying again 0/5\n",
      "Maximum run count 10 reached for component 'prompt_builder'\n",
      "iter 1 failed, trying again 1/5\n",
      "Maximum run count 10 reached for component 'prompt_builder'\n",
      "iter 2 failed, trying again 2/5\n"
     ]
    },
    {
     "name": "stderr",
     "output_type": "stream",
     "text": [
      "error data = 37, error_rate = 2.47:  50%|████▉     | 1535/3096 [2:31:51<2:16:59,  5.27s/it]"
     ]
    },
    {
     "name": "stdout",
     "output_type": "stream",
     "text": [
      "Maximum run count 10 reached for component 'prompt_builder'\n",
      "iter 0 failed, trying again 0/5\n"
     ]
    },
    {
     "name": "stderr",
     "output_type": "stream",
     "text": [
      "error data = 37, error_rate = 2.47:  50%|████▉     | 1537/3096 [2:32:00<1:58:12,  4.55s/it]"
     ]
    },
    {
     "name": "stdout",
     "output_type": "stream",
     "text": [
      "Maximum run count 10 reached for component 'prompt_builder'\n",
      "iter 0 failed, trying again 0/5\n"
     ]
    },
    {
     "name": "stderr",
     "output_type": "stream",
     "text": [
      "error data = 37, error_rate = 2.46:  50%|████▉     | 1541/3096 [2:32:27<2:22:41,  5.51s/it]"
     ]
    },
    {
     "name": "stdout",
     "output_type": "stream",
     "text": [
      "Maximum run count 10 reached for component 'prompt_builder'\n",
      "iter 0 failed, trying again 0/5\n"
     ]
    },
    {
     "name": "stderr",
     "output_type": "stream",
     "text": [
      "error data = 37, error_rate = 2.45:  50%|█████     | 1549/3096 [2:32:56<1:22:39,  3.21s/it]"
     ]
    },
    {
     "name": "stdout",
     "output_type": "stream",
     "text": [
      "Maximum run count 10 reached for component 'prompt_builder'\n",
      "iter 0 failed, trying again 0/5\n"
     ]
    },
    {
     "name": "stderr",
     "output_type": "stream",
     "text": [
      "error data = 37, error_rate = 2.43:  50%|█████     | 1560/3096 [2:33:33<1:20:51,  3.16s/it]"
     ]
    },
    {
     "name": "stdout",
     "output_type": "stream",
     "text": [
      "Maximum run count 10 reached for component 'prompt_builder'\n",
      "iter 0 failed, trying again 0/5\n",
      "Maximum run count 10 reached for component 'prompt_builder'\n",
      "iter 1 failed, trying again 1/5\n",
      "Maximum run count 10 reached for component 'prompt_builder'\n",
      "iter 2 failed, trying again 2/5\n"
     ]
    },
    {
     "name": "stderr",
     "output_type": "stream",
     "text": [
      "error data = 37, error_rate = 2.43:  50%|█████     | 1561/3096 [2:33:57<3:59:40,  9.37s/it]"
     ]
    },
    {
     "name": "stdout",
     "output_type": "stream",
     "text": [
      "Maximum run count 10 reached for component 'prompt_builder'\n",
      "iter 0 failed, trying again 0/5\n",
      "Maximum run count 10 reached for component 'prompt_builder'\n",
      "iter 1 failed, trying again 1/5\n",
      "Maximum run count 10 reached for component 'prompt_builder'\n",
      "iter 2 failed, trying again 2/5\n"
     ]
    },
    {
     "name": "stderr",
     "output_type": "stream",
     "text": [
      "error data = 37, error_rate = 2.42:  51%|█████     | 1566/3096 [2:34:31<2:20:54,  5.53s/it]"
     ]
    },
    {
     "name": "stdout",
     "output_type": "stream",
     "text": [
      "Maximum run count 10 reached for component 'prompt_builder'\n",
      "iter 0 failed, trying again 0/5\n",
      "Maximum run count 10 reached for component 'prompt_builder'\n",
      "iter 1 failed, trying again 1/5\n"
     ]
    },
    {
     "name": "stderr",
     "output_type": "stream",
     "text": [
      "error data = 37, error_rate = 2.42:  51%|█████     | 1569/3096 [2:34:49<2:09:52,  5.10s/it]"
     ]
    },
    {
     "name": "stdout",
     "output_type": "stream",
     "text": [
      "Maximum run count 10 reached for component 'prompt_builder'\n",
      "iter 0 failed, trying again 0/5\n",
      "Maximum run count 10 reached for component 'prompt_builder'\n",
      "iter 1 failed, trying again 1/5\n",
      "Maximum run count 10 reached for component 'prompt_builder'\n",
      "iter 2 failed, trying again 2/5\n"
     ]
    },
    {
     "name": "stderr",
     "output_type": "stream",
     "text": [
      "error data = 37, error_rate = 2.40:  51%|█████     | 1578/3096 [2:35:45<1:29:50,  3.55s/it]"
     ]
    },
    {
     "name": "stdout",
     "output_type": "stream",
     "text": [
      "Maximum run count 10 reached for component 'prompt_builder'\n",
      "iter 0 failed, trying again 0/5\n",
      "Maximum run count 10 reached for component 'prompt_builder'\n",
      "iter 1 failed, trying again 1/5\n"
     ]
    },
    {
     "name": "stderr",
     "output_type": "stream",
     "text": [
      "error data = 37, error_rate = 2.40:  51%|█████     | 1580/3096 [2:36:09<2:56:21,  6.98s/it]"
     ]
    },
    {
     "name": "stdout",
     "output_type": "stream",
     "text": [
      "Maximum run count 10 reached for component 'prompt_builder'\n",
      "iter 0 failed, trying again 0/5\n",
      "Maximum run count 10 reached for component 'prompt_builder'\n",
      "iter 1 failed, trying again 1/5\n",
      "Maximum run count 10 reached for component 'prompt_builder'\n",
      "iter 2 failed, trying again 2/5\n",
      "Maximum run count 10 reached for component 'prompt_builder'\n",
      "iter 3 failed, trying again 3/5\n"
     ]
    },
    {
     "name": "stderr",
     "output_type": "stream",
     "text": [
      "error data = 37, error_rate = 2.40:  51%|█████     | 1581/3096 [2:36:40<6:01:48, 14.33s/it]"
     ]
    },
    {
     "name": "stdout",
     "output_type": "stream",
     "text": [
      "Maximum run count 10 reached for component 'prompt_builder'\n",
      "iter 0 failed, trying again 0/5\n",
      "Maximum run count 10 reached for component 'prompt_builder'\n",
      "iter 1 failed, trying again 1/5\n",
      "Maximum run count 10 reached for component 'prompt_builder'\n",
      "iter 2 failed, trying again 2/5\n",
      "Maximum run count 10 reached for component 'prompt_builder'\n",
      "iter 3 failed, trying again 3/5\n"
     ]
    },
    {
     "name": "stderr",
     "output_type": "stream",
     "text": [
      "error data = 38, error_rate = 2.46:  51%|█████     | 1582/3096 [2:37:22<9:25:42, 22.42s/it]"
     ]
    },
    {
     "name": "stdout",
     "output_type": "stream",
     "text": [
      "Maximum run count 10 reached for component 'prompt_builder'\n",
      "iter 4 failed, trying again 4/5\n"
     ]
    },
    {
     "name": "stderr",
     "output_type": "stream",
     "text": [
      "error data = 38, error_rate = 2.46:  51%|█████     | 1585/3096 [2:37:42<4:42:05, 11.20s/it]"
     ]
    },
    {
     "name": "stdout",
     "output_type": "stream",
     "text": [
      "Maximum run count 10 reached for component 'prompt_builder'\n",
      "iter 0 failed, trying again 0/5\n"
     ]
    },
    {
     "name": "stderr",
     "output_type": "stream",
     "text": [
      "error data = 38, error_rate = 2.45:  51%|█████     | 1586/3096 [2:37:52<4:30:40, 10.76s/it]"
     ]
    },
    {
     "name": "stdout",
     "output_type": "stream",
     "text": [
      "Maximum run count 10 reached for component 'prompt_builder'\n",
      "iter 0 failed, trying again 0/5\n"
     ]
    },
    {
     "name": "stderr",
     "output_type": "stream",
     "text": [
      "error data = 38, error_rate = 2.45:  51%|█████▏    | 1591/3096 [2:38:21<2:19:12,  5.55s/it]"
     ]
    },
    {
     "name": "stdout",
     "output_type": "stream",
     "text": [
      "Maximum run count 10 reached for component 'prompt_builder'\n",
      "iter 0 failed, trying again 0/5\n"
     ]
    },
    {
     "name": "stderr",
     "output_type": "stream",
     "text": [
      "error data = 38, error_rate = 2.45:  51%|█████▏    | 1592/3096 [2:38:31<2:49:31,  6.76s/it]"
     ]
    },
    {
     "name": "stdout",
     "output_type": "stream",
     "text": [
      "Maximum run count 10 reached for component 'prompt_builder'\n",
      "iter 0 failed, trying again 0/5\n",
      "Maximum run count 10 reached for component 'prompt_builder'\n",
      "iter 1 failed, trying again 1/5\n"
     ]
    },
    {
     "name": "stderr",
     "output_type": "stream",
     "text": [
      "error data = 38, error_rate = 2.44:  51%|█████▏    | 1594/3096 [2:38:59<3:58:16,  9.52s/it]"
     ]
    },
    {
     "name": "stdout",
     "output_type": "stream",
     "text": [
      "Maximum run count 10 reached for component 'prompt_builder'\n",
      "iter 0 failed, trying again 0/5\n",
      "Maximum run count 10 reached for component 'prompt_builder'\n",
      "iter 1 failed, trying again 1/5\n"
     ]
    },
    {
     "name": "stderr",
     "output_type": "stream",
     "text": [
      "error data = 38, error_rate = 2.43:  52%|█████▏    | 1603/3096 [2:39:26<40:17,  1.62s/it]  "
     ]
    },
    {
     "name": "stdout",
     "output_type": "stream",
     "text": [
      "Maximum run count 10 reached for component 'prompt_builder'\n",
      "iter 0 failed, trying again 0/5\n"
     ]
    },
    {
     "name": "stderr",
     "output_type": "stream",
     "text": [
      "error data = 38, error_rate = 2.42:  52%|█████▏    | 1606/3096 [2:39:40<1:28:59,  3.58s/it]"
     ]
    },
    {
     "name": "stdout",
     "output_type": "stream",
     "text": [
      "Maximum run count 10 reached for component 'prompt_builder'\n",
      "iter 0 failed, trying again 0/5\n",
      "Maximum run count 10 reached for component 'prompt_builder'\n",
      "iter 1 failed, trying again 1/5\n",
      "Maximum run count 10 reached for component 'prompt_builder'\n",
      "iter 2 failed, trying again 2/5\n",
      "Maximum run count 10 reached for component 'prompt_builder'\n",
      "iter 3 failed, trying again 3/5\n"
     ]
    },
    {
     "name": "stderr",
     "output_type": "stream",
     "text": [
      "error data = 38, error_rate = 2.41:  52%|█████▏    | 1615/3096 [2:41:07<2:02:45,  4.97s/it]"
     ]
    },
    {
     "name": "stdout",
     "output_type": "stream",
     "text": [
      "Maximum run count 10 reached for component 'prompt_builder'\n",
      "iter 0 failed, trying again 0/5\n"
     ]
    },
    {
     "name": "stderr",
     "output_type": "stream",
     "text": [
      "error data = 38, error_rate = 2.40:  52%|█████▏    | 1621/3096 [2:41:33<1:29:01,  3.62s/it]"
     ]
    },
    {
     "name": "stdout",
     "output_type": "stream",
     "text": [
      "Maximum run count 10 reached for component 'prompt_builder'\n",
      "iter 0 failed, trying again 0/5\n"
     ]
    },
    {
     "name": "stderr",
     "output_type": "stream",
     "text": [
      "error data = 38, error_rate = 2.39:  53%|█████▎    | 1630/3096 [2:42:19<1:43:09,  4.22s/it]"
     ]
    },
    {
     "name": "stdout",
     "output_type": "stream",
     "text": [
      "Maximum run count 10 reached for component 'prompt_builder'\n",
      "iter 0 failed, trying again 0/5\n"
     ]
    },
    {
     "name": "stderr",
     "output_type": "stream",
     "text": [
      "error data = 38, error_rate = 2.38:  53%|█████▎    | 1632/3096 [2:42:40<2:44:35,  6.75s/it]"
     ]
    },
    {
     "name": "stdout",
     "output_type": "stream",
     "text": [
      "Maximum run count 10 reached for component 'prompt_builder'\n",
      "iter 0 failed, trying again 0/5\n"
     ]
    },
    {
     "name": "stderr",
     "output_type": "stream",
     "text": [
      "error data = 38, error_rate = 2.38:  53%|█████▎    | 1638/3096 [2:43:15<2:08:36,  5.29s/it]"
     ]
    },
    {
     "name": "stdout",
     "output_type": "stream",
     "text": [
      "Maximum run count 10 reached for component 'prompt_builder'\n",
      "iter 0 failed, trying again 0/5\n"
     ]
    },
    {
     "name": "stderr",
     "output_type": "stream",
     "text": [
      "error data = 38, error_rate = 2.37:  53%|█████▎    | 1640/3096 [2:43:30<2:24:37,  5.96s/it]"
     ]
    },
    {
     "name": "stdout",
     "output_type": "stream",
     "text": [
      "Maximum run count 10 reached for component 'prompt_builder'\n",
      "iter 0 failed, trying again 0/5\n",
      "Maximum run count 10 reached for component 'prompt_builder'\n",
      "iter 1 failed, trying again 1/5\n",
      "Maximum run count 10 reached for component 'prompt_builder'\n",
      "iter 2 failed, trying again 2/5\n",
      "Maximum run count 10 reached for component 'prompt_builder'\n",
      "iter 3 failed, trying again 3/5\n"
     ]
    },
    {
     "name": "stderr",
     "output_type": "stream",
     "text": [
      "error data = 39, error_rate = 2.43:  53%|█████▎    | 1641/3096 [2:44:09<6:27:19, 15.97s/it]"
     ]
    },
    {
     "name": "stdout",
     "output_type": "stream",
     "text": [
      "Maximum run count 10 reached for component 'prompt_builder'\n",
      "iter 4 failed, trying again 4/5\n",
      "Maximum run count 10 reached for component 'prompt_builder'\n",
      "iter 0 failed, trying again 0/5\n"
     ]
    },
    {
     "name": "stderr",
     "output_type": "stream",
     "text": [
      "error data = 39, error_rate = 2.43:  53%|█████▎    | 1644/3096 [2:44:29<3:41:21,  9.15s/it]"
     ]
    },
    {
     "name": "stdout",
     "output_type": "stream",
     "text": [
      "Maximum run count 10 reached for component 'prompt_builder'\n",
      "iter 0 failed, trying again 0/5\n"
     ]
    },
    {
     "name": "stderr",
     "output_type": "stream",
     "text": [
      "error data = 39, error_rate = 2.42:  53%|█████▎    | 1650/3096 [2:44:55<1:22:30,  3.42s/it]"
     ]
    },
    {
     "name": "stdout",
     "output_type": "stream",
     "text": [
      "Maximum run count 10 reached for component 'prompt_builder'\n",
      "iter 0 failed, trying again 0/5\n"
     ]
    },
    {
     "name": "stderr",
     "output_type": "stream",
     "text": [
      "error data = 39, error_rate = 2.41:  54%|█████▎    | 1657/3096 [2:45:16<1:06:31,  2.77s/it]"
     ]
    },
    {
     "name": "stdout",
     "output_type": "stream",
     "text": [
      "Maximum run count 10 reached for component 'prompt_builder'\n",
      "iter 0 failed, trying again 0/5\n"
     ]
    },
    {
     "name": "stderr",
     "output_type": "stream",
     "text": [
      "error data = 39, error_rate = 2.40:  54%|█████▎    | 1661/3096 [2:45:35<1:19:41,  3.33s/it]"
     ]
    },
    {
     "name": "stdout",
     "output_type": "stream",
     "text": [
      "Maximum run count 10 reached for component 'prompt_builder'\n",
      "iter 0 failed, trying again 0/5\n"
     ]
    },
    {
     "name": "stderr",
     "output_type": "stream",
     "text": [
      "error data = 39, error_rate = 2.40:  54%|█████▎    | 1662/3096 [2:45:42<1:52:17,  4.70s/it]"
     ]
    },
    {
     "name": "stdout",
     "output_type": "stream",
     "text": [
      "Maximum run count 10 reached for component 'prompt_builder'\n",
      "iter 0 failed, trying again 0/5\n"
     ]
    },
    {
     "name": "stderr",
     "output_type": "stream",
     "text": [
      "error data = 39, error_rate = 2.40:  54%|█████▎    | 1663/3096 [2:45:49<2:02:51,  5.14s/it]"
     ]
    },
    {
     "name": "stdout",
     "output_type": "stream",
     "text": [
      "Maximum run count 10 reached for component 'prompt_builder'\n",
      "iter 0 failed, trying again 0/5\n"
     ]
    },
    {
     "name": "stderr",
     "output_type": "stream",
     "text": [
      "error data = 39, error_rate = 2.39:  54%|█████▍    | 1668/3096 [2:46:11<1:34:54,  3.99s/it]"
     ]
    },
    {
     "name": "stdout",
     "output_type": "stream",
     "text": [
      "Maximum run count 10 reached for component 'prompt_builder'\n",
      "iter 0 failed, trying again 0/5\n"
     ]
    },
    {
     "name": "stderr",
     "output_type": "stream",
     "text": [
      "error data = 39, error_rate = 2.39:  54%|█████▍    | 1669/3096 [2:46:29<3:11:13,  8.04s/it]"
     ]
    },
    {
     "name": "stdout",
     "output_type": "stream",
     "text": [
      "Maximum run count 10 reached for component 'prompt_builder'\n",
      "iter 0 failed, trying again 0/5\n",
      "Maximum run count 10 reached for component 'prompt_builder'\n",
      "iter 1 failed, trying again 1/5\n"
     ]
    },
    {
     "name": "stderr",
     "output_type": "stream",
     "text": [
      "error data = 39, error_rate = 2.38:  54%|█████▍    | 1678/3096 [2:47:07<1:07:43,  2.87s/it]"
     ]
    },
    {
     "name": "stdout",
     "output_type": "stream",
     "text": [
      "Maximum run count 10 reached for component 'prompt_builder'\n",
      "iter 0 failed, trying again 0/5\n"
     ]
    },
    {
     "name": "stderr",
     "output_type": "stream",
     "text": [
      "error data = 39, error_rate = 2.38:  54%|█████▍    | 1679/3096 [2:47:24<2:50:59,  7.24s/it]"
     ]
    },
    {
     "name": "stdout",
     "output_type": "stream",
     "text": [
      "Maximum run count 10 reached for component 'prompt_builder'\n",
      "iter 0 failed, trying again 0/5\n"
     ]
    },
    {
     "name": "stderr",
     "output_type": "stream",
     "text": [
      "error data = 39, error_rate = 2.38:  54%|█████▍    | 1681/3096 [2:47:42<3:05:57,  7.88s/it]"
     ]
    },
    {
     "name": "stdout",
     "output_type": "stream",
     "text": [
      "Maximum run count 10 reached for component 'prompt_builder'\n",
      "iter 0 failed, trying again 0/5\n"
     ]
    },
    {
     "name": "stderr",
     "output_type": "stream",
     "text": [
      "error data = 39, error_rate = 2.37:  54%|█████▍    | 1687/3096 [2:48:08<1:40:58,  4.30s/it]"
     ]
    },
    {
     "name": "stdout",
     "output_type": "stream",
     "text": [
      "Maximum run count 10 reached for component 'prompt_builder'\n",
      "iter 0 failed, trying again 0/5\n",
      "Maximum run count 10 reached for component 'prompt_builder'\n",
      "iter 1 failed, trying again 1/5\n"
     ]
    },
    {
     "name": "stderr",
     "output_type": "stream",
     "text": [
      "error data = 39, error_rate = 2.37:  55%|█████▍    | 1688/3096 [2:48:28<3:25:53,  8.77s/it]"
     ]
    },
    {
     "name": "stdout",
     "output_type": "stream",
     "text": [
      "Maximum run count 10 reached for component 'prompt_builder'\n",
      "iter 0 failed, trying again 0/5\n"
     ]
    },
    {
     "name": "stderr",
     "output_type": "stream",
     "text": [
      "error data = 39, error_rate = 2.36:  55%|█████▍    | 1690/3096 [2:48:43<3:06:16,  7.95s/it]"
     ]
    },
    {
     "name": "stdout",
     "output_type": "stream",
     "text": [
      "Maximum run count 10 reached for component 'prompt_builder'\n",
      "iter 0 failed, trying again 0/5\n",
      "Maximum run count 10 reached for component 'prompt_builder'\n",
      "iter 1 failed, trying again 1/5\n",
      "Maximum run count 10 reached for component 'prompt_builder'\n",
      "iter 2 failed, trying again 2/5\n",
      "Maximum run count 10 reached for component 'prompt_builder'\n",
      "iter 3 failed, trying again 3/5\n"
     ]
    },
    {
     "name": "stderr",
     "output_type": "stream",
     "text": [
      "error data = 40, error_rate = 2.42:  55%|█████▍    | 1691/3096 [2:49:23<6:51:13, 17.56s/it]"
     ]
    },
    {
     "name": "stdout",
     "output_type": "stream",
     "text": [
      "Maximum run count 10 reached for component 'prompt_builder'\n",
      "iter 4 failed, trying again 4/5\n"
     ]
    },
    {
     "name": "stderr",
     "output_type": "stream",
     "text": [
      "error data = 40, error_rate = 2.42:  55%|█████▍    | 1692/3096 [2:49:28<5:24:05, 13.85s/it]"
     ]
    },
    {
     "name": "stdout",
     "output_type": "stream",
     "text": [
      "Maximum run count 10 reached for component 'prompt_builder'\n",
      "iter 0 failed, trying again 0/5\n"
     ]
    },
    {
     "name": "stderr",
     "output_type": "stream",
     "text": [
      "error data = 40, error_rate = 2.42:  55%|█████▍    | 1693/3096 [2:49:38<4:52:37, 12.51s/it]"
     ]
    },
    {
     "name": "stdout",
     "output_type": "stream",
     "text": [
      "Maximum run count 10 reached for component 'prompt_builder'\n",
      "iter 0 failed, trying again 0/5\n"
     ]
    },
    {
     "name": "stderr",
     "output_type": "stream",
     "text": [
      "error data = 40, error_rate = 2.42:  55%|█████▍    | 1694/3096 [2:49:50<4:49:57, 12.41s/it]"
     ]
    },
    {
     "name": "stdout",
     "output_type": "stream",
     "text": [
      "Maximum run count 10 reached for component 'prompt_builder'\n",
      "iter 0 failed, trying again 0/5\n",
      "Maximum run count 10 reached for component 'prompt_builder'\n",
      "iter 1 failed, trying again 1/5\n",
      "Maximum run count 10 reached for component 'prompt_builder'\n",
      "iter 2 failed, trying again 2/5\n",
      "Maximum run count 10 reached for component 'prompt_builder'\n",
      "iter 3 failed, trying again 3/5\n"
     ]
    },
    {
     "name": "stderr",
     "output_type": "stream",
     "text": [
      "error data = 40, error_rate = 2.41:  55%|█████▍    | 1698/3096 [2:50:31<3:10:34,  8.18s/it]"
     ]
    },
    {
     "name": "stdout",
     "output_type": "stream",
     "text": [
      "Maximum run count 10 reached for component 'prompt_builder'\n",
      "iter 0 failed, trying again 0/5\n",
      "Maximum run count 10 reached for component 'prompt_builder'\n",
      "iter 1 failed, trying again 1/5\n",
      "Maximum run count 10 reached for component 'prompt_builder'\n",
      "iter 2 failed, trying again 2/5\n"
     ]
    },
    {
     "name": "stderr",
     "output_type": "stream",
     "text": [
      "error data = 40, error_rate = 2.41:  55%|█████▍    | 1699/3096 [2:51:02<5:46:47, 14.89s/it]"
     ]
    },
    {
     "name": "stdout",
     "output_type": "stream",
     "text": [
      "Maximum run count 10 reached for component 'prompt_builder'\n",
      "iter 0 failed, trying again 0/5\n"
     ]
    },
    {
     "name": "stderr",
     "output_type": "stream",
     "text": [
      "error data = 40, error_rate = 2.41:  55%|█████▍    | 1701/3096 [2:51:15<4:09:09, 10.72s/it]"
     ]
    },
    {
     "name": "stdout",
     "output_type": "stream",
     "text": [
      "Maximum run count 10 reached for component 'prompt_builder'\n",
      "iter 0 failed, trying again 0/5\n",
      "Maximum run count 10 reached for component 'prompt_builder'\n",
      "iter 1 failed, trying again 1/5\n",
      "Maximum run count 10 reached for component 'prompt_builder'\n",
      "iter 2 failed, trying again 2/5\n",
      "Maximum run count 10 reached for component 'prompt_builder'\n",
      "iter 3 failed, trying again 3/5\n"
     ]
    },
    {
     "name": "stderr",
     "output_type": "stream",
     "text": [
      "error data = 40, error_rate = 2.40:  55%|█████▌    | 1704/3096 [2:51:49<3:28:16,  8.98s/it]"
     ]
    },
    {
     "name": "stdout",
     "output_type": "stream",
     "text": [
      "Maximum run count 10 reached for component 'prompt_builder'\n",
      "iter 0 failed, trying again 0/5\n"
     ]
    },
    {
     "name": "stderr",
     "output_type": "stream",
     "text": [
      "error data = 40, error_rate = 2.40:  55%|█████▌    | 1705/3096 [2:51:57<3:24:15,  8.81s/it]"
     ]
    },
    {
     "name": "stdout",
     "output_type": "stream",
     "text": [
      "Maximum run count 10 reached for component 'prompt_builder'\n",
      "iter 0 failed, trying again 0/5\n"
     ]
    },
    {
     "name": "stderr",
     "output_type": "stream",
     "text": [
      "error data = 40, error_rate = 2.40:  55%|█████▌    | 1707/3096 [2:52:17<3:16:38,  8.49s/it]"
     ]
    },
    {
     "name": "stdout",
     "output_type": "stream",
     "text": [
      "Maximum run count 10 reached for component 'prompt_builder'\n",
      "iter 0 failed, trying again 0/5\n"
     ]
    },
    {
     "name": "stderr",
     "output_type": "stream",
     "text": [
      "error data = 40, error_rate = 2.40:  55%|█████▌    | 1709/3096 [2:52:34<3:13:41,  8.38s/it]"
     ]
    },
    {
     "name": "stdout",
     "output_type": "stream",
     "text": [
      "Maximum run count 10 reached for component 'prompt_builder'\n",
      "iter 0 failed, trying again 0/5\n"
     ]
    },
    {
     "name": "stderr",
     "output_type": "stream",
     "text": [
      "error data = 40, error_rate = 2.39:  55%|█████▌    | 1711/3096 [2:52:43<2:17:12,  5.94s/it]"
     ]
    },
    {
     "name": "stdout",
     "output_type": "stream",
     "text": [
      "Maximum run count 10 reached for component 'prompt_builder'\n",
      "iter 0 failed, trying again 0/5\n",
      "Maximum run count 10 reached for component 'prompt_builder'\n",
      "iter 1 failed, trying again 1/5\n",
      "Maximum run count 10 reached for component 'prompt_builder'\n",
      "iter 2 failed, trying again 2/5\n",
      "Maximum run count 10 reached for component 'prompt_builder'\n",
      "iter 3 failed, trying again 3/5\n"
     ]
    },
    {
     "name": "stderr",
     "output_type": "stream",
     "text": [
      "error data = 41, error_rate = 2.45:  55%|█████▌    | 1712/3096 [2:53:10<4:48:36, 12.51s/it]"
     ]
    },
    {
     "name": "stdout",
     "output_type": "stream",
     "text": [
      "Maximum run count 10 reached for component 'prompt_builder'\n",
      "iter 4 failed, trying again 4/5\n"
     ]
    },
    {
     "name": "stderr",
     "output_type": "stream",
     "text": [
      "error data = 41, error_rate = 2.45:  55%|█████▌    | 1713/3096 [2:53:17<4:06:59, 10.72s/it]"
     ]
    },
    {
     "name": "stdout",
     "output_type": "stream",
     "text": [
      "Maximum run count 10 reached for component 'prompt_builder'\n",
      "iter 0 failed, trying again 0/5\n",
      "Maximum run count 10 reached for component 'prompt_builder'\n",
      "iter 1 failed, trying again 1/5\n",
      "Maximum run count 10 reached for component 'prompt_builder'\n",
      "iter 2 failed, trying again 2/5\n",
      "Maximum run count 10 reached for component 'prompt_builder'\n",
      "iter 3 failed, trying again 3/5\n"
     ]
    },
    {
     "name": "stderr",
     "output_type": "stream",
     "text": [
      "error data = 42, error_rate = 2.51:  55%|█████▌    | 1714/3096 [2:53:52<6:55:43, 18.05s/it]"
     ]
    },
    {
     "name": "stdout",
     "output_type": "stream",
     "text": [
      "Maximum run count 10 reached for component 'prompt_builder'\n",
      "iter 4 failed, trying again 4/5\n"
     ]
    },
    {
     "name": "stderr",
     "output_type": "stream",
     "text": [
      "error data = 42, error_rate = 2.51:  55%|█████▌    | 1715/3096 [2:53:55<5:12:55, 13.60s/it]"
     ]
    },
    {
     "name": "stdout",
     "output_type": "stream",
     "text": [
      "Maximum run count 10 reached for component 'prompt_builder'\n",
      "iter 0 failed, trying again 0/5\n",
      "Maximum run count 10 reached for component 'prompt_builder'\n",
      "iter 1 failed, trying again 1/5\n"
     ]
    },
    {
     "name": "stderr",
     "output_type": "stream",
     "text": [
      "error data = 42, error_rate = 2.51:  55%|█████▌    | 1717/3096 [2:54:15<4:15:44, 11.13s/it]"
     ]
    },
    {
     "name": "stdout",
     "output_type": "stream",
     "text": [
      "Maximum run count 10 reached for component 'prompt_builder'\n",
      "iter 0 failed, trying again 0/5\n",
      "Maximum run count 10 reached for component 'prompt_builder'\n",
      "iter 1 failed, trying again 1/5\n"
     ]
    },
    {
     "name": "stderr",
     "output_type": "stream",
     "text": [
      "error data = 42, error_rate = 2.50:  56%|█████▌    | 1719/3096 [2:54:33<3:34:41,  9.36s/it]"
     ]
    },
    {
     "name": "stdout",
     "output_type": "stream",
     "text": [
      "Maximum run count 10 reached for component 'prompt_builder'\n",
      "iter 0 failed, trying again 0/5\n",
      "Maximum run count 10 reached for component 'prompt_builder'\n",
      "iter 1 failed, trying again 1/5\n",
      "Maximum run count 10 reached for component 'prompt_builder'\n",
      "iter 2 failed, trying again 2/5\n",
      "Maximum run count 10 reached for component 'prompt_builder'\n",
      "iter 3 failed, trying again 3/5\n"
     ]
    },
    {
     "name": "stderr",
     "output_type": "stream",
     "text": [
      "error data = 43, error_rate = 2.56:  56%|█████▌    | 1720/3096 [2:55:11<6:57:11, 18.19s/it]"
     ]
    },
    {
     "name": "stdout",
     "output_type": "stream",
     "text": [
      "Maximum run count 10 reached for component 'prompt_builder'\n",
      "iter 4 failed, trying again 4/5\n"
     ]
    },
    {
     "name": "stderr",
     "output_type": "stream",
     "text": [
      "error data = 43, error_rate = 2.56:  56%|█████▌    | 1723/3096 [2:55:21<3:12:24,  8.41s/it]"
     ]
    },
    {
     "name": "stdout",
     "output_type": "stream",
     "text": [
      "Maximum run count 10 reached for component 'prompt_builder'\n",
      "iter 0 failed, trying again 0/5\n"
     ]
    },
    {
     "name": "stderr",
     "output_type": "stream",
     "text": [
      "error data = 43, error_rate = 2.55:  56%|█████▌    | 1726/3096 [2:55:32<1:48:32,  4.75s/it]"
     ]
    },
    {
     "name": "stdout",
     "output_type": "stream",
     "text": [
      "Maximum run count 10 reached for component 'prompt_builder'\n",
      "iter 0 failed, trying again 0/5\n"
     ]
    },
    {
     "name": "stderr",
     "output_type": "stream",
     "text": [
      "error data = 43, error_rate = 2.55:  56%|█████▌    | 1730/3096 [2:55:59<1:52:52,  4.96s/it]"
     ]
    },
    {
     "name": "stdout",
     "output_type": "stream",
     "text": [
      "Maximum run count 10 reached for component 'prompt_builder'\n",
      "iter 0 failed, trying again 0/5\n",
      "Maximum run count 10 reached for component 'prompt_builder'\n",
      "iter 1 failed, trying again 1/5\n",
      "Maximum run count 10 reached for component 'prompt_builder'\n",
      "iter 2 failed, trying again 2/5\n"
     ]
    },
    {
     "name": "stderr",
     "output_type": "stream",
     "text": [
      "error data = 43, error_rate = 2.55:  56%|█████▌    | 1731/3096 [2:56:29<4:48:57, 12.70s/it]"
     ]
    },
    {
     "name": "stdout",
     "output_type": "stream",
     "text": [
      "Maximum run count 10 reached for component 'prompt_builder'\n",
      "iter 0 failed, trying again 0/5\n",
      "Maximum run count 10 reached for component 'prompt_builder'\n",
      "iter 1 failed, trying again 1/5\n"
     ]
    },
    {
     "name": "stderr",
     "output_type": "stream",
     "text": [
      "error data = 43, error_rate = 2.55:  56%|█████▌    | 1732/3096 [2:56:44<5:01:02, 13.24s/it]"
     ]
    },
    {
     "name": "stdout",
     "output_type": "stream",
     "text": [
      "Maximum run count 10 reached for component 'prompt_builder'\n",
      "iter 0 failed, trying again 0/5\n",
      "Maximum run count 10 reached for component 'prompt_builder'\n",
      "iter 1 failed, trying again 1/5\n"
     ]
    },
    {
     "name": "stderr",
     "output_type": "stream",
     "text": [
      "error data = 43, error_rate = 2.54:  56%|█████▌    | 1733/3096 [2:57:02<5:34:02, 14.70s/it]"
     ]
    },
    {
     "name": "stdout",
     "output_type": "stream",
     "text": [
      "Maximum run count 10 reached for component 'prompt_builder'\n",
      "iter 0 failed, trying again 0/5\n"
     ]
    },
    {
     "name": "stderr",
     "output_type": "stream",
     "text": [
      "error data = 43, error_rate = 2.54:  56%|█████▌    | 1736/3096 [2:57:18<3:05:23,  8.18s/it]"
     ]
    },
    {
     "name": "stdout",
     "output_type": "stream",
     "text": [
      "Maximum run count 10 reached for component 'prompt_builder'\n",
      "iter 0 failed, trying again 0/5\n"
     ]
    },
    {
     "name": "stderr",
     "output_type": "stream",
     "text": [
      "error data = 43, error_rate = 2.54:  56%|█████▌    | 1739/3096 [2:57:29<1:48:58,  4.82s/it]"
     ]
    },
    {
     "name": "stdout",
     "output_type": "stream",
     "text": [
      "Maximum run count 10 reached for component 'prompt_builder'\n",
      "iter 0 failed, trying again 0/5\n"
     ]
    },
    {
     "name": "stderr",
     "output_type": "stream",
     "text": [
      "error data = 43, error_rate = 2.52:  56%|█████▋    | 1749/3096 [2:58:01<53:35,  2.39s/it]  "
     ]
    },
    {
     "name": "stdout",
     "output_type": "stream",
     "text": [
      "Maximum run count 10 reached for component 'prompt_builder'\n",
      "iter 0 failed, trying again 0/5\n",
      "Maximum run count 10 reached for component 'prompt_builder'\n",
      "iter 1 failed, trying again 1/5\n"
     ]
    },
    {
     "name": "stderr",
     "output_type": "stream",
     "text": [
      "error data = 43, error_rate = 2.52:  57%|█████▋    | 1751/3096 [2:58:24<2:15:50,  6.06s/it]"
     ]
    },
    {
     "name": "stdout",
     "output_type": "stream",
     "text": [
      "Maximum run count 10 reached for component 'prompt_builder'\n",
      "iter 0 failed, trying again 0/5\n"
     ]
    },
    {
     "name": "stderr",
     "output_type": "stream",
     "text": [
      "error data = 43, error_rate = 2.51:  57%|█████▋    | 1754/3096 [2:58:45<2:24:12,  6.45s/it]"
     ]
    },
    {
     "name": "stdout",
     "output_type": "stream",
     "text": [
      "Maximum run count 10 reached for component 'prompt_builder'\n",
      "iter 0 failed, trying again 0/5\n"
     ]
    },
    {
     "name": "stderr",
     "output_type": "stream",
     "text": [
      "error data = 43, error_rate = 2.51:  57%|█████▋    | 1755/3096 [2:58:56<2:51:24,  7.67s/it]"
     ]
    },
    {
     "name": "stdout",
     "output_type": "stream",
     "text": [
      "Maximum run count 10 reached for component 'prompt_builder'\n",
      "iter 0 failed, trying again 0/5\n"
     ]
    },
    {
     "name": "stderr",
     "output_type": "stream",
     "text": [
      "error data = 43, error_rate = 2.51:  57%|█████▋    | 1757/3096 [2:59:07<2:21:14,  6.33s/it]"
     ]
    },
    {
     "name": "stdout",
     "output_type": "stream",
     "text": [
      "Maximum run count 10 reached for component 'prompt_builder'\n",
      "iter 0 failed, trying again 0/5\n",
      "Maximum run count 10 reached for component 'prompt_builder'\n",
      "iter 1 failed, trying again 1/5\n",
      "Maximum run count 10 reached for component 'prompt_builder'\n",
      "iter 2 failed, trying again 2/5\n"
     ]
    },
    {
     "name": "stderr",
     "output_type": "stream",
     "text": [
      "error data = 43, error_rate = 2.50:  57%|█████▋    | 1762/3096 [2:59:42<1:52:49,  5.07s/it]"
     ]
    },
    {
     "name": "stdout",
     "output_type": "stream",
     "text": [
      "Maximum run count 10 reached for component 'prompt_builder'\n",
      "iter 0 failed, trying again 0/5\n"
     ]
    },
    {
     "name": "stderr",
     "output_type": "stream",
     "text": [
      "error data = 43, error_rate = 2.50:  57%|█████▋    | 1765/3096 [3:00:01<2:05:43,  5.67s/it]"
     ]
    },
    {
     "name": "stdout",
     "output_type": "stream",
     "text": [
      "Maximum run count 10 reached for component 'prompt_builder'\n",
      "iter 0 failed, trying again 0/5\n"
     ]
    },
    {
     "name": "stderr",
     "output_type": "stream",
     "text": [
      "error data = 43, error_rate = 2.50:  57%|█████▋    | 1766/3096 [3:00:14<2:54:39,  7.88s/it]"
     ]
    },
    {
     "name": "stdout",
     "output_type": "stream",
     "text": [
      "Maximum run count 10 reached for component 'prompt_builder'\n",
      "iter 0 failed, trying again 0/5\n"
     ]
    },
    {
     "name": "stderr",
     "output_type": "stream",
     "text": [
      "error data = 43, error_rate = 2.49:  57%|█████▋    | 1768/3096 [3:00:29<2:40:52,  7.27s/it]"
     ]
    },
    {
     "name": "stdout",
     "output_type": "stream",
     "text": [
      "Maximum run count 10 reached for component 'prompt_builder'\n",
      "iter 0 failed, trying again 0/5\n",
      "Maximum run count 10 reached for component 'prompt_builder'\n",
      "iter 1 failed, trying again 1/5\n"
     ]
    },
    {
     "name": "stderr",
     "output_type": "stream",
     "text": [
      "error data = 43, error_rate = 2.49:  57%|█████▋    | 1770/3096 [3:00:52<3:16:09,  8.88s/it]"
     ]
    },
    {
     "name": "stdout",
     "output_type": "stream",
     "text": [
      "Maximum run count 10 reached for component 'prompt_builder'\n",
      "iter 0 failed, trying again 0/5\n"
     ]
    },
    {
     "name": "stderr",
     "output_type": "stream",
     "text": [
      "error data = 43, error_rate = 2.49:  57%|█████▋    | 1771/3096 [3:01:02<3:21:35,  9.13s/it]"
     ]
    },
    {
     "name": "stdout",
     "output_type": "stream",
     "text": [
      "Maximum run count 10 reached for component 'prompt_builder'\n",
      "iter 0 failed, trying again 0/5\n"
     ]
    },
    {
     "name": "stderr",
     "output_type": "stream",
     "text": [
      "error data = 43, error_rate = 2.49:  57%|█████▋    | 1772/3096 [3:01:15<3:44:26, 10.17s/it]"
     ]
    },
    {
     "name": "stdout",
     "output_type": "stream",
     "text": [
      "Maximum run count 10 reached for component 'prompt_builder'\n",
      "iter 0 failed, trying again 0/5\n"
     ]
    },
    {
     "name": "stderr",
     "output_type": "stream",
     "text": [
      "error data = 43, error_rate = 2.48:  57%|█████▋    | 1774/3096 [3:01:33<3:30:21,  9.55s/it]"
     ]
    },
    {
     "name": "stdout",
     "output_type": "stream",
     "text": [
      "Maximum run count 10 reached for component 'prompt_builder'\n",
      "iter 0 failed, trying again 0/5\n",
      "Maximum run count 10 reached for component 'prompt_builder'\n",
      "iter 1 failed, trying again 1/5\n",
      "Maximum run count 10 reached for component 'prompt_builder'\n",
      "iter 2 failed, trying again 2/5\n",
      "Maximum run count 10 reached for component 'prompt_builder'\n",
      "iter 3 failed, trying again 3/5\n"
     ]
    },
    {
     "name": "stderr",
     "output_type": "stream",
     "text": [
      "error data = 44, error_rate = 2.54:  57%|█████▋    | 1775/3096 [3:02:13<6:49:36, 18.60s/it]"
     ]
    },
    {
     "name": "stdout",
     "output_type": "stream",
     "text": [
      "Maximum run count 10 reached for component 'prompt_builder'\n",
      "iter 4 failed, trying again 4/5\n"
     ]
    },
    {
     "name": "stderr",
     "output_type": "stream",
     "text": [
      "error data = 44, error_rate = 2.54:  57%|█████▋    | 1779/3096 [3:02:26<2:49:49,  7.74s/it]"
     ]
    },
    {
     "name": "stdout",
     "output_type": "stream",
     "text": [
      "Maximum run count 10 reached for component 'prompt_builder'\n",
      "iter 0 failed, trying again 0/5\n"
     ]
    },
    {
     "name": "stderr",
     "output_type": "stream",
     "text": [
      "error data = 44, error_rate = 2.52:  58%|█████▊    | 1787/3096 [3:03:04<1:16:07,  3.49s/it]"
     ]
    },
    {
     "name": "stdout",
     "output_type": "stream",
     "text": [
      "Maximum run count 10 reached for component 'prompt_builder'\n",
      "iter 0 failed, trying again 0/5\n",
      "Maximum run count 10 reached for component 'prompt_builder'\n",
      "iter 1 failed, trying again 1/5\n",
      "Maximum run count 10 reached for component 'prompt_builder'\n",
      "iter 2 failed, trying again 2/5\n"
     ]
    },
    {
     "name": "stderr",
     "output_type": "stream",
     "text": [
      "error data = 44, error_rate = 2.52:  58%|█████▊    | 1788/3096 [3:03:28<3:32:35,  9.75s/it]"
     ]
    },
    {
     "name": "stdout",
     "output_type": "stream",
     "text": [
      "Maximum run count 10 reached for component 'prompt_builder'\n",
      "iter 0 failed, trying again 0/5\n"
     ]
    },
    {
     "name": "stderr",
     "output_type": "stream",
     "text": [
      "error data = 44, error_rate = 2.52:  58%|█████▊    | 1789/3096 [3:03:37<3:28:28,  9.57s/it]"
     ]
    },
    {
     "name": "stdout",
     "output_type": "stream",
     "text": [
      "Maximum run count 10 reached for component 'prompt_builder'\n",
      "iter 0 failed, trying again 0/5\n",
      "Maximum run count 10 reached for component 'prompt_builder'\n",
      "iter 1 failed, trying again 1/5\n",
      "Maximum run count 10 reached for component 'prompt_builder'\n",
      "iter 2 failed, trying again 2/5\n",
      "Maximum run count 10 reached for component 'prompt_builder'\n",
      "iter 3 failed, trying again 3/5\n"
     ]
    },
    {
     "name": "stderr",
     "output_type": "stream",
     "text": [
      "error data = 45, error_rate = 2.58:  58%|█████▊    | 1790/3096 [3:04:20<7:07:05, 19.62s/it]"
     ]
    },
    {
     "name": "stdout",
     "output_type": "stream",
     "text": [
      "Maximum run count 10 reached for component 'prompt_builder'\n",
      "iter 4 failed, trying again 4/5\n"
     ]
    },
    {
     "name": "stderr",
     "output_type": "stream",
     "text": [
      "error data = 45, error_rate = 2.57:  58%|█████▊    | 1794/3096 [3:04:28<2:15:43,  6.25s/it]"
     ]
    },
    {
     "name": "stdout",
     "output_type": "stream",
     "text": [
      "Maximum run count 10 reached for component 'prompt_builder'\n",
      "iter 0 failed, trying again 0/5\n",
      "Maximum run count 10 reached for component 'prompt_builder'\n",
      "iter 1 failed, trying again 1/5\n"
     ]
    },
    {
     "name": "stderr",
     "output_type": "stream",
     "text": [
      "error data = 45, error_rate = 2.56:  58%|█████▊    | 1801/3096 [3:05:20<2:19:08,  6.45s/it]"
     ]
    },
    {
     "name": "stdout",
     "output_type": "stream",
     "text": [
      "Maximum run count 10 reached for component 'prompt_builder'\n",
      "iter 0 failed, trying again 0/5\n"
     ]
    },
    {
     "name": "stderr",
     "output_type": "stream",
     "text": [
      "error data = 45, error_rate = 2.56:  58%|█████▊    | 1802/3096 [3:05:28<2:31:15,  7.01s/it]"
     ]
    },
    {
     "name": "stdout",
     "output_type": "stream",
     "text": [
      "Maximum run count 10 reached for component 'prompt_builder'\n",
      "iter 0 failed, trying again 0/5\n"
     ]
    },
    {
     "name": "stderr",
     "output_type": "stream",
     "text": [
      "error data = 45, error_rate = 2.55:  58%|█████▊    | 1807/3096 [3:05:47<1:19:48,  3.71s/it]"
     ]
    },
    {
     "name": "stdout",
     "output_type": "stream",
     "text": [
      "Maximum run count 10 reached for component 'prompt_builder'\n",
      "iter 0 failed, trying again 0/5\n"
     ]
    },
    {
     "name": "stderr",
     "output_type": "stream",
     "text": [
      "error data = 45, error_rate = 2.55:  59%|█████▊    | 1813/3096 [3:06:37<1:52:03,  5.24s/it]"
     ]
    },
    {
     "name": "stdout",
     "output_type": "stream",
     "text": [
      "Maximum run count 10 reached for component 'prompt_builder'\n",
      "iter 0 failed, trying again 0/5\n"
     ]
    },
    {
     "name": "stderr",
     "output_type": "stream",
     "text": [
      "error data = 45, error_rate = 2.54:  59%|█████▊    | 1815/3096 [3:06:55<2:22:58,  6.70s/it]"
     ]
    },
    {
     "name": "stdout",
     "output_type": "stream",
     "text": [
      "Maximum run count 10 reached for component 'prompt_builder'\n",
      "iter 0 failed, trying again 0/5\n"
     ]
    },
    {
     "name": "stderr",
     "output_type": "stream",
     "text": [
      "error data = 45, error_rate = 2.54:  59%|█████▊    | 1817/3096 [3:07:12<2:28:59,  6.99s/it]"
     ]
    },
    {
     "name": "stdout",
     "output_type": "stream",
     "text": [
      "Maximum run count 10 reached for component 'prompt_builder'\n",
      "iter 0 failed, trying again 0/5\n",
      "Maximum run count 10 reached for component 'prompt_builder'\n",
      "iter 1 failed, trying again 1/5\n",
      "Maximum run count 10 reached for component 'prompt_builder'\n",
      "iter 2 failed, trying again 2/5\n",
      "Maximum run count 10 reached for component 'prompt_builder'\n",
      "iter 3 failed, trying again 3/5\n"
     ]
    },
    {
     "name": "stderr",
     "output_type": "stream",
     "text": [
      "error data = 46, error_rate = 2.60:  59%|█████▊    | 1818/3096 [3:07:39<4:37:05, 13.01s/it]"
     ]
    },
    {
     "name": "stdout",
     "output_type": "stream",
     "text": [
      "Maximum run count 10 reached for component 'prompt_builder'\n",
      "iter 4 failed, trying again 4/5\n"
     ]
    },
    {
     "name": "stderr",
     "output_type": "stream",
     "text": [
      "error data = 46, error_rate = 2.59:  59%|█████▉    | 1820/3096 [3:07:45<2:48:11,  7.91s/it]"
     ]
    },
    {
     "name": "stdout",
     "output_type": "stream",
     "text": [
      "Maximum run count 10 reached for component 'prompt_builder'\n",
      "iter 0 failed, trying again 0/5\n",
      "Maximum run count 10 reached for component 'prompt_builder'\n",
      "iter 1 failed, trying again 1/5\n",
      "Maximum run count 10 reached for component 'prompt_builder'\n",
      "iter 2 failed, trying again 2/5\n",
      "Maximum run count 10 reached for component 'prompt_builder'\n",
      "iter 3 failed, trying again 3/5\n"
     ]
    },
    {
     "name": "stderr",
     "output_type": "stream",
     "text": [
      "error data = 47, error_rate = 2.65:  59%|█████▉    | 1821/3096 [3:08:16<5:13:04, 14.73s/it]"
     ]
    },
    {
     "name": "stdout",
     "output_type": "stream",
     "text": [
      "Maximum run count 10 reached for component 'prompt_builder'\n",
      "iter 4 failed, trying again 4/5\n"
     ]
    },
    {
     "name": "stderr",
     "output_type": "stream",
     "text": [
      "error data = 47, error_rate = 2.65:  59%|█████▉    | 1822/3096 [3:08:18<3:53:21, 10.99s/it]"
     ]
    },
    {
     "name": "stdout",
     "output_type": "stream",
     "text": [
      "Maximum run count 10 reached for component 'prompt_builder'\n",
      "iter 0 failed, trying again 0/5\n"
     ]
    },
    {
     "name": "stderr",
     "output_type": "stream",
     "text": [
      "error data = 47, error_rate = 2.64:  59%|█████▉    | 1824/3096 [3:08:34<3:15:22,  9.22s/it]"
     ]
    },
    {
     "name": "stdout",
     "output_type": "stream",
     "text": [
      "Maximum run count 10 reached for component 'prompt_builder'\n",
      "iter 0 failed, trying again 0/5\n"
     ]
    },
    {
     "name": "stderr",
     "output_type": "stream",
     "text": [
      "error data = 47, error_rate = 2.64:  59%|█████▉    | 1826/3096 [3:08:47<2:40:28,  7.58s/it]"
     ]
    },
    {
     "name": "stdout",
     "output_type": "stream",
     "text": [
      "Maximum run count 10 reached for component 'prompt_builder'\n",
      "iter 0 failed, trying again 0/5\n",
      "Maximum run count 10 reached for component 'prompt_builder'\n",
      "iter 1 failed, trying again 1/5\n",
      "Maximum run count 10 reached for component 'prompt_builder'\n",
      "iter 2 failed, trying again 2/5\n",
      "Maximum run count 10 reached for component 'prompt_builder'\n",
      "iter 3 failed, trying again 3/5\n"
     ]
    },
    {
     "name": "stderr",
     "output_type": "stream",
     "text": [
      "error data = 47, error_rate = 2.64:  59%|█████▉    | 1830/3096 [3:09:25<2:23:24,  6.80s/it]"
     ]
    },
    {
     "name": "stdout",
     "output_type": "stream",
     "text": [
      "Maximum run count 10 reached for component 'prompt_builder'\n",
      "iter 0 failed, trying again 0/5\n",
      "Maximum run count 10 reached for component 'prompt_builder'\n",
      "iter 1 failed, trying again 1/5\n",
      "Maximum run count 10 reached for component 'prompt_builder'\n",
      "iter 2 failed, trying again 2/5\n",
      "Maximum run count 10 reached for component 'prompt_builder'\n",
      "iter 3 failed, trying again 3/5\n"
     ]
    },
    {
     "name": "stderr",
     "output_type": "stream",
     "text": [
      "error data = 47, error_rate = 2.63:  59%|█████▉    | 1831/3096 [3:10:14<6:45:09, 19.22s/it]"
     ]
    },
    {
     "name": "stdout",
     "output_type": "stream",
     "text": [
      "Maximum run count 10 reached for component 'prompt_builder'\n",
      "iter 0 failed, trying again 0/5\n"
     ]
    },
    {
     "name": "stderr",
     "output_type": "stream",
     "text": [
      "error data = 47, error_rate = 2.63:  59%|█████▉    | 1834/3096 [3:10:36<3:42:04, 10.56s/it]"
     ]
    },
    {
     "name": "stdout",
     "output_type": "stream",
     "text": [
      "Maximum run count 10 reached for component 'prompt_builder'\n",
      "iter 0 failed, trying again 0/5\n"
     ]
    },
    {
     "name": "stderr",
     "output_type": "stream",
     "text": [
      "error data = 47, error_rate = 2.63:  59%|█████▉    | 1837/3096 [3:10:49<2:03:24,  5.88s/it]"
     ]
    },
    {
     "name": "stdout",
     "output_type": "stream",
     "text": [
      "Maximum run count 10 reached for component 'prompt_builder'\n",
      "iter 0 failed, trying again 0/5\n"
     ]
    },
    {
     "name": "stderr",
     "output_type": "stream",
     "text": [
      "error data = 47, error_rate = 2.62:  59%|█████▉    | 1840/3096 [3:11:02<1:32:40,  4.43s/it]"
     ]
    },
    {
     "name": "stdout",
     "output_type": "stream",
     "text": [
      "Maximum run count 10 reached for component 'prompt_builder'\n",
      "iter 0 failed, trying again 0/5\n",
      "Maximum run count 10 reached for component 'prompt_builder'\n",
      "iter 1 failed, trying again 1/5\n"
     ]
    },
    {
     "name": "stderr",
     "output_type": "stream",
     "text": [
      "error data = 47, error_rate = 2.60:  60%|█████▉    | 1853/3096 [3:12:07<1:40:11,  4.84s/it]"
     ]
    },
    {
     "name": "stdout",
     "output_type": "stream",
     "text": [
      "Maximum run count 10 reached for component 'prompt_builder'\n",
      "iter 0 failed, trying again 0/5\n",
      "Maximum run count 10 reached for component 'prompt_builder'\n",
      "iter 1 failed, trying again 1/5\n",
      "Maximum run count 10 reached for component 'prompt_builder'\n",
      "iter 2 failed, trying again 2/5\n",
      "Maximum run count 10 reached for component 'prompt_builder'\n",
      "iter 3 failed, trying again 3/5\n"
     ]
    },
    {
     "name": "stderr",
     "output_type": "stream",
     "text": [
      "error data = 47, error_rate = 2.59:  60%|██████    | 1860/3096 [3:12:56<1:26:48,  4.21s/it]"
     ]
    },
    {
     "name": "stdout",
     "output_type": "stream",
     "text": [
      "Maximum run count 10 reached for component 'prompt_builder'\n",
      "iter 0 failed, trying again 0/5\n"
     ]
    },
    {
     "name": "stderr",
     "output_type": "stream",
     "text": [
      "error data = 47, error_rate = 2.59:  60%|██████    | 1865/3096 [3:13:18<1:19:42,  3.88s/it]"
     ]
    },
    {
     "name": "stdout",
     "output_type": "stream",
     "text": [
      "Maximum run count 10 reached for component 'prompt_builder'\n",
      "iter 0 failed, trying again 0/5\n"
     ]
    },
    {
     "name": "stderr",
     "output_type": "stream",
     "text": [
      "error data = 47, error_rate = 2.58:  60%|██████    | 1866/3096 [3:13:26<1:46:09,  5.18s/it]"
     ]
    },
    {
     "name": "stdout",
     "output_type": "stream",
     "text": [
      "Maximum run count 10 reached for component 'prompt_builder'\n",
      "iter 0 failed, trying again 0/5\n"
     ]
    },
    {
     "name": "stderr",
     "output_type": "stream",
     "text": [
      "error data = 47, error_rate = 2.58:  60%|██████    | 1868/3096 [3:13:35<1:33:47,  4.58s/it]"
     ]
    },
    {
     "name": "stdout",
     "output_type": "stream",
     "text": [
      "Maximum run count 10 reached for component 'prompt_builder'\n",
      "iter 0 failed, trying again 0/5\n",
      "Maximum run count 10 reached for component 'prompt_builder'\n",
      "iter 1 failed, trying again 1/5\n",
      "Maximum run count 10 reached for component 'prompt_builder'\n",
      "iter 2 failed, trying again 2/5\n",
      "Maximum run count 10 reached for component 'prompt_builder'\n",
      "iter 3 failed, trying again 3/5\n"
     ]
    },
    {
     "name": "stderr",
     "output_type": "stream",
     "text": [
      "error data = 48, error_rate = 2.64:  60%|██████    | 1869/3096 [3:14:14<5:04:56, 14.91s/it]"
     ]
    },
    {
     "name": "stdout",
     "output_type": "stream",
     "text": [
      "Maximum run count 10 reached for component 'prompt_builder'\n",
      "iter 4 failed, trying again 4/5\n"
     ]
    },
    {
     "name": "stderr",
     "output_type": "stream",
     "text": [
      "error data = 48, error_rate = 2.63:  60%|██████    | 1870/3096 [3:14:20<4:08:30, 12.16s/it]"
     ]
    },
    {
     "name": "stdout",
     "output_type": "stream",
     "text": [
      "Maximum run count 10 reached for component 'prompt_builder'\n",
      "iter 0 failed, trying again 0/5\n",
      "Maximum run count 10 reached for component 'prompt_builder'\n",
      "iter 1 failed, trying again 1/5\n"
     ]
    },
    {
     "name": "stderr",
     "output_type": "stream",
     "text": [
      "error data = 48, error_rate = 2.63:  61%|██████    | 1876/3096 [3:14:50<1:39:59,  4.92s/it]"
     ]
    },
    {
     "name": "stdout",
     "output_type": "stream",
     "text": [
      "Maximum run count 10 reached for component 'prompt_builder'\n",
      "iter 0 failed, trying again 0/5\n"
     ]
    },
    {
     "name": "stderr",
     "output_type": "stream",
     "text": [
      "error data = 48, error_rate = 2.62:  61%|██████    | 1883/3096 [3:15:18<1:20:36,  3.99s/it]"
     ]
    },
    {
     "name": "stdout",
     "output_type": "stream",
     "text": [
      "Maximum run count 10 reached for component 'prompt_builder'\n",
      "iter 0 failed, trying again 0/5\n",
      "Maximum run count 10 reached for component 'prompt_builder'\n",
      "iter 1 failed, trying again 1/5\n",
      "Maximum run count 10 reached for component 'prompt_builder'\n",
      "iter 2 failed, trying again 2/5\n",
      "Maximum run count 10 reached for component 'prompt_builder'\n",
      "iter 3 failed, trying again 3/5\n"
     ]
    },
    {
     "name": "stderr",
     "output_type": "stream",
     "text": [
      "error data = 49, error_rate = 2.67:  61%|██████    | 1884/3096 [3:15:59<4:59:30, 14.83s/it]"
     ]
    },
    {
     "name": "stdout",
     "output_type": "stream",
     "text": [
      "Maximum run count 10 reached for component 'prompt_builder'\n",
      "iter 4 failed, trying again 4/5\n"
     ]
    },
    {
     "name": "stderr",
     "output_type": "stream",
     "text": [
      "error data = 49, error_rate = 2.66:  61%|██████    | 1893/3096 [3:16:22<1:09:57,  3.49s/it]"
     ]
    },
    {
     "name": "stdout",
     "output_type": "stream",
     "text": [
      "Maximum run count 10 reached for component 'prompt_builder'\n",
      "iter 0 failed, trying again 0/5\n"
     ]
    },
    {
     "name": "stderr",
     "output_type": "stream",
     "text": [
      "error data = 49, error_rate = 2.65:  61%|██████    | 1896/3096 [3:16:40<1:45:38,  5.28s/it]"
     ]
    },
    {
     "name": "stdout",
     "output_type": "stream",
     "text": [
      "Maximum run count 10 reached for component 'prompt_builder'\n",
      "iter 0 failed, trying again 0/5\n",
      "Maximum run count 10 reached for component 'prompt_builder'\n",
      "iter 1 failed, trying again 1/5\n",
      "Maximum run count 10 reached for component 'prompt_builder'\n",
      "iter 2 failed, trying again 2/5\n",
      "Maximum run count 10 reached for component 'prompt_builder'\n",
      "iter 3 failed, trying again 3/5\n"
     ]
    },
    {
     "name": "stderr",
     "output_type": "stream",
     "text": [
      "error data = 50, error_rate = 2.71:  61%|██████▏   | 1897/3096 [3:17:15<4:42:48, 14.15s/it]"
     ]
    },
    {
     "name": "stdout",
     "output_type": "stream",
     "text": [
      "Maximum run count 10 reached for component 'prompt_builder'\n",
      "iter 4 failed, trying again 4/5\n"
     ]
    },
    {
     "name": "stderr",
     "output_type": "stream",
     "text": [
      "error data = 50, error_rate = 2.70:  61%|██████▏   | 1903/3096 [3:17:32<1:29:14,  4.49s/it]"
     ]
    },
    {
     "name": "stdout",
     "output_type": "stream",
     "text": [
      "Maximum run count 10 reached for component 'prompt_builder'\n",
      "iter 0 failed, trying again 0/5\n",
      "Maximum run count 10 reached for component 'prompt_builder'\n",
      "iter 1 failed, trying again 1/5\n",
      "Maximum run count 10 reached for component 'prompt_builder'\n",
      "iter 2 failed, trying again 2/5\n"
     ]
    },
    {
     "name": "stderr",
     "output_type": "stream",
     "text": [
      "error data = 50, error_rate = 2.69:  62%|██████▏   | 1906/3096 [3:17:55<1:49:14,  5.51s/it]"
     ]
    },
    {
     "name": "stdout",
     "output_type": "stream",
     "text": [
      "Maximum run count 10 reached for component 'prompt_builder'\n",
      "iter 0 failed, trying again 0/5\n"
     ]
    },
    {
     "name": "stderr",
     "output_type": "stream",
     "text": [
      "error data = 50, error_rate = 2.69:  62%|██████▏   | 1910/3096 [3:18:26<2:09:27,  6.55s/it]"
     ]
    },
    {
     "name": "stdout",
     "output_type": "stream",
     "text": [
      "Maximum run count 10 reached for component 'prompt_builder'\n",
      "iter 0 failed, trying again 0/5\n"
     ]
    },
    {
     "name": "stderr",
     "output_type": "stream",
     "text": [
      "error data = 50, error_rate = 2.68:  62%|██████▏   | 1914/3096 [3:18:50<1:53:02,  5.74s/it]"
     ]
    },
    {
     "name": "stdout",
     "output_type": "stream",
     "text": [
      "Maximum run count 10 reached for component 'prompt_builder'\n",
      "iter 0 failed, trying again 0/5\n",
      "Maximum run count 10 reached for component 'prompt_builder'\n",
      "iter 1 failed, trying again 1/5\n",
      "Maximum run count 10 reached for component 'prompt_builder'\n",
      "iter 2 failed, trying again 2/5\n",
      "Maximum run count 10 reached for component 'prompt_builder'\n",
      "iter 3 failed, trying again 3/5\n"
     ]
    },
    {
     "name": "stderr",
     "output_type": "stream",
     "text": [
      "error data = 50, error_rate = 2.68:  62%|██████▏   | 1918/3096 [3:19:23<1:50:46,  5.64s/it]"
     ]
    },
    {
     "name": "stdout",
     "output_type": "stream",
     "text": [
      "Maximum run count 10 reached for component 'prompt_builder'\n",
      "iter 0 failed, trying again 0/5\n"
     ]
    },
    {
     "name": "stderr",
     "output_type": "stream",
     "text": [
      "error data = 50, error_rate = 2.68:  62%|██████▏   | 1919/3096 [3:19:30<1:59:07,  6.07s/it]"
     ]
    },
    {
     "name": "stdout",
     "output_type": "stream",
     "text": [
      "Maximum run count 10 reached for component 'prompt_builder'\n",
      "iter 0 failed, trying again 0/5\n",
      "Maximum run count 10 reached for component 'prompt_builder'\n",
      "iter 1 failed, trying again 1/5\n",
      "Maximum run count 10 reached for component 'prompt_builder'\n",
      "iter 2 failed, trying again 2/5\n"
     ]
    },
    {
     "name": "stderr",
     "output_type": "stream",
     "text": [
      "error data = 50, error_rate = 2.67:  62%|██████▏   | 1921/3096 [3:20:04<3:31:19, 10.79s/it]"
     ]
    },
    {
     "name": "stdout",
     "output_type": "stream",
     "text": [
      "Maximum run count 10 reached for component 'prompt_builder'\n",
      "iter 0 failed, trying again 0/5\n"
     ]
    },
    {
     "name": "stderr",
     "output_type": "stream",
     "text": [
      "error data = 50, error_rate = 2.67:  62%|██████▏   | 1922/3096 [3:20:12<3:13:26,  9.89s/it]"
     ]
    },
    {
     "name": "stdout",
     "output_type": "stream",
     "text": [
      "Maximum run count 10 reached for component 'prompt_builder'\n",
      "iter 0 failed, trying again 0/5\n"
     ]
    },
    {
     "name": "stderr",
     "output_type": "stream",
     "text": [
      "error data = 50, error_rate = 2.66:  62%|██████▏   | 1929/3096 [3:20:54<1:10:12,  3.61s/it]"
     ]
    },
    {
     "name": "stdout",
     "output_type": "stream",
     "text": [
      "Maximum run count 10 reached for component 'prompt_builder'\n",
      "iter 0 failed, trying again 0/5\n",
      "Maximum run count 10 reached for component 'prompt_builder'\n",
      "iter 1 failed, trying again 1/5\n",
      "Maximum run count 10 reached for component 'prompt_builder'\n",
      "iter 2 failed, trying again 2/5\n",
      "Maximum run count 10 reached for component 'prompt_builder'\n",
      "iter 3 failed, trying again 3/5\n"
     ]
    },
    {
     "name": "stderr",
     "output_type": "stream",
     "text": [
      "error data = 51, error_rate = 2.71:  62%|██████▏   | 1930/3096 [3:21:33<4:35:17, 14.17s/it]"
     ]
    },
    {
     "name": "stdout",
     "output_type": "stream",
     "text": [
      "Maximum run count 10 reached for component 'prompt_builder'\n",
      "iter 4 failed, trying again 4/5\n"
     ]
    },
    {
     "name": "stderr",
     "output_type": "stream",
     "text": [
      "error data = 51, error_rate = 2.71:  62%|██████▏   | 1932/3096 [3:21:38<2:37:27,  8.12s/it]"
     ]
    },
    {
     "name": "stdout",
     "output_type": "stream",
     "text": [
      "Maximum run count 10 reached for component 'prompt_builder'\n",
      "iter 0 failed, trying again 0/5\n"
     ]
    },
    {
     "name": "stderr",
     "output_type": "stream",
     "text": [
      "error data = 51, error_rate = 2.71:  62%|██████▎   | 1935/3096 [3:21:54<1:48:08,  5.59s/it]"
     ]
    },
    {
     "name": "stdout",
     "output_type": "stream",
     "text": [
      "Maximum run count 10 reached for component 'prompt_builder'\n",
      "iter 0 failed, trying again 0/5\n"
     ]
    },
    {
     "name": "stderr",
     "output_type": "stream",
     "text": [
      "error data = 51, error_rate = 2.70:  63%|██████▎   | 1941/3096 [3:22:20<1:21:03,  4.21s/it]"
     ]
    },
    {
     "name": "stdout",
     "output_type": "stream",
     "text": [
      "Maximum run count 10 reached for component 'prompt_builder'\n",
      "iter 0 failed, trying again 0/5\n"
     ]
    },
    {
     "name": "stderr",
     "output_type": "stream",
     "text": [
      "error data = 51, error_rate = 2.70:  63%|██████▎   | 1942/3096 [3:22:30<1:50:52,  5.76s/it]"
     ]
    },
    {
     "name": "stdout",
     "output_type": "stream",
     "text": [
      "Maximum run count 10 reached for component 'prompt_builder'\n",
      "iter 0 failed, trying again 0/5\n"
     ]
    },
    {
     "name": "stderr",
     "output_type": "stream",
     "text": [
      "error data = 51, error_rate = 2.69:  63%|██████▎   | 1944/3096 [3:22:42<1:49:33,  5.71s/it]"
     ]
    },
    {
     "name": "stdout",
     "output_type": "stream",
     "text": [
      "Maximum run count 10 reached for component 'prompt_builder'\n",
      "iter 0 failed, trying again 0/5\n",
      "Maximum run count 10 reached for component 'prompt_builder'\n",
      "iter 1 failed, trying again 1/5\n",
      "Maximum run count 10 reached for component 'prompt_builder'\n",
      "iter 2 failed, trying again 2/5\n"
     ]
    },
    {
     "name": "stderr",
     "output_type": "stream",
     "text": [
      "error data = 51, error_rate = 2.69:  63%|██████▎   | 1949/3096 [3:23:12<1:15:17,  3.94s/it]"
     ]
    },
    {
     "name": "stdout",
     "output_type": "stream",
     "text": [
      "Maximum run count 10 reached for component 'prompt_builder'\n",
      "iter 0 failed, trying again 0/5\n",
      "Maximum run count 10 reached for component 'prompt_builder'\n",
      "iter 1 failed, trying again 1/5\n",
      "Maximum run count 10 reached for component 'prompt_builder'\n",
      "iter 2 failed, trying again 2/5\n"
     ]
    },
    {
     "name": "stderr",
     "output_type": "stream",
     "text": [
      "error data = 51, error_rate = 2.67:  63%|██████▎   | 1961/3096 [3:24:00<59:35,  3.15s/it]  "
     ]
    },
    {
     "name": "stdout",
     "output_type": "stream",
     "text": [
      "Maximum run count 10 reached for component 'prompt_builder'\n",
      "iter 0 failed, trying again 0/5\n"
     ]
    },
    {
     "name": "stderr",
     "output_type": "stream",
     "text": [
      "error data = 51, error_rate = 2.67:  63%|██████▎   | 1964/3096 [3:24:19<1:23:54,  4.45s/it]"
     ]
    },
    {
     "name": "stdout",
     "output_type": "stream",
     "text": [
      "Maximum run count 10 reached for component 'prompt_builder'\n",
      "iter 0 failed, trying again 0/5\n"
     ]
    },
    {
     "name": "stderr",
     "output_type": "stream",
     "text": [
      "error data = 51, error_rate = 2.65:  64%|██████▎   | 1973/3096 [3:24:48<51:50,  2.77s/it]  "
     ]
    },
    {
     "name": "stdout",
     "output_type": "stream",
     "text": [
      "Maximum run count 10 reached for component 'prompt_builder'\n",
      "iter 0 failed, trying again 0/5\n"
     ]
    },
    {
     "name": "stderr",
     "output_type": "stream",
     "text": [
      "error data = 51, error_rate = 2.65:  64%|██████▍   | 1975/3096 [3:25:02<1:23:48,  4.49s/it]"
     ]
    },
    {
     "name": "stdout",
     "output_type": "stream",
     "text": [
      "Maximum run count 10 reached for component 'prompt_builder'\n",
      "iter 0 failed, trying again 0/5\n"
     ]
    },
    {
     "name": "stderr",
     "output_type": "stream",
     "text": [
      "error data = 51, error_rate = 2.65:  64%|██████▍   | 1976/3096 [3:25:14<2:06:39,  6.79s/it]"
     ]
    },
    {
     "name": "stdout",
     "output_type": "stream",
     "text": [
      "Maximum run count 10 reached for component 'prompt_builder'\n",
      "iter 0 failed, trying again 0/5\n",
      "Maximum run count 10 reached for component 'prompt_builder'\n",
      "iter 1 failed, trying again 1/5\n",
      "Maximum run count 10 reached for component 'prompt_builder'\n",
      "iter 2 failed, trying again 2/5\n",
      "Maximum run count 10 reached for component 'prompt_builder'\n",
      "iter 3 failed, trying again 3/5\n"
     ]
    },
    {
     "name": "stderr",
     "output_type": "stream",
     "text": [
      "error data = 51, error_rate = 2.64:  64%|██████▍   | 1980/3096 [3:25:58<2:25:55,  7.85s/it]"
     ]
    },
    {
     "name": "stdout",
     "output_type": "stream",
     "text": [
      "Maximum run count 10 reached for component 'prompt_builder'\n",
      "iter 0 failed, trying again 0/5\n"
     ]
    },
    {
     "name": "stderr",
     "output_type": "stream",
     "text": [
      "error data = 51, error_rate = 2.64:  64%|██████▍   | 1981/3096 [3:26:05<2:18:33,  7.46s/it]"
     ]
    },
    {
     "name": "stdout",
     "output_type": "stream",
     "text": [
      "Maximum run count 10 reached for component 'prompt_builder'\n",
      "iter 0 failed, trying again 0/5\n",
      "Maximum run count 10 reached for component 'prompt_builder'\n",
      "iter 1 failed, trying again 1/5\n"
     ]
    },
    {
     "name": "stderr",
     "output_type": "stream",
     "text": [
      "error data = 51, error_rate = 2.64:  64%|██████▍   | 1984/3096 [3:26:29<1:57:27,  6.34s/it]"
     ]
    },
    {
     "name": "stdout",
     "output_type": "stream",
     "text": [
      "Maximum run count 10 reached for component 'prompt_builder'\n",
      "iter 0 failed, trying again 0/5\n"
     ]
    },
    {
     "name": "stderr",
     "output_type": "stream",
     "text": [
      "error data = 51, error_rate = 2.64:  64%|██████▍   | 1986/3096 [3:26:46<2:07:57,  6.92s/it]"
     ]
    },
    {
     "name": "stdout",
     "output_type": "stream",
     "text": [
      "Maximum run count 10 reached for component 'prompt_builder'\n",
      "iter 0 failed, trying again 0/5\n"
     ]
    },
    {
     "name": "stderr",
     "output_type": "stream",
     "text": [
      "error data = 51, error_rate = 2.62:  64%|██████▍   | 1994/3096 [3:27:18<1:11:35,  3.90s/it]"
     ]
    },
    {
     "name": "stdout",
     "output_type": "stream",
     "text": [
      "Maximum run count 10 reached for component 'prompt_builder'\n",
      "iter 0 failed, trying again 0/5\n"
     ]
    },
    {
     "name": "stderr",
     "output_type": "stream",
     "text": [
      "error data = 51, error_rate = 2.62:  64%|██████▍   | 1995/3096 [3:27:27<1:41:24,  5.53s/it]"
     ]
    },
    {
     "name": "stdout",
     "output_type": "stream",
     "text": [
      "Maximum run count 10 reached for component 'prompt_builder'\n",
      "iter 0 failed, trying again 0/5\n",
      "Maximum run count 10 reached for component 'prompt_builder'\n",
      "iter 1 failed, trying again 1/5\n",
      "Maximum run count 10 reached for component 'prompt_builder'\n",
      "iter 2 failed, trying again 2/5\n"
     ]
    },
    {
     "name": "stderr",
     "output_type": "stream",
     "text": [
      "error data = 51, error_rate = 2.62:  65%|██████▍   | 2000/3096 [3:28:05<1:32:26,  5.06s/it]"
     ]
    },
    {
     "name": "stdout",
     "output_type": "stream",
     "text": [
      "Maximum run count 10 reached for component 'prompt_builder'\n",
      "iter 0 failed, trying again 0/5\n"
     ]
    },
    {
     "name": "stderr",
     "output_type": "stream",
     "text": [
      "error data = 51, error_rate = 2.61:  65%|██████▍   | 2005/3096 [3:28:38<1:58:11,  6.50s/it]"
     ]
    },
    {
     "name": "stdout",
     "output_type": "stream",
     "text": [
      "Maximum run count 10 reached for component 'prompt_builder'\n",
      "iter 0 failed, trying again 0/5\n",
      "Maximum run count 10 reached for component 'prompt_builder'\n",
      "iter 1 failed, trying again 1/5\n"
     ]
    },
    {
     "name": "stderr",
     "output_type": "stream",
     "text": [
      "error data = 51, error_rate = 2.61:  65%|██████▍   | 2006/3096 [3:29:01<3:31:28, 11.64s/it]"
     ]
    },
    {
     "name": "stdout",
     "output_type": "stream",
     "text": [
      "Maximum run count 10 reached for component 'prompt_builder'\n",
      "iter 0 failed, trying again 0/5\n",
      "Maximum run count 10 reached for component 'prompt_builder'\n",
      "iter 1 failed, trying again 1/5\n",
      "Maximum run count 10 reached for component 'prompt_builder'\n",
      "iter 2 failed, trying again 2/5\n"
     ]
    },
    {
     "name": "stderr",
     "output_type": "stream",
     "text": [
      "error data = 51, error_rate = 2.61:  65%|██████▍   | 2007/3096 [3:29:26<4:42:08, 15.55s/it]"
     ]
    },
    {
     "name": "stdout",
     "output_type": "stream",
     "text": [
      "Maximum run count 10 reached for component 'prompt_builder'\n",
      "iter 0 failed, trying again 0/5\n",
      "Maximum run count 10 reached for component 'prompt_builder'\n",
      "iter 1 failed, trying again 1/5\n"
     ]
    },
    {
     "name": "stderr",
     "output_type": "stream",
     "text": [
      "error data = 51, error_rate = 2.60:  65%|██████▍   | 2011/3096 [3:29:54<2:16:53,  7.57s/it]"
     ]
    },
    {
     "name": "stdout",
     "output_type": "stream",
     "text": [
      "Maximum run count 10 reached for component 'prompt_builder'\n",
      "iter 0 failed, trying again 0/5\n",
      "Maximum run count 10 reached for component 'prompt_builder'\n",
      "iter 1 failed, trying again 1/5\n"
     ]
    },
    {
     "name": "stderr",
     "output_type": "stream",
     "text": [
      "error data = 51, error_rate = 2.60:  65%|██████▍   | 2012/3096 [3:30:22<4:07:55, 13.72s/it]"
     ]
    },
    {
     "name": "stdout",
     "output_type": "stream",
     "text": [
      "Maximum run count 10 reached for component 'prompt_builder'\n",
      "iter 0 failed, trying again 0/5\n",
      "Maximum run count 10 reached for component 'prompt_builder'\n",
      "iter 1 failed, trying again 1/5\n"
     ]
    },
    {
     "name": "stderr",
     "output_type": "stream",
     "text": [
      "error data = 51, error_rate = 2.60:  65%|██████▌   | 2013/3096 [3:30:46<5:01:06, 16.68s/it]"
     ]
    },
    {
     "name": "stdout",
     "output_type": "stream",
     "text": [
      "Maximum run count 10 reached for component 'prompt_builder'\n",
      "iter 0 failed, trying again 0/5\n"
     ]
    },
    {
     "name": "stderr",
     "output_type": "stream",
     "text": [
      "error data = 51, error_rate = 2.60:  65%|██████▌   | 2016/3096 [3:31:01<2:36:59,  8.72s/it]"
     ]
    },
    {
     "name": "stdout",
     "output_type": "stream",
     "text": [
      "Maximum run count 10 reached for component 'prompt_builder'\n",
      "iter 0 failed, trying again 0/5\n",
      "Maximum run count 10 reached for component 'prompt_builder'\n",
      "iter 1 failed, trying again 1/5\n",
      "Maximum run count 10 reached for component 'prompt_builder'\n",
      "iter 2 failed, trying again 2/5\n",
      "Maximum run count 10 reached for component 'prompt_builder'\n",
      "iter 3 failed, trying again 3/5\n"
     ]
    },
    {
     "name": "stderr",
     "output_type": "stream",
     "text": [
      "error data = 52, error_rate = 2.65:  65%|██████▌   | 2017/3096 [3:31:43<5:34:30, 18.60s/it]"
     ]
    },
    {
     "name": "stdout",
     "output_type": "stream",
     "text": [
      "Maximum run count 10 reached for component 'prompt_builder'\n",
      "iter 4 failed, trying again 4/5\n"
     ]
    },
    {
     "name": "stderr",
     "output_type": "stream",
     "text": [
      "error data = 52, error_rate = 2.64:  65%|██████▌   | 2022/3096 [3:31:56<1:33:25,  5.22s/it]"
     ]
    },
    {
     "name": "stdout",
     "output_type": "stream",
     "text": [
      "Maximum run count 10 reached for component 'prompt_builder'\n",
      "iter 0 failed, trying again 0/5\n",
      "Maximum run count 10 reached for component 'prompt_builder'\n",
      "iter 1 failed, trying again 1/5\n",
      "Maximum run count 10 reached for component 'prompt_builder'\n",
      "iter 2 failed, trying again 2/5\n"
     ]
    },
    {
     "name": "stderr",
     "output_type": "stream",
     "text": [
      "error data = 52, error_rate = 2.63:  66%|██████▌   | 2029/3096 [3:32:42<1:08:03,  3.83s/it]"
     ]
    },
    {
     "name": "stdout",
     "output_type": "stream",
     "text": [
      "Maximum run count 10 reached for component 'prompt_builder'\n",
      "iter 0 failed, trying again 0/5\n",
      "Maximum run count 10 reached for component 'prompt_builder'\n",
      "iter 1 failed, trying again 1/5\n",
      "Maximum run count 10 reached for component 'prompt_builder'\n",
      "iter 2 failed, trying again 2/5\n",
      "Maximum run count 10 reached for component 'prompt_builder'\n",
      "iter 3 failed, trying again 3/5\n"
     ]
    },
    {
     "name": "stderr",
     "output_type": "stream",
     "text": [
      "error data = 53, error_rate = 2.68:  66%|██████▌   | 2030/3096 [3:33:19<4:05:49, 13.84s/it]"
     ]
    },
    {
     "name": "stdout",
     "output_type": "stream",
     "text": [
      "Maximum run count 10 reached for component 'prompt_builder'\n",
      "iter 4 failed, trying again 4/5\n"
     ]
    },
    {
     "name": "stderr",
     "output_type": "stream",
     "text": [
      "error data = 53, error_rate = 2.68:  66%|██████▌   | 2031/3096 [3:33:22<3:09:49, 10.69s/it]"
     ]
    },
    {
     "name": "stdout",
     "output_type": "stream",
     "text": [
      "Maximum run count 10 reached for component 'prompt_builder'\n",
      "iter 0 failed, trying again 0/5\n"
     ]
    },
    {
     "name": "stderr",
     "output_type": "stream",
     "text": [
      "error data = 53, error_rate = 2.67:  66%|██████▌   | 2039/3096 [3:33:54<1:05:24,  3.71s/it]"
     ]
    },
    {
     "name": "stdout",
     "output_type": "stream",
     "text": [
      "Maximum run count 10 reached for component 'prompt_builder'\n",
      "iter 0 failed, trying again 0/5\n"
     ]
    },
    {
     "name": "stderr",
     "output_type": "stream",
     "text": [
      "error data = 53, error_rate = 2.65:  66%|██████▌   | 2050/3096 [3:34:30<52:26,  3.01s/it]  "
     ]
    },
    {
     "name": "stdout",
     "output_type": "stream",
     "text": [
      "Maximum run count 10 reached for component 'prompt_builder'\n",
      "iter 0 failed, trying again 0/5\n"
     ]
    },
    {
     "name": "stderr",
     "output_type": "stream",
     "text": [
      "error data = 53, error_rate = 2.65:  66%|██████▋   | 2054/3096 [3:34:46<51:56,  2.99s/it]  "
     ]
    },
    {
     "name": "stdout",
     "output_type": "stream",
     "text": [
      "Maximum run count 10 reached for component 'prompt_builder'\n",
      "iter 0 failed, trying again 0/5\n",
      "Maximum run count 10 reached for component 'prompt_builder'\n",
      "iter 1 failed, trying again 1/5\n",
      "Maximum run count 10 reached for component 'prompt_builder'\n",
      "iter 2 failed, trying again 2/5\n",
      "Maximum run count 10 reached for component 'prompt_builder'\n",
      "iter 3 failed, trying again 3/5\n"
     ]
    },
    {
     "name": "stderr",
     "output_type": "stream",
     "text": [
      "error data = 54, error_rate = 2.70:  66%|██████▋   | 2055/3096 [3:35:19<3:28:07, 12.00s/it]"
     ]
    },
    {
     "name": "stdout",
     "output_type": "stream",
     "text": [
      "Maximum run count 10 reached for component 'prompt_builder'\n",
      "iter 4 failed, trying again 4/5\n"
     ]
    },
    {
     "name": "stderr",
     "output_type": "stream",
     "text": [
      "error data = 54, error_rate = 2.70:  66%|██████▋   | 2057/3096 [3:35:24<2:02:01,  7.05s/it]"
     ]
    },
    {
     "name": "stdout",
     "output_type": "stream",
     "text": [
      "Maximum run count 10 reached for component 'prompt_builder'\n",
      "iter 0 failed, trying again 0/5\n",
      "Maximum run count 10 reached for component 'prompt_builder'\n",
      "iter 1 failed, trying again 1/5\n"
     ]
    },
    {
     "name": "stderr",
     "output_type": "stream",
     "text": [
      "error data = 54, error_rate = 2.69:  67%|██████▋   | 2060/3096 [3:35:48<1:58:41,  6.87s/it]"
     ]
    },
    {
     "name": "stdout",
     "output_type": "stream",
     "text": [
      "Maximum run count 10 reached for component 'prompt_builder'\n",
      "iter 0 failed, trying again 0/5\n"
     ]
    },
    {
     "name": "stderr",
     "output_type": "stream",
     "text": [
      "error data = 54, error_rate = 2.69:  67%|██████▋   | 2063/3096 [3:36:02<1:23:49,  4.87s/it]"
     ]
    },
    {
     "name": "stdout",
     "output_type": "stream",
     "text": [
      "Maximum run count 10 reached for component 'prompt_builder'\n",
      "iter 0 failed, trying again 0/5\n"
     ]
    },
    {
     "name": "stderr",
     "output_type": "stream",
     "text": [
      "error data = 54, error_rate = 2.69:  67%|██████▋   | 2064/3096 [3:36:11<1:44:17,  6.06s/it]"
     ]
    },
    {
     "name": "stdout",
     "output_type": "stream",
     "text": [
      "Maximum run count 10 reached for component 'prompt_builder'\n",
      "iter 0 failed, trying again 0/5\n"
     ]
    },
    {
     "name": "stderr",
     "output_type": "stream",
     "text": [
      "error data = 54, error_rate = 2.67:  67%|██████▋   | 2073/3096 [3:36:50<52:18,  3.07s/it]  "
     ]
    },
    {
     "name": "stdout",
     "output_type": "stream",
     "text": [
      "Maximum run count 10 reached for component 'prompt_builder'\n",
      "iter 0 failed, trying again 0/5\n"
     ]
    },
    {
     "name": "stderr",
     "output_type": "stream",
     "text": [
      "error data = 54, error_rate = 2.67:  67%|██████▋   | 2074/3096 [3:36:57<1:12:29,  4.26s/it]"
     ]
    },
    {
     "name": "stdout",
     "output_type": "stream",
     "text": [
      "Maximum run count 10 reached for component 'prompt_builder'\n",
      "iter 0 failed, trying again 0/5\n",
      "Maximum run count 10 reached for component 'prompt_builder'\n",
      "iter 1 failed, trying again 1/5\n"
     ]
    },
    {
     "name": "stderr",
     "output_type": "stream",
     "text": [
      "error data = 54, error_rate = 2.67:  67%|██████▋   | 2078/3096 [3:37:17<1:03:25,  3.74s/it]"
     ]
    },
    {
     "name": "stdout",
     "output_type": "stream",
     "text": [
      "Maximum run count 10 reached for component 'prompt_builder'\n",
      "iter 0 failed, trying again 0/5\n",
      "Maximum run count 10 reached for component 'prompt_builder'\n",
      "iter 1 failed, trying again 1/5\n"
     ]
    },
    {
     "name": "stderr",
     "output_type": "stream",
     "text": [
      "error data = 54, error_rate = 2.66:  67%|██████▋   | 2081/3096 [3:37:43<1:38:10,  5.80s/it]"
     ]
    },
    {
     "name": "stdout",
     "output_type": "stream",
     "text": [
      "Maximum run count 10 reached for component 'prompt_builder'\n",
      "iter 0 failed, trying again 0/5\n",
      "Maximum run count 10 reached for component 'prompt_builder'\n",
      "iter 1 failed, trying again 1/5\n"
     ]
    },
    {
     "name": "stderr",
     "output_type": "stream",
     "text": [
      "error data = 54, error_rate = 2.66:  67%|██████▋   | 2084/3096 [3:38:06<1:43:47,  6.15s/it]"
     ]
    },
    {
     "name": "stdout",
     "output_type": "stream",
     "text": [
      "Maximum run count 10 reached for component 'prompt_builder'\n",
      "iter 0 failed, trying again 0/5\n",
      "Maximum run count 10 reached for component 'prompt_builder'\n",
      "iter 1 failed, trying again 1/5\n"
     ]
    },
    {
     "name": "stderr",
     "output_type": "stream",
     "text": [
      "error data = 54, error_rate = 2.66:  67%|██████▋   | 2085/3096 [3:38:29<3:08:10, 11.17s/it]"
     ]
    },
    {
     "name": "stdout",
     "output_type": "stream",
     "text": [
      "Maximum run count 10 reached for component 'prompt_builder'\n",
      "iter 0 failed, trying again 0/5\n"
     ]
    },
    {
     "name": "stderr",
     "output_type": "stream",
     "text": [
      "error data = 54, error_rate = 2.65:  68%|██████▊   | 2091/3096 [3:38:55<1:29:27,  5.34s/it]"
     ]
    },
    {
     "name": "stdout",
     "output_type": "stream",
     "text": [
      "Maximum run count 10 reached for component 'prompt_builder'\n",
      "iter 0 failed, trying again 0/5\n",
      "Maximum run count 10 reached for component 'prompt_builder'\n",
      "iter 1 failed, trying again 1/5\n",
      "Maximum run count 10 reached for component 'prompt_builder'\n",
      "iter 2 failed, trying again 2/5\n"
     ]
    },
    {
     "name": "stderr",
     "output_type": "stream",
     "text": [
      "error data = 54, error_rate = 2.65:  68%|██████▊   | 2095/3096 [3:39:25<1:27:09,  5.22s/it]"
     ]
    },
    {
     "name": "stdout",
     "output_type": "stream",
     "text": [
      "Maximum run count 10 reached for component 'prompt_builder'\n",
      "iter 0 failed, trying again 0/5\n"
     ]
    },
    {
     "name": "stderr",
     "output_type": "stream",
     "text": [
      "error data = 54, error_rate = 2.64:  68%|██████▊   | 2103/3096 [3:40:01<59:09,  3.57s/it]  "
     ]
    },
    {
     "name": "stdout",
     "output_type": "stream",
     "text": [
      "Maximum run count 10 reached for component 'prompt_builder'\n",
      "iter 0 failed, trying again 0/5\n",
      "Maximum run count 10 reached for component 'prompt_builder'\n",
      "iter 1 failed, trying again 1/5\n",
      "Maximum run count 10 reached for component 'prompt_builder'\n",
      "iter 2 failed, trying again 2/5\n",
      "Maximum run count 10 reached for component 'prompt_builder'\n",
      "iter 3 failed, trying again 3/5\n"
     ]
    },
    {
     "name": "stderr",
     "output_type": "stream",
     "text": [
      "error data = 54, error_rate = 2.63:  68%|██████▊   | 2104/3096 [3:40:30<3:04:02, 11.13s/it]"
     ]
    },
    {
     "name": "stdout",
     "output_type": "stream",
     "text": [
      "Maximum run count 10 reached for component 'prompt_builder'\n",
      "iter 0 failed, trying again 0/5\n"
     ]
    },
    {
     "name": "stderr",
     "output_type": "stream",
     "text": [
      "error data = 54, error_rate = 2.62:  68%|██████▊   | 2114/3096 [3:41:03<47:53,  2.93s/it]  "
     ]
    },
    {
     "name": "stdout",
     "output_type": "stream",
     "text": [
      "Maximum run count 10 reached for component 'prompt_builder'\n",
      "iter 0 failed, trying again 0/5\n"
     ]
    },
    {
     "name": "stderr",
     "output_type": "stream",
     "text": [
      "error data = 54, error_rate = 2.62:  68%|██████▊   | 2118/3096 [3:41:20<51:57,  3.19s/it]  "
     ]
    },
    {
     "name": "stdout",
     "output_type": "stream",
     "text": [
      "Maximum run count 10 reached for component 'prompt_builder'\n",
      "iter 0 failed, trying again 0/5\n"
     ]
    },
    {
     "name": "stderr",
     "output_type": "stream",
     "text": [
      "error data = 54, error_rate = 2.61:  69%|██████▊   | 2121/3096 [3:41:37<1:09:56,  4.30s/it]"
     ]
    },
    {
     "name": "stdout",
     "output_type": "stream",
     "text": [
      "Maximum run count 10 reached for component 'prompt_builder'\n",
      "iter 0 failed, trying again 0/5\n"
     ]
    },
    {
     "name": "stderr",
     "output_type": "stream",
     "text": [
      "error data = 54, error_rate = 2.59:  69%|██████▉   | 2136/3096 [3:42:24<53:54,  3.37s/it]  "
     ]
    },
    {
     "name": "stdout",
     "output_type": "stream",
     "text": [
      "Maximum run count 10 reached for component 'prompt_builder'\n",
      "iter 0 failed, trying again 0/5\n"
     ]
    },
    {
     "name": "stderr",
     "output_type": "stream",
     "text": [
      "error data = 54, error_rate = 2.59:  69%|██████▉   | 2137/3096 [3:42:35<1:34:58,  5.94s/it]"
     ]
    },
    {
     "name": "stdout",
     "output_type": "stream",
     "text": [
      "Maximum run count 10 reached for component 'prompt_builder'\n",
      "iter 0 failed, trying again 0/5\n",
      "Maximum run count 10 reached for component 'prompt_builder'\n",
      "iter 1 failed, trying again 1/5\n",
      "Maximum run count 10 reached for component 'prompt_builder'\n",
      "iter 2 failed, trying again 2/5\n",
      "Maximum run count 10 reached for component 'prompt_builder'\n",
      "iter 3 failed, trying again 3/5\n"
     ]
    },
    {
     "name": "stderr",
     "output_type": "stream",
     "text": [
      "error data = 55, error_rate = 2.64:  69%|██████▉   | 2138/3096 [3:43:15<4:13:46, 15.89s/it]"
     ]
    },
    {
     "name": "stdout",
     "output_type": "stream",
     "text": [
      "Maximum run count 10 reached for component 'prompt_builder'\n",
      "iter 4 failed, trying again 4/5\n",
      "Maximum run count 10 reached for component 'prompt_builder'\n",
      "iter 0 failed, trying again 0/5\n"
     ]
    },
    {
     "name": "stderr",
     "output_type": "stream",
     "text": [
      "error data = 55, error_rate = 2.64:  69%|██████▉   | 2140/3096 [3:43:23<2:33:43,  9.65s/it]"
     ]
    },
    {
     "name": "stdout",
     "output_type": "stream",
     "text": [
      "Maximum run count 10 reached for component 'prompt_builder'\n",
      "iter 0 failed, trying again 0/5\n"
     ]
    },
    {
     "name": "stderr",
     "output_type": "stream",
     "text": [
      "error data = 55, error_rate = 2.63:  69%|██████▉   | 2143/3096 [3:43:37<1:33:40,  5.90s/it]"
     ]
    },
    {
     "name": "stdout",
     "output_type": "stream",
     "text": [
      "Maximum run count 10 reached for component 'prompt_builder'\n",
      "iter 0 failed, trying again 0/5\n"
     ]
    },
    {
     "name": "stderr",
     "output_type": "stream",
     "text": [
      "error data = 55, error_rate = 2.63:  69%|██████▉   | 2150/3096 [3:44:06<43:42,  2.77s/it]  "
     ]
    },
    {
     "name": "stdout",
     "output_type": "stream",
     "text": [
      "Maximum run count 10 reached for component 'prompt_builder'\n",
      "iter 0 failed, trying again 0/5\n"
     ]
    },
    {
     "name": "stderr",
     "output_type": "stream",
     "text": [
      "error data = 55, error_rate = 2.62:  70%|██████▉   | 2152/3096 [3:44:17<1:01:24,  3.90s/it]"
     ]
    },
    {
     "name": "stdout",
     "output_type": "stream",
     "text": [
      "Maximum run count 10 reached for component 'prompt_builder'\n",
      "iter 0 failed, trying again 0/5\n"
     ]
    },
    {
     "name": "stderr",
     "output_type": "stream",
     "text": [
      "error data = 55, error_rate = 2.62:  70%|██████▉   | 2153/3096 [3:44:36<2:09:09,  8.22s/it]"
     ]
    },
    {
     "name": "stdout",
     "output_type": "stream",
     "text": [
      "Maximum run count 10 reached for component 'prompt_builder'\n",
      "iter 0 failed, trying again 0/5\n",
      "Maximum run count 10 reached for component 'prompt_builder'\n",
      "iter 1 failed, trying again 1/5\n"
     ]
    },
    {
     "name": "stderr",
     "output_type": "stream",
     "text": [
      "error data = 55, error_rate = 2.61:  70%|██████▉   | 2160/3096 [3:45:10<53:27,  3.43s/it]  "
     ]
    },
    {
     "name": "stdout",
     "output_type": "stream",
     "text": [
      "Maximum run count 10 reached for component 'prompt_builder'\n",
      "iter 0 failed, trying again 0/5\n"
     ]
    },
    {
     "name": "stderr",
     "output_type": "stream",
     "text": [
      "error data = 55, error_rate = 2.61:  70%|██████▉   | 2162/3096 [3:45:30<1:35:32,  6.14s/it]"
     ]
    },
    {
     "name": "stdout",
     "output_type": "stream",
     "text": [
      "Maximum run count 10 reached for component 'prompt_builder'\n",
      "iter 0 failed, trying again 0/5\n"
     ]
    },
    {
     "name": "stderr",
     "output_type": "stream",
     "text": [
      "error data = 55, error_rate = 2.61:  70%|██████▉   | 2163/3096 [3:45:41<2:01:00,  7.78s/it]"
     ]
    },
    {
     "name": "stdout",
     "output_type": "stream",
     "text": [
      "Maximum run count 10 reached for component 'prompt_builder'\n",
      "iter 0 failed, trying again 0/5\n",
      "Maximum run count 10 reached for component 'prompt_builder'\n",
      "iter 1 failed, trying again 1/5\n",
      "Maximum run count 10 reached for component 'prompt_builder'\n",
      "iter 2 failed, trying again 2/5\n"
     ]
    },
    {
     "name": "stderr",
     "output_type": "stream",
     "text": [
      "error data = 55, error_rate = 2.61:  70%|██████▉   | 2165/3096 [3:46:06<2:27:06,  9.48s/it]"
     ]
    },
    {
     "name": "stdout",
     "output_type": "stream",
     "text": [
      "Maximum run count 10 reached for component 'prompt_builder'\n",
      "iter 0 failed, trying again 0/5\n"
     ]
    },
    {
     "name": "stderr",
     "output_type": "stream",
     "text": [
      "error data = 55, error_rate = 2.60:  70%|███████   | 2170/3096 [3:46:25<58:24,  3.78s/it]  "
     ]
    },
    {
     "name": "stdout",
     "output_type": "stream",
     "text": [
      "Maximum run count 10 reached for component 'prompt_builder'\n",
      "iter 0 failed, trying again 0/5\n"
     ]
    },
    {
     "name": "stderr",
     "output_type": "stream",
     "text": [
      "error data = 55, error_rate = 2.59:  70%|███████   | 2179/3096 [3:46:56<36:30,  2.39s/it]  "
     ]
    },
    {
     "name": "stdout",
     "output_type": "stream",
     "text": [
      "Maximum run count 10 reached for component 'prompt_builder'\n",
      "iter 0 failed, trying again 0/5\n"
     ]
    },
    {
     "name": "stderr",
     "output_type": "stream",
     "text": [
      "error data = 55, error_rate = 2.58:  71%|███████   | 2187/3096 [3:47:30<45:21,  2.99s/it]  "
     ]
    },
    {
     "name": "stdout",
     "output_type": "stream",
     "text": [
      "Maximum run count 10 reached for component 'prompt_builder'\n",
      "iter 0 failed, trying again 0/5\n"
     ]
    },
    {
     "name": "stderr",
     "output_type": "stream",
     "text": [
      "error data = 55, error_rate = 2.57:  71%|███████   | 2197/3096 [3:48:02<35:08,  2.35s/it]  "
     ]
    },
    {
     "name": "stdout",
     "output_type": "stream",
     "text": [
      "Maximum run count 10 reached for component 'prompt_builder'\n",
      "iter 0 failed, trying again 0/5\n",
      "Maximum run count 10 reached for component 'prompt_builder'\n",
      "iter 1 failed, trying again 1/5\n"
     ]
    },
    {
     "name": "stderr",
     "output_type": "stream",
     "text": [
      "error data = 55, error_rate = 2.54:  72%|███████▏  | 2218/3096 [3:49:14<30:12,  2.06s/it]  "
     ]
    },
    {
     "name": "stdout",
     "output_type": "stream",
     "text": [
      "Maximum run count 10 reached for component 'prompt_builder'\n",
      "iter 0 failed, trying again 0/5\n",
      "Maximum run count 10 reached for component 'prompt_builder'\n",
      "iter 1 failed, trying again 1/5\n",
      "Maximum run count 10 reached for component 'prompt_builder'\n",
      "iter 2 failed, trying again 2/5\n"
     ]
    },
    {
     "name": "stderr",
     "output_type": "stream",
     "text": [
      "error data = 55, error_rate = 2.54:  72%|███████▏  | 2219/3096 [3:49:40<2:15:35,  9.28s/it]"
     ]
    },
    {
     "name": "stdout",
     "output_type": "stream",
     "text": [
      "Maximum run count 10 reached for component 'prompt_builder'\n",
      "iter 0 failed, trying again 0/5\n",
      "Maximum run count 10 reached for component 'prompt_builder'\n",
      "iter 1 failed, trying again 1/5\n",
      "Maximum run count 10 reached for component 'prompt_builder'\n",
      "iter 2 failed, trying again 2/5\n"
     ]
    },
    {
     "name": "stderr",
     "output_type": "stream",
     "text": [
      "error data = 55, error_rate = 2.54:  72%|███████▏  | 2221/3096 [3:50:11<2:42:57, 11.17s/it]"
     ]
    },
    {
     "name": "stdout",
     "output_type": "stream",
     "text": [
      "Maximum run count 10 reached for component 'prompt_builder'\n",
      "iter 0 failed, trying again 0/5\n",
      "Maximum run count 10 reached for component 'prompt_builder'\n",
      "iter 1 failed, trying again 1/5\n"
     ]
    },
    {
     "name": "stderr",
     "output_type": "stream",
     "text": [
      "error data = 55, error_rate = 2.54:  72%|███████▏  | 2224/3096 [3:50:32<1:50:38,  7.61s/it]"
     ]
    },
    {
     "name": "stdout",
     "output_type": "stream",
     "text": [
      "Maximum run count 10 reached for component 'prompt_builder'\n",
      "iter 0 failed, trying again 0/5\n",
      "Maximum run count 10 reached for component 'prompt_builder'\n",
      "iter 1 failed, trying again 1/5\n"
     ]
    },
    {
     "name": "stderr",
     "output_type": "stream",
     "text": [
      "error data = 55, error_rate = 2.53:  72%|███████▏  | 2226/3096 [3:50:56<2:17:04,  9.45s/it]"
     ]
    },
    {
     "name": "stdout",
     "output_type": "stream",
     "text": [
      "Maximum run count 10 reached for component 'prompt_builder'\n",
      "iter 0 failed, trying again 0/5\n"
     ]
    },
    {
     "name": "stderr",
     "output_type": "stream",
     "text": [
      "error data = 55, error_rate = 2.51:  72%|███████▏  | 2242/3096 [3:52:03<39:41,  2.79s/it]  "
     ]
    },
    {
     "name": "stdout",
     "output_type": "stream",
     "text": [
      "Maximum run count 10 reached for component 'prompt_builder'\n",
      "iter 0 failed, trying again 0/5\n"
     ]
    },
    {
     "name": "stderr",
     "output_type": "stream",
     "text": [
      "error data = 55, error_rate = 2.51:  72%|███████▏  | 2243/3096 [3:52:14<1:15:03,  5.28s/it]"
     ]
    },
    {
     "name": "stdout",
     "output_type": "stream",
     "text": [
      "Maximum run count 10 reached for component 'prompt_builder'\n",
      "iter 0 failed, trying again 0/5\n"
     ]
    },
    {
     "name": "stderr",
     "output_type": "stream",
     "text": [
      "error data = 55, error_rate = 2.51:  73%|███████▎  | 2247/3096 [3:52:29<53:35,  3.79s/it]  "
     ]
    },
    {
     "name": "stdout",
     "output_type": "stream",
     "text": [
      "Maximum run count 10 reached for component 'prompt_builder'\n",
      "iter 0 failed, trying again 0/5\n"
     ]
    },
    {
     "name": "stderr",
     "output_type": "stream",
     "text": [
      "error data = 55, error_rate = 2.51:  73%|███████▎  | 2250/3096 [3:52:48<1:07:22,  4.78s/it]"
     ]
    },
    {
     "name": "stdout",
     "output_type": "stream",
     "text": [
      "Maximum run count 10 reached for component 'prompt_builder'\n",
      "iter 0 failed, trying again 0/5\n"
     ]
    },
    {
     "name": "stderr",
     "output_type": "stream",
     "text": [
      "error data = 55, error_rate = 2.50:  73%|███████▎  | 2251/3096 [3:53:00<1:35:48,  6.80s/it]"
     ]
    },
    {
     "name": "stdout",
     "output_type": "stream",
     "text": [
      "Maximum run count 10 reached for component 'prompt_builder'\n",
      "iter 0 failed, trying again 0/5\n"
     ]
    },
    {
     "name": "stderr",
     "output_type": "stream",
     "text": [
      "error data = 55, error_rate = 2.50:  73%|███████▎  | 2258/3096 [3:53:29<45:47,  3.28s/it]  "
     ]
    },
    {
     "name": "stdout",
     "output_type": "stream",
     "text": [
      "Maximum run count 10 reached for component 'prompt_builder'\n",
      "iter 0 failed, trying again 0/5\n",
      "Maximum run count 10 reached for component 'prompt_builder'\n",
      "iter 1 failed, trying again 1/5\n"
     ]
    },
    {
     "name": "stderr",
     "output_type": "stream",
     "text": [
      "error data = 55, error_rate = 2.50:  73%|███████▎  | 2259/3096 [3:53:46<1:42:42,  7.36s/it]"
     ]
    },
    {
     "name": "stdout",
     "output_type": "stream",
     "text": [
      "Maximum run count 10 reached for component 'prompt_builder'\n",
      "iter 0 failed, trying again 0/5\n"
     ]
    },
    {
     "name": "stderr",
     "output_type": "stream",
     "text": [
      "error data = 55, error_rate = 2.49:  73%|███████▎  | 2264/3096 [3:54:06<53:35,  3.86s/it]  "
     ]
    },
    {
     "name": "stdout",
     "output_type": "stream",
     "text": [
      "Maximum run count 10 reached for component 'prompt_builder'\n",
      "iter 0 failed, trying again 0/5\n"
     ]
    },
    {
     "name": "stderr",
     "output_type": "stream",
     "text": [
      "error data = 55, error_rate = 2.48:  73%|███████▎  | 2269/3096 [3:54:29<51:48,  3.76s/it]  "
     ]
    },
    {
     "name": "stdout",
     "output_type": "stream",
     "text": [
      "Maximum run count 10 reached for component 'prompt_builder'\n",
      "iter 0 failed, trying again 0/5\n"
     ]
    },
    {
     "name": "stderr",
     "output_type": "stream",
     "text": [
      "error data = 55, error_rate = 2.47:  74%|███████▎  | 2278/3096 [3:55:10<58:50,  4.32s/it]  "
     ]
    },
    {
     "name": "stdout",
     "output_type": "stream",
     "text": [
      "Maximum run count 10 reached for component 'prompt_builder'\n",
      "iter 0 failed, trying again 0/5\n"
     ]
    },
    {
     "name": "stderr",
     "output_type": "stream",
     "text": [
      "error data = 55, error_rate = 2.47:  74%|███████▎  | 2281/3096 [3:55:29<1:10:40,  5.20s/it]"
     ]
    },
    {
     "name": "stdout",
     "output_type": "stream",
     "text": [
      "Maximum run count 10 reached for component 'prompt_builder'\n",
      "iter 0 failed, trying again 0/5\n",
      "Maximum run count 10 reached for component 'prompt_builder'\n",
      "iter 1 failed, trying again 1/5\n"
     ]
    },
    {
     "name": "stderr",
     "output_type": "stream",
     "text": [
      "error data = 55, error_rate = 2.47:  74%|███████▎  | 2283/3096 [3:55:44<1:19:25,  5.86s/it]"
     ]
    },
    {
     "name": "stdout",
     "output_type": "stream",
     "text": [
      "Maximum run count 10 reached for component 'prompt_builder'\n",
      "iter 0 failed, trying again 0/5\n"
     ]
    },
    {
     "name": "stderr",
     "output_type": "stream",
     "text": [
      "error data = 55, error_rate = 2.47:  74%|███████▍  | 2284/3096 [3:55:54<1:35:29,  7.06s/it]"
     ]
    },
    {
     "name": "stdout",
     "output_type": "stream",
     "text": [
      "Maximum run count 10 reached for component 'prompt_builder'\n",
      "iter 0 failed, trying again 0/5\n"
     ]
    },
    {
     "name": "stderr",
     "output_type": "stream",
     "text": [
      "error data = 55, error_rate = 2.46:  74%|███████▍  | 2287/3096 [3:56:14<1:21:38,  6.05s/it]"
     ]
    },
    {
     "name": "stdout",
     "output_type": "stream",
     "text": [
      "Maximum run count 10 reached for component 'prompt_builder'\n",
      "iter 0 failed, trying again 0/5\n"
     ]
    },
    {
     "name": "stderr",
     "output_type": "stream",
     "text": [
      "error data = 55, error_rate = 2.46:  74%|███████▍  | 2290/3096 [3:56:32<1:20:06,  5.96s/it]"
     ]
    },
    {
     "name": "stdout",
     "output_type": "stream",
     "text": [
      "Maximum run count 10 reached for component 'prompt_builder'\n",
      "iter 0 failed, trying again 0/5\n"
     ]
    },
    {
     "name": "stderr",
     "output_type": "stream",
     "text": [
      "error data = 55, error_rate = 2.46:  74%|███████▍  | 2293/3096 [3:56:47<1:03:22,  4.73s/it]"
     ]
    },
    {
     "name": "stdout",
     "output_type": "stream",
     "text": [
      "Maximum run count 10 reached for component 'prompt_builder'\n",
      "iter 0 failed, trying again 0/5\n"
     ]
    },
    {
     "name": "stderr",
     "output_type": "stream",
     "text": [
      "error data = 55, error_rate = 2.45:  74%|███████▍  | 2296/3096 [3:57:05<1:05:40,  4.93s/it]"
     ]
    },
    {
     "name": "stdout",
     "output_type": "stream",
     "text": [
      "Maximum run count 10 reached for component 'prompt_builder'\n",
      "iter 0 failed, trying again 0/5\n"
     ]
    },
    {
     "name": "stderr",
     "output_type": "stream",
     "text": [
      "error data = 55, error_rate = 2.45:  74%|███████▍  | 2302/3096 [3:57:34<59:10,  4.47s/it]  "
     ]
    },
    {
     "name": "stdout",
     "output_type": "stream",
     "text": [
      "Maximum run count 10 reached for component 'prompt_builder'\n",
      "iter 0 failed, trying again 0/5\n",
      "Maximum run count 10 reached for component 'prompt_builder'\n",
      "iter 1 failed, trying again 1/5\n"
     ]
    },
    {
     "name": "stderr",
     "output_type": "stream",
     "text": [
      "error data = 55, error_rate = 2.44:  75%|███████▍  | 2310/3096 [3:58:28<1:00:43,  4.63s/it]"
     ]
    },
    {
     "name": "stdout",
     "output_type": "stream",
     "text": [
      "Maximum run count 10 reached for component 'prompt_builder'\n",
      "iter 0 failed, trying again 0/5\n"
     ]
    },
    {
     "name": "stderr",
     "output_type": "stream",
     "text": [
      "error data = 55, error_rate = 2.43:  75%|███████▍  | 2316/3096 [3:58:54<47:28,  3.65s/it]  "
     ]
    },
    {
     "name": "stdout",
     "output_type": "stream",
     "text": [
      "Maximum run count 10 reached for component 'prompt_builder'\n",
      "iter 0 failed, trying again 0/5\n",
      "Maximum run count 10 reached for component 'prompt_builder'\n",
      "iter 1 failed, trying again 1/5\n"
     ]
    },
    {
     "name": "stderr",
     "output_type": "stream",
     "text": [
      "error data = 55, error_rate = 2.43:  75%|███████▍  | 2320/3096 [3:59:22<1:02:32,  4.84s/it]"
     ]
    },
    {
     "name": "stdout",
     "output_type": "stream",
     "text": [
      "Maximum run count 10 reached for component 'prompt_builder'\n",
      "iter 0 failed, trying again 0/5\n",
      "Maximum run count 10 reached for component 'prompt_builder'\n",
      "iter 1 failed, trying again 1/5\n",
      "Maximum run count 10 reached for component 'prompt_builder'\n",
      "iter 2 failed, trying again 2/5\n"
     ]
    },
    {
     "name": "stderr",
     "output_type": "stream",
     "text": [
      "error data = 55, error_rate = 2.42:  75%|███████▌  | 2325/3096 [3:59:55<1:00:58,  4.74s/it]"
     ]
    },
    {
     "name": "stdout",
     "output_type": "stream",
     "text": [
      "Maximum run count 10 reached for component 'prompt_builder'\n",
      "iter 0 failed, trying again 0/5\n"
     ]
    },
    {
     "name": "stderr",
     "output_type": "stream",
     "text": [
      "error data = 55, error_rate = 2.42:  75%|███████▌  | 2330/3096 [4:00:21<53:03,  4.16s/it]  "
     ]
    },
    {
     "name": "stdout",
     "output_type": "stream",
     "text": [
      "Maximum run count 10 reached for component 'prompt_builder'\n",
      "iter 0 failed, trying again 0/5\n"
     ]
    },
    {
     "name": "stderr",
     "output_type": "stream",
     "text": [
      "error data = 55, error_rate = 2.42:  75%|███████▌  | 2332/3096 [4:00:34<1:00:26,  4.75s/it]"
     ]
    },
    {
     "name": "stdout",
     "output_type": "stream",
     "text": [
      "Maximum run count 10 reached for component 'prompt_builder'\n",
      "iter 0 failed, trying again 0/5\n",
      "Maximum run count 10 reached for component 'prompt_builder'\n",
      "iter 1 failed, trying again 1/5\n",
      "Maximum run count 10 reached for component 'prompt_builder'\n",
      "iter 2 failed, trying again 2/5\n"
     ]
    },
    {
     "name": "stderr",
     "output_type": "stream",
     "text": [
      "error data = 55, error_rate = 2.41:  75%|███████▌  | 2333/3096 [4:00:57<2:10:53, 10.29s/it]"
     ]
    },
    {
     "name": "stdout",
     "output_type": "stream",
     "text": [
      "Maximum run count 10 reached for component 'prompt_builder'\n",
      "iter 0 failed, trying again 0/5\n",
      "Maximum run count 10 reached for component 'prompt_builder'\n",
      "iter 1 failed, trying again 1/5\n",
      "Maximum run count 10 reached for component 'prompt_builder'\n",
      "iter 2 failed, trying again 2/5\n",
      "Maximum run count 10 reached for component 'prompt_builder'\n",
      "iter 3 failed, trying again 3/5\n"
     ]
    },
    {
     "name": "stderr",
     "output_type": "stream",
     "text": [
      "error data = 56, error_rate = 2.46:  75%|███████▌  | 2334/3096 [4:01:37<4:03:46, 19.19s/it]"
     ]
    },
    {
     "name": "stdout",
     "output_type": "stream",
     "text": [
      "Maximum run count 10 reached for component 'prompt_builder'\n",
      "iter 4 failed, trying again 4/5\n"
     ]
    },
    {
     "name": "stderr",
     "output_type": "stream",
     "text": [
      "error data = 56, error_rate = 2.46:  75%|███████▌  | 2336/3096 [4:01:40<2:09:59, 10.26s/it]"
     ]
    },
    {
     "name": "stdout",
     "output_type": "stream",
     "text": [
      "Maximum run count 10 reached for component 'prompt_builder'\n",
      "iter 0 failed, trying again 0/5\n"
     ]
    },
    {
     "name": "stderr",
     "output_type": "stream",
     "text": [
      "error data = 56, error_rate = 2.45:  76%|███████▌  | 2341/3096 [4:02:01<51:03,  4.06s/it]  "
     ]
    },
    {
     "name": "stdout",
     "output_type": "stream",
     "text": [
      "Maximum run count 10 reached for component 'prompt_builder'\n",
      "iter 0 failed, trying again 0/5\n",
      "Maximum run count 10 reached for component 'prompt_builder'\n",
      "iter 1 failed, trying again 1/5\n"
     ]
    },
    {
     "name": "stderr",
     "output_type": "stream",
     "text": [
      "error data = 56, error_rate = 2.45:  76%|███████▌  | 2343/3096 [4:02:46<2:54:02, 13.87s/it]"
     ]
    },
    {
     "name": "stdout",
     "output_type": "stream",
     "text": [
      "Maximum run count 10 reached for component 'prompt_builder'\n",
      "iter 0 failed, trying again 0/5\n"
     ]
    },
    {
     "name": "stderr",
     "output_type": "stream",
     "text": [
      "error data = 56, error_rate = 2.45:  76%|███████▌  | 2346/3096 [4:02:59<1:25:32,  6.84s/it]"
     ]
    },
    {
     "name": "stdout",
     "output_type": "stream",
     "text": [
      "Maximum run count 10 reached for component 'prompt_builder'\n",
      "iter 0 failed, trying again 0/5\n"
     ]
    },
    {
     "name": "stderr",
     "output_type": "stream",
     "text": [
      "error data = 56, error_rate = 2.44:  76%|███████▌  | 2352/3096 [4:03:25<51:32,  4.16s/it]  "
     ]
    },
    {
     "name": "stdout",
     "output_type": "stream",
     "text": [
      "Maximum run count 10 reached for component 'prompt_builder'\n",
      "iter 0 failed, trying again 0/5\n"
     ]
    },
    {
     "name": "stderr",
     "output_type": "stream",
     "text": [
      "error data = 56, error_rate = 2.44:  76%|███████▌  | 2353/3096 [4:03:41<1:33:14,  7.53s/it]"
     ]
    },
    {
     "name": "stdout",
     "output_type": "stream",
     "text": [
      "Maximum run count 10 reached for component 'prompt_builder'\n",
      "iter 0 failed, trying again 0/5\n",
      "Maximum run count 10 reached for component 'prompt_builder'\n",
      "iter 1 failed, trying again 1/5\n"
     ]
    },
    {
     "name": "stderr",
     "output_type": "stream",
     "text": [
      "error data = 56, error_rate = 2.43:  76%|███████▌  | 2356/3096 [4:04:11<1:39:58,  8.11s/it]"
     ]
    },
    {
     "name": "stdout",
     "output_type": "stream",
     "text": [
      "Maximum run count 10 reached for component 'prompt_builder'\n",
      "iter 0 failed, trying again 0/5\n",
      "Maximum run count 10 reached for component 'prompt_builder'\n",
      "iter 1 failed, trying again 1/5\n",
      "Maximum run count 10 reached for component 'prompt_builder'\n",
      "iter 2 failed, trying again 2/5\n",
      "Maximum run count 10 reached for component 'prompt_builder'\n",
      "iter 3 failed, trying again 3/5\n"
     ]
    },
    {
     "name": "stderr",
     "output_type": "stream",
     "text": [
      "error data = 57, error_rate = 2.48:  76%|███████▌  | 2357/3096 [4:04:41<2:59:51, 14.60s/it]"
     ]
    },
    {
     "name": "stdout",
     "output_type": "stream",
     "text": [
      "Maximum run count 10 reached for component 'prompt_builder'\n",
      "iter 4 failed, trying again 4/5\n"
     ]
    },
    {
     "name": "stderr",
     "output_type": "stream",
     "text": [
      "error data = 57, error_rate = 2.47:  76%|███████▋  | 2361/3096 [4:04:54<1:06:49,  5.46s/it]"
     ]
    },
    {
     "name": "stdout",
     "output_type": "stream",
     "text": [
      "Maximum run count 10 reached for component 'prompt_builder'\n",
      "iter 0 failed, trying again 0/5\n"
     ]
    },
    {
     "name": "stderr",
     "output_type": "stream",
     "text": [
      "error data = 57, error_rate = 2.47:  76%|███████▋  | 2362/3096 [4:05:03<1:20:41,  6.60s/it]"
     ]
    },
    {
     "name": "stdout",
     "output_type": "stream",
     "text": [
      "Maximum run count 10 reached for component 'prompt_builder'\n",
      "iter 0 failed, trying again 0/5\n"
     ]
    },
    {
     "name": "stderr",
     "output_type": "stream",
     "text": [
      "error data = 57, error_rate = 2.47:  76%|███████▋  | 2364/3096 [4:05:19<1:22:03,  6.73s/it]"
     ]
    },
    {
     "name": "stdout",
     "output_type": "stream",
     "text": [
      "Maximum run count 10 reached for component 'prompt_builder'\n",
      "iter 0 failed, trying again 0/5\n"
     ]
    },
    {
     "name": "stderr",
     "output_type": "stream",
     "text": [
      "error data = 57, error_rate = 2.47:  76%|███████▋  | 2365/3096 [4:05:31<1:43:48,  8.52s/it]"
     ]
    },
    {
     "name": "stdout",
     "output_type": "stream",
     "text": [
      "Maximum run count 10 reached for component 'prompt_builder'\n",
      "iter 0 failed, trying again 0/5\n"
     ]
    },
    {
     "name": "stderr",
     "output_type": "stream",
     "text": [
      "error data = 57, error_rate = 2.47:  76%|███████▋  | 2368/3096 [4:05:51<1:20:53,  6.67s/it]"
     ]
    },
    {
     "name": "stdout",
     "output_type": "stream",
     "text": [
      "Maximum run count 10 reached for component 'prompt_builder'\n",
      "iter 0 failed, trying again 0/5\n"
     ]
    },
    {
     "name": "stderr",
     "output_type": "stream",
     "text": [
      "error data = 57, error_rate = 2.46:  77%|███████▋  | 2374/3096 [4:06:07<27:20,  2.27s/it]  "
     ]
    },
    {
     "name": "stdout",
     "output_type": "stream",
     "text": [
      "Maximum run count 10 reached for component 'prompt_builder'\n",
      "iter 0 failed, trying again 0/5\n"
     ]
    },
    {
     "name": "stderr",
     "output_type": "stream",
     "text": [
      "error data = 57, error_rate = 2.45:  77%|███████▋  | 2381/3096 [4:06:26<30:47,  2.58s/it]"
     ]
    },
    {
     "name": "stdout",
     "output_type": "stream",
     "text": [
      "Maximum run count 10 reached for component 'prompt_builder'\n",
      "iter 0 failed, trying again 0/5\n",
      "Maximum run count 10 reached for component 'prompt_builder'\n",
      "iter 1 failed, trying again 1/5\n",
      "Maximum run count 10 reached for component 'prompt_builder'\n",
      "iter 2 failed, trying again 2/5\n"
     ]
    },
    {
     "name": "stderr",
     "output_type": "stream",
     "text": [
      "error data = 57, error_rate = 2.45:  77%|███████▋  | 2382/3096 [4:06:51<1:48:45,  9.14s/it]"
     ]
    },
    {
     "name": "stdout",
     "output_type": "stream",
     "text": [
      "Maximum run count 10 reached for component 'prompt_builder'\n",
      "iter 0 failed, trying again 0/5\n",
      "Maximum run count 10 reached for component 'prompt_builder'\n",
      "iter 1 failed, trying again 1/5\n"
     ]
    },
    {
     "name": "stderr",
     "output_type": "stream",
     "text": [
      "error data = 57, error_rate = 2.45:  77%|███████▋  | 2383/3096 [4:07:11<2:29:41, 12.60s/it]"
     ]
    },
    {
     "name": "stdout",
     "output_type": "stream",
     "text": [
      "Maximum run count 10 reached for component 'prompt_builder'\n",
      "iter 0 failed, trying again 0/5\n"
     ]
    },
    {
     "name": "stderr",
     "output_type": "stream",
     "text": [
      "error data = 57, error_rate = 2.45:  77%|███████▋  | 2385/3096 [4:07:23<1:43:54,  8.77s/it]"
     ]
    },
    {
     "name": "stdout",
     "output_type": "stream",
     "text": [
      "Maximum run count 10 reached for component 'prompt_builder'\n",
      "iter 0 failed, trying again 0/5\n"
     ]
    },
    {
     "name": "stderr",
     "output_type": "stream",
     "text": [
      "error data = 57, error_rate = 2.45:  77%|███████▋  | 2388/3096 [4:07:33<55:56,  4.74s/it]  "
     ]
    },
    {
     "name": "stdout",
     "output_type": "stream",
     "text": [
      "Maximum run count 10 reached for component 'prompt_builder'\n",
      "iter 0 failed, trying again 0/5\n",
      "Maximum run count 10 reached for component 'prompt_builder'\n",
      "iter 1 failed, trying again 1/5\n",
      "Maximum run count 10 reached for component 'prompt_builder'\n",
      "iter 2 failed, trying again 2/5\n",
      "Maximum run count 10 reached for component 'prompt_builder'\n",
      "iter 3 failed, trying again 3/5\n"
     ]
    },
    {
     "name": "stderr",
     "output_type": "stream",
     "text": [
      "error data = 58, error_rate = 2.49:  77%|███████▋  | 2389/3096 [4:08:13<3:00:02, 15.28s/it]"
     ]
    },
    {
     "name": "stdout",
     "output_type": "stream",
     "text": [
      "Maximum run count 10 reached for component 'prompt_builder'\n",
      "iter 4 failed, trying again 4/5\n"
     ]
    },
    {
     "name": "stderr",
     "output_type": "stream",
     "text": [
      "error data = 58, error_rate = 2.49:  77%|███████▋  | 2390/3096 [4:08:14<2:09:38, 11.02s/it]"
     ]
    },
    {
     "name": "stdout",
     "output_type": "stream",
     "text": [
      "Maximum run count 10 reached for component 'prompt_builder'\n",
      "iter 0 failed, trying again 0/5\n"
     ]
    },
    {
     "name": "stderr",
     "output_type": "stream",
     "text": [
      "error data = 58, error_rate = 2.48:  77%|███████▋  | 2395/3096 [4:08:35<53:00,  4.54s/it]  "
     ]
    },
    {
     "name": "stdout",
     "output_type": "stream",
     "text": [
      "Maximum run count 10 reached for component 'prompt_builder'\n",
      "iter 0 failed, trying again 0/5\n"
     ]
    },
    {
     "name": "stderr",
     "output_type": "stream",
     "text": [
      "error data = 58, error_rate = 2.48:  77%|███████▋  | 2398/3096 [4:08:52<56:08,  4.83s/it]  "
     ]
    },
    {
     "name": "stdout",
     "output_type": "stream",
     "text": [
      "Maximum run count 10 reached for component 'prompt_builder'\n",
      "iter 0 failed, trying again 0/5\n"
     ]
    },
    {
     "name": "stderr",
     "output_type": "stream",
     "text": [
      "error data = 58, error_rate = 2.48:  78%|███████▊  | 2400/3096 [4:09:02<54:43,  4.72s/it]  "
     ]
    },
    {
     "name": "stdout",
     "output_type": "stream",
     "text": [
      "Maximum run count 10 reached for component 'prompt_builder'\n",
      "iter 0 failed, trying again 0/5\n"
     ]
    },
    {
     "name": "stderr",
     "output_type": "stream",
     "text": [
      "error data = 58, error_rate = 2.46:  78%|███████▊  | 2411/3096 [4:09:53<53:25,  4.68s/it]  "
     ]
    },
    {
     "name": "stdout",
     "output_type": "stream",
     "text": [
      "Maximum run count 10 reached for component 'prompt_builder'\n",
      "iter 0 failed, trying again 0/5\n"
     ]
    },
    {
     "name": "stderr",
     "output_type": "stream",
     "text": [
      "error data = 58, error_rate = 2.46:  78%|███████▊  | 2413/3096 [4:10:09<1:09:33,  6.11s/it]"
     ]
    },
    {
     "name": "stdout",
     "output_type": "stream",
     "text": [
      "Maximum run count 10 reached for component 'prompt_builder'\n",
      "iter 0 failed, trying again 0/5\n",
      "Maximum run count 10 reached for component 'prompt_builder'\n",
      "iter 1 failed, trying again 1/5\n",
      "Maximum run count 10 reached for component 'prompt_builder'\n",
      "iter 2 failed, trying again 2/5\n"
     ]
    },
    {
     "name": "stderr",
     "output_type": "stream",
     "text": [
      "error data = 58, error_rate = 2.46:  78%|███████▊  | 2418/3096 [4:11:00<1:14:39,  6.61s/it]"
     ]
    },
    {
     "name": "stdout",
     "output_type": "stream",
     "text": [
      "Maximum run count 10 reached for component 'prompt_builder'\n",
      "iter 0 failed, trying again 0/5\n",
      "Maximum run count 10 reached for component 'prompt_builder'\n",
      "iter 1 failed, trying again 1/5\n",
      "Maximum run count 10 reached for component 'prompt_builder'\n",
      "iter 2 failed, trying again 2/5\n",
      "Maximum run count 10 reached for component 'prompt_builder'\n",
      "iter 3 failed, trying again 3/5\n"
     ]
    },
    {
     "name": "stderr",
     "output_type": "stream",
     "text": [
      "error data = 59, error_rate = 2.50:  78%|███████▊  | 2419/3096 [4:11:31<2:37:33, 13.96s/it]"
     ]
    },
    {
     "name": "stdout",
     "output_type": "stream",
     "text": [
      "Maximum run count 10 reached for component 'prompt_builder'\n",
      "iter 4 failed, trying again 4/5\n"
     ]
    },
    {
     "name": "stderr",
     "output_type": "stream",
     "text": [
      "error data = 59, error_rate = 2.50:  78%|███████▊  | 2420/3096 [4:11:32<1:53:35, 10.08s/it]"
     ]
    },
    {
     "name": "stdout",
     "output_type": "stream",
     "text": [
      "Maximum run count 10 reached for component 'prompt_builder'\n",
      "iter 0 failed, trying again 0/5\n",
      "Maximum run count 10 reached for component 'prompt_builder'\n",
      "iter 1 failed, trying again 1/5\n",
      "Maximum run count 10 reached for component 'prompt_builder'\n",
      "iter 2 failed, trying again 2/5\n"
     ]
    },
    {
     "name": "stderr",
     "output_type": "stream",
     "text": [
      "error data = 59, error_rate = 2.49:  78%|███████▊  | 2429/3096 [4:12:16<31:01,  2.79s/it]  "
     ]
    },
    {
     "name": "stdout",
     "output_type": "stream",
     "text": [
      "Maximum run count 10 reached for component 'prompt_builder'\n",
      "iter 0 failed, trying again 0/5\n",
      "Maximum run count 10 reached for component 'prompt_builder'\n",
      "iter 1 failed, trying again 1/5\n",
      "Maximum run count 10 reached for component 'prompt_builder'\n",
      "iter 2 failed, trying again 2/5\n",
      "Maximum run count 10 reached for component 'prompt_builder'\n",
      "iter 3 failed, trying again 3/5\n"
     ]
    },
    {
     "name": "stderr",
     "output_type": "stream",
     "text": [
      "error data = 60, error_rate = 2.53:  78%|███████▊  | 2430/3096 [4:12:53<2:25:40, 13.12s/it]"
     ]
    },
    {
     "name": "stdout",
     "output_type": "stream",
     "text": [
      "Maximum run count 10 reached for component 'prompt_builder'\n",
      "iter 4 failed, trying again 4/5\n"
     ]
    },
    {
     "name": "stderr",
     "output_type": "stream",
     "text": [
      "error data = 60, error_rate = 2.53:  79%|███████▊  | 2435/3096 [4:13:13<54:17,  4.93s/it]  "
     ]
    },
    {
     "name": "stdout",
     "output_type": "stream",
     "text": [
      "Maximum run count 10 reached for component 'prompt_builder'\n",
      "iter 0 failed, trying again 0/5\n",
      "Maximum run count 10 reached for component 'prompt_builder'\n",
      "iter 1 failed, trying again 1/5\n",
      "Maximum run count 10 reached for component 'prompt_builder'\n",
      "iter 2 failed, trying again 2/5\n"
     ]
    },
    {
     "name": "stderr",
     "output_type": "stream",
     "text": [
      "error data = 60, error_rate = 2.51:  79%|███████▉  | 2448/3096 [4:14:22<31:37,  2.93s/it]  "
     ]
    },
    {
     "name": "stdout",
     "output_type": "stream",
     "text": [
      "Maximum run count 10 reached for component 'prompt_builder'\n",
      "iter 0 failed, trying again 0/5\n",
      "Maximum run count 10 reached for component 'prompt_builder'\n",
      "iter 1 failed, trying again 1/5\n"
     ]
    },
    {
     "name": "stderr",
     "output_type": "stream",
     "text": [
      "error data = 60, error_rate = 2.51:  79%|███████▉  | 2449/3096 [4:14:37<1:11:54,  6.67s/it]"
     ]
    },
    {
     "name": "stdout",
     "output_type": "stream",
     "text": [
      "Maximum run count 10 reached for component 'prompt_builder'\n",
      "iter 0 failed, trying again 0/5\n",
      "Maximum run count 10 reached for component 'prompt_builder'\n",
      "iter 1 failed, trying again 1/5\n"
     ]
    },
    {
     "name": "stderr",
     "output_type": "stream",
     "text": [
      "error data = 60, error_rate = 2.51:  79%|███████▉  | 2453/3096 [4:15:09<1:04:24,  6.01s/it]"
     ]
    },
    {
     "name": "stdout",
     "output_type": "stream",
     "text": [
      "Maximum run count 10 reached for component 'prompt_builder'\n",
      "iter 0 failed, trying again 0/5\n",
      "Maximum run count 10 reached for component 'prompt_builder'\n",
      "iter 1 failed, trying again 1/5\n",
      "Maximum run count 10 reached for component 'prompt_builder'\n",
      "iter 2 failed, trying again 2/5\n",
      "Maximum run count 10 reached for component 'prompt_builder'\n",
      "iter 3 failed, trying again 3/5\n"
     ]
    },
    {
     "name": "stderr",
     "output_type": "stream",
     "text": [
      "error data = 60, error_rate = 2.50:  79%|███████▉  | 2458/3096 [4:15:49<57:03,  5.37s/it]  "
     ]
    },
    {
     "name": "stdout",
     "output_type": "stream",
     "text": [
      "Maximum run count 10 reached for component 'prompt_builder'\n",
      "iter 0 failed, trying again 0/5\n",
      "Maximum run count 10 reached for component 'prompt_builder'\n",
      "iter 1 failed, trying again 1/5\n",
      "Maximum run count 10 reached for component 'prompt_builder'\n",
      "iter 2 failed, trying again 2/5\n"
     ]
    },
    {
     "name": "stderr",
     "output_type": "stream",
     "text": [
      "error data = 60, error_rate = 2.50:  79%|███████▉  | 2460/3096 [4:16:18<1:34:50,  8.95s/it]"
     ]
    },
    {
     "name": "stdout",
     "output_type": "stream",
     "text": [
      "Maximum run count 10 reached for component 'prompt_builder'\n",
      "iter 0 failed, trying again 0/5\n",
      "Maximum run count 10 reached for component 'prompt_builder'\n",
      "iter 1 failed, trying again 1/5\n"
     ]
    },
    {
     "name": "stderr",
     "output_type": "stream",
     "text": [
      "error data = 60, error_rate = 2.50:  79%|███████▉  | 2461/3096 [4:16:34<1:56:22, 11.00s/it]"
     ]
    },
    {
     "name": "stdout",
     "output_type": "stream",
     "text": [
      "Maximum run count 10 reached for component 'prompt_builder'\n",
      "iter 0 failed, trying again 0/5\n",
      "Maximum run count 10 reached for component 'prompt_builder'\n",
      "iter 1 failed, trying again 1/5\n"
     ]
    },
    {
     "name": "stderr",
     "output_type": "stream",
     "text": [
      "error data = 60, error_rate = 2.50:  80%|███████▉  | 2462/3096 [4:16:53<2:20:55, 13.34s/it]"
     ]
    },
    {
     "name": "stdout",
     "output_type": "stream",
     "text": [
      "Maximum run count 10 reached for component 'prompt_builder'\n",
      "iter 0 failed, trying again 0/5\n"
     ]
    },
    {
     "name": "stderr",
     "output_type": "stream",
     "text": [
      "error data = 60, error_rate = 2.49:  80%|███████▉  | 2472/3096 [4:17:37<43:50,  4.22s/it]  "
     ]
    },
    {
     "name": "stdout",
     "output_type": "stream",
     "text": [
      "Maximum run count 10 reached for component 'prompt_builder'\n",
      "iter 0 failed, trying again 0/5\n",
      "Maximum run count 10 reached for component 'prompt_builder'\n",
      "iter 1 failed, trying again 1/5\n"
     ]
    },
    {
     "name": "stderr",
     "output_type": "stream",
     "text": [
      "error data = 60, error_rate = 2.49:  80%|███████▉  | 2473/3096 [4:17:55<1:26:27,  8.33s/it]"
     ]
    },
    {
     "name": "stdout",
     "output_type": "stream",
     "text": [
      "Maximum run count 10 reached for component 'prompt_builder'\n",
      "iter 0 failed, trying again 0/5\n"
     ]
    },
    {
     "name": "stderr",
     "output_type": "stream",
     "text": [
      "error data = 60, error_rate = 2.48:  80%|███████▉  | 2475/3096 [4:18:07<1:08:00,  6.57s/it]"
     ]
    },
    {
     "name": "stdout",
     "output_type": "stream",
     "text": [
      "Maximum run count 10 reached for component 'prompt_builder'\n",
      "iter 0 failed, trying again 0/5\n",
      "Maximum run count 10 reached for component 'prompt_builder'\n",
      "iter 1 failed, trying again 1/5\n"
     ]
    },
    {
     "name": "stderr",
     "output_type": "stream",
     "text": [
      "error data = 60, error_rate = 2.48:  80%|███████▉  | 2476/3096 [4:18:23<1:40:04,  9.68s/it]"
     ]
    },
    {
     "name": "stdout",
     "output_type": "stream",
     "text": [
      "Maximum run count 10 reached for component 'prompt_builder'\n",
      "iter 0 failed, trying again 0/5\n"
     ]
    },
    {
     "name": "stderr",
     "output_type": "stream",
     "text": [
      "error data = 60, error_rate = 2.48:  80%|████████  | 2478/3096 [4:18:36<1:17:34,  7.53s/it]"
     ]
    },
    {
     "name": "stdout",
     "output_type": "stream",
     "text": [
      "Maximum run count 10 reached for component 'prompt_builder'\n",
      "iter 0 failed, trying again 0/5\n",
      "Maximum run count 10 reached for component 'prompt_builder'\n",
      "iter 1 failed, trying again 1/5\n",
      "Maximum run count 10 reached for component 'prompt_builder'\n",
      "iter 2 failed, trying again 2/5\n",
      "Maximum run count 10 reached for component 'prompt_builder'\n",
      "iter 3 failed, trying again 3/5\n"
     ]
    },
    {
     "name": "stderr",
     "output_type": "stream",
     "text": [
      "error data = 61, error_rate = 2.52:  80%|████████  | 2479/3096 [4:19:17<2:59:18, 17.44s/it]"
     ]
    },
    {
     "name": "stdout",
     "output_type": "stream",
     "text": [
      "Maximum run count 10 reached for component 'prompt_builder'\n",
      "iter 4 failed, trying again 4/5\n"
     ]
    },
    {
     "name": "stderr",
     "output_type": "stream",
     "text": [
      "error data = 61, error_rate = 2.52:  80%|████████  | 2481/3096 [4:19:23<1:44:29, 10.19s/it]"
     ]
    },
    {
     "name": "stdout",
     "output_type": "stream",
     "text": [
      "Maximum run count 10 reached for component 'prompt_builder'\n",
      "iter 0 failed, trying again 0/5\n",
      "Maximum run count 10 reached for component 'prompt_builder'\n",
      "iter 1 failed, trying again 1/5\n"
     ]
    },
    {
     "name": "stderr",
     "output_type": "stream",
     "text": [
      "error data = 61, error_rate = 2.52:  80%|████████  | 2485/3096 [4:19:48<1:04:06,  6.30s/it]"
     ]
    },
    {
     "name": "stdout",
     "output_type": "stream",
     "text": [
      "Maximum run count 10 reached for component 'prompt_builder'\n",
      "iter 0 failed, trying again 0/5\n",
      "Maximum run count 10 reached for component 'prompt_builder'\n",
      "iter 1 failed, trying again 1/5\n",
      "Maximum run count 10 reached for component 'prompt_builder'\n",
      "iter 2 failed, trying again 2/5\n",
      "Maximum run count 10 reached for component 'prompt_builder'\n",
      "iter 3 failed, trying again 3/5\n"
     ]
    },
    {
     "name": "stderr",
     "output_type": "stream",
     "text": [
      "error data = 62, error_rate = 2.56:  80%|████████  | 2486/3096 [4:20:28<2:49:30, 16.67s/it]"
     ]
    },
    {
     "name": "stdout",
     "output_type": "stream",
     "text": [
      "Maximum run count 10 reached for component 'prompt_builder'\n",
      "iter 4 failed, trying again 4/5\n"
     ]
    },
    {
     "name": "stderr",
     "output_type": "stream",
     "text": [
      "error data = 62, error_rate = 2.56:  80%|████████  | 2488/3096 [4:20:31<1:29:43,  8.85s/it]"
     ]
    },
    {
     "name": "stdout",
     "output_type": "stream",
     "text": [
      "Maximum run count 10 reached for component 'prompt_builder'\n",
      "iter 0 failed, trying again 0/5\n",
      "Maximum run count 10 reached for component 'prompt_builder'\n",
      "iter 1 failed, trying again 1/5\n",
      "Maximum run count 10 reached for component 'prompt_builder'\n",
      "iter 2 failed, trying again 2/5\n",
      "Maximum run count 10 reached for component 'prompt_builder'\n",
      "iter 3 failed, trying again 3/5\n"
     ]
    },
    {
     "name": "stderr",
     "output_type": "stream",
     "text": [
      "error data = 63, error_rate = 2.60:  80%|████████  | 2489/3096 [4:21:22<3:38:27, 21.59s/it]"
     ]
    },
    {
     "name": "stdout",
     "output_type": "stream",
     "text": [
      "Maximum run count 10 reached for component 'prompt_builder'\n",
      "iter 4 failed, trying again 4/5\n"
     ]
    },
    {
     "name": "stderr",
     "output_type": "stream",
     "text": [
      "error data = 63, error_rate = 2.59:  81%|████████  | 2495/3096 [4:21:38<45:41,  4.56s/it]  "
     ]
    },
    {
     "name": "stdout",
     "output_type": "stream",
     "text": [
      "Maximum run count 10 reached for component 'prompt_builder'\n",
      "iter 0 failed, trying again 0/5\n",
      "Maximum run count 10 reached for component 'prompt_builder'\n",
      "iter 1 failed, trying again 1/5\n"
     ]
    },
    {
     "name": "stderr",
     "output_type": "stream",
     "text": [
      "error data = 63, error_rate = 2.59:  81%|████████  | 2498/3096 [4:22:07<1:01:18,  6.15s/it]"
     ]
    },
    {
     "name": "stdout",
     "output_type": "stream",
     "text": [
      "Maximum run count 10 reached for component 'prompt_builder'\n",
      "iter 0 failed, trying again 0/5\n"
     ]
    },
    {
     "name": "stderr",
     "output_type": "stream",
     "text": [
      "error data = 63, error_rate = 2.58:  81%|████████  | 2502/3096 [4:22:32<54:38,  5.52s/it]  "
     ]
    },
    {
     "name": "stdout",
     "output_type": "stream",
     "text": [
      "Maximum run count 10 reached for component 'prompt_builder'\n",
      "iter 0 failed, trying again 0/5\n",
      "Maximum run count 10 reached for component 'prompt_builder'\n",
      "iter 1 failed, trying again 1/5\n",
      "Maximum run count 10 reached for component 'prompt_builder'\n",
      "iter 2 failed, trying again 2/5\n"
     ]
    },
    {
     "name": "stderr",
     "output_type": "stream",
     "text": [
      "error data = 63, error_rate = 2.58:  81%|████████  | 2504/3096 [4:23:08<1:47:48, 10.93s/it]"
     ]
    },
    {
     "name": "stdout",
     "output_type": "stream",
     "text": [
      "Maximum run count 10 reached for component 'prompt_builder'\n",
      "iter 0 failed, trying again 0/5\n",
      "Maximum run count 10 reached for component 'prompt_builder'\n",
      "iter 1 failed, trying again 1/5\n",
      "Maximum run count 10 reached for component 'prompt_builder'\n",
      "iter 2 failed, trying again 2/5\n"
     ]
    },
    {
     "name": "stderr",
     "output_type": "stream",
     "text": [
      "error data = 63, error_rate = 2.57:  81%|████████  | 2511/3096 [4:23:54<49:37,  5.09s/it]  "
     ]
    },
    {
     "name": "stdout",
     "output_type": "stream",
     "text": [
      "Maximum run count 10 reached for component 'prompt_builder'\n",
      "iter 0 failed, trying again 0/5\n",
      "Maximum run count 10 reached for component 'prompt_builder'\n",
      "iter 1 failed, trying again 1/5\n",
      "Maximum run count 10 reached for component 'prompt_builder'\n",
      "iter 2 failed, trying again 2/5\n"
     ]
    },
    {
     "name": "stderr",
     "output_type": "stream",
     "text": [
      "error data = 63, error_rate = 2.57:  81%|████████  | 2513/3096 [4:24:25<1:30:24,  9.31s/it]"
     ]
    },
    {
     "name": "stdout",
     "output_type": "stream",
     "text": [
      "Maximum run count 10 reached for component 'prompt_builder'\n",
      "iter 0 failed, trying again 0/5\n",
      "Maximum run count 10 reached for component 'prompt_builder'\n",
      "iter 1 failed, trying again 1/5\n",
      "Maximum run count 10 reached for component 'prompt_builder'\n",
      "iter 2 failed, trying again 2/5\n",
      "Maximum run count 10 reached for component 'prompt_builder'\n",
      "iter 3 failed, trying again 3/5\n"
     ]
    },
    {
     "name": "stderr",
     "output_type": "stream",
     "text": [
      "error data = 64, error_rate = 2.61:  81%|████████  | 2514/3096 [4:25:02<2:49:58, 17.52s/it]"
     ]
    },
    {
     "name": "stdout",
     "output_type": "stream",
     "text": [
      "Maximum run count 10 reached for component 'prompt_builder'\n",
      "iter 4 failed, trying again 4/5\n"
     ]
    },
    {
     "name": "stderr",
     "output_type": "stream",
     "text": [
      "error data = 64, error_rate = 2.61:  81%|████████  | 2515/3096 [4:25:05<2:07:41, 13.19s/it]"
     ]
    },
    {
     "name": "stdout",
     "output_type": "stream",
     "text": [
      "Maximum run count 10 reached for component 'prompt_builder'\n",
      "iter 0 failed, trying again 0/5\n"
     ]
    },
    {
     "name": "stderr",
     "output_type": "stream",
     "text": [
      "error data = 64, error_rate = 2.61:  81%|████████▏ | 2518/3096 [4:25:20<1:11:13,  7.39s/it]"
     ]
    },
    {
     "name": "stdout",
     "output_type": "stream",
     "text": [
      "Maximum run count 10 reached for component 'prompt_builder'\n",
      "iter 0 failed, trying again 0/5\n",
      "Maximum run count 10 reached for component 'prompt_builder'\n",
      "iter 1 failed, trying again 1/5\n",
      "Maximum run count 10 reached for component 'prompt_builder'\n",
      "iter 2 failed, trying again 2/5\n"
     ]
    },
    {
     "name": "stderr",
     "output_type": "stream",
     "text": [
      "error data = 64, error_rate = 2.60:  81%|████████▏ | 2523/3096 [4:26:09<1:12:03,  7.55s/it]"
     ]
    },
    {
     "name": "stdout",
     "output_type": "stream",
     "text": [
      "Maximum run count 10 reached for component 'prompt_builder'\n",
      "iter 0 failed, trying again 0/5\n"
     ]
    },
    {
     "name": "stderr",
     "output_type": "stream",
     "text": [
      "error data = 64, error_rate = 2.60:  82%|████████▏ | 2528/3096 [4:26:32<40:06,  4.24s/it]  "
     ]
    },
    {
     "name": "stdout",
     "output_type": "stream",
     "text": [
      "Maximum run count 10 reached for component 'prompt_builder'\n",
      "iter 0 failed, trying again 0/5\n"
     ]
    },
    {
     "name": "stderr",
     "output_type": "stream",
     "text": [
      "error data = 64, error_rate = 2.59:  82%|████████▏ | 2533/3096 [4:26:48<24:12,  2.58s/it]"
     ]
    },
    {
     "name": "stdout",
     "output_type": "stream",
     "text": [
      "Maximum run count 10 reached for component 'prompt_builder'\n",
      "iter 0 failed, trying again 0/5\n",
      "Maximum run count 10 reached for component 'prompt_builder'\n",
      "iter 1 failed, trying again 1/5\n",
      "Maximum run count 10 reached for component 'prompt_builder'\n",
      "iter 2 failed, trying again 2/5\n"
     ]
    },
    {
     "name": "stderr",
     "output_type": "stream",
     "text": [
      "error data = 64, error_rate = 2.59:  82%|████████▏ | 2534/3096 [4:27:25<2:00:56, 12.91s/it]"
     ]
    },
    {
     "name": "stdout",
     "output_type": "stream",
     "text": [
      "Maximum run count 10 reached for component 'prompt_builder'\n",
      "iter 0 failed, trying again 0/5\n"
     ]
    },
    {
     "name": "stderr",
     "output_type": "stream",
     "text": [
      "error data = 64, error_rate = 2.59:  82%|████████▏ | 2537/3096 [4:27:44<1:12:35,  7.79s/it]"
     ]
    },
    {
     "name": "stdout",
     "output_type": "stream",
     "text": [
      "Maximum run count 10 reached for component 'prompt_builder'\n",
      "iter 0 failed, trying again 0/5\n"
     ]
    },
    {
     "name": "stderr",
     "output_type": "stream",
     "text": [
      "error data = 64, error_rate = 2.59:  82%|████████▏ | 2538/3096 [4:27:49<1:03:44,  6.85s/it]"
     ]
    },
    {
     "name": "stdout",
     "output_type": "stream",
     "text": [
      "Maximum run count 10 reached for component 'prompt_builder'\n",
      "iter 0 failed, trying again 0/5\n",
      "Maximum run count 10 reached for component 'prompt_builder'\n",
      "iter 1 failed, trying again 1/5\n"
     ]
    },
    {
     "name": "stderr",
     "output_type": "stream",
     "text": [
      "error data = 64, error_rate = 2.58:  82%|████████▏ | 2544/3096 [4:28:18<34:51,  3.79s/it]  "
     ]
    },
    {
     "name": "stdout",
     "output_type": "stream",
     "text": [
      "Maximum run count 10 reached for component 'prompt_builder'\n",
      "iter 0 failed, trying again 0/5\n",
      "Maximum run count 10 reached for component 'prompt_builder'\n",
      "iter 1 failed, trying again 1/5\n"
     ]
    },
    {
     "name": "stderr",
     "output_type": "stream",
     "text": [
      "error data = 64, error_rate = 2.58:  82%|████████▏ | 2546/3096 [4:28:44<1:09:32,  7.59s/it]"
     ]
    },
    {
     "name": "stdout",
     "output_type": "stream",
     "text": [
      "Maximum run count 10 reached for component 'prompt_builder'\n",
      "iter 0 failed, trying again 0/5\n"
     ]
    },
    {
     "name": "stderr",
     "output_type": "stream",
     "text": [
      "error data = 64, error_rate = 2.57:  83%|████████▎ | 2557/3096 [4:29:40<41:22,  4.61s/it]  "
     ]
    },
    {
     "name": "stdout",
     "output_type": "stream",
     "text": [
      "Maximum run count 10 reached for component 'prompt_builder'\n",
      "iter 0 failed, trying again 0/5\n"
     ]
    },
    {
     "name": "stderr",
     "output_type": "stream",
     "text": [
      "error data = 64, error_rate = 2.56:  83%|████████▎ | 2563/3096 [4:30:12<40:50,  4.60s/it]"
     ]
    },
    {
     "name": "stdout",
     "output_type": "stream",
     "text": [
      "Maximum run count 10 reached for component 'prompt_builder'\n",
      "iter 0 failed, trying again 0/5\n",
      "Maximum run count 10 reached for component 'prompt_builder'\n",
      "iter 1 failed, trying again 1/5\n",
      "Maximum run count 10 reached for component 'prompt_builder'\n",
      "iter 2 failed, trying again 2/5\n",
      "Maximum run count 10 reached for component 'prompt_builder'\n",
      "iter 3 failed, trying again 3/5\n"
     ]
    },
    {
     "name": "stderr",
     "output_type": "stream",
     "text": [
      "error data = 65, error_rate = 2.60:  83%|████████▎ | 2564/3096 [4:30:48<2:04:51, 14.08s/it]"
     ]
    },
    {
     "name": "stdout",
     "output_type": "stream",
     "text": [
      "Maximum run count 10 reached for component 'prompt_builder'\n",
      "iter 4 failed, trying again 4/5\n",
      "Maximum run count 10 reached for component 'prompt_builder'\n",
      "iter 0 failed, trying again 0/5\n"
     ]
    },
    {
     "name": "stderr",
     "output_type": "stream",
     "text": [
      "error data = 65, error_rate = 2.60:  83%|████████▎ | 2568/3096 [4:31:00<44:48,  5.09s/it]  "
     ]
    },
    {
     "name": "stdout",
     "output_type": "stream",
     "text": [
      "Maximum run count 10 reached for component 'prompt_builder'\n",
      "iter 0 failed, trying again 0/5\n"
     ]
    },
    {
     "name": "stderr",
     "output_type": "stream",
     "text": [
      "error data = 65, error_rate = 2.59:  83%|████████▎ | 2570/3096 [4:31:13<51:11,  5.84s/it]"
     ]
    },
    {
     "name": "stdout",
     "output_type": "stream",
     "text": [
      "Maximum run count 10 reached for component 'prompt_builder'\n",
      "iter 0 failed, trying again 0/5\n",
      "Maximum run count 10 reached for component 'prompt_builder'\n",
      "iter 1 failed, trying again 1/5\n"
     ]
    },
    {
     "name": "stderr",
     "output_type": "stream",
     "text": [
      "error data = 65, error_rate = 2.59:  83%|████████▎ | 2575/3096 [4:31:39<30:51,  3.55s/it]  "
     ]
    },
    {
     "name": "stdout",
     "output_type": "stream",
     "text": [
      "Maximum run count 10 reached for component 'prompt_builder'\n",
      "iter 0 failed, trying again 0/5\n",
      "Maximum run count 10 reached for component 'prompt_builder'\n",
      "iter 1 failed, trying again 1/5\n",
      "Maximum run count 10 reached for component 'prompt_builder'\n",
      "iter 2 failed, trying again 2/5\n",
      "Maximum run count 10 reached for component 'prompt_builder'\n",
      "iter 3 failed, trying again 3/5\n"
     ]
    },
    {
     "name": "stderr",
     "output_type": "stream",
     "text": [
      "error data = 65, error_rate = 2.58:  83%|████████▎ | 2580/3096 [4:32:24<48:07,  5.60s/it]  "
     ]
    },
    {
     "name": "stdout",
     "output_type": "stream",
     "text": [
      "Maximum run count 10 reached for component 'prompt_builder'\n",
      "iter 0 failed, trying again 0/5\n",
      "Maximum run count 10 reached for component 'prompt_builder'\n",
      "iter 1 failed, trying again 1/5\n",
      "Maximum run count 10 reached for component 'prompt_builder'\n",
      "iter 2 failed, trying again 2/5\n"
     ]
    },
    {
     "name": "stderr",
     "output_type": "stream",
     "text": [
      "error data = 65, error_rate = 2.58:  83%|████████▎ | 2581/3096 [4:32:48<1:36:30, 11.24s/it]"
     ]
    },
    {
     "name": "stdout",
     "output_type": "stream",
     "text": [
      "Maximum run count 10 reached for component 'prompt_builder'\n",
      "iter 0 failed, trying again 0/5\n",
      "Maximum run count 10 reached for component 'prompt_builder'\n",
      "iter 1 failed, trying again 1/5\n",
      "Maximum run count 10 reached for component 'prompt_builder'\n",
      "iter 2 failed, trying again 2/5\n"
     ]
    },
    {
     "name": "stderr",
     "output_type": "stream",
     "text": [
      "error data = 65, error_rate = 2.58:  83%|████████▎ | 2582/3096 [4:33:08<1:56:42, 13.62s/it]"
     ]
    },
    {
     "name": "stdout",
     "output_type": "stream",
     "text": [
      "Maximum run count 10 reached for component 'prompt_builder'\n",
      "iter 0 failed, trying again 0/5\n"
     ]
    },
    {
     "name": "stderr",
     "output_type": "stream",
     "text": [
      "error data = 65, error_rate = 2.58:  83%|████████▎ | 2584/3096 [4:33:22<1:24:57,  9.96s/it]"
     ]
    },
    {
     "name": "stdout",
     "output_type": "stream",
     "text": [
      "Maximum run count 10 reached for component 'prompt_builder'\n",
      "iter 0 failed, trying again 0/5\n"
     ]
    },
    {
     "name": "stderr",
     "output_type": "stream",
     "text": [
      "error data = 65, error_rate = 2.58:  83%|████████▎ | 2585/3096 [4:33:33<1:27:09, 10.23s/it]"
     ]
    },
    {
     "name": "stdout",
     "output_type": "stream",
     "text": [
      "Maximum run count 10 reached for component 'prompt_builder'\n",
      "iter 0 failed, trying again 0/5\n"
     ]
    },
    {
     "name": "stderr",
     "output_type": "stream",
     "text": [
      "error data = 65, error_rate = 2.58:  84%|████████▎ | 2586/3096 [4:33:44<1:28:30, 10.41s/it]"
     ]
    },
    {
     "name": "stdout",
     "output_type": "stream",
     "text": [
      "Maximum run count 10 reached for component 'prompt_builder'\n",
      "iter 0 failed, trying again 0/5\n"
     ]
    },
    {
     "name": "stderr",
     "output_type": "stream",
     "text": [
      "error data = 65, error_rate = 2.57:  84%|████████▎ | 2590/3096 [4:34:02<50:33,  6.00s/it]  "
     ]
    },
    {
     "name": "stdout",
     "output_type": "stream",
     "text": [
      "Maximum run count 10 reached for component 'prompt_builder'\n",
      "iter 0 failed, trying again 0/5\n",
      "Maximum run count 10 reached for component 'prompt_builder'\n",
      "iter 1 failed, trying again 1/5\n",
      "Maximum run count 10 reached for component 'prompt_builder'\n",
      "iter 2 failed, trying again 2/5\n"
     ]
    },
    {
     "name": "stderr",
     "output_type": "stream",
     "text": [
      "error data = 65, error_rate = 2.57:  84%|████████▍ | 2596/3096 [4:34:47<38:46,  4.65s/it]  "
     ]
    },
    {
     "name": "stdout",
     "output_type": "stream",
     "text": [
      "Maximum run count 10 reached for component 'prompt_builder'\n",
      "iter 0 failed, trying again 0/5\n",
      "Maximum run count 10 reached for component 'prompt_builder'\n",
      "iter 1 failed, trying again 1/5\n",
      "Maximum run count 10 reached for component 'prompt_builder'\n",
      "iter 2 failed, trying again 2/5\n"
     ]
    },
    {
     "name": "stderr",
     "output_type": "stream",
     "text": [
      "error data = 65, error_rate = 2.57:  84%|████████▍ | 2598/3096 [4:35:28<1:34:52, 11.43s/it]"
     ]
    },
    {
     "name": "stdout",
     "output_type": "stream",
     "text": [
      "Maximum run count 10 reached for component 'prompt_builder'\n",
      "iter 0 failed, trying again 0/5\n"
     ]
    },
    {
     "name": "stderr",
     "output_type": "stream",
     "text": [
      "error data = 65, error_rate = 2.57:  84%|████████▍ | 2599/3096 [4:35:37<1:26:59, 10.50s/it]"
     ]
    },
    {
     "name": "stdout",
     "output_type": "stream",
     "text": [
      "Maximum run count 10 reached for component 'prompt_builder'\n",
      "iter 0 failed, trying again 0/5\n",
      "Maximum run count 10 reached for component 'prompt_builder'\n",
      "iter 1 failed, trying again 1/5\n"
     ]
    },
    {
     "name": "stderr",
     "output_type": "stream",
     "text": [
      "error data = 65, error_rate = 2.56:  84%|████████▍ | 2605/3096 [4:36:02<29:56,  3.66s/it]  "
     ]
    },
    {
     "name": "stdout",
     "output_type": "stream",
     "text": [
      "Maximum run count 10 reached for component 'prompt_builder'\n",
      "iter 0 failed, trying again 0/5\n",
      "Maximum run count 10 reached for component 'prompt_builder'\n",
      "iter 1 failed, trying again 1/5\n",
      "Maximum run count 10 reached for component 'prompt_builder'\n",
      "iter 2 failed, trying again 2/5\n"
     ]
    },
    {
     "name": "stderr",
     "output_type": "stream",
     "text": [
      "error data = 65, error_rate = 2.56:  84%|████████▍ | 2606/3096 [4:36:36<1:42:43, 12.58s/it]"
     ]
    },
    {
     "name": "stdout",
     "output_type": "stream",
     "text": [
      "Maximum run count 10 reached for component 'prompt_builder'\n",
      "iter 0 failed, trying again 0/5\n",
      "Maximum run count 10 reached for component 'prompt_builder'\n",
      "iter 1 failed, trying again 1/5\n",
      "Maximum run count 10 reached for component 'prompt_builder'\n",
      "iter 2 failed, trying again 2/5\n",
      "Maximum run count 10 reached for component 'prompt_builder'\n",
      "iter 3 failed, trying again 3/5\n"
     ]
    },
    {
     "name": "stderr",
     "output_type": "stream",
     "text": [
      "error data = 66, error_rate = 2.60:  84%|████████▍ | 2607/3096 [4:37:08<2:32:11, 18.67s/it]"
     ]
    },
    {
     "name": "stdout",
     "output_type": "stream",
     "text": [
      "Maximum run count 10 reached for component 'prompt_builder'\n",
      "iter 4 failed, trying again 4/5\n"
     ]
    },
    {
     "name": "stderr",
     "output_type": "stream",
     "text": [
      "error data = 66, error_rate = 2.60:  84%|████████▍ | 2608/3096 [4:37:10<1:50:20, 13.57s/it]"
     ]
    },
    {
     "name": "stdout",
     "output_type": "stream",
     "text": [
      "Maximum run count 10 reached for component 'prompt_builder'\n",
      "iter 0 failed, trying again 0/5\n",
      "Maximum run count 10 reached for component 'prompt_builder'\n",
      "iter 1 failed, trying again 1/5\n",
      "Maximum run count 10 reached for component 'prompt_builder'\n",
      "iter 2 failed, trying again 2/5\n"
     ]
    },
    {
     "name": "stderr",
     "output_type": "stream",
     "text": [
      "error data = 66, error_rate = 2.59:  84%|████████▍ | 2610/3096 [4:37:42<1:51:13, 13.73s/it]"
     ]
    },
    {
     "name": "stdout",
     "output_type": "stream",
     "text": [
      "Maximum run count 10 reached for component 'prompt_builder'\n",
      "iter 0 failed, trying again 0/5\n",
      "Maximum run count 10 reached for component 'prompt_builder'\n",
      "iter 1 failed, trying again 1/5\n",
      "Maximum run count 10 reached for component 'prompt_builder'\n",
      "iter 2 failed, trying again 2/5\n"
     ]
    },
    {
     "name": "stderr",
     "output_type": "stream",
     "text": [
      "error data = 66, error_rate = 2.59:  84%|████████▍ | 2612/3096 [4:38:10<1:42:10, 12.67s/it]"
     ]
    },
    {
     "name": "stdout",
     "output_type": "stream",
     "text": [
      "Maximum run count 10 reached for component 'prompt_builder'\n",
      "iter 0 failed, trying again 0/5\n",
      "Maximum run count 10 reached for component 'prompt_builder'\n",
      "iter 1 failed, trying again 1/5\n"
     ]
    },
    {
     "name": "stderr",
     "output_type": "stream",
     "text": [
      "error data = 66, error_rate = 2.59:  84%|████████▍ | 2616/3096 [4:38:37<55:53,  6.99s/it]  "
     ]
    },
    {
     "name": "stdout",
     "output_type": "stream",
     "text": [
      "Maximum run count 10 reached for component 'prompt_builder'\n",
      "iter 0 failed, trying again 0/5\n"
     ]
    },
    {
     "name": "stderr",
     "output_type": "stream",
     "text": [
      "error data = 66, error_rate = 2.58:  85%|████████▍ | 2628/3096 [4:39:15<23:15,  2.98s/it]"
     ]
    },
    {
     "name": "stdout",
     "output_type": "stream",
     "text": [
      "Maximum run count 10 reached for component 'prompt_builder'\n",
      "iter 0 failed, trying again 0/5\n",
      "Maximum run count 10 reached for component 'prompt_builder'\n",
      "iter 1 failed, trying again 1/5\n",
      "Maximum run count 10 reached for component 'prompt_builder'\n",
      "iter 2 failed, trying again 2/5\n"
     ]
    },
    {
     "name": "stderr",
     "output_type": "stream",
     "text": [
      "error data = 66, error_rate = 2.57:  85%|████████▍ | 2631/3096 [4:39:48<53:02,  6.84s/it]  "
     ]
    },
    {
     "name": "stdout",
     "output_type": "stream",
     "text": [
      "Maximum run count 10 reached for component 'prompt_builder'\n",
      "iter 0 failed, trying again 0/5\n"
     ]
    },
    {
     "name": "stderr",
     "output_type": "stream",
     "text": [
      "error data = 66, error_rate = 2.56:  85%|████████▌ | 2641/3096 [4:40:25<22:16,  2.94s/it]  "
     ]
    },
    {
     "name": "stdout",
     "output_type": "stream",
     "text": [
      "Maximum run count 10 reached for component 'prompt_builder'\n",
      "iter 0 failed, trying again 0/5\n",
      "Maximum run count 10 reached for component 'prompt_builder'\n",
      "iter 1 failed, trying again 1/5\n"
     ]
    },
    {
     "name": "stderr",
     "output_type": "stream",
     "text": [
      "error data = 66, error_rate = 2.56:  85%|████████▌ | 2645/3096 [4:40:47<29:20,  3.90s/it]"
     ]
    },
    {
     "name": "stdout",
     "output_type": "stream",
     "text": [
      "Maximum run count 10 reached for component 'prompt_builder'\n",
      "iter 0 failed, trying again 0/5\n"
     ]
    },
    {
     "name": "stderr",
     "output_type": "stream",
     "text": [
      "error data = 66, error_rate = 2.56:  85%|████████▌ | 2646/3096 [4:41:02<55:20,  7.38s/it]"
     ]
    },
    {
     "name": "stdout",
     "output_type": "stream",
     "text": [
      "Maximum run count 10 reached for component 'prompt_builder'\n",
      "iter 0 failed, trying again 0/5\n",
      "Maximum run count 10 reached for component 'prompt_builder'\n",
      "iter 1 failed, trying again 1/5\n",
      "Maximum run count 10 reached for component 'prompt_builder'\n",
      "iter 2 failed, trying again 2/5\n",
      "Maximum run count 10 reached for component 'prompt_builder'\n",
      "iter 3 failed, trying again 3/5\n"
     ]
    },
    {
     "name": "stderr",
     "output_type": "stream",
     "text": [
      "error data = 67, error_rate = 2.60:  85%|████████▌ | 2647/3096 [4:41:34<1:50:37, 14.78s/it]"
     ]
    },
    {
     "name": "stdout",
     "output_type": "stream",
     "text": [
      "Maximum run count 10 reached for component 'prompt_builder'\n",
      "iter 4 failed, trying again 4/5\n",
      "Maximum run count 10 reached for component 'prompt_builder'\n",
      "iter 0 failed, trying again 0/5\n",
      "Maximum run count 10 reached for component 'prompt_builder'\n",
      "iter 1 failed, trying again 1/5\n",
      "Maximum run count 10 reached for component 'prompt_builder'\n",
      "iter 2 failed, trying again 2/5\n",
      "Maximum run count 10 reached for component 'prompt_builder'\n",
      "iter 3 failed, trying again 3/5\n"
     ]
    },
    {
     "name": "stderr",
     "output_type": "stream",
     "text": [
      "error data = 67, error_rate = 2.59:  86%|████████▌ | 2649/3096 [4:42:10<1:50:44, 14.86s/it]"
     ]
    },
    {
     "name": "stdout",
     "output_type": "stream",
     "text": [
      "Maximum run count 10 reached for component 'prompt_builder'\n",
      "iter 0 failed, trying again 0/5\n"
     ]
    },
    {
     "name": "stderr",
     "output_type": "stream",
     "text": [
      "error data = 67, error_rate = 2.59:  86%|████████▌ | 2650/3096 [4:42:18<1:36:37, 13.00s/it]"
     ]
    },
    {
     "name": "stdout",
     "output_type": "stream",
     "text": [
      "Maximum run count 10 reached for component 'prompt_builder'\n",
      "iter 0 failed, trying again 0/5\n",
      "Maximum run count 10 reached for component 'prompt_builder'\n",
      "iter 1 failed, trying again 1/5\n",
      "Maximum run count 10 reached for component 'prompt_builder'\n",
      "iter 2 failed, trying again 2/5\n",
      "Maximum run count 10 reached for component 'prompt_builder'\n",
      "iter 3 failed, trying again 3/5\n"
     ]
    },
    {
     "name": "stderr",
     "output_type": "stream",
     "text": [
      "error data = 67, error_rate = 2.58:  86%|████████▌ | 2660/3096 [4:43:27<42:54,  5.91s/it]  "
     ]
    },
    {
     "name": "stdout",
     "output_type": "stream",
     "text": [
      "Maximum run count 10 reached for component 'prompt_builder'\n",
      "iter 0 failed, trying again 0/5\n",
      "Maximum run count 10 reached for component 'prompt_builder'\n",
      "iter 1 failed, trying again 1/5\n",
      "Maximum run count 10 reached for component 'prompt_builder'\n",
      "iter 2 failed, trying again 2/5\n",
      "Maximum run count 10 reached for component 'prompt_builder'\n",
      "iter 3 failed, trying again 3/5\n"
     ]
    },
    {
     "name": "stderr",
     "output_type": "stream",
     "text": [
      "error data = 68, error_rate = 2.62:  86%|████████▌ | 2661/3096 [4:43:55<1:29:49, 12.39s/it]"
     ]
    },
    {
     "name": "stdout",
     "output_type": "stream",
     "text": [
      "Maximum run count 10 reached for component 'prompt_builder'\n",
      "iter 4 failed, trying again 4/5\n"
     ]
    },
    {
     "name": "stderr",
     "output_type": "stream",
     "text": [
      "error data = 68, error_rate = 2.62:  86%|████████▌ | 2667/3096 [4:44:17<30:37,  4.28s/it]  "
     ]
    },
    {
     "name": "stdout",
     "output_type": "stream",
     "text": [
      "Maximum run count 10 reached for component 'prompt_builder'\n",
      "iter 0 failed, trying again 0/5\n"
     ]
    },
    {
     "name": "stderr",
     "output_type": "stream",
     "text": [
      "error data = 68, error_rate = 2.61:  86%|████████▌ | 2670/3096 [4:44:44<51:22,  7.23s/it]"
     ]
    },
    {
     "name": "stdout",
     "output_type": "stream",
     "text": [
      "Maximum run count 10 reached for component 'prompt_builder'\n",
      "iter 0 failed, trying again 0/5\n"
     ]
    },
    {
     "name": "stderr",
     "output_type": "stream",
     "text": [
      "error data = 68, error_rate = 2.61:  86%|████████▋ | 2672/3096 [4:45:05<1:04:54,  9.18s/it]"
     ]
    },
    {
     "name": "stdout",
     "output_type": "stream",
     "text": [
      "Maximum run count 10 reached for component 'prompt_builder'\n",
      "iter 0 failed, trying again 0/5\n",
      "Maximum run count 10 reached for component 'prompt_builder'\n",
      "iter 1 failed, trying again 1/5\n"
     ]
    },
    {
     "name": "stderr",
     "output_type": "stream",
     "text": [
      "error data = 68, error_rate = 2.61:  86%|████████▋ | 2675/3096 [4:45:27<45:46,  6.52s/it]  "
     ]
    },
    {
     "name": "stdout",
     "output_type": "stream",
     "text": [
      "Maximum run count 10 reached for component 'prompt_builder'\n",
      "iter 0 failed, trying again 0/5\n"
     ]
    },
    {
     "name": "stderr",
     "output_type": "stream",
     "text": [
      "error data = 68, error_rate = 2.61:  86%|████████▋ | 2677/3096 [4:45:40<43:29,  6.23s/it]"
     ]
    },
    {
     "name": "stdout",
     "output_type": "stream",
     "text": [
      "Maximum run count 10 reached for component 'prompt_builder'\n",
      "iter 0 failed, trying again 0/5\n",
      "Maximum run count 10 reached for component 'prompt_builder'\n",
      "iter 1 failed, trying again 1/5\n",
      "Maximum run count 10 reached for component 'prompt_builder'\n",
      "iter 2 failed, trying again 2/5\n",
      "Maximum run count 10 reached for component 'prompt_builder'\n",
      "iter 3 failed, trying again 3/5\n"
     ]
    },
    {
     "name": "stderr",
     "output_type": "stream",
     "text": [
      "error data = 69, error_rate = 2.64:  86%|████████▋ | 2678/3096 [4:46:10<1:32:52, 13.33s/it]"
     ]
    },
    {
     "name": "stdout",
     "output_type": "stream",
     "text": [
      "Maximum run count 10 reached for component 'prompt_builder'\n",
      "iter 4 failed, trying again 4/5\n"
     ]
    },
    {
     "name": "stderr",
     "output_type": "stream",
     "text": [
      "error data = 69, error_rate = 2.63:  87%|████████▋ | 2689/3096 [4:46:47<16:41,  2.46s/it]  "
     ]
    },
    {
     "name": "stdout",
     "output_type": "stream",
     "text": [
      "Maximum run count 10 reached for component 'prompt_builder'\n",
      "iter 0 failed, trying again 0/5\n",
      "Maximum run count 10 reached for component 'prompt_builder'\n",
      "iter 1 failed, trying again 1/5\n",
      "Maximum run count 10 reached for component 'prompt_builder'\n",
      "iter 2 failed, trying again 2/5\n"
     ]
    },
    {
     "name": "stderr",
     "output_type": "stream",
     "text": [
      "error data = 69, error_rate = 2.63:  87%|████████▋ | 2692/3096 [4:47:31<55:41,  8.27s/it]  "
     ]
    },
    {
     "name": "stdout",
     "output_type": "stream",
     "text": [
      "Maximum run count 10 reached for component 'prompt_builder'\n",
      "iter 0 failed, trying again 0/5\n"
     ]
    },
    {
     "name": "stderr",
     "output_type": "stream",
     "text": [
      "error data = 69, error_rate = 2.63:  87%|████████▋ | 2695/3096 [4:47:48<39:47,  5.95s/it]  "
     ]
    },
    {
     "name": "stdout",
     "output_type": "stream",
     "text": [
      "Maximum run count 10 reached for component 'prompt_builder'\n",
      "iter 0 failed, trying again 0/5\n"
     ]
    },
    {
     "name": "stderr",
     "output_type": "stream",
     "text": [
      "error data = 69, error_rate = 2.62:  87%|████████▋ | 2702/3096 [4:48:18<24:58,  3.80s/it]"
     ]
    },
    {
     "name": "stdout",
     "output_type": "stream",
     "text": [
      "Maximum run count 10 reached for component 'prompt_builder'\n",
      "iter 0 failed, trying again 0/5\n"
     ]
    },
    {
     "name": "stderr",
     "output_type": "stream",
     "text": [
      "error data = 69, error_rate = 2.62:  87%|████████▋ | 2703/3096 [4:48:33<46:11,  7.05s/it]"
     ]
    },
    {
     "name": "stdout",
     "output_type": "stream",
     "text": [
      "Maximum run count 10 reached for component 'prompt_builder'\n",
      "iter 0 failed, trying again 0/5\n"
     ]
    },
    {
     "name": "stderr",
     "output_type": "stream",
     "text": [
      "error data = 69, error_rate = 2.62:  87%|████████▋ | 2706/3096 [4:48:53<40:15,  6.19s/it]"
     ]
    },
    {
     "name": "stdout",
     "output_type": "stream",
     "text": [
      "Maximum run count 10 reached for component 'prompt_builder'\n",
      "iter 0 failed, trying again 0/5\n",
      "Maximum run count 10 reached for component 'prompt_builder'\n",
      "iter 1 failed, trying again 1/5\n"
     ]
    },
    {
     "name": "stderr",
     "output_type": "stream",
     "text": [
      "error data = 69, error_rate = 2.61:  88%|████████▊ | 2713/3096 [4:49:27<19:11,  3.01s/it]  "
     ]
    },
    {
     "name": "stdout",
     "output_type": "stream",
     "text": [
      "Maximum run count 10 reached for component 'prompt_builder'\n",
      "iter 0 failed, trying again 0/5\n",
      "Maximum run count 10 reached for component 'prompt_builder'\n",
      "iter 1 failed, trying again 1/5\n",
      "Maximum run count 10 reached for component 'prompt_builder'\n",
      "iter 2 failed, trying again 2/5\n",
      "Maximum run count 10 reached for component 'prompt_builder'\n",
      "iter 3 failed, trying again 3/5\n"
     ]
    },
    {
     "name": "stderr",
     "output_type": "stream",
     "text": [
      "error data = 70, error_rate = 2.65:  88%|████████▊ | 2714/3096 [4:50:04<1:24:10, 13.22s/it]"
     ]
    },
    {
     "name": "stdout",
     "output_type": "stream",
     "text": [
      "Maximum run count 10 reached for component 'prompt_builder'\n",
      "iter 4 failed, trying again 4/5\n"
     ]
    },
    {
     "name": "stderr",
     "output_type": "stream",
     "text": [
      "error data = 70, error_rate = 2.64:  88%|████████▊ | 2719/3096 [4:50:22<28:22,  4.51s/it]  "
     ]
    },
    {
     "name": "stdout",
     "output_type": "stream",
     "text": [
      "Maximum run count 10 reached for component 'prompt_builder'\n",
      "iter 0 failed, trying again 0/5\n"
     ]
    },
    {
     "name": "stderr",
     "output_type": "stream",
     "text": [
      "error data = 70, error_rate = 2.64:  88%|████████▊ | 2720/3096 [4:50:31<36:45,  5.87s/it]"
     ]
    },
    {
     "name": "stdout",
     "output_type": "stream",
     "text": [
      "Maximum run count 10 reached for component 'prompt_builder'\n",
      "iter 0 failed, trying again 0/5\n",
      "Maximum run count 10 reached for component 'prompt_builder'\n",
      "iter 1 failed, trying again 1/5\n"
     ]
    },
    {
     "name": "stderr",
     "output_type": "stream",
     "text": [
      "error data = 70, error_rate = 2.64:  88%|████████▊ | 2723/3096 [4:50:48<29:28,  4.74s/it]"
     ]
    },
    {
     "name": "stdout",
     "output_type": "stream",
     "text": [
      "Maximum run count 10 reached for component 'prompt_builder'\n",
      "iter 0 failed, trying again 0/5\n",
      "Maximum run count 10 reached for component 'prompt_builder'\n",
      "iter 1 failed, trying again 1/5\n",
      "Maximum run count 10 reached for component 'prompt_builder'\n",
      "iter 2 failed, trying again 2/5\n",
      "Maximum run count 10 reached for component 'prompt_builder'\n",
      "iter 3 failed, trying again 3/5\n"
     ]
    },
    {
     "name": "stderr",
     "output_type": "stream",
     "text": [
      "error data = 71, error_rate = 2.68:  88%|████████▊ | 2724/3096 [4:51:16<1:13:32, 11.86s/it]"
     ]
    },
    {
     "name": "stdout",
     "output_type": "stream",
     "text": [
      "Maximum run count 10 reached for component 'prompt_builder'\n",
      "iter 4 failed, trying again 4/5\n"
     ]
    },
    {
     "name": "stderr",
     "output_type": "stream",
     "text": [
      "error data = 71, error_rate = 2.67:  88%|████████▊ | 2728/3096 [4:51:35<37:15,  6.08s/it]  "
     ]
    },
    {
     "name": "stdout",
     "output_type": "stream",
     "text": [
      "Maximum run count 10 reached for component 'prompt_builder'\n",
      "iter 0 failed, trying again 0/5\n"
     ]
    },
    {
     "name": "stderr",
     "output_type": "stream",
     "text": [
      "error data = 71, error_rate = 2.67:  88%|████████▊ | 2732/3096 [4:52:02<31:31,  5.20s/it]"
     ]
    },
    {
     "name": "stdout",
     "output_type": "stream",
     "text": [
      "Maximum run count 10 reached for component 'prompt_builder'\n",
      "iter 0 failed, trying again 0/5\n",
      "Maximum run count 10 reached for component 'prompt_builder'\n",
      "iter 1 failed, trying again 1/5\n"
     ]
    },
    {
     "name": "stderr",
     "output_type": "stream",
     "text": [
      "error data = 71, error_rate = 2.66:  88%|████████▊ | 2738/3096 [4:52:31<18:28,  3.10s/it]"
     ]
    },
    {
     "name": "stdout",
     "output_type": "stream",
     "text": [
      "Maximum run count 10 reached for component 'prompt_builder'\n",
      "iter 0 failed, trying again 0/5\n",
      "Maximum run count 10 reached for component 'prompt_builder'\n",
      "iter 1 failed, trying again 1/5\n",
      "Maximum run count 10 reached for component 'prompt_builder'\n",
      "iter 2 failed, trying again 2/5\n"
     ]
    },
    {
     "name": "stderr",
     "output_type": "stream",
     "text": [
      "error data = 71, error_rate = 2.66:  89%|████████▊ | 2740/3096 [4:53:05<54:02,  9.11s/it]  "
     ]
    },
    {
     "name": "stdout",
     "output_type": "stream",
     "text": [
      "Maximum run count 10 reached for component 'prompt_builder'\n",
      "iter 0 failed, trying again 0/5\n"
     ]
    },
    {
     "name": "stderr",
     "output_type": "stream",
     "text": [
      "error data = 71, error_rate = 2.66:  89%|████████▊ | 2744/3096 [4:53:25<34:43,  5.92s/it]"
     ]
    },
    {
     "name": "stdout",
     "output_type": "stream",
     "text": [
      "Maximum run count 10 reached for component 'prompt_builder'\n",
      "iter 0 failed, trying again 0/5\n"
     ]
    },
    {
     "name": "stderr",
     "output_type": "stream",
     "text": [
      "error data = 71, error_rate = 2.66:  89%|████████▊ | 2745/3096 [4:53:32<36:27,  6.23s/it]"
     ]
    },
    {
     "name": "stdout",
     "output_type": "stream",
     "text": [
      "Maximum run count 10 reached for component 'prompt_builder'\n",
      "iter 0 failed, trying again 0/5\n",
      "Maximum run count 10 reached for component 'prompt_builder'\n",
      "iter 1 failed, trying again 1/5\n",
      "Maximum run count 10 reached for component 'prompt_builder'\n",
      "iter 2 failed, trying again 2/5\n",
      "Maximum run count 10 reached for component 'prompt_builder'\n",
      "iter 3 failed, trying again 3/5\n"
     ]
    },
    {
     "name": "stderr",
     "output_type": "stream",
     "text": [
      "error data = 72, error_rate = 2.69:  89%|████████▊ | 2746/3096 [4:54:07<1:25:52, 14.72s/it]"
     ]
    },
    {
     "name": "stdout",
     "output_type": "stream",
     "text": [
      "Maximum run count 10 reached for component 'prompt_builder'\n",
      "iter 4 failed, trying again 4/5\n"
     ]
    },
    {
     "name": "stderr",
     "output_type": "stream",
     "text": [
      "error data = 72, error_rate = 2.69:  89%|████████▉ | 2749/3096 [4:54:11<35:47,  6.19s/it]  "
     ]
    },
    {
     "name": "stdout",
     "output_type": "stream",
     "text": [
      "Maximum run count 10 reached for component 'prompt_builder'\n",
      "iter 0 failed, trying again 0/5\n"
     ]
    },
    {
     "name": "stderr",
     "output_type": "stream",
     "text": [
      "error data = 72, error_rate = 2.69:  89%|████████▉ | 2750/3096 [4:54:21<42:06,  7.30s/it]"
     ]
    },
    {
     "name": "stdout",
     "output_type": "stream",
     "text": [
      "Maximum run count 10 reached for component 'prompt_builder'\n",
      "iter 0 failed, trying again 0/5\n"
     ]
    },
    {
     "name": "stderr",
     "output_type": "stream",
     "text": [
      "error data = 72, error_rate = 2.68:  89%|████████▉ | 2754/3096 [4:54:39<28:20,  4.97s/it]"
     ]
    },
    {
     "name": "stdout",
     "output_type": "stream",
     "text": [
      "Maximum run count 10 reached for component 'prompt_builder'\n",
      "iter 0 failed, trying again 0/5\n",
      "Maximum run count 10 reached for component 'prompt_builder'\n",
      "iter 1 failed, trying again 1/5\n"
     ]
    },
    {
     "name": "stderr",
     "output_type": "stream",
     "text": [
      "error data = 72, error_rate = 2.68:  89%|████████▉ | 2756/3096 [4:54:59<38:41,  6.83s/it]"
     ]
    },
    {
     "name": "stdout",
     "output_type": "stream",
     "text": [
      "Maximum run count 10 reached for component 'prompt_builder'\n",
      "iter 0 failed, trying again 0/5\n",
      "Maximum run count 10 reached for component 'prompt_builder'\n",
      "iter 1 failed, trying again 1/5\n",
      "Maximum run count 10 reached for component 'prompt_builder'\n",
      "iter 2 failed, trying again 2/5\n"
     ]
    },
    {
     "name": "stderr",
     "output_type": "stream",
     "text": [
      "error data = 72, error_rate = 2.68:  89%|████████▉ | 2759/3096 [4:55:27<38:30,  6.86s/it]  "
     ]
    },
    {
     "name": "stdout",
     "output_type": "stream",
     "text": [
      "Maximum run count 10 reached for component 'prompt_builder'\n",
      "iter 0 failed, trying again 0/5\n",
      "Maximum run count 10 reached for component 'prompt_builder'\n",
      "iter 1 failed, trying again 1/5\n",
      "Maximum run count 10 reached for component 'prompt_builder'\n",
      "iter 2 failed, trying again 2/5\n"
     ]
    },
    {
     "name": "stderr",
     "output_type": "stream",
     "text": [
      "error data = 72, error_rate = 2.68:  89%|████████▉ | 2763/3096 [4:56:10<37:06,  6.69s/it]  "
     ]
    },
    {
     "name": "stdout",
     "output_type": "stream",
     "text": [
      "Maximum run count 10 reached for component 'prompt_builder'\n",
      "iter 0 failed, trying again 0/5\n"
     ]
    },
    {
     "name": "stderr",
     "output_type": "stream",
     "text": [
      "error data = 72, error_rate = 2.67:  89%|████████▉ | 2764/3096 [4:56:25<50:09,  9.06s/it]"
     ]
    },
    {
     "name": "stdout",
     "output_type": "stream",
     "text": [
      "Maximum run count 10 reached for component 'prompt_builder'\n",
      "iter 0 failed, trying again 0/5\n",
      "Maximum run count 10 reached for component 'prompt_builder'\n",
      "iter 1 failed, trying again 1/5\n",
      "Maximum run count 10 reached for component 'prompt_builder'\n",
      "iter 2 failed, trying again 2/5\n",
      "Maximum run count 10 reached for component 'prompt_builder'\n",
      "iter 3 failed, trying again 3/5\n"
     ]
    },
    {
     "name": "stderr",
     "output_type": "stream",
     "text": [
      "error data = 72, error_rate = 2.67:  89%|████████▉ | 2769/3096 [4:57:12<32:51,  6.03s/it]  "
     ]
    },
    {
     "name": "stdout",
     "output_type": "stream",
     "text": [
      "Maximum run count 10 reached for component 'prompt_builder'\n",
      "iter 0 failed, trying again 0/5\n",
      "Maximum run count 10 reached for component 'prompt_builder'\n",
      "iter 1 failed, trying again 1/5\n"
     ]
    },
    {
     "name": "stderr",
     "output_type": "stream",
     "text": [
      "error data = 72, error_rate = 2.67:  90%|████████▉ | 2771/3096 [4:57:38<48:29,  8.95s/it]"
     ]
    },
    {
     "name": "stdout",
     "output_type": "stream",
     "text": [
      "Maximum run count 10 reached for component 'prompt_builder'\n",
      "iter 0 failed, trying again 0/5\n",
      "Maximum run count 10 reached for component 'prompt_builder'\n",
      "iter 1 failed, trying again 1/5\n",
      "Maximum run count 10 reached for component 'prompt_builder'\n",
      "iter 2 failed, trying again 2/5\n",
      "Maximum run count 10 reached for component 'prompt_builder'\n",
      "iter 3 failed, trying again 3/5\n"
     ]
    },
    {
     "name": "stderr",
     "output_type": "stream",
     "text": [
      "error data = 73, error_rate = 2.70:  90%|████████▉ | 2772/3096 [4:58:12<1:28:48, 16.45s/it]"
     ]
    },
    {
     "name": "stdout",
     "output_type": "stream",
     "text": [
      "Maximum run count 10 reached for component 'prompt_builder'\n",
      "iter 4 failed, trying again 4/5\n"
     ]
    },
    {
     "name": "stderr",
     "output_type": "stream",
     "text": [
      "error data = 73, error_rate = 2.70:  90%|████████▉ | 2775/3096 [4:58:20<38:33,  7.21s/it]  "
     ]
    },
    {
     "name": "stdout",
     "output_type": "stream",
     "text": [
      "Maximum run count 10 reached for component 'prompt_builder'\n",
      "iter 0 failed, trying again 0/5\n"
     ]
    },
    {
     "name": "stderr",
     "output_type": "stream",
     "text": [
      "error data = 73, error_rate = 2.70:  90%|████████▉ | 2778/3096 [4:58:46<40:51,  7.71s/it]"
     ]
    },
    {
     "name": "stdout",
     "output_type": "stream",
     "text": [
      "Maximum run count 10 reached for component 'prompt_builder'\n",
      "iter 0 failed, trying again 0/5\n"
     ]
    },
    {
     "name": "stderr",
     "output_type": "stream",
     "text": [
      "error data = 73, error_rate = 2.70:  90%|████████▉ | 2779/3096 [4:59:02<53:50, 10.19s/it]"
     ]
    },
    {
     "name": "stdout",
     "output_type": "stream",
     "text": [
      "Maximum run count 10 reached for component 'prompt_builder'\n",
      "iter 0 failed, trying again 0/5\n",
      "Maximum run count 10 reached for component 'prompt_builder'\n",
      "iter 1 failed, trying again 1/5\n"
     ]
    },
    {
     "name": "stderr",
     "output_type": "stream",
     "text": [
      "error data = 73, error_rate = 2.70:  90%|████████▉ | 2780/3096 [4:59:19<1:04:07, 12.18s/it]"
     ]
    },
    {
     "name": "stdout",
     "output_type": "stream",
     "text": [
      "Maximum run count 10 reached for component 'prompt_builder'\n",
      "iter 0 failed, trying again 0/5\n",
      "Maximum run count 10 reached for component 'prompt_builder'\n",
      "iter 1 failed, trying again 1/5\n",
      "Maximum run count 10 reached for component 'prompt_builder'\n",
      "iter 2 failed, trying again 2/5\n"
     ]
    },
    {
     "name": "stderr",
     "output_type": "stream",
     "text": [
      "error data = 73, error_rate = 2.69:  90%|████████▉ | 2783/3096 [5:00:02<59:52, 11.48s/it]  "
     ]
    },
    {
     "name": "stdout",
     "output_type": "stream",
     "text": [
      "Maximum run count 10 reached for component 'prompt_builder'\n",
      "iter 0 failed, trying again 0/5\n"
     ]
    },
    {
     "name": "stderr",
     "output_type": "stream",
     "text": [
      "error data = 73, error_rate = 2.69:  90%|████████▉ | 2784/3096 [5:00:20<1:10:02, 13.47s/it]"
     ]
    },
    {
     "name": "stdout",
     "output_type": "stream",
     "text": [
      "Maximum run count 10 reached for component 'prompt_builder'\n",
      "iter 0 failed, trying again 0/5\n"
     ]
    },
    {
     "name": "stderr",
     "output_type": "stream",
     "text": [
      "error data = 73, error_rate = 2.69:  90%|█████████ | 2787/3096 [5:00:43<44:03,  8.55s/it]  "
     ]
    },
    {
     "name": "stdout",
     "output_type": "stream",
     "text": [
      "Maximum run count 10 reached for component 'prompt_builder'\n",
      "iter 0 failed, trying again 0/5\n",
      "Maximum run count 10 reached for component 'prompt_builder'\n",
      "iter 1 failed, trying again 1/5\n"
     ]
    },
    {
     "name": "stderr",
     "output_type": "stream",
     "text": [
      "error data = 73, error_rate = 2.69:  90%|█████████ | 2790/3096 [5:01:05<35:44,  7.01s/it]"
     ]
    },
    {
     "name": "stdout",
     "output_type": "stream",
     "text": [
      "Maximum run count 10 reached for component 'prompt_builder'\n",
      "iter 0 failed, trying again 0/5\n"
     ]
    },
    {
     "name": "stderr",
     "output_type": "stream",
     "text": [
      "error data = 73, error_rate = 2.68:  90%|█████████ | 2793/3096 [5:01:24<32:12,  6.38s/it]"
     ]
    },
    {
     "name": "stdout",
     "output_type": "stream",
     "text": [
      "Maximum run count 10 reached for component 'prompt_builder'\n",
      "iter 0 failed, trying again 0/5\n",
      "Maximum run count 10 reached for component 'prompt_builder'\n",
      "iter 1 failed, trying again 1/5\n",
      "Maximum run count 10 reached for component 'prompt_builder'\n",
      "iter 2 failed, trying again 2/5\n",
      "Maximum run count 10 reached for component 'prompt_builder'\n",
      "iter 3 failed, trying again 3/5\n"
     ]
    },
    {
     "name": "stderr",
     "output_type": "stream",
     "text": [
      "error data = 74, error_rate = 2.72:  90%|█████████ | 2794/3096 [5:01:55<1:09:04, 13.72s/it]"
     ]
    },
    {
     "name": "stdout",
     "output_type": "stream",
     "text": [
      "Maximum run count 10 reached for component 'prompt_builder'\n",
      "iter 4 failed, trying again 4/5\n"
     ]
    },
    {
     "name": "stderr",
     "output_type": "stream",
     "text": [
      "error data = 74, error_rate = 2.72:  90%|█████████ | 2795/3096 [5:01:59<54:14, 10.81s/it]  "
     ]
    },
    {
     "name": "stdout",
     "output_type": "stream",
     "text": [
      "Maximum run count 10 reached for component 'prompt_builder'\n",
      "iter 0 failed, trying again 0/5\n",
      "Maximum run count 10 reached for component 'prompt_builder'\n",
      "iter 1 failed, trying again 1/5\n"
     ]
    },
    {
     "name": "stderr",
     "output_type": "stream",
     "text": [
      "error data = 74, error_rate = 2.72:  90%|█████████ | 2796/3096 [5:02:13<58:54, 11.78s/it]"
     ]
    },
    {
     "name": "stdout",
     "output_type": "stream",
     "text": [
      "Maximum run count 10 reached for component 'prompt_builder'\n",
      "iter 0 failed, trying again 0/5\n"
     ]
    },
    {
     "name": "stderr",
     "output_type": "stream",
     "text": [
      "error data = 74, error_rate = 2.72:  90%|█████████ | 2799/3096 [5:02:22<28:28,  5.75s/it]"
     ]
    },
    {
     "name": "stdout",
     "output_type": "stream",
     "text": [
      "Maximum run count 10 reached for component 'prompt_builder'\n",
      "iter 0 failed, trying again 0/5\n",
      "Maximum run count 10 reached for component 'prompt_builder'\n",
      "iter 1 failed, trying again 1/5\n"
     ]
    },
    {
     "name": "stderr",
     "output_type": "stream",
     "text": [
      "error data = 74, error_rate = 2.71:  90%|█████████ | 2801/3096 [5:02:42<35:31,  7.22s/it]"
     ]
    },
    {
     "name": "stdout",
     "output_type": "stream",
     "text": [
      "Maximum run count 10 reached for component 'prompt_builder'\n",
      "iter 0 failed, trying again 0/5\n"
     ]
    },
    {
     "name": "stderr",
     "output_type": "stream",
     "text": [
      "error data = 74, error_rate = 2.71:  91%|█████████ | 2804/3096 [5:03:02<31:47,  6.53s/it]"
     ]
    },
    {
     "name": "stdout",
     "output_type": "stream",
     "text": [
      "Maximum run count 10 reached for component 'prompt_builder'\n",
      "iter 0 failed, trying again 0/5\n"
     ]
    },
    {
     "name": "stderr",
     "output_type": "stream",
     "text": [
      "error data = 74, error_rate = 2.71:  91%|█████████ | 2805/3096 [5:03:13<39:03,  8.05s/it]"
     ]
    },
    {
     "name": "stdout",
     "output_type": "stream",
     "text": [
      "Maximum run count 10 reached for component 'prompt_builder'\n",
      "iter 0 failed, trying again 0/5\n"
     ]
    },
    {
     "name": "stderr",
     "output_type": "stream",
     "text": [
      "error data = 74, error_rate = 2.70:  91%|█████████ | 2819/3096 [5:04:02<08:26,  1.83s/it]"
     ]
    },
    {
     "name": "stdout",
     "output_type": "stream",
     "text": [
      "Maximum run count 10 reached for component 'prompt_builder'\n",
      "iter 0 failed, trying again 0/5\n"
     ]
    },
    {
     "name": "stderr",
     "output_type": "stream",
     "text": [
      "error data = 74, error_rate = 2.69:  91%|█████████ | 2820/3096 [5:04:12<20:08,  4.38s/it]"
     ]
    },
    {
     "name": "stdout",
     "output_type": "stream",
     "text": [
      "Maximum run count 10 reached for component 'prompt_builder'\n",
      "iter 0 failed, trying again 0/5\n"
     ]
    },
    {
     "name": "stderr",
     "output_type": "stream",
     "text": [
      "error data = 74, error_rate = 2.69:  91%|█████████▏| 2829/3096 [5:04:52<18:17,  4.11s/it]"
     ]
    },
    {
     "name": "stdout",
     "output_type": "stream",
     "text": [
      "Maximum run count 10 reached for component 'prompt_builder'\n",
      "iter 0 failed, trying again 0/5\n"
     ]
    },
    {
     "name": "stderr",
     "output_type": "stream",
     "text": [
      "error data = 74, error_rate = 2.69:  91%|█████████▏| 2830/3096 [5:05:03<26:51,  6.06s/it]"
     ]
    },
    {
     "name": "stdout",
     "output_type": "stream",
     "text": [
      "Maximum run count 10 reached for component 'prompt_builder'\n",
      "iter 0 failed, trying again 0/5\n"
     ]
    },
    {
     "name": "stderr",
     "output_type": "stream",
     "text": [
      "error data = 74, error_rate = 2.68:  91%|█████████▏| 2832/3096 [5:05:13<22:32,  5.12s/it]"
     ]
    },
    {
     "name": "stdout",
     "output_type": "stream",
     "text": [
      "Maximum run count 10 reached for component 'prompt_builder'\n",
      "iter 0 failed, trying again 0/5\n"
     ]
    },
    {
     "name": "stderr",
     "output_type": "stream",
     "text": [
      "error data = 74, error_rate = 2.68:  92%|█████████▏| 2838/3096 [5:05:38<12:40,  2.95s/it]"
     ]
    },
    {
     "name": "stdout",
     "output_type": "stream",
     "text": [
      "Maximum run count 10 reached for component 'prompt_builder'\n",
      "iter 0 failed, trying again 0/5\n",
      "Maximum run count 10 reached for component 'prompt_builder'\n",
      "iter 1 failed, trying again 1/5\n"
     ]
    },
    {
     "name": "stderr",
     "output_type": "stream",
     "text": [
      "error data = 74, error_rate = 2.68:  92%|█████████▏| 2839/3096 [5:06:02<39:17,  9.17s/it]"
     ]
    },
    {
     "name": "stdout",
     "output_type": "stream",
     "text": [
      "Maximum run count 10 reached for component 'prompt_builder'\n",
      "iter 0 failed, trying again 0/5\n"
     ]
    },
    {
     "name": "stderr",
     "output_type": "stream",
     "text": [
      "error data = 74, error_rate = 2.68:  92%|█████████▏| 2840/3096 [5:06:12<40:17,  9.45s/it]"
     ]
    },
    {
     "name": "stdout",
     "output_type": "stream",
     "text": [
      "Maximum run count 10 reached for component 'prompt_builder'\n",
      "iter 0 failed, trying again 0/5\n",
      "Maximum run count 10 reached for component 'prompt_builder'\n",
      "iter 1 failed, trying again 1/5\n"
     ]
    },
    {
     "name": "stderr",
     "output_type": "stream",
     "text": [
      "error data = 74, error_rate = 2.67:  92%|█████████▏| 2846/3096 [5:07:03<27:46,  6.67s/it]"
     ]
    },
    {
     "name": "stdout",
     "output_type": "stream",
     "text": [
      "Maximum run count 10 reached for component 'prompt_builder'\n",
      "iter 0 failed, trying again 0/5\n",
      "Maximum run count 10 reached for component 'prompt_builder'\n",
      "iter 1 failed, trying again 1/5\n"
     ]
    },
    {
     "name": "stderr",
     "output_type": "stream",
     "text": [
      "error data = 74, error_rate = 2.67:  92%|█████████▏| 2848/3096 [5:07:27<36:24,  8.81s/it]"
     ]
    },
    {
     "name": "stdout",
     "output_type": "stream",
     "text": [
      "Maximum run count 10 reached for component 'prompt_builder'\n",
      "iter 0 failed, trying again 0/5\n",
      "Maximum run count 10 reached for component 'prompt_builder'\n",
      "iter 1 failed, trying again 1/5\n",
      "Maximum run count 10 reached for component 'prompt_builder'\n",
      "iter 2 failed, trying again 2/5\n",
      "Maximum run count 10 reached for component 'prompt_builder'\n",
      "iter 3 failed, trying again 3/5\n"
     ]
    },
    {
     "name": "stderr",
     "output_type": "stream",
     "text": [
      "error data = 75, error_rate = 2.70:  92%|█████████▏| 2849/3096 [5:07:55<1:00:46, 14.76s/it]"
     ]
    },
    {
     "name": "stdout",
     "output_type": "stream",
     "text": [
      "Maximum run count 10 reached for component 'prompt_builder'\n",
      "iter 4 failed, trying again 4/5\n"
     ]
    },
    {
     "name": "stderr",
     "output_type": "stream",
     "text": [
      "error data = 75, error_rate = 2.70:  92%|█████████▏| 2852/3096 [5:08:06<29:11,  7.18s/it]  "
     ]
    },
    {
     "name": "stdout",
     "output_type": "stream",
     "text": [
      "Maximum run count 10 reached for component 'prompt_builder'\n",
      "iter 0 failed, trying again 0/5\n"
     ]
    },
    {
     "name": "stderr",
     "output_type": "stream",
     "text": [
      "error data = 75, error_rate = 2.70:  92%|█████████▏| 2853/3096 [5:08:14<30:05,  7.43s/it]"
     ]
    },
    {
     "name": "stdout",
     "output_type": "stream",
     "text": [
      "Maximum run count 10 reached for component 'prompt_builder'\n",
      "iter 0 failed, trying again 0/5\n"
     ]
    },
    {
     "name": "stderr",
     "output_type": "stream",
     "text": [
      "error data = 75, error_rate = 2.69:  92%|█████████▏| 2861/3096 [5:08:45<13:11,  3.37s/it]"
     ]
    },
    {
     "name": "stdout",
     "output_type": "stream",
     "text": [
      "Maximum run count 10 reached for component 'prompt_builder'\n",
      "iter 0 failed, trying again 0/5\n"
     ]
    },
    {
     "name": "stderr",
     "output_type": "stream",
     "text": [
      "error data = 75, error_rate = 2.69:  92%|█████████▏| 2862/3096 [5:08:53<18:31,  4.75s/it]"
     ]
    },
    {
     "name": "stdout",
     "output_type": "stream",
     "text": [
      "Maximum run count 10 reached for component 'prompt_builder'\n",
      "iter 0 failed, trying again 0/5\n",
      "Maximum run count 10 reached for component 'prompt_builder'\n",
      "iter 1 failed, trying again 1/5\n",
      "Maximum run count 10 reached for component 'prompt_builder'\n",
      "iter 2 failed, trying again 2/5\n",
      "Maximum run count 10 reached for component 'prompt_builder'\n",
      "iter 3 failed, trying again 3/5\n"
     ]
    },
    {
     "name": "stderr",
     "output_type": "stream",
     "text": [
      "error data = 76, error_rate = 2.73:  92%|█████████▏| 2863/3096 [5:09:31<57:36, 14.84s/it]"
     ]
    },
    {
     "name": "stdout",
     "output_type": "stream",
     "text": [
      "Maximum run count 10 reached for component 'prompt_builder'\n",
      "iter 4 failed, trying again 4/5\n"
     ]
    },
    {
     "name": "stderr",
     "output_type": "stream",
     "text": [
      "error data = 76, error_rate = 2.72:  93%|█████████▎| 2874/3096 [5:10:09<12:37,  3.41s/it]"
     ]
    },
    {
     "name": "stdout",
     "output_type": "stream",
     "text": [
      "Maximum run count 10 reached for component 'prompt_builder'\n",
      "iter 0 failed, trying again 0/5\n"
     ]
    },
    {
     "name": "stderr",
     "output_type": "stream",
     "text": [
      "error data = 76, error_rate = 2.71:  93%|█████████▎| 2878/3096 [5:10:28<13:29,  3.72s/it]"
     ]
    },
    {
     "name": "stdout",
     "output_type": "stream",
     "text": [
      "Maximum run count 10 reached for component 'prompt_builder'\n",
      "iter 0 failed, trying again 0/5\n",
      "Maximum run count 10 reached for component 'prompt_builder'\n",
      "iter 1 failed, trying again 1/5\n",
      "Maximum run count 10 reached for component 'prompt_builder'\n",
      "iter 2 failed, trying again 2/5\n",
      "Maximum run count 10 reached for component 'prompt_builder'\n",
      "iter 3 failed, trying again 3/5\n"
     ]
    },
    {
     "name": "stderr",
     "output_type": "stream",
     "text": [
      "error data = 77, error_rate = 2.75:  93%|█████████▎| 2879/3096 [5:11:12<57:01, 15.77s/it]"
     ]
    },
    {
     "name": "stdout",
     "output_type": "stream",
     "text": [
      "Maximum run count 10 reached for component 'prompt_builder'\n",
      "iter 4 failed, trying again 4/5\n"
     ]
    },
    {
     "name": "stderr",
     "output_type": "stream",
     "text": [
      "error data = 77, error_rate = 2.75:  93%|█████████▎| 2880/3096 [5:11:14<41:37, 11.56s/it]"
     ]
    },
    {
     "name": "stdout",
     "output_type": "stream",
     "text": [
      "Maximum run count 10 reached for component 'prompt_builder'\n",
      "iter 0 failed, trying again 0/5\n"
     ]
    },
    {
     "name": "stderr",
     "output_type": "stream",
     "text": [
      "error data = 77, error_rate = 2.75:  93%|█████████▎| 2881/3096 [5:11:21<37:09, 10.37s/it]"
     ]
    },
    {
     "name": "stdout",
     "output_type": "stream",
     "text": [
      "Maximum run count 10 reached for component 'prompt_builder'\n",
      "iter 0 failed, trying again 0/5\n",
      "Maximum run count 10 reached for component 'prompt_builder'\n",
      "iter 1 failed, trying again 1/5\n",
      "Maximum run count 10 reached for component 'prompt_builder'\n",
      "iter 2 failed, trying again 2/5\n",
      "Maximum run count 10 reached for component 'prompt_builder'\n",
      "iter 3 failed, trying again 3/5\n"
     ]
    },
    {
     "name": "stderr",
     "output_type": "stream",
     "text": [
      "error data = 78, error_rate = 2.78:  93%|█████████▎| 2882/3096 [5:12:04<1:11:12, 19.97s/it]"
     ]
    },
    {
     "name": "stdout",
     "output_type": "stream",
     "text": [
      "Maximum run count 10 reached for component 'prompt_builder'\n",
      "iter 4 failed, trying again 4/5\n",
      "Maximum run count 10 reached for component 'prompt_builder'\n",
      "iter 0 failed, trying again 0/5\n"
     ]
    },
    {
     "name": "stderr",
     "output_type": "stream",
     "text": [
      "error data = 78, error_rate = 2.78:  93%|█████████▎| 2887/3096 [5:12:27<22:11,  6.37s/it]  "
     ]
    },
    {
     "name": "stdout",
     "output_type": "stream",
     "text": [
      "Maximum run count 10 reached for component 'prompt_builder'\n",
      "iter 0 failed, trying again 0/5\n"
     ]
    },
    {
     "name": "stderr",
     "output_type": "stream",
     "text": [
      "error data = 78, error_rate = 2.77:  94%|█████████▎| 2898/3096 [5:13:09<09:10,  2.78s/it]"
     ]
    },
    {
     "name": "stdout",
     "output_type": "stream",
     "text": [
      "Maximum run count 10 reached for component 'prompt_builder'\n",
      "iter 0 failed, trying again 0/5\n"
     ]
    },
    {
     "name": "stderr",
     "output_type": "stream",
     "text": [
      "error data = 78, error_rate = 2.76:  94%|█████████▍| 2904/3096 [5:13:37<13:10,  4.12s/it]"
     ]
    },
    {
     "name": "stdout",
     "output_type": "stream",
     "text": [
      "Maximum run count 10 reached for component 'prompt_builder'\n",
      "iter 0 failed, trying again 0/5\n",
      "Maximum run count 10 reached for component 'prompt_builder'\n",
      "iter 1 failed, trying again 1/5\n"
     ]
    },
    {
     "name": "stderr",
     "output_type": "stream",
     "text": [
      "error data = 78, error_rate = 2.76:  94%|█████████▍| 2905/3096 [5:13:55<26:30,  8.33s/it]"
     ]
    },
    {
     "name": "stdout",
     "output_type": "stream",
     "text": [
      "Maximum run count 10 reached for component 'prompt_builder'\n",
      "iter 0 failed, trying again 0/5\n"
     ]
    },
    {
     "name": "stderr",
     "output_type": "stream",
     "text": [
      "error data = 78, error_rate = 2.75:  94%|█████████▍| 2913/3096 [5:14:23<11:29,  3.77s/it]"
     ]
    },
    {
     "name": "stdout",
     "output_type": "stream",
     "text": [
      "Maximum run count 10 reached for component 'prompt_builder'\n",
      "iter 0 failed, trying again 0/5\n"
     ]
    },
    {
     "name": "stderr",
     "output_type": "stream",
     "text": [
      "error data = 78, error_rate = 2.75:  94%|█████████▍| 2914/3096 [5:14:31<15:05,  4.97s/it]"
     ]
    },
    {
     "name": "stdout",
     "output_type": "stream",
     "text": [
      "Maximum run count 10 reached for component 'prompt_builder'\n",
      "iter 0 failed, trying again 0/5\n",
      "Maximum run count 10 reached for component 'prompt_builder'\n",
      "iter 1 failed, trying again 1/5\n",
      "Maximum run count 10 reached for component 'prompt_builder'\n",
      "iter 2 failed, trying again 2/5\n",
      "Maximum run count 10 reached for component 'prompt_builder'\n",
      "iter 3 failed, trying again 3/5\n"
     ]
    },
    {
     "name": "stderr",
     "output_type": "stream",
     "text": [
      "error data = 79, error_rate = 2.79:  94%|█████████▍| 2915/3096 [5:15:15<50:56, 16.89s/it]"
     ]
    },
    {
     "name": "stdout",
     "output_type": "stream",
     "text": [
      "Maximum run count 10 reached for component 'prompt_builder'\n",
      "iter 4 failed, trying again 4/5\n"
     ]
    },
    {
     "name": "stderr",
     "output_type": "stream",
     "text": [
      "error data = 79, error_rate = 2.78:  94%|█████████▍| 2918/3096 [5:15:27<25:28,  8.58s/it]"
     ]
    },
    {
     "name": "stdout",
     "output_type": "stream",
     "text": [
      "Maximum run count 10 reached for component 'prompt_builder'\n",
      "iter 0 failed, trying again 0/5\n",
      "Maximum run count 10 reached for component 'prompt_builder'\n",
      "iter 1 failed, trying again 1/5\n"
     ]
    },
    {
     "name": "stderr",
     "output_type": "stream",
     "text": [
      "error data = 79, error_rate = 2.78:  94%|█████████▍| 2919/3096 [5:15:46<34:46, 11.79s/it]"
     ]
    },
    {
     "name": "stdout",
     "output_type": "stream",
     "text": [
      "Maximum run count 10 reached for component 'prompt_builder'\n",
      "iter 0 failed, trying again 0/5\n"
     ]
    },
    {
     "name": "stderr",
     "output_type": "stream",
     "text": [
      "error data = 79, error_rate = 2.78:  94%|█████████▍| 2921/3096 [5:15:58<24:40,  8.46s/it]"
     ]
    },
    {
     "name": "stdout",
     "output_type": "stream",
     "text": [
      "Maximum run count 10 reached for component 'prompt_builder'\n",
      "iter 0 failed, trying again 0/5\n"
     ]
    },
    {
     "name": "stderr",
     "output_type": "stream",
     "text": [
      "error data = 79, error_rate = 2.78:  94%|█████████▍| 2922/3096 [5:16:11<28:30,  9.83s/it]"
     ]
    },
    {
     "name": "stdout",
     "output_type": "stream",
     "text": [
      "Maximum run count 10 reached for component 'prompt_builder'\n",
      "iter 0 failed, trying again 0/5\n"
     ]
    },
    {
     "name": "stderr",
     "output_type": "stream",
     "text": [
      "error data = 79, error_rate = 2.77:  95%|█████████▍| 2926/3096 [5:16:37<19:15,  6.79s/it]"
     ]
    },
    {
     "name": "stdout",
     "output_type": "stream",
     "text": [
      "Maximum run count 10 reached for component 'prompt_builder'\n",
      "iter 0 failed, trying again 0/5\n",
      "Maximum run count 10 reached for component 'prompt_builder'\n",
      "iter 1 failed, trying again 1/5\n",
      "Maximum run count 10 reached for component 'prompt_builder'\n",
      "iter 2 failed, trying again 2/5\n",
      "Maximum run count 10 reached for component 'prompt_builder'\n",
      "iter 3 failed, trying again 3/5\n"
     ]
    },
    {
     "name": "stderr",
     "output_type": "stream",
     "text": [
      "error data = 80, error_rate = 2.81:  95%|█████████▍| 2927/3096 [5:17:11<41:56, 14.89s/it]"
     ]
    },
    {
     "name": "stdout",
     "output_type": "stream",
     "text": [
      "Maximum run count 10 reached for component 'prompt_builder'\n",
      "iter 4 failed, trying again 4/5\n",
      "Maximum run count 10 reached for component 'prompt_builder'\n",
      "iter 0 failed, trying again 0/5\n"
     ]
    },
    {
     "name": "stderr",
     "output_type": "stream",
     "text": [
      "error data = 80, error_rate = 2.81:  95%|█████████▍| 2929/3096 [5:17:27<30:16, 10.88s/it]"
     ]
    },
    {
     "name": "stdout",
     "output_type": "stream",
     "text": [
      "Maximum run count 10 reached for component 'prompt_builder'\n",
      "iter 0 failed, trying again 0/5\n",
      "Maximum run count 10 reached for component 'prompt_builder'\n",
      "iter 1 failed, trying again 1/5\n",
      "Maximum run count 10 reached for component 'prompt_builder'\n",
      "iter 2 failed, trying again 2/5\n"
     ]
    },
    {
     "name": "stderr",
     "output_type": "stream",
     "text": [
      "error data = 80, error_rate = 2.80:  95%|█████████▍| 2934/3096 [5:17:56<13:52,  5.14s/it]"
     ]
    },
    {
     "name": "stdout",
     "output_type": "stream",
     "text": [
      "Maximum run count 10 reached for component 'prompt_builder'\n",
      "iter 0 failed, trying again 0/5\n"
     ]
    },
    {
     "name": "stderr",
     "output_type": "stream",
     "text": [
      "error data = 80, error_rate = 2.80:  95%|█████████▍| 2940/3096 [5:18:25<11:29,  4.42s/it]"
     ]
    },
    {
     "name": "stdout",
     "output_type": "stream",
     "text": [
      "Maximum run count 10 reached for component 'prompt_builder'\n",
      "iter 0 failed, trying again 0/5\n",
      "Maximum run count 10 reached for component 'prompt_builder'\n",
      "iter 1 failed, trying again 1/5\n"
     ]
    },
    {
     "name": "stderr",
     "output_type": "stream",
     "text": [
      "error data = 80, error_rate = 2.80:  95%|█████████▌| 2942/3096 [5:18:48<19:25,  7.57s/it]"
     ]
    },
    {
     "name": "stdout",
     "output_type": "stream",
     "text": [
      "Maximum run count 10 reached for component 'prompt_builder'\n",
      "iter 0 failed, trying again 0/5\n"
     ]
    },
    {
     "name": "stderr",
     "output_type": "stream",
     "text": [
      "error data = 80, error_rate = 2.79:  95%|█████████▌| 2946/3096 [5:19:11<13:58,  5.59s/it]"
     ]
    },
    {
     "name": "stdout",
     "output_type": "stream",
     "text": [
      "Maximum run count 10 reached for component 'prompt_builder'\n",
      "iter 0 failed, trying again 0/5\n"
     ]
    },
    {
     "name": "stderr",
     "output_type": "stream",
     "text": [
      "error data = 80, error_rate = 2.79:  95%|█████████▌| 2950/3096 [5:19:31<10:09,  4.17s/it]"
     ]
    },
    {
     "name": "stdout",
     "output_type": "stream",
     "text": [
      "Maximum run count 10 reached for component 'prompt_builder'\n",
      "iter 0 failed, trying again 0/5\n",
      "Maximum run count 10 reached for component 'prompt_builder'\n",
      "iter 1 failed, trying again 1/5\n",
      "Maximum run count 10 reached for component 'prompt_builder'\n",
      "iter 2 failed, trying again 2/5\n",
      "Maximum run count 10 reached for component 'prompt_builder'\n",
      "iter 3 failed, trying again 3/5\n"
     ]
    },
    {
     "name": "stderr",
     "output_type": "stream",
     "text": [
      "error data = 81, error_rate = 2.82:  95%|█████████▌| 2951/3096 [5:20:06<32:35, 13.49s/it]"
     ]
    },
    {
     "name": "stdout",
     "output_type": "stream",
     "text": [
      "Maximum run count 10 reached for component 'prompt_builder'\n",
      "iter 4 failed, trying again 4/5\n",
      "Maximum run count 10 reached for component 'prompt_builder'\n",
      "iter 0 failed, trying again 0/5\n"
     ]
    },
    {
     "name": "stderr",
     "output_type": "stream",
     "text": [
      "error data = 81, error_rate = 2.82:  95%|█████████▌| 2952/3096 [5:20:24<35:40, 14.86s/it]"
     ]
    },
    {
     "name": "stdout",
     "output_type": "stream",
     "text": [
      "Maximum run count 10 reached for component 'prompt_builder'\n",
      "iter 0 failed, trying again 0/5\n"
     ]
    },
    {
     "name": "stderr",
     "output_type": "stream",
     "text": [
      "error data = 81, error_rate = 2.82:  95%|█████████▌| 2955/3096 [5:20:42<20:04,  8.54s/it]"
     ]
    },
    {
     "name": "stdout",
     "output_type": "stream",
     "text": [
      "Maximum run count 10 reached for component 'prompt_builder'\n",
      "iter 0 failed, trying again 0/5\n",
      "Maximum run count 10 reached for component 'prompt_builder'\n",
      "iter 1 failed, trying again 1/5\n"
     ]
    },
    {
     "name": "stderr",
     "output_type": "stream",
     "text": [
      "error data = 81, error_rate = 2.82:  95%|█████████▌| 2956/3096 [5:21:01<27:10, 11.64s/it]"
     ]
    },
    {
     "name": "stdout",
     "output_type": "stream",
     "text": [
      "Maximum run count 10 reached for component 'prompt_builder'\n",
      "iter 0 failed, trying again 0/5\n"
     ]
    },
    {
     "name": "stderr",
     "output_type": "stream",
     "text": [
      "error data = 81, error_rate = 2.81:  96%|█████████▌| 2959/3096 [5:21:20<16:33,  7.25s/it]"
     ]
    },
    {
     "name": "stdout",
     "output_type": "stream",
     "text": [
      "Maximum run count 10 reached for component 'prompt_builder'\n",
      "iter 0 failed, trying again 0/5\n"
     ]
    },
    {
     "name": "stderr",
     "output_type": "stream",
     "text": [
      "error data = 81, error_rate = 2.81:  96%|█████████▌| 2961/3096 [5:21:33<14:30,  6.45s/it]"
     ]
    },
    {
     "name": "stdout",
     "output_type": "stream",
     "text": [
      "Maximum run count 10 reached for component 'prompt_builder'\n",
      "iter 0 failed, trying again 0/5\n",
      "Maximum run count 10 reached for component 'prompt_builder'\n",
      "iter 1 failed, trying again 1/5\n"
     ]
    },
    {
     "name": "stderr",
     "output_type": "stream",
     "text": [
      "error data = 81, error_rate = 2.81:  96%|█████████▌| 2962/3096 [5:21:51<22:13,  9.95s/it]"
     ]
    },
    {
     "name": "stdout",
     "output_type": "stream",
     "text": [
      "Maximum run count 10 reached for component 'prompt_builder'\n",
      "iter 0 failed, trying again 0/5\n",
      "Maximum run count 10 reached for component 'prompt_builder'\n",
      "iter 1 failed, trying again 1/5\n"
     ]
    },
    {
     "name": "stderr",
     "output_type": "stream",
     "text": [
      "error data = 81, error_rate = 2.81:  96%|█████████▌| 2965/3096 [5:22:15<16:26,  7.53s/it]"
     ]
    },
    {
     "name": "stdout",
     "output_type": "stream",
     "text": [
      "Maximum run count 10 reached for component 'prompt_builder'\n",
      "iter 0 failed, trying again 0/5\n"
     ]
    },
    {
     "name": "stderr",
     "output_type": "stream",
     "text": [
      "error data = 81, error_rate = 2.81:  96%|█████████▌| 2968/3096 [5:22:30<11:07,  5.21s/it]"
     ]
    },
    {
     "name": "stdout",
     "output_type": "stream",
     "text": [
      "Maximum run count 10 reached for component 'prompt_builder'\n",
      "iter 0 failed, trying again 0/5\n",
      "Maximum run count 10 reached for component 'prompt_builder'\n",
      "iter 1 failed, trying again 1/5\n"
     ]
    },
    {
     "name": "stderr",
     "output_type": "stream",
     "text": [
      "error data = 81, error_rate = 2.80:  96%|█████████▌| 2970/3096 [5:22:58<17:56,  8.54s/it]"
     ]
    },
    {
     "name": "stdout",
     "output_type": "stream",
     "text": [
      "Maximum run count 10 reached for component 'prompt_builder'\n",
      "iter 0 failed, trying again 0/5\n",
      "Maximum run count 10 reached for component 'prompt_builder'\n",
      "iter 1 failed, trying again 1/5\n",
      "Maximum run count 10 reached for component 'prompt_builder'\n",
      "iter 2 failed, trying again 2/5\n",
      "Maximum run count 10 reached for component 'prompt_builder'\n",
      "iter 3 failed, trying again 3/5\n"
     ]
    },
    {
     "name": "stderr",
     "output_type": "stream",
     "text": [
      "error data = 82, error_rate = 2.84:  96%|█████████▌| 2971/3096 [5:23:31<33:06, 15.89s/it]"
     ]
    },
    {
     "name": "stdout",
     "output_type": "stream",
     "text": [
      "Maximum run count 10 reached for component 'prompt_builder'\n",
      "iter 4 failed, trying again 4/5\n"
     ]
    },
    {
     "name": "stderr",
     "output_type": "stream",
     "text": [
      "error data = 82, error_rate = 2.84:  96%|█████████▌| 2972/3096 [5:23:34<25:09, 12.17s/it]"
     ]
    },
    {
     "name": "stdout",
     "output_type": "stream",
     "text": [
      "Maximum run count 10 reached for component 'prompt_builder'\n",
      "iter 0 failed, trying again 0/5\n"
     ]
    },
    {
     "name": "stderr",
     "output_type": "stream",
     "text": [
      "error data = 82, error_rate = 2.84:  96%|█████████▌| 2973/3096 [5:23:48<25:49, 12.60s/it]"
     ]
    },
    {
     "name": "stdout",
     "output_type": "stream",
     "text": [
      "Maximum run count 10 reached for component 'prompt_builder'\n",
      "iter 0 failed, trying again 0/5\n",
      "Maximum run count 10 reached for component 'prompt_builder'\n",
      "iter 1 failed, trying again 1/5\n",
      "Maximum run count 10 reached for component 'prompt_builder'\n",
      "iter 2 failed, trying again 2/5\n"
     ]
    },
    {
     "name": "stderr",
     "output_type": "stream",
     "text": [
      "error data = 82, error_rate = 2.83:  96%|█████████▌| 2977/3096 [5:24:18<13:32,  6.83s/it]"
     ]
    },
    {
     "name": "stdout",
     "output_type": "stream",
     "text": [
      "Maximum run count 10 reached for component 'prompt_builder'\n",
      "iter 0 failed, trying again 0/5\n",
      "Maximum run count 10 reached for component 'prompt_builder'\n",
      "iter 1 failed, trying again 1/5\n"
     ]
    },
    {
     "name": "stderr",
     "output_type": "stream",
     "text": [
      "error data = 82, error_rate = 2.83:  96%|█████████▋| 2980/3096 [5:24:46<15:27,  7.99s/it]"
     ]
    },
    {
     "name": "stdout",
     "output_type": "stream",
     "text": [
      "Maximum run count 10 reached for component 'prompt_builder'\n",
      "iter 0 failed, trying again 0/5\n",
      "Maximum run count 10 reached for component 'prompt_builder'\n",
      "iter 1 failed, trying again 1/5\n",
      "Maximum run count 10 reached for component 'prompt_builder'\n",
      "iter 2 failed, trying again 2/5\n",
      "Maximum run count 10 reached for component 'prompt_builder'\n",
      "iter 3 failed, trying again 3/5\n"
     ]
    },
    {
     "name": "stderr",
     "output_type": "stream",
     "text": [
      "error data = 83, error_rate = 2.86:  96%|█████████▋| 2981/3096 [5:25:18<29:17, 15.29s/it]"
     ]
    },
    {
     "name": "stdout",
     "output_type": "stream",
     "text": [
      "Maximum run count 10 reached for component 'prompt_builder'\n",
      "iter 4 failed, trying again 4/5\n"
     ]
    },
    {
     "name": "stderr",
     "output_type": "stream",
     "text": [
      "error data = 83, error_rate = 2.86:  96%|█████████▋| 2985/3096 [5:25:33<12:23,  6.70s/it]"
     ]
    },
    {
     "name": "stdout",
     "output_type": "stream",
     "text": [
      "Maximum run count 10 reached for component 'prompt_builder'\n",
      "iter 0 failed, trying again 0/5\n"
     ]
    },
    {
     "name": "stderr",
     "output_type": "stream",
     "text": [
      "error data = 83, error_rate = 2.86:  97%|█████████▋| 2988/3096 [5:25:53<11:30,  6.40s/it]"
     ]
    },
    {
     "name": "stdout",
     "output_type": "stream",
     "text": [
      "Maximum run count 10 reached for component 'prompt_builder'\n",
      "iter 0 failed, trying again 0/5\n",
      "Maximum run count 10 reached for component 'prompt_builder'\n",
      "iter 1 failed, trying again 1/5\n"
     ]
    },
    {
     "name": "stderr",
     "output_type": "stream",
     "text": [
      "error data = 83, error_rate = 2.85:  97%|█████████▋| 2992/3096 [5:26:24<11:42,  6.75s/it]"
     ]
    },
    {
     "name": "stdout",
     "output_type": "stream",
     "text": [
      "Maximum run count 10 reached for component 'prompt_builder'\n",
      "iter 0 failed, trying again 0/5\n"
     ]
    },
    {
     "name": "stderr",
     "output_type": "stream",
     "text": [
      "error data = 83, error_rate = 2.85:  97%|█████████▋| 2995/3096 [5:26:42<10:13,  6.08s/it]"
     ]
    },
    {
     "name": "stdout",
     "output_type": "stream",
     "text": [
      "Maximum run count 10 reached for component 'prompt_builder'\n",
      "iter 0 failed, trying again 0/5\n",
      "Maximum run count 10 reached for component 'prompt_builder'\n",
      "iter 1 failed, trying again 1/5\n",
      "Maximum run count 10 reached for component 'prompt_builder'\n",
      "iter 2 failed, trying again 2/5\n",
      "Maximum run count 10 reached for component 'prompt_builder'\n",
      "iter 3 failed, trying again 3/5\n"
     ]
    },
    {
     "name": "stderr",
     "output_type": "stream",
     "text": [
      "error data = 84, error_rate = 2.88:  97%|█████████▋| 2996/3096 [5:27:18<24:37, 14.78s/it]"
     ]
    },
    {
     "name": "stdout",
     "output_type": "stream",
     "text": [
      "Maximum run count 10 reached for component 'prompt_builder'\n",
      "iter 4 failed, trying again 4/5\n"
     ]
    },
    {
     "name": "stderr",
     "output_type": "stream",
     "text": [
      "error data = 84, error_rate = 2.88:  97%|█████████▋| 3003/3096 [5:27:46<07:53,  5.10s/it]"
     ]
    },
    {
     "name": "stdout",
     "output_type": "stream",
     "text": [
      "Maximum run count 10 reached for component 'prompt_builder'\n",
      "iter 0 failed, trying again 0/5\n"
     ]
    },
    {
     "name": "stderr",
     "output_type": "stream",
     "text": [
      "error data = 84, error_rate = 2.87:  97%|█████████▋| 3007/3096 [5:28:03<06:09,  4.15s/it]"
     ]
    },
    {
     "name": "stdout",
     "output_type": "stream",
     "text": [
      "Maximum run count 10 reached for component 'prompt_builder'\n",
      "iter 0 failed, trying again 0/5\n",
      "Maximum run count 10 reached for component 'prompt_builder'\n",
      "iter 1 failed, trying again 1/5\n",
      "Maximum run count 10 reached for component 'prompt_builder'\n",
      "iter 2 failed, trying again 2/5\n"
     ]
    },
    {
     "name": "stderr",
     "output_type": "stream",
     "text": [
      "error data = 84, error_rate = 2.87:  97%|█████████▋| 3009/3096 [5:28:36<13:12,  9.10s/it]"
     ]
    },
    {
     "name": "stdout",
     "output_type": "stream",
     "text": [
      "Maximum run count 10 reached for component 'prompt_builder'\n",
      "iter 0 failed, trying again 0/5\n",
      "Maximum run count 10 reached for component 'prompt_builder'\n",
      "iter 1 failed, trying again 1/5\n"
     ]
    },
    {
     "name": "stderr",
     "output_type": "stream",
     "text": [
      "error data = 84, error_rate = 2.87:  97%|█████████▋| 3010/3096 [5:29:00<19:38, 13.70s/it]"
     ]
    },
    {
     "name": "stdout",
     "output_type": "stream",
     "text": [
      "Maximum run count 10 reached for component 'prompt_builder'\n",
      "iter 0 failed, trying again 0/5\n",
      "Maximum run count 10 reached for component 'prompt_builder'\n",
      "iter 1 failed, trying again 1/5\n"
     ]
    },
    {
     "name": "stderr",
     "output_type": "stream",
     "text": [
      "error data = 84, error_rate = 2.87:  97%|█████████▋| 3011/3096 [5:29:18<21:05, 14.89s/it]"
     ]
    },
    {
     "name": "stdout",
     "output_type": "stream",
     "text": [
      "Maximum run count 10 reached for component 'prompt_builder'\n",
      "iter 0 failed, trying again 0/5\n"
     ]
    },
    {
     "name": "stderr",
     "output_type": "stream",
     "text": [
      "error data = 84, error_rate = 2.87:  97%|█████████▋| 3015/3096 [5:29:37<08:41,  6.44s/it]"
     ]
    },
    {
     "name": "stdout",
     "output_type": "stream",
     "text": [
      "Maximum run count 10 reached for component 'prompt_builder'\n",
      "iter 0 failed, trying again 0/5\n"
     ]
    },
    {
     "name": "stderr",
     "output_type": "stream",
     "text": [
      "error data = 84, error_rate = 2.86:  97%|█████████▋| 3016/3096 [5:29:46<09:39,  7.24s/it]"
     ]
    },
    {
     "name": "stdout",
     "output_type": "stream",
     "text": [
      "Maximum run count 10 reached for component 'prompt_builder'\n",
      "iter 0 failed, trying again 0/5\n",
      "Maximum run count 10 reached for component 'prompt_builder'\n",
      "iter 1 failed, trying again 1/5\n",
      "Maximum run count 10 reached for component 'prompt_builder'\n",
      "iter 2 failed, trying again 2/5\n",
      "Maximum run count 10 reached for component 'prompt_builder'\n",
      "iter 3 failed, trying again 3/5\n"
     ]
    },
    {
     "name": "stderr",
     "output_type": "stream",
     "text": [
      "error data = 85, error_rate = 2.90:  97%|█████████▋| 3017/3096 [5:30:20<20:17, 15.41s/it]"
     ]
    },
    {
     "name": "stdout",
     "output_type": "stream",
     "text": [
      "Maximum run count 10 reached for component 'prompt_builder'\n",
      "iter 4 failed, trying again 4/5\n"
     ]
    },
    {
     "name": "stderr",
     "output_type": "stream",
     "text": [
      "error data = 85, error_rate = 2.90:  98%|█████████▊| 3020/3096 [5:30:31<09:38,  7.61s/it]"
     ]
    },
    {
     "name": "stdout",
     "output_type": "stream",
     "text": [
      "Maximum run count 10 reached for component 'prompt_builder'\n",
      "iter 0 failed, trying again 0/5\n",
      "Maximum run count 10 reached for component 'prompt_builder'\n",
      "iter 1 failed, trying again 1/5\n"
     ]
    },
    {
     "name": "stderr",
     "output_type": "stream",
     "text": [
      "error data = 85, error_rate = 2.90:  98%|█████████▊| 3021/3096 [5:30:48<13:16, 10.62s/it]"
     ]
    },
    {
     "name": "stdout",
     "output_type": "stream",
     "text": [
      "Maximum run count 10 reached for component 'prompt_builder'\n",
      "iter 0 failed, trying again 0/5\n"
     ]
    },
    {
     "name": "stderr",
     "output_type": "stream",
     "text": [
      "error data = 85, error_rate = 2.89:  98%|█████████▊| 3023/3096 [5:31:03<10:31,  8.65s/it]"
     ]
    },
    {
     "name": "stdout",
     "output_type": "stream",
     "text": [
      "Maximum run count 10 reached for component 'prompt_builder'\n",
      "iter 0 failed, trying again 0/5\n"
     ]
    },
    {
     "name": "stderr",
     "output_type": "stream",
     "text": [
      "error data = 85, error_rate = 2.89:  98%|█████████▊| 3027/3096 [5:31:19<05:13,  4.54s/it]"
     ]
    },
    {
     "name": "stdout",
     "output_type": "stream",
     "text": [
      "Maximum run count 10 reached for component 'prompt_builder'\n",
      "iter 0 failed, trying again 0/5\n"
     ]
    },
    {
     "name": "stderr",
     "output_type": "stream",
     "text": [
      "error data = 85, error_rate = 2.89:  98%|█████████▊| 3028/3096 [5:31:27<06:00,  5.30s/it]"
     ]
    },
    {
     "name": "stdout",
     "output_type": "stream",
     "text": [
      "Maximum run count 10 reached for component 'prompt_builder'\n",
      "iter 0 failed, trying again 0/5\n",
      "Maximum run count 10 reached for component 'prompt_builder'\n",
      "iter 1 failed, trying again 1/5\n"
     ]
    },
    {
     "name": "stderr",
     "output_type": "stream",
     "text": [
      "error data = 85, error_rate = 2.89:  98%|█████████▊| 3029/3096 [5:31:45<10:18,  9.23s/it]"
     ]
    },
    {
     "name": "stdout",
     "output_type": "stream",
     "text": [
      "Maximum run count 10 reached for component 'prompt_builder'\n",
      "iter 0 failed, trying again 0/5\n",
      "Maximum run count 10 reached for component 'prompt_builder'\n",
      "iter 1 failed, trying again 1/5\n",
      "Maximum run count 10 reached for component 'prompt_builder'\n",
      "iter 2 failed, trying again 2/5\n"
     ]
    },
    {
     "name": "stderr",
     "output_type": "stream",
     "text": [
      "error data = 85, error_rate = 2.89:  98%|█████████▊| 3030/3096 [5:32:06<14:00, 12.74s/it]"
     ]
    },
    {
     "name": "stdout",
     "output_type": "stream",
     "text": [
      "Maximum run count 10 reached for component 'prompt_builder'\n",
      "iter 0 failed, trying again 0/5\n"
     ]
    },
    {
     "name": "stderr",
     "output_type": "stream",
     "text": [
      "error data = 85, error_rate = 2.88:  98%|█████████▊| 3040/3096 [5:32:44<02:24,  2.59s/it]"
     ]
    },
    {
     "name": "stdout",
     "output_type": "stream",
     "text": [
      "Maximum run count 10 reached for component 'prompt_builder'\n",
      "iter 0 failed, trying again 0/5\n",
      "Maximum run count 10 reached for component 'prompt_builder'\n",
      "iter 1 failed, trying again 1/5\n",
      "Maximum run count 10 reached for component 'prompt_builder'\n",
      "iter 2 failed, trying again 2/5\n",
      "Maximum run count 10 reached for component 'prompt_builder'\n",
      "iter 3 failed, trying again 3/5\n"
     ]
    },
    {
     "name": "stderr",
     "output_type": "stream",
     "text": [
      "error data = 85, error_rate = 2.88:  98%|█████████▊| 3041/3096 [5:33:19<11:22, 12.40s/it]"
     ]
    },
    {
     "name": "stdout",
     "output_type": "stream",
     "text": [
      "Maximum run count 10 reached for component 'prompt_builder'\n",
      "iter 0 failed, trying again 0/5\n"
     ]
    },
    {
     "name": "stderr",
     "output_type": "stream",
     "text": [
      "error data = 85, error_rate = 2.87:  98%|█████████▊| 3042/3096 [5:33:27<10:02, 11.16s/it]"
     ]
    },
    {
     "name": "stdout",
     "output_type": "stream",
     "text": [
      "Maximum run count 10 reached for component 'prompt_builder'\n",
      "iter 0 failed, trying again 0/5\n"
     ]
    },
    {
     "name": "stderr",
     "output_type": "stream",
     "text": [
      "error data = 85, error_rate = 2.87:  98%|█████████▊| 3043/3096 [5:33:39<10:06, 11.45s/it]"
     ]
    },
    {
     "name": "stdout",
     "output_type": "stream",
     "text": [
      "Maximum run count 10 reached for component 'prompt_builder'\n",
      "iter 0 failed, trying again 0/5\n"
     ]
    },
    {
     "name": "stderr",
     "output_type": "stream",
     "text": [
      "error data = 85, error_rate = 2.87:  98%|█████████▊| 3045/3096 [5:33:52<07:33,  8.89s/it]"
     ]
    },
    {
     "name": "stdout",
     "output_type": "stream",
     "text": [
      "Maximum run count 10 reached for component 'prompt_builder'\n",
      "iter 0 failed, trying again 0/5\n",
      "Maximum run count 10 reached for component 'prompt_builder'\n",
      "iter 1 failed, trying again 1/5\n",
      "Maximum run count 10 reached for component 'prompt_builder'\n",
      "iter 2 failed, trying again 2/5\n"
     ]
    },
    {
     "name": "stderr",
     "output_type": "stream",
     "text": [
      "error data = 85, error_rate = 2.86:  99%|█████████▊| 3052/3096 [5:34:34<03:29,  4.76s/it]"
     ]
    },
    {
     "name": "stdout",
     "output_type": "stream",
     "text": [
      "Maximum run count 10 reached for component 'prompt_builder'\n",
      "iter 0 failed, trying again 0/5\n"
     ]
    },
    {
     "name": "stderr",
     "output_type": "stream",
     "text": [
      "error data = 85, error_rate = 2.86:  99%|█████████▊| 3053/3096 [5:34:43<04:23,  6.13s/it]"
     ]
    },
    {
     "name": "stdout",
     "output_type": "stream",
     "text": [
      "Maximum run count 10 reached for component 'prompt_builder'\n",
      "iter 0 failed, trying again 0/5\n",
      "Maximum run count 10 reached for component 'prompt_builder'\n",
      "iter 1 failed, trying again 1/5\n"
     ]
    },
    {
     "name": "stderr",
     "output_type": "stream",
     "text": [
      "error data = 85, error_rate = 2.86:  99%|█████████▊| 3054/3096 [5:35:02<06:49,  9.75s/it]"
     ]
    },
    {
     "name": "stdout",
     "output_type": "stream",
     "text": [
      "Maximum run count 10 reached for component 'prompt_builder'\n",
      "iter 0 failed, trying again 0/5\n"
     ]
    },
    {
     "name": "stderr",
     "output_type": "stream",
     "text": [
      "error data = 85, error_rate = 2.86:  99%|█████████▊| 3056/3096 [5:35:25<06:30,  9.77s/it]"
     ]
    },
    {
     "name": "stdout",
     "output_type": "stream",
     "text": [
      "Maximum run count 10 reached for component 'prompt_builder'\n",
      "iter 0 failed, trying again 0/5\n"
     ]
    },
    {
     "name": "stderr",
     "output_type": "stream",
     "text": [
      "error data = 85, error_rate = 2.86:  99%|█████████▉| 3061/3096 [5:35:42<02:18,  3.95s/it]"
     ]
    },
    {
     "name": "stdout",
     "output_type": "stream",
     "text": [
      "Maximum run count 10 reached for component 'prompt_builder'\n",
      "iter 0 failed, trying again 0/5\n"
     ]
    },
    {
     "name": "stderr",
     "output_type": "stream",
     "text": [
      "error data = 85, error_rate = 2.85:  99%|█████████▉| 3064/3096 [5:36:00<02:25,  4.53s/it]"
     ]
    },
    {
     "name": "stdout",
     "output_type": "stream",
     "text": [
      "Maximum run count 10 reached for component 'prompt_builder'\n",
      "iter 0 failed, trying again 0/5\n"
     ]
    },
    {
     "name": "stderr",
     "output_type": "stream",
     "text": [
      "error data = 85, error_rate = 2.85:  99%|█████████▉| 3069/3096 [5:36:18<01:33,  3.45s/it]"
     ]
    },
    {
     "name": "stdout",
     "output_type": "stream",
     "text": [
      "Maximum run count 10 reached for component 'prompt_builder'\n",
      "iter 0 failed, trying again 0/5\n"
     ]
    },
    {
     "name": "stderr",
     "output_type": "stream",
     "text": [
      "error data = 85, error_rate = 2.84:  99%|█████████▉| 3073/3096 [5:36:36<01:26,  3.74s/it]"
     ]
    },
    {
     "name": "stdout",
     "output_type": "stream",
     "text": [
      "Maximum run count 10 reached for component 'prompt_builder'\n",
      "iter 0 failed, trying again 0/5\n"
     ]
    },
    {
     "name": "stderr",
     "output_type": "stream",
     "text": [
      "error data = 85, error_rate = 2.84:  99%|█████████▉| 3076/3096 [5:36:53<01:27,  4.40s/it]"
     ]
    },
    {
     "name": "stdout",
     "output_type": "stream",
     "text": [
      "Maximum run count 10 reached for component 'prompt_builder'\n",
      "iter 0 failed, trying again 0/5\n",
      "Maximum run count 10 reached for component 'prompt_builder'\n",
      "iter 1 failed, trying again 1/5\n",
      "Maximum run count 10 reached for component 'prompt_builder'\n",
      "iter 2 failed, trying again 2/5\n",
      "Maximum run count 10 reached for component 'prompt_builder'\n",
      "iter 3 failed, trying again 3/5\n"
     ]
    },
    {
     "name": "stderr",
     "output_type": "stream",
     "text": [
      "error data = 85, error_rate = 2.84:  99%|█████████▉| 3077/3096 [5:37:30<04:30, 14.25s/it]"
     ]
    },
    {
     "name": "stdout",
     "output_type": "stream",
     "text": [
      "Maximum run count 10 reached for component 'prompt_builder'\n",
      "iter 0 failed, trying again 0/5\n",
      "Maximum run count 10 reached for component 'prompt_builder'\n",
      "iter 1 failed, trying again 1/5\n"
     ]
    },
    {
     "name": "stderr",
     "output_type": "stream",
     "text": [
      "error data = 85, error_rate = 2.83: 100%|█████████▉| 3084/3096 [5:38:10<00:54,  4.55s/it]"
     ]
    },
    {
     "name": "stdout",
     "output_type": "stream",
     "text": [
      "Maximum run count 10 reached for component 'prompt_builder'\n",
      "iter 0 failed, trying again 0/5\n",
      "Maximum run count 10 reached for component 'prompt_builder'\n",
      "iter 1 failed, trying again 1/5\n",
      "Maximum run count 10 reached for component 'prompt_builder'\n",
      "iter 2 failed, trying again 2/5\n"
     ]
    },
    {
     "name": "stderr",
     "output_type": "stream",
     "text": [
      "error data = 85, error_rate = 2.83: 100%|█████████▉| 3090/3096 [5:39:08<00:35,  5.98s/it]"
     ]
    },
    {
     "name": "stdout",
     "output_type": "stream",
     "text": [
      "Maximum run count 10 reached for component 'prompt_builder'\n",
      "iter 0 failed, trying again 0/5\n",
      "Maximum run count 10 reached for component 'prompt_builder'\n",
      "iter 1 failed, trying again 1/5\n"
     ]
    },
    {
     "name": "stderr",
     "output_type": "stream",
     "text": [
      "error data = 85, error_rate = 2.82: 100%|█████████▉| 3094/3096 [5:39:29<00:08,  4.31s/it]"
     ]
    },
    {
     "name": "stdout",
     "output_type": "stream",
     "text": [
      "Maximum run count 10 reached for component 'prompt_builder'\n",
      "iter 0 failed, trying again 0/5\n"
     ]
    },
    {
     "name": "stderr",
     "output_type": "stream",
     "text": [
      "error data = 85, error_rate = 2.82: 100%|██████████| 3096/3096 [5:39:39<00:00,  6.58s/it]\n"
     ]
    }
   ],
   "source": [
    "new_data = []\n",
    "error_data = []\n",
    "loop = tqdm(data)\n",
    "for datapoint in loop:\n",
    "    try:\n",
    "        new_datapoint = extract_company_founders_keywords(datapoint, company_pipeline, founder_pipeline)\n",
    "        new_data.append(new_datapoint)\n",
    "    \n",
    "    except Exception as e:\n",
    "        error_data.append(datapoint)\n",
    "    loop.set_description(f\"error data = {len(error_data)}, error_rate = {(len(error_data) / len(new_data))*100 if len(new_data)!=0 else 0:.2f}%\")\n"
   ]
  },
  {
   "cell_type": "code",
   "execution_count": 25,
   "metadata": {},
   "outputs": [],
   "source": [
    "with open('new_data.json', 'w') as file:\n",
    "    json.dump(new_data, file)\n",
    "\n",
    "with open('error_data.json', 'w') as file:\n",
    "    json.dump(error_data, file)"
   ]
  },
  {
   "cell_type": "code",
   "execution_count": 26,
   "metadata": {},
   "outputs": [
    {
     "name": "stdout",
     "output_type": "stream",
     "text": [
      "3011\n"
     ]
    }
   ],
   "source": [
    "with open('new_data.json', 'r') as file:\n",
    "    newdata1 = json.load(file)\n",
    "print(len(newdata1))"
   ]
  },
  {
   "cell_type": "code",
   "execution_count": 28,
   "metadata": {},
   "outputs": [
    {
     "name": "stdout",
     "output_type": "stream",
     "text": [
      "{'batch': 'S23',\n",
      " 'cb_url': 'https://www.crunchbase.com/organization/orbio',\n",
      " 'company_keywords': {'keywords': ['oil and gas industry',\n",
      "                                   'methane emissions',\n",
      "                                   'satellite imagery',\n",
      "                                   'emission factors',\n",
      "                                   'energy companies',\n",
      "                                   'regulation',\n",
      "                                   'investment',\n",
      "                                   'financial companies',\n",
      "                                   'Excel-based emission factors']},\n",
      " 'company_name': 'Orbio Earth',\n",
      " 'description': 'Orbio uses satellite imagery to track methane emissions from '\n",
      "                'the oil & gas industry. We sell the data to financial '\n",
      "                'companies that want to invest into the best performing energy '\n",
      "                'companies.\\r\\n'\n",
      "                '\\n'\n",
      "                'Until today, oil & gas companies use excel-based emission '\n",
      "                'factors to calculate and report their emissions. As these '\n",
      "                'excel-based emission factors underestimate actual emissions '\n",
      "                'by ~70%, the finance companies that invest into oil & gas '\n",
      "                'can’t mitigate against incoming risks from new '\n",
      "                'regulations, \\r\\n'\n",
      "                '\\n'\n",
      "                'We have built a technology that can for the first time use '\n",
      "                'satellite images to track methane from every single oil & gas '\n",
      "                'facility on the planet, replacing emission factors and '\n",
      "                'allowing finance companies to make the best bets on oil & gas '\n",
      "                'companies that will withstand a wide avalanche of incoming '\n",
      "                'regulation. In the summer 2023 our satellite-based technology '\n",
      "                'got ranked #1 both in terms of accuracy and sensitivity of '\n",
      "                'methane emission events by Stanford University in a '\n",
      "                'peer-reviewed study, beating a range of multi-bn dollar '\n",
      "                'competitors like Maxar.\\r\\n'\n",
      "                '\\n'\n",
      "                'Learn more at https://orbio.earthCo-Founder Orbio Earth GmbH; '\n",
      "                'Ex-ML Engineer NASA Harvest; Ex-CervestClimate optimist '\n",
      "                'building out product and commercial strategy @ Orbio Earth',\n",
      " 'founder_keywords': ['tech',\n",
      "                      'orbio',\n",
      "                      'nasa',\n",
      "                      'strategy',\n",
      "                      'startups',\n",
      "                      'product',\n",
      "                      'earth',\n",
      "                      'climate',\n",
      "                      'optimist',\n",
      "                      'serial founders',\n",
      "                      'ml'],\n",
      " 'founders': [{'background': 'Co-Founder Orbio Earth GmbH; Ex-ML Engineer NASA '\n",
      "                             'Harvest; Ex-Cervest',\n",
      "               'name': 'Robert Huppertz'},\n",
      "              {'background': 'Climate optimist building out product and '\n",
      "                             'commercial strategy @ Orbio Earth',\n",
      "               'name': 'Jack Angela'}],\n",
      " 'founders_socials': [{'linkedin_url': 'https://linkedin.com/in/robert-huppertz-6536a0122',\n",
      "                       'name': 'Robert Huppertz'},\n",
      "                      {'linkedin_url': 'https://linkedin.com/in/jack-angela-bab326a5',\n",
      "                       'name': 'Jack Angela'}],\n",
      " 'group_partner': 'Gustaf Alstromer',\n",
      " 'group_partner link ': 'https://www.ycombinator.com/people/gustaf-alstromer',\n",
      " 'location': None,\n",
      " 'num_founders': 2,\n",
      " 'season': 'spring',\n",
      " 'team_size': 14,\n",
      " 'url': 'https://www.ycombinator.com/companies/orbio-earth',\n",
      " 'yc_year': '2023',\n",
      " 'year_founded': 2021}\n"
     ]
    }
   ],
   "source": [
    "pprint(newdata1[0])"
   ]
  },
  {
   "cell_type": "code",
   "execution_count": null,
   "metadata": {},
   "outputs": [],
   "source": []
  },
  {
   "cell_type": "code",
   "execution_count": null,
   "metadata": {},
   "outputs": [],
   "source": []
  }
 ],
 "metadata": {
  "kernelspec": {
   "display_name": "torch",
   "language": "python",
   "name": "python3"
  },
  "language_info": {
   "codemirror_mode": {
    "name": "ipython",
    "version": 3
   },
   "file_extension": ".py",
   "mimetype": "text/x-python",
   "name": "python",
   "nbconvert_exporter": "python",
   "pygments_lexer": "ipython3",
   "version": "3.12.2"
  }
 },
 "nbformat": 4,
 "nbformat_minor": 2
}
