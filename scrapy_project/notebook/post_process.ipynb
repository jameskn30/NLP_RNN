{
 "cells": [
  {
   "cell_type": "code",
   "execution_count": 2,
   "metadata": {},
   "outputs": [],
   "source": [
    "import json\n",
    "import pandas as pd\n",
    "import os\n",
    "import shutil\n",
    "from pprint import pprint"
   ]
  },
  {
   "cell_type": "code",
   "execution_count": 2,
   "metadata": {},
   "outputs": [
    {
     "name": "stdout",
     "output_type": "stream",
     "text": [
      "data len =  3097\n"
     ]
    }
   ],
   "source": [
    "path_to_scrapy_output = '../yc_scraper/output.json'\n",
    "\n",
    "assert os.path.exists(path_to_scrapy_output), f'path not found: {path_to_scrapy_output}'\n",
    "\n",
    "with open(path_to_scrapy_output, 'r') as file:\n",
    "    data = json.load(file) \n",
    "    print('data len = ', len(data))"
   ]
  },
  {
   "cell_type": "code",
   "execution_count": 3,
   "metadata": {},
   "outputs": [
    {
     "name": "stdout",
     "output_type": "stream",
     "text": [
      "['url',\n",
      " 'year',\n",
      " 'team_size',\n",
      " 'location',\n",
      " 'group_partner',\n",
      " 'group_partner link ',\n",
      " 'description',\n",
      " 'founders',\n",
      " 'founders_socials',\n",
      " 'season',\n",
      " 'yc_year']\n"
     ]
    }
   ],
   "source": [
    "pprint(list(data[0].keys()))"
   ]
  },
  {
   "cell_type": "code",
   "execution_count": 8,
   "metadata": {},
   "outputs": [
    {
     "name": "stdout",
     "output_type": "stream",
     "text": [
      "(3097, 11)\n",
      "['url',\n",
      " 'year',\n",
      " 'team_size',\n",
      " 'location',\n",
      " 'group_partner',\n",
      " 'group_partner link ',\n",
      " 'description',\n",
      " 'founders',\n",
      " 'founders_socials',\n",
      " 'season',\n",
      " 'yc_year']\n"
     ]
    },
    {
     "data": {
      "text/html": [
       "<div>\n",
       "<style scoped>\n",
       "    .dataframe tbody tr th:only-of-type {\n",
       "        vertical-align: middle;\n",
       "    }\n",
       "\n",
       "    .dataframe tbody tr th {\n",
       "        vertical-align: top;\n",
       "    }\n",
       "\n",
       "    .dataframe thead th {\n",
       "        text-align: right;\n",
       "    }\n",
       "</style>\n",
       "<table border=\"1\" class=\"dataframe\">\n",
       "  <thead>\n",
       "    <tr style=\"text-align: right;\">\n",
       "      <th></th>\n",
       "      <th>url</th>\n",
       "      <th>year</th>\n",
       "      <th>team_size</th>\n",
       "      <th>location</th>\n",
       "      <th>group_partner</th>\n",
       "      <th>group_partner link</th>\n",
       "      <th>description</th>\n",
       "      <th>founders</th>\n",
       "      <th>founders_socials</th>\n",
       "      <th>season</th>\n",
       "      <th>yc_year</th>\n",
       "    </tr>\n",
       "  </thead>\n",
       "  <tbody>\n",
       "    <tr>\n",
       "      <th>0</th>\n",
       "      <td>https://www.ycombinator.com/companies/openpipe</td>\n",
       "      <td>2023</td>\n",
       "      <td>2</td>\n",
       "      <td>Seattle, WA</td>\n",
       "      <td>Harj Taggar</td>\n",
       "      <td>https://www.ycombinator.com/people/harj-taggar</td>\n",
       "      <td>OpenPipe is an SDK that abstracts away fine-tu...</td>\n",
       "      <td>[{'name': 'Kyle Corbitt', 'background': 'Repea...</td>\n",
       "      <td>[{'name': 'Kyle Corbitt', 'linkedin_url': 'htt...</td>\n",
       "      <td>spring</td>\n",
       "      <td>2023</td>\n",
       "    </tr>\n",
       "    <tr>\n",
       "      <th>1</th>\n",
       "      <td>https://www.ycombinator.com/companies/martin</td>\n",
       "      <td>2023</td>\n",
       "      <td>2</td>\n",
       "      <td>San Francisco</td>\n",
       "      <td>Jared Friedman</td>\n",
       "      <td>https://www.ycombinator.com/people/jared-friedman</td>\n",
       "      <td>Call, text, or email Martin. He manages your c...</td>\n",
       "      <td>[{'name': 'Dawson Chen', 'background': 'CEO at...</td>\n",
       "      <td>[{'name': 'Dawson Chen', 'linkedin_url': 'http...</td>\n",
       "      <td>spring</td>\n",
       "      <td>2023</td>\n",
       "    </tr>\n",
       "    <tr>\n",
       "      <th>2</th>\n",
       "      <td>https://www.ycombinator.com/companies/codestory</td>\n",
       "      <td>2023</td>\n",
       "      <td>4</td>\n",
       "      <td>London, United Kingdom</td>\n",
       "      <td>Michael Seibel</td>\n",
       "      <td>https://www.ycombinator.com/people/michael-seibel</td>\n",
       "      <td>We're building Aide, an AI-native IDE designed...</td>\n",
       "      <td>[{'name': 'Sandeep Pani', 'background': 'Curre...</td>\n",
       "      <td>[{'name': 'Sandeep Pani', 'linkedin_url': 'htt...</td>\n",
       "      <td>spring</td>\n",
       "      <td>2023</td>\n",
       "    </tr>\n",
       "    <tr>\n",
       "      <th>3</th>\n",
       "      <td>https://www.ycombinator.com/companies/healthte...</td>\n",
       "      <td>2021</td>\n",
       "      <td>13</td>\n",
       "      <td>London, United Kingdom</td>\n",
       "      <td>Tom Blomfield</td>\n",
       "      <td>https://www.ycombinator.com/people/tom-blomfield</td>\n",
       "      <td>Healthtech-1 automates repetitive processes fo...</td>\n",
       "      <td>[{'name': 'Raj Kohli', 'background': 'NHS Clin...</td>\n",
       "      <td>[{'name': 'Raj Kohli', 'linkedin_url': 'https:...</td>\n",
       "      <td>spring</td>\n",
       "      <td>2023</td>\n",
       "    </tr>\n",
       "    <tr>\n",
       "      <th>4</th>\n",
       "      <td>https://www.ycombinator.com/companies/openpipe</td>\n",
       "      <td>2023</td>\n",
       "      <td>2</td>\n",
       "      <td>Seattle, WA</td>\n",
       "      <td>Harj Taggar</td>\n",
       "      <td>https://www.ycombinator.com/people/harj-taggar</td>\n",
       "      <td>OpenPipe is an SDK that abstracts away fine-tu...</td>\n",
       "      <td>[{'name': 'Kyle Corbitt', 'background': 'Repea...</td>\n",
       "      <td>[{'name': 'Kyle Corbitt', 'linkedin_url': 'htt...</td>\n",
       "      <td>spring</td>\n",
       "      <td>2023</td>\n",
       "    </tr>\n",
       "  </tbody>\n",
       "</table>\n",
       "</div>"
      ],
      "text/plain": [
       "                                                 url  year team_size  \\\n",
       "0     https://www.ycombinator.com/companies/openpipe  2023         2   \n",
       "1       https://www.ycombinator.com/companies/martin  2023         2   \n",
       "2    https://www.ycombinator.com/companies/codestory  2023         4   \n",
       "3  https://www.ycombinator.com/companies/healthte...  2021        13   \n",
       "4     https://www.ycombinator.com/companies/openpipe  2023         2   \n",
       "\n",
       "                 location   group_partner  \\\n",
       "0             Seattle, WA     Harj Taggar   \n",
       "1           San Francisco  Jared Friedman   \n",
       "2  London, United Kingdom  Michael Seibel   \n",
       "3  London, United Kingdom   Tom Blomfield   \n",
       "4             Seattle, WA     Harj Taggar   \n",
       "\n",
       "                                 group_partner link   \\\n",
       "0     https://www.ycombinator.com/people/harj-taggar   \n",
       "1  https://www.ycombinator.com/people/jared-friedman   \n",
       "2  https://www.ycombinator.com/people/michael-seibel   \n",
       "3   https://www.ycombinator.com/people/tom-blomfield   \n",
       "4     https://www.ycombinator.com/people/harj-taggar   \n",
       "\n",
       "                                         description  \\\n",
       "0  OpenPipe is an SDK that abstracts away fine-tu...   \n",
       "1  Call, text, or email Martin. He manages your c...   \n",
       "2  We're building Aide, an AI-native IDE designed...   \n",
       "3  Healthtech-1 automates repetitive processes fo...   \n",
       "4  OpenPipe is an SDK that abstracts away fine-tu...   \n",
       "\n",
       "                                            founders  \\\n",
       "0  [{'name': 'Kyle Corbitt', 'background': 'Repea...   \n",
       "1  [{'name': 'Dawson Chen', 'background': 'CEO at...   \n",
       "2  [{'name': 'Sandeep Pani', 'background': 'Curre...   \n",
       "3  [{'name': 'Raj Kohli', 'background': 'NHS Clin...   \n",
       "4  [{'name': 'Kyle Corbitt', 'background': 'Repea...   \n",
       "\n",
       "                                    founders_socials  season yc_year  \n",
       "0  [{'name': 'Kyle Corbitt', 'linkedin_url': 'htt...  spring    2023  \n",
       "1  [{'name': 'Dawson Chen', 'linkedin_url': 'http...  spring    2023  \n",
       "2  [{'name': 'Sandeep Pani', 'linkedin_url': 'htt...  spring    2023  \n",
       "3  [{'name': 'Raj Kohli', 'linkedin_url': 'https:...  spring    2023  \n",
       "4  [{'name': 'Kyle Corbitt', 'linkedin_url': 'htt...  spring    2023  "
      ]
     },
     "execution_count": 8,
     "metadata": {},
     "output_type": "execute_result"
    }
   ],
   "source": [
    "df = pd.DataFrame(data)\n",
    "print(df.shape)\n",
    "pprint(list(df.columns))\n",
    "df.head()"
   ]
  },
  {
   "cell_type": "code",
   "execution_count": 10,
   "metadata": {},
   "outputs": [
    {
     "name": "stdout",
     "output_type": "stream",
     "text": [
      "[{'background': 'Repeat founder and former engineer at Google and YC. Led the '\n",
      "                'Startup School team and built products that increased YC '\n",
      "                'applications by over 40%.',\n",
      "  'name': 'Kyle Corbitt'},\n",
      " {'background': \"I'm a co-founder at OpenPipe, a platform for turning your \"\n",
      "                'slow and expensive prompts into cheap fine-tuned models. My '\n",
      "                'cofounder and I wrote the first web agent that ran on GPT-4 '\n",
      "                \"(Taxy.AI) and I've been fine-tuning models since 2021.\",\n",
      "  'name': 'David Corbitt'}]\n"
     ]
    }
   ],
   "source": [
    "pprint(df.iloc[0]['founders'])"
   ]
  },
  {
   "cell_type": "code",
   "execution_count": 11,
   "metadata": {},
   "outputs": [],
   "source": [
    "df.to_csv(\"postprocessing.csv\", index=False)"
   ]
  },
  {
   "cell_type": "markdown",
   "metadata": {},
   "source": [
    "# A little EDA"
   ]
  },
  {
   "cell_type": "code",
   "execution_count": 4,
   "metadata": {},
   "outputs": [
    {
     "name": "stdout",
     "output_type": "stream",
     "text": [
      "(3097, 11)\n"
     ]
    },
    {
     "data": {
      "text/html": [
       "<div>\n",
       "<style scoped>\n",
       "    .dataframe tbody tr th:only-of-type {\n",
       "        vertical-align: middle;\n",
       "    }\n",
       "\n",
       "    .dataframe tbody tr th {\n",
       "        vertical-align: top;\n",
       "    }\n",
       "\n",
       "    .dataframe thead th {\n",
       "        text-align: right;\n",
       "    }\n",
       "</style>\n",
       "<table border=\"1\" class=\"dataframe\">\n",
       "  <thead>\n",
       "    <tr style=\"text-align: right;\">\n",
       "      <th></th>\n",
       "      <th>url</th>\n",
       "      <th>year</th>\n",
       "      <th>team_size</th>\n",
       "      <th>location</th>\n",
       "      <th>group_partner</th>\n",
       "      <th>group_partner link</th>\n",
       "      <th>description</th>\n",
       "      <th>founders</th>\n",
       "      <th>founders_socials</th>\n",
       "      <th>season</th>\n",
       "      <th>yc_year</th>\n",
       "    </tr>\n",
       "  </thead>\n",
       "  <tbody>\n",
       "    <tr>\n",
       "      <th>0</th>\n",
       "      <td>https://www.ycombinator.com/companies/openpipe</td>\n",
       "      <td>2023.0</td>\n",
       "      <td>2.0</td>\n",
       "      <td>Seattle, WA</td>\n",
       "      <td>Harj Taggar</td>\n",
       "      <td>https://www.ycombinator.com/people/harj-taggar</td>\n",
       "      <td>OpenPipe is an SDK that abstracts away fine-tu...</td>\n",
       "      <td>[{'name': 'Kyle Corbitt', 'background': 'Repea...</td>\n",
       "      <td>[{'name': 'Kyle Corbitt', 'linkedin_url': 'htt...</td>\n",
       "      <td>spring</td>\n",
       "      <td>2023</td>\n",
       "    </tr>\n",
       "    <tr>\n",
       "      <th>1</th>\n",
       "      <td>https://www.ycombinator.com/companies/martin</td>\n",
       "      <td>2023.0</td>\n",
       "      <td>2.0</td>\n",
       "      <td>San Francisco</td>\n",
       "      <td>Jared Friedman</td>\n",
       "      <td>https://www.ycombinator.com/people/jared-friedman</td>\n",
       "      <td>Call, text, or email Martin. He manages your c...</td>\n",
       "      <td>[{'name': 'Dawson Chen', 'background': 'CEO at...</td>\n",
       "      <td>[{'name': 'Dawson Chen', 'linkedin_url': 'http...</td>\n",
       "      <td>spring</td>\n",
       "      <td>2023</td>\n",
       "    </tr>\n",
       "  </tbody>\n",
       "</table>\n",
       "</div>"
      ],
      "text/plain": [
       "                                              url    year  team_size  \\\n",
       "0  https://www.ycombinator.com/companies/openpipe  2023.0        2.0   \n",
       "1    https://www.ycombinator.com/companies/martin  2023.0        2.0   \n",
       "\n",
       "        location   group_partner  \\\n",
       "0    Seattle, WA     Harj Taggar   \n",
       "1  San Francisco  Jared Friedman   \n",
       "\n",
       "                                 group_partner link   \\\n",
       "0     https://www.ycombinator.com/people/harj-taggar   \n",
       "1  https://www.ycombinator.com/people/jared-friedman   \n",
       "\n",
       "                                         description  \\\n",
       "0  OpenPipe is an SDK that abstracts away fine-tu...   \n",
       "1  Call, text, or email Martin. He manages your c...   \n",
       "\n",
       "                                            founders  \\\n",
       "0  [{'name': 'Kyle Corbitt', 'background': 'Repea...   \n",
       "1  [{'name': 'Dawson Chen', 'background': 'CEO at...   \n",
       "\n",
       "                                    founders_socials  season  yc_year  \n",
       "0  [{'name': 'Kyle Corbitt', 'linkedin_url': 'htt...  spring     2023  \n",
       "1  [{'name': 'Dawson Chen', 'linkedin_url': 'http...  spring     2023  "
      ]
     },
     "execution_count": 4,
     "metadata": {},
     "output_type": "execute_result"
    }
   ],
   "source": [
    "#load the csv file\n",
    "\n",
    "df = pd.read_csv(\"postprocessing.csv\")\n",
    "print(df.shape)\n",
    "df.head(2)\n"
   ]
  },
  {
   "cell_type": "code",
   "execution_count": 6,
   "metadata": {},
   "outputs": [
    {
     "name": "stdout",
     "output_type": "stream",
     "text": [
      "url                       0\n",
      "year                    197\n",
      "team_size                43\n",
      "location                233\n",
      "group_partner          1325\n",
      "group_partner link     1325\n",
      "description              75\n",
      "founders                  0\n",
      "founders_socials          0\n",
      "season                    0\n",
      "yc_year                   0\n",
      "dtype: int64\n"
     ]
    }
   ],
   "source": [
    "print(df.isna().sum())"
   ]
  },
  {
   "cell_type": "markdown",
   "metadata": {},
   "source": [
    "# LLM to extract keyword\n",
    "\n",
    "- build pipeline with haystack \n",
    "- validate the output format\n"
   ]
  },
  {
   "cell_type": "code",
   "execution_count": null,
   "metadata": {},
   "outputs": [],
   "source": []
  },
  {
   "cell_type": "code",
   "execution_count": null,
   "metadata": {},
   "outputs": [],
   "source": []
  },
  {
   "cell_type": "code",
   "execution_count": null,
   "metadata": {},
   "outputs": [],
   "source": []
  },
  {
   "cell_type": "code",
   "execution_count": null,
   "metadata": {},
   "outputs": [],
   "source": []
  },
  {
   "cell_type": "code",
   "execution_count": null,
   "metadata": {},
   "outputs": [],
   "source": []
  }
 ],
 "metadata": {
  "kernelspec": {
   "display_name": "torch",
   "language": "python",
   "name": "python3"
  },
  "language_info": {
   "codemirror_mode": {
    "name": "ipython",
    "version": 3
   },
   "file_extension": ".py",
   "mimetype": "text/x-python",
   "name": "python",
   "nbconvert_exporter": "python",
   "pygments_lexer": "ipython3",
   "version": "3.12.2"
  }
 },
 "nbformat": 4,
 "nbformat_minor": 2
}
