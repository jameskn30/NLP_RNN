{
 "cells": [
  {
   "cell_type": "code",
   "execution_count": 10,
   "metadata": {},
   "outputs": [],
   "source": [
    "import torch\n",
    "import requests\n",
    "import os\n",
    "import shutil"
   ]
  },
  {
   "cell_type": "code",
   "execution_count": 31,
   "metadata": {},
   "outputs": [
    {
     "name": "stdout",
     "output_type": "stream",
     "text": [
      "SUCCESS https://www.gutenberg.org/ebooks/2701.txt.utf-8\n",
      "SUCCESS https://www.gutenberg.org/ebooks/1342.txt.utf-8\n",
      "SUCCESS https://www.gutenberg.org/ebooks/1513.txt.utf-8\n",
      "SUCCESS https://www.gutenberg.org/ebooks/84.txt.utf-8\n",
      "SUCCESS https://www.gutenberg.org/ebooks/145.txt.utf-8\n"
     ]
    }
   ],
   "source": [
    "class ProjectGutenberg:\n",
    "    def __init__(self, **kwargs):\n",
    "        self._download(**kwargs)\n",
    "\n",
    "    def _download(self, links_path = 'links.txt', output_dir = 'output'):\n",
    "        #read links from file\n",
    "        books = []\n",
    "        with open(links_path, 'r') as file:\n",
    "            errors = []\n",
    "            for link in file.readlines():\n",
    "                link = link.rstrip()\n",
    "                try:\n",
    "                    res = requests.get(link)\n",
    "                    if res.status_code != 200:\n",
    "                        raise Exception(f\"Failed to Fetch, Error code {res.status_code}\")\n",
    "                    books.append(res.text)\n",
    "                    print(f\"SUCCESS {link}\")\n",
    "\n",
    "                except Exception as e:\n",
    "                    print(e)\n",
    "                    errors.append(link)\n",
    "\n",
    "        if os.path.exists(output_dir) == False:\n",
    "            os.mkdir(output_dir) \n",
    "\n",
    "        for id, book in enumerate(books):\n",
    "            try:\n",
    "                output_path = os.path.join(output_dir, f'book{id}.txt')\n",
    "                with open(output_path, 'w') as file:\n",
    "                    file.write(book)\n",
    "            except Exception as e:\n",
    "                print(e)\n",
    "    \n",
    "    def _process():\n",
    "        pass\n",
    "    \n",
    "\n",
    "        \n",
    "\n",
    "\n",
    "pg = ProjectGutenberg()\n"
   ]
  },
  {
   "cell_type": "code",
   "execution_count": 26,
   "metadata": {},
   "outputs": [
    {
     "name": "stdout",
     "output_type": "stream",
     "text": [
      "https://www.gutenberg.org/ebooks/2701.txt.utf-8\n",
      "﻿The Project Gutenberg eBook of Moby Dick; Or, The Whale\n",
      "    \n",
      "This ebook is for the use of anyone \n"
     ]
    }
   ],
   "source": [
    "link = 'https://www.gutenberg.org/ebooks/2701.txt.utf-8'\n",
    "res = requests.get(link)\n",
    "print(link)\n",
    "print(res.text[:100])\n",
    "with open('sample.txt', 'w') as file:\n",
    "    file.write(res.text)"
   ]
  },
  {
   "cell_type": "code",
   "execution_count": null,
   "metadata": {},
   "outputs": [],
   "source": []
  },
  {
   "cell_type": "code",
   "execution_count": null,
   "metadata": {},
   "outputs": [],
   "source": []
  }
 ],
 "metadata": {
  "kernelspec": {
   "display_name": "torch",
   "language": "python",
   "name": "python3"
  },
  "language_info": {
   "codemirror_mode": {
    "name": "ipython",
    "version": 3
   },
   "file_extension": ".py",
   "mimetype": "text/x-python",
   "name": "python",
   "nbconvert_exporter": "python",
   "pygments_lexer": "ipython3",
   "version": "3.9.16"
  }
 },
 "nbformat": 4,
 "nbformat_minor": 2
}
