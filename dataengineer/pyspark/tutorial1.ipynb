{
 "cells": [
  {
   "cell_type": "markdown",
   "metadata": {},
   "source": [
    "# Tutorial\n",
    "\n",
    "https://www.youtube.com/watch?v=_C8kWso4ne4"
   ]
  },
  {
   "cell_type": "code",
   "execution_count": 1,
   "metadata": {},
   "outputs": [],
   "source": [
    "import pyspark\n",
    "import pandas as pd\n",
    "import os\n",
    "import shutil\n",
    "ROOT = os.getcwd()"
   ]
  },
  {
   "cell_type": "code",
   "execution_count": 2,
   "metadata": {},
   "outputs": [
    {
     "name": "stdout",
     "output_type": "stream",
     "text": [
      "(1000, 6)\n"
     ]
    },
    {
     "data": {
      "text/html": [
       "<div>\n",
       "<style scoped>\n",
       "    .dataframe tbody tr th:only-of-type {\n",
       "        vertical-align: middle;\n",
       "    }\n",
       "\n",
       "    .dataframe tbody tr th {\n",
       "        vertical-align: top;\n",
       "    }\n",
       "\n",
       "    .dataframe thead th {\n",
       "        text-align: right;\n",
       "    }\n",
       "</style>\n",
       "<table border=\"1\" class=\"dataframe\">\n",
       "  <thead>\n",
       "    <tr style=\"text-align: right;\">\n",
       "      <th></th>\n",
       "      <th>id</th>\n",
       "      <th>title</th>\n",
       "      <th>genres</th>\n",
       "      <th>averageRating</th>\n",
       "      <th>numVotes</th>\n",
       "      <th>releaseYear</th>\n",
       "    </tr>\n",
       "  </thead>\n",
       "  <tbody>\n",
       "    <tr>\n",
       "      <th>0</th>\n",
       "      <td>tt0111161</td>\n",
       "      <td>The Shawshank Redemption</td>\n",
       "      <td>[\"Drama\"]</td>\n",
       "      <td>9.3</td>\n",
       "      <td>2951083</td>\n",
       "      <td>1994</td>\n",
       "    </tr>\n",
       "    <tr>\n",
       "      <th>1</th>\n",
       "      <td>tt0068646</td>\n",
       "      <td>The Godfather</td>\n",
       "      <td>[\"Crime\", \"Drama\"]</td>\n",
       "      <td>9.2</td>\n",
       "      <td>2057179</td>\n",
       "      <td>1972</td>\n",
       "    </tr>\n",
       "    <tr>\n",
       "      <th>2</th>\n",
       "      <td>tt0252487</td>\n",
       "      <td>The Chaos Class</td>\n",
       "      <td>[\"Comedy\"]</td>\n",
       "      <td>9.2</td>\n",
       "      <td>43570</td>\n",
       "      <td>1975</td>\n",
       "    </tr>\n",
       "    <tr>\n",
       "      <th>3</th>\n",
       "      <td>tt0259534</td>\n",
       "      <td>Ramayana: The Legend of Prince Rama</td>\n",
       "      <td>[\"Action\", \"Adventure\", \"Animation\"]</td>\n",
       "      <td>9.2</td>\n",
       "      <td>15407</td>\n",
       "      <td>1993</td>\n",
       "    </tr>\n",
       "    <tr>\n",
       "      <th>4</th>\n",
       "      <td>tt16747572</td>\n",
       "      <td>The Silence of Swastika</td>\n",
       "      <td>[\"Documentary\", \"History\"]</td>\n",
       "      <td>9.2</td>\n",
       "      <td>10567</td>\n",
       "      <td>2021</td>\n",
       "    </tr>\n",
       "  </tbody>\n",
       "</table>\n",
       "</div>"
      ],
      "text/plain": [
       "           id                                title  \\\n",
       "0   tt0111161             The Shawshank Redemption   \n",
       "1   tt0068646                        The Godfather   \n",
       "2   tt0252487                      The Chaos Class   \n",
       "3   tt0259534  Ramayana: The Legend of Prince Rama   \n",
       "4  tt16747572              The Silence of Swastika   \n",
       "\n",
       "                                 genres  averageRating  numVotes  releaseYear  \n",
       "0                             [\"Drama\"]            9.3   2951083         1994  \n",
       "1                    [\"Crime\", \"Drama\"]            9.2   2057179         1972  \n",
       "2                            [\"Comedy\"]            9.2     43570         1975  \n",
       "3  [\"Action\", \"Adventure\", \"Animation\"]            9.2     15407         1993  \n",
       "4            [\"Documentary\", \"History\"]            9.2     10567         2021  "
      ]
     },
     "execution_count": 2,
     "metadata": {},
     "output_type": "execute_result"
    }
   ],
   "source": [
    "imdb1000 = os.path.join(ROOT, 'datasets', 'imdb1000.csv') \n",
    "df = pd.read_csv(imdb1000)\n",
    "print(df.shape)\n",
    "df.head()"
   ]
  },
  {
   "cell_type": "code",
   "execution_count": 3,
   "metadata": {},
   "outputs": [],
   "source": [
    "# Starting spark session \n",
    "from pyspark.sql import SparkSession"
   ]
  },
  {
   "cell_type": "code",
   "execution_count": 4,
   "metadata": {},
   "outputs": [
    {
     "name": "stderr",
     "output_type": "stream",
     "text": [
      "24/10/16 14:43:32 WARN Utils: Your hostname, linux resolves to a loopback address: 127.0.1.1; using 192.168.1.112 instead (on interface wlo1)\n",
      "24/10/16 14:43:32 WARN Utils: Set SPARK_LOCAL_IP if you need to bind to another address\n",
      "Setting default log level to \"WARN\".\n",
      "To adjust logging level use sc.setLogLevel(newLevel). For SparkR, use setLogLevel(newLevel).\n",
      "24/10/16 14:43:33 WARN NativeCodeLoader: Unable to load native-hadoop library for your platform... using builtin-java classes where applicable\n"
     ]
    },
    {
     "data": {
      "text/html": [
       "\n",
       "            <div>\n",
       "                <p><b>SparkSession - in-memory</b></p>\n",
       "                \n",
       "        <div>\n",
       "            <p><b>SparkContext</b></p>\n",
       "\n",
       "            <p><a href=\"http://192.168.1.112:4040\">Spark UI</a></p>\n",
       "\n",
       "            <dl>\n",
       "              <dt>Version</dt>\n",
       "                <dd><code>v3.5.1</code></dd>\n",
       "              <dt>Master</dt>\n",
       "                <dd><code>local[*]</code></dd>\n",
       "              <dt>AppName</dt>\n",
       "                <dd><code>practice_app</code></dd>\n",
       "            </dl>\n",
       "        </div>\n",
       "        \n",
       "            </div>\n",
       "        "
      ],
      "text/plain": [
       "<pyspark.sql.session.SparkSession at 0x7c8ebcddedb0>"
      ]
     },
     "execution_count": 4,
     "metadata": {},
     "output_type": "execute_result"
    }
   ],
   "source": [
    "#\n",
    "# SparkSession , introduced in spark 2.0\n",
    "# combines functions: SparkContext, SQLContext, HiveContext, StreamingContext\n",
    "\n",
    "spark = SparkSession.builder.appName('practice_app').getOrCreate()\n",
    "spark"
   ]
  },
  {
   "cell_type": "markdown",
   "metadata": {},
   "source": [
    "# Define a schema"
   ]
  },
  {
   "cell_type": "code",
   "execution_count": 5,
   "metadata": {},
   "outputs": [],
   "source": [
    "from pyspark.sql.types import StructType, StructField, StringType, IntegerType, DoubleType, ArrayType\n",
    "\n",
    "schema = StructType([\n",
    "    StructField(name=\"id\", dataType=StringType(), nullable=True),\n",
    "    StructField(name=\"title\", dataType=StringType(), nullable=True),\n",
    "    StructField(name=\"genres\", dataType=ArrayType(elementType=StringType()), nullable=True),\n",
    "    StructField(name=\"averageRating\", dataType=DoubleType(), nullable=True),\n",
    "    StructField(name=\"numVotes\", dataType=IntegerType(), nullable=True),\n",
    "    StructField(name=\"releaseYear\", dataType=IntegerType(), nullable=True),\n",
    "])\n"
   ]
  },
  {
   "cell_type": "code",
   "execution_count": 6,
   "metadata": {},
   "outputs": [
    {
     "name": "stdout",
     "output_type": "stream",
     "text": [
      "+----------+--------------------+--------------------+-------------+--------+-----------+\n",
      "|        id|               title|              genres|averageRating|numVotes|releaseYear|\n",
      "+----------+--------------------+--------------------+-------------+--------+-----------+\n",
      "| tt0111161|The Shawshank Red...|           [\"Drama\"]|          9.3| 2951083|       1994|\n",
      "| tt0068646|       The Godfather|  [\"Crime\", \"Drama\"]|          9.2| 2057179|       1972|\n",
      "| tt0252487|     The Chaos Class|          [\"Comedy\"]|          9.2|   43570|       1975|\n",
      "| tt0259534|Ramayana: The Leg...|[\"Action\", \"Adven...|          9.2|   15407|       1993|\n",
      "|tt16747572|The Silence of Sw...|[\"Documentary\", \"...|          9.2|   10567|       2021|\n",
      "| tt0468569|     The Dark Knight|[\"Action\", \"Crime...|          9.0| 2932304|       2008|\n",
      "| tt0167260|The Lord of the R...|[\"Action\", \"Adven...|          9.0| 2020203|       2003|\n",
      "| tt0108052|    Schindler's List|[\"Biography\", \"Dr...|          9.0| 1480407|       1993|\n",
      "| tt0071562|The Godfather Par...|  [\"Crime\", \"Drama\"]|          9.0| 1390249|       1974|\n",
      "| tt0050083|        12 Angry Men|  [\"Crime\", \"Drama\"]|          9.0|  888102|       1957|\n",
      "|tt27719898|               Kaiva|[\"Action\", \"Drama...|          9.0|   68911|       2023|\n",
      "| tt0110912|        Pulp Fiction|  [\"Crime\", \"Drama\"]|          8.9| 2266176|       1994|\n",
      "| tt0120737|The Lord of the R...|[\"Action\", \"Adven...|          8.9| 2049867|       2001|\n",
      "| tt5354160|         Mirror Game|[\"Crime\", \"Myster...|          8.9|   30057|       2016|\n",
      "| tt0253828|         Tosun Pasha|          [\"Comedy\"]|          8.9|   24991|       1976|\n",
      "| tt0252488|The Chaos Class F...|          [\"Comedy\"]|          8.9|   24976|       1975|\n",
      "| tt5275892|O.J.: Made in Ame...|[\"Biography\", \"Cr...|          8.9|   22613|       2016|\n",
      "| tt0075143|         The Message|[\"Action\", \"Adven...|          8.9|   10966|       1976|\n",
      "| tt1375666|           Inception|[\"Action\", \"Adven...|          8.8| 2602440|       2010|\n",
      "| tt0137523|          Fight Club|           [\"Drama\"]|          8.8| 2382865|       1999|\n",
      "+----------+--------------------+--------------------+-------------+--------+-----------+\n",
      "only showing top 20 rows\n",
      "\n"
     ]
    }
   ],
   "source": [
    "#Read the csv\n",
    "#escape to tell pyspark that \"[\"\"Action\"\", \"\"Adventure\"\", \"\"Animation\"\"]\" is in 1 column\n",
    "df_spark = spark.read.csv(imdb1000, header = True, inferSchema=True, escape='\"')\n",
    "\n",
    "#specify your own schema\n",
    "#There's an error with this line\n",
    "# df_spark = spark.read.csv(imdb1000, header = True, schema=schema, escape='\"')\n",
    "\n",
    "\n",
    "df_spark.show()"
   ]
  },
  {
   "cell_type": "code",
   "execution_count": 7,
   "metadata": {},
   "outputs": [
    {
     "name": "stdout",
     "output_type": "stream",
     "text": [
      "<class 'pyspark.sql.dataframe.DataFrame'>\n"
     ]
    },
    {
     "data": {
      "text/plain": [
       "[Row(id='tt0111161', title='The Shawshank Redemption', genres='[\"Drama\"]', averageRating=9.3, numVotes=2951083, releaseYear=1994),\n",
       " Row(id='tt0068646', title='The Godfather', genres='[\"Crime\", \"Drama\"]', averageRating=9.2, numVotes=2057179, releaseYear=1972),\n",
       " Row(id='tt0252487', title='The Chaos Class', genres='[\"Comedy\"]', averageRating=9.2, numVotes=43570, releaseYear=1975),\n",
       " Row(id='tt0259534', title='Ramayana: The Legend of Prince Rama', genres='[\"Action\", \"Adventure\", \"Animation\"]', averageRating=9.2, numVotes=15407, releaseYear=1993),\n",
       " Row(id='tt16747572', title='The Silence of Swastika', genres='[\"Documentary\", \"History\"]', averageRating=9.2, numVotes=10567, releaseYear=2021)]"
      ]
     },
     "execution_count": 7,
     "metadata": {},
     "output_type": "execute_result"
    }
   ],
   "source": [
    "print(type(df_spark))\n",
    "df_spark.head(5)"
   ]
  },
  {
   "cell_type": "code",
   "execution_count": 8,
   "metadata": {},
   "outputs": [
    {
     "name": "stdout",
     "output_type": "stream",
     "text": [
      "root\n",
      " |-- id: string (nullable = true)\n",
      " |-- title: string (nullable = true)\n",
      " |-- genres: string (nullable = true)\n",
      " |-- averageRating: double (nullable = true)\n",
      " |-- numVotes: integer (nullable = true)\n",
      " |-- releaseYear: integer (nullable = true)\n",
      "\n"
     ]
    }
   ],
   "source": [
    "df_spark.printSchema()"
   ]
  },
  {
   "cell_type": "markdown",
   "metadata": {},
   "source": [
    "# Indexing"
   ]
  },
  {
   "cell_type": "code",
   "execution_count": 9,
   "metadata": {},
   "outputs": [
    {
     "name": "stdout",
     "output_type": "stream",
     "text": [
      ".select() returns DataFrame type = <class 'pyspark.sql.dataframe.DataFrame'>\n",
      "Column type  Column<'title'>\n",
      "NOTE: Column doesn't have show()\n",
      "+--------------------+\n",
      "|               title|\n",
      "+--------------------+\n",
      "|The Shawshank Red...|\n",
      "|       The Godfather|\n",
      "|     The Chaos Class|\n",
      "|Ramayana: The Leg...|\n",
      "|The Silence of Sw...|\n",
      "|     The Dark Knight|\n",
      "|The Lord of the R...|\n",
      "|    Schindler's List|\n",
      "|The Godfather Par...|\n",
      "|        12 Angry Men|\n",
      "|               Kaiva|\n",
      "|        Pulp Fiction|\n",
      "|The Lord of the R...|\n",
      "|         Mirror Game|\n",
      "|         Tosun Pasha|\n",
      "|The Chaos Class F...|\n",
      "|O.J.: Made in Ame...|\n",
      "|         The Message|\n",
      "|           Inception|\n",
      "|          Fight Club|\n",
      "+--------------------+\n",
      "only showing top 20 rows\n",
      "\n"
     ]
    }
   ],
   "source": [
    "col = df_spark.select('title')\n",
    "print('.select() returns DataFrame type =' , type(col))\n",
    "print('Column type ', df_spark['title'])\n",
    "print(\"NOTE: Column doesn't have show()\")\n",
    "col.show()"
   ]
  },
  {
   "cell_type": "code",
   "execution_count": 10,
   "metadata": {},
   "outputs": [
    {
     "name": "stderr",
     "output_type": "stream",
     "text": [
      "24/10/16 14:43:36 WARN SparkStringUtils: Truncated the string representation of a plan since it was too large. This behavior can be adjusted by setting 'spark.sql.debug.maxToStringFields'.\n"
     ]
    },
    {
     "name": "stdout",
     "output_type": "stream",
     "text": [
      "+-------+---------+------------------+--------------------+-------------------+-----------------+------------------+\n",
      "|summary|       id|             title|              genres|      averageRating|         numVotes|       releaseYear|\n",
      "+-------+---------+------------------+--------------------+-------------------+-----------------+------------------+\n",
      "|  count|     1000|              1000|                1000|               1000|             1000|              1000|\n",
      "|   mean|     NULL|1343.6666666666667|                NULL|  8.136899999999924|       276016.383|          1992.287|\n",
      "| stddev|     NULL|1081.6904979398373|                NULL|0.25383621259155775|427301.1837930772|25.646761732963196|\n",
      "|    min|tt0010323|             #Home|[\"Action\", \"Adven...|                7.8|            10122|              1920|\n",
      "|    max|tt9900782|             Zübük|         [\"Western\"]|                9.3|          2951083|              2024|\n",
      "+-------+---------+------------------+--------------------+-------------------+-----------------+------------------+\n",
      "\n"
     ]
    }
   ],
   "source": [
    "df_spark.describe().show()"
   ]
  },
  {
   "cell_type": "markdown",
   "metadata": {},
   "source": [
    "# Add column"
   ]
  },
  {
   "cell_type": "code",
   "execution_count": 11,
   "metadata": {},
   "outputs": [
    {
     "name": "stdout",
     "output_type": "stream",
     "text": [
      "+----------+--------------------+--------------------+-------------+--------+-----------+------+\n",
      "|        id|               title|              genres|averageRating|numVotes|releaseYear|newCol|\n",
      "+----------+--------------------+--------------------+-------------+--------+-----------+------+\n",
      "| tt0111161|The Shawshank Red...|           [\"Drama\"]|          9.3| 2951083|       1994|   994|\n",
      "| tt0068646|       The Godfather|  [\"Crime\", \"Drama\"]|          9.2| 2057179|       1972|   972|\n",
      "| tt0252487|     The Chaos Class|          [\"Comedy\"]|          9.2|   43570|       1975|   975|\n",
      "| tt0259534|Ramayana: The Leg...|[\"Action\", \"Adven...|          9.2|   15407|       1993|   993|\n",
      "|tt16747572|The Silence of Sw...|[\"Documentary\", \"...|          9.2|   10567|       2021|  1021|\n",
      "| tt0468569|     The Dark Knight|[\"Action\", \"Crime...|          9.0| 2932304|       2008|  1008|\n",
      "| tt0167260|The Lord of the R...|[\"Action\", \"Adven...|          9.0| 2020203|       2003|  1003|\n",
      "| tt0108052|    Schindler's List|[\"Biography\", \"Dr...|          9.0| 1480407|       1993|   993|\n",
      "| tt0071562|The Godfather Par...|  [\"Crime\", \"Drama\"]|          9.0| 1390249|       1974|   974|\n",
      "| tt0050083|        12 Angry Men|  [\"Crime\", \"Drama\"]|          9.0|  888102|       1957|   957|\n",
      "|tt27719898|               Kaiva|[\"Action\", \"Drama...|          9.0|   68911|       2023|  1023|\n",
      "| tt0110912|        Pulp Fiction|  [\"Crime\", \"Drama\"]|          8.9| 2266176|       1994|   994|\n",
      "| tt0120737|The Lord of the R...|[\"Action\", \"Adven...|          8.9| 2049867|       2001|  1001|\n",
      "| tt5354160|         Mirror Game|[\"Crime\", \"Myster...|          8.9|   30057|       2016|  1016|\n",
      "| tt0253828|         Tosun Pasha|          [\"Comedy\"]|          8.9|   24991|       1976|   976|\n",
      "| tt0252488|The Chaos Class F...|          [\"Comedy\"]|          8.9|   24976|       1975|   975|\n",
      "| tt5275892|O.J.: Made in Ame...|[\"Biography\", \"Cr...|          8.9|   22613|       2016|  1016|\n",
      "| tt0075143|         The Message|[\"Action\", \"Adven...|          8.9|   10966|       1976|   976|\n",
      "| tt1375666|           Inception|[\"Action\", \"Adven...|          8.8| 2602440|       2010|  1010|\n",
      "| tt0137523|          Fight Club|           [\"Drama\"]|          8.8| 2382865|       1999|   999|\n",
      "+----------+--------------------+--------------------+-------------+--------+-----------+------+\n",
      "only showing top 20 rows\n",
      "\n"
     ]
    }
   ],
   "source": [
    "df_spark = df_spark.withColumn('newCol', df_spark['releaseYear'] - 1000)\n",
    "df_spark.show()"
   ]
  },
  {
   "cell_type": "markdown",
   "metadata": {},
   "source": [
    "# Drop col"
   ]
  },
  {
   "cell_type": "code",
   "execution_count": 12,
   "metadata": {},
   "outputs": [
    {
     "name": "stdout",
     "output_type": "stream",
     "text": [
      "+----------+--------------------+--------------------+-------------+--------+-----------+\n",
      "|        id|               title|              genres|averageRating|numVotes|releaseYear|\n",
      "+----------+--------------------+--------------------+-------------+--------+-----------+\n",
      "| tt0111161|The Shawshank Red...|           [\"Drama\"]|          9.3| 2951083|       1994|\n",
      "| tt0068646|       The Godfather|  [\"Crime\", \"Drama\"]|          9.2| 2057179|       1972|\n",
      "| tt0252487|     The Chaos Class|          [\"Comedy\"]|          9.2|   43570|       1975|\n",
      "| tt0259534|Ramayana: The Leg...|[\"Action\", \"Adven...|          9.2|   15407|       1993|\n",
      "|tt16747572|The Silence of Sw...|[\"Documentary\", \"...|          9.2|   10567|       2021|\n",
      "| tt0468569|     The Dark Knight|[\"Action\", \"Crime...|          9.0| 2932304|       2008|\n",
      "| tt0167260|The Lord of the R...|[\"Action\", \"Adven...|          9.0| 2020203|       2003|\n",
      "| tt0108052|    Schindler's List|[\"Biography\", \"Dr...|          9.0| 1480407|       1993|\n",
      "| tt0071562|The Godfather Par...|  [\"Crime\", \"Drama\"]|          9.0| 1390249|       1974|\n",
      "| tt0050083|        12 Angry Men|  [\"Crime\", \"Drama\"]|          9.0|  888102|       1957|\n",
      "|tt27719898|               Kaiva|[\"Action\", \"Drama...|          9.0|   68911|       2023|\n",
      "| tt0110912|        Pulp Fiction|  [\"Crime\", \"Drama\"]|          8.9| 2266176|       1994|\n",
      "| tt0120737|The Lord of the R...|[\"Action\", \"Adven...|          8.9| 2049867|       2001|\n",
      "| tt5354160|         Mirror Game|[\"Crime\", \"Myster...|          8.9|   30057|       2016|\n",
      "| tt0253828|         Tosun Pasha|          [\"Comedy\"]|          8.9|   24991|       1976|\n",
      "| tt0252488|The Chaos Class F...|          [\"Comedy\"]|          8.9|   24976|       1975|\n",
      "| tt5275892|O.J.: Made in Ame...|[\"Biography\", \"Cr...|          8.9|   22613|       2016|\n",
      "| tt0075143|         The Message|[\"Action\", \"Adven...|          8.9|   10966|       1976|\n",
      "| tt1375666|           Inception|[\"Action\", \"Adven...|          8.8| 2602440|       2010|\n",
      "| tt0137523|          Fight Club|           [\"Drama\"]|          8.8| 2382865|       1999|\n",
      "+----------+--------------------+--------------------+-------------+--------+-----------+\n",
      "only showing top 20 rows\n",
      "\n"
     ]
    }
   ],
   "source": [
    "df_spark = df_spark.drop('newCol')\n",
    "df_spark.show()"
   ]
  },
  {
   "cell_type": "markdown",
   "metadata": {},
   "source": [
    "# Rename col"
   ]
  },
  {
   "cell_type": "code",
   "execution_count": 13,
   "metadata": {},
   "outputs": [
    {
     "name": "stdout",
     "output_type": "stream",
     "text": [
      "+----------+--------------------+--------------------+-------------+--------+----+\n",
      "|        id|               title|              genres|averageRating|numVotes|year|\n",
      "+----------+--------------------+--------------------+-------------+--------+----+\n",
      "| tt0111161|The Shawshank Red...|           [\"Drama\"]|          9.3| 2951083|1994|\n",
      "| tt0068646|       The Godfather|  [\"Crime\", \"Drama\"]|          9.2| 2057179|1972|\n",
      "| tt0252487|     The Chaos Class|          [\"Comedy\"]|          9.2|   43570|1975|\n",
      "| tt0259534|Ramayana: The Leg...|[\"Action\", \"Adven...|          9.2|   15407|1993|\n",
      "|tt16747572|The Silence of Sw...|[\"Documentary\", \"...|          9.2|   10567|2021|\n",
      "| tt0468569|     The Dark Knight|[\"Action\", \"Crime...|          9.0| 2932304|2008|\n",
      "| tt0167260|The Lord of the R...|[\"Action\", \"Adven...|          9.0| 2020203|2003|\n",
      "| tt0108052|    Schindler's List|[\"Biography\", \"Dr...|          9.0| 1480407|1993|\n",
      "| tt0071562|The Godfather Par...|  [\"Crime\", \"Drama\"]|          9.0| 1390249|1974|\n",
      "| tt0050083|        12 Angry Men|  [\"Crime\", \"Drama\"]|          9.0|  888102|1957|\n",
      "|tt27719898|               Kaiva|[\"Action\", \"Drama...|          9.0|   68911|2023|\n",
      "| tt0110912|        Pulp Fiction|  [\"Crime\", \"Drama\"]|          8.9| 2266176|1994|\n",
      "| tt0120737|The Lord of the R...|[\"Action\", \"Adven...|          8.9| 2049867|2001|\n",
      "| tt5354160|         Mirror Game|[\"Crime\", \"Myster...|          8.9|   30057|2016|\n",
      "| tt0253828|         Tosun Pasha|          [\"Comedy\"]|          8.9|   24991|1976|\n",
      "| tt0252488|The Chaos Class F...|          [\"Comedy\"]|          8.9|   24976|1975|\n",
      "| tt5275892|O.J.: Made in Ame...|[\"Biography\", \"Cr...|          8.9|   22613|2016|\n",
      "| tt0075143|         The Message|[\"Action\", \"Adven...|          8.9|   10966|1976|\n",
      "| tt1375666|           Inception|[\"Action\", \"Adven...|          8.8| 2602440|2010|\n",
      "| tt0137523|          Fight Club|           [\"Drama\"]|          8.8| 2382865|1999|\n",
      "+----------+--------------------+--------------------+-------------+--------+----+\n",
      "only showing top 20 rows\n",
      "\n"
     ]
    }
   ],
   "source": [
    "df_spark = df_spark.withColumnRenamed('releaseYear', 'year')\n",
    "df_spark.show()"
   ]
  },
  {
   "cell_type": "code",
   "execution_count": 14,
   "metadata": {},
   "outputs": [
    {
     "name": "stdout",
     "output_type": "stream",
     "text": [
      "+----------+--------------------+--------------------+-------------+--------+-----------+\n",
      "|        id|               title|              genres|averageRating|numVotes|releaseYear|\n",
      "+----------+--------------------+--------------------+-------------+--------+-----------+\n",
      "| tt0111161|The Shawshank Red...|           [\"Drama\"]|          9.3| 2951083|       1994|\n",
      "| tt0068646|       The Godfather|  [\"Crime\", \"Drama\"]|          9.2| 2057179|       1972|\n",
      "| tt0252487|     The Chaos Class|          [\"Comedy\"]|          9.2|   43570|       1975|\n",
      "| tt0259534|Ramayana: The Leg...|[\"Action\", \"Adven...|          9.2|   15407|       1993|\n",
      "|tt16747572|The Silence of Sw...|[\"Documentary\", \"...|          9.2|   10567|       2021|\n",
      "| tt0468569|     The Dark Knight|[\"Action\", \"Crime...|          9.0| 2932304|       2008|\n",
      "| tt0167260|The Lord of the R...|[\"Action\", \"Adven...|          9.0| 2020203|       2003|\n",
      "| tt0108052|    Schindler's List|[\"Biography\", \"Dr...|          9.0| 1480407|       1993|\n",
      "| tt0071562|The Godfather Par...|  [\"Crime\", \"Drama\"]|          9.0| 1390249|       1974|\n",
      "| tt0050083|        12 Angry Men|  [\"Crime\", \"Drama\"]|          9.0|  888102|       1957|\n",
      "|tt27719898|               Kaiva|[\"Action\", \"Drama...|          9.0|   68911|       2023|\n",
      "| tt0110912|        Pulp Fiction|  [\"Crime\", \"Drama\"]|          8.9| 2266176|       1994|\n",
      "| tt0120737|The Lord of the R...|[\"Action\", \"Adven...|          8.9| 2049867|       2001|\n",
      "| tt5354160|         Mirror Game|[\"Crime\", \"Myster...|          8.9|   30057|       2016|\n",
      "| tt0253828|         Tosun Pasha|          [\"Comedy\"]|          8.9|   24991|       1976|\n",
      "| tt0252488|The Chaos Class F...|          [\"Comedy\"]|          8.9|   24976|       1975|\n",
      "| tt5275892|O.J.: Made in Ame...|[\"Biography\", \"Cr...|          8.9|   22613|       2016|\n",
      "| tt0075143|         The Message|[\"Action\", \"Adven...|          8.9|   10966|       1976|\n",
      "| tt1375666|           Inception|[\"Action\", \"Adven...|          8.8| 2602440|       2010|\n",
      "| tt0137523|          Fight Club|           [\"Drama\"]|          8.8| 2382865|       1999|\n",
      "+----------+--------------------+--------------------+-------------+--------+-----------+\n",
      "only showing top 20 rows\n",
      "\n"
     ]
    }
   ],
   "source": [
    "df_spark = df_spark.withColumnRenamed('year', 'releaseYear')\n",
    "df_spark.show()"
   ]
  },
  {
   "cell_type": "markdown",
   "metadata": {},
   "source": [
    "# Handle missing values\n",
    "\n",
    "- drop cols\n",
    "- drop rows\n",
    "- many parameters\n",
    "- handle missing values by mean, median, mode"
   ]
  },
  {
   "cell_type": "code",
   "execution_count": 15,
   "metadata": {},
   "outputs": [
    {
     "name": "stdout",
     "output_type": "stream",
     "text": [
      "original rows # =  1000\n",
      "rows # after dropping NAs 1000\n"
     ]
    }
   ],
   "source": [
    "#drop missing values\n",
    "\n",
    "print('original rows # = ', df_spark.count())\n",
    "test = df_spark.na.drop()\n",
    "#another way\n",
    "# test = df_spark.dropna()\n",
    "#drop Args:\n",
    "# - axis: 0 defualt\n",
    "# - how: 'any', 'all'\n",
    "# - thresh: int, requires # of NAs to drop\n",
    "# - inplace\n",
    "# - subset: list of columns to consider, if not set, consider all columns\n",
    "\n",
    "print('rows # after dropping NAs' ,test.count())"
   ]
  },
  {
   "cell_type": "markdown",
   "metadata": {},
   "source": [
    "# Fill missing values"
   ]
  },
  {
   "cell_type": "code",
   "execution_count": 16,
   "metadata": {},
   "outputs": [
    {
     "data": {
      "text/plain": [
       "DataFrame[id: string, title: string, genres: string, averageRating: double, numVotes: int, releaseYear: int]"
      ]
     },
     "execution_count": 16,
     "metadata": {},
     "output_type": "execute_result"
    }
   ],
   "source": [
    "df_spark.fillna('Value To Fill', subset=['title', 'genres'])"
   ]
  },
  {
   "cell_type": "markdown",
   "metadata": {},
   "source": [
    "# Filtering"
   ]
  },
  {
   "cell_type": "code",
   "execution_count": 17,
   "metadata": {},
   "outputs": [
    {
     "name": "stdout",
     "output_type": "stream",
     "text": [
      "+----------+--------------------+--------------------+-------------+--------+-----------+\n",
      "|        id|               title|              genres|averageRating|numVotes|releaseYear|\n",
      "+----------+--------------------+--------------------+-------------+--------+-----------+\n",
      "| tt0111161|The Shawshank Red...|           [\"Drama\"]|          9.3| 2951083|       1994|\n",
      "| tt0068646|       The Godfather|  [\"Crime\", \"Drama\"]|          9.2| 2057179|       1972|\n",
      "| tt0252487|     The Chaos Class|          [\"Comedy\"]|          9.2|   43570|       1975|\n",
      "| tt0259534|Ramayana: The Leg...|[\"Action\", \"Adven...|          9.2|   15407|       1993|\n",
      "|tt16747572|The Silence of Sw...|[\"Documentary\", \"...|          9.2|   10567|       2021|\n",
      "| tt0468569|     The Dark Knight|[\"Action\", \"Crime...|          9.0| 2932304|       2008|\n",
      "| tt0167260|The Lord of the R...|[\"Action\", \"Adven...|          9.0| 2020203|       2003|\n",
      "| tt0108052|    Schindler's List|[\"Biography\", \"Dr...|          9.0| 1480407|       1993|\n",
      "| tt0071562|The Godfather Par...|  [\"Crime\", \"Drama\"]|          9.0| 1390249|       1974|\n",
      "| tt0050083|        12 Angry Men|  [\"Crime\", \"Drama\"]|          9.0|  888102|       1957|\n",
      "|tt27719898|               Kaiva|[\"Action\", \"Drama...|          9.0|   68911|       2023|\n",
      "+----------+--------------------+--------------------+-------------+--------+-----------+\n",
      "\n",
      "<class 'pyspark.sql.dataframe.DataFrame'>\n",
      "filtered count =  11\n"
     ]
    }
   ],
   "source": [
    "filtered = df_spark.filter(\"averageRating >= 9.0\")\n",
    "filtered.show()\n",
    "print(type(filtered))\n",
    "print('filtered count = ', filtered.count())"
   ]
  },
  {
   "cell_type": "code",
   "execution_count": 18,
   "metadata": {},
   "outputs": [
    {
     "name": "stdout",
     "output_type": "stream",
     "text": [
      "+----------+--------------------+--------------------+-------------+--------+-----------+\n",
      "|        id|               title|              genres|averageRating|numVotes|releaseYear|\n",
      "+----------+--------------------+--------------------+-------------+--------+-----------+\n",
      "| tt0068646|       The Godfather|  [\"Crime\", \"Drama\"]|          9.2| 2057179|       1972|\n",
      "| tt0252487|     The Chaos Class|          [\"Comedy\"]|          9.2|   43570|       1975|\n",
      "| tt0259534|Ramayana: The Leg...|[\"Action\", \"Adven...|          9.2|   15407|       1993|\n",
      "|tt16747572|The Silence of Sw...|[\"Documentary\", \"...|          9.2|   10567|       2021|\n",
      "| tt0468569|     The Dark Knight|[\"Action\", \"Crime...|          9.0| 2932304|       2008|\n",
      "| tt0167260|The Lord of the R...|[\"Action\", \"Adven...|          9.0| 2020203|       2003|\n",
      "| tt0108052|    Schindler's List|[\"Biography\", \"Dr...|          9.0| 1480407|       1993|\n",
      "| tt0071562|The Godfather Par...|  [\"Crime\", \"Drama\"]|          9.0| 1390249|       1974|\n",
      "| tt0050083|        12 Angry Men|  [\"Crime\", \"Drama\"]|          9.0|  888102|       1957|\n",
      "|tt27719898|               Kaiva|[\"Action\", \"Drama...|          9.0|   68911|       2023|\n",
      "+----------+--------------------+--------------------+-------------+--------+-----------+\n",
      "\n",
      "10\n"
     ]
    }
   ],
   "source": [
    "# same thing\n",
    "filtered = df_spark.filter(\n",
    "    (df_spark['averageRating'] >= 9.0)\n",
    "      & (df_spark['averageRating'] <= 9.2))\n",
    "filtered.show()\n",
    "print(filtered.count())"
   ]
  },
  {
   "cell_type": "markdown",
   "metadata": {},
   "source": [
    "# Apply aggregate and groupby"
   ]
  },
  {
   "cell_type": "code",
   "execution_count": 19,
   "metadata": {},
   "outputs": [
    {
     "name": "stdout",
     "output_type": "stream",
     "text": [
      "avg_rating_by_year =  103\n",
      "+-----------+------------------+------------------+----------------+\n",
      "|releaseYear|avg(averageRating)|     avg(numVotes)|avg(releaseYear)|\n",
      "+-----------+------------------+------------------+----------------+\n",
      "|       1959| 8.162500000000001|         149644.75|          1959.0|\n",
      "|       1990|               8.2|          431445.8|          1990.0|\n",
      "|       1975| 8.315384615384614|235622.76923076922|          1975.0|\n",
      "|       1977|              8.33|          188227.6|          1977.0|\n",
      "|       1924| 8.066666666666666|28420.666666666668|          1924.0|\n",
      "|       2003|  8.12857142857143|          406767.0|          2003.0|\n",
      "|       2007| 8.000000000000004|         292007.65|          2007.0|\n",
      "|       2018|             8.224|         163624.52|          2018.0|\n",
      "|       1974| 8.185714285714285|285517.28571428574|          1974.0|\n",
      "|       2015| 8.066666666666668|        315840.375|          2015.0|\n",
      "|       2023|           8.24375|       139384.6875|          2023.0|\n",
      "|       1927|               8.2|          121632.0|          1927.0|\n",
      "|       1955| 8.120000000000001|           52996.2|          1955.0|\n",
      "|       2006| 8.122222222222224| 422087.1666666667|          2006.0|\n",
      "|       2022| 8.230434782608697|152995.95652173914|          2022.0|\n",
      "|       1978|              8.34|           91382.0|          1978.0|\n",
      "|       1925|               8.0|           91373.0|          1925.0|\n",
      "|       1961|            8.0125|         53218.125|          1961.0|\n",
      "|       2013| 8.042307692307693| 285370.8461538461|          2013.0|\n",
      "|       1942|             8.125|         176156.25|          1942.0|\n",
      "+-----------+------------------+------------------+----------------+\n",
      "only showing top 20 rows\n",
      "\n"
     ]
    }
   ],
   "source": [
    "avg_rating_by_year = df_spark.groupBy('releaseYear').mean()\n",
    "\n",
    "print('avg_rating_by_year = ', avg_rating_by_year.count())\n",
    "avg_rating_by_year.show()\n"
   ]
  },
  {
   "cell_type": "code",
   "execution_count": 23,
   "metadata": {},
   "outputs": [
    {
     "name": "stdout",
     "output_type": "stream",
     "text": [
      "+-----------+------------------+-------------+\n",
      "|releaseYear|avg(averageRating)|sum(numVotes)|\n",
      "+-----------+------------------+-------------+\n",
      "|       1959| 8.162500000000001|      1197158|\n",
      "|       1990|               8.2|      2157229|\n",
      "|       1975| 8.315384615384614|      3063096|\n",
      "|       1977|              8.33|      1882276|\n",
      "|       1924| 8.066666666666666|        85262|\n",
      "|       2003|  8.12857142857143|      8542107|\n",
      "|       2007| 8.000000000000004|      5840153|\n",
      "|       2018|             8.224|      4090613|\n",
      "|       1974| 8.185714285714285|      1998621|\n",
      "|       2015| 8.066666666666668|      7580169|\n",
      "|       2023|           8.24375|      2230155|\n",
      "|       1927|               8.2|       243264|\n",
      "|       1955| 8.120000000000001|       264981|\n",
      "|       2006| 8.122222222222224|      7597569|\n",
      "|       2022| 8.230434782608697|      3518907|\n",
      "|       1978|              8.34|       456910|\n",
      "|       1925|               8.0|       182746|\n",
      "|       1961|            8.0125|       425745|\n",
      "|       2013| 8.042307692307693|      7419642|\n",
      "|       1942|             8.125|       704625|\n",
      "+-----------+------------------+-------------+\n",
      "only showing top 20 rows\n",
      "\n"
     ]
    }
   ],
   "source": [
    "#agg by different columns\n",
    "group_agg = df_spark.groupBy('releaseYear').agg({'averageRating': 'avg', 'numVotes': 'sum'})\n",
    "group_agg.show()"
   ]
  },
  {
   "cell_type": "markdown",
   "metadata": {},
   "source": [
    "# Joining \n",
    "\n",
    "df1.join(df2, 'col_to_match', 'inner') # inner, outer, full, ..."
   ]
  },
  {
   "cell_type": "code",
   "execution_count": null,
   "metadata": {},
   "outputs": [],
   "source": [
    "# df1.join(df2, 'col_to_match', 'inner') # inner, outer, full, ..."
   ]
  },
  {
   "cell_type": "markdown",
   "metadata": {},
   "source": [
    "# Sort\n",
    "\n",
    ".orderBy('averageRating')\n",
    "\n",
    "pyspark.sql.functions.col\n",
    "pyspark.sql.functions.desc\n",
    "\n",
    "\n",
    "# order by priorities, if price is equal, check id\n",
    "\n",
    ".orderBy( \n",
    "    col('price').desc(), \n",
    "    col('id').desc() \n",
    ")\n",
    "\n"
   ]
  },
  {
   "cell_type": "markdown",
   "metadata": {},
   "source": [
    "# Register DF as Table and use SQL "
   ]
  },
  {
   "cell_type": "code",
   "execution_count": 25,
   "metadata": {},
   "outputs": [],
   "source": [
    "df_spark.createOrReplaceTempView('imdb') #register df as table"
   ]
  },
  {
   "cell_type": "code",
   "execution_count": 26,
   "metadata": {},
   "outputs": [
    {
     "name": "stdout",
     "output_type": "stream",
     "text": [
      "+----------+--------------------+--------------------+-------------+--------+-----------+\n",
      "|        id|               title|              genres|averageRating|numVotes|releaseYear|\n",
      "+----------+--------------------+--------------------+-------------+--------+-----------+\n",
      "| tt0111161|The Shawshank Red...|           [\"Drama\"]|          9.3| 2951083|       1994|\n",
      "| tt0068646|       The Godfather|  [\"Crime\", \"Drama\"]|          9.2| 2057179|       1972|\n",
      "| tt0252487|     The Chaos Class|          [\"Comedy\"]|          9.2|   43570|       1975|\n",
      "| tt0259534|Ramayana: The Leg...|[\"Action\", \"Adven...|          9.2|   15407|       1993|\n",
      "|tt16747572|The Silence of Sw...|[\"Documentary\", \"...|          9.2|   10567|       2021|\n",
      "| tt0468569|     The Dark Knight|[\"Action\", \"Crime...|          9.0| 2932304|       2008|\n",
      "| tt0167260|The Lord of the R...|[\"Action\", \"Adven...|          9.0| 2020203|       2003|\n",
      "| tt0108052|    Schindler's List|[\"Biography\", \"Dr...|          9.0| 1480407|       1993|\n",
      "| tt0071562|The Godfather Par...|  [\"Crime\", \"Drama\"]|          9.0| 1390249|       1974|\n",
      "| tt0050083|        12 Angry Men|  [\"Crime\", \"Drama\"]|          9.0|  888102|       1957|\n",
      "|tt27719898|               Kaiva|[\"Action\", \"Drama...|          9.0|   68911|       2023|\n",
      "| tt0110912|        Pulp Fiction|  [\"Crime\", \"Drama\"]|          8.9| 2266176|       1994|\n",
      "| tt0120737|The Lord of the R...|[\"Action\", \"Adven...|          8.9| 2049867|       2001|\n",
      "| tt5354160|         Mirror Game|[\"Crime\", \"Myster...|          8.9|   30057|       2016|\n",
      "| tt0253828|         Tosun Pasha|          [\"Comedy\"]|          8.9|   24991|       1976|\n",
      "| tt0252488|The Chaos Class F...|          [\"Comedy\"]|          8.9|   24976|       1975|\n",
      "| tt5275892|O.J.: Made in Ame...|[\"Biography\", \"Cr...|          8.9|   22613|       2016|\n",
      "| tt0075143|         The Message|[\"Action\", \"Adven...|          8.9|   10966|       1976|\n",
      "| tt1375666|           Inception|[\"Action\", \"Adven...|          8.8| 2602440|       2010|\n",
      "| tt0137523|          Fight Club|           [\"Drama\"]|          8.8| 2382865|       1999|\n",
      "+----------+--------------------+--------------------+-------------+--------+-----------+\n",
      "only showing top 20 rows\n",
      "\n"
     ]
    }
   ],
   "source": [
    "df_spark.show()"
   ]
  },
  {
   "cell_type": "code",
   "execution_count": 29,
   "metadata": {},
   "outputs": [
    {
     "name": "stdout",
     "output_type": "stream",
     "text": [
      "count =  11\n",
      "+----------+--------------------+--------------------+-------------+--------+-----------+\n",
      "|        id|               title|              genres|averageRating|numVotes|releaseYear|\n",
      "+----------+--------------------+--------------------+-------------+--------+-----------+\n",
      "| tt0111161|The Shawshank Red...|           [\"Drama\"]|          9.3| 2951083|       1994|\n",
      "| tt0068646|       The Godfather|  [\"Crime\", \"Drama\"]|          9.2| 2057179|       1972|\n",
      "| tt0252487|     The Chaos Class|          [\"Comedy\"]|          9.2|   43570|       1975|\n",
      "| tt0259534|Ramayana: The Leg...|[\"Action\", \"Adven...|          9.2|   15407|       1993|\n",
      "|tt16747572|The Silence of Sw...|[\"Documentary\", \"...|          9.2|   10567|       2021|\n",
      "| tt0468569|     The Dark Knight|[\"Action\", \"Crime...|          9.0| 2932304|       2008|\n",
      "| tt0167260|The Lord of the R...|[\"Action\", \"Adven...|          9.0| 2020203|       2003|\n",
      "| tt0108052|    Schindler's List|[\"Biography\", \"Dr...|          9.0| 1480407|       1993|\n",
      "| tt0071562|The Godfather Par...|  [\"Crime\", \"Drama\"]|          9.0| 1390249|       1974|\n",
      "| tt0050083|        12 Angry Men|  [\"Crime\", \"Drama\"]|          9.0|  888102|       1957|\n",
      "|tt27719898|               Kaiva|[\"Action\", \"Drama...|          9.0|   68911|       2023|\n",
      "+----------+--------------------+--------------------+-------------+--------+-----------+\n",
      "\n"
     ]
    }
   ],
   "source": [
    "result = spark.sql('SELECT * FROM imdb WHERE averageRating >= 9.0')\n",
    "print('count = ', result.count())\n",
    "result.show()"
   ]
  },
  {
   "cell_type": "markdown",
   "metadata": {},
   "source": [
    "# Remove temporary view from df"
   ]
  },
  {
   "cell_type": "code",
   "execution_count": 30,
   "metadata": {},
   "outputs": [
    {
     "data": {
      "text/plain": [
       "True"
      ]
     },
     "execution_count": 30,
     "metadata": {},
     "output_type": "execute_result"
    }
   ],
   "source": [
    "spark.catalog.dropTempView('imdb')"
   ]
  },
  {
   "cell_type": "markdown",
   "metadata": {},
   "source": [
    "# Subqueries"
   ]
  },
  {
   "cell_type": "code",
   "execution_count": null,
   "metadata": {},
   "outputs": [],
   "source": []
  },
  {
   "cell_type": "code",
   "execution_count": 31,
   "metadata": {},
   "outputs": [],
   "source": [
    "spark.stop()"
   ]
  },
  {
   "cell_type": "code",
   "execution_count": null,
   "metadata": {},
   "outputs": [],
   "source": []
  }
 ],
 "metadata": {
  "kernelspec": {
   "display_name": "pyspark",
   "language": "python",
   "name": "python3"
  },
  "language_info": {
   "codemirror_mode": {
    "name": "ipython",
    "version": 3
   },
   "file_extension": ".py",
   "mimetype": "text/x-python",
   "name": "python",
   "nbconvert_exporter": "python",
   "pygments_lexer": "ipython3",
   "version": "3.12.7"
  }
 },
 "nbformat": 4,
 "nbformat_minor": 2
}
